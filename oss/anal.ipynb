{
 "cells": [
  {
   "cell_type": "code",
   "execution_count": 2,
   "metadata": {},
   "outputs": [
    {
     "data": {
      "text/plain": [
       "'/home/viet/OneDrive/Studying_Materials/Data_Visualization/FootballVizualization/oss'"
      ]
     },
     "execution_count": 2,
     "metadata": {},
     "output_type": "execute_result"
    }
   ],
   "source": [
    "import os\n",
    "\n",
    "import pandas as pd\n",
    "import plotly.express as px\n",
    "import plotly.graph_objects as go\n",
    "from dash import dcc, html, Input, Output\n",
    "from jupyter_dash import JupyterDash\n",
    "px.defaults.template = \"simple_white\"\n",
    "os.getcwd()"
   ]
  },
  {
   "cell_type": "code",
   "execution_count": 3,
   "metadata": {},
   "outputs": [],
   "source": [
    "file_name_dict = {\n",
    "    \"zone_against\" : \"stage-attempt-zones-against.csv\",\n",
    "    \"zone_for\" : \"stage-attempt-zones-against.csv\",\n",
    "    \"direction_against\" : \"stage-attempt-directions-against.csv\",\n",
    "    \"direction_for\" : \"stage-attempt-directions-for.csv\",\n",
    "    \"offensive\" : \"stage-team-stats-offensive.csv\"\n",
    "}\n",
    "LEAGUE = [\"Bundesliga\", \"EPL\", \"LaLiga\", \"Ligue1\", \"SerieA\"]\n",
    "\n",
    "def gather_season_all_league():\n",
    "    df = pd.DataFrame()\n",
    "    for mode in [\"for\", \"against\"]:\n",
    "        for league in LEAGUE:\n",
    "            df = pd.concat([df, gather_season(league, mode)], ignore_index=False)\n",
    "    return df\n",
    "\n",
    "\n",
    "def gather_season(league, mode):\n",
    "    assert mode in [\"for\", \"against\"]\n",
    "    if isinstance(league, str):\n",
    "        assert league in LEAGUE, \"ayo wrong league name dude\"\n",
    "    else:\n",
    "        assert False, \"wrong type mah dude\"\n",
    "\n",
    "    df_league = pd.DataFrame()\n",
    "    season_path = os.path.join(\"../data\", league)\n",
    "    for folder_name in os.listdir(season_path):\n",
    "        df_temp = pd.read_csv(os.path.join(season_path, f\"{folder_name}/stage-attempt-directions-{mode}.csv\"))\n",
    "        # season = folder_name.replace(\"_\", \"-\")\n",
    "        season = folder_name.split(\"_\")[0]\n",
    "        df_temp[\"Season\"] = [season for i in range(len(df_temp))]\n",
    "        df_temp.drop([\"R\"], axis=1, inplace=True)\n",
    "\n",
    "        df_league = pd.concat([df_league, df_temp], ignore_index=True)\n",
    "    \n",
    "    df_league = df_league.applymap(lambda x: int(x[:-1])/100 if x.__contains__(\"%\") else x)\n",
    "    df_league[\"Season\"] = pd.to_numeric(df_league[\"Season\"])\n",
    "    # df_league[\"Left Side\"] = pd.to_numeric(df_league[\"Left Side\"])\n",
    "    # df_league[\"Right Side\"] = pd.to_numeric(df_league[\"Right Side\"])\n",
    "    # df_league[\"Attempts from the middle\"] = pd.to_numeric(df_league[\"Attempts from the middle\"])\n",
    "    df_league[\"League\"] = pd.Series([league for i in range(len(df_league))])\n",
    "    df_league[\"for_or_against\"] = pd.Series([mode for i in range(len(df_league))])\n",
    "\n",
    "    df_league.rename(\n",
    "        columns = {\n",
    "            'Team':'team', \n",
    "            'Left Side':'left',\n",
    "            'Attempts from the middle':'middle',\n",
    "            'Right Side':'right',\n",
    "            'Season':'season',\n",
    "            'League':'league'\n",
    "        }, \n",
    "        inplace = True)\n",
    "    \n",
    "    return df_league.sort_values(by=['season'])"
   ]
  },
  {
   "cell_type": "code",
   "execution_count": 4,
   "metadata": {},
   "outputs": [],
   "source": [
    "df = gather_season_all_league()"
   ]
  },
  {
   "cell_type": "code",
   "execution_count": 5,
   "metadata": {},
   "outputs": [
    {
     "data": {
      "text/html": [
       "<div>\n",
       "<style scoped>\n",
       "    .dataframe tbody tr th:only-of-type {\n",
       "        vertical-align: middle;\n",
       "    }\n",
       "\n",
       "    .dataframe tbody tr th {\n",
       "        vertical-align: top;\n",
       "    }\n",
       "\n",
       "    .dataframe thead th {\n",
       "        text-align: right;\n",
       "    }\n",
       "</style>\n",
       "<table border=\"1\" class=\"dataframe\">\n",
       "  <thead>\n",
       "    <tr style=\"text-align: right;\">\n",
       "      <th></th>\n",
       "      <th>team</th>\n",
       "      <th>left</th>\n",
       "      <th>middle</th>\n",
       "      <th>right</th>\n",
       "      <th>season</th>\n",
       "      <th>league</th>\n",
       "      <th>for_or_against</th>\n",
       "    </tr>\n",
       "  </thead>\n",
       "  <tbody>\n",
       "    <tr>\n",
       "      <th>197</th>\n",
       "      <td>Borussia Dortmund</td>\n",
       "      <td>0.15</td>\n",
       "      <td>0.67</td>\n",
       "      <td>0.18</td>\n",
       "      <td>2009</td>\n",
       "      <td>Bundesliga</td>\n",
       "      <td>for</td>\n",
       "    </tr>\n",
       "    <tr>\n",
       "      <th>180</th>\n",
       "      <td>Hamburger SV</td>\n",
       "      <td>0.27</td>\n",
       "      <td>0.55</td>\n",
       "      <td>0.18</td>\n",
       "      <td>2009</td>\n",
       "      <td>Bundesliga</td>\n",
       "      <td>for</td>\n",
       "    </tr>\n",
       "    <tr>\n",
       "      <th>181</th>\n",
       "      <td>Nuernberg</td>\n",
       "      <td>0.27</td>\n",
       "      <td>0.52</td>\n",
       "      <td>0.22</td>\n",
       "      <td>2009</td>\n",
       "      <td>Bundesliga</td>\n",
       "      <td>for</td>\n",
       "    </tr>\n",
       "    <tr>\n",
       "      <th>182</th>\n",
       "      <td>Wolfsburg</td>\n",
       "      <td>0.26</td>\n",
       "      <td>0.59</td>\n",
       "      <td>0.15</td>\n",
       "      <td>2009</td>\n",
       "      <td>Bundesliga</td>\n",
       "      <td>for</td>\n",
       "    </tr>\n",
       "    <tr>\n",
       "      <th>183</th>\n",
       "      <td>Werder Bremen</td>\n",
       "      <td>0.25</td>\n",
       "      <td>0.60</td>\n",
       "      <td>0.15</td>\n",
       "      <td>2009</td>\n",
       "      <td>Bundesliga</td>\n",
       "      <td>for</td>\n",
       "    </tr>\n",
       "    <tr>\n",
       "      <th>184</th>\n",
       "      <td>Borussia M.Gladbach</td>\n",
       "      <td>0.25</td>\n",
       "      <td>0.58</td>\n",
       "      <td>0.17</td>\n",
       "      <td>2009</td>\n",
       "      <td>Bundesliga</td>\n",
       "      <td>for</td>\n",
       "    </tr>\n",
       "    <tr>\n",
       "      <th>185</th>\n",
       "      <td>Bochum</td>\n",
       "      <td>0.24</td>\n",
       "      <td>0.57</td>\n",
       "      <td>0.19</td>\n",
       "      <td>2009</td>\n",
       "      <td>Bundesliga</td>\n",
       "      <td>for</td>\n",
       "    </tr>\n",
       "    <tr>\n",
       "      <th>186</th>\n",
       "      <td>Freiburg</td>\n",
       "      <td>0.23</td>\n",
       "      <td>0.58</td>\n",
       "      <td>0.20</td>\n",
       "      <td>2009</td>\n",
       "      <td>Bundesliga</td>\n",
       "      <td>for</td>\n",
       "    </tr>\n",
       "    <tr>\n",
       "      <th>187</th>\n",
       "      <td>Schalke 04</td>\n",
       "      <td>0.22</td>\n",
       "      <td>0.65</td>\n",
       "      <td>0.13</td>\n",
       "      <td>2009</td>\n",
       "      <td>Bundesliga</td>\n",
       "      <td>for</td>\n",
       "    </tr>\n",
       "    <tr>\n",
       "      <th>196</th>\n",
       "      <td>Eintracht Frankfurt</td>\n",
       "      <td>0.17</td>\n",
       "      <td>0.68</td>\n",
       "      <td>0.14</td>\n",
       "      <td>2009</td>\n",
       "      <td>Bundesliga</td>\n",
       "      <td>for</td>\n",
       "    </tr>\n",
       "    <tr>\n",
       "      <th>189</th>\n",
       "      <td>Hertha Berlin</td>\n",
       "      <td>0.21</td>\n",
       "      <td>0.58</td>\n",
       "      <td>0.21</td>\n",
       "      <td>2009</td>\n",
       "      <td>Bundesliga</td>\n",
       "      <td>for</td>\n",
       "    </tr>\n",
       "    <tr>\n",
       "      <th>190</th>\n",
       "      <td>Mainz 05</td>\n",
       "      <td>0.21</td>\n",
       "      <td>0.57</td>\n",
       "      <td>0.22</td>\n",
       "      <td>2009</td>\n",
       "      <td>Bundesliga</td>\n",
       "      <td>for</td>\n",
       "    </tr>\n",
       "    <tr>\n",
       "      <th>191</th>\n",
       "      <td>VfB Stuttgart</td>\n",
       "      <td>0.20</td>\n",
       "      <td>0.62</td>\n",
       "      <td>0.18</td>\n",
       "      <td>2009</td>\n",
       "      <td>Bundesliga</td>\n",
       "      <td>for</td>\n",
       "    </tr>\n",
       "    <tr>\n",
       "      <th>192</th>\n",
       "      <td>Hoffenheim</td>\n",
       "      <td>0.19</td>\n",
       "      <td>0.59</td>\n",
       "      <td>0.22</td>\n",
       "      <td>2009</td>\n",
       "      <td>Bundesliga</td>\n",
       "      <td>for</td>\n",
       "    </tr>\n",
       "    <tr>\n",
       "      <th>193</th>\n",
       "      <td>FC Koln</td>\n",
       "      <td>0.19</td>\n",
       "      <td>0.61</td>\n",
       "      <td>0.20</td>\n",
       "      <td>2009</td>\n",
       "      <td>Bundesliga</td>\n",
       "      <td>for</td>\n",
       "    </tr>\n",
       "    <tr>\n",
       "      <th>194</th>\n",
       "      <td>Bayern Munich</td>\n",
       "      <td>0.18</td>\n",
       "      <td>0.64</td>\n",
       "      <td>0.18</td>\n",
       "      <td>2009</td>\n",
       "      <td>Bundesliga</td>\n",
       "      <td>for</td>\n",
       "    </tr>\n",
       "    <tr>\n",
       "      <th>195</th>\n",
       "      <td>Bayer Leverkusen</td>\n",
       "      <td>0.17</td>\n",
       "      <td>0.70</td>\n",
       "      <td>0.13</td>\n",
       "      <td>2009</td>\n",
       "      <td>Bundesliga</td>\n",
       "      <td>for</td>\n",
       "    </tr>\n",
       "    <tr>\n",
       "      <th>188</th>\n",
       "      <td>Hannover 96</td>\n",
       "      <td>0.22</td>\n",
       "      <td>0.58</td>\n",
       "      <td>0.20</td>\n",
       "      <td>2009</td>\n",
       "      <td>Bundesliga</td>\n",
       "      <td>for</td>\n",
       "    </tr>\n",
       "    <tr>\n",
       "      <th>37</th>\n",
       "      <td>Hamburger SV</td>\n",
       "      <td>0.24</td>\n",
       "      <td>0.58</td>\n",
       "      <td>0.18</td>\n",
       "      <td>2010</td>\n",
       "      <td>Bundesliga</td>\n",
       "      <td>for</td>\n",
       "    </tr>\n",
       "    <tr>\n",
       "      <th>38</th>\n",
       "      <td>VfB Stuttgart</td>\n",
       "      <td>0.23</td>\n",
       "      <td>0.57</td>\n",
       "      <td>0.20</td>\n",
       "      <td>2010</td>\n",
       "      <td>Bundesliga</td>\n",
       "      <td>for</td>\n",
       "    </tr>\n",
       "  </tbody>\n",
       "</table>\n",
       "</div>"
      ],
      "text/plain": [
       "                    team  left  middle  right  season      league  \\\n",
       "197    Borussia Dortmund  0.15    0.67   0.18    2009  Bundesliga   \n",
       "180         Hamburger SV  0.27    0.55   0.18    2009  Bundesliga   \n",
       "181            Nuernberg  0.27    0.52   0.22    2009  Bundesliga   \n",
       "182            Wolfsburg  0.26    0.59   0.15    2009  Bundesliga   \n",
       "183        Werder Bremen  0.25    0.60   0.15    2009  Bundesliga   \n",
       "184  Borussia M.Gladbach  0.25    0.58   0.17    2009  Bundesliga   \n",
       "185               Bochum  0.24    0.57   0.19    2009  Bundesliga   \n",
       "186             Freiburg  0.23    0.58   0.20    2009  Bundesliga   \n",
       "187           Schalke 04  0.22    0.65   0.13    2009  Bundesliga   \n",
       "196  Eintracht Frankfurt  0.17    0.68   0.14    2009  Bundesliga   \n",
       "189        Hertha Berlin  0.21    0.58   0.21    2009  Bundesliga   \n",
       "190             Mainz 05  0.21    0.57   0.22    2009  Bundesliga   \n",
       "191        VfB Stuttgart  0.20    0.62   0.18    2009  Bundesliga   \n",
       "192           Hoffenheim  0.19    0.59   0.22    2009  Bundesliga   \n",
       "193              FC Koln  0.19    0.61   0.20    2009  Bundesliga   \n",
       "194        Bayern Munich  0.18    0.64   0.18    2009  Bundesliga   \n",
       "195     Bayer Leverkusen  0.17    0.70   0.13    2009  Bundesliga   \n",
       "188          Hannover 96  0.22    0.58   0.20    2009  Bundesliga   \n",
       "37          Hamburger SV  0.24    0.58   0.18    2010  Bundesliga   \n",
       "38         VfB Stuttgart  0.23    0.57   0.20    2010  Bundesliga   \n",
       "\n",
       "    for_or_against  \n",
       "197            for  \n",
       "180            for  \n",
       "181            for  \n",
       "182            for  \n",
       "183            for  \n",
       "184            for  \n",
       "185            for  \n",
       "186            for  \n",
       "187            for  \n",
       "196            for  \n",
       "189            for  \n",
       "190            for  \n",
       "191            for  \n",
       "192            for  \n",
       "193            for  \n",
       "194            for  \n",
       "195            for  \n",
       "188            for  \n",
       "37             for  \n",
       "38             for  "
      ]
     },
     "execution_count": 5,
     "metadata": {},
     "output_type": "execute_result"
    }
   ],
   "source": [
    "df.head(20)"
   ]
  },
  {
   "cell_type": "code",
   "execution_count": 6,
   "metadata": {},
   "outputs": [
    {
     "data": {
      "text/html": [
       "<div>\n",
       "<style scoped>\n",
       "    .dataframe tbody tr th:only-of-type {\n",
       "        vertical-align: middle;\n",
       "    }\n",
       "\n",
       "    .dataframe tbody tr th {\n",
       "        vertical-align: top;\n",
       "    }\n",
       "\n",
       "    .dataframe thead th {\n",
       "        text-align: right;\n",
       "    }\n",
       "</style>\n",
       "<table border=\"1\" class=\"dataframe\">\n",
       "  <thead>\n",
       "    <tr style=\"text-align: right;\">\n",
       "      <th></th>\n",
       "      <th>team</th>\n",
       "      <th>left</th>\n",
       "      <th>middle</th>\n",
       "      <th>right</th>\n",
       "      <th>season</th>\n",
       "      <th>league</th>\n",
       "      <th>for_or_against</th>\n",
       "    </tr>\n",
       "  </thead>\n",
       "  <tbody>\n",
       "    <tr>\n",
       "      <th>197</th>\n",
       "      <td>FC Koln</td>\n",
       "      <td>0.18</td>\n",
       "      <td>0.67</td>\n",
       "      <td>0.15</td>\n",
       "      <td>2009</td>\n",
       "      <td>Bundesliga</td>\n",
       "      <td>against</td>\n",
       "    </tr>\n",
       "    <tr>\n",
       "      <th>180</th>\n",
       "      <td>Werder Bremen</td>\n",
       "      <td>0.24</td>\n",
       "      <td>0.55</td>\n",
       "      <td>0.21</td>\n",
       "      <td>2009</td>\n",
       "      <td>Bundesliga</td>\n",
       "      <td>against</td>\n",
       "    </tr>\n",
       "    <tr>\n",
       "      <th>181</th>\n",
       "      <td>Mainz 05</td>\n",
       "      <td>0.24</td>\n",
       "      <td>0.58</td>\n",
       "      <td>0.18</td>\n",
       "      <td>2009</td>\n",
       "      <td>Bundesliga</td>\n",
       "      <td>against</td>\n",
       "    </tr>\n",
       "    <tr>\n",
       "      <th>182</th>\n",
       "      <td>Bayern Munich</td>\n",
       "      <td>0.23</td>\n",
       "      <td>0.55</td>\n",
       "      <td>0.23</td>\n",
       "      <td>2009</td>\n",
       "      <td>Bundesliga</td>\n",
       "      <td>against</td>\n",
       "    </tr>\n",
       "    <tr>\n",
       "      <th>183</th>\n",
       "      <td>Hertha Berlin</td>\n",
       "      <td>0.23</td>\n",
       "      <td>0.62</td>\n",
       "      <td>0.16</td>\n",
       "      <td>2009</td>\n",
       "      <td>Bundesliga</td>\n",
       "      <td>against</td>\n",
       "    </tr>\n",
       "    <tr>\n",
       "      <th>...</th>\n",
       "      <td>...</td>\n",
       "      <td>...</td>\n",
       "      <td>...</td>\n",
       "      <td>...</td>\n",
       "      <td>...</td>\n",
       "      <td>...</td>\n",
       "      <td>...</td>\n",
       "    </tr>\n",
       "    <tr>\n",
       "      <th>236</th>\n",
       "      <td>Roma</td>\n",
       "      <td>0.17</td>\n",
       "      <td>0.66</td>\n",
       "      <td>0.17</td>\n",
       "      <td>2021</td>\n",
       "      <td>SerieA</td>\n",
       "      <td>against</td>\n",
       "    </tr>\n",
       "    <tr>\n",
       "      <th>237</th>\n",
       "      <td>Sassuolo</td>\n",
       "      <td>0.17</td>\n",
       "      <td>0.71</td>\n",
       "      <td>0.13</td>\n",
       "      <td>2021</td>\n",
       "      <td>SerieA</td>\n",
       "      <td>against</td>\n",
       "    </tr>\n",
       "    <tr>\n",
       "      <th>238</th>\n",
       "      <td>Genoa</td>\n",
       "      <td>0.17</td>\n",
       "      <td>0.68</td>\n",
       "      <td>0.15</td>\n",
       "      <td>2021</td>\n",
       "      <td>SerieA</td>\n",
       "      <td>against</td>\n",
       "    </tr>\n",
       "    <tr>\n",
       "      <th>239</th>\n",
       "      <td>Udinese</td>\n",
       "      <td>0.15</td>\n",
       "      <td>0.71</td>\n",
       "      <td>0.15</td>\n",
       "      <td>2021</td>\n",
       "      <td>SerieA</td>\n",
       "      <td>against</td>\n",
       "    </tr>\n",
       "    <tr>\n",
       "      <th>221</th>\n",
       "      <td>Sampdoria</td>\n",
       "      <td>0.21</td>\n",
       "      <td>0.62</td>\n",
       "      <td>0.17</td>\n",
       "      <td>2021</td>\n",
       "      <td>SerieA</td>\n",
       "      <td>against</td>\n",
       "    </tr>\n",
       "  </tbody>\n",
       "</table>\n",
       "<p>1274 rows × 7 columns</p>\n",
       "</div>"
      ],
      "text/plain": [
       "              team  left  middle  right  season      league for_or_against\n",
       "197        FC Koln  0.18    0.67   0.15    2009  Bundesliga        against\n",
       "180  Werder Bremen  0.24    0.55   0.21    2009  Bundesliga        against\n",
       "181       Mainz 05  0.24    0.58   0.18    2009  Bundesliga        against\n",
       "182  Bayern Munich  0.23    0.55   0.23    2009  Bundesliga        against\n",
       "183  Hertha Berlin  0.23    0.62   0.16    2009  Bundesliga        against\n",
       "..             ...   ...     ...    ...     ...         ...            ...\n",
       "236           Roma  0.17    0.66   0.17    2021      SerieA        against\n",
       "237       Sassuolo  0.17    0.71   0.13    2021      SerieA        against\n",
       "238          Genoa  0.17    0.68   0.15    2021      SerieA        against\n",
       "239        Udinese  0.15    0.71   0.15    2021      SerieA        against\n",
       "221      Sampdoria  0.21    0.62   0.17    2021      SerieA        against\n",
       "\n",
       "[1274 rows x 7 columns]"
      ]
     },
     "execution_count": 6,
     "metadata": {},
     "output_type": "execute_result"
    }
   ],
   "source": [
    "df[df[\"for_or_against\"] == \"against\"]"
   ]
  },
  {
   "cell_type": "code",
   "execution_count": 7,
   "metadata": {},
   "outputs": [
    {
     "data": {
      "text/plain": [
       "2548"
      ]
     },
     "execution_count": 7,
     "metadata": {},
     "output_type": "execute_result"
    }
   ],
   "source": [
    "len(df)"
   ]
  },
  {
   "cell_type": "markdown",
   "metadata": {},
   "source": [
    "### Test direction plot"
   ]
  },
  {
   "cell_type": "code",
   "execution_count": 8,
   "metadata": {},
   "outputs": [
    {
     "data": {
      "application/vnd.plotly.v1+json": {
       "config": {
        "plotlyServerURL": "https://plot.ly"
       },
       "data": [
        {
         "hovertemplate": "team=Borussia Dortmund<br>season=%{x}<br>right=%{y}<extra></extra>",
         "legendgroup": "Borussia Dortmund",
         "line": {
          "color": "rgb(189,189,189)",
          "dash": "solid"
         },
         "marker": {
          "symbol": "circle"
         },
         "mode": "lines+markers",
         "name": "Borussia Dortmund",
         "opacity": 0.4,
         "showlegend": true,
         "type": "scattergl",
         "x": [
          2009,
          2010,
          2011,
          2012,
          2013,
          2014,
          2015,
          2016,
          2017,
          2018,
          2019,
          2020,
          2021
         ],
         "xaxis": "x",
         "y": [
          0.18,
          0.14,
          0.11,
          0.13,
          0.16,
          0.18,
          0.14,
          0.13,
          0.14,
          0.16,
          0.18,
          0.11,
          0.14
         ],
         "yaxis": "y"
        },
        {
         "hovertemplate": "team=Hamburger SV<br>season=%{x}<br>right=%{y}<extra></extra>",
         "legendgroup": "Hamburger SV",
         "line": {
          "color": "rgb(189,189,189)",
          "dash": "solid"
         },
         "marker": {
          "symbol": "circle"
         },
         "mode": "lines+markers",
         "name": "Hamburger SV",
         "opacity": 0.4,
         "showlegend": true,
         "type": "scattergl",
         "x": [
          2009,
          2010,
          2011,
          2012,
          2013,
          2014,
          2015,
          2016,
          2017
         ],
         "xaxis": "x",
         "y": [
          0.18,
          0.18,
          0.21,
          0.16,
          0.19,
          0.15,
          0.2,
          0.16,
          0.15
         ],
         "yaxis": "y"
        },
        {
         "hovertemplate": "team=Nuernberg<br>season=%{x}<br>right=%{y}<extra></extra>",
         "legendgroup": "Nuernberg",
         "line": {
          "color": "rgb(189,189,189)",
          "dash": "solid"
         },
         "marker": {
          "symbol": "circle"
         },
         "mode": "lines+markers",
         "name": "Nuernberg",
         "opacity": 0.4,
         "showlegend": true,
         "type": "scattergl",
         "x": [
          2009,
          2010,
          2011,
          2012,
          2013,
          2018
         ],
         "xaxis": "x",
         "y": [
          0.22,
          0.2,
          0.21,
          0.22,
          0.24,
          0.16
         ],
         "yaxis": "y"
        },
        {
         "hovertemplate": "team=Wolfsburg<br>season=%{x}<br>right=%{y}<extra></extra>",
         "legendgroup": "Wolfsburg",
         "line": {
          "color": "rgb(189,189,189)",
          "dash": "solid"
         },
         "marker": {
          "symbol": "circle"
         },
         "mode": "lines+markers",
         "name": "Wolfsburg",
         "opacity": 0.4,
         "showlegend": true,
         "type": "scattergl",
         "x": [
          2009,
          2010,
          2011,
          2012,
          2013,
          2014,
          2015,
          2016,
          2017,
          2018,
          2019,
          2020,
          2021
         ],
         "xaxis": "x",
         "y": [
          0.15,
          0.13,
          0.17,
          0.16,
          0.19,
          0.17,
          0.19,
          0.16,
          0.18,
          0.16,
          0.15,
          0.15,
          0.16
         ],
         "yaxis": "y"
        },
        {
         "hovertemplate": "team=Werder Bremen<br>season=%{x}<br>right=%{y}<extra></extra>",
         "legendgroup": "Werder Bremen",
         "line": {
          "color": "rgb(189,189,189)",
          "dash": "solid"
         },
         "marker": {
          "symbol": "circle"
         },
         "mode": "lines+markers",
         "name": "Werder Bremen",
         "opacity": 0.4,
         "showlegend": true,
         "type": "scattergl",
         "x": [
          2009,
          2010,
          2011,
          2012,
          2013,
          2014,
          2015,
          2016,
          2017,
          2018,
          2019,
          2020
         ],
         "xaxis": "x",
         "y": [
          0.15,
          0.17,
          0.14,
          0.22,
          0.2,
          0.18,
          0.17,
          0.18,
          0.14,
          0.15,
          0.18,
          0.17
         ],
         "yaxis": "y"
        },
        {
         "hovertemplate": "team=Borussia M.Gladbach<br>season=%{x}<br>right=%{y}<extra></extra>",
         "legendgroup": "Borussia M.Gladbach",
         "line": {
          "color": "rgb(189,189,189)",
          "dash": "solid"
         },
         "marker": {
          "symbol": "circle"
         },
         "mode": "lines+markers",
         "name": "Borussia M.Gladbach",
         "opacity": 0.4,
         "showlegend": true,
         "type": "scattergl",
         "x": [
          2009,
          2010,
          2011,
          2012,
          2013,
          2014,
          2015,
          2016,
          2017,
          2018,
          2019,
          2020,
          2021
         ],
         "xaxis": "x",
         "y": [
          0.17,
          0.22,
          0.22,
          0.16,
          0.2,
          0.21,
          0.2,
          0.16,
          0.2,
          0.21,
          0.14,
          0.14,
          0.19
         ],
         "yaxis": "y"
        },
        {
         "hovertemplate": "team=Bochum<br>season=%{x}<br>right=%{y}<extra></extra>",
         "legendgroup": "Bochum",
         "line": {
          "color": "rgb(189,189,189)",
          "dash": "solid"
         },
         "marker": {
          "symbol": "circle"
         },
         "mode": "lines+markers",
         "name": "Bochum",
         "opacity": 0.4,
         "showlegend": true,
         "type": "scattergl",
         "x": [
          2009,
          2021
         ],
         "xaxis": "x",
         "y": [
          0.19,
          0.19
         ],
         "yaxis": "y"
        },
        {
         "hovertemplate": "team=Freiburg<br>season=%{x}<br>right=%{y}<extra></extra>",
         "legendgroup": "Freiburg",
         "line": {
          "color": "rgb(189,189,189)",
          "dash": "solid"
         },
         "marker": {
          "symbol": "circle"
         },
         "mode": "lines+markers",
         "name": "Freiburg",
         "opacity": 0.4,
         "showlegend": true,
         "type": "scattergl",
         "x": [
          2009,
          2010,
          2011,
          2012,
          2013,
          2014,
          2016,
          2017,
          2018,
          2019,
          2020,
          2021
         ],
         "xaxis": "x",
         "y": [
          0.2,
          0.17,
          0.19,
          0.15,
          0.21,
          0.21,
          0.17,
          0.18,
          0.15,
          0.18,
          0.14,
          0.14
         ],
         "yaxis": "y"
        },
        {
         "hovertemplate": "team=Schalke 04<br>season=%{x}<br>right=%{y}<extra></extra>",
         "legendgroup": "Schalke 04",
         "line": {
          "color": "rgb(189,189,189)",
          "dash": "solid"
         },
         "marker": {
          "symbol": "circle"
         },
         "mode": "lines+markers",
         "name": "Schalke 04",
         "opacity": 0.4,
         "showlegend": true,
         "type": "scattergl",
         "x": [
          2009,
          2010,
          2011,
          2012,
          2013,
          2014,
          2015,
          2016,
          2017,
          2018,
          2019,
          2020
         ],
         "xaxis": "x",
         "y": [
          0.13,
          0.13,
          0.15,
          0.17,
          0.15,
          0.18,
          0.19,
          0.14,
          0.15,
          0.19,
          0.15,
          0.16
         ],
         "yaxis": "y"
        },
        {
         "hovertemplate": "team=Eintracht Frankfurt<br>season=%{x}<br>right=%{y}<extra></extra>",
         "legendgroup": "Eintracht Frankfurt",
         "line": {
          "color": "rgb(189,189,189)",
          "dash": "solid"
         },
         "marker": {
          "symbol": "circle"
         },
         "mode": "lines+markers",
         "name": "Eintracht Frankfurt",
         "opacity": 0.4,
         "showlegend": true,
         "type": "scattergl",
         "x": [
          2009,
          2010,
          2012,
          2013,
          2014,
          2015,
          2016,
          2017,
          2018,
          2019,
          2020,
          2021
         ],
         "xaxis": "x",
         "y": [
          0.14,
          0.15,
          0.18,
          0.15,
          0.22,
          0.22,
          0.15,
          0.16,
          0.11,
          0.13,
          0.13,
          0.15
         ],
         "yaxis": "y"
        },
        {
         "hovertemplate": "team=Hertha Berlin<br>season=%{x}<br>right=%{y}<extra></extra>",
         "legendgroup": "Hertha Berlin",
         "line": {
          "color": "rgb(189,189,189)",
          "dash": "solid"
         },
         "marker": {
          "symbol": "circle"
         },
         "mode": "lines+markers",
         "name": "Hertha Berlin",
         "opacity": 0.4,
         "showlegend": true,
         "type": "scattergl",
         "x": [
          2009,
          2011,
          2013,
          2014,
          2015,
          2016,
          2017,
          2018,
          2019,
          2020,
          2021
         ],
         "xaxis": "x",
         "y": [
          0.21,
          0.19,
          0.18,
          0.14,
          0.17,
          0.14,
          0.15,
          0.15,
          0.12,
          0.15,
          0.18
         ],
         "yaxis": "y"
        },
        {
         "hovertemplate": "team=Mainz 05<br>season=%{x}<br>right=%{y}<extra></extra>",
         "legendgroup": "Mainz 05",
         "line": {
          "color": "rgb(189,189,189)",
          "dash": "solid"
         },
         "marker": {
          "symbol": "circle"
         },
         "mode": "lines+markers",
         "name": "Mainz 05",
         "opacity": 0.4,
         "showlegend": true,
         "type": "scattergl",
         "x": [
          2009,
          2010,
          2011,
          2012,
          2013,
          2014,
          2015,
          2016,
          2017,
          2018,
          2019,
          2020,
          2021
         ],
         "xaxis": "x",
         "y": [
          0.22,
          0.23,
          0.19,
          0.13,
          0.19,
          0.15,
          0.17,
          0.12,
          0.14,
          0.13,
          0.15,
          0.15,
          0.14
         ],
         "yaxis": "y"
        },
        {
         "hovertemplate": "team=VfB Stuttgart<br>season=%{x}<br>right=%{y}<extra></extra>",
         "legendgroup": "VfB Stuttgart",
         "line": {
          "color": "rgb(189,189,189)",
          "dash": "solid"
         },
         "marker": {
          "symbol": "circle"
         },
         "mode": "lines+markers",
         "name": "VfB Stuttgart",
         "opacity": 0.4,
         "showlegend": true,
         "type": "scattergl",
         "x": [
          2009,
          2010,
          2011,
          2012,
          2013,
          2014,
          2015,
          2017,
          2018,
          2020,
          2021
         ],
         "xaxis": "x",
         "y": [
          0.18,
          0.2,
          0.18,
          0.21,
          0.17,
          0.21,
          0.17,
          0.17,
          0.15,
          0.17,
          0.14
         ],
         "yaxis": "y"
        },
        {
         "hovertemplate": "team=Hoffenheim<br>season=%{x}<br>right=%{y}<extra></extra>",
         "legendgroup": "Hoffenheim",
         "line": {
          "color": "rgb(189,189,189)",
          "dash": "solid"
         },
         "marker": {
          "symbol": "circle"
         },
         "mode": "lines+markers",
         "name": "Hoffenheim",
         "opacity": 0.4,
         "showlegend": true,
         "type": "scattergl",
         "x": [
          2009,
          2010,
          2011,
          2012,
          2013,
          2014,
          2015,
          2016,
          2017,
          2018,
          2019,
          2020,
          2021
         ],
         "xaxis": "x",
         "y": [
          0.22,
          0.21,
          0.24,
          0.23,
          0.21,
          0.21,
          0.18,
          0.16,
          0.13,
          0.12,
          0.13,
          0.13,
          0.14
         ],
         "yaxis": "y"
        },
        {
         "hovertemplate": "team=FC Koln<br>season=%{x}<br>right=%{y}<extra></extra>",
         "legendgroup": "FC Koln",
         "line": {
          "color": "rgb(189,189,189)",
          "dash": "solid"
         },
         "marker": {
          "symbol": "circle"
         },
         "mode": "lines+markers",
         "name": "FC Koln",
         "opacity": 0.4,
         "showlegend": true,
         "type": "scattergl",
         "x": [
          2009,
          2010,
          2011,
          2014,
          2015,
          2016,
          2017,
          2019,
          2020,
          2021
         ],
         "xaxis": "x",
         "y": [
          0.2,
          0.19,
          0.18,
          0.25,
          0.16,
          0.17,
          0.13,
          0.17,
          0.19,
          0.15
         ],
         "yaxis": "y"
        },
        {
         "hovertemplate": "team=Bayern Munich<br>season=%{x}<br>right=%{y}<extra></extra>",
         "legendgroup": "Bayern Munich",
         "line": {
          "color": "rgb(189,189,189)",
          "dash": "solid"
         },
         "marker": {
          "symbol": "circle"
         },
         "mode": "lines+markers",
         "name": "Bayern Munich",
         "opacity": 0.4,
         "showlegend": true,
         "type": "scattergl",
         "x": [
          2009,
          2010,
          2011,
          2012,
          2013,
          2014,
          2015,
          2016,
          2017,
          2018,
          2019,
          2020,
          2021
         ],
         "xaxis": "x",
         "y": [
          0.18,
          0.16,
          0.19,
          0.17,
          0.17,
          0.19,
          0.16,
          0.18,
          0.14,
          0.15,
          0.16,
          0.16,
          0.15
         ],
         "yaxis": "y"
        },
        {
         "hovertemplate": "team=Bayer Leverkusen<br>season=%{x}<br>right=%{y}<extra></extra>",
         "legendgroup": "Bayer Leverkusen",
         "line": {
          "color": "rgb(189,189,189)",
          "dash": "solid"
         },
         "marker": {
          "symbol": "circle"
         },
         "mode": "lines+markers",
         "name": "Bayer Leverkusen",
         "opacity": 0.4,
         "showlegend": true,
         "type": "scattergl",
         "x": [
          2009,
          2010,
          2011,
          2012,
          2013,
          2014,
          2015,
          2016,
          2017,
          2018,
          2019,
          2020,
          2021
         ],
         "xaxis": "x",
         "y": [
          0.13,
          0.22,
          0.17,
          0.16,
          0.16,
          0.19,
          0.17,
          0.17,
          0.23,
          0.2,
          0.18,
          0.19,
          0.14
         ],
         "yaxis": "y"
        },
        {
         "hovertemplate": "team=Hannover 96<br>season=%{x}<br>right=%{y}<extra></extra>",
         "legendgroup": "Hannover 96",
         "line": {
          "color": "rgb(189,189,189)",
          "dash": "solid"
         },
         "marker": {
          "symbol": "circle"
         },
         "mode": "lines+markers",
         "name": "Hannover 96",
         "opacity": 0.4,
         "showlegend": true,
         "type": "scattergl",
         "x": [
          2009,
          2010,
          2011,
          2012,
          2013,
          2014,
          2015,
          2017,
          2018
         ],
         "xaxis": "x",
         "y": [
          0.2,
          0.26,
          0.21,
          0.17,
          0.2,
          0.19,
          0.17,
          0.11,
          0.15
         ],
         "yaxis": "y"
        },
        {
         "hovertemplate": "team=Kaiserslautern<br>season=%{x}<br>right=%{y}<extra></extra>",
         "legendgroup": "Kaiserslautern",
         "line": {
          "color": "rgb(189,189,189)",
          "dash": "solid"
         },
         "marker": {
          "symbol": "circle"
         },
         "mode": "lines+markers",
         "name": "Kaiserslautern",
         "opacity": 0.4,
         "showlegend": true,
         "type": "scattergl",
         "x": [
          2010,
          2011
         ],
         "xaxis": "x",
         "y": [
          0.2,
          0.18
         ],
         "yaxis": "y"
        },
        {
         "hovertemplate": "team=St. Pauli<br>season=%{x}<br>right=%{y}<extra></extra>",
         "legendgroup": "St. Pauli",
         "line": {
          "color": "rgb(189,189,189)",
          "dash": "solid"
         },
         "marker": {
          "symbol": "circle"
         },
         "mode": "lines+markers",
         "name": "St. Pauli",
         "opacity": 0.4,
         "showlegend": true,
         "type": "scattergl",
         "x": [
          2010
         ],
         "xaxis": "x",
         "y": [
          0.2
         ],
         "yaxis": "y"
        },
        {
         "hovertemplate": "team=Augsburg<br>season=%{x}<br>right=%{y}<extra></extra>",
         "legendgroup": "Augsburg",
         "line": {
          "color": "rgb(189,189,189)",
          "dash": "solid"
         },
         "marker": {
          "symbol": "circle"
         },
         "mode": "lines+markers",
         "name": "Augsburg",
         "opacity": 0.4,
         "showlegend": true,
         "type": "scattergl",
         "x": [
          2011,
          2012,
          2013,
          2014,
          2015,
          2016,
          2017,
          2018,
          2019,
          2020,
          2021
         ],
         "xaxis": "x",
         "y": [
          0.22,
          0.21,
          0.21,
          0.2,
          0.15,
          0.19,
          0.17,
          0.16,
          0.16,
          0.15,
          0.17
         ],
         "yaxis": "y"
        },
        {
         "hovertemplate": "team=Greuther Fuerth<br>season=%{x}<br>right=%{y}<extra></extra>",
         "legendgroup": "Greuther Fuerth",
         "line": {
          "color": "rgb(189,189,189)",
          "dash": "solid"
         },
         "marker": {
          "symbol": "circle"
         },
         "mode": "lines+markers",
         "name": "Greuther Fuerth",
         "opacity": 0.4,
         "showlegend": true,
         "type": "scattergl",
         "x": [
          2012,
          2021
         ],
         "xaxis": "x",
         "y": [
          0.23,
          0.21
         ],
         "yaxis": "y"
        },
        {
         "hovertemplate": "team=Fortuna Duesseldorf<br>season=%{x}<br>right=%{y}<extra></extra>",
         "legendgroup": "Fortuna Duesseldorf",
         "line": {
          "color": "rgb(189,189,189)",
          "dash": "solid"
         },
         "marker": {
          "symbol": "circle"
         },
         "mode": "lines+markers",
         "name": "Fortuna Duesseldorf",
         "opacity": 0.4,
         "showlegend": true,
         "type": "scattergl",
         "x": [
          2012,
          2018,
          2019
         ],
         "xaxis": "x",
         "y": [
          0.17,
          0.19,
          0.18
         ],
         "yaxis": "y"
        },
        {
         "hovertemplate": "team=Eintracht Braunschweig<br>season=%{x}<br>right=%{y}<extra></extra>",
         "legendgroup": "Eintracht Braunschweig",
         "line": {
          "color": "rgb(189,189,189)",
          "dash": "solid"
         },
         "marker": {
          "symbol": "circle"
         },
         "mode": "lines+markers",
         "name": "Eintracht Braunschweig",
         "opacity": 0.4,
         "showlegend": true,
         "type": "scattergl",
         "x": [
          2013
         ],
         "xaxis": "x",
         "y": [
          0.24
         ],
         "yaxis": "y"
        },
        {
         "hovertemplate": "team=Paderborn<br>season=%{x}<br>right=%{y}<extra></extra>",
         "legendgroup": "Paderborn",
         "line": {
          "color": "rgb(189,189,189)",
          "dash": "solid"
         },
         "marker": {
          "symbol": "circle"
         },
         "mode": "lines+markers",
         "name": "Paderborn",
         "opacity": 0.4,
         "showlegend": true,
         "type": "scattergl",
         "x": [
          2014,
          2019
         ],
         "xaxis": "x",
         "y": [
          0.19,
          0.21
         ],
         "yaxis": "y"
        },
        {
         "hovertemplate": "team=Ingolstadt<br>season=%{x}<br>right=%{y}<extra></extra>",
         "legendgroup": "Ingolstadt",
         "line": {
          "color": "rgb(189,189,189)",
          "dash": "solid"
         },
         "marker": {
          "symbol": "circle"
         },
         "mode": "lines+markers",
         "name": "Ingolstadt",
         "opacity": 0.4,
         "showlegend": true,
         "type": "scattergl",
         "x": [
          2015,
          2016
         ],
         "xaxis": "x",
         "y": [
          0.2,
          0.2
         ],
         "yaxis": "y"
        },
        {
         "hovertemplate": "team=Darmstadt<br>season=%{x}<br>right=%{y}<extra></extra>",
         "legendgroup": "Darmstadt",
         "line": {
          "color": "rgb(189,189,189)",
          "dash": "solid"
         },
         "marker": {
          "symbol": "circle"
         },
         "mode": "lines+markers",
         "name": "Darmstadt",
         "opacity": 0.4,
         "showlegend": true,
         "type": "scattergl",
         "x": [
          2015,
          2016
         ],
         "xaxis": "x",
         "y": [
          0.17,
          0.19
         ],
         "yaxis": "y"
        },
        {
         "hovertemplate": "team=RB Leipzig<br>season=%{x}<br>right=%{y}<extra></extra>",
         "legendgroup": "RB Leipzig",
         "line": {
          "color": "rgb(189,189,189)",
          "dash": "solid"
         },
         "marker": {
          "symbol": "circle"
         },
         "mode": "lines+markers",
         "name": "RB Leipzig",
         "opacity": 0.4,
         "showlegend": true,
         "type": "scattergl",
         "x": [
          2016,
          2017,
          2018,
          2019,
          2020,
          2021
         ],
         "xaxis": "x",
         "y": [
          0.18,
          0.17,
          0.18,
          0.13,
          0.1,
          0.1
         ],
         "yaxis": "y"
        },
        {
         "hovertemplate": "team=Union Berlin<br>season=%{x}<br>right=%{y}<extra></extra>",
         "legendgroup": "Union Berlin",
         "line": {
          "color": "rgb(189,189,189)",
          "dash": "solid"
         },
         "marker": {
          "symbol": "circle"
         },
         "mode": "lines+markers",
         "name": "Union Berlin",
         "opacity": 0.4,
         "showlegend": true,
         "type": "scattergl",
         "x": [
          2019,
          2020,
          2021
         ],
         "xaxis": "x",
         "y": [
          0.15,
          0.12,
          0.13
         ],
         "yaxis": "y"
        },
        {
         "hovertemplate": "team=Arminia Bielefeld<br>season=%{x}<br>right=%{y}<extra></extra>",
         "legendgroup": "Arminia Bielefeld",
         "line": {
          "color": "rgb(189,189,189)",
          "dash": "solid"
         },
         "marker": {
          "symbol": "circle"
         },
         "mode": "lines+markers",
         "name": "Arminia Bielefeld",
         "opacity": 0.4,
         "showlegend": true,
         "type": "scattergl",
         "x": [
          2020,
          2021
         ],
         "xaxis": "x",
         "y": [
          0.15,
          0.22
         ],
         "yaxis": "y"
        },
        {
         "hovertemplate": "team=Fulham<br>season=%{x}<br>right=%{y}<extra></extra>",
         "legendgroup": "Fulham",
         "line": {
          "color": "rgb(189,189,189)",
          "dash": "solid"
         },
         "marker": {
          "symbol": "circle"
         },
         "mode": "lines+markers",
         "name": "Fulham",
         "opacity": 0.4,
         "showlegend": true,
         "type": "scattergl",
         "x": [
          2009,
          2010,
          2011,
          2012,
          2013,
          2018,
          2020
         ],
         "xaxis": "x",
         "y": [
          0.19,
          0.19,
          0.14,
          0.16,
          0.18,
          0.15,
          0.15
         ],
         "yaxis": "y"
        },
        {
         "hovertemplate": "team=Aston Villa<br>season=%{x}<br>right=%{y}<extra></extra>",
         "legendgroup": "Aston Villa",
         "line": {
          "color": "rgb(189,189,189)",
          "dash": "solid"
         },
         "marker": {
          "symbol": "circle"
         },
         "mode": "lines+markers",
         "name": "Aston Villa",
         "opacity": 0.4,
         "showlegend": true,
         "type": "scattergl",
         "x": [
          2009,
          2010,
          2011,
          2012,
          2013,
          2014,
          2015,
          2019,
          2020,
          2021
         ],
         "xaxis": "x",
         "y": [
          0.12,
          0.17,
          0.15,
          0.16,
          0.17,
          0.16,
          0.15,
          0.13,
          0.16,
          0.16
         ],
         "yaxis": "y"
        },
        {
         "hovertemplate": "team=Blackburn<br>season=%{x}<br>right=%{y}<extra></extra>",
         "legendgroup": "Blackburn",
         "line": {
          "color": "rgb(189,189,189)",
          "dash": "solid"
         },
         "marker": {
          "symbol": "circle"
         },
         "mode": "lines+markers",
         "name": "Blackburn",
         "opacity": 0.4,
         "showlegend": true,
         "type": "scattergl",
         "x": [
          2009,
          2010,
          2011
         ],
         "xaxis": "x",
         "y": [
          0.12,
          0.13,
          0.15
         ],
         "yaxis": "y"
        },
        {
         "hovertemplate": "team=Wigan<br>season=%{x}<br>right=%{y}<extra></extra>",
         "legendgroup": "Wigan",
         "line": {
          "color": "rgb(189,189,189)",
          "dash": "solid"
         },
         "marker": {
          "symbol": "circle"
         },
         "mode": "lines+markers",
         "name": "Wigan",
         "opacity": 0.4,
         "showlegend": true,
         "type": "scattergl",
         "x": [
          2009,
          2010,
          2011,
          2012
         ],
         "xaxis": "x",
         "y": [
          0.2,
          0.2,
          0.18,
          0.15
         ],
         "yaxis": "y"
        },
        {
         "hovertemplate": "team=Chelsea<br>season=%{x}<br>right=%{y}<extra></extra>",
         "legendgroup": "Chelsea",
         "line": {
          "color": "rgb(189,189,189)",
          "dash": "solid"
         },
         "marker": {
          "symbol": "circle"
         },
         "mode": "lines+markers",
         "name": "Chelsea",
         "opacity": 0.4,
         "showlegend": true,
         "type": "scattergl",
         "x": [
          2009,
          2010,
          2011,
          2012,
          2013,
          2014,
          2015,
          2016,
          2017,
          2018,
          2019,
          2020,
          2021
         ],
         "xaxis": "x",
         "y": [
          0.17,
          0.16,
          0.23,
          0.15,
          0.16,
          0.12,
          0.19,
          0.21,
          0.19,
          0.16,
          0.15,
          0.16,
          0.17
         ],
         "yaxis": "y"
        },
        {
         "hovertemplate": "team=Birmingham<br>season=%{x}<br>right=%{y}<extra></extra>",
         "legendgroup": "Birmingham",
         "line": {
          "color": "rgb(189,189,189)",
          "dash": "solid"
         },
         "marker": {
          "symbol": "circle"
         },
         "mode": "lines+markers",
         "name": "Birmingham",
         "opacity": 0.4,
         "showlegend": true,
         "type": "scattergl",
         "x": [
          2009,
          2010
         ],
         "xaxis": "x",
         "y": [
          0.18,
          0.16
         ],
         "yaxis": "y"
        },
        {
         "hovertemplate": "team=Manchester City<br>season=%{x}<br>right=%{y}<extra></extra>",
         "legendgroup": "Manchester City",
         "line": {
          "color": "rgb(189,189,189)",
          "dash": "solid"
         },
         "marker": {
          "symbol": "circle"
         },
         "mode": "lines+markers",
         "name": "Manchester City",
         "opacity": 0.4,
         "showlegend": true,
         "type": "scattergl",
         "x": [
          2009,
          2010,
          2011,
          2012,
          2013,
          2014,
          2015,
          2016,
          2017,
          2018,
          2019,
          2020,
          2021
         ],
         "xaxis": "x",
         "y": [
          0.22,
          0.23,
          0.18,
          0.19,
          0.16,
          0.18,
          0.17,
          0.15,
          0.14,
          0.16,
          0.16,
          0.16,
          0.15
         ],
         "yaxis": "y"
        },
        {
         "hovertemplate": "team=West Ham<br>season=%{x}<br>right=%{y}<extra></extra>",
         "legendgroup": "West Ham",
         "line": {
          "color": "rgb(189,189,189)",
          "dash": "solid"
         },
         "marker": {
          "symbol": "circle"
         },
         "mode": "lines+markers",
         "name": "West Ham",
         "opacity": 0.4,
         "showlegend": true,
         "type": "scattergl",
         "x": [
          2009,
          2010,
          2012,
          2013,
          2014,
          2015,
          2016,
          2017,
          2018,
          2019,
          2020,
          2021
         ],
         "xaxis": "x",
         "y": [
          0.2,
          0.17,
          0.13,
          0.17,
          0.17,
          0.13,
          0.14,
          0.16,
          0.14,
          0.15,
          0.12,
          0.18
         ],
         "yaxis": "y"
        },
        {
         "hovertemplate": "team=Manchester United<br>season=%{x}<br>right=%{y}<extra></extra>",
         "legendgroup": "Manchester United",
         "line": {
          "color": "rgb(189,189,189)",
          "dash": "solid"
         },
         "marker": {
          "symbol": "circle"
         },
         "mode": "lines+markers",
         "name": "Manchester United",
         "opacity": 0.4,
         "showlegend": true,
         "type": "scattergl",
         "x": [
          2009,
          2010,
          2011,
          2012,
          2013,
          2014,
          2015,
          2016,
          2017,
          2018,
          2019,
          2020,
          2021
         ],
         "xaxis": "x",
         "y": [
          0.14,
          0.18,
          0.14,
          0.19,
          0.19,
          0.15,
          0.13,
          0.09,
          0.11,
          0.11,
          0.12,
          0.14,
          0.19
         ],
         "yaxis": "y"
        },
        {
         "hovertemplate": "team=Wolverhampton Wanderers<br>season=%{x}<br>right=%{y}<extra></extra>",
         "legendgroup": "Wolverhampton Wanderers",
         "line": {
          "color": "rgb(189,189,189)",
          "dash": "solid"
         },
         "marker": {
          "symbol": "circle"
         },
         "mode": "lines+markers",
         "name": "Wolverhampton Wanderers",
         "opacity": 0.4,
         "showlegend": true,
         "type": "scattergl",
         "x": [
          2009,
          2010,
          2011,
          2018,
          2019,
          2020,
          2021
         ],
         "xaxis": "x",
         "y": [
          0.14,
          0.15,
          0.15,
          0.2,
          0.16,
          0.17,
          0.19
         ],
         "yaxis": "y"
        },
        {
         "hovertemplate": "team=Sunderland<br>season=%{x}<br>right=%{y}<extra></extra>",
         "legendgroup": "Sunderland",
         "line": {
          "color": "rgb(189,189,189)",
          "dash": "solid"
         },
         "marker": {
          "symbol": "circle"
         },
         "mode": "lines+markers",
         "name": "Sunderland",
         "opacity": 0.4,
         "showlegend": true,
         "type": "scattergl",
         "x": [
          2009,
          2010,
          2011,
          2012,
          2013,
          2014,
          2015,
          2016
         ],
         "xaxis": "x",
         "y": [
          0.17,
          0.15,
          0.16,
          0.21,
          0.19,
          0.13,
          0.17,
          0.16
         ],
         "yaxis": "y"
        },
        {
         "hovertemplate": "team=Everton<br>season=%{x}<br>right=%{y}<extra></extra>",
         "legendgroup": "Everton",
         "line": {
          "color": "rgb(189,189,189)",
          "dash": "solid"
         },
         "marker": {
          "symbol": "circle"
         },
         "mode": "lines+markers",
         "name": "Everton",
         "opacity": 0.4,
         "showlegend": true,
         "type": "scattergl",
         "x": [
          2009,
          2010,
          2011,
          2012,
          2013,
          2014,
          2015,
          2016,
          2017,
          2018,
          2019,
          2020,
          2021
         ],
         "xaxis": "x",
         "y": [
          0.12,
          0.18,
          0.14,
          0.12,
          0.2,
          0.18,
          0.13,
          0.18,
          0.11,
          0.17,
          0.16,
          0.09,
          0.14
         ],
         "yaxis": "y"
        },
        {
         "hovertemplate": "team=Arsenal<br>season=%{x}<br>right=%{y}<extra></extra>",
         "legendgroup": "Arsenal",
         "line": {
          "color": "rgb(189,189,189)",
          "dash": "solid"
         },
         "marker": {
          "symbol": "circle"
         },
         "mode": "lines+markers",
         "name": "Arsenal",
         "opacity": 0.4,
         "showlegend": true,
         "type": "scattergl",
         "x": [
          2009,
          2010,
          2011,
          2012,
          2013,
          2014,
          2015,
          2016,
          2017,
          2018,
          2019,
          2020,
          2021
         ],
         "xaxis": "x",
         "y": [
          0.19,
          0.14,
          0.18,
          0.17,
          0.16,
          0.13,
          0.14,
          0.15,
          0.14,
          0.14,
          0.14,
          0.15,
          0.16
         ],
         "yaxis": "y"
        },
        {
         "hovertemplate": "team=Portsmouth<br>season=%{x}<br>right=%{y}<extra></extra>",
         "legendgroup": "Portsmouth",
         "line": {
          "color": "rgb(189,189,189)",
          "dash": "solid"
         },
         "marker": {
          "symbol": "circle"
         },
         "mode": "lines+markers",
         "name": "Portsmouth",
         "opacity": 0.4,
         "showlegend": true,
         "type": "scattergl",
         "x": [
          2009
         ],
         "xaxis": "x",
         "y": [
          0.2
         ],
         "yaxis": "y"
        },
        {
         "hovertemplate": "team=Tottenham<br>season=%{x}<br>right=%{y}<extra></extra>",
         "legendgroup": "Tottenham",
         "line": {
          "color": "rgb(189,189,189)",
          "dash": "solid"
         },
         "marker": {
          "symbol": "circle"
         },
         "mode": "lines+markers",
         "name": "Tottenham",
         "opacity": 0.4,
         "showlegend": true,
         "type": "scattergl",
         "x": [
          2009,
          2010,
          2011,
          2012,
          2013,
          2014,
          2015,
          2016,
          2017,
          2018,
          2019,
          2020,
          2021
         ],
         "xaxis": "x",
         "y": [
          0.19,
          0.17,
          0.17,
          0.19,
          0.21,
          0.19,
          0.19,
          0.19,
          0.13,
          0.17,
          0.16,
          0.13,
          0.15
         ],
         "yaxis": "y"
        },
        {
         "hovertemplate": "team=Burnley<br>season=%{x}<br>right=%{y}<extra></extra>",
         "legendgroup": "Burnley",
         "line": {
          "color": "rgb(189,189,189)",
          "dash": "solid"
         },
         "marker": {
          "symbol": "circle"
         },
         "mode": "lines+markers",
         "name": "Burnley",
         "opacity": 0.4,
         "showlegend": true,
         "type": "scattergl",
         "x": [
          2009,
          2014,
          2016,
          2017,
          2018,
          2019,
          2020,
          2021
         ],
         "xaxis": "x",
         "y": [
          0.21,
          0.12,
          0.18,
          0.13,
          0.1,
          0.12,
          0.15,
          0.13
         ],
         "yaxis": "y"
        },
        {
         "hovertemplate": "team=Bolton<br>season=%{x}<br>right=%{y}<extra></extra>",
         "legendgroup": "Bolton",
         "line": {
          "color": "rgb(189,189,189)",
          "dash": "solid"
         },
         "marker": {
          "symbol": "circle"
         },
         "mode": "lines+markers",
         "name": "Bolton",
         "opacity": 0.4,
         "showlegend": true,
         "type": "scattergl",
         "x": [
          2009,
          2010,
          2011
         ],
         "xaxis": "x",
         "y": [
          0.14,
          0.17,
          0.19
         ],
         "yaxis": "y"
        },
        {
         "hovertemplate": "team=Stoke<br>season=%{x}<br>right=%{y}<extra></extra>",
         "legendgroup": "Stoke",
         "line": {
          "color": "rgb(189,189,189)",
          "dash": "solid"
         },
         "marker": {
          "symbol": "circle"
         },
         "mode": "lines+markers",
         "name": "Stoke",
         "opacity": 0.4,
         "showlegend": true,
         "type": "scattergl",
         "x": [
          2009,
          2010,
          2011,
          2012,
          2013,
          2014,
          2015,
          2016,
          2017
         ],
         "xaxis": "x",
         "y": [
          0.14,
          0.14,
          0.15,
          0.17,
          0.16,
          0.17,
          0.18,
          0.17,
          0.19
         ],
         "yaxis": "y"
        },
        {
         "hovertemplate": "team=Hull<br>season=%{x}<br>right=%{y}<extra></extra>",
         "legendgroup": "Hull",
         "line": {
          "color": "rgb(189,189,189)",
          "dash": "solid"
         },
         "marker": {
          "symbol": "circle"
         },
         "mode": "lines+markers",
         "name": "Hull",
         "opacity": 0.4,
         "showlegend": true,
         "type": "scattergl",
         "x": [
          2009,
          2013,
          2014,
          2016
         ],
         "xaxis": "x",
         "y": [
          0.17,
          0.13,
          0.13,
          0.17
         ],
         "yaxis": "y"
        },
        {
         "hovertemplate": "team=Liverpool<br>season=%{x}<br>right=%{y}<extra></extra>",
         "legendgroup": "Liverpool",
         "line": {
          "color": "rgb(189,189,189)",
          "dash": "solid"
         },
         "marker": {
          "symbol": "circle"
         },
         "mode": "lines+markers",
         "name": "Liverpool",
         "opacity": 0.4,
         "showlegend": true,
         "type": "scattergl",
         "x": [
          2009,
          2010,
          2011,
          2012,
          2013,
          2014,
          2015,
          2016,
          2017,
          2018,
          2019,
          2020,
          2021
         ],
         "xaxis": "x",
         "y": [
          0.18,
          0.15,
          0.18,
          0.2,
          0.19,
          0.11,
          0.16,
          0.15,
          0.16,
          0.17,
          0.17,
          0.13,
          0.15
         ],
         "yaxis": "y"
        },
        {
         "hovertemplate": "team=Blackpool<br>season=%{x}<br>right=%{y}<extra></extra>",
         "legendgroup": "Blackpool",
         "line": {
          "color": "rgb(189,189,189)",
          "dash": "solid"
         },
         "marker": {
          "symbol": "circle"
         },
         "mode": "lines+markers",
         "name": "Blackpool",
         "opacity": 0.4,
         "showlegend": true,
         "type": "scattergl",
         "x": [
          2010
         ],
         "xaxis": "x",
         "y": [
          0.16
         ],
         "yaxis": "y"
        },
        {
         "hovertemplate": "team=Newcastle United<br>season=%{x}<br>right=%{y}<extra></extra>",
         "legendgroup": "Newcastle United",
         "line": {
          "color": "rgb(189,189,189)",
          "dash": "solid"
         },
         "marker": {
          "symbol": "circle"
         },
         "mode": "lines+markers",
         "name": "Newcastle United",
         "opacity": 0.4,
         "showlegend": true,
         "type": "scattergl",
         "x": [
          2010,
          2011,
          2012,
          2013,
          2014,
          2015,
          2017,
          2018,
          2019,
          2020,
          2021
         ],
         "xaxis": "x",
         "y": [
          0.1,
          0.14,
          0.19,
          0.17,
          0.16,
          0.16,
          0.14,
          0.14,
          0.15,
          0.14,
          0.15
         ],
         "yaxis": "y"
        },
        {
         "hovertemplate": "team=West Bromwich Albion<br>season=%{x}<br>right=%{y}<extra></extra>",
         "legendgroup": "West Bromwich Albion",
         "line": {
          "color": "rgb(189,189,189)",
          "dash": "solid"
         },
         "marker": {
          "symbol": "circle"
         },
         "mode": "lines+markers",
         "name": "West Bromwich Albion",
         "opacity": 0.4,
         "showlegend": true,
         "type": "scattergl",
         "x": [
          2010,
          2011,
          2012,
          2013,
          2014,
          2015,
          2016,
          2017,
          2020
         ],
         "xaxis": "x",
         "y": [
          0.2,
          0.2,
          0.16,
          0.2,
          0.15,
          0.18,
          0.16,
          0.12,
          0.11
         ],
         "yaxis": "y"
        },
        {
         "hovertemplate": "team=Queens Park Rangers<br>season=%{x}<br>right=%{y}<extra></extra>",
         "legendgroup": "Queens Park Rangers",
         "line": {
          "color": "rgb(189,189,189)",
          "dash": "solid"
         },
         "marker": {
          "symbol": "circle"
         },
         "mode": "lines+markers",
         "name": "Queens Park Rangers",
         "opacity": 0.4,
         "showlegend": true,
         "type": "scattergl",
         "x": [
          2011,
          2012,
          2014
         ],
         "xaxis": "x",
         "y": [
          0.18,
          0.24,
          0.16
         ],
         "yaxis": "y"
        },
        {
         "hovertemplate": "team=Swansea<br>season=%{x}<br>right=%{y}<extra></extra>",
         "legendgroup": "Swansea",
         "line": {
          "color": "rgb(189,189,189)",
          "dash": "solid"
         },
         "marker": {
          "symbol": "circle"
         },
         "mode": "lines+markers",
         "name": "Swansea",
         "opacity": 0.4,
         "showlegend": true,
         "type": "scattergl",
         "x": [
          2011,
          2012,
          2013,
          2014,
          2015,
          2016,
          2017
         ],
         "xaxis": "x",
         "y": [
          0.17,
          0.17,
          0.16,
          0.12,
          0.18,
          0.15,
          0.18
         ],
         "yaxis": "y"
        },
        {
         "hovertemplate": "team=Norwich<br>season=%{x}<br>right=%{y}<extra></extra>",
         "legendgroup": "Norwich",
         "line": {
          "color": "rgb(189,189,189)",
          "dash": "solid"
         },
         "marker": {
          "symbol": "circle"
         },
         "mode": "lines+markers",
         "name": "Norwich",
         "opacity": 0.4,
         "showlegend": true,
         "type": "scattergl",
         "x": [
          2011,
          2012,
          2013,
          2015,
          2019,
          2021
         ],
         "xaxis": "x",
         "y": [
          0.13,
          0.17,
          0.18,
          0.19,
          0.17,
          0.14
         ],
         "yaxis": "y"
        },
        {
         "hovertemplate": "team=Southampton<br>season=%{x}<br>right=%{y}<extra></extra>",
         "legendgroup": "Southampton",
         "line": {
          "color": "rgb(189,189,189)",
          "dash": "solid"
         },
         "marker": {
          "symbol": "circle"
         },
         "mode": "lines+markers",
         "name": "Southampton",
         "opacity": 0.4,
         "showlegend": true,
         "type": "scattergl",
         "x": [
          2012,
          2013,
          2014,
          2015,
          2016,
          2017,
          2018,
          2019,
          2020,
          2021
         ],
         "xaxis": "x",
         "y": [
          0.15,
          0.13,
          0.14,
          0.16,
          0.18,
          0.12,
          0.14,
          0.12,
          0.13,
          0.13
         ],
         "yaxis": "y"
        },
        {
         "hovertemplate": "team=Reading<br>season=%{x}<br>right=%{y}<extra></extra>",
         "legendgroup": "Reading",
         "line": {
          "color": "rgb(189,189,189)",
          "dash": "solid"
         },
         "marker": {
          "symbol": "circle"
         },
         "mode": "lines+markers",
         "name": "Reading",
         "opacity": 0.4,
         "showlegend": true,
         "type": "scattergl",
         "x": [
          2012
         ],
         "xaxis": "x",
         "y": [
          0.13
         ],
         "yaxis": "y"
        },
        {
         "hovertemplate": "team=Crystal Palace<br>season=%{x}<br>right=%{y}<extra></extra>",
         "legendgroup": "Crystal Palace",
         "line": {
          "color": "rgb(189,189,189)",
          "dash": "solid"
         },
         "marker": {
          "symbol": "circle"
         },
         "mode": "lines+markers",
         "name": "Crystal Palace",
         "opacity": 0.4,
         "showlegend": true,
         "type": "scattergl",
         "x": [
          2013,
          2014,
          2015,
          2016,
          2017,
          2018,
          2019,
          2020,
          2021
         ],
         "xaxis": "x",
         "y": [
          0.21,
          0.17,
          0.18,
          0.14,
          0.11,
          0.13,
          0.11,
          0.12,
          0.13
         ],
         "yaxis": "y"
        },
        {
         "hovertemplate": "team=Cardiff<br>season=%{x}<br>right=%{y}<extra></extra>",
         "legendgroup": "Cardiff",
         "line": {
          "color": "rgb(189,189,189)",
          "dash": "solid"
         },
         "marker": {
          "symbol": "circle"
         },
         "mode": "lines+markers",
         "name": "Cardiff",
         "opacity": 0.4,
         "showlegend": true,
         "type": "scattergl",
         "x": [
          2013,
          2018
         ],
         "xaxis": "x",
         "y": [
          0.16,
          0.12
         ],
         "yaxis": "y"
        },
        {
         "hovertemplate": "team=Leicester<br>season=%{x}<br>right=%{y}<extra></extra>",
         "legendgroup": "Leicester",
         "line": {
          "color": "rgb(189,189,189)",
          "dash": "solid"
         },
         "marker": {
          "symbol": "circle"
         },
         "mode": "lines+markers",
         "name": "Leicester",
         "opacity": 0.4,
         "showlegend": true,
         "type": "scattergl",
         "x": [
          2014,
          2015,
          2016,
          2017,
          2018,
          2019,
          2020,
          2021
         ],
         "xaxis": "x",
         "y": [
          0.19,
          0.15,
          0.16,
          0.13,
          0.17,
          0.13,
          0.18,
          0.17
         ],
         "yaxis": "y"
        },
        {
         "hovertemplate": "team=Watford<br>season=%{x}<br>right=%{y}<extra></extra>",
         "legendgroup": "Watford",
         "line": {
          "color": "rgb(189,189,189)",
          "dash": "solid"
         },
         "marker": {
          "symbol": "circle"
         },
         "mode": "lines+markers",
         "name": "Watford",
         "opacity": 0.4,
         "showlegend": true,
         "type": "scattergl",
         "x": [
          2015,
          2016,
          2017,
          2018,
          2019,
          2021
         ],
         "xaxis": "x",
         "y": [
          0.16,
          0.15,
          0.12,
          0.11,
          0.11,
          0.15
         ],
         "yaxis": "y"
        },
        {
         "hovertemplate": "team=Bournemouth<br>season=%{x}<br>right=%{y}<extra></extra>",
         "legendgroup": "Bournemouth",
         "line": {
          "color": "rgb(189,189,189)",
          "dash": "solid"
         },
         "marker": {
          "symbol": "circle"
         },
         "mode": "lines+markers",
         "name": "Bournemouth",
         "opacity": 0.4,
         "showlegend": true,
         "type": "scattergl",
         "x": [
          2015,
          2016,
          2017,
          2018,
          2019
         ],
         "xaxis": "x",
         "y": [
          0.17,
          0.16,
          0.16,
          0.12,
          0.11
         ],
         "yaxis": "y"
        },
        {
         "hovertemplate": "team=Middlesbrough<br>season=%{x}<br>right=%{y}<extra></extra>",
         "legendgroup": "Middlesbrough",
         "line": {
          "color": "rgb(189,189,189)",
          "dash": "solid"
         },
         "marker": {
          "symbol": "circle"
         },
         "mode": "lines+markers",
         "name": "Middlesbrough",
         "opacity": 0.4,
         "showlegend": true,
         "type": "scattergl",
         "x": [
          2016
         ],
         "xaxis": "x",
         "y": [
          0.17
         ],
         "yaxis": "y"
        },
        {
         "hovertemplate": "team=Brighton<br>season=%{x}<br>right=%{y}<extra></extra>",
         "legendgroup": "Brighton",
         "line": {
          "color": "rgb(189,189,189)",
          "dash": "solid"
         },
         "marker": {
          "symbol": "circle"
         },
         "mode": "lines+markers",
         "name": "Brighton",
         "opacity": 0.4,
         "showlegend": true,
         "type": "scattergl",
         "x": [
          2017,
          2018,
          2019,
          2020,
          2021
         ],
         "xaxis": "x",
         "y": [
          0.15,
          0.14,
          0.11,
          0.12,
          0.13
         ],
         "yaxis": "y"
        },
        {
         "hovertemplate": "team=Huddersfield<br>season=%{x}<br>right=%{y}<extra></extra>",
         "legendgroup": "Huddersfield",
         "line": {
          "color": "rgb(189,189,189)",
          "dash": "solid"
         },
         "marker": {
          "symbol": "circle"
         },
         "mode": "lines+markers",
         "name": "Huddersfield",
         "opacity": 0.4,
         "showlegend": true,
         "type": "scattergl",
         "x": [
          2017,
          2018
         ],
         "xaxis": "x",
         "y": [
          0.17,
          0.16
         ],
         "yaxis": "y"
        },
        {
         "hovertemplate": "team=Sheffield United<br>season=%{x}<br>right=%{y}<extra></extra>",
         "legendgroup": "Sheffield United",
         "line": {
          "color": "rgb(189,189,189)",
          "dash": "solid"
         },
         "marker": {
          "symbol": "circle"
         },
         "mode": "lines+markers",
         "name": "Sheffield United",
         "opacity": 0.4,
         "showlegend": true,
         "type": "scattergl",
         "x": [
          2019,
          2020
         ],
         "xaxis": "x",
         "y": [
          0.14,
          0.16
         ],
         "yaxis": "y"
        },
        {
         "hovertemplate": "team=Leeds<br>season=%{x}<br>right=%{y}<extra></extra>",
         "legendgroup": "Leeds",
         "line": {
          "color": "rgb(189,189,189)",
          "dash": "solid"
         },
         "marker": {
          "symbol": "circle"
         },
         "mode": "lines+markers",
         "name": "Leeds",
         "opacity": 0.4,
         "showlegend": true,
         "type": "scattergl",
         "x": [
          2020,
          2021
         ],
         "xaxis": "x",
         "y": [
          0.15,
          0.18
         ],
         "yaxis": "y"
        },
        {
         "hovertemplate": "team=Brentford<br>season=%{x}<br>right=%{y}<extra></extra>",
         "legendgroup": "Brentford",
         "line": {
          "color": "rgb(189,189,189)",
          "dash": "solid"
         },
         "marker": {
          "symbol": "circle"
         },
         "mode": "lines+markers",
         "name": "Brentford",
         "opacity": 0.4,
         "showlegend": true,
         "type": "scattergl",
         "x": [
          2021
         ],
         "xaxis": "x",
         "y": [
          0.17
         ],
         "yaxis": "y"
        },
        {
         "hovertemplate": "team=Villarreal<br>season=%{x}<br>right=%{y}<extra></extra>",
         "legendgroup": "Villarreal",
         "line": {
          "color": "rgb(189,189,189)",
          "dash": "solid"
         },
         "marker": {
          "symbol": "circle"
         },
         "mode": "lines+markers",
         "name": "Villarreal",
         "opacity": 0.4,
         "showlegend": true,
         "type": "scattergl",
         "x": [
          2009,
          2010,
          2011,
          2013,
          2014,
          2015,
          2016,
          2017,
          2018,
          2019,
          2020,
          2021
         ],
         "xaxis": "x",
         "y": [
          0.14,
          0.25,
          0.18,
          0.18,
          0.2,
          0.24,
          0.22,
          0.23,
          0.19,
          0.16,
          0.17,
          0.11
         ],
         "yaxis": "y"
        },
        {
         "hovertemplate": "team=Valencia<br>season=%{x}<br>right=%{y}<extra></extra>",
         "legendgroup": "Valencia",
         "line": {
          "color": "rgb(189,189,189)",
          "dash": "solid"
         },
         "marker": {
          "symbol": "circle"
         },
         "mode": "lines+markers",
         "name": "Valencia",
         "opacity": 0.4,
         "showlegend": true,
         "type": "scattergl",
         "x": [
          2009,
          2010,
          2011,
          2012,
          2013,
          2014,
          2015,
          2016,
          2017,
          2018,
          2019,
          2020,
          2021
         ],
         "xaxis": "x",
         "y": [
          0.15,
          0.21,
          0.19,
          0.19,
          0.17,
          0.13,
          0.17,
          0.15,
          0.13,
          0.17,
          0.18,
          0.15,
          0.14
         ],
         "yaxis": "y"
        },
        {
         "hovertemplate": "team=Sporting Gijon<br>season=%{x}<br>right=%{y}<extra></extra>",
         "legendgroup": "Sporting Gijon",
         "line": {
          "color": "rgb(189,189,189)",
          "dash": "solid"
         },
         "marker": {
          "symbol": "circle"
         },
         "mode": "lines+markers",
         "name": "Sporting Gijon",
         "opacity": 0.4,
         "showlegend": true,
         "type": "scattergl",
         "x": [
          2009,
          2010,
          2011,
          2015,
          2016
         ],
         "xaxis": "x",
         "y": [
          0.22,
          0.2,
          0.23,
          0.19,
          0.12
         ],
         "yaxis": "y"
        },
        {
         "hovertemplate": "team=Real Madrid<br>season=%{x}<br>right=%{y}<extra></extra>",
         "legendgroup": "Real Madrid",
         "line": {
          "color": "rgb(189,189,189)",
          "dash": "solid"
         },
         "marker": {
          "symbol": "circle"
         },
         "mode": "lines+markers",
         "name": "Real Madrid",
         "opacity": 0.4,
         "showlegend": true,
         "type": "scattergl",
         "x": [
          2009,
          2010,
          2011,
          2012,
          2013,
          2014,
          2015,
          2016,
          2017,
          2018,
          2019,
          2020,
          2021
         ],
         "xaxis": "x",
         "y": [
          0.15,
          0.16,
          0.18,
          0.15,
          0.16,
          0.16,
          0.18,
          0.16,
          0.14,
          0.16,
          0.11,
          0.11,
          0.15
         ],
         "yaxis": "y"
        },
        {
         "hovertemplate": "team=Atletico Madrid<br>season=%{x}<br>right=%{y}<extra></extra>",
         "legendgroup": "Atletico Madrid",
         "line": {
          "color": "rgb(189,189,189)",
          "dash": "solid"
         },
         "marker": {
          "symbol": "circle"
         },
         "mode": "lines+markers",
         "name": "Atletico Madrid",
         "opacity": 0.4,
         "showlegend": true,
         "type": "scattergl",
         "x": [
          2009,
          2010,
          2011,
          2012,
          2013,
          2014,
          2015,
          2016,
          2017,
          2018,
          2019,
          2020,
          2021
         ],
         "xaxis": "x",
         "y": [
          0.2,
          0.19,
          0.18,
          0.14,
          0.16,
          0.11,
          0.13,
          0.13,
          0.18,
          0.23,
          0.12,
          0.14,
          0.13
         ],
         "yaxis": "y"
        },
        {
         "hovertemplate": "team=Malaga<br>season=%{x}<br>right=%{y}<extra></extra>",
         "legendgroup": "Malaga",
         "line": {
          "color": "rgb(189,189,189)",
          "dash": "solid"
         },
         "marker": {
          "symbol": "circle"
         },
         "mode": "lines+markers",
         "name": "Malaga",
         "opacity": 0.4,
         "showlegend": true,
         "type": "scattergl",
         "x": [
          2009,
          2010,
          2011,
          2012,
          2013,
          2014,
          2015,
          2016,
          2017
         ],
         "xaxis": "x",
         "y": [
          0.2,
          0.19,
          0.13,
          0.14,
          0.17,
          0.19,
          0.17,
          0.26,
          0.16
         ],
         "yaxis": "y"
        },
        {
         "hovertemplate": "team=Espanyol<br>season=%{x}<br>right=%{y}<extra></extra>",
         "legendgroup": "Espanyol",
         "line": {
          "color": "rgb(189,189,189)",
          "dash": "solid"
         },
         "marker": {
          "symbol": "circle"
         },
         "mode": "lines+markers",
         "name": "Espanyol",
         "opacity": 0.4,
         "showlegend": true,
         "type": "scattergl",
         "x": [
          2009,
          2010,
          2011,
          2012,
          2013,
          2014,
          2015,
          2016,
          2017,
          2018,
          2019,
          2021
         ],
         "xaxis": "x",
         "y": [
          0.2,
          0.21,
          0.19,
          0.19,
          0.22,
          0.14,
          0.17,
          0.14,
          0.2,
          0.19,
          0.17,
          0.17
         ],
         "yaxis": "y"
        },
        {
         "hovertemplate": "team=Getafe<br>season=%{x}<br>right=%{y}<extra></extra>",
         "legendgroup": "Getafe",
         "line": {
          "color": "rgb(189,189,189)",
          "dash": "solid"
         },
         "marker": {
          "symbol": "circle"
         },
         "mode": "lines+markers",
         "name": "Getafe",
         "opacity": 0.4,
         "showlegend": true,
         "type": "scattergl",
         "x": [
          2009,
          2010,
          2011,
          2012,
          2013,
          2014,
          2015,
          2017,
          2018,
          2019,
          2020,
          2021
         ],
         "xaxis": "x",
         "y": [
          0.15,
          0.17,
          0.17,
          0.19,
          0.21,
          0.21,
          0.21,
          0.19,
          0.15,
          0.18,
          0.18,
          0.18
         ],
         "yaxis": "y"
        },
        {
         "hovertemplate": "team=Racing Santander<br>season=%{x}<br>right=%{y}<extra></extra>",
         "legendgroup": "Racing Santander",
         "line": {
          "color": "rgb(189,189,189)",
          "dash": "solid"
         },
         "marker": {
          "symbol": "circle"
         },
         "mode": "lines+markers",
         "name": "Racing Santander",
         "opacity": 0.4,
         "showlegend": true,
         "type": "scattergl",
         "x": [
          2009,
          2010,
          2011
         ],
         "xaxis": "x",
         "y": [
          0.22,
          0.18,
          0.15
         ],
         "yaxis": "y"
        },
        {
         "hovertemplate": "team=Osasuna<br>season=%{x}<br>right=%{y}<extra></extra>",
         "legendgroup": "Osasuna",
         "line": {
          "color": "rgb(189,189,189)",
          "dash": "solid"
         },
         "marker": {
          "symbol": "circle"
         },
         "mode": "lines+markers",
         "name": "Osasuna",
         "opacity": 0.4,
         "showlegend": true,
         "type": "scattergl",
         "x": [
          2009,
          2010,
          2011,
          2012,
          2013,
          2016,
          2019,
          2020,
          2021
         ],
         "xaxis": "x",
         "y": [
          0.16,
          0.19,
          0.21,
          0.15,
          0.17,
          0.23,
          0.19,
          0.12,
          0.15
         ],
         "yaxis": "y"
        },
        {
         "hovertemplate": "team=Deportivo La Coruna<br>season=%{x}<br>right=%{y}<extra></extra>",
         "legendgroup": "Deportivo La Coruna",
         "line": {
          "color": "rgb(189,189,189)",
          "dash": "solid"
         },
         "marker": {
          "symbol": "circle"
         },
         "mode": "lines+markers",
         "name": "Deportivo La Coruna",
         "opacity": 0.4,
         "showlegend": true,
         "type": "scattergl",
         "x": [
          2009,
          2010,
          2012,
          2014,
          2015,
          2016,
          2017
         ],
         "xaxis": "x",
         "y": [
          0.17,
          0.21,
          0.21,
          0.23,
          0.23,
          0.23,
          0.19
         ],
         "yaxis": "y"
        },
        {
         "hovertemplate": "team=Real Valladolid<br>season=%{x}<br>right=%{y}<extra></extra>",
         "legendgroup": "Real Valladolid",
         "line": {
          "color": "rgb(189,189,189)",
          "dash": "solid"
         },
         "marker": {
          "symbol": "circle"
         },
         "mode": "lines+markers",
         "name": "Real Valladolid",
         "opacity": 0.4,
         "showlegend": true,
         "type": "scattergl",
         "x": [
          2009,
          2012,
          2013,
          2018,
          2019,
          2020
         ],
         "xaxis": "x",
         "y": [
          0.19,
          0.21,
          0.19,
          0.17,
          0.15,
          0.16
         ],
         "yaxis": "y"
        },
        {
         "hovertemplate": "team=Xerez<br>season=%{x}<br>right=%{y}<extra></extra>",
         "legendgroup": "Xerez",
         "line": {
          "color": "rgb(189,189,189)",
          "dash": "solid"
         },
         "marker": {
          "symbol": "circle"
         },
         "mode": "lines+markers",
         "name": "Xerez",
         "opacity": 0.4,
         "showlegend": true,
         "type": "scattergl",
         "x": [
          2009
         ],
         "xaxis": "x",
         "y": [
          0.21
         ],
         "yaxis": "y"
        },
        {
         "hovertemplate": "team=Real Zaragoza<br>season=%{x}<br>right=%{y}<extra></extra>",
         "legendgroup": "Real Zaragoza",
         "line": {
          "color": "rgb(189,189,189)",
          "dash": "solid"
         },
         "marker": {
          "symbol": "circle"
         },
         "mode": "lines+markers",
         "name": "Real Zaragoza",
         "opacity": 0.4,
         "showlegend": true,
         "type": "scattergl",
         "x": [
          2009,
          2010,
          2011,
          2012
         ],
         "xaxis": "x",
         "y": [
          0.2,
          0.17,
          0.21,
          0.2
         ],
         "yaxis": "y"
        },
        {
         "hovertemplate": "team=Barcelona<br>season=%{x}<br>right=%{y}<extra></extra>",
         "legendgroup": "Barcelona",
         "line": {
          "color": "rgb(189,189,189)",
          "dash": "solid"
         },
         "marker": {
          "symbol": "circle"
         },
         "mode": "lines+markers",
         "name": "Barcelona",
         "opacity": 0.4,
         "showlegend": true,
         "type": "scattergl",
         "x": [
          2009,
          2010,
          2011,
          2012,
          2013,
          2014,
          2015,
          2016,
          2017,
          2018,
          2019,
          2020,
          2021
         ],
         "xaxis": "x",
         "y": [
          0.16,
          0.2,
          0.15,
          0.14,
          0.15,
          0.14,
          0.13,
          0.14,
          0.12,
          0.13,
          0.16,
          0.15,
          0.16
         ],
         "yaxis": "y"
        },
        {
         "hovertemplate": "team=Almeria<br>season=%{x}<br>right=%{y}<extra></extra>",
         "legendgroup": "Almeria",
         "line": {
          "color": "rgb(189,189,189)",
          "dash": "solid"
         },
         "marker": {
          "symbol": "circle"
         },
         "mode": "lines+markers",
         "name": "Almeria",
         "opacity": 0.4,
         "showlegend": true,
         "type": "scattergl",
         "x": [
          2009,
          2010,
          2013,
          2014
         ],
         "xaxis": "x",
         "y": [
          0.15,
          0.18,
          0.21,
          0.18
         ],
         "yaxis": "y"
        },
        {
         "hovertemplate": "team=Athletic Bilbao<br>season=%{x}<br>right=%{y}<extra></extra>",
         "legendgroup": "Athletic Bilbao",
         "line": {
          "color": "rgb(189,189,189)",
          "dash": "solid"
         },
         "marker": {
          "symbol": "circle"
         },
         "mode": "lines+markers",
         "name": "Athletic Bilbao",
         "opacity": 0.4,
         "showlegend": true,
         "type": "scattergl",
         "x": [
          2009,
          2010,
          2011,
          2012,
          2013,
          2014,
          2015,
          2016,
          2017,
          2018,
          2019,
          2020,
          2021
         ],
         "xaxis": "x",
         "y": [
          0.13,
          0.15,
          0.16,
          0.21,
          0.16,
          0.14,
          0.19,
          0.19,
          0.18,
          0.15,
          0.2,
          0.16,
          0.17
         ],
         "yaxis": "y"
        },
        {
         "hovertemplate": "team=Sevilla<br>season=%{x}<br>right=%{y}<extra></extra>",
         "legendgroup": "Sevilla",
         "line": {
          "color": "rgb(189,189,189)",
          "dash": "solid"
         },
         "marker": {
          "symbol": "circle"
         },
         "mode": "lines+markers",
         "name": "Sevilla",
         "opacity": 0.4,
         "showlegend": true,
         "type": "scattergl",
         "x": [
          2009,
          2010,
          2011,
          2012,
          2013,
          2014,
          2015,
          2016,
          2017,
          2018,
          2019,
          2020,
          2021
         ],
         "xaxis": "x",
         "y": [
          0.2,
          0.16,
          0.19,
          0.2,
          0.18,
          0.18,
          0.16,
          0.15,
          0.17,
          0.16,
          0.16,
          0.18,
          0.13
         ],
         "yaxis": "y"
        },
        {
         "hovertemplate": "team=Tenerife<br>season=%{x}<br>right=%{y}<extra></extra>",
         "legendgroup": "Tenerife",
         "line": {
          "color": "rgb(189,189,189)",
          "dash": "solid"
         },
         "marker": {
          "symbol": "circle"
         },
         "mode": "lines+markers",
         "name": "Tenerife",
         "opacity": 0.4,
         "showlegend": true,
         "type": "scattergl",
         "x": [
          2009
         ],
         "xaxis": "x",
         "y": [
          0.23
         ],
         "yaxis": "y"
        },
        {
         "hovertemplate": "team=Mallorca<br>season=%{x}<br>right=%{y}<extra></extra>",
         "legendgroup": "Mallorca",
         "line": {
          "color": "rgb(189,189,189)",
          "dash": "solid"
         },
         "marker": {
          "symbol": "circle"
         },
         "mode": "lines+markers",
         "name": "Mallorca",
         "opacity": 0.4,
         "showlegend": true,
         "type": "scattergl",
         "x": [
          2009,
          2010,
          2011,
          2012,
          2019,
          2021
         ],
         "xaxis": "x",
         "y": [
          0.21,
          0.21,
          0.24,
          0.2,
          0.17,
          0.18
         ],
         "yaxis": "y"
        },
        {
         "hovertemplate": "team=Real Sociedad<br>season=%{x}<br>right=%{y}<extra></extra>",
         "legendgroup": "Real Sociedad",
         "line": {
          "color": "rgb(189,189,189)",
          "dash": "solid"
         },
         "marker": {
          "symbol": "circle"
         },
         "mode": "lines+markers",
         "name": "Real Sociedad",
         "opacity": 0.4,
         "showlegend": true,
         "type": "scattergl",
         "x": [
          2010,
          2011,
          2012,
          2013,
          2014,
          2015,
          2016,
          2017,
          2018,
          2019,
          2020,
          2021
         ],
         "xaxis": "x",
         "y": [
          0.21,
          0.19,
          0.21,
          0.18,
          0.19,
          0.14,
          0.16,
          0.19,
          0.14,
          0.17,
          0.16,
          0.22
         ],
         "yaxis": "y"
        },
        {
         "hovertemplate": "team=Levante<br>season=%{x}<br>right=%{y}<extra></extra>",
         "legendgroup": "Levante",
         "line": {
          "color": "rgb(189,189,189)",
          "dash": "solid"
         },
         "marker": {
          "symbol": "circle"
         },
         "mode": "lines+markers",
         "name": "Levante",
         "opacity": 0.4,
         "showlegend": true,
         "type": "scattergl",
         "x": [
          2010,
          2011,
          2012,
          2013,
          2014,
          2015,
          2017,
          2018,
          2019,
          2020,
          2021
         ],
         "xaxis": "x",
         "y": [
          0.21,
          0.21,
          0.18,
          0.21,
          0.19,
          0.18,
          0.14,
          0.18,
          0.16,
          0.17,
          0.18
         ],
         "yaxis": "y"
        },
        {
         "hovertemplate": "team=Hercules<br>season=%{x}<br>right=%{y}<extra></extra>",
         "legendgroup": "Hercules",
         "line": {
          "color": "rgb(189,189,189)",
          "dash": "solid"
         },
         "marker": {
          "symbol": "circle"
         },
         "mode": "lines+markers",
         "name": "Hercules",
         "opacity": 0.4,
         "showlegend": true,
         "type": "scattergl",
         "x": [
          2010
         ],
         "xaxis": "x",
         "y": [
          0.17
         ],
         "yaxis": "y"
        },
        {
         "hovertemplate": "team=Real Betis<br>season=%{x}<br>right=%{y}<extra></extra>",
         "legendgroup": "Real Betis",
         "line": {
          "color": "rgb(189,189,189)",
          "dash": "solid"
         },
         "marker": {
          "symbol": "circle"
         },
         "mode": "lines+markers",
         "name": "Real Betis",
         "opacity": 0.4,
         "showlegend": true,
         "type": "scattergl",
         "x": [
          2011,
          2012,
          2013,
          2015,
          2016,
          2017,
          2018,
          2019,
          2020,
          2021
         ],
         "xaxis": "x",
         "y": [
          0.15,
          0.2,
          0.18,
          0.19,
          0.17,
          0.19,
          0.22,
          0.18,
          0.23,
          0.18
         ],
         "yaxis": "y"
        },
        {
         "hovertemplate": "team=Granada<br>season=%{x}<br>right=%{y}<extra></extra>",
         "legendgroup": "Granada",
         "line": {
          "color": "rgb(189,189,189)",
          "dash": "solid"
         },
         "marker": {
          "symbol": "circle"
         },
         "mode": "lines+markers",
         "name": "Granada",
         "opacity": 0.4,
         "showlegend": true,
         "type": "scattergl",
         "x": [
          2011,
          2012,
          2013,
          2014,
          2015,
          2016,
          2019,
          2020,
          2021
         ],
         "xaxis": "x",
         "y": [
          0.24,
          0.18,
          0.17,
          0.19,
          0.2,
          0.2,
          0.14,
          0.17,
          0.15
         ],
         "yaxis": "y"
        },
        {
         "hovertemplate": "team=Rayo Vallecano<br>season=%{x}<br>right=%{y}<extra></extra>",
         "legendgroup": "Rayo Vallecano",
         "line": {
          "color": "rgb(189,189,189)",
          "dash": "solid"
         },
         "marker": {
          "symbol": "circle"
         },
         "mode": "lines+markers",
         "name": "Rayo Vallecano",
         "opacity": 0.4,
         "showlegend": true,
         "type": "scattergl",
         "x": [
          2011,
          2012,
          2013,
          2014,
          2015,
          2018,
          2021
         ],
         "xaxis": "x",
         "y": [
          0.2,
          0.23,
          0.19,
          0.18,
          0.21,
          0.14,
          0.16
         ],
         "yaxis": "y"
        },
        {
         "hovertemplate": "team=Celta Vigo<br>season=%{x}<br>right=%{y}<extra></extra>",
         "legendgroup": "Celta Vigo",
         "line": {
          "color": "rgb(189,189,189)",
          "dash": "solid"
         },
         "marker": {
          "symbol": "circle"
         },
         "mode": "lines+markers",
         "name": "Celta Vigo",
         "opacity": 0.4,
         "showlegend": true,
         "type": "scattergl",
         "x": [
          2012,
          2013,
          2014,
          2015,
          2016,
          2017,
          2018,
          2019,
          2020,
          2021
         ],
         "xaxis": "x",
         "y": [
          0.21,
          0.19,
          0.15,
          0.17,
          0.2,
          0.17,
          0.21,
          0.21,
          0.15,
          0.19
         ],
         "yaxis": "y"
        },
        {
         "hovertemplate": "team=Elche<br>season=%{x}<br>right=%{y}<extra></extra>",
         "legendgroup": "Elche",
         "line": {
          "color": "rgb(189,189,189)",
          "dash": "solid"
         },
         "marker": {
          "symbol": "circle"
         },
         "mode": "lines+markers",
         "name": "Elche",
         "opacity": 0.4,
         "showlegend": true,
         "type": "scattergl",
         "x": [
          2013,
          2014,
          2020,
          2021
         ],
         "xaxis": "x",
         "y": [
          0.19,
          0.2,
          0.14,
          0.13
         ],
         "yaxis": "y"
        },
        {
         "hovertemplate": "team=Cordoba<br>season=%{x}<br>right=%{y}<extra></extra>",
         "legendgroup": "Cordoba",
         "line": {
          "color": "rgb(189,189,189)",
          "dash": "solid"
         },
         "marker": {
          "symbol": "circle"
         },
         "mode": "lines+markers",
         "name": "Cordoba",
         "opacity": 0.4,
         "showlegend": true,
         "type": "scattergl",
         "x": [
          2014
         ],
         "xaxis": "x",
         "y": [
          0.23
         ],
         "yaxis": "y"
        },
        {
         "hovertemplate": "team=Eibar<br>season=%{x}<br>right=%{y}<extra></extra>",
         "legendgroup": "Eibar",
         "line": {
          "color": "rgb(189,189,189)",
          "dash": "solid"
         },
         "marker": {
          "symbol": "circle"
         },
         "mode": "lines+markers",
         "name": "Eibar",
         "opacity": 0.4,
         "showlegend": true,
         "type": "scattergl",
         "x": [
          2014,
          2015,
          2016,
          2017,
          2018,
          2019,
          2020
         ],
         "xaxis": "x",
         "y": [
          0.18,
          0.16,
          0.18,
          0.15,
          0.18,
          0.15,
          0.13
         ],
         "yaxis": "y"
        },
        {
         "hovertemplate": "team=Las Palmas<br>season=%{x}<br>right=%{y}<extra></extra>",
         "legendgroup": "Las Palmas",
         "line": {
          "color": "rgb(189,189,189)",
          "dash": "solid"
         },
         "marker": {
          "symbol": "circle"
         },
         "mode": "lines+markers",
         "name": "Las Palmas",
         "opacity": 0.4,
         "showlegend": true,
         "type": "scattergl",
         "x": [
          2015,
          2016,
          2017
         ],
         "xaxis": "x",
         "y": [
          0.14,
          0.18,
          0.22
         ],
         "yaxis": "y"
        },
        {
         "hovertemplate": "team=Leganes<br>season=%{x}<br>right=%{y}<extra></extra>",
         "legendgroup": "Leganes",
         "line": {
          "color": "rgb(189,189,189)",
          "dash": "solid"
         },
         "marker": {
          "symbol": "circle"
         },
         "mode": "lines+markers",
         "name": "Leganes",
         "opacity": 0.4,
         "showlegend": true,
         "type": "scattergl",
         "x": [
          2016,
          2017,
          2018,
          2019
         ],
         "xaxis": "x",
         "y": [
          0.17,
          0.19,
          0.15,
          0.17
         ],
         "yaxis": "y"
        },
        {
         "hovertemplate": "team=Deportivo Alaves<br>season=%{x}<br>right=%{y}<extra></extra>",
         "legendgroup": "Deportivo Alaves",
         "line": {
          "color": "rgb(189,189,189)",
          "dash": "solid"
         },
         "marker": {
          "symbol": "circle"
         },
         "mode": "lines+markers",
         "name": "Deportivo Alaves",
         "opacity": 0.4,
         "showlegend": true,
         "type": "scattergl",
         "x": [
          2016,
          2017,
          2018,
          2019,
          2020,
          2021
         ],
         "xaxis": "x",
         "y": [
          0.16,
          0.13,
          0.15,
          0.13,
          0.11,
          0.16
         ],
         "yaxis": "y"
        },
        {
         "hovertemplate": "team=Girona<br>season=%{x}<br>right=%{y}<extra></extra>",
         "legendgroup": "Girona",
         "line": {
          "color": "rgb(189,189,189)",
          "dash": "solid"
         },
         "marker": {
          "symbol": "circle"
         },
         "mode": "lines+markers",
         "name": "Girona",
         "opacity": 0.4,
         "showlegend": true,
         "type": "scattergl",
         "x": [
          2017,
          2018
         ],
         "xaxis": "x",
         "y": [
          0.16,
          0.15
         ],
         "yaxis": "y"
        },
        {
         "hovertemplate": "team=SD Huesca<br>season=%{x}<br>right=%{y}<extra></extra>",
         "legendgroup": "SD Huesca",
         "line": {
          "color": "rgb(189,189,189)",
          "dash": "solid"
         },
         "marker": {
          "symbol": "circle"
         },
         "mode": "lines+markers",
         "name": "SD Huesca",
         "opacity": 0.4,
         "showlegend": true,
         "type": "scattergl",
         "x": [
          2018,
          2020
         ],
         "xaxis": "x",
         "y": [
          0.15,
          0.19
         ],
         "yaxis": "y"
        },
        {
         "hovertemplate": "team=Cadiz<br>season=%{x}<br>right=%{y}<extra></extra>",
         "legendgroup": "Cadiz",
         "line": {
          "color": "rgb(189,189,189)",
          "dash": "solid"
         },
         "marker": {
          "symbol": "circle"
         },
         "mode": "lines+markers",
         "name": "Cadiz",
         "opacity": 0.4,
         "showlegend": true,
         "type": "scattergl",
         "x": [
          2020,
          2021
         ],
         "xaxis": "x",
         "y": [
          0.12,
          0.16
         ],
         "yaxis": "y"
        },
        {
         "hovertemplate": "team=Boulogne<br>season=%{x}<br>right=%{y}<extra></extra>",
         "legendgroup": "Boulogne",
         "line": {
          "color": "rgb(189,189,189)",
          "dash": "solid"
         },
         "marker": {
          "symbol": "circle"
         },
         "mode": "lines+markers",
         "name": "Boulogne",
         "opacity": 0.4,
         "showlegend": true,
         "type": "scattergl",
         "x": [
          2009
         ],
         "xaxis": "x",
         "y": [
          0.21
         ],
         "yaxis": "y"
        },
        {
         "hovertemplate": "team=Toulouse<br>season=%{x}<br>right=%{y}<extra></extra>",
         "legendgroup": "Toulouse",
         "line": {
          "color": "rgb(189,189,189)",
          "dash": "solid"
         },
         "marker": {
          "symbol": "circle"
         },
         "mode": "lines+markers",
         "name": "Toulouse",
         "opacity": 0.4,
         "showlegend": true,
         "type": "scattergl",
         "x": [
          2009,
          2010,
          2011,
          2012,
          2013,
          2014,
          2015,
          2016,
          2017,
          2018,
          2019
         ],
         "xaxis": "x",
         "y": [
          0.19,
          0.17,
          0.18,
          0.22,
          0.19,
          0.16,
          0.19,
          0.17,
          0.16,
          0.15,
          0.15
         ],
         "yaxis": "y"
        },
        {
         "hovertemplate": "team=Nancy<br>season=%{x}<br>right=%{y}<extra></extra>",
         "legendgroup": "Nancy",
         "line": {
          "color": "rgb(189,189,189)",
          "dash": "solid"
         },
         "marker": {
          "symbol": "circle"
         },
         "mode": "lines+markers",
         "name": "Nancy",
         "opacity": 0.4,
         "showlegend": true,
         "type": "scattergl",
         "x": [
          2009,
          2010,
          2011,
          2012,
          2016
         ],
         "xaxis": "x",
         "y": [
          0.19,
          0.17,
          0.16,
          0.16,
          0.21
         ],
         "yaxis": "y"
        },
        {
         "hovertemplate": "team=Sochaux<br>season=%{x}<br>right=%{y}<extra></extra>",
         "legendgroup": "Sochaux",
         "line": {
          "color": "rgb(189,189,189)",
          "dash": "solid"
         },
         "marker": {
          "symbol": "circle"
         },
         "mode": "lines+markers",
         "name": "Sochaux",
         "opacity": 0.4,
         "showlegend": true,
         "type": "scattergl",
         "x": [
          2009,
          2010,
          2011,
          2012,
          2013
         ],
         "xaxis": "x",
         "y": [
          0.22,
          0.21,
          0.16,
          0.2,
          0.23
         ],
         "yaxis": "y"
        },
        {
         "hovertemplate": "team=Saint-Etienne<br>season=%{x}<br>right=%{y}<extra></extra>",
         "legendgroup": "Saint-Etienne",
         "line": {
          "color": "rgb(189,189,189)",
          "dash": "solid"
         },
         "marker": {
          "symbol": "circle"
         },
         "mode": "lines+markers",
         "name": "Saint-Etienne",
         "opacity": 0.4,
         "showlegend": true,
         "type": "scattergl",
         "x": [
          2009,
          2010,
          2011,
          2012,
          2013,
          2014,
          2015,
          2016,
          2017,
          2018,
          2019,
          2020,
          2021
         ],
         "xaxis": "x",
         "y": [
          0.21,
          0.21,
          0.19,
          0.16,
          0.2,
          0.21,
          0.18,
          0.2,
          0.15,
          0.19,
          0.22,
          0.14,
          0.21
         ],
         "yaxis": "y"
        },
        {
         "hovertemplate": "team=Nice<br>season=%{x}<br>right=%{y}<extra></extra>",
         "legendgroup": "Nice",
         "line": {
          "color": "rgb(189,189,189)",
          "dash": "solid"
         },
         "marker": {
          "symbol": "circle"
         },
         "mode": "lines+markers",
         "name": "Nice",
         "opacity": 0.4,
         "showlegend": true,
         "type": "scattergl",
         "x": [
          2009,
          2010,
          2011,
          2012,
          2013,
          2014,
          2015,
          2016,
          2017,
          2018,
          2019,
          2020,
          2021
         ],
         "xaxis": "x",
         "y": [
          0.19,
          0.21,
          0.15,
          0.2,
          0.24,
          0.21,
          0.17,
          0.19,
          0.15,
          0.17,
          0.22,
          0.16,
          0.17
         ],
         "yaxis": "y"
        },
        {
         "hovertemplate": "team=Lorient<br>season=%{x}<br>right=%{y}<extra></extra>",
         "legendgroup": "Lorient",
         "line": {
          "color": "rgb(189,189,189)",
          "dash": "solid"
         },
         "marker": {
          "symbol": "circle"
         },
         "mode": "lines+markers",
         "name": "Lorient",
         "opacity": 0.4,
         "showlegend": true,
         "type": "scattergl",
         "x": [
          2009,
          2010,
          2011,
          2012,
          2013,
          2014,
          2015,
          2016,
          2020,
          2021
         ],
         "xaxis": "x",
         "y": [
          0.28,
          0.23,
          0.24,
          0.2,
          0.2,
          0.2,
          0.21,
          0.18,
          0.15,
          0.21
         ],
         "yaxis": "y"
        },
        {
         "hovertemplate": "team=Valenciennes<br>season=%{x}<br>right=%{y}<extra></extra>",
         "legendgroup": "Valenciennes",
         "line": {
          "color": "rgb(189,189,189)",
          "dash": "solid"
         },
         "marker": {
          "symbol": "circle"
         },
         "mode": "lines+markers",
         "name": "Valenciennes",
         "opacity": 0.4,
         "showlegend": true,
         "type": "scattergl",
         "x": [
          2009,
          2010,
          2011,
          2012,
          2013
         ],
         "xaxis": "x",
         "y": [
          0.18,
          0.18,
          0.18,
          0.17,
          0.18
         ],
         "yaxis": "y"
        },
        {
         "hovertemplate": "team=Paris Saint-Germain<br>season=%{x}<br>right=%{y}<extra></extra>",
         "legendgroup": "Paris Saint-Germain",
         "line": {
          "color": "rgb(189,189,189)",
          "dash": "solid"
         },
         "marker": {
          "symbol": "circle"
         },
         "mode": "lines+markers",
         "name": "Paris Saint-Germain",
         "opacity": 0.4,
         "showlegend": true,
         "type": "scattergl",
         "x": [
          2009,
          2010,
          2011,
          2012,
          2013,
          2014,
          2015,
          2016,
          2017,
          2018,
          2019,
          2020,
          2021
         ],
         "xaxis": "x",
         "y": [
          0.21,
          0.18,
          0.21,
          0.18,
          0.16,
          0.15,
          0.13,
          0.16,
          0.16,
          0.17,
          0.14,
          0.13,
          0.14
         ],
         "yaxis": "y"
        },
        {
         "hovertemplate": "team=Lyon<br>season=%{x}<br>right=%{y}<extra></extra>",
         "legendgroup": "Lyon",
         "line": {
          "color": "rgb(189,189,189)",
          "dash": "solid"
         },
         "marker": {
          "symbol": "circle"
         },
         "mode": "lines+markers",
         "name": "Lyon",
         "opacity": 0.4,
         "showlegend": true,
         "type": "scattergl",
         "x": [
          2009,
          2010,
          2011,
          2012,
          2013,
          2014,
          2015,
          2016,
          2017,
          2018,
          2019,
          2020,
          2021
         ],
         "xaxis": "x",
         "y": [
          0.17,
          0.2,
          0.17,
          0.18,
          0.17,
          0.19,
          0.22,
          0.18,
          0.22,
          0.16,
          0.18,
          0.16,
          0.14
         ],
         "yaxis": "y"
        },
        {
         "hovertemplate": "team=Montpellier<br>season=%{x}<br>right=%{y}<extra></extra>",
         "legendgroup": "Montpellier",
         "line": {
          "color": "rgb(189,189,189)",
          "dash": "solid"
         },
         "marker": {
          "symbol": "circle"
         },
         "mode": "lines+markers",
         "name": "Montpellier",
         "opacity": 0.4,
         "showlegend": true,
         "type": "scattergl",
         "x": [
          2009,
          2010,
          2011,
          2012,
          2013,
          2014,
          2015,
          2016,
          2017,
          2018,
          2019,
          2020,
          2021
         ],
         "xaxis": "x",
         "y": [
          0.23,
          0.19,
          0.16,
          0.19,
          0.19,
          0.21,
          0.13,
          0.13,
          0.2,
          0.2,
          0.15,
          0.16,
          0.19
         ],
         "yaxis": "y"
        },
        {
         "hovertemplate": "team=Bordeaux<br>season=%{x}<br>right=%{y}<extra></extra>",
         "legendgroup": "Bordeaux",
         "line": {
          "color": "rgb(189,189,189)",
          "dash": "solid"
         },
         "marker": {
          "symbol": "circle"
         },
         "mode": "lines+markers",
         "name": "Bordeaux",
         "opacity": 0.4,
         "showlegend": true,
         "type": "scattergl",
         "x": [
          2009,
          2010,
          2011,
          2012,
          2013,
          2014,
          2015,
          2016,
          2017,
          2018,
          2019,
          2020,
          2021
         ],
         "xaxis": "x",
         "y": [
          0.17,
          0.17,
          0.18,
          0.17,
          0.15,
          0.19,
          0.18,
          0.17,
          0.19,
          0.17,
          0.19,
          0.18,
          0.21
         ],
         "yaxis": "y"
        },
        {
         "hovertemplate": "team=Rennes<br>season=%{x}<br>right=%{y}<extra></extra>",
         "legendgroup": "Rennes",
         "line": {
          "color": "rgb(189,189,189)",
          "dash": "solid"
         },
         "marker": {
          "symbol": "circle"
         },
         "mode": "lines+markers",
         "name": "Rennes",
         "opacity": 0.4,
         "showlegend": true,
         "type": "scattergl",
         "x": [
          2009,
          2010,
          2011,
          2012,
          2013,
          2014,
          2015,
          2016,
          2017,
          2018,
          2019,
          2020,
          2021
         ],
         "xaxis": "x",
         "y": [
          0.21,
          0.18,
          0.18,
          0.21,
          0.22,
          0.18,
          0.18,
          0.16,
          0.2,
          0.21,
          0.2,
          0.17,
          0.15
         ],
         "yaxis": "y"
        },
        {
         "hovertemplate": "team=Grenoble<br>season=%{x}<br>right=%{y}<extra></extra>",
         "legendgroup": "Grenoble",
         "line": {
          "color": "rgb(189,189,189)",
          "dash": "solid"
         },
         "marker": {
          "symbol": "circle"
         },
         "mode": "lines+markers",
         "name": "Grenoble",
         "opacity": 0.4,
         "showlegend": true,
         "type": "scattergl",
         "x": [
          2009
         ],
         "xaxis": "x",
         "y": [
          0.23
         ],
         "yaxis": "y"
        },
        {
         "hovertemplate": "team=Le Mans<br>season=%{x}<br>right=%{y}<extra></extra>",
         "legendgroup": "Le Mans",
         "line": {
          "color": "rgb(189,189,189)",
          "dash": "solid"
         },
         "marker": {
          "symbol": "circle"
         },
         "mode": "lines+markers",
         "name": "Le Mans",
         "opacity": 0.4,
         "showlegend": true,
         "type": "scattergl",
         "x": [
          2009
         ],
         "xaxis": "x",
         "y": [
          0.16
         ],
         "yaxis": "y"
        },
        {
         "hovertemplate": "team=Lens<br>season=%{x}<br>right=%{y}<extra></extra>",
         "legendgroup": "Lens",
         "line": {
          "color": "rgb(189,189,189)",
          "dash": "solid"
         },
         "marker": {
          "symbol": "circle"
         },
         "mode": "lines+markers",
         "name": "Lens",
         "opacity": 0.4,
         "showlegend": true,
         "type": "scattergl",
         "x": [
          2009,
          2010,
          2014,
          2020,
          2021
         ],
         "xaxis": "x",
         "y": [
          0.21,
          0.2,
          0.19,
          0.19,
          0.17
         ],
         "yaxis": "y"
        },
        {
         "hovertemplate": "team=Marseille<br>season=%{x}<br>right=%{y}<extra></extra>",
         "legendgroup": "Marseille",
         "line": {
          "color": "rgb(189,189,189)",
          "dash": "solid"
         },
         "marker": {
          "symbol": "circle"
         },
         "mode": "lines+markers",
         "name": "Marseille",
         "opacity": 0.4,
         "showlegend": true,
         "type": "scattergl",
         "x": [
          2009,
          2010,
          2011,
          2012,
          2013,
          2014,
          2015,
          2016,
          2017,
          2018,
          2019,
          2020,
          2021
         ],
         "xaxis": "x",
         "y": [
          0.14,
          0.13,
          0.13,
          0.15,
          0.17,
          0.17,
          0.15,
          0.2,
          0.18,
          0.16,
          0.12,
          0.17,
          0.17
         ],
         "yaxis": "y"
        },
        {
         "hovertemplate": "team=Auxerre<br>season=%{x}<br>right=%{y}<extra></extra>",
         "legendgroup": "Auxerre",
         "line": {
          "color": "rgb(189,189,189)",
          "dash": "solid"
         },
         "marker": {
          "symbol": "circle"
         },
         "mode": "lines+markers",
         "name": "Auxerre",
         "opacity": 0.4,
         "showlegend": true,
         "type": "scattergl",
         "x": [
          2009,
          2010,
          2011
         ],
         "xaxis": "x",
         "y": [
          0.21,
          0.19,
          0.17
         ],
         "yaxis": "y"
        },
        {
         "hovertemplate": "team=Lille<br>season=%{x}<br>right=%{y}<extra></extra>",
         "legendgroup": "Lille",
         "line": {
          "color": "rgb(189,189,189)",
          "dash": "solid"
         },
         "marker": {
          "symbol": "circle"
         },
         "mode": "lines+markers",
         "name": "Lille",
         "opacity": 0.4,
         "showlegend": true,
         "type": "scattergl",
         "x": [
          2009,
          2010,
          2011,
          2012,
          2013,
          2014,
          2015,
          2016,
          2017,
          2018,
          2019,
          2020,
          2021
         ],
         "xaxis": "x",
         "y": [
          0.2,
          0.21,
          0.19,
          0.19,
          0.17,
          0.16,
          0.19,
          0.21,
          0.23,
          0.19,
          0.15,
          0.18,
          0.17
         ],
         "yaxis": "y"
        },
        {
         "hovertemplate": "team=Monaco<br>season=%{x}<br>right=%{y}<extra></extra>",
         "legendgroup": "Monaco",
         "line": {
          "color": "rgb(189,189,189)",
          "dash": "solid"
         },
         "marker": {
          "symbol": "circle"
         },
         "mode": "lines+markers",
         "name": "Monaco",
         "opacity": 0.4,
         "showlegend": true,
         "type": "scattergl",
         "x": [
          2009,
          2010,
          2013,
          2014,
          2015,
          2016,
          2017,
          2018,
          2019,
          2020,
          2021
         ],
         "xaxis": "x",
         "y": [
          0.2,
          0.13,
          0.18,
          0.14,
          0.19,
          0.16,
          0.22,
          0.18,
          0.18,
          0.14,
          0.15
         ],
         "yaxis": "y"
        },
        {
         "hovertemplate": "team=Caen<br>season=%{x}<br>right=%{y}<extra></extra>",
         "legendgroup": "Caen",
         "line": {
          "color": "rgb(189,189,189)",
          "dash": "solid"
         },
         "marker": {
          "symbol": "circle"
         },
         "mode": "lines+markers",
         "name": "Caen",
         "opacity": 0.4,
         "showlegend": true,
         "type": "scattergl",
         "x": [
          2010,
          2011,
          2014,
          2015,
          2016,
          2017,
          2018
         ],
         "xaxis": "x",
         "y": [
          0.17,
          0.15,
          0.17,
          0.21,
          0.15,
          0.15,
          0.14
         ],
         "yaxis": "y"
        },
        {
         "hovertemplate": "team=Brest<br>season=%{x}<br>right=%{y}<extra></extra>",
         "legendgroup": "Brest",
         "line": {
          "color": "rgb(189,189,189)",
          "dash": "solid"
         },
         "marker": {
          "symbol": "circle"
         },
         "mode": "lines+markers",
         "name": "Brest",
         "opacity": 0.4,
         "showlegend": true,
         "type": "scattergl",
         "x": [
          2010,
          2011,
          2012,
          2019,
          2020,
          2021
         ],
         "xaxis": "x",
         "y": [
          0.15,
          0.19,
          0.2,
          0.22,
          0.16,
          0.13
         ],
         "yaxis": "y"
        },
        {
         "hovertemplate": "team=Arles-Avignon<br>season=%{x}<br>right=%{y}<extra></extra>",
         "legendgroup": "Arles-Avignon",
         "line": {
          "color": "rgb(189,189,189)",
          "dash": "solid"
         },
         "marker": {
          "symbol": "circle"
         },
         "mode": "lines+markers",
         "name": "Arles-Avignon",
         "opacity": 0.4,
         "showlegend": true,
         "type": "scattergl",
         "x": [
          2010
         ],
         "xaxis": "x",
         "y": [
          0.21
         ],
         "yaxis": "y"
        },
        {
         "hovertemplate": "team=AC Ajaccio<br>season=%{x}<br>right=%{y}<extra></extra>",
         "legendgroup": "AC Ajaccio",
         "line": {
          "color": "rgb(189,189,189)",
          "dash": "solid"
         },
         "marker": {
          "symbol": "circle"
         },
         "mode": "lines+markers",
         "name": "AC Ajaccio",
         "opacity": 0.4,
         "showlegend": true,
         "type": "scattergl",
         "x": [
          2011,
          2012,
          2013
         ],
         "xaxis": "x",
         "y": [
          0.23,
          0.2,
          0.21
         ],
         "yaxis": "y"
        },
        {
         "hovertemplate": "team=Dijon<br>season=%{x}<br>right=%{y}<extra></extra>",
         "legendgroup": "Dijon",
         "line": {
          "color": "rgb(189,189,189)",
          "dash": "solid"
         },
         "marker": {
          "symbol": "circle"
         },
         "mode": "lines+markers",
         "name": "Dijon",
         "opacity": 0.4,
         "showlegend": true,
         "type": "scattergl",
         "x": [
          2011,
          2016,
          2017,
          2018,
          2019,
          2020
         ],
         "xaxis": "x",
         "y": [
          0.2,
          0.19,
          0.16,
          0.17,
          0.14,
          0.13
         ],
         "yaxis": "y"
        },
        {
         "hovertemplate": "team=Thonon Evian Grand Geneve<br>season=%{x}<br>right=%{y}<extra></extra>",
         "legendgroup": "Thonon Evian Grand Geneve",
         "line": {
          "color": "rgb(189,189,189)",
          "dash": "solid"
         },
         "marker": {
          "symbol": "circle"
         },
         "mode": "lines+markers",
         "name": "Thonon Evian Grand Geneve",
         "opacity": 0.4,
         "showlegend": true,
         "type": "scattergl",
         "x": [
          2011,
          2012,
          2013,
          2014
         ],
         "xaxis": "x",
         "y": [
          0.2,
          0.24,
          0.19,
          0.15
         ],
         "yaxis": "y"
        },
        {
         "hovertemplate": "team=SC Bastia<br>season=%{x}<br>right=%{y}<extra></extra>",
         "legendgroup": "SC Bastia",
         "line": {
          "color": "rgb(189,189,189)",
          "dash": "solid"
         },
         "marker": {
          "symbol": "circle"
         },
         "mode": "lines+markers",
         "name": "SC Bastia",
         "opacity": 0.4,
         "showlegend": true,
         "type": "scattergl",
         "x": [
          2012,
          2013,
          2014,
          2015,
          2016
         ],
         "xaxis": "x",
         "y": [
          0.18,
          0.17,
          0.22,
          0.18,
          0.16
         ],
         "yaxis": "y"
        },
        {
         "hovertemplate": "team=Reims<br>season=%{x}<br>right=%{y}<extra></extra>",
         "legendgroup": "Reims",
         "line": {
          "color": "rgb(189,189,189)",
          "dash": "solid"
         },
         "marker": {
          "symbol": "circle"
         },
         "mode": "lines+markers",
         "name": "Reims",
         "opacity": 0.4,
         "showlegend": true,
         "type": "scattergl",
         "x": [
          2012,
          2013,
          2014,
          2015,
          2018,
          2019,
          2020,
          2021
         ],
         "xaxis": "x",
         "y": [
          0.16,
          0.22,
          0.16,
          0.23,
          0.17,
          0.19,
          0.22,
          0.14
         ],
         "yaxis": "y"
        },
        {
         "hovertemplate": "team=Troyes<br>season=%{x}<br>right=%{y}<extra></extra>",
         "legendgroup": "Troyes",
         "line": {
          "color": "rgb(189,189,189)",
          "dash": "solid"
         },
         "marker": {
          "symbol": "circle"
         },
         "mode": "lines+markers",
         "name": "Troyes",
         "opacity": 0.4,
         "showlegend": true,
         "type": "scattergl",
         "x": [
          2012,
          2015,
          2017,
          2021
         ],
         "xaxis": "x",
         "y": [
          0.18,
          0.27,
          0.18,
          0.13
         ],
         "yaxis": "y"
        },
        {
         "hovertemplate": "team=Guingamp<br>season=%{x}<br>right=%{y}<extra></extra>",
         "legendgroup": "Guingamp",
         "line": {
          "color": "rgb(189,189,189)",
          "dash": "solid"
         },
         "marker": {
          "symbol": "circle"
         },
         "mode": "lines+markers",
         "name": "Guingamp",
         "opacity": 0.4,
         "showlegend": true,
         "type": "scattergl",
         "x": [
          2013,
          2014,
          2015,
          2016,
          2017,
          2018
         ],
         "xaxis": "x",
         "y": [
          0.17,
          0.19,
          0.15,
          0.15,
          0.18,
          0.19
         ],
         "yaxis": "y"
        },
        {
         "hovertemplate": "team=Nantes<br>season=%{x}<br>right=%{y}<extra></extra>",
         "legendgroup": "Nantes",
         "line": {
          "color": "rgb(189,189,189)",
          "dash": "solid"
         },
         "marker": {
          "symbol": "circle"
         },
         "mode": "lines+markers",
         "name": "Nantes",
         "opacity": 0.4,
         "showlegend": true,
         "type": "scattergl",
         "x": [
          2013,
          2014,
          2015,
          2016,
          2017,
          2018,
          2019,
          2020,
          2021
         ],
         "xaxis": "x",
         "y": [
          0.19,
          0.21,
          0.15,
          0.19,
          0.15,
          0.16,
          0.14,
          0.15,
          0.16
         ],
         "yaxis": "y"
        },
        {
         "hovertemplate": "team=Metz<br>season=%{x}<br>right=%{y}<extra></extra>",
         "legendgroup": "Metz",
         "line": {
          "color": "rgb(189,189,189)",
          "dash": "solid"
         },
         "marker": {
          "symbol": "circle"
         },
         "mode": "lines+markers",
         "name": "Metz",
         "opacity": 0.4,
         "showlegend": true,
         "type": "scattergl",
         "x": [
          2014,
          2016,
          2017,
          2019,
          2020,
          2021
         ],
         "xaxis": "x",
         "y": [
          0.16,
          0.16,
          0.16,
          0.18,
          0.21,
          0.2
         ],
         "yaxis": "y"
        },
        {
         "hovertemplate": "team=Angers<br>season=%{x}<br>right=%{y}<extra></extra>",
         "legendgroup": "Angers",
         "line": {
          "color": "rgb(189,189,189)",
          "dash": "solid"
         },
         "marker": {
          "symbol": "circle"
         },
         "mode": "lines+markers",
         "name": "Angers",
         "opacity": 0.4,
         "showlegend": true,
         "type": "scattergl",
         "x": [
          2015,
          2016,
          2017,
          2018,
          2019,
          2020,
          2021
         ],
         "xaxis": "x",
         "y": [
          0.16,
          0.15,
          0.18,
          0.14,
          0.18,
          0.19,
          0.15
         ],
         "yaxis": "y"
        },
        {
         "hovertemplate": "team=GFC Ajaccio<br>season=%{x}<br>right=%{y}<extra></extra>",
         "legendgroup": "GFC Ajaccio",
         "line": {
          "color": "rgb(189,189,189)",
          "dash": "solid"
         },
         "marker": {
          "symbol": "circle"
         },
         "mode": "lines+markers",
         "name": "GFC Ajaccio",
         "opacity": 0.4,
         "showlegend": true,
         "type": "scattergl",
         "x": [
          2015
         ],
         "xaxis": "x",
         "y": [
          0.16
         ],
         "yaxis": "y"
        },
        {
         "hovertemplate": "team=Amiens<br>season=%{x}<br>right=%{y}<extra></extra>",
         "legendgroup": "Amiens",
         "line": {
          "color": "rgb(189,189,189)",
          "dash": "solid"
         },
         "marker": {
          "symbol": "circle"
         },
         "mode": "lines+markers",
         "name": "Amiens",
         "opacity": 0.4,
         "showlegend": true,
         "type": "scattergl",
         "x": [
          2017,
          2018,
          2019
         ],
         "xaxis": "x",
         "y": [
          0.2,
          0.19,
          0.17
         ],
         "yaxis": "y"
        },
        {
         "hovertemplate": "team=Strasbourg<br>season=%{x}<br>right=%{y}<extra></extra>",
         "legendgroup": "Strasbourg",
         "line": {
          "color": "rgb(189,189,189)",
          "dash": "solid"
         },
         "marker": {
          "symbol": "circle"
         },
         "mode": "lines+markers",
         "name": "Strasbourg",
         "opacity": 0.4,
         "showlegend": true,
         "type": "scattergl",
         "x": [
          2017,
          2018,
          2019,
          2020,
          2021
         ],
         "xaxis": "x",
         "y": [
          0.18,
          0.18,
          0.17,
          0.14,
          0.11
         ],
         "yaxis": "y"
        },
        {
         "hovertemplate": "team=Nimes<br>season=%{x}<br>right=%{y}<extra></extra>",
         "legendgroup": "Nimes",
         "line": {
          "color": "rgb(189,189,189)",
          "dash": "solid"
         },
         "marker": {
          "symbol": "circle"
         },
         "mode": "lines+markers",
         "name": "Nimes",
         "opacity": 0.4,
         "showlegend": true,
         "type": "scattergl",
         "x": [
          2018,
          2019,
          2020
         ],
         "xaxis": "x",
         "y": [
          0.21,
          0.17,
          0.18
         ],
         "yaxis": "y"
        },
        {
         "hovertemplate": "team=Clermont Foot<br>season=%{x}<br>right=%{y}<extra></extra>",
         "legendgroup": "Clermont Foot",
         "line": {
          "color": "rgb(189,189,189)",
          "dash": "solid"
         },
         "marker": {
          "symbol": "circle"
         },
         "mode": "lines+markers",
         "name": "Clermont Foot",
         "opacity": 0.4,
         "showlegend": true,
         "type": "scattergl",
         "x": [
          2021
         ],
         "xaxis": "x",
         "y": [
          0.2
         ],
         "yaxis": "y"
        },
        {
         "hovertemplate": "team=Chievo<br>season=%{x}<br>right=%{y}<extra></extra>",
         "legendgroup": "Chievo",
         "line": {
          "color": "rgb(189,189,189)",
          "dash": "solid"
         },
         "marker": {
          "symbol": "circle"
         },
         "mode": "lines+markers",
         "name": "Chievo",
         "opacity": 0.4,
         "showlegend": true,
         "type": "scattergl",
         "x": [
          2009,
          2010,
          2011,
          2012,
          2013,
          2014,
          2015,
          2016,
          2017,
          2018
         ],
         "xaxis": "x",
         "y": [
          0.14,
          0.19,
          0.15,
          0.17,
          0.19,
          0.17,
          0.19,
          0.17,
          0.15,
          0.18
         ],
         "yaxis": "y"
        },
        {
         "hovertemplate": "team=Lazio<br>season=%{x}<br>right=%{y}<extra></extra>",
         "legendgroup": "Lazio",
         "line": {
          "color": "rgb(189,189,189)",
          "dash": "solid"
         },
         "marker": {
          "symbol": "circle"
         },
         "mode": "lines+markers",
         "name": "Lazio",
         "opacity": 0.4,
         "showlegend": true,
         "type": "scattergl",
         "x": [
          2009,
          2010,
          2011,
          2012,
          2013,
          2014,
          2015,
          2016,
          2017,
          2018,
          2019,
          2020,
          2021
         ],
         "xaxis": "x",
         "y": [
          0.2,
          0.19,
          0.14,
          0.21,
          0.21,
          0.23,
          0.19,
          0.18,
          0.18,
          0.16,
          0.13,
          0.11,
          0.14
         ],
         "yaxis": "y"
        },
        {
         "hovertemplate": "team=AC Milan<br>season=%{x}<br>right=%{y}<extra></extra>",
         "legendgroup": "AC Milan",
         "line": {
          "color": "rgb(189,189,189)",
          "dash": "solid"
         },
         "marker": {
          "symbol": "circle"
         },
         "mode": "lines+markers",
         "name": "AC Milan",
         "opacity": 0.4,
         "showlegend": true,
         "type": "scattergl",
         "x": [
          2009,
          2010,
          2011,
          2012,
          2013,
          2014,
          2015,
          2016,
          2017,
          2018,
          2019,
          2020,
          2021
         ],
         "xaxis": "x",
         "y": [
          0.14,
          0.18,
          0.14,
          0.18,
          0.18,
          0.25,
          0.19,
          0.19,
          0.25,
          0.25,
          0.17,
          0.11,
          0.14
         ],
         "yaxis": "y"
        },
        {
         "hovertemplate": "team=Roma<br>season=%{x}<br>right=%{y}<extra></extra>",
         "legendgroup": "Roma",
         "line": {
          "color": "rgb(189,189,189)",
          "dash": "solid"
         },
         "marker": {
          "symbol": "circle"
         },
         "mode": "lines+markers",
         "name": "Roma",
         "opacity": 0.4,
         "showlegend": true,
         "type": "scattergl",
         "x": [
          2009,
          2010,
          2011,
          2012,
          2013,
          2014,
          2015,
          2016,
          2017,
          2018,
          2019,
          2020,
          2021
         ],
         "xaxis": "x",
         "y": [
          0.18,
          0.15,
          0.19,
          0.16,
          0.22,
          0.27,
          0.22,
          0.16,
          0.17,
          0.18,
          0.15,
          0.12,
          0.15
         ],
         "yaxis": "y"
        },
        {
         "hovertemplate": "team=Sampdoria<br>season=%{x}<br>right=%{y}<extra></extra>",
         "legendgroup": "Sampdoria",
         "line": {
          "color": "rgb(189,189,189)",
          "dash": "solid"
         },
         "marker": {
          "symbol": "circle"
         },
         "mode": "lines+markers",
         "name": "Sampdoria",
         "opacity": 0.4,
         "showlegend": true,
         "type": "scattergl",
         "x": [
          2009,
          2010,
          2012,
          2013,
          2014,
          2015,
          2016,
          2017,
          2018,
          2019,
          2020,
          2021
         ],
         "xaxis": "x",
         "y": [
          0.16,
          0.17,
          0.17,
          0.24,
          0.22,
          0.2,
          0.2,
          0.17,
          0.16,
          0.16,
          0.2,
          0.21
         ],
         "yaxis": "y"
        },
        {
         "hovertemplate": "team=Robur Siena<br>season=%{x}<br>right=%{y}<extra></extra>",
         "legendgroup": "Robur Siena",
         "line": {
          "color": "rgb(189,189,189)",
          "dash": "solid"
         },
         "marker": {
          "symbol": "circle"
         },
         "mode": "lines+markers",
         "name": "Robur Siena",
         "opacity": 0.4,
         "showlegend": true,
         "type": "scattergl",
         "x": [
          2009,
          2011,
          2012
         ],
         "xaxis": "x",
         "y": [
          0.17,
          0.19,
          0.16
         ],
         "yaxis": "y"
        },
        {
         "hovertemplate": "team=Palermo FC<br>season=%{x}<br>right=%{y}<extra></extra>",
         "legendgroup": "Palermo FC",
         "line": {
          "color": "rgb(189,189,189)",
          "dash": "solid"
         },
         "marker": {
          "symbol": "circle"
         },
         "mode": "lines+markers",
         "name": "Palermo FC",
         "opacity": 0.4,
         "showlegend": true,
         "type": "scattergl",
         "x": [
          2009,
          2010,
          2011,
          2012,
          2014,
          2015,
          2016
         ],
         "xaxis": "x",
         "y": [
          0.21,
          0.19,
          0.17,
          0.18,
          0.15,
          0.19,
          0.18
         ],
         "yaxis": "y"
        },
        {
         "hovertemplate": "team=Fiorentina<br>season=%{x}<br>right=%{y}<extra></extra>",
         "legendgroup": "Fiorentina",
         "line": {
          "color": "rgb(189,189,189)",
          "dash": "solid"
         },
         "marker": {
          "symbol": "circle"
         },
         "mode": "lines+markers",
         "name": "Fiorentina",
         "opacity": 0.4,
         "showlegend": true,
         "type": "scattergl",
         "x": [
          2009,
          2010,
          2011,
          2012,
          2013,
          2014,
          2015,
          2016,
          2017,
          2018,
          2019,
          2020,
          2021
         ],
         "xaxis": "x",
         "y": [
          0.16,
          0.17,
          0.14,
          0.16,
          0.21,
          0.18,
          0.21,
          0.25,
          0.2,
          0.19,
          0.18,
          0.14,
          0.17
         ],
         "yaxis": "y"
        },
        {
         "hovertemplate": "team=Udinese<br>season=%{x}<br>right=%{y}<extra></extra>",
         "legendgroup": "Udinese",
         "line": {
          "color": "rgb(189,189,189)",
          "dash": "solid"
         },
         "marker": {
          "symbol": "circle"
         },
         "mode": "lines+markers",
         "name": "Udinese",
         "opacity": 0.4,
         "showlegend": true,
         "type": "scattergl",
         "x": [
          2009,
          2010,
          2011,
          2012,
          2013,
          2014,
          2015,
          2016,
          2017,
          2018,
          2019,
          2020,
          2021
         ],
         "xaxis": "x",
         "y": [
          0.2,
          0.26,
          0.22,
          0.18,
          0.17,
          0.19,
          0.17,
          0.16,
          0.17,
          0.17,
          0.15,
          0.16,
          0.15
         ],
         "yaxis": "y"
        },
        {
         "hovertemplate": "team=Juventus<br>season=%{x}<br>right=%{y}<extra></extra>",
         "legendgroup": "Juventus",
         "line": {
          "color": "rgb(189,189,189)",
          "dash": "solid"
         },
         "marker": {
          "symbol": "circle"
         },
         "mode": "lines+markers",
         "name": "Juventus",
         "opacity": 0.4,
         "showlegend": true,
         "type": "scattergl",
         "x": [
          2009,
          2010,
          2011,
          2012,
          2013,
          2014,
          2015,
          2016,
          2017,
          2018,
          2019,
          2020,
          2021
         ],
         "xaxis": "x",
         "y": [
          0.14,
          0.14,
          0.15,
          0.16,
          0.16,
          0.14,
          0.17,
          0.16,
          0.19,
          0.15,
          0.2,
          0.16,
          0.16
         ],
         "yaxis": "y"
        },
        {
         "hovertemplate": "team=Livorno<br>season=%{x}<br>right=%{y}<extra></extra>",
         "legendgroup": "Livorno",
         "line": {
          "color": "rgb(189,189,189)",
          "dash": "solid"
         },
         "marker": {
          "symbol": "circle"
         },
         "mode": "lines+markers",
         "name": "Livorno",
         "opacity": 0.4,
         "showlegend": true,
         "type": "scattergl",
         "x": [
          2009,
          2013
         ],
         "xaxis": "x",
         "y": [
          0.25,
          0.21
         ],
         "yaxis": "y"
        },
        {
         "hovertemplate": "team=Bari<br>season=%{x}<br>right=%{y}<extra></extra>",
         "legendgroup": "Bari",
         "line": {
          "color": "rgb(189,189,189)",
          "dash": "solid"
         },
         "marker": {
          "symbol": "circle"
         },
         "mode": "lines+markers",
         "name": "Bari",
         "opacity": 0.4,
         "showlegend": true,
         "type": "scattergl",
         "x": [
          2009,
          2010
         ],
         "xaxis": "x",
         "y": [
          0.24,
          0.22
         ],
         "yaxis": "y"
        },
        {
         "hovertemplate": "team=Cagliari<br>season=%{x}<br>right=%{y}<extra></extra>",
         "legendgroup": "Cagliari",
         "line": {
          "color": "rgb(189,189,189)",
          "dash": "solid"
         },
         "marker": {
          "symbol": "circle"
         },
         "mode": "lines+markers",
         "name": "Cagliari",
         "opacity": 0.4,
         "showlegend": true,
         "type": "scattergl",
         "x": [
          2009,
          2010,
          2011,
          2012,
          2013,
          2014,
          2016,
          2017,
          2018,
          2019,
          2020,
          2021
         ],
         "xaxis": "x",
         "y": [
          0.15,
          0.14,
          0.19,
          0.21,
          0.15,
          0.16,
          0.13,
          0.15,
          0.13,
          0.22,
          0.16,
          0.12
         ],
         "yaxis": "y"
        },
        {
         "hovertemplate": "team=Parma Calcio 1913<br>season=%{x}<br>right=%{y}<extra></extra>",
         "legendgroup": "Parma Calcio 1913",
         "line": {
          "color": "rgb(189,189,189)",
          "dash": "solid"
         },
         "marker": {
          "symbol": "circle"
         },
         "mode": "lines+markers",
         "name": "Parma Calcio 1913",
         "opacity": 0.4,
         "showlegend": true,
         "type": "scattergl",
         "x": [
          2009,
          2010,
          2011,
          2012,
          2013,
          2014,
          2018,
          2019,
          2020
         ],
         "xaxis": "x",
         "y": [
          0.17,
          0.19,
          0.19,
          0.16,
          0.13,
          0.2,
          0.13,
          0.2,
          0.13
         ],
         "yaxis": "y"
        },
        {
         "hovertemplate": "team=Genoa<br>season=%{x}<br>right=%{y}<extra></extra>",
         "legendgroup": "Genoa",
         "line": {
          "color": "rgb(189,189,189)",
          "dash": "solid"
         },
         "marker": {
          "symbol": "circle"
         },
         "mode": "lines+markers",
         "name": "Genoa",
         "opacity": 0.4,
         "showlegend": true,
         "type": "scattergl",
         "x": [
          2009,
          2010,
          2011,
          2012,
          2013,
          2014,
          2015,
          2016,
          2017,
          2018,
          2019,
          2020,
          2021
         ],
         "xaxis": "x",
         "y": [
          0.18,
          0.18,
          0.18,
          0.19,
          0.12,
          0.22,
          0.19,
          0.17,
          0.14,
          0.15,
          0.16,
          0.18,
          0.15
         ],
         "yaxis": "y"
        },
        {
         "hovertemplate": "team=Inter<br>season=%{x}<br>right=%{y}<extra></extra>",
         "legendgroup": "Inter",
         "line": {
          "color": "rgb(189,189,189)",
          "dash": "solid"
         },
         "marker": {
          "symbol": "circle"
         },
         "mode": "lines+markers",
         "name": "Inter",
         "opacity": 0.4,
         "showlegend": true,
         "type": "scattergl",
         "x": [
          2009,
          2010,
          2011,
          2012,
          2013,
          2014,
          2015,
          2016,
          2017,
          2018,
          2019,
          2020,
          2021
         ],
         "xaxis": "x",
         "y": [
          0.2,
          0.17,
          0.18,
          0.19,
          0.2,
          0.16,
          0.13,
          0.16,
          0.19,
          0.14,
          0.16,
          0.1,
          0.14
         ],
         "yaxis": "y"
        },
        {
         "hovertemplate": "team=Napoli<br>season=%{x}<br>right=%{y}<extra></extra>",
         "legendgroup": "Napoli",
         "line": {
          "color": "rgb(189,189,189)",
          "dash": "solid"
         },
         "marker": {
          "symbol": "circle"
         },
         "mode": "lines+markers",
         "name": "Napoli",
         "opacity": 0.4,
         "showlegend": true,
         "type": "scattergl",
         "x": [
          2009,
          2010,
          2011,
          2012,
          2013,
          2014,
          2015,
          2016,
          2017,
          2018,
          2019,
          2020,
          2021
         ],
         "xaxis": "x",
         "y": [
          0.21,
          0.21,
          0.2,
          0.15,
          0.17,
          0.16,
          0.16,
          0.14,
          0.12,
          0.18,
          0.15,
          0.17,
          0.18
         ],
         "yaxis": "y"
        },
        {
         "hovertemplate": "team=Catania<br>season=%{x}<br>right=%{y}<extra></extra>",
         "legendgroup": "Catania",
         "line": {
          "color": "rgb(189,189,189)",
          "dash": "solid"
         },
         "marker": {
          "symbol": "circle"
         },
         "mode": "lines+markers",
         "name": "Catania",
         "opacity": 0.4,
         "showlegend": true,
         "type": "scattergl",
         "x": [
          2009,
          2010,
          2011,
          2012,
          2013
         ],
         "xaxis": "x",
         "y": [
          0.15,
          0.17,
          0.17,
          0.13,
          0.18
         ],
         "yaxis": "y"
        },
        {
         "hovertemplate": "team=Bologna<br>season=%{x}<br>right=%{y}<extra></extra>",
         "legendgroup": "Bologna",
         "line": {
          "color": "rgb(189,189,189)",
          "dash": "solid"
         },
         "marker": {
          "symbol": "circle"
         },
         "mode": "lines+markers",
         "name": "Bologna",
         "opacity": 0.4,
         "showlegend": true,
         "type": "scattergl",
         "x": [
          2009,
          2010,
          2011,
          2012,
          2013,
          2015,
          2016,
          2017,
          2018,
          2019,
          2020,
          2021
         ],
         "xaxis": "x",
         "y": [
          0.2,
          0.18,
          0.24,
          0.2,
          0.22,
          0.18,
          0.17,
          0.15,
          0.17,
          0.2,
          0.16,
          0.15
         ],
         "yaxis": "y"
        },
        {
         "hovertemplate": "team=Atalanta<br>season=%{x}<br>right=%{y}<extra></extra>",
         "legendgroup": "Atalanta",
         "line": {
          "color": "rgb(189,189,189)",
          "dash": "solid"
         },
         "marker": {
          "symbol": "circle"
         },
         "mode": "lines+markers",
         "name": "Atalanta",
         "opacity": 0.4,
         "showlegend": true,
         "type": "scattergl",
         "x": [
          2009,
          2011,
          2012,
          2013,
          2014,
          2015,
          2016,
          2017,
          2018,
          2019,
          2020,
          2021
         ],
         "xaxis": "x",
         "y": [
          0.19,
          0.17,
          0.13,
          0.15,
          0.18,
          0.15,
          0.18,
          0.16,
          0.2,
          0.17,
          0.16,
          0.16
         ],
         "yaxis": "y"
        },
        {
         "hovertemplate": "team=Cesena<br>season=%{x}<br>right=%{y}<extra></extra>",
         "legendgroup": "Cesena",
         "line": {
          "color": "rgb(189,189,189)",
          "dash": "solid"
         },
         "marker": {
          "symbol": "circle"
         },
         "mode": "lines+markers",
         "name": "Cesena",
         "opacity": 0.4,
         "showlegend": true,
         "type": "scattergl",
         "x": [
          2010,
          2011,
          2014
         ],
         "xaxis": "x",
         "y": [
          0.21,
          0.2,
          0.21
         ],
         "yaxis": "y"
        },
        {
         "hovertemplate": "team=Brescia<br>season=%{x}<br>right=%{y}<extra></extra>",
         "legendgroup": "Brescia",
         "line": {
          "color": "rgb(189,189,189)",
          "dash": "solid"
         },
         "marker": {
          "symbol": "circle"
         },
         "mode": "lines+markers",
         "name": "Brescia",
         "opacity": 0.4,
         "showlegend": true,
         "type": "scattergl",
         "x": [
          2010,
          2019
         ],
         "xaxis": "x",
         "y": [
          0.21,
          0.15
         ],
         "yaxis": "y"
        },
        {
         "hovertemplate": "team=Lecce<br>season=%{x}<br>right=%{y}<extra></extra>",
         "legendgroup": "Lecce",
         "line": {
          "color": "rgb(189,189,189)",
          "dash": "solid"
         },
         "marker": {
          "symbol": "circle"
         },
         "mode": "lines+markers",
         "name": "Lecce",
         "opacity": 0.4,
         "showlegend": true,
         "type": "scattergl",
         "x": [
          2010,
          2011,
          2019
         ],
         "xaxis": "x",
         "y": [
          0.13,
          0.19,
          0.13
         ],
         "yaxis": "y"
        },
        {
         "hovertemplate": "team=Novara<br>season=%{x}<br>right=%{y}<extra></extra>",
         "legendgroup": "Novara",
         "line": {
          "color": "rgb(189,189,189)",
          "dash": "solid"
         },
         "marker": {
          "symbol": "circle"
         },
         "mode": "lines+markers",
         "name": "Novara",
         "opacity": 0.4,
         "showlegend": true,
         "type": "scattergl",
         "x": [
          2011
         ],
         "xaxis": "x",
         "y": [
          0.17
         ],
         "yaxis": "y"
        },
        {
         "hovertemplate": "team=Pescara<br>season=%{x}<br>right=%{y}<extra></extra>",
         "legendgroup": "Pescara",
         "line": {
          "color": "rgb(189,189,189)",
          "dash": "solid"
         },
         "marker": {
          "symbol": "circle"
         },
         "mode": "lines+markers",
         "name": "Pescara",
         "opacity": 0.4,
         "showlegend": true,
         "type": "scattergl",
         "x": [
          2012,
          2016
         ],
         "xaxis": "x",
         "y": [
          0.17,
          0.17
         ],
         "yaxis": "y"
        },
        {
         "hovertemplate": "team=Torino<br>season=%{x}<br>right=%{y}<extra></extra>",
         "legendgroup": "Torino",
         "line": {
          "color": "rgb(189,189,189)",
          "dash": "solid"
         },
         "marker": {
          "symbol": "circle"
         },
         "mode": "lines+markers",
         "name": "Torino",
         "opacity": 0.4,
         "showlegend": true,
         "type": "scattergl",
         "x": [
          2012,
          2013,
          2014,
          2015,
          2016,
          2017,
          2018,
          2019,
          2020,
          2021
         ],
         "xaxis": "x",
         "y": [
          0.25,
          0.26,
          0.21,
          0.24,
          0.2,
          0.15,
          0.15,
          0.17,
          0.14,
          0.14
         ],
         "yaxis": "y"
        },
        {
         "hovertemplate": "team=Sassuolo<br>season=%{x}<br>right=%{y}<extra></extra>",
         "legendgroup": "Sassuolo",
         "line": {
          "color": "rgb(189,189,189)",
          "dash": "solid"
         },
         "marker": {
          "symbol": "circle"
         },
         "mode": "lines+markers",
         "name": "Sassuolo",
         "opacity": 0.4,
         "showlegend": true,
         "type": "scattergl",
         "x": [
          2013,
          2014,
          2015,
          2016,
          2017,
          2018,
          2019,
          2020,
          2021
         ],
         "xaxis": "x",
         "y": [
          0.2,
          0.18,
          0.17,
          0.21,
          0.19,
          0.23,
          0.2,
          0.17,
          0.17
         ],
         "yaxis": "y"
        },
        {
         "hovertemplate": "team=Verona<br>season=%{x}<br>right=%{y}<extra></extra>",
         "legendgroup": "Verona",
         "line": {
          "color": "rgb(189,189,189)",
          "dash": "solid"
         },
         "marker": {
          "symbol": "circle"
         },
         "mode": "lines+markers",
         "name": "Verona",
         "opacity": 0.4,
         "showlegend": true,
         "type": "scattergl",
         "x": [
          2013,
          2014,
          2015,
          2017,
          2019,
          2020,
          2021
         ],
         "xaxis": "x",
         "y": [
          0.15,
          0.17,
          0.13,
          0.22,
          0.19,
          0.12,
          0.16
         ],
         "yaxis": "y"
        },
        {
         "hovertemplate": "team=Empoli<br>season=%{x}<br>right=%{y}<extra></extra>",
         "legendgroup": "Empoli",
         "line": {
          "color": "rgb(189,189,189)",
          "dash": "solid"
         },
         "marker": {
          "symbol": "circle"
         },
         "mode": "lines+markers",
         "name": "Empoli",
         "opacity": 0.4,
         "showlegend": true,
         "type": "scattergl",
         "x": [
          2014,
          2015,
          2016,
          2018,
          2021
         ],
         "xaxis": "x",
         "y": [
          0.17,
          0.16,
          0.15,
          0.18,
          0.16
         ],
         "yaxis": "y"
        },
        {
         "hovertemplate": "team=Frosinone<br>season=%{x}<br>right=%{y}<extra></extra>",
         "legendgroup": "Frosinone",
         "line": {
          "color": "rgb(189,189,189)",
          "dash": "solid"
         },
         "marker": {
          "symbol": "circle"
         },
         "mode": "lines+markers",
         "name": "Frosinone",
         "opacity": 0.4,
         "showlegend": true,
         "type": "scattergl",
         "x": [
          2015,
          2018
         ],
         "xaxis": "x",
         "y": [
          0.18,
          0.19
         ],
         "yaxis": "y"
        },
        {
         "hovertemplate": "team=Carpi<br>season=%{x}<br>right=%{y}<extra></extra>",
         "legendgroup": "Carpi",
         "line": {
          "color": "rgb(189,189,189)",
          "dash": "solid"
         },
         "marker": {
          "symbol": "circle"
         },
         "mode": "lines+markers",
         "name": "Carpi",
         "opacity": 0.4,
         "showlegend": true,
         "type": "scattergl",
         "x": [
          2015
         ],
         "xaxis": "x",
         "y": [
          0.16
         ],
         "yaxis": "y"
        },
        {
         "hovertemplate": "team=Crotone<br>season=%{x}<br>right=%{y}<extra></extra>",
         "legendgroup": "Crotone",
         "line": {
          "color": "rgb(189,189,189)",
          "dash": "solid"
         },
         "marker": {
          "symbol": "circle"
         },
         "mode": "lines+markers",
         "name": "Crotone",
         "opacity": 0.4,
         "showlegend": true,
         "type": "scattergl",
         "x": [
          2016,
          2017,
          2020
         ],
         "xaxis": "x",
         "y": [
          0.16,
          0.19,
          0.18
         ],
         "yaxis": "y"
        },
        {
         "hovertemplate": "team=Benevento<br>season=%{x}<br>right=%{y}<extra></extra>",
         "legendgroup": "Benevento",
         "line": {
          "color": "rgb(189,189,189)",
          "dash": "solid"
         },
         "marker": {
          "symbol": "circle"
         },
         "mode": "lines+markers",
         "name": "Benevento",
         "opacity": 0.4,
         "showlegend": true,
         "type": "scattergl",
         "x": [
          2017,
          2020
         ],
         "xaxis": "x",
         "y": [
          0.21,
          0.17
         ],
         "yaxis": "y"
        },
        {
         "hovertemplate": "team=SPAL 2013<br>season=%{x}<br>right=%{y}<extra></extra>",
         "legendgroup": "SPAL 2013",
         "line": {
          "color": "rgb(189,189,189)",
          "dash": "solid"
         },
         "marker": {
          "symbol": "circle"
         },
         "mode": "lines+markers",
         "name": "SPAL 2013",
         "opacity": 0.4,
         "showlegend": true,
         "type": "scattergl",
         "x": [
          2017,
          2018,
          2019
         ],
         "xaxis": "x",
         "y": [
          0.18,
          0.16,
          0.15
         ],
         "yaxis": "y"
        },
        {
         "hovertemplate": "team=Spezia<br>season=%{x}<br>right=%{y}<extra></extra>",
         "legendgroup": "Spezia",
         "line": {
          "color": "rgb(189,189,189)",
          "dash": "solid"
         },
         "marker": {
          "symbol": "circle"
         },
         "mode": "lines+markers",
         "name": "Spezia",
         "opacity": 0.4,
         "showlegend": true,
         "type": "scattergl",
         "x": [
          2020,
          2021
         ],
         "xaxis": "x",
         "y": [
          0.16,
          0.2
         ],
         "yaxis": "y"
        },
        {
         "hovertemplate": "team=Venezia<br>season=%{x}<br>right=%{y}<extra></extra>",
         "legendgroup": "Venezia",
         "line": {
          "color": "rgb(189,189,189)",
          "dash": "solid"
         },
         "marker": {
          "symbol": "circle"
         },
         "mode": "lines+markers",
         "name": "Venezia",
         "opacity": 0.4,
         "showlegend": true,
         "type": "scattergl",
         "x": [
          2021
         ],
         "xaxis": "x",
         "y": [
          0.17
         ],
         "yaxis": "y"
        },
        {
         "hovertemplate": "team=Salernitana<br>season=%{x}<br>right=%{y}<extra></extra>",
         "legendgroup": "Salernitana",
         "line": {
          "color": "rgb(189,189,189)",
          "dash": "solid"
         },
         "marker": {
          "symbol": "circle"
         },
         "mode": "lines+markers",
         "name": "Salernitana",
         "opacity": 0.4,
         "showlegend": true,
         "type": "scattergl",
         "x": [
          2021
         ],
         "xaxis": "x",
         "y": [
          0.13
         ],
         "yaxis": "y"
        },
        {
         "line": {
          "color": "rgb(49,130,189)",
          "width": 4
         },
         "name": "Average",
         "type": "scatter",
         "x": [
          2009,
          2010,
          2011,
          2012,
          2013,
          2014,
          2015,
          2016,
          2017,
          2018,
          2019,
          2020,
          2021
         ],
         "y": [
          0.1826020408163267,
          0.18163265306122464,
          0.17913265306122456,
          0.17943877551020415,
          0.1842346938775511,
          0.1773469387755103,
          0.17520408163265325,
          0.17030612244897986,
          0.1660714285714288,
          0.1649489795918369,
          0.16045918367346948,
          0.1513775510204081,
          0.15938775510204087
         ]
        }
       ],
       "layout": {
        "legend": {
         "title": {
          "text": "team"
         },
         "tracegroupgap": 0
        },
        "showlegend": false,
        "template": {
         "data": {
          "bar": [
           {
            "error_x": {
             "color": "rgb(36,36,36)"
            },
            "error_y": {
             "color": "rgb(36,36,36)"
            },
            "marker": {
             "line": {
              "color": "white",
              "width": 0.5
             },
             "pattern": {
              "fillmode": "overlay",
              "size": 10,
              "solidity": 0.2
             }
            },
            "type": "bar"
           }
          ],
          "barpolar": [
           {
            "marker": {
             "line": {
              "color": "white",
              "width": 0.5
             },
             "pattern": {
              "fillmode": "overlay",
              "size": 10,
              "solidity": 0.2
             }
            },
            "type": "barpolar"
           }
          ],
          "carpet": [
           {
            "aaxis": {
             "endlinecolor": "rgb(36,36,36)",
             "gridcolor": "white",
             "linecolor": "white",
             "minorgridcolor": "white",
             "startlinecolor": "rgb(36,36,36)"
            },
            "baxis": {
             "endlinecolor": "rgb(36,36,36)",
             "gridcolor": "white",
             "linecolor": "white",
             "minorgridcolor": "white",
             "startlinecolor": "rgb(36,36,36)"
            },
            "type": "carpet"
           }
          ],
          "choropleth": [
           {
            "colorbar": {
             "outlinewidth": 1,
             "tickcolor": "rgb(36,36,36)",
             "ticks": "outside"
            },
            "type": "choropleth"
           }
          ],
          "contour": [
           {
            "colorbar": {
             "outlinewidth": 1,
             "tickcolor": "rgb(36,36,36)",
             "ticks": "outside"
            },
            "colorscale": [
             [
              0,
              "#440154"
             ],
             [
              0.1111111111111111,
              "#482878"
             ],
             [
              0.2222222222222222,
              "#3e4989"
             ],
             [
              0.3333333333333333,
              "#31688e"
             ],
             [
              0.4444444444444444,
              "#26828e"
             ],
             [
              0.5555555555555556,
              "#1f9e89"
             ],
             [
              0.6666666666666666,
              "#35b779"
             ],
             [
              0.7777777777777778,
              "#6ece58"
             ],
             [
              0.8888888888888888,
              "#b5de2b"
             ],
             [
              1,
              "#fde725"
             ]
            ],
            "type": "contour"
           }
          ],
          "contourcarpet": [
           {
            "colorbar": {
             "outlinewidth": 1,
             "tickcolor": "rgb(36,36,36)",
             "ticks": "outside"
            },
            "type": "contourcarpet"
           }
          ],
          "heatmap": [
           {
            "colorbar": {
             "outlinewidth": 1,
             "tickcolor": "rgb(36,36,36)",
             "ticks": "outside"
            },
            "colorscale": [
             [
              0,
              "#440154"
             ],
             [
              0.1111111111111111,
              "#482878"
             ],
             [
              0.2222222222222222,
              "#3e4989"
             ],
             [
              0.3333333333333333,
              "#31688e"
             ],
             [
              0.4444444444444444,
              "#26828e"
             ],
             [
              0.5555555555555556,
              "#1f9e89"
             ],
             [
              0.6666666666666666,
              "#35b779"
             ],
             [
              0.7777777777777778,
              "#6ece58"
             ],
             [
              0.8888888888888888,
              "#b5de2b"
             ],
             [
              1,
              "#fde725"
             ]
            ],
            "type": "heatmap"
           }
          ],
          "heatmapgl": [
           {
            "colorbar": {
             "outlinewidth": 1,
             "tickcolor": "rgb(36,36,36)",
             "ticks": "outside"
            },
            "colorscale": [
             [
              0,
              "#440154"
             ],
             [
              0.1111111111111111,
              "#482878"
             ],
             [
              0.2222222222222222,
              "#3e4989"
             ],
             [
              0.3333333333333333,
              "#31688e"
             ],
             [
              0.4444444444444444,
              "#26828e"
             ],
             [
              0.5555555555555556,
              "#1f9e89"
             ],
             [
              0.6666666666666666,
              "#35b779"
             ],
             [
              0.7777777777777778,
              "#6ece58"
             ],
             [
              0.8888888888888888,
              "#b5de2b"
             ],
             [
              1,
              "#fde725"
             ]
            ],
            "type": "heatmapgl"
           }
          ],
          "histogram": [
           {
            "marker": {
             "line": {
              "color": "white",
              "width": 0.6
             }
            },
            "type": "histogram"
           }
          ],
          "histogram2d": [
           {
            "colorbar": {
             "outlinewidth": 1,
             "tickcolor": "rgb(36,36,36)",
             "ticks": "outside"
            },
            "colorscale": [
             [
              0,
              "#440154"
             ],
             [
              0.1111111111111111,
              "#482878"
             ],
             [
              0.2222222222222222,
              "#3e4989"
             ],
             [
              0.3333333333333333,
              "#31688e"
             ],
             [
              0.4444444444444444,
              "#26828e"
             ],
             [
              0.5555555555555556,
              "#1f9e89"
             ],
             [
              0.6666666666666666,
              "#35b779"
             ],
             [
              0.7777777777777778,
              "#6ece58"
             ],
             [
              0.8888888888888888,
              "#b5de2b"
             ],
             [
              1,
              "#fde725"
             ]
            ],
            "type": "histogram2d"
           }
          ],
          "histogram2dcontour": [
           {
            "colorbar": {
             "outlinewidth": 1,
             "tickcolor": "rgb(36,36,36)",
             "ticks": "outside"
            },
            "colorscale": [
             [
              0,
              "#440154"
             ],
             [
              0.1111111111111111,
              "#482878"
             ],
             [
              0.2222222222222222,
              "#3e4989"
             ],
             [
              0.3333333333333333,
              "#31688e"
             ],
             [
              0.4444444444444444,
              "#26828e"
             ],
             [
              0.5555555555555556,
              "#1f9e89"
             ],
             [
              0.6666666666666666,
              "#35b779"
             ],
             [
              0.7777777777777778,
              "#6ece58"
             ],
             [
              0.8888888888888888,
              "#b5de2b"
             ],
             [
              1,
              "#fde725"
             ]
            ],
            "type": "histogram2dcontour"
           }
          ],
          "mesh3d": [
           {
            "colorbar": {
             "outlinewidth": 1,
             "tickcolor": "rgb(36,36,36)",
             "ticks": "outside"
            },
            "type": "mesh3d"
           }
          ],
          "parcoords": [
           {
            "line": {
             "colorbar": {
              "outlinewidth": 1,
              "tickcolor": "rgb(36,36,36)",
              "ticks": "outside"
             }
            },
            "type": "parcoords"
           }
          ],
          "pie": [
           {
            "automargin": true,
            "type": "pie"
           }
          ],
          "scatter": [
           {
            "marker": {
             "colorbar": {
              "outlinewidth": 1,
              "tickcolor": "rgb(36,36,36)",
              "ticks": "outside"
             }
            },
            "type": "scatter"
           }
          ],
          "scatter3d": [
           {
            "line": {
             "colorbar": {
              "outlinewidth": 1,
              "tickcolor": "rgb(36,36,36)",
              "ticks": "outside"
             }
            },
            "marker": {
             "colorbar": {
              "outlinewidth": 1,
              "tickcolor": "rgb(36,36,36)",
              "ticks": "outside"
             }
            },
            "type": "scatter3d"
           }
          ],
          "scattercarpet": [
           {
            "marker": {
             "colorbar": {
              "outlinewidth": 1,
              "tickcolor": "rgb(36,36,36)",
              "ticks": "outside"
             }
            },
            "type": "scattercarpet"
           }
          ],
          "scattergeo": [
           {
            "marker": {
             "colorbar": {
              "outlinewidth": 1,
              "tickcolor": "rgb(36,36,36)",
              "ticks": "outside"
             }
            },
            "type": "scattergeo"
           }
          ],
          "scattergl": [
           {
            "marker": {
             "colorbar": {
              "outlinewidth": 1,
              "tickcolor": "rgb(36,36,36)",
              "ticks": "outside"
             }
            },
            "type": "scattergl"
           }
          ],
          "scattermapbox": [
           {
            "marker": {
             "colorbar": {
              "outlinewidth": 1,
              "tickcolor": "rgb(36,36,36)",
              "ticks": "outside"
             }
            },
            "type": "scattermapbox"
           }
          ],
          "scatterpolar": [
           {
            "marker": {
             "colorbar": {
              "outlinewidth": 1,
              "tickcolor": "rgb(36,36,36)",
              "ticks": "outside"
             }
            },
            "type": "scatterpolar"
           }
          ],
          "scatterpolargl": [
           {
            "marker": {
             "colorbar": {
              "outlinewidth": 1,
              "tickcolor": "rgb(36,36,36)",
              "ticks": "outside"
             }
            },
            "type": "scatterpolargl"
           }
          ],
          "scatterternary": [
           {
            "marker": {
             "colorbar": {
              "outlinewidth": 1,
              "tickcolor": "rgb(36,36,36)",
              "ticks": "outside"
             }
            },
            "type": "scatterternary"
           }
          ],
          "surface": [
           {
            "colorbar": {
             "outlinewidth": 1,
             "tickcolor": "rgb(36,36,36)",
             "ticks": "outside"
            },
            "colorscale": [
             [
              0,
              "#440154"
             ],
             [
              0.1111111111111111,
              "#482878"
             ],
             [
              0.2222222222222222,
              "#3e4989"
             ],
             [
              0.3333333333333333,
              "#31688e"
             ],
             [
              0.4444444444444444,
              "#26828e"
             ],
             [
              0.5555555555555556,
              "#1f9e89"
             ],
             [
              0.6666666666666666,
              "#35b779"
             ],
             [
              0.7777777777777778,
              "#6ece58"
             ],
             [
              0.8888888888888888,
              "#b5de2b"
             ],
             [
              1,
              "#fde725"
             ]
            ],
            "type": "surface"
           }
          ],
          "table": [
           {
            "cells": {
             "fill": {
              "color": "rgb(237,237,237)"
             },
             "line": {
              "color": "white"
             }
            },
            "header": {
             "fill": {
              "color": "rgb(217,217,217)"
             },
             "line": {
              "color": "white"
             }
            },
            "type": "table"
           }
          ]
         },
         "layout": {
          "annotationdefaults": {
           "arrowhead": 0,
           "arrowwidth": 1
          },
          "autotypenumbers": "strict",
          "coloraxis": {
           "colorbar": {
            "outlinewidth": 1,
            "tickcolor": "rgb(36,36,36)",
            "ticks": "outside"
           }
          },
          "colorscale": {
           "diverging": [
            [
             0,
             "rgb(103,0,31)"
            ],
            [
             0.1,
             "rgb(178,24,43)"
            ],
            [
             0.2,
             "rgb(214,96,77)"
            ],
            [
             0.3,
             "rgb(244,165,130)"
            ],
            [
             0.4,
             "rgb(253,219,199)"
            ],
            [
             0.5,
             "rgb(247,247,247)"
            ],
            [
             0.6,
             "rgb(209,229,240)"
            ],
            [
             0.7,
             "rgb(146,197,222)"
            ],
            [
             0.8,
             "rgb(67,147,195)"
            ],
            [
             0.9,
             "rgb(33,102,172)"
            ],
            [
             1,
             "rgb(5,48,97)"
            ]
           ],
           "sequential": [
            [
             0,
             "#440154"
            ],
            [
             0.1111111111111111,
             "#482878"
            ],
            [
             0.2222222222222222,
             "#3e4989"
            ],
            [
             0.3333333333333333,
             "#31688e"
            ],
            [
             0.4444444444444444,
             "#26828e"
            ],
            [
             0.5555555555555556,
             "#1f9e89"
            ],
            [
             0.6666666666666666,
             "#35b779"
            ],
            [
             0.7777777777777778,
             "#6ece58"
            ],
            [
             0.8888888888888888,
             "#b5de2b"
            ],
            [
             1,
             "#fde725"
            ]
           ],
           "sequentialminus": [
            [
             0,
             "#440154"
            ],
            [
             0.1111111111111111,
             "#482878"
            ],
            [
             0.2222222222222222,
             "#3e4989"
            ],
            [
             0.3333333333333333,
             "#31688e"
            ],
            [
             0.4444444444444444,
             "#26828e"
            ],
            [
             0.5555555555555556,
             "#1f9e89"
            ],
            [
             0.6666666666666666,
             "#35b779"
            ],
            [
             0.7777777777777778,
             "#6ece58"
            ],
            [
             0.8888888888888888,
             "#b5de2b"
            ],
            [
             1,
             "#fde725"
            ]
           ]
          },
          "colorway": [
           "#1F77B4",
           "#FF7F0E",
           "#2CA02C",
           "#D62728",
           "#9467BD",
           "#8C564B",
           "#E377C2",
           "#7F7F7F",
           "#BCBD22",
           "#17BECF"
          ],
          "font": {
           "color": "rgb(36,36,36)"
          },
          "geo": {
           "bgcolor": "white",
           "lakecolor": "white",
           "landcolor": "white",
           "showlakes": true,
           "showland": true,
           "subunitcolor": "white"
          },
          "hoverlabel": {
           "align": "left"
          },
          "hovermode": "closest",
          "mapbox": {
           "style": "light"
          },
          "paper_bgcolor": "white",
          "plot_bgcolor": "white",
          "polar": {
           "angularaxis": {
            "gridcolor": "rgb(232,232,232)",
            "linecolor": "rgb(36,36,36)",
            "showgrid": false,
            "showline": true,
            "ticks": "outside"
           },
           "bgcolor": "white",
           "radialaxis": {
            "gridcolor": "rgb(232,232,232)",
            "linecolor": "rgb(36,36,36)",
            "showgrid": false,
            "showline": true,
            "ticks": "outside"
           }
          },
          "scene": {
           "xaxis": {
            "backgroundcolor": "white",
            "gridcolor": "rgb(232,232,232)",
            "gridwidth": 2,
            "linecolor": "rgb(36,36,36)",
            "showbackground": true,
            "showgrid": false,
            "showline": true,
            "ticks": "outside",
            "zeroline": false,
            "zerolinecolor": "rgb(36,36,36)"
           },
           "yaxis": {
            "backgroundcolor": "white",
            "gridcolor": "rgb(232,232,232)",
            "gridwidth": 2,
            "linecolor": "rgb(36,36,36)",
            "showbackground": true,
            "showgrid": false,
            "showline": true,
            "ticks": "outside",
            "zeroline": false,
            "zerolinecolor": "rgb(36,36,36)"
           },
           "zaxis": {
            "backgroundcolor": "white",
            "gridcolor": "rgb(232,232,232)",
            "gridwidth": 2,
            "linecolor": "rgb(36,36,36)",
            "showbackground": true,
            "showgrid": false,
            "showline": true,
            "ticks": "outside",
            "zeroline": false,
            "zerolinecolor": "rgb(36,36,36)"
           }
          },
          "shapedefaults": {
           "fillcolor": "black",
           "line": {
            "width": 0
           },
           "opacity": 0.3
          },
          "ternary": {
           "aaxis": {
            "gridcolor": "rgb(232,232,232)",
            "linecolor": "rgb(36,36,36)",
            "showgrid": false,
            "showline": true,
            "ticks": "outside"
           },
           "baxis": {
            "gridcolor": "rgb(232,232,232)",
            "linecolor": "rgb(36,36,36)",
            "showgrid": false,
            "showline": true,
            "ticks": "outside"
           },
           "bgcolor": "white",
           "caxis": {
            "gridcolor": "rgb(232,232,232)",
            "linecolor": "rgb(36,36,36)",
            "showgrid": false,
            "showline": true,
            "ticks": "outside"
           }
          },
          "title": {
           "x": 0.05
          },
          "xaxis": {
           "automargin": true,
           "gridcolor": "rgb(232,232,232)",
           "linecolor": "rgb(36,36,36)",
           "showgrid": false,
           "showline": true,
           "ticks": "outside",
           "title": {
            "standoff": 15
           },
           "zeroline": false,
           "zerolinecolor": "rgb(36,36,36)"
          },
          "yaxis": {
           "automargin": true,
           "gridcolor": "rgb(232,232,232)",
           "linecolor": "rgb(36,36,36)",
           "showgrid": false,
           "showline": true,
           "ticks": "outside",
           "title": {
            "standoff": 15
           },
           "zeroline": false,
           "zerolinecolor": "rgb(36,36,36)"
          }
         }
        },
        "title": {
         "text": "right"
        },
        "xaxis": {
         "anchor": "y",
         "domain": [
          0,
          1
         ],
         "showgrid": true,
         "ticktext": [
          "2009-2010",
          "2010-2011",
          "2011-2012",
          "2012-2013",
          "2013-2014",
          "2014-2015",
          "2015-2016",
          "2016-2017",
          "2017-2018",
          "2018-2019",
          "2019-2020",
          "2020-2021",
          "2021-2022"
         ],
         "tickvals": [
          2009,
          2010,
          2011,
          2012,
          2013,
          2014,
          2015,
          2016,
          2017,
          2018,
          2019,
          2020,
          2021
         ],
         "title": {
          "text": "season"
         }
        },
        "yaxis": {
         "anchor": "x",
         "domain": [
          0,
          1
         ],
         "showgrid": true,
         "tickformat": ".0%",
         "title": {
          "text": "right"
         }
        }
       }
      }
     },
     "metadata": {},
     "output_type": "display_data"
    }
   ],
   "source": [
    "fig = px.line(df[df[\"for_or_against\"] == \"for\"], x=\"season\", y=\"right\", color=\"team\", title=\"right\", markers=True)\n",
    "\n",
    "fig.update_traces(\n",
    "    opacity=0.4,\n",
    "    line_color='rgb(189,189,189)'\n",
    ")\n",
    "\n",
    "mean = df.groupby(\"season\")[\"right\"].mean()\n",
    "fig.add_trace(go.Scatter(\n",
    "    x=mean.index,\n",
    "    y=mean.values,\n",
    "    line=dict(\n",
    "        width=4,\n",
    "        color=\"rgb(49,130,189)\"\n",
    "    ),\n",
    "    name=\"Average\"\n",
    "))\n",
    "\n",
    "fig.update_layout(\n",
    "    yaxis = dict(\n",
    "        tickformat=\".0%\",\n",
    "        showgrid=True\n",
    "    ), \n",
    "    xaxis = dict(\n",
    "        tickvals = [i for i in range(2009, 2022)],\n",
    "        ticktext = [\"2009-2010\", \"2010-2011\", \"2011-2012\", \"2012-2013\", \"2013-2014\", \"2014-2015\", \"2015-2016\", \"2016-2017\", \"2017-2018\", \"2018-2019\", \"2019-2020\", \"2020-2021\", \"2021-2022\"],\n",
    "        showgrid=True\n",
    "    ),\n",
    "    showlegend=False\n",
    ")"
   ]
  },
  {
   "cell_type": "markdown",
   "metadata": {},
   "source": [
    "### Interactive percentage of attempts from each direction for the last 10 years"
   ]
  },
  {
   "cell_type": "code",
   "execution_count": 9,
   "metadata": {},
   "outputs": [
    {
     "name": "stdout",
     "output_type": "stream",
     "text": [
      "Dash app running on http://127.0.0.1:8050/\n"
     ]
    }
   ],
   "source": [
    "from dash import dcc, html, Input, Output, State, ctx\n",
    "from jupyter_dash import JupyterDash\n",
    "import plotly.express as px\n",
    "from dash.exceptions import PreventUpdate\n",
    "\n",
    "app = JupyterDash(__name__)\n",
    "\n",
    "app.layout = html.Div([\n",
    "    html.Div([\n",
    "        html.Div([\n",
    "            html.H3('League'),\n",
    "            dcc.Checklist(\n",
    "                options=[\n",
    "                    {\n",
    "                        \"label\": html.Div(\n",
    "                            [\n",
    "                                html.Img(\n",
    "                                    src=\"./assets/flags/germany-flag-icon-16.png\"),\n",
    "                                \" Bundesliga\",\n",
    "                            ], style={'display': 'inline-block', 'marginTop': '5px'}\n",
    "                        ),\n",
    "                        \"value\": \"Bundesliga\",\n",
    "                    },\n",
    "                    {\n",
    "                        \"label\": html.Div(\n",
    "                            [\n",
    "                                html.Img(\n",
    "                                    src=\"./assets/flags/england-flag-icon-16.png\", alt='image'),\n",
    "                                \" EPL\",\n",
    "                            ], style={'display': 'inline-block', 'marginTop': '5px'}\n",
    "                        ),\n",
    "                        \"value\": \"EPL\",\n",
    "                    },\n",
    "                    {\n",
    "                        \"label\": html.Div(\n",
    "                            [\n",
    "                                html.Img(\n",
    "                                    src=\"./assets/flags/spain-flag-icon-16.png\", alt='image'),\n",
    "                                \" LaLiga\",\n",
    "                            ], style={'display': 'inline-block', 'marginTop': '5px'}\n",
    "                        ),\n",
    "                        \"value\": \"LaLiga\",\n",
    "                    },\n",
    "                    {\n",
    "                        \"label\": html.Div(\n",
    "                            [\n",
    "                                html.Img(\n",
    "                                    src=\"./assets/flags/france-flag-icon-16.png\", alt='image'),\n",
    "                                \" Ligue 1\",\n",
    "                            ], style={'display': 'inline-block', 'marginTop': '5px'}\n",
    "                        ),\n",
    "                        \"value\": \"Ligue1\",\n",
    "                    },\n",
    "                    {\n",
    "                        \"label\": html.Div(\n",
    "                            [\n",
    "                                html.Img(\n",
    "                                    src=\"./assets/flags/italy-flag-icon-16.png\", alt='image'),\n",
    "                                \" Serie A\",\n",
    "                            ], style={'display': 'inline-block', 'marginTop': '5px'}\n",
    "                        ),\n",
    "                        \"value\": \"SerieA\",\n",
    "                    },\n",
    "                ],\n",
    "                value=[\"Bundesliga\"],\n",
    "                id=\"league\",\n",
    "                labelStyle={'display': 'block'},\n",
    "                style={\"height\":150, \"width\":200, \"overflow\":\"auto\"}\n",
    "            )\n",
    "        ], style={'padding': 10, 'flex': 1}),\n",
    "        html.Div([\n",
    "            html.H3('Direction'),\n",
    "            dcc.RadioItems(\n",
    "                {\n",
    "                    \"right\": \"Right Side\",\n",
    "                    \"left\": \"Left Side\",\n",
    "                    \"middle\": \"Middle\"\n",
    "                },\n",
    "                \"right\",\n",
    "                id=\"direction\",\n",
    "                labelStyle={'display': 'block'},\n",
    "                style={\"height\":150, \"width\":200, \"overflow\":\"auto\"}\n",
    "            )\n",
    "        ], style={'padding': 10, 'flex': 1}),\n",
    "        html.Div([\n",
    "            html.H3('Attempts for or against'),\n",
    "            dcc.RadioItems(\n",
    "                {\n",
    "                    \"for\": \"Attempts for\",\n",
    "                    \"against\": \"Attempts against\"\n",
    "                },\n",
    "                \"for\",\n",
    "                id=\"for_or_against\",\n",
    "                labelStyle={'display': 'block'},\n",
    "                style={\"height\":150, \"width\":200, \"overflow\":\"auto\"}\n",
    "            )\n",
    "        ], style={'padding': 10, 'flex': 1}),\n",
    "        html.Div([\n",
    "            html.H3('Team'),\n",
    "            dcc.Dropdown([], id='team_dropdown', multi=True),\n",
    "            html.Div(id='dd-output-container')\n",
    "        ], style={'padding': 10, 'flex': 1})\n",
    "    ], style={'display': 'flex', 'flex-direction': 'row'}),\n",
    "\n",
    "    \n",
    "    dcc.Graph(\n",
    "        id='graph',\n",
    "    )\n",
    "])\n",
    "\n",
    "\n",
    "@app.callback(\n",
    "    Output(\"team_dropdown\", \"options\"),\n",
    "    Input('league', 'value'))\n",
    "def update_team_dropdown(selected_league):\n",
    "    mask = None\n",
    "    for i in range(len(selected_league)):\n",
    "        if i == 0:\n",
    "            mask = (df.league == selected_league[i])\n",
    "        else:\n",
    "            mask |= (df.league == selected_league[i])\n",
    "    if mask is not None:\n",
    "        filtered_df = df[mask]\n",
    "        return sorted(filtered_df[\"team\"].unique())\n",
    "    return []\n",
    "\n",
    "\n",
    "@app.callback(\n",
    "    Output('graph', 'figure'),\n",
    "    Input('team_dropdown', 'value'),\n",
    "    Input('league', 'value'),\n",
    "    Input('direction', 'value'),\n",
    "    Input('for_or_against', 'value'))\n",
    "def update_figure(selected_team, selected_league, selected_dir, selected_for_or_against):\n",
    "    if len(selected_league) == 0:  # if no league is selected then return an empty plot\n",
    "        fig = px.line()\n",
    "\n",
    "        fig.update_layout(\n",
    "            yaxis=dict(\n",
    "                tickformat=\".0%\",\n",
    "                showgrid=True\n",
    "            ),\n",
    "            xaxis=dict(\n",
    "                tickvals=[i for i in range(2009, 2022)],\n",
    "                ticktext=[\"2009-2010\", \"2010-2011\", \"2011-2012\", \"2012-2013\", \"2013-2014\", \"2014-2015\",\n",
    "                          \"2015-2016\", \"2016-2017\", \"2017-2018\", \"2018-2019\", \"2019-2020\", \"2020-2021\", \"2021-2022\"],\n",
    "                showgrid=True\n",
    "            ),\n",
    "            showlegend=False\n",
    "        )\n",
    "        return fig\n",
    "\n",
    "    filtered_df = df[df[\"for_or_against\"]\n",
    "                              == selected_for_or_against]\n",
    "\n",
    "    mask = None\n",
    "    for i in range(len(selected_league)):\n",
    "        if i == 0:\n",
    "            mask = (filtered_df.league == selected_league[i])\n",
    "        else:\n",
    "            mask |= (filtered_df.league == selected_league[i])\n",
    "    filtered_df_league = filtered_df[mask]\n",
    "\n",
    "    mask_team = None\n",
    "    if ctx.triggered_id == \"team_dropdown\":\n",
    "        for i in range(len(selected_team)):\n",
    "            if i == 0:\n",
    "                mask_team = (filtered_df.team == selected_team[i])\n",
    "            else:\n",
    "                mask_team |= (filtered_df.team == selected_team[i])\n",
    "\n",
    "    if mask_team is not None: \n",
    "        mask_team &= mask\n",
    "        filtered_df_league_team = filtered_df[mask_team]\n",
    "\n",
    "        league_str = \", \".join(selected_league)\n",
    "        fig = px.line(filtered_df_league_team, x=\"season\", y=selected_dir, color=\"team\",\n",
    "                title=f\"Percentage of attempts from the {selected_dir} in {league_str} league\", markers=True,\n",
    "                hover_name=\"team\", hover_data=[\"season\", selected_dir, \"league\"])\n",
    "\n",
    "        fig.update_layout(\n",
    "            title_font_size=20,\n",
    "            hoverlabel=dict(\n",
    "                bgcolor=\"white\",\n",
    "                font_size=16,\n",
    "            )\n",
    "        )\n",
    "\n",
    "        fig.update_traces(\n",
    "            opacity=0.4,\n",
    "        )\n",
    "    else:\n",
    "        league_str = \", \".join(selected_league)\n",
    "        fig = px.line(filtered_df_league, x=\"season\", y=selected_dir, color=\"team\",\n",
    "                    title=f\"Percentage of attempts from the {selected_dir} in {league_str}\", markers=True,\n",
    "                    hover_name=\"team\", hover_data=[\"season\", selected_dir, \"league\"])\n",
    "\n",
    "        fig.update_layout(\n",
    "            title_font_size=20,\n",
    "            hoverlabel=dict(\n",
    "                bgcolor=\"white\",\n",
    "                font_size=16,\n",
    "            ),\n",
    "            showlegend=False\n",
    "        )\n",
    "\n",
    "        fig.update_traces(\n",
    "            opacity=0.4,\n",
    "            line_color='rgb(189,189,189)'\n",
    "        )\n",
    "    mean = filtered_df_league.groupby(\"season\")[selected_dir].mean()\n",
    "    fig.add_trace(go.Scatter(\n",
    "        x=mean.index,\n",
    "        y=mean.values,\n",
    "        line=dict(\n",
    "            width=5,\n",
    "            color=\"rgb(49,130,189)\"\n",
    "        ),\n",
    "        name=\"Average\",\n",
    "        showlegend=False\n",
    "    ))\n",
    "\n",
    "    fig.update_layout(\n",
    "        yaxis=dict(\n",
    "            tickformat=\".0%\",\n",
    "            showgrid=True\n",
    "        ),\n",
    "        xaxis=dict(\n",
    "            tickvals=[i for i in range(2009, 2022)],\n",
    "            ticktext=[\"2009-2010\", \"2010-2011\", \"2011-2012\", \"2012-2013\", \"2013-2014\", \"2014-2015\",\n",
    "                      \"2015-2016\", \"2016-2017\", \"2017-2018\", \"2018-2019\", \"2019-2020\", \"2020-2021\", \"2021-2022\"],\n",
    "            showgrid=True\n",
    "        ),\n",
    "    )\n",
    "\n",
    "    return fig\n",
    "\n",
    "app.run_server(debug=True, mode=\"external\")"
   ]
  },
  {
   "cell_type": "code",
   "execution_count": null,
   "metadata": {},
   "outputs": [],
   "source": []
  },
  {
   "cell_type": "code",
   "execution_count": null,
   "metadata": {},
   "outputs": [],
   "source": []
  }
 ],
 "metadata": {
  "interpreter": {
   "hash": "38449538b7487bf601bbf8047ebc482810e383c4eaebfdf5011e7763013686ca"
  },
  "kernelspec": {
   "display_name": "Python 3.8.13 ('eda')",
   "language": "python",
   "name": "python3"
  },
  "language_info": {
   "codemirror_mode": {
    "name": "ipython",
    "version": 3
   },
   "file_extension": ".py",
   "mimetype": "text/x-python",
   "name": "python",
   "nbconvert_exporter": "python",
   "pygments_lexer": "ipython3",
   "version": "3.8.13"
  },
  "orig_nbformat": 4
 },
 "nbformat": 4,
 "nbformat_minor": 2
}
