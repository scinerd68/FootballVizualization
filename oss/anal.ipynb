{
 "cells": [
  {
   "cell_type": "code",
   "execution_count": 1,
   "metadata": {},
   "outputs": [
    {
     "data": {
      "text/plain": [
       "'/home/viet/OneDrive/Studying_Materials/Data_Visualization/FootballVizualization/oss'"
      ]
     },
     "execution_count": 1,
     "metadata": {},
     "output_type": "execute_result"
    }
   ],
   "source": [
    "import os\n",
    "import re\n",
    "\n",
    "import pandas as pd\n",
    "import plotly.express as px\n",
    "import plotly.graph_objects as go\n",
    "from dash import dcc, html, Input, Output\n",
    "from jupyter_dash import JupyterDash\n",
    "px.defaults.template = \"simple_white\"\n",
    "os.getcwd()"
   ]
  },
  {
   "cell_type": "code",
   "execution_count": 12,
   "metadata": {},
   "outputs": [],
   "source": [
    "file_name_dict = {\n",
    "    \"zone_against\" : \"stage-attempt-zones-against.csv\",\n",
    "    \"zone_for\" : \"stage-attempt-zones-for.csv\",\n",
    "    \"direction_against\" : \"stage-attempt-directions-against.csv\",\n",
    "    \"direction_for\" : \"stage-attempt-directions-for.csv\",\n",
    "    \"offensive\" : \"stage-team-stats-offensive.csv\"\n",
    "}\n",
    "ATTEMPT = [\"attempt-directions\", \"attempt-zones\"]\n",
    "GOAL_PASS = [\"goals\", \"passes\"]\n",
    "FOR_AGAINST = [*ATTEMPT, *GOAL_PASS]\n",
    "ALL_TYPE = [*FOR_AGAINST, \"cards\", \"team\", \"touch\"]\n",
    "LEAGUE = [\"Bundesliga\", \"EPL\", \"LaLiga\", \"Ligue1\", \"SerieA\"]\n",
    "\n",
    "\n",
    "def _add_suffix_columns(df, suffix):\n",
    "    col_name_to_change = list(df.columns)\n",
    "    col_name_to_change.remove(\"Team\")\n",
    "\n",
    "    df.rename(\n",
    "            columns={\n",
    "                col_name:f\"{col_name}_{suffix}\" for col_name in col_name_to_change\n",
    "            },\n",
    "            inplace=True\n",
    "        )\n",
    "\n",
    "\n",
    "def gather_all_league():\n",
    "    df = pd.DataFrame()\n",
    "    for league in LEAGUE:\n",
    "        df = pd.concat([df, gather_all_seasons(league)], ignore_index=True)\n",
    "    return df\n",
    "\n",
    "\n",
    "def gather_one_season(league, season):\n",
    "    first = True\n",
    "    df_league = pd.DataFrame()\n",
    "    season_path = os.path.join(\"../data\", league)\n",
    "\n",
    "    for type in FOR_AGAINST: # everything csv file that has for and against\n",
    "        for mode in [\"for\", \"against\"]:\n",
    "            df_temp = pd.read_csv(os.path.join(season_path, f\"{season}/stage-{type}-{mode}.csv\"), dtype=str)\n",
    "            df_temp.drop([\"R\"], axis=1, inplace=True)\n",
    "            df_temp.rename(\n",
    "                columns = {\n",
    "                    'Left Side':'left',\n",
    "                    'Attempts from the middle':'middle',\n",
    "                    'Right Side': 'right',\n",
    "                }, \n",
    "            inplace = True\n",
    "    )\n",
    "            if first:\n",
    "                df_league = df_temp\n",
    "                first = False\n",
    "            else:\n",
    "                df_league = df_league.merge(df_temp, on=\"Team\", suffixes=(\"_for\",\"_against\"))\n",
    "\n",
    "    type = \"cards\" # handle cards file\n",
    "    df_temp = pd.read_csv(os.path.join(season_path, f\"{season}/stage-{type}.csv\"), dtype=str)\n",
    "    df_temp.drop([\"R\"], axis=1, inplace=True)\n",
    "    df_league = df_league.merge(df_temp, on=\"Team\")\n",
    "\n",
    "    type = \"team\" # handle team files\n",
    "    for mode in [\"defensive\", \"offensive\", \"detailed\", \"summary\"]:\n",
    "        df_temp = pd.read_csv(os.path.join(season_path, f\"{season}/stage-{type}-stats-{mode}.csv\"), dtype=str)\n",
    "\n",
    "        # format Team column in this fucker table\n",
    "        df_temp[\"Team\"] = df_temp[\"Team\"].apply(lambda s: re.sub(re.compile(r\"\\d{1,2}\\.\\s\"), \"\", s))\n",
    "\n",
    "        _add_suffix_columns(df_temp, mode)\n",
    "\n",
    "        df_league = df_league.merge(df_temp, on=\"Team\")\n",
    "    \n",
    "    type = \"touch\" # handle touch files\n",
    "    for mode in [\"channels\", \"zones\"]:\n",
    "        df_temp = pd.read_csv(os.path.join(season_path, f\"{season}/stage-{type}-{mode}.csv\"), dtype=str)\n",
    "        df_temp.drop([\"R\"], axis=1, inplace=True)\n",
    "        if mode == \"channels\":\n",
    "            _add_suffix_columns(df_temp, mode)\n",
    "        \n",
    "        df_league = df_league.merge(df_temp, on=\"Team\")\n",
    "\n",
    "    df_league = df_league.applymap(lambda x: int(x[:-1])/100 if x.__contains__(\"%\") else x)\n",
    "\n",
    "    season = season.split(\"_\")[0]\n",
    "    df_league[\"season\"] = [int(season) for i in range(len(df_league))]\n",
    "    df_league[\"league\"] = [league for i in range(len(df_league))]\n",
    "\n",
    "    df_league.rename(\n",
    "            columns = {\n",
    "                'Team':'team', \n",
    "            }, \n",
    "            inplace = True\n",
    "    )\n",
    "    return df_league\n",
    "\n",
    "\n",
    "def gather_all_seasons(league):\n",
    "    df = pd.DataFrame()\n",
    "\n",
    "    season_path = os.path.join(\"../data\", league)\n",
    "    for season in os.listdir(season_path): # iterate through each season\n",
    "        df = pd.concat([df, gather_one_season(league, season)], ignore_index=True)\n",
    "\n",
    "    return df.sort_values(by=['season'])"
   ]
  },
  {
   "cell_type": "code",
   "execution_count": 14,
   "metadata": {},
   "outputs": [
    {
     "name": "stdout",
     "output_type": "stream",
     "text": [
      "['team', 'left_for', 'middle_for', 'right_for', 'left_against', 'middle_against', 'right_against', 'In 6 Yards Box_for', 'In 18 Yards Box_for', 'Outside of Box_for', 'In 6 Yards Box_against', 'In 18 Yards Box_against', 'Outside of Box_against', 'Open Play_for', 'Counter Attack_for', 'Set Piece_for', 'Penalty_for', 'Own Goal_for', 'Open Play_against', 'Counter Attack_against', 'Set Piece_against', 'Penalty_against', 'Own Goal_against', 'Cross pg_for', 'Through Ball pg_for', 'Long Balls pg_for', 'Short Passes pg_for', 'Cross pg_against', 'Through Ball pg_against', 'Long Balls pg_against', 'Short Passes pg_against', 'Fouls', 'Unprofessional', 'Dive', 'Other', 'Shots pg_defensive', 'Tackles pg_defensive', 'Interceptions pg_defensive', 'Fouls pg_defensive', 'Offsides pg_defensive', 'Rating_defensive', 'Shots pg_offensive', 'Shots OT pg_offensive', 'Dribbles pg_offensive', 'Fouled pg_offensive', 'Rating_offensive', 'Total_detailed', 'OutOfBox_detailed', 'SixYardBox_detailed', 'PenaltyArea_detailed', 'Rating_detailed', 'Goals_summary', 'Shots pg_summary', 'Discipline_summary', 'Possession%_summary', 'Pass%_summary', 'AerialsWon_summary', 'Rating_summary', 'Left Side_channels', 'Middle of the pitch_channels', 'Right Side_channels', 'Own Third', 'Middle Third', 'Opposition Third', 'season', 'league']\n"
     ]
    },
    {
     "data": {
      "text/html": [
       "<div>\n",
       "<style scoped>\n",
       "    .dataframe tbody tr th:only-of-type {\n",
       "        vertical-align: middle;\n",
       "    }\n",
       "\n",
       "    .dataframe tbody tr th {\n",
       "        vertical-align: top;\n",
       "    }\n",
       "\n",
       "    .dataframe thead th {\n",
       "        text-align: right;\n",
       "    }\n",
       "</style>\n",
       "<table border=\"1\" class=\"dataframe\">\n",
       "  <thead>\n",
       "    <tr style=\"text-align: right;\">\n",
       "      <th></th>\n",
       "      <th>team</th>\n",
       "      <th>left_for</th>\n",
       "      <th>middle_for</th>\n",
       "      <th>right_for</th>\n",
       "      <th>left_against</th>\n",
       "      <th>middle_against</th>\n",
       "      <th>right_against</th>\n",
       "      <th>In 6 Yards Box_for</th>\n",
       "      <th>In 18 Yards Box_for</th>\n",
       "      <th>Outside of Box_for</th>\n",
       "      <th>...</th>\n",
       "      <th>AerialsWon_summary</th>\n",
       "      <th>Rating_summary</th>\n",
       "      <th>Left Side_channels</th>\n",
       "      <th>Middle of the pitch_channels</th>\n",
       "      <th>Right Side_channels</th>\n",
       "      <th>Own Third</th>\n",
       "      <th>Middle Third</th>\n",
       "      <th>Opposition Third</th>\n",
       "      <th>season</th>\n",
       "      <th>league</th>\n",
       "    </tr>\n",
       "  </thead>\n",
       "  <tbody>\n",
       "    <tr>\n",
       "      <th>15</th>\n",
       "      <td>Napoli</td>\n",
       "      <td>0.18</td>\n",
       "      <td>0.62</td>\n",
       "      <td>0.21</td>\n",
       "      <td>0.19</td>\n",
       "      <td>0.67</td>\n",
       "      <td>0.15</td>\n",
       "      <td>0.06</td>\n",
       "      <td>0.48</td>\n",
       "      <td>0.46</td>\n",
       "      <td>...</td>\n",
       "      <td>8.9</td>\n",
       "      <td>6.96</td>\n",
       "      <td>0.29</td>\n",
       "      <td>0.32</td>\n",
       "      <td>0.40</td>\n",
       "      <td>0.25</td>\n",
       "      <td>0.46</td>\n",
       "      <td>0.30</td>\n",
       "      <td>2009</td>\n",
       "      <td>SerieA</td>\n",
       "    </tr>\n",
       "    <tr>\n",
       "      <th>16</th>\n",
       "      <td>Catania</td>\n",
       "      <td>0.16</td>\n",
       "      <td>0.70</td>\n",
       "      <td>0.15</td>\n",
       "      <td>0.24</td>\n",
       "      <td>0.60</td>\n",
       "      <td>0.16</td>\n",
       "      <td>0.04</td>\n",
       "      <td>0.43</td>\n",
       "      <td>0.53</td>\n",
       "      <td>...</td>\n",
       "      <td>9.5</td>\n",
       "      <td>6.84</td>\n",
       "      <td>0.34</td>\n",
       "      <td>0.33</td>\n",
       "      <td>0.33</td>\n",
       "      <td>0.27</td>\n",
       "      <td>0.47</td>\n",
       "      <td>0.26</td>\n",
       "      <td>2009</td>\n",
       "      <td>SerieA</td>\n",
       "    </tr>\n",
       "    <tr>\n",
       "      <th>17</th>\n",
       "      <td>Bologna</td>\n",
       "      <td>0.15</td>\n",
       "      <td>0.65</td>\n",
       "      <td>0.20</td>\n",
       "      <td>0.18</td>\n",
       "      <td>0.66</td>\n",
       "      <td>0.16</td>\n",
       "      <td>0.05</td>\n",
       "      <td>0.42</td>\n",
       "      <td>0.53</td>\n",
       "      <td>...</td>\n",
       "      <td>9.1</td>\n",
       "      <td>6.78</td>\n",
       "      <td>0.34</td>\n",
       "      <td>0.33</td>\n",
       "      <td>0.32</td>\n",
       "      <td>0.30</td>\n",
       "      <td>0.45</td>\n",
       "      <td>0.26</td>\n",
       "      <td>2009</td>\n",
       "      <td>SerieA</td>\n",
       "    </tr>\n",
       "    <tr>\n",
       "      <th>18</th>\n",
       "      <td>Livorno</td>\n",
       "      <td>0.15</td>\n",
       "      <td>0.60</td>\n",
       "      <td>0.25</td>\n",
       "      <td>0.21</td>\n",
       "      <td>0.62</td>\n",
       "      <td>0.17</td>\n",
       "      <td>0.05</td>\n",
       "      <td>0.35</td>\n",
       "      <td>0.60</td>\n",
       "      <td>...</td>\n",
       "      <td>8</td>\n",
       "      <td>6.70</td>\n",
       "      <td>0.32</td>\n",
       "      <td>0.31</td>\n",
       "      <td>0.38</td>\n",
       "      <td>0.28</td>\n",
       "      <td>0.45</td>\n",
       "      <td>0.26</td>\n",
       "      <td>2009</td>\n",
       "      <td>SerieA</td>\n",
       "    </tr>\n",
       "    <tr>\n",
       "      <th>19</th>\n",
       "      <td>Chievo</td>\n",
       "      <td>0.13</td>\n",
       "      <td>0.73</td>\n",
       "      <td>0.14</td>\n",
       "      <td>0.21</td>\n",
       "      <td>0.60</td>\n",
       "      <td>0.19</td>\n",
       "      <td>0.10</td>\n",
       "      <td>0.48</td>\n",
       "      <td>0.42</td>\n",
       "      <td>...</td>\n",
       "      <td>10.4</td>\n",
       "      <td>6.84</td>\n",
       "      <td>0.28</td>\n",
       "      <td>0.33</td>\n",
       "      <td>0.38</td>\n",
       "      <td>0.27</td>\n",
       "      <td>0.45</td>\n",
       "      <td>0.28</td>\n",
       "      <td>2009</td>\n",
       "      <td>SerieA</td>\n",
       "    </tr>\n",
       "  </tbody>\n",
       "</table>\n",
       "<p>5 rows × 66 columns</p>\n",
       "</div>"
      ],
      "text/plain": [
       "       team  left_for  middle_for  right_for  left_against  middle_against  \\\n",
       "15   Napoli      0.18        0.62       0.21          0.19            0.67   \n",
       "16  Catania      0.16        0.70       0.15          0.24            0.60   \n",
       "17  Bologna      0.15        0.65       0.20          0.18            0.66   \n",
       "18  Livorno      0.15        0.60       0.25          0.21            0.62   \n",
       "19   Chievo      0.13        0.73       0.14          0.21            0.60   \n",
       "\n",
       "    right_against  In 6 Yards Box_for  In 18 Yards Box_for  \\\n",
       "15           0.15                0.06                 0.48   \n",
       "16           0.16                0.04                 0.43   \n",
       "17           0.16                0.05                 0.42   \n",
       "18           0.17                0.05                 0.35   \n",
       "19           0.19                0.10                 0.48   \n",
       "\n",
       "    Outside of Box_for  ...  AerialsWon_summary  Rating_summary  \\\n",
       "15                0.46  ...                 8.9            6.96   \n",
       "16                0.53  ...                 9.5            6.84   \n",
       "17                0.53  ...                 9.1            6.78   \n",
       "18                0.60  ...                   8            6.70   \n",
       "19                0.42  ...                10.4            6.84   \n",
       "\n",
       "    Left Side_channels Middle of the pitch_channels Right Side_channels  \\\n",
       "15                0.29                         0.32                0.40   \n",
       "16                0.34                         0.33                0.33   \n",
       "17                0.34                         0.33                0.32   \n",
       "18                0.32                         0.31                0.38   \n",
       "19                0.28                         0.33                0.38   \n",
       "\n",
       "   Own Third Middle Third Opposition Third season  league  \n",
       "15      0.25         0.46             0.30   2009  SerieA  \n",
       "16      0.27         0.47             0.26   2009  SerieA  \n",
       "17      0.30         0.45             0.26   2009  SerieA  \n",
       "18      0.28         0.45             0.26   2009  SerieA  \n",
       "19      0.27         0.45             0.28   2009  SerieA  \n",
       "\n",
       "[5 rows x 66 columns]"
      ]
     },
     "execution_count": 14,
     "metadata": {},
     "output_type": "execute_result"
    }
   ],
   "source": [
    "test = gather_one_season(\"SerieA\", \"2009_2010\")\n",
    "print(list(test.columns))\n",
    "test.tail()"
   ]
  },
  {
   "cell_type": "code",
   "execution_count": 4,
   "metadata": {},
   "outputs": [
    {
     "data": {
      "text/html": [
       "<div>\n",
       "<style scoped>\n",
       "    .dataframe tbody tr th:only-of-type {\n",
       "        vertical-align: middle;\n",
       "    }\n",
       "\n",
       "    .dataframe tbody tr th {\n",
       "        vertical-align: top;\n",
       "    }\n",
       "\n",
       "    .dataframe thead th {\n",
       "        text-align: right;\n",
       "    }\n",
       "</style>\n",
       "<table border=\"1\" class=\"dataframe\">\n",
       "  <thead>\n",
       "    <tr style=\"text-align: right;\">\n",
       "      <th></th>\n",
       "      <th>team</th>\n",
       "      <th>left_for</th>\n",
       "      <th>middle_for</th>\n",
       "      <th>right_for</th>\n",
       "      <th>left_against</th>\n",
       "      <th>middle_against</th>\n",
       "      <th>right_against</th>\n",
       "      <th>In 6 Yards Box_for</th>\n",
       "      <th>In 18 Yards Box_for</th>\n",
       "      <th>Outside of Box_for</th>\n",
       "      <th>...</th>\n",
       "      <th>Pass%_summary</th>\n",
       "      <th>AerialsWon_summary</th>\n",
       "      <th>Rating_summary</th>\n",
       "      <th>Left Side_channels</th>\n",
       "      <th>Middle of the pitch_channels</th>\n",
       "      <th>Right Side_channels</th>\n",
       "      <th>Own Third</th>\n",
       "      <th>Middle Third</th>\n",
       "      <th>Opposition Third</th>\n",
       "      <th>season</th>\n",
       "    </tr>\n",
       "  </thead>\n",
       "  <tbody>\n",
       "    <tr>\n",
       "      <th>219</th>\n",
       "      <td>Chievo</td>\n",
       "      <td>0.13</td>\n",
       "      <td>0.73</td>\n",
       "      <td>0.14</td>\n",
       "      <td>0.21</td>\n",
       "      <td>0.60</td>\n",
       "      <td>0.19</td>\n",
       "      <td>0.10</td>\n",
       "      <td>0.48</td>\n",
       "      <td>0.42</td>\n",
       "      <td>...</td>\n",
       "      <td>71.8</td>\n",
       "      <td>10.4</td>\n",
       "      <td>6.84</td>\n",
       "      <td>0.28</td>\n",
       "      <td>0.33</td>\n",
       "      <td>0.38</td>\n",
       "      <td>0.27</td>\n",
       "      <td>0.45</td>\n",
       "      <td>0.28</td>\n",
       "      <td>2009</td>\n",
       "    </tr>\n",
       "    <tr>\n",
       "      <th>200</th>\n",
       "      <td>Lazio</td>\n",
       "      <td>0.26</td>\n",
       "      <td>0.54</td>\n",
       "      <td>0.20</td>\n",
       "      <td>0.18</td>\n",
       "      <td>0.63</td>\n",
       "      <td>0.18</td>\n",
       "      <td>0.04</td>\n",
       "      <td>0.35</td>\n",
       "      <td>0.60</td>\n",
       "      <td>...</td>\n",
       "      <td>77.6</td>\n",
       "      <td>8</td>\n",
       "      <td>6.88</td>\n",
       "      <td>0.34</td>\n",
       "      <td>0.30</td>\n",
       "      <td>0.36</td>\n",
       "      <td>0.27</td>\n",
       "      <td>0.45</td>\n",
       "      <td>0.28</td>\n",
       "      <td>2009</td>\n",
       "    </tr>\n",
       "    <tr>\n",
       "      <th>201</th>\n",
       "      <td>AC Milan</td>\n",
       "      <td>0.22</td>\n",
       "      <td>0.64</td>\n",
       "      <td>0.14</td>\n",
       "      <td>0.25</td>\n",
       "      <td>0.55</td>\n",
       "      <td>0.20</td>\n",
       "      <td>0.07</td>\n",
       "      <td>0.49</td>\n",
       "      <td>0.44</td>\n",
       "      <td>...</td>\n",
       "      <td>84.8</td>\n",
       "      <td>7.9</td>\n",
       "      <td>7.04</td>\n",
       "      <td>0.38</td>\n",
       "      <td>0.31</td>\n",
       "      <td>0.31</td>\n",
       "      <td>0.25</td>\n",
       "      <td>0.45</td>\n",
       "      <td>0.30</td>\n",
       "      <td>2009</td>\n",
       "    </tr>\n",
       "    <tr>\n",
       "      <th>202</th>\n",
       "      <td>Roma</td>\n",
       "      <td>0.22</td>\n",
       "      <td>0.60</td>\n",
       "      <td>0.18</td>\n",
       "      <td>0.22</td>\n",
       "      <td>0.60</td>\n",
       "      <td>0.19</td>\n",
       "      <td>0.06</td>\n",
       "      <td>0.45</td>\n",
       "      <td>0.50</td>\n",
       "      <td>...</td>\n",
       "      <td>79.7</td>\n",
       "      <td>8.7</td>\n",
       "      <td>7.07</td>\n",
       "      <td>0.31</td>\n",
       "      <td>0.34</td>\n",
       "      <td>0.35</td>\n",
       "      <td>0.27</td>\n",
       "      <td>0.46</td>\n",
       "      <td>0.27</td>\n",
       "      <td>2009</td>\n",
       "    </tr>\n",
       "    <tr>\n",
       "      <th>203</th>\n",
       "      <td>Sampdoria</td>\n",
       "      <td>0.21</td>\n",
       "      <td>0.63</td>\n",
       "      <td>0.16</td>\n",
       "      <td>0.17</td>\n",
       "      <td>0.65</td>\n",
       "      <td>0.18</td>\n",
       "      <td>0.07</td>\n",
       "      <td>0.42</td>\n",
       "      <td>0.50</td>\n",
       "      <td>...</td>\n",
       "      <td>75.4</td>\n",
       "      <td>8.4</td>\n",
       "      <td>6.87</td>\n",
       "      <td>0.36</td>\n",
       "      <td>0.27</td>\n",
       "      <td>0.37</td>\n",
       "      <td>0.28</td>\n",
       "      <td>0.45</td>\n",
       "      <td>0.27</td>\n",
       "      <td>2009</td>\n",
       "    </tr>\n",
       "    <tr>\n",
       "      <th>204</th>\n",
       "      <td>Robur Siena</td>\n",
       "      <td>0.21</td>\n",
       "      <td>0.61</td>\n",
       "      <td>0.17</td>\n",
       "      <td>0.16</td>\n",
       "      <td>0.68</td>\n",
       "      <td>0.17</td>\n",
       "      <td>0.06</td>\n",
       "      <td>0.40</td>\n",
       "      <td>0.53</td>\n",
       "      <td>...</td>\n",
       "      <td>76.0</td>\n",
       "      <td>9.5</td>\n",
       "      <td>6.74</td>\n",
       "      <td>0.34</td>\n",
       "      <td>0.31</td>\n",
       "      <td>0.34</td>\n",
       "      <td>0.28</td>\n",
       "      <td>0.44</td>\n",
       "      <td>0.28</td>\n",
       "      <td>2009</td>\n",
       "    </tr>\n",
       "    <tr>\n",
       "      <th>205</th>\n",
       "      <td>Palermo FC</td>\n",
       "      <td>0.21</td>\n",
       "      <td>0.58</td>\n",
       "      <td>0.21</td>\n",
       "      <td>0.18</td>\n",
       "      <td>0.59</td>\n",
       "      <td>0.22</td>\n",
       "      <td>0.06</td>\n",
       "      <td>0.47</td>\n",
       "      <td>0.47</td>\n",
       "      <td>...</td>\n",
       "      <td>77.2</td>\n",
       "      <td>8.6</td>\n",
       "      <td>6.92</td>\n",
       "      <td>0.36</td>\n",
       "      <td>0.31</td>\n",
       "      <td>0.33</td>\n",
       "      <td>0.30</td>\n",
       "      <td>0.42</td>\n",
       "      <td>0.28</td>\n",
       "      <td>2009</td>\n",
       "    </tr>\n",
       "    <tr>\n",
       "      <th>206</th>\n",
       "      <td>Fiorentina</td>\n",
       "      <td>0.20</td>\n",
       "      <td>0.64</td>\n",
       "      <td>0.16</td>\n",
       "      <td>0.22</td>\n",
       "      <td>0.59</td>\n",
       "      <td>0.20</td>\n",
       "      <td>0.05</td>\n",
       "      <td>0.43</td>\n",
       "      <td>0.52</td>\n",
       "      <td>...</td>\n",
       "      <td>75.7</td>\n",
       "      <td>8.5</td>\n",
       "      <td>6.83</td>\n",
       "      <td>0.35</td>\n",
       "      <td>0.31</td>\n",
       "      <td>0.34</td>\n",
       "      <td>0.25</td>\n",
       "      <td>0.43</td>\n",
       "      <td>0.33</td>\n",
       "      <td>2009</td>\n",
       "    </tr>\n",
       "    <tr>\n",
       "      <th>207</th>\n",
       "      <td>Udinese</td>\n",
       "      <td>0.20</td>\n",
       "      <td>0.60</td>\n",
       "      <td>0.20</td>\n",
       "      <td>0.21</td>\n",
       "      <td>0.64</td>\n",
       "      <td>0.15</td>\n",
       "      <td>0.05</td>\n",
       "      <td>0.47</td>\n",
       "      <td>0.49</td>\n",
       "      <td>...</td>\n",
       "      <td>78.5</td>\n",
       "      <td>8.5</td>\n",
       "      <td>6.94</td>\n",
       "      <td>0.35</td>\n",
       "      <td>0.30</td>\n",
       "      <td>0.34</td>\n",
       "      <td>0.27</td>\n",
       "      <td>0.45</td>\n",
       "      <td>0.27</td>\n",
       "      <td>2009</td>\n",
       "    </tr>\n",
       "    <tr>\n",
       "      <th>208</th>\n",
       "      <td>Juventus</td>\n",
       "      <td>0.20</td>\n",
       "      <td>0.67</td>\n",
       "      <td>0.14</td>\n",
       "      <td>0.20</td>\n",
       "      <td>0.60</td>\n",
       "      <td>0.20</td>\n",
       "      <td>0.05</td>\n",
       "      <td>0.47</td>\n",
       "      <td>0.48</td>\n",
       "      <td>...</td>\n",
       "      <td>79.4</td>\n",
       "      <td>9.4</td>\n",
       "      <td>6.84</td>\n",
       "      <td>0.35</td>\n",
       "      <td>0.32</td>\n",
       "      <td>0.32</td>\n",
       "      <td>0.25</td>\n",
       "      <td>0.44</td>\n",
       "      <td>0.30</td>\n",
       "      <td>2009</td>\n",
       "    </tr>\n",
       "    <tr>\n",
       "      <th>218</th>\n",
       "      <td>Livorno</td>\n",
       "      <td>0.15</td>\n",
       "      <td>0.60</td>\n",
       "      <td>0.25</td>\n",
       "      <td>0.21</td>\n",
       "      <td>0.62</td>\n",
       "      <td>0.17</td>\n",
       "      <td>0.05</td>\n",
       "      <td>0.35</td>\n",
       "      <td>0.60</td>\n",
       "      <td>...</td>\n",
       "      <td>77.5</td>\n",
       "      <td>8</td>\n",
       "      <td>6.70</td>\n",
       "      <td>0.32</td>\n",
       "      <td>0.31</td>\n",
       "      <td>0.38</td>\n",
       "      <td>0.28</td>\n",
       "      <td>0.45</td>\n",
       "      <td>0.26</td>\n",
       "      <td>2009</td>\n",
       "    </tr>\n",
       "    <tr>\n",
       "      <th>210</th>\n",
       "      <td>Bari</td>\n",
       "      <td>0.19</td>\n",
       "      <td>0.57</td>\n",
       "      <td>0.24</td>\n",
       "      <td>0.18</td>\n",
       "      <td>0.65</td>\n",
       "      <td>0.17</td>\n",
       "      <td>0.05</td>\n",
       "      <td>0.48</td>\n",
       "      <td>0.47</td>\n",
       "      <td>...</td>\n",
       "      <td>80.8</td>\n",
       "      <td>7.3</td>\n",
       "      <td>6.89</td>\n",
       "      <td>0.31</td>\n",
       "      <td>0.33</td>\n",
       "      <td>0.36</td>\n",
       "      <td>0.33</td>\n",
       "      <td>0.45</td>\n",
       "      <td>0.23</td>\n",
       "      <td>2009</td>\n",
       "    </tr>\n",
       "    <tr>\n",
       "      <th>211</th>\n",
       "      <td>Cagliari</td>\n",
       "      <td>0.19</td>\n",
       "      <td>0.66</td>\n",
       "      <td>0.15</td>\n",
       "      <td>0.18</td>\n",
       "      <td>0.64</td>\n",
       "      <td>0.18</td>\n",
       "      <td>0.06</td>\n",
       "      <td>0.48</td>\n",
       "      <td>0.46</td>\n",
       "      <td>...</td>\n",
       "      <td>74.1</td>\n",
       "      <td>12.3</td>\n",
       "      <td>6.91</td>\n",
       "      <td>0.36</td>\n",
       "      <td>0.32</td>\n",
       "      <td>0.32</td>\n",
       "      <td>0.31</td>\n",
       "      <td>0.45</td>\n",
       "      <td>0.25</td>\n",
       "      <td>2009</td>\n",
       "    </tr>\n",
       "    <tr>\n",
       "      <th>212</th>\n",
       "      <td>Parma Calcio 1913</td>\n",
       "      <td>0.19</td>\n",
       "      <td>0.65</td>\n",
       "      <td>0.17</td>\n",
       "      <td>0.14</td>\n",
       "      <td>0.66</td>\n",
       "      <td>0.21</td>\n",
       "      <td>0.06</td>\n",
       "      <td>0.44</td>\n",
       "      <td>0.50</td>\n",
       "      <td>...</td>\n",
       "      <td>72.8</td>\n",
       "      <td>8.6</td>\n",
       "      <td>6.88</td>\n",
       "      <td>0.31</td>\n",
       "      <td>0.27</td>\n",
       "      <td>0.42</td>\n",
       "      <td>0.28</td>\n",
       "      <td>0.42</td>\n",
       "      <td>0.29</td>\n",
       "      <td>2009</td>\n",
       "    </tr>\n",
       "    <tr>\n",
       "      <th>213</th>\n",
       "      <td>Genoa</td>\n",
       "      <td>0.19</td>\n",
       "      <td>0.64</td>\n",
       "      <td>0.18</td>\n",
       "      <td>0.19</td>\n",
       "      <td>0.66</td>\n",
       "      <td>0.15</td>\n",
       "      <td>0.06</td>\n",
       "      <td>0.49</td>\n",
       "      <td>0.45</td>\n",
       "      <td>...</td>\n",
       "      <td>78.3</td>\n",
       "      <td>10</td>\n",
       "      <td>6.91</td>\n",
       "      <td>0.37</td>\n",
       "      <td>0.27</td>\n",
       "      <td>0.35</td>\n",
       "      <td>0.27</td>\n",
       "      <td>0.44</td>\n",
       "      <td>0.29</td>\n",
       "      <td>2009</td>\n",
       "    </tr>\n",
       "    <tr>\n",
       "      <th>214</th>\n",
       "      <td>Inter</td>\n",
       "      <td>0.18</td>\n",
       "      <td>0.62</td>\n",
       "      <td>0.20</td>\n",
       "      <td>0.20</td>\n",
       "      <td>0.60</td>\n",
       "      <td>0.20</td>\n",
       "      <td>0.06</td>\n",
       "      <td>0.41</td>\n",
       "      <td>0.53</td>\n",
       "      <td>...</td>\n",
       "      <td>82.9</td>\n",
       "      <td>6.7</td>\n",
       "      <td>7.09</td>\n",
       "      <td>0.33</td>\n",
       "      <td>0.33</td>\n",
       "      <td>0.35</td>\n",
       "      <td>0.26</td>\n",
       "      <td>0.46</td>\n",
       "      <td>0.28</td>\n",
       "      <td>2009</td>\n",
       "    </tr>\n",
       "    <tr>\n",
       "      <th>215</th>\n",
       "      <td>Napoli</td>\n",
       "      <td>0.18</td>\n",
       "      <td>0.62</td>\n",
       "      <td>0.21</td>\n",
       "      <td>0.19</td>\n",
       "      <td>0.67</td>\n",
       "      <td>0.15</td>\n",
       "      <td>0.06</td>\n",
       "      <td>0.48</td>\n",
       "      <td>0.46</td>\n",
       "      <td>...</td>\n",
       "      <td>77.7</td>\n",
       "      <td>8.9</td>\n",
       "      <td>6.96</td>\n",
       "      <td>0.29</td>\n",
       "      <td>0.32</td>\n",
       "      <td>0.40</td>\n",
       "      <td>0.25</td>\n",
       "      <td>0.46</td>\n",
       "      <td>0.30</td>\n",
       "      <td>2009</td>\n",
       "    </tr>\n",
       "    <tr>\n",
       "      <th>216</th>\n",
       "      <td>Catania</td>\n",
       "      <td>0.16</td>\n",
       "      <td>0.70</td>\n",
       "      <td>0.15</td>\n",
       "      <td>0.24</td>\n",
       "      <td>0.60</td>\n",
       "      <td>0.16</td>\n",
       "      <td>0.04</td>\n",
       "      <td>0.43</td>\n",
       "      <td>0.53</td>\n",
       "      <td>...</td>\n",
       "      <td>73.7</td>\n",
       "      <td>9.5</td>\n",
       "      <td>6.84</td>\n",
       "      <td>0.34</td>\n",
       "      <td>0.33</td>\n",
       "      <td>0.33</td>\n",
       "      <td>0.27</td>\n",
       "      <td>0.47</td>\n",
       "      <td>0.26</td>\n",
       "      <td>2009</td>\n",
       "    </tr>\n",
       "    <tr>\n",
       "      <th>217</th>\n",
       "      <td>Bologna</td>\n",
       "      <td>0.15</td>\n",
       "      <td>0.65</td>\n",
       "      <td>0.20</td>\n",
       "      <td>0.18</td>\n",
       "      <td>0.66</td>\n",
       "      <td>0.16</td>\n",
       "      <td>0.05</td>\n",
       "      <td>0.42</td>\n",
       "      <td>0.53</td>\n",
       "      <td>...</td>\n",
       "      <td>75.0</td>\n",
       "      <td>9.1</td>\n",
       "      <td>6.78</td>\n",
       "      <td>0.34</td>\n",
       "      <td>0.33</td>\n",
       "      <td>0.32</td>\n",
       "      <td>0.30</td>\n",
       "      <td>0.45</td>\n",
       "      <td>0.26</td>\n",
       "      <td>2009</td>\n",
       "    </tr>\n",
       "    <tr>\n",
       "      <th>209</th>\n",
       "      <td>Atalanta</td>\n",
       "      <td>0.20</td>\n",
       "      <td>0.61</td>\n",
       "      <td>0.19</td>\n",
       "      <td>0.17</td>\n",
       "      <td>0.64</td>\n",
       "      <td>0.19</td>\n",
       "      <td>0.03</td>\n",
       "      <td>0.44</td>\n",
       "      <td>0.52</td>\n",
       "      <td>...</td>\n",
       "      <td>77.7</td>\n",
       "      <td>9.5</td>\n",
       "      <td>6.77</td>\n",
       "      <td>0.34</td>\n",
       "      <td>0.31</td>\n",
       "      <td>0.35</td>\n",
       "      <td>0.28</td>\n",
       "      <td>0.46</td>\n",
       "      <td>0.27</td>\n",
       "      <td>2009</td>\n",
       "    </tr>\n",
       "    <tr>\n",
       "      <th>47</th>\n",
       "      <td>Cesena</td>\n",
       "      <td>0.22</td>\n",
       "      <td>0.57</td>\n",
       "      <td>0.21</td>\n",
       "      <td>0.19</td>\n",
       "      <td>0.63</td>\n",
       "      <td>0.18</td>\n",
       "      <td>0.03</td>\n",
       "      <td>0.43</td>\n",
       "      <td>0.54</td>\n",
       "      <td>...</td>\n",
       "      <td>76.7</td>\n",
       "      <td>9.7</td>\n",
       "      <td>6.77</td>\n",
       "      <td>0.38</td>\n",
       "      <td>0.28</td>\n",
       "      <td>0.34</td>\n",
       "      <td>0.29</td>\n",
       "      <td>0.44</td>\n",
       "      <td>0.27</td>\n",
       "      <td>2010</td>\n",
       "    </tr>\n",
       "    <tr>\n",
       "      <th>46</th>\n",
       "      <td>Bari</td>\n",
       "      <td>0.22</td>\n",
       "      <td>0.56</td>\n",
       "      <td>0.22</td>\n",
       "      <td>0.16</td>\n",
       "      <td>0.64</td>\n",
       "      <td>0.20</td>\n",
       "      <td>0.04</td>\n",
       "      <td>0.40</td>\n",
       "      <td>0.55</td>\n",
       "      <td>...</td>\n",
       "      <td>80.4</td>\n",
       "      <td>9.1</td>\n",
       "      <td>6.68</td>\n",
       "      <td>0.34</td>\n",
       "      <td>0.31</td>\n",
       "      <td>0.36</td>\n",
       "      <td>0.31</td>\n",
       "      <td>0.46</td>\n",
       "      <td>0.23</td>\n",
       "      <td>2010</td>\n",
       "    </tr>\n",
       "    <tr>\n",
       "      <th>45</th>\n",
       "      <td>Sampdoria</td>\n",
       "      <td>0.23</td>\n",
       "      <td>0.60</td>\n",
       "      <td>0.17</td>\n",
       "      <td>0.21</td>\n",
       "      <td>0.61</td>\n",
       "      <td>0.18</td>\n",
       "      <td>0.06</td>\n",
       "      <td>0.44</td>\n",
       "      <td>0.50</td>\n",
       "      <td>...</td>\n",
       "      <td>76.0</td>\n",
       "      <td>8.3</td>\n",
       "      <td>6.75</td>\n",
       "      <td>0.38</td>\n",
       "      <td>0.25</td>\n",
       "      <td>0.37</td>\n",
       "      <td>0.28</td>\n",
       "      <td>0.46</td>\n",
       "      <td>0.27</td>\n",
       "      <td>2010</td>\n",
       "    </tr>\n",
       "    <tr>\n",
       "      <th>41</th>\n",
       "      <td>Palermo FC</td>\n",
       "      <td>0.25</td>\n",
       "      <td>0.56</td>\n",
       "      <td>0.19</td>\n",
       "      <td>0.19</td>\n",
       "      <td>0.62</td>\n",
       "      <td>0.19</td>\n",
       "      <td>0.04</td>\n",
       "      <td>0.51</td>\n",
       "      <td>0.45</td>\n",
       "      <td>...</td>\n",
       "      <td>79.5</td>\n",
       "      <td>9.4</td>\n",
       "      <td>6.87</td>\n",
       "      <td>0.39</td>\n",
       "      <td>0.30</td>\n",
       "      <td>0.31</td>\n",
       "      <td>0.29</td>\n",
       "      <td>0.43</td>\n",
       "      <td>0.28</td>\n",
       "      <td>2010</td>\n",
       "    </tr>\n",
       "    <tr>\n",
       "      <th>43</th>\n",
       "      <td>Lazio</td>\n",
       "      <td>0.23</td>\n",
       "      <td>0.58</td>\n",
       "      <td>0.19</td>\n",
       "      <td>0.23</td>\n",
       "      <td>0.60</td>\n",
       "      <td>0.17</td>\n",
       "      <td>0.05</td>\n",
       "      <td>0.45</td>\n",
       "      <td>0.50</td>\n",
       "      <td>...</td>\n",
       "      <td>81.7</td>\n",
       "      <td>7.8</td>\n",
       "      <td>6.88</td>\n",
       "      <td>0.34</td>\n",
       "      <td>0.28</td>\n",
       "      <td>0.37</td>\n",
       "      <td>0.27</td>\n",
       "      <td>0.48</td>\n",
       "      <td>0.26</td>\n",
       "      <td>2010</td>\n",
       "    </tr>\n",
       "    <tr>\n",
       "      <th>42</th>\n",
       "      <td>Fiorentina</td>\n",
       "      <td>0.24</td>\n",
       "      <td>0.60</td>\n",
       "      <td>0.17</td>\n",
       "      <td>0.18</td>\n",
       "      <td>0.63</td>\n",
       "      <td>0.18</td>\n",
       "      <td>0.05</td>\n",
       "      <td>0.43</td>\n",
       "      <td>0.52</td>\n",
       "      <td>...</td>\n",
       "      <td>79.6</td>\n",
       "      <td>8.5</td>\n",
       "      <td>6.77</td>\n",
       "      <td>0.38</td>\n",
       "      <td>0.28</td>\n",
       "      <td>0.34</td>\n",
       "      <td>0.28</td>\n",
       "      <td>0.45</td>\n",
       "      <td>0.28</td>\n",
       "      <td>2010</td>\n",
       "    </tr>\n",
       "    <tr>\n",
       "      <th>48</th>\n",
       "      <td>Inter</td>\n",
       "      <td>0.21</td>\n",
       "      <td>0.63</td>\n",
       "      <td>0.17</td>\n",
       "      <td>0.17</td>\n",
       "      <td>0.63</td>\n",
       "      <td>0.20</td>\n",
       "      <td>0.05</td>\n",
       "      <td>0.41</td>\n",
       "      <td>0.54</td>\n",
       "      <td>...</td>\n",
       "      <td>85.2</td>\n",
       "      <td>6.7</td>\n",
       "      <td>7.05</td>\n",
       "      <td>0.33</td>\n",
       "      <td>0.34</td>\n",
       "      <td>0.33</td>\n",
       "      <td>0.25</td>\n",
       "      <td>0.46</td>\n",
       "      <td>0.28</td>\n",
       "      <td>2010</td>\n",
       "    </tr>\n",
       "    <tr>\n",
       "      <th>44</th>\n",
       "      <td>Roma</td>\n",
       "      <td>0.23</td>\n",
       "      <td>0.62</td>\n",
       "      <td>0.15</td>\n",
       "      <td>0.21</td>\n",
       "      <td>0.57</td>\n",
       "      <td>0.22</td>\n",
       "      <td>0.04</td>\n",
       "      <td>0.47</td>\n",
       "      <td>0.49</td>\n",
       "      <td>...</td>\n",
       "      <td>81.5</td>\n",
       "      <td>9.2</td>\n",
       "      <td>6.89</td>\n",
       "      <td>0.31</td>\n",
       "      <td>0.33</td>\n",
       "      <td>0.36</td>\n",
       "      <td>0.27</td>\n",
       "      <td>0.46</td>\n",
       "      <td>0.28</td>\n",
       "      <td>2010</td>\n",
       "    </tr>\n",
       "    <tr>\n",
       "      <th>49</th>\n",
       "      <td>Brescia</td>\n",
       "      <td>0.21</td>\n",
       "      <td>0.59</td>\n",
       "      <td>0.21</td>\n",
       "      <td>0.22</td>\n",
       "      <td>0.61</td>\n",
       "      <td>0.17</td>\n",
       "      <td>0.05</td>\n",
       "      <td>0.40</td>\n",
       "      <td>0.55</td>\n",
       "      <td>...</td>\n",
       "      <td>79.3</td>\n",
       "      <td>7.5</td>\n",
       "      <td>6.77</td>\n",
       "      <td>0.34</td>\n",
       "      <td>0.32</td>\n",
       "      <td>0.34</td>\n",
       "      <td>0.30</td>\n",
       "      <td>0.44</td>\n",
       "      <td>0.26</td>\n",
       "      <td>2010</td>\n",
       "    </tr>\n",
       "    <tr>\n",
       "      <th>53</th>\n",
       "      <td>Cagliari</td>\n",
       "      <td>0.17</td>\n",
       "      <td>0.69</td>\n",
       "      <td>0.14</td>\n",
       "      <td>0.18</td>\n",
       "      <td>0.66</td>\n",
       "      <td>0.16</td>\n",
       "      <td>0.04</td>\n",
       "      <td>0.47</td>\n",
       "      <td>0.48</td>\n",
       "      <td>...</td>\n",
       "      <td>75.2</td>\n",
       "      <td>10.8</td>\n",
       "      <td>6.82</td>\n",
       "      <td>0.34</td>\n",
       "      <td>0.31</td>\n",
       "      <td>0.35</td>\n",
       "      <td>0.27</td>\n",
       "      <td>0.47</td>\n",
       "      <td>0.25</td>\n",
       "      <td>2010</td>\n",
       "    </tr>\n",
       "  </tbody>\n",
       "</table>\n",
       "<p>30 rows × 65 columns</p>\n",
       "</div>"
      ],
      "text/plain": [
       "                  team  left_for  middle_for  right_for  left_against  \\\n",
       "219             Chievo      0.13        0.73       0.14          0.21   \n",
       "200              Lazio      0.26        0.54       0.20          0.18   \n",
       "201           AC Milan      0.22        0.64       0.14          0.25   \n",
       "202               Roma      0.22        0.60       0.18          0.22   \n",
       "203          Sampdoria      0.21        0.63       0.16          0.17   \n",
       "204        Robur Siena      0.21        0.61       0.17          0.16   \n",
       "205         Palermo FC      0.21        0.58       0.21          0.18   \n",
       "206         Fiorentina      0.20        0.64       0.16          0.22   \n",
       "207            Udinese      0.20        0.60       0.20          0.21   \n",
       "208           Juventus      0.20        0.67       0.14          0.20   \n",
       "218            Livorno      0.15        0.60       0.25          0.21   \n",
       "210               Bari      0.19        0.57       0.24          0.18   \n",
       "211           Cagliari      0.19        0.66       0.15          0.18   \n",
       "212  Parma Calcio 1913      0.19        0.65       0.17          0.14   \n",
       "213              Genoa      0.19        0.64       0.18          0.19   \n",
       "214              Inter      0.18        0.62       0.20          0.20   \n",
       "215             Napoli      0.18        0.62       0.21          0.19   \n",
       "216            Catania      0.16        0.70       0.15          0.24   \n",
       "217            Bologna      0.15        0.65       0.20          0.18   \n",
       "209           Atalanta      0.20        0.61       0.19          0.17   \n",
       "47              Cesena      0.22        0.57       0.21          0.19   \n",
       "46                Bari      0.22        0.56       0.22          0.16   \n",
       "45           Sampdoria      0.23        0.60       0.17          0.21   \n",
       "41          Palermo FC      0.25        0.56       0.19          0.19   \n",
       "43               Lazio      0.23        0.58       0.19          0.23   \n",
       "42          Fiorentina      0.24        0.60       0.17          0.18   \n",
       "48               Inter      0.21        0.63       0.17          0.17   \n",
       "44                Roma      0.23        0.62       0.15          0.21   \n",
       "49             Brescia      0.21        0.59       0.21          0.22   \n",
       "53            Cagliari      0.17        0.69       0.14          0.18   \n",
       "\n",
       "     middle_against  right_against  In 6 Yards Box_for  In 18 Yards Box_for  \\\n",
       "219            0.60           0.19                0.10                 0.48   \n",
       "200            0.63           0.18                0.04                 0.35   \n",
       "201            0.55           0.20                0.07                 0.49   \n",
       "202            0.60           0.19                0.06                 0.45   \n",
       "203            0.65           0.18                0.07                 0.42   \n",
       "204            0.68           0.17                0.06                 0.40   \n",
       "205            0.59           0.22                0.06                 0.47   \n",
       "206            0.59           0.20                0.05                 0.43   \n",
       "207            0.64           0.15                0.05                 0.47   \n",
       "208            0.60           0.20                0.05                 0.47   \n",
       "218            0.62           0.17                0.05                 0.35   \n",
       "210            0.65           0.17                0.05                 0.48   \n",
       "211            0.64           0.18                0.06                 0.48   \n",
       "212            0.66           0.21                0.06                 0.44   \n",
       "213            0.66           0.15                0.06                 0.49   \n",
       "214            0.60           0.20                0.06                 0.41   \n",
       "215            0.67           0.15                0.06                 0.48   \n",
       "216            0.60           0.16                0.04                 0.43   \n",
       "217            0.66           0.16                0.05                 0.42   \n",
       "209            0.64           0.19                0.03                 0.44   \n",
       "47             0.63           0.18                0.03                 0.43   \n",
       "46             0.64           0.20                0.04                 0.40   \n",
       "45             0.61           0.18                0.06                 0.44   \n",
       "41             0.62           0.19                0.04                 0.51   \n",
       "43             0.60           0.17                0.05                 0.45   \n",
       "42             0.63           0.18                0.05                 0.43   \n",
       "48             0.63           0.20                0.05                 0.41   \n",
       "44             0.57           0.22                0.04                 0.47   \n",
       "49             0.61           0.17                0.05                 0.40   \n",
       "53             0.66           0.16                0.04                 0.47   \n",
       "\n",
       "     Outside of Box_for  ...  Pass%_summary  AerialsWon_summary  \\\n",
       "219                0.42  ...           71.8                10.4   \n",
       "200                0.60  ...           77.6                   8   \n",
       "201                0.44  ...           84.8                 7.9   \n",
       "202                0.50  ...           79.7                 8.7   \n",
       "203                0.50  ...           75.4                 8.4   \n",
       "204                0.53  ...           76.0                 9.5   \n",
       "205                0.47  ...           77.2                 8.6   \n",
       "206                0.52  ...           75.7                 8.5   \n",
       "207                0.49  ...           78.5                 8.5   \n",
       "208                0.48  ...           79.4                 9.4   \n",
       "218                0.60  ...           77.5                   8   \n",
       "210                0.47  ...           80.8                 7.3   \n",
       "211                0.46  ...           74.1                12.3   \n",
       "212                0.50  ...           72.8                 8.6   \n",
       "213                0.45  ...           78.3                  10   \n",
       "214                0.53  ...           82.9                 6.7   \n",
       "215                0.46  ...           77.7                 8.9   \n",
       "216                0.53  ...           73.7                 9.5   \n",
       "217                0.53  ...           75.0                 9.1   \n",
       "209                0.52  ...           77.7                 9.5   \n",
       "47                 0.54  ...           76.7                 9.7   \n",
       "46                 0.55  ...           80.4                 9.1   \n",
       "45                 0.50  ...           76.0                 8.3   \n",
       "41                 0.45  ...           79.5                 9.4   \n",
       "43                 0.50  ...           81.7                 7.8   \n",
       "42                 0.52  ...           79.6                 8.5   \n",
       "48                 0.54  ...           85.2                 6.7   \n",
       "44                 0.49  ...           81.5                 9.2   \n",
       "49                 0.55  ...           79.3                 7.5   \n",
       "53                 0.48  ...           75.2                10.8   \n",
       "\n",
       "     Rating_summary Left Side_channels Middle of the pitch_channels  \\\n",
       "219            6.84               0.28                         0.33   \n",
       "200            6.88               0.34                         0.30   \n",
       "201            7.04               0.38                         0.31   \n",
       "202            7.07               0.31                         0.34   \n",
       "203            6.87               0.36                         0.27   \n",
       "204            6.74               0.34                         0.31   \n",
       "205            6.92               0.36                         0.31   \n",
       "206            6.83               0.35                         0.31   \n",
       "207            6.94               0.35                         0.30   \n",
       "208            6.84               0.35                         0.32   \n",
       "218            6.70               0.32                         0.31   \n",
       "210            6.89               0.31                         0.33   \n",
       "211            6.91               0.36                         0.32   \n",
       "212            6.88               0.31                         0.27   \n",
       "213            6.91               0.37                         0.27   \n",
       "214            7.09               0.33                         0.33   \n",
       "215            6.96               0.29                         0.32   \n",
       "216            6.84               0.34                         0.33   \n",
       "217            6.78               0.34                         0.33   \n",
       "209            6.77               0.34                         0.31   \n",
       "47             6.77               0.38                         0.28   \n",
       "46             6.68               0.34                         0.31   \n",
       "45             6.75               0.38                         0.25   \n",
       "41             6.87               0.39                         0.30   \n",
       "43             6.88               0.34                         0.28   \n",
       "42             6.77               0.38                         0.28   \n",
       "48             7.05               0.33                         0.34   \n",
       "44             6.89               0.31                         0.33   \n",
       "49             6.77               0.34                         0.32   \n",
       "53             6.82               0.34                         0.31   \n",
       "\n",
       "    Right Side_channels Own Third Middle Third Opposition Third season  \n",
       "219                0.38      0.27         0.45             0.28   2009  \n",
       "200                0.36      0.27         0.45             0.28   2009  \n",
       "201                0.31      0.25         0.45             0.30   2009  \n",
       "202                0.35      0.27         0.46             0.27   2009  \n",
       "203                0.37      0.28         0.45             0.27   2009  \n",
       "204                0.34      0.28         0.44             0.28   2009  \n",
       "205                0.33      0.30         0.42             0.28   2009  \n",
       "206                0.34      0.25         0.43             0.33   2009  \n",
       "207                0.34      0.27         0.45             0.27   2009  \n",
       "208                0.32      0.25         0.44             0.30   2009  \n",
       "218                0.38      0.28         0.45             0.26   2009  \n",
       "210                0.36      0.33         0.45             0.23   2009  \n",
       "211                0.32      0.31         0.45             0.25   2009  \n",
       "212                0.42      0.28         0.42             0.29   2009  \n",
       "213                0.35      0.27         0.44             0.29   2009  \n",
       "214                0.35      0.26         0.46             0.28   2009  \n",
       "215                0.40      0.25         0.46             0.30   2009  \n",
       "216                0.33      0.27         0.47             0.26   2009  \n",
       "217                0.32      0.30         0.45             0.26   2009  \n",
       "209                0.35      0.28         0.46             0.27   2009  \n",
       "47                 0.34      0.29         0.44             0.27   2010  \n",
       "46                 0.36      0.31         0.46             0.23   2010  \n",
       "45                 0.37      0.28         0.46             0.27   2010  \n",
       "41                 0.31      0.29         0.43             0.28   2010  \n",
       "43                 0.37      0.27         0.48             0.26   2010  \n",
       "42                 0.34      0.28         0.45             0.28   2010  \n",
       "48                 0.33      0.25         0.46             0.28   2010  \n",
       "44                 0.36      0.27         0.46             0.28   2010  \n",
       "49                 0.34      0.30         0.44             0.26   2010  \n",
       "53                 0.35      0.27         0.47             0.25   2010  \n",
       "\n",
       "[30 rows x 65 columns]"
      ]
     },
     "execution_count": 4,
     "metadata": {},
     "output_type": "execute_result"
    }
   ],
   "source": [
    "gather_all_seasons(\"SerieA\").head(30)"
   ]
  },
  {
   "cell_type": "code",
   "execution_count": 15,
   "metadata": {},
   "outputs": [
    {
     "data": {
      "text/html": [
       "<div>\n",
       "<style scoped>\n",
       "    .dataframe tbody tr th:only-of-type {\n",
       "        vertical-align: middle;\n",
       "    }\n",
       "\n",
       "    .dataframe tbody tr th {\n",
       "        vertical-align: top;\n",
       "    }\n",
       "\n",
       "    .dataframe thead th {\n",
       "        text-align: right;\n",
       "    }\n",
       "</style>\n",
       "<table border=\"1\" class=\"dataframe\">\n",
       "  <thead>\n",
       "    <tr style=\"text-align: right;\">\n",
       "      <th></th>\n",
       "      <th>team</th>\n",
       "      <th>left_for</th>\n",
       "      <th>middle_for</th>\n",
       "      <th>right_for</th>\n",
       "      <th>left_against</th>\n",
       "      <th>middle_against</th>\n",
       "      <th>right_against</th>\n",
       "      <th>In 6 Yards Box_for</th>\n",
       "      <th>In 18 Yards Box_for</th>\n",
       "      <th>Outside of Box_for</th>\n",
       "      <th>...</th>\n",
       "      <th>AerialsWon_summary</th>\n",
       "      <th>Rating_summary</th>\n",
       "      <th>Left Side_channels</th>\n",
       "      <th>Middle of the pitch_channels</th>\n",
       "      <th>Right Side_channels</th>\n",
       "      <th>Own Third</th>\n",
       "      <th>Middle Third</th>\n",
       "      <th>Opposition Third</th>\n",
       "      <th>season</th>\n",
       "      <th>league</th>\n",
       "    </tr>\n",
       "  </thead>\n",
       "  <tbody>\n",
       "    <tr>\n",
       "      <th>0</th>\n",
       "      <td>Borussia Dortmund</td>\n",
       "      <td>0.15</td>\n",
       "      <td>0.67</td>\n",
       "      <td>0.18</td>\n",
       "      <td>0.19</td>\n",
       "      <td>0.63</td>\n",
       "      <td>0.17</td>\n",
       "      <td>0.10</td>\n",
       "      <td>0.47</td>\n",
       "      <td>0.42</td>\n",
       "      <td>...</td>\n",
       "      <td>9.2</td>\n",
       "      <td>6.98</td>\n",
       "      <td>0.34</td>\n",
       "      <td>0.31</td>\n",
       "      <td>0.35</td>\n",
       "      <td>0.26</td>\n",
       "      <td>0.47</td>\n",
       "      <td>0.27</td>\n",
       "      <td>2009</td>\n",
       "      <td>Bundesliga</td>\n",
       "    </tr>\n",
       "    <tr>\n",
       "      <th>1</th>\n",
       "      <td>Hamburger SV</td>\n",
       "      <td>0.27</td>\n",
       "      <td>0.55</td>\n",
       "      <td>0.18</td>\n",
       "      <td>0.21</td>\n",
       "      <td>0.60</td>\n",
       "      <td>0.19</td>\n",
       "      <td>0.04</td>\n",
       "      <td>0.51</td>\n",
       "      <td>0.45</td>\n",
       "      <td>...</td>\n",
       "      <td>5.7</td>\n",
       "      <td>6.88</td>\n",
       "      <td>0.40</td>\n",
       "      <td>0.24</td>\n",
       "      <td>0.36</td>\n",
       "      <td>0.27</td>\n",
       "      <td>0.47</td>\n",
       "      <td>0.27</td>\n",
       "      <td>2009</td>\n",
       "      <td>Bundesliga</td>\n",
       "    </tr>\n",
       "    <tr>\n",
       "      <th>2</th>\n",
       "      <td>Nuernberg</td>\n",
       "      <td>0.27</td>\n",
       "      <td>0.52</td>\n",
       "      <td>0.22</td>\n",
       "      <td>0.23</td>\n",
       "      <td>0.62</td>\n",
       "      <td>0.15</td>\n",
       "      <td>0.05</td>\n",
       "      <td>0.48</td>\n",
       "      <td>0.47</td>\n",
       "      <td>...</td>\n",
       "      <td>5.8</td>\n",
       "      <td>6.74</td>\n",
       "      <td>0.37</td>\n",
       "      <td>0.26</td>\n",
       "      <td>0.37</td>\n",
       "      <td>0.28</td>\n",
       "      <td>0.45</td>\n",
       "      <td>0.27</td>\n",
       "      <td>2009</td>\n",
       "      <td>Bundesliga</td>\n",
       "    </tr>\n",
       "    <tr>\n",
       "      <th>3</th>\n",
       "      <td>Wolfsburg</td>\n",
       "      <td>0.26</td>\n",
       "      <td>0.59</td>\n",
       "      <td>0.15</td>\n",
       "      <td>0.21</td>\n",
       "      <td>0.58</td>\n",
       "      <td>0.21</td>\n",
       "      <td>0.08</td>\n",
       "      <td>0.58</td>\n",
       "      <td>0.34</td>\n",
       "      <td>...</td>\n",
       "      <td>5.6</td>\n",
       "      <td>6.95</td>\n",
       "      <td>0.37</td>\n",
       "      <td>0.26</td>\n",
       "      <td>0.37</td>\n",
       "      <td>0.28</td>\n",
       "      <td>0.44</td>\n",
       "      <td>0.28</td>\n",
       "      <td>2009</td>\n",
       "      <td>Bundesliga</td>\n",
       "    </tr>\n",
       "    <tr>\n",
       "      <th>4</th>\n",
       "      <td>Werder Bremen</td>\n",
       "      <td>0.25</td>\n",
       "      <td>0.60</td>\n",
       "      <td>0.15</td>\n",
       "      <td>0.24</td>\n",
       "      <td>0.55</td>\n",
       "      <td>0.21</td>\n",
       "      <td>0.08</td>\n",
       "      <td>0.53</td>\n",
       "      <td>0.39</td>\n",
       "      <td>...</td>\n",
       "      <td>7.2</td>\n",
       "      <td>7.06</td>\n",
       "      <td>0.39</td>\n",
       "      <td>0.26</td>\n",
       "      <td>0.34</td>\n",
       "      <td>0.24</td>\n",
       "      <td>0.45</td>\n",
       "      <td>0.31</td>\n",
       "      <td>2009</td>\n",
       "      <td>Bundesliga</td>\n",
       "    </tr>\n",
       "  </tbody>\n",
       "</table>\n",
       "<p>5 rows × 66 columns</p>\n",
       "</div>"
      ],
      "text/plain": [
       "                team  left_for  middle_for  right_for  left_against  \\\n",
       "0  Borussia Dortmund      0.15        0.67       0.18          0.19   \n",
       "1       Hamburger SV      0.27        0.55       0.18          0.21   \n",
       "2          Nuernberg      0.27        0.52       0.22          0.23   \n",
       "3          Wolfsburg      0.26        0.59       0.15          0.21   \n",
       "4      Werder Bremen      0.25        0.60       0.15          0.24   \n",
       "\n",
       "   middle_against  right_against  In 6 Yards Box_for  In 18 Yards Box_for  \\\n",
       "0            0.63           0.17                0.10                 0.47   \n",
       "1            0.60           0.19                0.04                 0.51   \n",
       "2            0.62           0.15                0.05                 0.48   \n",
       "3            0.58           0.21                0.08                 0.58   \n",
       "4            0.55           0.21                0.08                 0.53   \n",
       "\n",
       "   Outside of Box_for  ...  AerialsWon_summary  Rating_summary  \\\n",
       "0                0.42  ...                 9.2            6.98   \n",
       "1                0.45  ...                 5.7            6.88   \n",
       "2                0.47  ...                 5.8            6.74   \n",
       "3                0.34  ...                 5.6            6.95   \n",
       "4                0.39  ...                 7.2            7.06   \n",
       "\n",
       "   Left Side_channels Middle of the pitch_channels Right Side_channels  \\\n",
       "0                0.34                         0.31                0.35   \n",
       "1                0.40                         0.24                0.36   \n",
       "2                0.37                         0.26                0.37   \n",
       "3                0.37                         0.26                0.37   \n",
       "4                0.39                         0.26                0.34   \n",
       "\n",
       "  Own Third Middle Third Opposition Third season      league  \n",
       "0      0.26         0.47             0.27   2009  Bundesliga  \n",
       "1      0.27         0.47             0.27   2009  Bundesliga  \n",
       "2      0.28         0.45             0.27   2009  Bundesliga  \n",
       "3      0.28         0.44             0.28   2009  Bundesliga  \n",
       "4      0.24         0.45             0.31   2009  Bundesliga  \n",
       "\n",
       "[5 rows x 66 columns]"
      ]
     },
     "execution_count": 15,
     "metadata": {},
     "output_type": "execute_result"
    }
   ],
   "source": [
    "gather_all_league().head()"
   ]
  },
  {
   "cell_type": "code",
   "execution_count": 16,
   "metadata": {},
   "outputs": [],
   "source": [
    "df = gather_all_league()"
   ]
  },
  {
   "cell_type": "code",
   "execution_count": 17,
   "metadata": {},
   "outputs": [
    {
     "data": {
      "text/html": [
       "<div>\n",
       "<style scoped>\n",
       "    .dataframe tbody tr th:only-of-type {\n",
       "        vertical-align: middle;\n",
       "    }\n",
       "\n",
       "    .dataframe tbody tr th {\n",
       "        vertical-align: top;\n",
       "    }\n",
       "\n",
       "    .dataframe thead th {\n",
       "        text-align: right;\n",
       "    }\n",
       "</style>\n",
       "<table border=\"1\" class=\"dataframe\">\n",
       "  <thead>\n",
       "    <tr style=\"text-align: right;\">\n",
       "      <th></th>\n",
       "      <th>team</th>\n",
       "      <th>left_for</th>\n",
       "      <th>middle_for</th>\n",
       "      <th>right_for</th>\n",
       "      <th>left_against</th>\n",
       "      <th>middle_against</th>\n",
       "      <th>right_against</th>\n",
       "      <th>In 6 Yards Box_for</th>\n",
       "      <th>In 18 Yards Box_for</th>\n",
       "      <th>Outside of Box_for</th>\n",
       "      <th>...</th>\n",
       "      <th>AerialsWon_summary</th>\n",
       "      <th>Rating_summary</th>\n",
       "      <th>Left Side_channels</th>\n",
       "      <th>Middle of the pitch_channels</th>\n",
       "      <th>Right Side_channels</th>\n",
       "      <th>Own Third</th>\n",
       "      <th>Middle Third</th>\n",
       "      <th>Opposition Third</th>\n",
       "      <th>season</th>\n",
       "      <th>league</th>\n",
       "    </tr>\n",
       "  </thead>\n",
       "  <tbody>\n",
       "    <tr>\n",
       "      <th>0</th>\n",
       "      <td>Borussia Dortmund</td>\n",
       "      <td>0.15</td>\n",
       "      <td>0.67</td>\n",
       "      <td>0.18</td>\n",
       "      <td>0.19</td>\n",
       "      <td>0.63</td>\n",
       "      <td>0.17</td>\n",
       "      <td>0.10</td>\n",
       "      <td>0.47</td>\n",
       "      <td>0.42</td>\n",
       "      <td>...</td>\n",
       "      <td>9.2</td>\n",
       "      <td>6.98</td>\n",
       "      <td>0.34</td>\n",
       "      <td>0.31</td>\n",
       "      <td>0.35</td>\n",
       "      <td>0.26</td>\n",
       "      <td>0.47</td>\n",
       "      <td>0.27</td>\n",
       "      <td>2009</td>\n",
       "      <td>Bundesliga</td>\n",
       "    </tr>\n",
       "    <tr>\n",
       "      <th>1</th>\n",
       "      <td>Hamburger SV</td>\n",
       "      <td>0.27</td>\n",
       "      <td>0.55</td>\n",
       "      <td>0.18</td>\n",
       "      <td>0.21</td>\n",
       "      <td>0.60</td>\n",
       "      <td>0.19</td>\n",
       "      <td>0.04</td>\n",
       "      <td>0.51</td>\n",
       "      <td>0.45</td>\n",
       "      <td>...</td>\n",
       "      <td>5.7</td>\n",
       "      <td>6.88</td>\n",
       "      <td>0.40</td>\n",
       "      <td>0.24</td>\n",
       "      <td>0.36</td>\n",
       "      <td>0.27</td>\n",
       "      <td>0.47</td>\n",
       "      <td>0.27</td>\n",
       "      <td>2009</td>\n",
       "      <td>Bundesliga</td>\n",
       "    </tr>\n",
       "    <tr>\n",
       "      <th>2</th>\n",
       "      <td>Nuernberg</td>\n",
       "      <td>0.27</td>\n",
       "      <td>0.52</td>\n",
       "      <td>0.22</td>\n",
       "      <td>0.23</td>\n",
       "      <td>0.62</td>\n",
       "      <td>0.15</td>\n",
       "      <td>0.05</td>\n",
       "      <td>0.48</td>\n",
       "      <td>0.47</td>\n",
       "      <td>...</td>\n",
       "      <td>5.8</td>\n",
       "      <td>6.74</td>\n",
       "      <td>0.37</td>\n",
       "      <td>0.26</td>\n",
       "      <td>0.37</td>\n",
       "      <td>0.28</td>\n",
       "      <td>0.45</td>\n",
       "      <td>0.27</td>\n",
       "      <td>2009</td>\n",
       "      <td>Bundesliga</td>\n",
       "    </tr>\n",
       "    <tr>\n",
       "      <th>3</th>\n",
       "      <td>Wolfsburg</td>\n",
       "      <td>0.26</td>\n",
       "      <td>0.59</td>\n",
       "      <td>0.15</td>\n",
       "      <td>0.21</td>\n",
       "      <td>0.58</td>\n",
       "      <td>0.21</td>\n",
       "      <td>0.08</td>\n",
       "      <td>0.58</td>\n",
       "      <td>0.34</td>\n",
       "      <td>...</td>\n",
       "      <td>5.6</td>\n",
       "      <td>6.95</td>\n",
       "      <td>0.37</td>\n",
       "      <td>0.26</td>\n",
       "      <td>0.37</td>\n",
       "      <td>0.28</td>\n",
       "      <td>0.44</td>\n",
       "      <td>0.28</td>\n",
       "      <td>2009</td>\n",
       "      <td>Bundesliga</td>\n",
       "    </tr>\n",
       "    <tr>\n",
       "      <th>4</th>\n",
       "      <td>Werder Bremen</td>\n",
       "      <td>0.25</td>\n",
       "      <td>0.60</td>\n",
       "      <td>0.15</td>\n",
       "      <td>0.24</td>\n",
       "      <td>0.55</td>\n",
       "      <td>0.21</td>\n",
       "      <td>0.08</td>\n",
       "      <td>0.53</td>\n",
       "      <td>0.39</td>\n",
       "      <td>...</td>\n",
       "      <td>7.2</td>\n",
       "      <td>7.06</td>\n",
       "      <td>0.39</td>\n",
       "      <td>0.26</td>\n",
       "      <td>0.34</td>\n",
       "      <td>0.24</td>\n",
       "      <td>0.45</td>\n",
       "      <td>0.31</td>\n",
       "      <td>2009</td>\n",
       "      <td>Bundesliga</td>\n",
       "    </tr>\n",
       "    <tr>\n",
       "      <th>5</th>\n",
       "      <td>Borussia M.Gladbach</td>\n",
       "      <td>0.25</td>\n",
       "      <td>0.58</td>\n",
       "      <td>0.17</td>\n",
       "      <td>0.21</td>\n",
       "      <td>0.62</td>\n",
       "      <td>0.17</td>\n",
       "      <td>0.04</td>\n",
       "      <td>0.47</td>\n",
       "      <td>0.49</td>\n",
       "      <td>...</td>\n",
       "      <td>7.6</td>\n",
       "      <td>6.74</td>\n",
       "      <td>0.37</td>\n",
       "      <td>0.27</td>\n",
       "      <td>0.36</td>\n",
       "      <td>0.29</td>\n",
       "      <td>0.46</td>\n",
       "      <td>0.24</td>\n",
       "      <td>2009</td>\n",
       "      <td>Bundesliga</td>\n",
       "    </tr>\n",
       "    <tr>\n",
       "      <th>6</th>\n",
       "      <td>Bochum</td>\n",
       "      <td>0.24</td>\n",
       "      <td>0.57</td>\n",
       "      <td>0.19</td>\n",
       "      <td>0.21</td>\n",
       "      <td>0.61</td>\n",
       "      <td>0.18</td>\n",
       "      <td>0.05</td>\n",
       "      <td>0.39</td>\n",
       "      <td>0.56</td>\n",
       "      <td>...</td>\n",
       "      <td>6.2</td>\n",
       "      <td>6.65</td>\n",
       "      <td>0.35</td>\n",
       "      <td>0.26</td>\n",
       "      <td>0.40</td>\n",
       "      <td>0.28</td>\n",
       "      <td>0.46</td>\n",
       "      <td>0.26</td>\n",
       "      <td>2009</td>\n",
       "      <td>Bundesliga</td>\n",
       "    </tr>\n",
       "    <tr>\n",
       "      <th>7</th>\n",
       "      <td>Freiburg</td>\n",
       "      <td>0.23</td>\n",
       "      <td>0.58</td>\n",
       "      <td>0.20</td>\n",
       "      <td>0.22</td>\n",
       "      <td>0.64</td>\n",
       "      <td>0.14</td>\n",
       "      <td>0.08</td>\n",
       "      <td>0.45</td>\n",
       "      <td>0.47</td>\n",
       "      <td>...</td>\n",
       "      <td>7.3</td>\n",
       "      <td>6.68</td>\n",
       "      <td>0.38</td>\n",
       "      <td>0.27</td>\n",
       "      <td>0.34</td>\n",
       "      <td>0.28</td>\n",
       "      <td>0.44</td>\n",
       "      <td>0.28</td>\n",
       "      <td>2009</td>\n",
       "      <td>Bundesliga</td>\n",
       "    </tr>\n",
       "    <tr>\n",
       "      <th>8</th>\n",
       "      <td>Schalke 04</td>\n",
       "      <td>0.22</td>\n",
       "      <td>0.65</td>\n",
       "      <td>0.13</td>\n",
       "      <td>0.22</td>\n",
       "      <td>0.60</td>\n",
       "      <td>0.19</td>\n",
       "      <td>0.12</td>\n",
       "      <td>0.51</td>\n",
       "      <td>0.37</td>\n",
       "      <td>...</td>\n",
       "      <td>7.8</td>\n",
       "      <td>6.95</td>\n",
       "      <td>0.33</td>\n",
       "      <td>0.26</td>\n",
       "      <td>0.41</td>\n",
       "      <td>0.24</td>\n",
       "      <td>0.47</td>\n",
       "      <td>0.30</td>\n",
       "      <td>2009</td>\n",
       "      <td>Bundesliga</td>\n",
       "    </tr>\n",
       "    <tr>\n",
       "      <th>9</th>\n",
       "      <td>Eintracht Frankfurt</td>\n",
       "      <td>0.17</td>\n",
       "      <td>0.68</td>\n",
       "      <td>0.14</td>\n",
       "      <td>0.21</td>\n",
       "      <td>0.63</td>\n",
       "      <td>0.16</td>\n",
       "      <td>0.07</td>\n",
       "      <td>0.43</td>\n",
       "      <td>0.50</td>\n",
       "      <td>...</td>\n",
       "      <td>9.4</td>\n",
       "      <td>6.77</td>\n",
       "      <td>0.37</td>\n",
       "      <td>0.28</td>\n",
       "      <td>0.35</td>\n",
       "      <td>0.27</td>\n",
       "      <td>0.47</td>\n",
       "      <td>0.25</td>\n",
       "      <td>2009</td>\n",
       "      <td>Bundesliga</td>\n",
       "    </tr>\n",
       "    <tr>\n",
       "      <th>10</th>\n",
       "      <td>Hertha Berlin</td>\n",
       "      <td>0.21</td>\n",
       "      <td>0.58</td>\n",
       "      <td>0.21</td>\n",
       "      <td>0.23</td>\n",
       "      <td>0.62</td>\n",
       "      <td>0.16</td>\n",
       "      <td>0.06</td>\n",
       "      <td>0.48</td>\n",
       "      <td>0.46</td>\n",
       "      <td>...</td>\n",
       "      <td>8.3</td>\n",
       "      <td>6.79</td>\n",
       "      <td>0.36</td>\n",
       "      <td>0.28</td>\n",
       "      <td>0.36</td>\n",
       "      <td>0.28</td>\n",
       "      <td>0.46</td>\n",
       "      <td>0.26</td>\n",
       "      <td>2009</td>\n",
       "      <td>Bundesliga</td>\n",
       "    </tr>\n",
       "    <tr>\n",
       "      <th>11</th>\n",
       "      <td>Mainz 05</td>\n",
       "      <td>0.21</td>\n",
       "      <td>0.57</td>\n",
       "      <td>0.22</td>\n",
       "      <td>0.24</td>\n",
       "      <td>0.58</td>\n",
       "      <td>0.18</td>\n",
       "      <td>0.08</td>\n",
       "      <td>0.42</td>\n",
       "      <td>0.50</td>\n",
       "      <td>...</td>\n",
       "      <td>7</td>\n",
       "      <td>6.80</td>\n",
       "      <td>0.34</td>\n",
       "      <td>0.29</td>\n",
       "      <td>0.37</td>\n",
       "      <td>0.30</td>\n",
       "      <td>0.44</td>\n",
       "      <td>0.24</td>\n",
       "      <td>2009</td>\n",
       "      <td>Bundesliga</td>\n",
       "    </tr>\n",
       "    <tr>\n",
       "      <th>12</th>\n",
       "      <td>VfB Stuttgart</td>\n",
       "      <td>0.20</td>\n",
       "      <td>0.62</td>\n",
       "      <td>0.18</td>\n",
       "      <td>0.21</td>\n",
       "      <td>0.56</td>\n",
       "      <td>0.23</td>\n",
       "      <td>0.08</td>\n",
       "      <td>0.49</td>\n",
       "      <td>0.43</td>\n",
       "      <td>...</td>\n",
       "      <td>8.8</td>\n",
       "      <td>6.87</td>\n",
       "      <td>0.38</td>\n",
       "      <td>0.29</td>\n",
       "      <td>0.33</td>\n",
       "      <td>0.27</td>\n",
       "      <td>0.46</td>\n",
       "      <td>0.27</td>\n",
       "      <td>2009</td>\n",
       "      <td>Bundesliga</td>\n",
       "    </tr>\n",
       "    <tr>\n",
       "      <th>13</th>\n",
       "      <td>Hoffenheim</td>\n",
       "      <td>0.19</td>\n",
       "      <td>0.59</td>\n",
       "      <td>0.22</td>\n",
       "      <td>0.23</td>\n",
       "      <td>0.62</td>\n",
       "      <td>0.15</td>\n",
       "      <td>0.05</td>\n",
       "      <td>0.47</td>\n",
       "      <td>0.48</td>\n",
       "      <td>...</td>\n",
       "      <td>7.2</td>\n",
       "      <td>6.83</td>\n",
       "      <td>0.38</td>\n",
       "      <td>0.25</td>\n",
       "      <td>0.38</td>\n",
       "      <td>0.24</td>\n",
       "      <td>0.47</td>\n",
       "      <td>0.30</td>\n",
       "      <td>2009</td>\n",
       "      <td>Bundesliga</td>\n",
       "    </tr>\n",
       "    <tr>\n",
       "      <th>14</th>\n",
       "      <td>FC Koln</td>\n",
       "      <td>0.19</td>\n",
       "      <td>0.61</td>\n",
       "      <td>0.20</td>\n",
       "      <td>0.18</td>\n",
       "      <td>0.67</td>\n",
       "      <td>0.15</td>\n",
       "      <td>0.08</td>\n",
       "      <td>0.35</td>\n",
       "      <td>0.57</td>\n",
       "      <td>...</td>\n",
       "      <td>6.5</td>\n",
       "      <td>6.73</td>\n",
       "      <td>0.38</td>\n",
       "      <td>0.28</td>\n",
       "      <td>0.34</td>\n",
       "      <td>0.31</td>\n",
       "      <td>0.47</td>\n",
       "      <td>0.23</td>\n",
       "      <td>2009</td>\n",
       "      <td>Bundesliga</td>\n",
       "    </tr>\n",
       "    <tr>\n",
       "      <th>15</th>\n",
       "      <td>Bayern Munich</td>\n",
       "      <td>0.18</td>\n",
       "      <td>0.64</td>\n",
       "      <td>0.18</td>\n",
       "      <td>0.23</td>\n",
       "      <td>0.55</td>\n",
       "      <td>0.23</td>\n",
       "      <td>0.09</td>\n",
       "      <td>0.50</td>\n",
       "      <td>0.41</td>\n",
       "      <td>...</td>\n",
       "      <td>6.5</td>\n",
       "      <td>7.06</td>\n",
       "      <td>0.36</td>\n",
       "      <td>0.28</td>\n",
       "      <td>0.36</td>\n",
       "      <td>0.25</td>\n",
       "      <td>0.46</td>\n",
       "      <td>0.29</td>\n",
       "      <td>2009</td>\n",
       "      <td>Bundesliga</td>\n",
       "    </tr>\n",
       "    <tr>\n",
       "      <th>16</th>\n",
       "      <td>Bayer Leverkusen</td>\n",
       "      <td>0.17</td>\n",
       "      <td>0.70</td>\n",
       "      <td>0.13</td>\n",
       "      <td>0.19</td>\n",
       "      <td>0.61</td>\n",
       "      <td>0.20</td>\n",
       "      <td>0.07</td>\n",
       "      <td>0.53</td>\n",
       "      <td>0.41</td>\n",
       "      <td>...</td>\n",
       "      <td>8.7</td>\n",
       "      <td>6.99</td>\n",
       "      <td>0.32</td>\n",
       "      <td>0.32</td>\n",
       "      <td>0.36</td>\n",
       "      <td>0.24</td>\n",
       "      <td>0.49</td>\n",
       "      <td>0.28</td>\n",
       "      <td>2009</td>\n",
       "      <td>Bundesliga</td>\n",
       "    </tr>\n",
       "    <tr>\n",
       "      <th>17</th>\n",
       "      <td>Hannover 96</td>\n",
       "      <td>0.22</td>\n",
       "      <td>0.58</td>\n",
       "      <td>0.20</td>\n",
       "      <td>0.22</td>\n",
       "      <td>0.61</td>\n",
       "      <td>0.17</td>\n",
       "      <td>0.04</td>\n",
       "      <td>0.46</td>\n",
       "      <td>0.50</td>\n",
       "      <td>...</td>\n",
       "      <td>4.9</td>\n",
       "      <td>6.68</td>\n",
       "      <td>0.35</td>\n",
       "      <td>0.26</td>\n",
       "      <td>0.39</td>\n",
       "      <td>0.29</td>\n",
       "      <td>0.46</td>\n",
       "      <td>0.26</td>\n",
       "      <td>2009</td>\n",
       "      <td>Bundesliga</td>\n",
       "    </tr>\n",
       "    <tr>\n",
       "      <th>18</th>\n",
       "      <td>Hamburger SV</td>\n",
       "      <td>0.24</td>\n",
       "      <td>0.58</td>\n",
       "      <td>0.18</td>\n",
       "      <td>0.19</td>\n",
       "      <td>0.59</td>\n",
       "      <td>0.22</td>\n",
       "      <td>0.08</td>\n",
       "      <td>0.54</td>\n",
       "      <td>0.38</td>\n",
       "      <td>...</td>\n",
       "      <td>6.1</td>\n",
       "      <td>6.85</td>\n",
       "      <td>0.41</td>\n",
       "      <td>0.24</td>\n",
       "      <td>0.35</td>\n",
       "      <td>0.25</td>\n",
       "      <td>0.47</td>\n",
       "      <td>0.29</td>\n",
       "      <td>2010</td>\n",
       "      <td>Bundesliga</td>\n",
       "    </tr>\n",
       "    <tr>\n",
       "      <th>19</th>\n",
       "      <td>VfB Stuttgart</td>\n",
       "      <td>0.23</td>\n",
       "      <td>0.57</td>\n",
       "      <td>0.20</td>\n",
       "      <td>0.19</td>\n",
       "      <td>0.61</td>\n",
       "      <td>0.19</td>\n",
       "      <td>0.06</td>\n",
       "      <td>0.49</td>\n",
       "      <td>0.45</td>\n",
       "      <td>...</td>\n",
       "      <td>7.2</td>\n",
       "      <td>6.85</td>\n",
       "      <td>0.38</td>\n",
       "      <td>0.26</td>\n",
       "      <td>0.36</td>\n",
       "      <td>0.27</td>\n",
       "      <td>0.47</td>\n",
       "      <td>0.26</td>\n",
       "      <td>2010</td>\n",
       "      <td>Bundesliga</td>\n",
       "    </tr>\n",
       "  </tbody>\n",
       "</table>\n",
       "<p>20 rows × 66 columns</p>\n",
       "</div>"
      ],
      "text/plain": [
       "                   team  left_for  middle_for  right_for  left_against  \\\n",
       "0     Borussia Dortmund      0.15        0.67       0.18          0.19   \n",
       "1          Hamburger SV      0.27        0.55       0.18          0.21   \n",
       "2             Nuernberg      0.27        0.52       0.22          0.23   \n",
       "3             Wolfsburg      0.26        0.59       0.15          0.21   \n",
       "4         Werder Bremen      0.25        0.60       0.15          0.24   \n",
       "5   Borussia M.Gladbach      0.25        0.58       0.17          0.21   \n",
       "6                Bochum      0.24        0.57       0.19          0.21   \n",
       "7              Freiburg      0.23        0.58       0.20          0.22   \n",
       "8            Schalke 04      0.22        0.65       0.13          0.22   \n",
       "9   Eintracht Frankfurt      0.17        0.68       0.14          0.21   \n",
       "10        Hertha Berlin      0.21        0.58       0.21          0.23   \n",
       "11             Mainz 05      0.21        0.57       0.22          0.24   \n",
       "12        VfB Stuttgart      0.20        0.62       0.18          0.21   \n",
       "13           Hoffenheim      0.19        0.59       0.22          0.23   \n",
       "14              FC Koln      0.19        0.61       0.20          0.18   \n",
       "15        Bayern Munich      0.18        0.64       0.18          0.23   \n",
       "16     Bayer Leverkusen      0.17        0.70       0.13          0.19   \n",
       "17          Hannover 96      0.22        0.58       0.20          0.22   \n",
       "18         Hamburger SV      0.24        0.58       0.18          0.19   \n",
       "19        VfB Stuttgart      0.23        0.57       0.20          0.19   \n",
       "\n",
       "    middle_against  right_against  In 6 Yards Box_for  In 18 Yards Box_for  \\\n",
       "0             0.63           0.17                0.10                 0.47   \n",
       "1             0.60           0.19                0.04                 0.51   \n",
       "2             0.62           0.15                0.05                 0.48   \n",
       "3             0.58           0.21                0.08                 0.58   \n",
       "4             0.55           0.21                0.08                 0.53   \n",
       "5             0.62           0.17                0.04                 0.47   \n",
       "6             0.61           0.18                0.05                 0.39   \n",
       "7             0.64           0.14                0.08                 0.45   \n",
       "8             0.60           0.19                0.12                 0.51   \n",
       "9             0.63           0.16                0.07                 0.43   \n",
       "10            0.62           0.16                0.06                 0.48   \n",
       "11            0.58           0.18                0.08                 0.42   \n",
       "12            0.56           0.23                0.08                 0.49   \n",
       "13            0.62           0.15                0.05                 0.47   \n",
       "14            0.67           0.15                0.08                 0.35   \n",
       "15            0.55           0.23                0.09                 0.50   \n",
       "16            0.61           0.20                0.07                 0.53   \n",
       "17            0.61           0.17                0.04                 0.46   \n",
       "18            0.59           0.22                0.08                 0.54   \n",
       "19            0.61           0.19                0.06                 0.49   \n",
       "\n",
       "    Outside of Box_for  ...  AerialsWon_summary  Rating_summary  \\\n",
       "0                 0.42  ...                 9.2            6.98   \n",
       "1                 0.45  ...                 5.7            6.88   \n",
       "2                 0.47  ...                 5.8            6.74   \n",
       "3                 0.34  ...                 5.6            6.95   \n",
       "4                 0.39  ...                 7.2            7.06   \n",
       "5                 0.49  ...                 7.6            6.74   \n",
       "6                 0.56  ...                 6.2            6.65   \n",
       "7                 0.47  ...                 7.3            6.68   \n",
       "8                 0.37  ...                 7.8            6.95   \n",
       "9                 0.50  ...                 9.4            6.77   \n",
       "10                0.46  ...                 8.3            6.79   \n",
       "11                0.50  ...                   7            6.80   \n",
       "12                0.43  ...                 8.8            6.87   \n",
       "13                0.48  ...                 7.2            6.83   \n",
       "14                0.57  ...                 6.5            6.73   \n",
       "15                0.41  ...                 6.5            7.06   \n",
       "16                0.41  ...                 8.7            6.99   \n",
       "17                0.50  ...                 4.9            6.68   \n",
       "18                0.38  ...                 6.1            6.85   \n",
       "19                0.45  ...                 7.2            6.85   \n",
       "\n",
       "    Left Side_channels Middle of the pitch_channels Right Side_channels  \\\n",
       "0                 0.34                         0.31                0.35   \n",
       "1                 0.40                         0.24                0.36   \n",
       "2                 0.37                         0.26                0.37   \n",
       "3                 0.37                         0.26                0.37   \n",
       "4                 0.39                         0.26                0.34   \n",
       "5                 0.37                         0.27                0.36   \n",
       "6                 0.35                         0.26                0.40   \n",
       "7                 0.38                         0.27                0.34   \n",
       "8                 0.33                         0.26                0.41   \n",
       "9                 0.37                         0.28                0.35   \n",
       "10                0.36                         0.28                0.36   \n",
       "11                0.34                         0.29                0.37   \n",
       "12                0.38                         0.29                0.33   \n",
       "13                0.38                         0.25                0.38   \n",
       "14                0.38                         0.28                0.34   \n",
       "15                0.36                         0.28                0.36   \n",
       "16                0.32                         0.32                0.36   \n",
       "17                0.35                         0.26                0.39   \n",
       "18                0.41                         0.24                0.35   \n",
       "19                0.38                         0.26                0.36   \n",
       "\n",
       "   Own Third Middle Third Opposition Third season      league  \n",
       "0       0.26         0.47             0.27   2009  Bundesliga  \n",
       "1       0.27         0.47             0.27   2009  Bundesliga  \n",
       "2       0.28         0.45             0.27   2009  Bundesliga  \n",
       "3       0.28         0.44             0.28   2009  Bundesliga  \n",
       "4       0.24         0.45             0.31   2009  Bundesliga  \n",
       "5       0.29         0.46             0.24   2009  Bundesliga  \n",
       "6       0.28         0.46             0.26   2009  Bundesliga  \n",
       "7       0.28         0.44             0.28   2009  Bundesliga  \n",
       "8       0.24         0.47             0.30   2009  Bundesliga  \n",
       "9       0.27         0.47             0.25   2009  Bundesliga  \n",
       "10      0.28         0.46             0.26   2009  Bundesliga  \n",
       "11      0.30         0.44             0.24   2009  Bundesliga  \n",
       "12      0.27         0.46             0.27   2009  Bundesliga  \n",
       "13      0.24         0.47             0.30   2009  Bundesliga  \n",
       "14      0.31         0.47             0.23   2009  Bundesliga  \n",
       "15      0.25         0.46             0.29   2009  Bundesliga  \n",
       "16      0.24         0.49             0.28   2009  Bundesliga  \n",
       "17      0.29         0.46             0.26   2009  Bundesliga  \n",
       "18      0.25         0.47             0.29   2010  Bundesliga  \n",
       "19      0.27         0.47             0.26   2010  Bundesliga  \n",
       "\n",
       "[20 rows x 66 columns]"
      ]
     },
     "execution_count": 17,
     "metadata": {},
     "output_type": "execute_result"
    }
   ],
   "source": [
    "df.head(20)"
   ]
  },
  {
   "cell_type": "code",
   "execution_count": 18,
   "metadata": {},
   "outputs": [
    {
     "data": {
      "text/plain": [
       "1274"
      ]
     },
     "execution_count": 18,
     "metadata": {},
     "output_type": "execute_result"
    }
   ],
   "source": [
    "len(df)"
   ]
  },
  {
   "cell_type": "markdown",
   "metadata": {},
   "source": [
    "### Test direction plot"
   ]
  },
  {
   "cell_type": "code",
   "execution_count": 19,
   "metadata": {},
   "outputs": [
    {
     "data": {
      "application/vnd.plotly.v1+json": {
       "config": {
        "plotlyServerURL": "https://plot.ly"
       },
       "data": [
        {
         "hovertemplate": "team=Borussia Dortmund<br>season=%{x}<br>right_for=%{y}<extra></extra>",
         "legendgroup": "Borussia Dortmund",
         "line": {
          "color": "rgb(189,189,189)",
          "dash": "solid"
         },
         "marker": {
          "symbol": "circle"
         },
         "mode": "lines+markers",
         "name": "Borussia Dortmund",
         "opacity": 0.4,
         "showlegend": true,
         "type": "scattergl",
         "x": [
          2009,
          2010,
          2011,
          2012,
          2013,
          2014,
          2015,
          2016,
          2017,
          2018,
          2019,
          2020,
          2021
         ],
         "xaxis": "x",
         "y": [
          0.18,
          0.14,
          0.11,
          0.13,
          0.16,
          0.18,
          0.14,
          0.13,
          0.14,
          0.16,
          0.18,
          0.11,
          0.14
         ],
         "yaxis": "y"
        },
        {
         "hovertemplate": "team=Hamburger SV<br>season=%{x}<br>right_for=%{y}<extra></extra>",
         "legendgroup": "Hamburger SV",
         "line": {
          "color": "rgb(189,189,189)",
          "dash": "solid"
         },
         "marker": {
          "symbol": "circle"
         },
         "mode": "lines+markers",
         "name": "Hamburger SV",
         "opacity": 0.4,
         "showlegend": true,
         "type": "scattergl",
         "x": [
          2009,
          2010,
          2011,
          2012,
          2013,
          2014,
          2015,
          2016,
          2017
         ],
         "xaxis": "x",
         "y": [
          0.18,
          0.18,
          0.21,
          0.16,
          0.19,
          0.15,
          0.2,
          0.16,
          0.15
         ],
         "yaxis": "y"
        },
        {
         "hovertemplate": "team=Nuernberg<br>season=%{x}<br>right_for=%{y}<extra></extra>",
         "legendgroup": "Nuernberg",
         "line": {
          "color": "rgb(189,189,189)",
          "dash": "solid"
         },
         "marker": {
          "symbol": "circle"
         },
         "mode": "lines+markers",
         "name": "Nuernberg",
         "opacity": 0.4,
         "showlegend": true,
         "type": "scattergl",
         "x": [
          2009,
          2010,
          2011,
          2012,
          2013,
          2018
         ],
         "xaxis": "x",
         "y": [
          0.22,
          0.2,
          0.21,
          0.22,
          0.24,
          0.16
         ],
         "yaxis": "y"
        },
        {
         "hovertemplate": "team=Wolfsburg<br>season=%{x}<br>right_for=%{y}<extra></extra>",
         "legendgroup": "Wolfsburg",
         "line": {
          "color": "rgb(189,189,189)",
          "dash": "solid"
         },
         "marker": {
          "symbol": "circle"
         },
         "mode": "lines+markers",
         "name": "Wolfsburg",
         "opacity": 0.4,
         "showlegend": true,
         "type": "scattergl",
         "x": [
          2009,
          2010,
          2011,
          2012,
          2013,
          2014,
          2015,
          2016,
          2017,
          2018,
          2019,
          2020,
          2021
         ],
         "xaxis": "x",
         "y": [
          0.15,
          0.13,
          0.17,
          0.16,
          0.19,
          0.17,
          0.19,
          0.16,
          0.18,
          0.16,
          0.15,
          0.15,
          0.16
         ],
         "yaxis": "y"
        },
        {
         "hovertemplate": "team=Werder Bremen<br>season=%{x}<br>right_for=%{y}<extra></extra>",
         "legendgroup": "Werder Bremen",
         "line": {
          "color": "rgb(189,189,189)",
          "dash": "solid"
         },
         "marker": {
          "symbol": "circle"
         },
         "mode": "lines+markers",
         "name": "Werder Bremen",
         "opacity": 0.4,
         "showlegend": true,
         "type": "scattergl",
         "x": [
          2009,
          2010,
          2011,
          2012,
          2013,
          2014,
          2015,
          2016,
          2017,
          2018,
          2019,
          2020
         ],
         "xaxis": "x",
         "y": [
          0.15,
          0.17,
          0.14,
          0.22,
          0.2,
          0.18,
          0.17,
          0.18,
          0.14,
          0.15,
          0.18,
          0.17
         ],
         "yaxis": "y"
        },
        {
         "hovertemplate": "team=Borussia M.Gladbach<br>season=%{x}<br>right_for=%{y}<extra></extra>",
         "legendgroup": "Borussia M.Gladbach",
         "line": {
          "color": "rgb(189,189,189)",
          "dash": "solid"
         },
         "marker": {
          "symbol": "circle"
         },
         "mode": "lines+markers",
         "name": "Borussia M.Gladbach",
         "opacity": 0.4,
         "showlegend": true,
         "type": "scattergl",
         "x": [
          2009,
          2010,
          2011,
          2012,
          2013,
          2014,
          2015,
          2016,
          2017,
          2018,
          2019,
          2020,
          2021
         ],
         "xaxis": "x",
         "y": [
          0.17,
          0.22,
          0.22,
          0.16,
          0.2,
          0.21,
          0.2,
          0.16,
          0.2,
          0.21,
          0.14,
          0.14,
          0.19
         ],
         "yaxis": "y"
        },
        {
         "hovertemplate": "team=Bochum<br>season=%{x}<br>right_for=%{y}<extra></extra>",
         "legendgroup": "Bochum",
         "line": {
          "color": "rgb(189,189,189)",
          "dash": "solid"
         },
         "marker": {
          "symbol": "circle"
         },
         "mode": "lines+markers",
         "name": "Bochum",
         "opacity": 0.4,
         "showlegend": true,
         "type": "scattergl",
         "x": [
          2009,
          2021
         ],
         "xaxis": "x",
         "y": [
          0.19,
          0.19
         ],
         "yaxis": "y"
        },
        {
         "hovertemplate": "team=Freiburg<br>season=%{x}<br>right_for=%{y}<extra></extra>",
         "legendgroup": "Freiburg",
         "line": {
          "color": "rgb(189,189,189)",
          "dash": "solid"
         },
         "marker": {
          "symbol": "circle"
         },
         "mode": "lines+markers",
         "name": "Freiburg",
         "opacity": 0.4,
         "showlegend": true,
         "type": "scattergl",
         "x": [
          2009,
          2010,
          2011,
          2012,
          2013,
          2014,
          2016,
          2017,
          2018,
          2019,
          2020,
          2021
         ],
         "xaxis": "x",
         "y": [
          0.2,
          0.17,
          0.19,
          0.15,
          0.21,
          0.21,
          0.17,
          0.18,
          0.15,
          0.18,
          0.14,
          0.14
         ],
         "yaxis": "y"
        },
        {
         "hovertemplate": "team=Schalke 04<br>season=%{x}<br>right_for=%{y}<extra></extra>",
         "legendgroup": "Schalke 04",
         "line": {
          "color": "rgb(189,189,189)",
          "dash": "solid"
         },
         "marker": {
          "symbol": "circle"
         },
         "mode": "lines+markers",
         "name": "Schalke 04",
         "opacity": 0.4,
         "showlegend": true,
         "type": "scattergl",
         "x": [
          2009,
          2010,
          2011,
          2012,
          2013,
          2014,
          2015,
          2016,
          2017,
          2018,
          2019,
          2020
         ],
         "xaxis": "x",
         "y": [
          0.13,
          0.13,
          0.15,
          0.17,
          0.15,
          0.18,
          0.19,
          0.14,
          0.15,
          0.19,
          0.15,
          0.16
         ],
         "yaxis": "y"
        },
        {
         "hovertemplate": "team=Eintracht Frankfurt<br>season=%{x}<br>right_for=%{y}<extra></extra>",
         "legendgroup": "Eintracht Frankfurt",
         "line": {
          "color": "rgb(189,189,189)",
          "dash": "solid"
         },
         "marker": {
          "symbol": "circle"
         },
         "mode": "lines+markers",
         "name": "Eintracht Frankfurt",
         "opacity": 0.4,
         "showlegend": true,
         "type": "scattergl",
         "x": [
          2009,
          2010,
          2012,
          2013,
          2014,
          2015,
          2016,
          2017,
          2018,
          2019,
          2020,
          2021
         ],
         "xaxis": "x",
         "y": [
          0.14,
          0.15,
          0.18,
          0.15,
          0.22,
          0.22,
          0.15,
          0.16,
          0.11,
          0.13,
          0.13,
          0.15
         ],
         "yaxis": "y"
        },
        {
         "hovertemplate": "team=Hertha Berlin<br>season=%{x}<br>right_for=%{y}<extra></extra>",
         "legendgroup": "Hertha Berlin",
         "line": {
          "color": "rgb(189,189,189)",
          "dash": "solid"
         },
         "marker": {
          "symbol": "circle"
         },
         "mode": "lines+markers",
         "name": "Hertha Berlin",
         "opacity": 0.4,
         "showlegend": true,
         "type": "scattergl",
         "x": [
          2009,
          2011,
          2013,
          2014,
          2015,
          2016,
          2017,
          2018,
          2019,
          2020,
          2021
         ],
         "xaxis": "x",
         "y": [
          0.21,
          0.19,
          0.18,
          0.14,
          0.17,
          0.14,
          0.15,
          0.15,
          0.12,
          0.15,
          0.18
         ],
         "yaxis": "y"
        },
        {
         "hovertemplate": "team=Mainz 05<br>season=%{x}<br>right_for=%{y}<extra></extra>",
         "legendgroup": "Mainz 05",
         "line": {
          "color": "rgb(189,189,189)",
          "dash": "solid"
         },
         "marker": {
          "symbol": "circle"
         },
         "mode": "lines+markers",
         "name": "Mainz 05",
         "opacity": 0.4,
         "showlegend": true,
         "type": "scattergl",
         "x": [
          2009,
          2010,
          2011,
          2012,
          2013,
          2014,
          2015,
          2016,
          2017,
          2018,
          2019,
          2020,
          2021
         ],
         "xaxis": "x",
         "y": [
          0.22,
          0.23,
          0.19,
          0.13,
          0.19,
          0.15,
          0.17,
          0.12,
          0.14,
          0.13,
          0.15,
          0.15,
          0.14
         ],
         "yaxis": "y"
        },
        {
         "hovertemplate": "team=VfB Stuttgart<br>season=%{x}<br>right_for=%{y}<extra></extra>",
         "legendgroup": "VfB Stuttgart",
         "line": {
          "color": "rgb(189,189,189)",
          "dash": "solid"
         },
         "marker": {
          "symbol": "circle"
         },
         "mode": "lines+markers",
         "name": "VfB Stuttgart",
         "opacity": 0.4,
         "showlegend": true,
         "type": "scattergl",
         "x": [
          2009,
          2010,
          2011,
          2012,
          2013,
          2014,
          2015,
          2017,
          2018,
          2020,
          2021
         ],
         "xaxis": "x",
         "y": [
          0.18,
          0.2,
          0.18,
          0.21,
          0.17,
          0.21,
          0.17,
          0.17,
          0.15,
          0.17,
          0.14
         ],
         "yaxis": "y"
        },
        {
         "hovertemplate": "team=Hoffenheim<br>season=%{x}<br>right_for=%{y}<extra></extra>",
         "legendgroup": "Hoffenheim",
         "line": {
          "color": "rgb(189,189,189)",
          "dash": "solid"
         },
         "marker": {
          "symbol": "circle"
         },
         "mode": "lines+markers",
         "name": "Hoffenheim",
         "opacity": 0.4,
         "showlegend": true,
         "type": "scattergl",
         "x": [
          2009,
          2010,
          2011,
          2012,
          2013,
          2014,
          2015,
          2016,
          2017,
          2018,
          2019,
          2020,
          2021
         ],
         "xaxis": "x",
         "y": [
          0.22,
          0.21,
          0.24,
          0.23,
          0.21,
          0.21,
          0.18,
          0.16,
          0.13,
          0.12,
          0.13,
          0.13,
          0.14
         ],
         "yaxis": "y"
        },
        {
         "hovertemplate": "team=FC Koln<br>season=%{x}<br>right_for=%{y}<extra></extra>",
         "legendgroup": "FC Koln",
         "line": {
          "color": "rgb(189,189,189)",
          "dash": "solid"
         },
         "marker": {
          "symbol": "circle"
         },
         "mode": "lines+markers",
         "name": "FC Koln",
         "opacity": 0.4,
         "showlegend": true,
         "type": "scattergl",
         "x": [
          2009,
          2010,
          2011,
          2014,
          2015,
          2016,
          2017,
          2019,
          2020,
          2021
         ],
         "xaxis": "x",
         "y": [
          0.2,
          0.19,
          0.18,
          0.25,
          0.16,
          0.17,
          0.13,
          0.17,
          0.19,
          0.15
         ],
         "yaxis": "y"
        },
        {
         "hovertemplate": "team=Bayern Munich<br>season=%{x}<br>right_for=%{y}<extra></extra>",
         "legendgroup": "Bayern Munich",
         "line": {
          "color": "rgb(189,189,189)",
          "dash": "solid"
         },
         "marker": {
          "symbol": "circle"
         },
         "mode": "lines+markers",
         "name": "Bayern Munich",
         "opacity": 0.4,
         "showlegend": true,
         "type": "scattergl",
         "x": [
          2009,
          2010,
          2011,
          2012,
          2013,
          2014,
          2015,
          2016,
          2017,
          2018,
          2019,
          2020,
          2021
         ],
         "xaxis": "x",
         "y": [
          0.18,
          0.16,
          0.19,
          0.17,
          0.17,
          0.19,
          0.16,
          0.18,
          0.14,
          0.15,
          0.16,
          0.16,
          0.15
         ],
         "yaxis": "y"
        },
        {
         "hovertemplate": "team=Bayer Leverkusen<br>season=%{x}<br>right_for=%{y}<extra></extra>",
         "legendgroup": "Bayer Leverkusen",
         "line": {
          "color": "rgb(189,189,189)",
          "dash": "solid"
         },
         "marker": {
          "symbol": "circle"
         },
         "mode": "lines+markers",
         "name": "Bayer Leverkusen",
         "opacity": 0.4,
         "showlegend": true,
         "type": "scattergl",
         "x": [
          2009,
          2010,
          2011,
          2012,
          2013,
          2014,
          2015,
          2016,
          2017,
          2018,
          2019,
          2020,
          2021
         ],
         "xaxis": "x",
         "y": [
          0.13,
          0.22,
          0.17,
          0.16,
          0.16,
          0.19,
          0.17,
          0.17,
          0.23,
          0.2,
          0.18,
          0.19,
          0.14
         ],
         "yaxis": "y"
        },
        {
         "hovertemplate": "team=Hannover 96<br>season=%{x}<br>right_for=%{y}<extra></extra>",
         "legendgroup": "Hannover 96",
         "line": {
          "color": "rgb(189,189,189)",
          "dash": "solid"
         },
         "marker": {
          "symbol": "circle"
         },
         "mode": "lines+markers",
         "name": "Hannover 96",
         "opacity": 0.4,
         "showlegend": true,
         "type": "scattergl",
         "x": [
          2009,
          2010,
          2011,
          2012,
          2013,
          2014,
          2015,
          2017,
          2018
         ],
         "xaxis": "x",
         "y": [
          0.2,
          0.26,
          0.21,
          0.17,
          0.2,
          0.19,
          0.17,
          0.11,
          0.15
         ],
         "yaxis": "y"
        },
        {
         "hovertemplate": "team=Kaiserslautern<br>season=%{x}<br>right_for=%{y}<extra></extra>",
         "legendgroup": "Kaiserslautern",
         "line": {
          "color": "rgb(189,189,189)",
          "dash": "solid"
         },
         "marker": {
          "symbol": "circle"
         },
         "mode": "lines+markers",
         "name": "Kaiserslautern",
         "opacity": 0.4,
         "showlegend": true,
         "type": "scattergl",
         "x": [
          2010,
          2011
         ],
         "xaxis": "x",
         "y": [
          0.2,
          0.18
         ],
         "yaxis": "y"
        },
        {
         "hovertemplate": "team=St. Pauli<br>season=%{x}<br>right_for=%{y}<extra></extra>",
         "legendgroup": "St. Pauli",
         "line": {
          "color": "rgb(189,189,189)",
          "dash": "solid"
         },
         "marker": {
          "symbol": "circle"
         },
         "mode": "lines+markers",
         "name": "St. Pauli",
         "opacity": 0.4,
         "showlegend": true,
         "type": "scattergl",
         "x": [
          2010
         ],
         "xaxis": "x",
         "y": [
          0.2
         ],
         "yaxis": "y"
        },
        {
         "hovertemplate": "team=Augsburg<br>season=%{x}<br>right_for=%{y}<extra></extra>",
         "legendgroup": "Augsburg",
         "line": {
          "color": "rgb(189,189,189)",
          "dash": "solid"
         },
         "marker": {
          "symbol": "circle"
         },
         "mode": "lines+markers",
         "name": "Augsburg",
         "opacity": 0.4,
         "showlegend": true,
         "type": "scattergl",
         "x": [
          2011,
          2012,
          2013,
          2014,
          2015,
          2016,
          2017,
          2018,
          2019,
          2020,
          2021
         ],
         "xaxis": "x",
         "y": [
          0.22,
          0.21,
          0.21,
          0.2,
          0.15,
          0.19,
          0.17,
          0.16,
          0.16,
          0.15,
          0.17
         ],
         "yaxis": "y"
        },
        {
         "hovertemplate": "team=Greuther Fuerth<br>season=%{x}<br>right_for=%{y}<extra></extra>",
         "legendgroup": "Greuther Fuerth",
         "line": {
          "color": "rgb(189,189,189)",
          "dash": "solid"
         },
         "marker": {
          "symbol": "circle"
         },
         "mode": "lines+markers",
         "name": "Greuther Fuerth",
         "opacity": 0.4,
         "showlegend": true,
         "type": "scattergl",
         "x": [
          2012,
          2021
         ],
         "xaxis": "x",
         "y": [
          0.23,
          0.21
         ],
         "yaxis": "y"
        },
        {
         "hovertemplate": "team=Fortuna Duesseldorf<br>season=%{x}<br>right_for=%{y}<extra></extra>",
         "legendgroup": "Fortuna Duesseldorf",
         "line": {
          "color": "rgb(189,189,189)",
          "dash": "solid"
         },
         "marker": {
          "symbol": "circle"
         },
         "mode": "lines+markers",
         "name": "Fortuna Duesseldorf",
         "opacity": 0.4,
         "showlegend": true,
         "type": "scattergl",
         "x": [
          2012,
          2018,
          2019
         ],
         "xaxis": "x",
         "y": [
          0.17,
          0.19,
          0.18
         ],
         "yaxis": "y"
        },
        {
         "hovertemplate": "team=Eintracht Braunschweig<br>season=%{x}<br>right_for=%{y}<extra></extra>",
         "legendgroup": "Eintracht Braunschweig",
         "line": {
          "color": "rgb(189,189,189)",
          "dash": "solid"
         },
         "marker": {
          "symbol": "circle"
         },
         "mode": "lines+markers",
         "name": "Eintracht Braunschweig",
         "opacity": 0.4,
         "showlegend": true,
         "type": "scattergl",
         "x": [
          2013
         ],
         "xaxis": "x",
         "y": [
          0.24
         ],
         "yaxis": "y"
        },
        {
         "hovertemplate": "team=Paderborn<br>season=%{x}<br>right_for=%{y}<extra></extra>",
         "legendgroup": "Paderborn",
         "line": {
          "color": "rgb(189,189,189)",
          "dash": "solid"
         },
         "marker": {
          "symbol": "circle"
         },
         "mode": "lines+markers",
         "name": "Paderborn",
         "opacity": 0.4,
         "showlegend": true,
         "type": "scattergl",
         "x": [
          2014,
          2019
         ],
         "xaxis": "x",
         "y": [
          0.19,
          0.21
         ],
         "yaxis": "y"
        },
        {
         "hovertemplate": "team=Ingolstadt<br>season=%{x}<br>right_for=%{y}<extra></extra>",
         "legendgroup": "Ingolstadt",
         "line": {
          "color": "rgb(189,189,189)",
          "dash": "solid"
         },
         "marker": {
          "symbol": "circle"
         },
         "mode": "lines+markers",
         "name": "Ingolstadt",
         "opacity": 0.4,
         "showlegend": true,
         "type": "scattergl",
         "x": [
          2015,
          2016
         ],
         "xaxis": "x",
         "y": [
          0.2,
          0.2
         ],
         "yaxis": "y"
        },
        {
         "hovertemplate": "team=Darmstadt<br>season=%{x}<br>right_for=%{y}<extra></extra>",
         "legendgroup": "Darmstadt",
         "line": {
          "color": "rgb(189,189,189)",
          "dash": "solid"
         },
         "marker": {
          "symbol": "circle"
         },
         "mode": "lines+markers",
         "name": "Darmstadt",
         "opacity": 0.4,
         "showlegend": true,
         "type": "scattergl",
         "x": [
          2015,
          2016
         ],
         "xaxis": "x",
         "y": [
          0.17,
          0.19
         ],
         "yaxis": "y"
        },
        {
         "hovertemplate": "team=RB Leipzig<br>season=%{x}<br>right_for=%{y}<extra></extra>",
         "legendgroup": "RB Leipzig",
         "line": {
          "color": "rgb(189,189,189)",
          "dash": "solid"
         },
         "marker": {
          "symbol": "circle"
         },
         "mode": "lines+markers",
         "name": "RB Leipzig",
         "opacity": 0.4,
         "showlegend": true,
         "type": "scattergl",
         "x": [
          2016,
          2017,
          2018,
          2019,
          2020,
          2021
         ],
         "xaxis": "x",
         "y": [
          0.18,
          0.17,
          0.18,
          0.13,
          0.1,
          0.1
         ],
         "yaxis": "y"
        },
        {
         "hovertemplate": "team=Union Berlin<br>season=%{x}<br>right_for=%{y}<extra></extra>",
         "legendgroup": "Union Berlin",
         "line": {
          "color": "rgb(189,189,189)",
          "dash": "solid"
         },
         "marker": {
          "symbol": "circle"
         },
         "mode": "lines+markers",
         "name": "Union Berlin",
         "opacity": 0.4,
         "showlegend": true,
         "type": "scattergl",
         "x": [
          2019,
          2020,
          2021
         ],
         "xaxis": "x",
         "y": [
          0.15,
          0.12,
          0.13
         ],
         "yaxis": "y"
        },
        {
         "hovertemplate": "team=Arminia Bielefeld<br>season=%{x}<br>right_for=%{y}<extra></extra>",
         "legendgroup": "Arminia Bielefeld",
         "line": {
          "color": "rgb(189,189,189)",
          "dash": "solid"
         },
         "marker": {
          "symbol": "circle"
         },
         "mode": "lines+markers",
         "name": "Arminia Bielefeld",
         "opacity": 0.4,
         "showlegend": true,
         "type": "scattergl",
         "x": [
          2020,
          2021
         ],
         "xaxis": "x",
         "y": [
          0.15,
          0.22
         ],
         "yaxis": "y"
        },
        {
         "hovertemplate": "team=Fulham<br>season=%{x}<br>right_for=%{y}<extra></extra>",
         "legendgroup": "Fulham",
         "line": {
          "color": "rgb(189,189,189)",
          "dash": "solid"
         },
         "marker": {
          "symbol": "circle"
         },
         "mode": "lines+markers",
         "name": "Fulham",
         "opacity": 0.4,
         "showlegend": true,
         "type": "scattergl",
         "x": [
          2009,
          2010,
          2011,
          2012,
          2013,
          2018,
          2020
         ],
         "xaxis": "x",
         "y": [
          0.19,
          0.19,
          0.14,
          0.16,
          0.18,
          0.15,
          0.15
         ],
         "yaxis": "y"
        },
        {
         "hovertemplate": "team=Aston Villa<br>season=%{x}<br>right_for=%{y}<extra></extra>",
         "legendgroup": "Aston Villa",
         "line": {
          "color": "rgb(189,189,189)",
          "dash": "solid"
         },
         "marker": {
          "symbol": "circle"
         },
         "mode": "lines+markers",
         "name": "Aston Villa",
         "opacity": 0.4,
         "showlegend": true,
         "type": "scattergl",
         "x": [
          2009,
          2010,
          2011,
          2012,
          2013,
          2014,
          2015,
          2019,
          2020,
          2021
         ],
         "xaxis": "x",
         "y": [
          0.12,
          0.17,
          0.15,
          0.16,
          0.17,
          0.16,
          0.15,
          0.13,
          0.16,
          0.16
         ],
         "yaxis": "y"
        },
        {
         "hovertemplate": "team=Blackburn<br>season=%{x}<br>right_for=%{y}<extra></extra>",
         "legendgroup": "Blackburn",
         "line": {
          "color": "rgb(189,189,189)",
          "dash": "solid"
         },
         "marker": {
          "symbol": "circle"
         },
         "mode": "lines+markers",
         "name": "Blackburn",
         "opacity": 0.4,
         "showlegend": true,
         "type": "scattergl",
         "x": [
          2009,
          2010,
          2011
         ],
         "xaxis": "x",
         "y": [
          0.12,
          0.13,
          0.15
         ],
         "yaxis": "y"
        },
        {
         "hovertemplate": "team=Wigan<br>season=%{x}<br>right_for=%{y}<extra></extra>",
         "legendgroup": "Wigan",
         "line": {
          "color": "rgb(189,189,189)",
          "dash": "solid"
         },
         "marker": {
          "symbol": "circle"
         },
         "mode": "lines+markers",
         "name": "Wigan",
         "opacity": 0.4,
         "showlegend": true,
         "type": "scattergl",
         "x": [
          2009,
          2010,
          2011,
          2012
         ],
         "xaxis": "x",
         "y": [
          0.2,
          0.2,
          0.18,
          0.15
         ],
         "yaxis": "y"
        },
        {
         "hovertemplate": "team=Chelsea<br>season=%{x}<br>right_for=%{y}<extra></extra>",
         "legendgroup": "Chelsea",
         "line": {
          "color": "rgb(189,189,189)",
          "dash": "solid"
         },
         "marker": {
          "symbol": "circle"
         },
         "mode": "lines+markers",
         "name": "Chelsea",
         "opacity": 0.4,
         "showlegend": true,
         "type": "scattergl",
         "x": [
          2009,
          2010,
          2011,
          2012,
          2013,
          2014,
          2015,
          2016,
          2017,
          2018,
          2019,
          2020,
          2021
         ],
         "xaxis": "x",
         "y": [
          0.17,
          0.16,
          0.23,
          0.15,
          0.16,
          0.12,
          0.19,
          0.21,
          0.19,
          0.16,
          0.15,
          0.16,
          0.17
         ],
         "yaxis": "y"
        },
        {
         "hovertemplate": "team=Birmingham<br>season=%{x}<br>right_for=%{y}<extra></extra>",
         "legendgroup": "Birmingham",
         "line": {
          "color": "rgb(189,189,189)",
          "dash": "solid"
         },
         "marker": {
          "symbol": "circle"
         },
         "mode": "lines+markers",
         "name": "Birmingham",
         "opacity": 0.4,
         "showlegend": true,
         "type": "scattergl",
         "x": [
          2009,
          2010
         ],
         "xaxis": "x",
         "y": [
          0.18,
          0.16
         ],
         "yaxis": "y"
        },
        {
         "hovertemplate": "team=Manchester City<br>season=%{x}<br>right_for=%{y}<extra></extra>",
         "legendgroup": "Manchester City",
         "line": {
          "color": "rgb(189,189,189)",
          "dash": "solid"
         },
         "marker": {
          "symbol": "circle"
         },
         "mode": "lines+markers",
         "name": "Manchester City",
         "opacity": 0.4,
         "showlegend": true,
         "type": "scattergl",
         "x": [
          2009,
          2010,
          2011,
          2012,
          2013,
          2014,
          2015,
          2016,
          2017,
          2018,
          2019,
          2020,
          2021
         ],
         "xaxis": "x",
         "y": [
          0.22,
          0.23,
          0.18,
          0.19,
          0.16,
          0.18,
          0.17,
          0.15,
          0.14,
          0.16,
          0.16,
          0.16,
          0.15
         ],
         "yaxis": "y"
        },
        {
         "hovertemplate": "team=West Ham<br>season=%{x}<br>right_for=%{y}<extra></extra>",
         "legendgroup": "West Ham",
         "line": {
          "color": "rgb(189,189,189)",
          "dash": "solid"
         },
         "marker": {
          "symbol": "circle"
         },
         "mode": "lines+markers",
         "name": "West Ham",
         "opacity": 0.4,
         "showlegend": true,
         "type": "scattergl",
         "x": [
          2009,
          2010,
          2012,
          2013,
          2014,
          2015,
          2016,
          2017,
          2018,
          2019,
          2020,
          2021
         ],
         "xaxis": "x",
         "y": [
          0.2,
          0.17,
          0.13,
          0.17,
          0.17,
          0.13,
          0.14,
          0.16,
          0.14,
          0.15,
          0.12,
          0.18
         ],
         "yaxis": "y"
        },
        {
         "hovertemplate": "team=Manchester United<br>season=%{x}<br>right_for=%{y}<extra></extra>",
         "legendgroup": "Manchester United",
         "line": {
          "color": "rgb(189,189,189)",
          "dash": "solid"
         },
         "marker": {
          "symbol": "circle"
         },
         "mode": "lines+markers",
         "name": "Manchester United",
         "opacity": 0.4,
         "showlegend": true,
         "type": "scattergl",
         "x": [
          2009,
          2010,
          2011,
          2012,
          2013,
          2014,
          2015,
          2016,
          2017,
          2018,
          2019,
          2020,
          2021
         ],
         "xaxis": "x",
         "y": [
          0.14,
          0.18,
          0.14,
          0.19,
          0.19,
          0.15,
          0.13,
          0.09,
          0.11,
          0.11,
          0.12,
          0.14,
          0.19
         ],
         "yaxis": "y"
        },
        {
         "hovertemplate": "team=Wolverhampton Wanderers<br>season=%{x}<br>right_for=%{y}<extra></extra>",
         "legendgroup": "Wolverhampton Wanderers",
         "line": {
          "color": "rgb(189,189,189)",
          "dash": "solid"
         },
         "marker": {
          "symbol": "circle"
         },
         "mode": "lines+markers",
         "name": "Wolverhampton Wanderers",
         "opacity": 0.4,
         "showlegend": true,
         "type": "scattergl",
         "x": [
          2009,
          2010,
          2011,
          2018,
          2019,
          2020,
          2021
         ],
         "xaxis": "x",
         "y": [
          0.14,
          0.15,
          0.15,
          0.2,
          0.16,
          0.17,
          0.19
         ],
         "yaxis": "y"
        },
        {
         "hovertemplate": "team=Sunderland<br>season=%{x}<br>right_for=%{y}<extra></extra>",
         "legendgroup": "Sunderland",
         "line": {
          "color": "rgb(189,189,189)",
          "dash": "solid"
         },
         "marker": {
          "symbol": "circle"
         },
         "mode": "lines+markers",
         "name": "Sunderland",
         "opacity": 0.4,
         "showlegend": true,
         "type": "scattergl",
         "x": [
          2009,
          2010,
          2011,
          2012,
          2013,
          2014,
          2015,
          2016
         ],
         "xaxis": "x",
         "y": [
          0.17,
          0.15,
          0.16,
          0.21,
          0.19,
          0.13,
          0.17,
          0.16
         ],
         "yaxis": "y"
        },
        {
         "hovertemplate": "team=Everton<br>season=%{x}<br>right_for=%{y}<extra></extra>",
         "legendgroup": "Everton",
         "line": {
          "color": "rgb(189,189,189)",
          "dash": "solid"
         },
         "marker": {
          "symbol": "circle"
         },
         "mode": "lines+markers",
         "name": "Everton",
         "opacity": 0.4,
         "showlegend": true,
         "type": "scattergl",
         "x": [
          2009,
          2010,
          2011,
          2012,
          2013,
          2014,
          2015,
          2016,
          2017,
          2018,
          2019,
          2020,
          2021
         ],
         "xaxis": "x",
         "y": [
          0.12,
          0.18,
          0.14,
          0.12,
          0.2,
          0.18,
          0.13,
          0.18,
          0.11,
          0.17,
          0.16,
          0.09,
          0.14
         ],
         "yaxis": "y"
        },
        {
         "hovertemplate": "team=Arsenal<br>season=%{x}<br>right_for=%{y}<extra></extra>",
         "legendgroup": "Arsenal",
         "line": {
          "color": "rgb(189,189,189)",
          "dash": "solid"
         },
         "marker": {
          "symbol": "circle"
         },
         "mode": "lines+markers",
         "name": "Arsenal",
         "opacity": 0.4,
         "showlegend": true,
         "type": "scattergl",
         "x": [
          2009,
          2010,
          2011,
          2012,
          2013,
          2014,
          2015,
          2016,
          2017,
          2018,
          2019,
          2020,
          2021
         ],
         "xaxis": "x",
         "y": [
          0.19,
          0.14,
          0.18,
          0.17,
          0.16,
          0.13,
          0.14,
          0.15,
          0.14,
          0.14,
          0.14,
          0.15,
          0.16
         ],
         "yaxis": "y"
        },
        {
         "hovertemplate": "team=Portsmouth<br>season=%{x}<br>right_for=%{y}<extra></extra>",
         "legendgroup": "Portsmouth",
         "line": {
          "color": "rgb(189,189,189)",
          "dash": "solid"
         },
         "marker": {
          "symbol": "circle"
         },
         "mode": "lines+markers",
         "name": "Portsmouth",
         "opacity": 0.4,
         "showlegend": true,
         "type": "scattergl",
         "x": [
          2009
         ],
         "xaxis": "x",
         "y": [
          0.2
         ],
         "yaxis": "y"
        },
        {
         "hovertemplate": "team=Tottenham<br>season=%{x}<br>right_for=%{y}<extra></extra>",
         "legendgroup": "Tottenham",
         "line": {
          "color": "rgb(189,189,189)",
          "dash": "solid"
         },
         "marker": {
          "symbol": "circle"
         },
         "mode": "lines+markers",
         "name": "Tottenham",
         "opacity": 0.4,
         "showlegend": true,
         "type": "scattergl",
         "x": [
          2009,
          2010,
          2011,
          2012,
          2013,
          2014,
          2015,
          2016,
          2017,
          2018,
          2019,
          2020,
          2021
         ],
         "xaxis": "x",
         "y": [
          0.19,
          0.17,
          0.17,
          0.19,
          0.21,
          0.19,
          0.19,
          0.19,
          0.13,
          0.17,
          0.16,
          0.13,
          0.15
         ],
         "yaxis": "y"
        },
        {
         "hovertemplate": "team=Burnley<br>season=%{x}<br>right_for=%{y}<extra></extra>",
         "legendgroup": "Burnley",
         "line": {
          "color": "rgb(189,189,189)",
          "dash": "solid"
         },
         "marker": {
          "symbol": "circle"
         },
         "mode": "lines+markers",
         "name": "Burnley",
         "opacity": 0.4,
         "showlegend": true,
         "type": "scattergl",
         "x": [
          2009,
          2014,
          2016,
          2017,
          2018,
          2019,
          2020,
          2021
         ],
         "xaxis": "x",
         "y": [
          0.21,
          0.12,
          0.18,
          0.13,
          0.1,
          0.12,
          0.15,
          0.13
         ],
         "yaxis": "y"
        },
        {
         "hovertemplate": "team=Bolton<br>season=%{x}<br>right_for=%{y}<extra></extra>",
         "legendgroup": "Bolton",
         "line": {
          "color": "rgb(189,189,189)",
          "dash": "solid"
         },
         "marker": {
          "symbol": "circle"
         },
         "mode": "lines+markers",
         "name": "Bolton",
         "opacity": 0.4,
         "showlegend": true,
         "type": "scattergl",
         "x": [
          2009,
          2010,
          2011
         ],
         "xaxis": "x",
         "y": [
          0.14,
          0.17,
          0.19
         ],
         "yaxis": "y"
        },
        {
         "hovertemplate": "team=Stoke<br>season=%{x}<br>right_for=%{y}<extra></extra>",
         "legendgroup": "Stoke",
         "line": {
          "color": "rgb(189,189,189)",
          "dash": "solid"
         },
         "marker": {
          "symbol": "circle"
         },
         "mode": "lines+markers",
         "name": "Stoke",
         "opacity": 0.4,
         "showlegend": true,
         "type": "scattergl",
         "x": [
          2009,
          2010,
          2011,
          2012,
          2013,
          2014,
          2015,
          2016,
          2017
         ],
         "xaxis": "x",
         "y": [
          0.14,
          0.14,
          0.15,
          0.17,
          0.16,
          0.17,
          0.18,
          0.17,
          0.19
         ],
         "yaxis": "y"
        },
        {
         "hovertemplate": "team=Hull<br>season=%{x}<br>right_for=%{y}<extra></extra>",
         "legendgroup": "Hull",
         "line": {
          "color": "rgb(189,189,189)",
          "dash": "solid"
         },
         "marker": {
          "symbol": "circle"
         },
         "mode": "lines+markers",
         "name": "Hull",
         "opacity": 0.4,
         "showlegend": true,
         "type": "scattergl",
         "x": [
          2009,
          2013,
          2014,
          2016
         ],
         "xaxis": "x",
         "y": [
          0.17,
          0.13,
          0.13,
          0.17
         ],
         "yaxis": "y"
        },
        {
         "hovertemplate": "team=Liverpool<br>season=%{x}<br>right_for=%{y}<extra></extra>",
         "legendgroup": "Liverpool",
         "line": {
          "color": "rgb(189,189,189)",
          "dash": "solid"
         },
         "marker": {
          "symbol": "circle"
         },
         "mode": "lines+markers",
         "name": "Liverpool",
         "opacity": 0.4,
         "showlegend": true,
         "type": "scattergl",
         "x": [
          2009,
          2010,
          2011,
          2012,
          2013,
          2014,
          2015,
          2016,
          2017,
          2018,
          2019,
          2020,
          2021
         ],
         "xaxis": "x",
         "y": [
          0.18,
          0.15,
          0.18,
          0.2,
          0.19,
          0.11,
          0.16,
          0.15,
          0.16,
          0.17,
          0.17,
          0.13,
          0.15
         ],
         "yaxis": "y"
        },
        {
         "hovertemplate": "team=Blackpool<br>season=%{x}<br>right_for=%{y}<extra></extra>",
         "legendgroup": "Blackpool",
         "line": {
          "color": "rgb(189,189,189)",
          "dash": "solid"
         },
         "marker": {
          "symbol": "circle"
         },
         "mode": "lines+markers",
         "name": "Blackpool",
         "opacity": 0.4,
         "showlegend": true,
         "type": "scattergl",
         "x": [
          2010
         ],
         "xaxis": "x",
         "y": [
          0.16
         ],
         "yaxis": "y"
        },
        {
         "hovertemplate": "team=Newcastle United<br>season=%{x}<br>right_for=%{y}<extra></extra>",
         "legendgroup": "Newcastle United",
         "line": {
          "color": "rgb(189,189,189)",
          "dash": "solid"
         },
         "marker": {
          "symbol": "circle"
         },
         "mode": "lines+markers",
         "name": "Newcastle United",
         "opacity": 0.4,
         "showlegend": true,
         "type": "scattergl",
         "x": [
          2010,
          2011,
          2012,
          2013,
          2014,
          2015,
          2017,
          2018,
          2019,
          2020,
          2021
         ],
         "xaxis": "x",
         "y": [
          0.1,
          0.14,
          0.19,
          0.17,
          0.16,
          0.16,
          0.14,
          0.14,
          0.15,
          0.14,
          0.15
         ],
         "yaxis": "y"
        },
        {
         "hovertemplate": "team=West Bromwich Albion<br>season=%{x}<br>right_for=%{y}<extra></extra>",
         "legendgroup": "West Bromwich Albion",
         "line": {
          "color": "rgb(189,189,189)",
          "dash": "solid"
         },
         "marker": {
          "symbol": "circle"
         },
         "mode": "lines+markers",
         "name": "West Bromwich Albion",
         "opacity": 0.4,
         "showlegend": true,
         "type": "scattergl",
         "x": [
          2010,
          2011,
          2012,
          2013,
          2014,
          2015,
          2016,
          2017,
          2020
         ],
         "xaxis": "x",
         "y": [
          0.2,
          0.2,
          0.16,
          0.2,
          0.15,
          0.18,
          0.16,
          0.12,
          0.11
         ],
         "yaxis": "y"
        },
        {
         "hovertemplate": "team=Queens Park Rangers<br>season=%{x}<br>right_for=%{y}<extra></extra>",
         "legendgroup": "Queens Park Rangers",
         "line": {
          "color": "rgb(189,189,189)",
          "dash": "solid"
         },
         "marker": {
          "symbol": "circle"
         },
         "mode": "lines+markers",
         "name": "Queens Park Rangers",
         "opacity": 0.4,
         "showlegend": true,
         "type": "scattergl",
         "x": [
          2011,
          2012,
          2014
         ],
         "xaxis": "x",
         "y": [
          0.18,
          0.24,
          0.16
         ],
         "yaxis": "y"
        },
        {
         "hovertemplate": "team=Swansea<br>season=%{x}<br>right_for=%{y}<extra></extra>",
         "legendgroup": "Swansea",
         "line": {
          "color": "rgb(189,189,189)",
          "dash": "solid"
         },
         "marker": {
          "symbol": "circle"
         },
         "mode": "lines+markers",
         "name": "Swansea",
         "opacity": 0.4,
         "showlegend": true,
         "type": "scattergl",
         "x": [
          2011,
          2012,
          2013,
          2014,
          2015,
          2016,
          2017
         ],
         "xaxis": "x",
         "y": [
          0.17,
          0.17,
          0.16,
          0.12,
          0.18,
          0.15,
          0.18
         ],
         "yaxis": "y"
        },
        {
         "hovertemplate": "team=Norwich<br>season=%{x}<br>right_for=%{y}<extra></extra>",
         "legendgroup": "Norwich",
         "line": {
          "color": "rgb(189,189,189)",
          "dash": "solid"
         },
         "marker": {
          "symbol": "circle"
         },
         "mode": "lines+markers",
         "name": "Norwich",
         "opacity": 0.4,
         "showlegend": true,
         "type": "scattergl",
         "x": [
          2011,
          2012,
          2013,
          2015,
          2019,
          2021
         ],
         "xaxis": "x",
         "y": [
          0.13,
          0.17,
          0.18,
          0.19,
          0.17,
          0.14
         ],
         "yaxis": "y"
        },
        {
         "hovertemplate": "team=Southampton<br>season=%{x}<br>right_for=%{y}<extra></extra>",
         "legendgroup": "Southampton",
         "line": {
          "color": "rgb(189,189,189)",
          "dash": "solid"
         },
         "marker": {
          "symbol": "circle"
         },
         "mode": "lines+markers",
         "name": "Southampton",
         "opacity": 0.4,
         "showlegend": true,
         "type": "scattergl",
         "x": [
          2012,
          2013,
          2014,
          2015,
          2016,
          2017,
          2018,
          2019,
          2020,
          2021
         ],
         "xaxis": "x",
         "y": [
          0.15,
          0.13,
          0.14,
          0.16,
          0.18,
          0.12,
          0.14,
          0.12,
          0.13,
          0.13
         ],
         "yaxis": "y"
        },
        {
         "hovertemplate": "team=Reading<br>season=%{x}<br>right_for=%{y}<extra></extra>",
         "legendgroup": "Reading",
         "line": {
          "color": "rgb(189,189,189)",
          "dash": "solid"
         },
         "marker": {
          "symbol": "circle"
         },
         "mode": "lines+markers",
         "name": "Reading",
         "opacity": 0.4,
         "showlegend": true,
         "type": "scattergl",
         "x": [
          2012
         ],
         "xaxis": "x",
         "y": [
          0.13
         ],
         "yaxis": "y"
        },
        {
         "hovertemplate": "team=Crystal Palace<br>season=%{x}<br>right_for=%{y}<extra></extra>",
         "legendgroup": "Crystal Palace",
         "line": {
          "color": "rgb(189,189,189)",
          "dash": "solid"
         },
         "marker": {
          "symbol": "circle"
         },
         "mode": "lines+markers",
         "name": "Crystal Palace",
         "opacity": 0.4,
         "showlegend": true,
         "type": "scattergl",
         "x": [
          2013,
          2014,
          2015,
          2016,
          2017,
          2018,
          2019,
          2020,
          2021
         ],
         "xaxis": "x",
         "y": [
          0.21,
          0.17,
          0.18,
          0.14,
          0.11,
          0.13,
          0.11,
          0.12,
          0.13
         ],
         "yaxis": "y"
        },
        {
         "hovertemplate": "team=Cardiff<br>season=%{x}<br>right_for=%{y}<extra></extra>",
         "legendgroup": "Cardiff",
         "line": {
          "color": "rgb(189,189,189)",
          "dash": "solid"
         },
         "marker": {
          "symbol": "circle"
         },
         "mode": "lines+markers",
         "name": "Cardiff",
         "opacity": 0.4,
         "showlegend": true,
         "type": "scattergl",
         "x": [
          2013,
          2018
         ],
         "xaxis": "x",
         "y": [
          0.16,
          0.12
         ],
         "yaxis": "y"
        },
        {
         "hovertemplate": "team=Leicester<br>season=%{x}<br>right_for=%{y}<extra></extra>",
         "legendgroup": "Leicester",
         "line": {
          "color": "rgb(189,189,189)",
          "dash": "solid"
         },
         "marker": {
          "symbol": "circle"
         },
         "mode": "lines+markers",
         "name": "Leicester",
         "opacity": 0.4,
         "showlegend": true,
         "type": "scattergl",
         "x": [
          2014,
          2015,
          2016,
          2017,
          2018,
          2019,
          2020,
          2021
         ],
         "xaxis": "x",
         "y": [
          0.19,
          0.15,
          0.16,
          0.13,
          0.17,
          0.13,
          0.18,
          0.17
         ],
         "yaxis": "y"
        },
        {
         "hovertemplate": "team=Watford<br>season=%{x}<br>right_for=%{y}<extra></extra>",
         "legendgroup": "Watford",
         "line": {
          "color": "rgb(189,189,189)",
          "dash": "solid"
         },
         "marker": {
          "symbol": "circle"
         },
         "mode": "lines+markers",
         "name": "Watford",
         "opacity": 0.4,
         "showlegend": true,
         "type": "scattergl",
         "x": [
          2015,
          2016,
          2017,
          2018,
          2019,
          2021
         ],
         "xaxis": "x",
         "y": [
          0.16,
          0.15,
          0.12,
          0.11,
          0.11,
          0.15
         ],
         "yaxis": "y"
        },
        {
         "hovertemplate": "team=Bournemouth<br>season=%{x}<br>right_for=%{y}<extra></extra>",
         "legendgroup": "Bournemouth",
         "line": {
          "color": "rgb(189,189,189)",
          "dash": "solid"
         },
         "marker": {
          "symbol": "circle"
         },
         "mode": "lines+markers",
         "name": "Bournemouth",
         "opacity": 0.4,
         "showlegend": true,
         "type": "scattergl",
         "x": [
          2015,
          2016,
          2017,
          2018,
          2019
         ],
         "xaxis": "x",
         "y": [
          0.17,
          0.16,
          0.16,
          0.12,
          0.11
         ],
         "yaxis": "y"
        },
        {
         "hovertemplate": "team=Middlesbrough<br>season=%{x}<br>right_for=%{y}<extra></extra>",
         "legendgroup": "Middlesbrough",
         "line": {
          "color": "rgb(189,189,189)",
          "dash": "solid"
         },
         "marker": {
          "symbol": "circle"
         },
         "mode": "lines+markers",
         "name": "Middlesbrough",
         "opacity": 0.4,
         "showlegend": true,
         "type": "scattergl",
         "x": [
          2016
         ],
         "xaxis": "x",
         "y": [
          0.17
         ],
         "yaxis": "y"
        },
        {
         "hovertemplate": "team=Brighton<br>season=%{x}<br>right_for=%{y}<extra></extra>",
         "legendgroup": "Brighton",
         "line": {
          "color": "rgb(189,189,189)",
          "dash": "solid"
         },
         "marker": {
          "symbol": "circle"
         },
         "mode": "lines+markers",
         "name": "Brighton",
         "opacity": 0.4,
         "showlegend": true,
         "type": "scattergl",
         "x": [
          2017,
          2018,
          2019,
          2020,
          2021
         ],
         "xaxis": "x",
         "y": [
          0.15,
          0.14,
          0.11,
          0.12,
          0.13
         ],
         "yaxis": "y"
        },
        {
         "hovertemplate": "team=Huddersfield<br>season=%{x}<br>right_for=%{y}<extra></extra>",
         "legendgroup": "Huddersfield",
         "line": {
          "color": "rgb(189,189,189)",
          "dash": "solid"
         },
         "marker": {
          "symbol": "circle"
         },
         "mode": "lines+markers",
         "name": "Huddersfield",
         "opacity": 0.4,
         "showlegend": true,
         "type": "scattergl",
         "x": [
          2017,
          2018
         ],
         "xaxis": "x",
         "y": [
          0.17,
          0.16
         ],
         "yaxis": "y"
        },
        {
         "hovertemplate": "team=Sheffield United<br>season=%{x}<br>right_for=%{y}<extra></extra>",
         "legendgroup": "Sheffield United",
         "line": {
          "color": "rgb(189,189,189)",
          "dash": "solid"
         },
         "marker": {
          "symbol": "circle"
         },
         "mode": "lines+markers",
         "name": "Sheffield United",
         "opacity": 0.4,
         "showlegend": true,
         "type": "scattergl",
         "x": [
          2019,
          2020
         ],
         "xaxis": "x",
         "y": [
          0.14,
          0.16
         ],
         "yaxis": "y"
        },
        {
         "hovertemplate": "team=Leeds<br>season=%{x}<br>right_for=%{y}<extra></extra>",
         "legendgroup": "Leeds",
         "line": {
          "color": "rgb(189,189,189)",
          "dash": "solid"
         },
         "marker": {
          "symbol": "circle"
         },
         "mode": "lines+markers",
         "name": "Leeds",
         "opacity": 0.4,
         "showlegend": true,
         "type": "scattergl",
         "x": [
          2020,
          2021
         ],
         "xaxis": "x",
         "y": [
          0.15,
          0.18
         ],
         "yaxis": "y"
        },
        {
         "hovertemplate": "team=Brentford<br>season=%{x}<br>right_for=%{y}<extra></extra>",
         "legendgroup": "Brentford",
         "line": {
          "color": "rgb(189,189,189)",
          "dash": "solid"
         },
         "marker": {
          "symbol": "circle"
         },
         "mode": "lines+markers",
         "name": "Brentford",
         "opacity": 0.4,
         "showlegend": true,
         "type": "scattergl",
         "x": [
          2021
         ],
         "xaxis": "x",
         "y": [
          0.17
         ],
         "yaxis": "y"
        },
        {
         "hovertemplate": "team=Villarreal<br>season=%{x}<br>right_for=%{y}<extra></extra>",
         "legendgroup": "Villarreal",
         "line": {
          "color": "rgb(189,189,189)",
          "dash": "solid"
         },
         "marker": {
          "symbol": "circle"
         },
         "mode": "lines+markers",
         "name": "Villarreal",
         "opacity": 0.4,
         "showlegend": true,
         "type": "scattergl",
         "x": [
          2009,
          2010,
          2011,
          2013,
          2014,
          2015,
          2016,
          2017,
          2018,
          2019,
          2020,
          2021
         ],
         "xaxis": "x",
         "y": [
          0.14,
          0.25,
          0.18,
          0.18,
          0.2,
          0.24,
          0.22,
          0.23,
          0.19,
          0.16,
          0.17,
          0.11
         ],
         "yaxis": "y"
        },
        {
         "hovertemplate": "team=Valencia<br>season=%{x}<br>right_for=%{y}<extra></extra>",
         "legendgroup": "Valencia",
         "line": {
          "color": "rgb(189,189,189)",
          "dash": "solid"
         },
         "marker": {
          "symbol": "circle"
         },
         "mode": "lines+markers",
         "name": "Valencia",
         "opacity": 0.4,
         "showlegend": true,
         "type": "scattergl",
         "x": [
          2009,
          2010,
          2011,
          2012,
          2013,
          2014,
          2015,
          2016,
          2017,
          2018,
          2019,
          2020,
          2021
         ],
         "xaxis": "x",
         "y": [
          0.15,
          0.21,
          0.19,
          0.19,
          0.17,
          0.13,
          0.17,
          0.15,
          0.13,
          0.17,
          0.18,
          0.15,
          0.14
         ],
         "yaxis": "y"
        },
        {
         "hovertemplate": "team=Sporting Gijon<br>season=%{x}<br>right_for=%{y}<extra></extra>",
         "legendgroup": "Sporting Gijon",
         "line": {
          "color": "rgb(189,189,189)",
          "dash": "solid"
         },
         "marker": {
          "symbol": "circle"
         },
         "mode": "lines+markers",
         "name": "Sporting Gijon",
         "opacity": 0.4,
         "showlegend": true,
         "type": "scattergl",
         "x": [
          2009,
          2010,
          2011,
          2015,
          2016
         ],
         "xaxis": "x",
         "y": [
          0.22,
          0.2,
          0.23,
          0.19,
          0.12
         ],
         "yaxis": "y"
        },
        {
         "hovertemplate": "team=Real Madrid<br>season=%{x}<br>right_for=%{y}<extra></extra>",
         "legendgroup": "Real Madrid",
         "line": {
          "color": "rgb(189,189,189)",
          "dash": "solid"
         },
         "marker": {
          "symbol": "circle"
         },
         "mode": "lines+markers",
         "name": "Real Madrid",
         "opacity": 0.4,
         "showlegend": true,
         "type": "scattergl",
         "x": [
          2009,
          2010,
          2011,
          2012,
          2013,
          2014,
          2015,
          2016,
          2017,
          2018,
          2019,
          2020,
          2021
         ],
         "xaxis": "x",
         "y": [
          0.15,
          0.16,
          0.18,
          0.15,
          0.16,
          0.16,
          0.18,
          0.16,
          0.14,
          0.16,
          0.11,
          0.11,
          0.15
         ],
         "yaxis": "y"
        },
        {
         "hovertemplate": "team=Atletico Madrid<br>season=%{x}<br>right_for=%{y}<extra></extra>",
         "legendgroup": "Atletico Madrid",
         "line": {
          "color": "rgb(189,189,189)",
          "dash": "solid"
         },
         "marker": {
          "symbol": "circle"
         },
         "mode": "lines+markers",
         "name": "Atletico Madrid",
         "opacity": 0.4,
         "showlegend": true,
         "type": "scattergl",
         "x": [
          2009,
          2010,
          2011,
          2012,
          2013,
          2014,
          2015,
          2016,
          2017,
          2018,
          2019,
          2020,
          2021
         ],
         "xaxis": "x",
         "y": [
          0.2,
          0.19,
          0.18,
          0.14,
          0.16,
          0.11,
          0.13,
          0.13,
          0.18,
          0.23,
          0.12,
          0.14,
          0.13
         ],
         "yaxis": "y"
        },
        {
         "hovertemplate": "team=Malaga<br>season=%{x}<br>right_for=%{y}<extra></extra>",
         "legendgroup": "Malaga",
         "line": {
          "color": "rgb(189,189,189)",
          "dash": "solid"
         },
         "marker": {
          "symbol": "circle"
         },
         "mode": "lines+markers",
         "name": "Malaga",
         "opacity": 0.4,
         "showlegend": true,
         "type": "scattergl",
         "x": [
          2009,
          2010,
          2011,
          2012,
          2013,
          2014,
          2015,
          2016,
          2017
         ],
         "xaxis": "x",
         "y": [
          0.2,
          0.19,
          0.13,
          0.14,
          0.17,
          0.19,
          0.17,
          0.26,
          0.16
         ],
         "yaxis": "y"
        },
        {
         "hovertemplate": "team=Espanyol<br>season=%{x}<br>right_for=%{y}<extra></extra>",
         "legendgroup": "Espanyol",
         "line": {
          "color": "rgb(189,189,189)",
          "dash": "solid"
         },
         "marker": {
          "symbol": "circle"
         },
         "mode": "lines+markers",
         "name": "Espanyol",
         "opacity": 0.4,
         "showlegend": true,
         "type": "scattergl",
         "x": [
          2009,
          2010,
          2011,
          2012,
          2013,
          2014,
          2015,
          2016,
          2017,
          2018,
          2019,
          2021
         ],
         "xaxis": "x",
         "y": [
          0.2,
          0.21,
          0.19,
          0.19,
          0.22,
          0.14,
          0.17,
          0.14,
          0.2,
          0.19,
          0.17,
          0.17
         ],
         "yaxis": "y"
        },
        {
         "hovertemplate": "team=Getafe<br>season=%{x}<br>right_for=%{y}<extra></extra>",
         "legendgroup": "Getafe",
         "line": {
          "color": "rgb(189,189,189)",
          "dash": "solid"
         },
         "marker": {
          "symbol": "circle"
         },
         "mode": "lines+markers",
         "name": "Getafe",
         "opacity": 0.4,
         "showlegend": true,
         "type": "scattergl",
         "x": [
          2009,
          2010,
          2011,
          2012,
          2013,
          2014,
          2015,
          2017,
          2018,
          2019,
          2020,
          2021
         ],
         "xaxis": "x",
         "y": [
          0.15,
          0.17,
          0.17,
          0.19,
          0.21,
          0.21,
          0.21,
          0.19,
          0.15,
          0.18,
          0.18,
          0.18
         ],
         "yaxis": "y"
        },
        {
         "hovertemplate": "team=Racing Santander<br>season=%{x}<br>right_for=%{y}<extra></extra>",
         "legendgroup": "Racing Santander",
         "line": {
          "color": "rgb(189,189,189)",
          "dash": "solid"
         },
         "marker": {
          "symbol": "circle"
         },
         "mode": "lines+markers",
         "name": "Racing Santander",
         "opacity": 0.4,
         "showlegend": true,
         "type": "scattergl",
         "x": [
          2009,
          2010,
          2011
         ],
         "xaxis": "x",
         "y": [
          0.22,
          0.18,
          0.15
         ],
         "yaxis": "y"
        },
        {
         "hovertemplate": "team=Osasuna<br>season=%{x}<br>right_for=%{y}<extra></extra>",
         "legendgroup": "Osasuna",
         "line": {
          "color": "rgb(189,189,189)",
          "dash": "solid"
         },
         "marker": {
          "symbol": "circle"
         },
         "mode": "lines+markers",
         "name": "Osasuna",
         "opacity": 0.4,
         "showlegend": true,
         "type": "scattergl",
         "x": [
          2009,
          2010,
          2011,
          2012,
          2013,
          2016,
          2019,
          2020,
          2021
         ],
         "xaxis": "x",
         "y": [
          0.16,
          0.19,
          0.21,
          0.15,
          0.17,
          0.23,
          0.19,
          0.12,
          0.15
         ],
         "yaxis": "y"
        },
        {
         "hovertemplate": "team=Deportivo La Coruna<br>season=%{x}<br>right_for=%{y}<extra></extra>",
         "legendgroup": "Deportivo La Coruna",
         "line": {
          "color": "rgb(189,189,189)",
          "dash": "solid"
         },
         "marker": {
          "symbol": "circle"
         },
         "mode": "lines+markers",
         "name": "Deportivo La Coruna",
         "opacity": 0.4,
         "showlegend": true,
         "type": "scattergl",
         "x": [
          2009,
          2010,
          2012,
          2014,
          2015,
          2016,
          2017
         ],
         "xaxis": "x",
         "y": [
          0.17,
          0.21,
          0.21,
          0.23,
          0.23,
          0.23,
          0.19
         ],
         "yaxis": "y"
        },
        {
         "hovertemplate": "team=Real Valladolid<br>season=%{x}<br>right_for=%{y}<extra></extra>",
         "legendgroup": "Real Valladolid",
         "line": {
          "color": "rgb(189,189,189)",
          "dash": "solid"
         },
         "marker": {
          "symbol": "circle"
         },
         "mode": "lines+markers",
         "name": "Real Valladolid",
         "opacity": 0.4,
         "showlegend": true,
         "type": "scattergl",
         "x": [
          2009,
          2012,
          2013,
          2018,
          2019,
          2020
         ],
         "xaxis": "x",
         "y": [
          0.19,
          0.21,
          0.19,
          0.17,
          0.15,
          0.16
         ],
         "yaxis": "y"
        },
        {
         "hovertemplate": "team=Xerez<br>season=%{x}<br>right_for=%{y}<extra></extra>",
         "legendgroup": "Xerez",
         "line": {
          "color": "rgb(189,189,189)",
          "dash": "solid"
         },
         "marker": {
          "symbol": "circle"
         },
         "mode": "lines+markers",
         "name": "Xerez",
         "opacity": 0.4,
         "showlegend": true,
         "type": "scattergl",
         "x": [
          2009
         ],
         "xaxis": "x",
         "y": [
          0.21
         ],
         "yaxis": "y"
        },
        {
         "hovertemplate": "team=Real Zaragoza<br>season=%{x}<br>right_for=%{y}<extra></extra>",
         "legendgroup": "Real Zaragoza",
         "line": {
          "color": "rgb(189,189,189)",
          "dash": "solid"
         },
         "marker": {
          "symbol": "circle"
         },
         "mode": "lines+markers",
         "name": "Real Zaragoza",
         "opacity": 0.4,
         "showlegend": true,
         "type": "scattergl",
         "x": [
          2009,
          2010,
          2011,
          2012
         ],
         "xaxis": "x",
         "y": [
          0.2,
          0.17,
          0.21,
          0.2
         ],
         "yaxis": "y"
        },
        {
         "hovertemplate": "team=Barcelona<br>season=%{x}<br>right_for=%{y}<extra></extra>",
         "legendgroup": "Barcelona",
         "line": {
          "color": "rgb(189,189,189)",
          "dash": "solid"
         },
         "marker": {
          "symbol": "circle"
         },
         "mode": "lines+markers",
         "name": "Barcelona",
         "opacity": 0.4,
         "showlegend": true,
         "type": "scattergl",
         "x": [
          2009,
          2010,
          2011,
          2012,
          2013,
          2014,
          2015,
          2016,
          2017,
          2018,
          2019,
          2020,
          2021
         ],
         "xaxis": "x",
         "y": [
          0.16,
          0.2,
          0.15,
          0.14,
          0.15,
          0.14,
          0.13,
          0.14,
          0.12,
          0.13,
          0.16,
          0.15,
          0.16
         ],
         "yaxis": "y"
        },
        {
         "hovertemplate": "team=Almeria<br>season=%{x}<br>right_for=%{y}<extra></extra>",
         "legendgroup": "Almeria",
         "line": {
          "color": "rgb(189,189,189)",
          "dash": "solid"
         },
         "marker": {
          "symbol": "circle"
         },
         "mode": "lines+markers",
         "name": "Almeria",
         "opacity": 0.4,
         "showlegend": true,
         "type": "scattergl",
         "x": [
          2009,
          2010,
          2013,
          2014
         ],
         "xaxis": "x",
         "y": [
          0.15,
          0.18,
          0.21,
          0.18
         ],
         "yaxis": "y"
        },
        {
         "hovertemplate": "team=Athletic Bilbao<br>season=%{x}<br>right_for=%{y}<extra></extra>",
         "legendgroup": "Athletic Bilbao",
         "line": {
          "color": "rgb(189,189,189)",
          "dash": "solid"
         },
         "marker": {
          "symbol": "circle"
         },
         "mode": "lines+markers",
         "name": "Athletic Bilbao",
         "opacity": 0.4,
         "showlegend": true,
         "type": "scattergl",
         "x": [
          2009,
          2010,
          2011,
          2012,
          2013,
          2014,
          2015,
          2016,
          2017,
          2018,
          2019,
          2020,
          2021
         ],
         "xaxis": "x",
         "y": [
          0.13,
          0.15,
          0.16,
          0.21,
          0.16,
          0.14,
          0.19,
          0.19,
          0.18,
          0.15,
          0.2,
          0.16,
          0.17
         ],
         "yaxis": "y"
        },
        {
         "hovertemplate": "team=Sevilla<br>season=%{x}<br>right_for=%{y}<extra></extra>",
         "legendgroup": "Sevilla",
         "line": {
          "color": "rgb(189,189,189)",
          "dash": "solid"
         },
         "marker": {
          "symbol": "circle"
         },
         "mode": "lines+markers",
         "name": "Sevilla",
         "opacity": 0.4,
         "showlegend": true,
         "type": "scattergl",
         "x": [
          2009,
          2010,
          2011,
          2012,
          2013,
          2014,
          2015,
          2016,
          2017,
          2018,
          2019,
          2020,
          2021
         ],
         "xaxis": "x",
         "y": [
          0.2,
          0.16,
          0.19,
          0.2,
          0.18,
          0.18,
          0.16,
          0.15,
          0.17,
          0.16,
          0.16,
          0.18,
          0.13
         ],
         "yaxis": "y"
        },
        {
         "hovertemplate": "team=Tenerife<br>season=%{x}<br>right_for=%{y}<extra></extra>",
         "legendgroup": "Tenerife",
         "line": {
          "color": "rgb(189,189,189)",
          "dash": "solid"
         },
         "marker": {
          "symbol": "circle"
         },
         "mode": "lines+markers",
         "name": "Tenerife",
         "opacity": 0.4,
         "showlegend": true,
         "type": "scattergl",
         "x": [
          2009
         ],
         "xaxis": "x",
         "y": [
          0.23
         ],
         "yaxis": "y"
        },
        {
         "hovertemplate": "team=Mallorca<br>season=%{x}<br>right_for=%{y}<extra></extra>",
         "legendgroup": "Mallorca",
         "line": {
          "color": "rgb(189,189,189)",
          "dash": "solid"
         },
         "marker": {
          "symbol": "circle"
         },
         "mode": "lines+markers",
         "name": "Mallorca",
         "opacity": 0.4,
         "showlegend": true,
         "type": "scattergl",
         "x": [
          2009,
          2010,
          2011,
          2012,
          2019,
          2021
         ],
         "xaxis": "x",
         "y": [
          0.21,
          0.21,
          0.24,
          0.2,
          0.17,
          0.18
         ],
         "yaxis": "y"
        },
        {
         "hovertemplate": "team=Real Sociedad<br>season=%{x}<br>right_for=%{y}<extra></extra>",
         "legendgroup": "Real Sociedad",
         "line": {
          "color": "rgb(189,189,189)",
          "dash": "solid"
         },
         "marker": {
          "symbol": "circle"
         },
         "mode": "lines+markers",
         "name": "Real Sociedad",
         "opacity": 0.4,
         "showlegend": true,
         "type": "scattergl",
         "x": [
          2010,
          2011,
          2012,
          2013,
          2014,
          2015,
          2016,
          2017,
          2018,
          2019,
          2020,
          2021
         ],
         "xaxis": "x",
         "y": [
          0.21,
          0.19,
          0.21,
          0.18,
          0.19,
          0.14,
          0.16,
          0.19,
          0.14,
          0.17,
          0.16,
          0.22
         ],
         "yaxis": "y"
        },
        {
         "hovertemplate": "team=Levante<br>season=%{x}<br>right_for=%{y}<extra></extra>",
         "legendgroup": "Levante",
         "line": {
          "color": "rgb(189,189,189)",
          "dash": "solid"
         },
         "marker": {
          "symbol": "circle"
         },
         "mode": "lines+markers",
         "name": "Levante",
         "opacity": 0.4,
         "showlegend": true,
         "type": "scattergl",
         "x": [
          2010,
          2011,
          2012,
          2013,
          2014,
          2015,
          2017,
          2018,
          2019,
          2020,
          2021
         ],
         "xaxis": "x",
         "y": [
          0.21,
          0.21,
          0.18,
          0.21,
          0.19,
          0.18,
          0.14,
          0.18,
          0.16,
          0.17,
          0.18
         ],
         "yaxis": "y"
        },
        {
         "hovertemplate": "team=Hercules<br>season=%{x}<br>right_for=%{y}<extra></extra>",
         "legendgroup": "Hercules",
         "line": {
          "color": "rgb(189,189,189)",
          "dash": "solid"
         },
         "marker": {
          "symbol": "circle"
         },
         "mode": "lines+markers",
         "name": "Hercules",
         "opacity": 0.4,
         "showlegend": true,
         "type": "scattergl",
         "x": [
          2010
         ],
         "xaxis": "x",
         "y": [
          0.17
         ],
         "yaxis": "y"
        },
        {
         "hovertemplate": "team=Real Betis<br>season=%{x}<br>right_for=%{y}<extra></extra>",
         "legendgroup": "Real Betis",
         "line": {
          "color": "rgb(189,189,189)",
          "dash": "solid"
         },
         "marker": {
          "symbol": "circle"
         },
         "mode": "lines+markers",
         "name": "Real Betis",
         "opacity": 0.4,
         "showlegend": true,
         "type": "scattergl",
         "x": [
          2011,
          2012,
          2013,
          2015,
          2016,
          2017,
          2018,
          2019,
          2020,
          2021
         ],
         "xaxis": "x",
         "y": [
          0.15,
          0.2,
          0.18,
          0.19,
          0.17,
          0.19,
          0.22,
          0.18,
          0.23,
          0.18
         ],
         "yaxis": "y"
        },
        {
         "hovertemplate": "team=Granada<br>season=%{x}<br>right_for=%{y}<extra></extra>",
         "legendgroup": "Granada",
         "line": {
          "color": "rgb(189,189,189)",
          "dash": "solid"
         },
         "marker": {
          "symbol": "circle"
         },
         "mode": "lines+markers",
         "name": "Granada",
         "opacity": 0.4,
         "showlegend": true,
         "type": "scattergl",
         "x": [
          2011,
          2012,
          2013,
          2014,
          2015,
          2016,
          2019,
          2020,
          2021
         ],
         "xaxis": "x",
         "y": [
          0.24,
          0.18,
          0.17,
          0.19,
          0.2,
          0.2,
          0.14,
          0.17,
          0.15
         ],
         "yaxis": "y"
        },
        {
         "hovertemplate": "team=Rayo Vallecano<br>season=%{x}<br>right_for=%{y}<extra></extra>",
         "legendgroup": "Rayo Vallecano",
         "line": {
          "color": "rgb(189,189,189)",
          "dash": "solid"
         },
         "marker": {
          "symbol": "circle"
         },
         "mode": "lines+markers",
         "name": "Rayo Vallecano",
         "opacity": 0.4,
         "showlegend": true,
         "type": "scattergl",
         "x": [
          2011,
          2012,
          2013,
          2014,
          2015,
          2018,
          2021
         ],
         "xaxis": "x",
         "y": [
          0.2,
          0.23,
          0.19,
          0.18,
          0.21,
          0.14,
          0.16
         ],
         "yaxis": "y"
        },
        {
         "hovertemplate": "team=Celta Vigo<br>season=%{x}<br>right_for=%{y}<extra></extra>",
         "legendgroup": "Celta Vigo",
         "line": {
          "color": "rgb(189,189,189)",
          "dash": "solid"
         },
         "marker": {
          "symbol": "circle"
         },
         "mode": "lines+markers",
         "name": "Celta Vigo",
         "opacity": 0.4,
         "showlegend": true,
         "type": "scattergl",
         "x": [
          2012,
          2013,
          2014,
          2015,
          2016,
          2017,
          2018,
          2019,
          2020,
          2021
         ],
         "xaxis": "x",
         "y": [
          0.21,
          0.19,
          0.15,
          0.17,
          0.2,
          0.17,
          0.21,
          0.21,
          0.15,
          0.19
         ],
         "yaxis": "y"
        },
        {
         "hovertemplate": "team=Elche<br>season=%{x}<br>right_for=%{y}<extra></extra>",
         "legendgroup": "Elche",
         "line": {
          "color": "rgb(189,189,189)",
          "dash": "solid"
         },
         "marker": {
          "symbol": "circle"
         },
         "mode": "lines+markers",
         "name": "Elche",
         "opacity": 0.4,
         "showlegend": true,
         "type": "scattergl",
         "x": [
          2013,
          2014,
          2020,
          2021
         ],
         "xaxis": "x",
         "y": [
          0.19,
          0.2,
          0.14,
          0.13
         ],
         "yaxis": "y"
        },
        {
         "hovertemplate": "team=Cordoba<br>season=%{x}<br>right_for=%{y}<extra></extra>",
         "legendgroup": "Cordoba",
         "line": {
          "color": "rgb(189,189,189)",
          "dash": "solid"
         },
         "marker": {
          "symbol": "circle"
         },
         "mode": "lines+markers",
         "name": "Cordoba",
         "opacity": 0.4,
         "showlegend": true,
         "type": "scattergl",
         "x": [
          2014
         ],
         "xaxis": "x",
         "y": [
          0.23
         ],
         "yaxis": "y"
        },
        {
         "hovertemplate": "team=Eibar<br>season=%{x}<br>right_for=%{y}<extra></extra>",
         "legendgroup": "Eibar",
         "line": {
          "color": "rgb(189,189,189)",
          "dash": "solid"
         },
         "marker": {
          "symbol": "circle"
         },
         "mode": "lines+markers",
         "name": "Eibar",
         "opacity": 0.4,
         "showlegend": true,
         "type": "scattergl",
         "x": [
          2014,
          2015,
          2016,
          2017,
          2018,
          2019,
          2020
         ],
         "xaxis": "x",
         "y": [
          0.18,
          0.16,
          0.18,
          0.15,
          0.18,
          0.15,
          0.13
         ],
         "yaxis": "y"
        },
        {
         "hovertemplate": "team=Las Palmas<br>season=%{x}<br>right_for=%{y}<extra></extra>",
         "legendgroup": "Las Palmas",
         "line": {
          "color": "rgb(189,189,189)",
          "dash": "solid"
         },
         "marker": {
          "symbol": "circle"
         },
         "mode": "lines+markers",
         "name": "Las Palmas",
         "opacity": 0.4,
         "showlegend": true,
         "type": "scattergl",
         "x": [
          2015,
          2016,
          2017
         ],
         "xaxis": "x",
         "y": [
          0.14,
          0.18,
          0.22
         ],
         "yaxis": "y"
        },
        {
         "hovertemplate": "team=Leganes<br>season=%{x}<br>right_for=%{y}<extra></extra>",
         "legendgroup": "Leganes",
         "line": {
          "color": "rgb(189,189,189)",
          "dash": "solid"
         },
         "marker": {
          "symbol": "circle"
         },
         "mode": "lines+markers",
         "name": "Leganes",
         "opacity": 0.4,
         "showlegend": true,
         "type": "scattergl",
         "x": [
          2016,
          2017,
          2018,
          2019
         ],
         "xaxis": "x",
         "y": [
          0.17,
          0.19,
          0.15,
          0.17
         ],
         "yaxis": "y"
        },
        {
         "hovertemplate": "team=Deportivo Alaves<br>season=%{x}<br>right_for=%{y}<extra></extra>",
         "legendgroup": "Deportivo Alaves",
         "line": {
          "color": "rgb(189,189,189)",
          "dash": "solid"
         },
         "marker": {
          "symbol": "circle"
         },
         "mode": "lines+markers",
         "name": "Deportivo Alaves",
         "opacity": 0.4,
         "showlegend": true,
         "type": "scattergl",
         "x": [
          2016,
          2017,
          2018,
          2019,
          2020,
          2021
         ],
         "xaxis": "x",
         "y": [
          0.16,
          0.13,
          0.15,
          0.13,
          0.11,
          0.16
         ],
         "yaxis": "y"
        },
        {
         "hovertemplate": "team=Girona<br>season=%{x}<br>right_for=%{y}<extra></extra>",
         "legendgroup": "Girona",
         "line": {
          "color": "rgb(189,189,189)",
          "dash": "solid"
         },
         "marker": {
          "symbol": "circle"
         },
         "mode": "lines+markers",
         "name": "Girona",
         "opacity": 0.4,
         "showlegend": true,
         "type": "scattergl",
         "x": [
          2017,
          2018
         ],
         "xaxis": "x",
         "y": [
          0.16,
          0.15
         ],
         "yaxis": "y"
        },
        {
         "hovertemplate": "team=SD Huesca<br>season=%{x}<br>right_for=%{y}<extra></extra>",
         "legendgroup": "SD Huesca",
         "line": {
          "color": "rgb(189,189,189)",
          "dash": "solid"
         },
         "marker": {
          "symbol": "circle"
         },
         "mode": "lines+markers",
         "name": "SD Huesca",
         "opacity": 0.4,
         "showlegend": true,
         "type": "scattergl",
         "x": [
          2018,
          2020
         ],
         "xaxis": "x",
         "y": [
          0.15,
          0.19
         ],
         "yaxis": "y"
        },
        {
         "hovertemplate": "team=Cadiz<br>season=%{x}<br>right_for=%{y}<extra></extra>",
         "legendgroup": "Cadiz",
         "line": {
          "color": "rgb(189,189,189)",
          "dash": "solid"
         },
         "marker": {
          "symbol": "circle"
         },
         "mode": "lines+markers",
         "name": "Cadiz",
         "opacity": 0.4,
         "showlegend": true,
         "type": "scattergl",
         "x": [
          2020,
          2021
         ],
         "xaxis": "x",
         "y": [
          0.12,
          0.16
         ],
         "yaxis": "y"
        },
        {
         "hovertemplate": "team=Boulogne<br>season=%{x}<br>right_for=%{y}<extra></extra>",
         "legendgroup": "Boulogne",
         "line": {
          "color": "rgb(189,189,189)",
          "dash": "solid"
         },
         "marker": {
          "symbol": "circle"
         },
         "mode": "lines+markers",
         "name": "Boulogne",
         "opacity": 0.4,
         "showlegend": true,
         "type": "scattergl",
         "x": [
          2009
         ],
         "xaxis": "x",
         "y": [
          0.21
         ],
         "yaxis": "y"
        },
        {
         "hovertemplate": "team=Toulouse<br>season=%{x}<br>right_for=%{y}<extra></extra>",
         "legendgroup": "Toulouse",
         "line": {
          "color": "rgb(189,189,189)",
          "dash": "solid"
         },
         "marker": {
          "symbol": "circle"
         },
         "mode": "lines+markers",
         "name": "Toulouse",
         "opacity": 0.4,
         "showlegend": true,
         "type": "scattergl",
         "x": [
          2009,
          2010,
          2011,
          2012,
          2013,
          2014,
          2015,
          2016,
          2017,
          2018,
          2019
         ],
         "xaxis": "x",
         "y": [
          0.19,
          0.17,
          0.18,
          0.22,
          0.19,
          0.16,
          0.19,
          0.17,
          0.16,
          0.15,
          0.15
         ],
         "yaxis": "y"
        },
        {
         "hovertemplate": "team=Nancy<br>season=%{x}<br>right_for=%{y}<extra></extra>",
         "legendgroup": "Nancy",
         "line": {
          "color": "rgb(189,189,189)",
          "dash": "solid"
         },
         "marker": {
          "symbol": "circle"
         },
         "mode": "lines+markers",
         "name": "Nancy",
         "opacity": 0.4,
         "showlegend": true,
         "type": "scattergl",
         "x": [
          2009,
          2010,
          2011,
          2012,
          2016
         ],
         "xaxis": "x",
         "y": [
          0.19,
          0.17,
          0.16,
          0.16,
          0.21
         ],
         "yaxis": "y"
        },
        {
         "hovertemplate": "team=Sochaux<br>season=%{x}<br>right_for=%{y}<extra></extra>",
         "legendgroup": "Sochaux",
         "line": {
          "color": "rgb(189,189,189)",
          "dash": "solid"
         },
         "marker": {
          "symbol": "circle"
         },
         "mode": "lines+markers",
         "name": "Sochaux",
         "opacity": 0.4,
         "showlegend": true,
         "type": "scattergl",
         "x": [
          2009,
          2010,
          2011,
          2012,
          2013
         ],
         "xaxis": "x",
         "y": [
          0.22,
          0.21,
          0.16,
          0.2,
          0.23
         ],
         "yaxis": "y"
        },
        {
         "hovertemplate": "team=Saint-Etienne<br>season=%{x}<br>right_for=%{y}<extra></extra>",
         "legendgroup": "Saint-Etienne",
         "line": {
          "color": "rgb(189,189,189)",
          "dash": "solid"
         },
         "marker": {
          "symbol": "circle"
         },
         "mode": "lines+markers",
         "name": "Saint-Etienne",
         "opacity": 0.4,
         "showlegend": true,
         "type": "scattergl",
         "x": [
          2009,
          2010,
          2011,
          2012,
          2013,
          2014,
          2015,
          2016,
          2017,
          2018,
          2019,
          2020,
          2021
         ],
         "xaxis": "x",
         "y": [
          0.21,
          0.21,
          0.19,
          0.16,
          0.2,
          0.21,
          0.18,
          0.2,
          0.15,
          0.19,
          0.22,
          0.14,
          0.21
         ],
         "yaxis": "y"
        },
        {
         "hovertemplate": "team=Nice<br>season=%{x}<br>right_for=%{y}<extra></extra>",
         "legendgroup": "Nice",
         "line": {
          "color": "rgb(189,189,189)",
          "dash": "solid"
         },
         "marker": {
          "symbol": "circle"
         },
         "mode": "lines+markers",
         "name": "Nice",
         "opacity": 0.4,
         "showlegend": true,
         "type": "scattergl",
         "x": [
          2009,
          2010,
          2011,
          2012,
          2013,
          2014,
          2015,
          2016,
          2017,
          2018,
          2019,
          2020,
          2021
         ],
         "xaxis": "x",
         "y": [
          0.19,
          0.21,
          0.15,
          0.2,
          0.24,
          0.21,
          0.17,
          0.19,
          0.15,
          0.17,
          0.22,
          0.16,
          0.17
         ],
         "yaxis": "y"
        },
        {
         "hovertemplate": "team=Lorient<br>season=%{x}<br>right_for=%{y}<extra></extra>",
         "legendgroup": "Lorient",
         "line": {
          "color": "rgb(189,189,189)",
          "dash": "solid"
         },
         "marker": {
          "symbol": "circle"
         },
         "mode": "lines+markers",
         "name": "Lorient",
         "opacity": 0.4,
         "showlegend": true,
         "type": "scattergl",
         "x": [
          2009,
          2010,
          2011,
          2012,
          2013,
          2014,
          2015,
          2016,
          2020,
          2021
         ],
         "xaxis": "x",
         "y": [
          0.28,
          0.23,
          0.24,
          0.2,
          0.2,
          0.2,
          0.21,
          0.18,
          0.15,
          0.21
         ],
         "yaxis": "y"
        },
        {
         "hovertemplate": "team=Valenciennes<br>season=%{x}<br>right_for=%{y}<extra></extra>",
         "legendgroup": "Valenciennes",
         "line": {
          "color": "rgb(189,189,189)",
          "dash": "solid"
         },
         "marker": {
          "symbol": "circle"
         },
         "mode": "lines+markers",
         "name": "Valenciennes",
         "opacity": 0.4,
         "showlegend": true,
         "type": "scattergl",
         "x": [
          2009,
          2010,
          2011,
          2012,
          2013
         ],
         "xaxis": "x",
         "y": [
          0.18,
          0.18,
          0.18,
          0.17,
          0.18
         ],
         "yaxis": "y"
        },
        {
         "hovertemplate": "team=Paris Saint-Germain<br>season=%{x}<br>right_for=%{y}<extra></extra>",
         "legendgroup": "Paris Saint-Germain",
         "line": {
          "color": "rgb(189,189,189)",
          "dash": "solid"
         },
         "marker": {
          "symbol": "circle"
         },
         "mode": "lines+markers",
         "name": "Paris Saint-Germain",
         "opacity": 0.4,
         "showlegend": true,
         "type": "scattergl",
         "x": [
          2009,
          2010,
          2011,
          2012,
          2013,
          2014,
          2015,
          2016,
          2017,
          2018,
          2019,
          2020,
          2021
         ],
         "xaxis": "x",
         "y": [
          0.21,
          0.18,
          0.21,
          0.18,
          0.16,
          0.15,
          0.13,
          0.16,
          0.16,
          0.17,
          0.14,
          0.13,
          0.14
         ],
         "yaxis": "y"
        },
        {
         "hovertemplate": "team=Lyon<br>season=%{x}<br>right_for=%{y}<extra></extra>",
         "legendgroup": "Lyon",
         "line": {
          "color": "rgb(189,189,189)",
          "dash": "solid"
         },
         "marker": {
          "symbol": "circle"
         },
         "mode": "lines+markers",
         "name": "Lyon",
         "opacity": 0.4,
         "showlegend": true,
         "type": "scattergl",
         "x": [
          2009,
          2010,
          2011,
          2012,
          2013,
          2014,
          2015,
          2016,
          2017,
          2018,
          2019,
          2020,
          2021
         ],
         "xaxis": "x",
         "y": [
          0.17,
          0.2,
          0.17,
          0.18,
          0.17,
          0.19,
          0.22,
          0.18,
          0.22,
          0.16,
          0.18,
          0.16,
          0.14
         ],
         "yaxis": "y"
        },
        {
         "hovertemplate": "team=Montpellier<br>season=%{x}<br>right_for=%{y}<extra></extra>",
         "legendgroup": "Montpellier",
         "line": {
          "color": "rgb(189,189,189)",
          "dash": "solid"
         },
         "marker": {
          "symbol": "circle"
         },
         "mode": "lines+markers",
         "name": "Montpellier",
         "opacity": 0.4,
         "showlegend": true,
         "type": "scattergl",
         "x": [
          2009,
          2010,
          2011,
          2012,
          2013,
          2014,
          2015,
          2016,
          2017,
          2018,
          2019,
          2020,
          2021
         ],
         "xaxis": "x",
         "y": [
          0.23,
          0.19,
          0.16,
          0.19,
          0.19,
          0.21,
          0.13,
          0.13,
          0.2,
          0.2,
          0.15,
          0.16,
          0.19
         ],
         "yaxis": "y"
        },
        {
         "hovertemplate": "team=Bordeaux<br>season=%{x}<br>right_for=%{y}<extra></extra>",
         "legendgroup": "Bordeaux",
         "line": {
          "color": "rgb(189,189,189)",
          "dash": "solid"
         },
         "marker": {
          "symbol": "circle"
         },
         "mode": "lines+markers",
         "name": "Bordeaux",
         "opacity": 0.4,
         "showlegend": true,
         "type": "scattergl",
         "x": [
          2009,
          2010,
          2011,
          2012,
          2013,
          2014,
          2015,
          2016,
          2017,
          2018,
          2019,
          2020,
          2021
         ],
         "xaxis": "x",
         "y": [
          0.17,
          0.17,
          0.18,
          0.17,
          0.15,
          0.19,
          0.18,
          0.17,
          0.19,
          0.17,
          0.19,
          0.18,
          0.21
         ],
         "yaxis": "y"
        },
        {
         "hovertemplate": "team=Rennes<br>season=%{x}<br>right_for=%{y}<extra></extra>",
         "legendgroup": "Rennes",
         "line": {
          "color": "rgb(189,189,189)",
          "dash": "solid"
         },
         "marker": {
          "symbol": "circle"
         },
         "mode": "lines+markers",
         "name": "Rennes",
         "opacity": 0.4,
         "showlegend": true,
         "type": "scattergl",
         "x": [
          2009,
          2010,
          2011,
          2012,
          2013,
          2014,
          2015,
          2016,
          2017,
          2018,
          2019,
          2020,
          2021
         ],
         "xaxis": "x",
         "y": [
          0.21,
          0.18,
          0.18,
          0.21,
          0.22,
          0.18,
          0.18,
          0.16,
          0.2,
          0.21,
          0.2,
          0.17,
          0.15
         ],
         "yaxis": "y"
        },
        {
         "hovertemplate": "team=Grenoble<br>season=%{x}<br>right_for=%{y}<extra></extra>",
         "legendgroup": "Grenoble",
         "line": {
          "color": "rgb(189,189,189)",
          "dash": "solid"
         },
         "marker": {
          "symbol": "circle"
         },
         "mode": "lines+markers",
         "name": "Grenoble",
         "opacity": 0.4,
         "showlegend": true,
         "type": "scattergl",
         "x": [
          2009
         ],
         "xaxis": "x",
         "y": [
          0.23
         ],
         "yaxis": "y"
        },
        {
         "hovertemplate": "team=Le Mans<br>season=%{x}<br>right_for=%{y}<extra></extra>",
         "legendgroup": "Le Mans",
         "line": {
          "color": "rgb(189,189,189)",
          "dash": "solid"
         },
         "marker": {
          "symbol": "circle"
         },
         "mode": "lines+markers",
         "name": "Le Mans",
         "opacity": 0.4,
         "showlegend": true,
         "type": "scattergl",
         "x": [
          2009
         ],
         "xaxis": "x",
         "y": [
          0.16
         ],
         "yaxis": "y"
        },
        {
         "hovertemplate": "team=Lens<br>season=%{x}<br>right_for=%{y}<extra></extra>",
         "legendgroup": "Lens",
         "line": {
          "color": "rgb(189,189,189)",
          "dash": "solid"
         },
         "marker": {
          "symbol": "circle"
         },
         "mode": "lines+markers",
         "name": "Lens",
         "opacity": 0.4,
         "showlegend": true,
         "type": "scattergl",
         "x": [
          2009,
          2010,
          2014,
          2020,
          2021
         ],
         "xaxis": "x",
         "y": [
          0.21,
          0.2,
          0.19,
          0.19,
          0.17
         ],
         "yaxis": "y"
        },
        {
         "hovertemplate": "team=Marseille<br>season=%{x}<br>right_for=%{y}<extra></extra>",
         "legendgroup": "Marseille",
         "line": {
          "color": "rgb(189,189,189)",
          "dash": "solid"
         },
         "marker": {
          "symbol": "circle"
         },
         "mode": "lines+markers",
         "name": "Marseille",
         "opacity": 0.4,
         "showlegend": true,
         "type": "scattergl",
         "x": [
          2009,
          2010,
          2011,
          2012,
          2013,
          2014,
          2015,
          2016,
          2017,
          2018,
          2019,
          2020,
          2021
         ],
         "xaxis": "x",
         "y": [
          0.14,
          0.13,
          0.13,
          0.15,
          0.17,
          0.17,
          0.15,
          0.2,
          0.18,
          0.16,
          0.12,
          0.17,
          0.17
         ],
         "yaxis": "y"
        },
        {
         "hovertemplate": "team=Auxerre<br>season=%{x}<br>right_for=%{y}<extra></extra>",
         "legendgroup": "Auxerre",
         "line": {
          "color": "rgb(189,189,189)",
          "dash": "solid"
         },
         "marker": {
          "symbol": "circle"
         },
         "mode": "lines+markers",
         "name": "Auxerre",
         "opacity": 0.4,
         "showlegend": true,
         "type": "scattergl",
         "x": [
          2009,
          2010,
          2011
         ],
         "xaxis": "x",
         "y": [
          0.21,
          0.19,
          0.17
         ],
         "yaxis": "y"
        },
        {
         "hovertemplate": "team=Lille<br>season=%{x}<br>right_for=%{y}<extra></extra>",
         "legendgroup": "Lille",
         "line": {
          "color": "rgb(189,189,189)",
          "dash": "solid"
         },
         "marker": {
          "symbol": "circle"
         },
         "mode": "lines+markers",
         "name": "Lille",
         "opacity": 0.4,
         "showlegend": true,
         "type": "scattergl",
         "x": [
          2009,
          2010,
          2011,
          2012,
          2013,
          2014,
          2015,
          2016,
          2017,
          2018,
          2019,
          2020,
          2021
         ],
         "xaxis": "x",
         "y": [
          0.2,
          0.21,
          0.19,
          0.19,
          0.17,
          0.16,
          0.19,
          0.21,
          0.23,
          0.19,
          0.15,
          0.18,
          0.17
         ],
         "yaxis": "y"
        },
        {
         "hovertemplate": "team=Monaco<br>season=%{x}<br>right_for=%{y}<extra></extra>",
         "legendgroup": "Monaco",
         "line": {
          "color": "rgb(189,189,189)",
          "dash": "solid"
         },
         "marker": {
          "symbol": "circle"
         },
         "mode": "lines+markers",
         "name": "Monaco",
         "opacity": 0.4,
         "showlegend": true,
         "type": "scattergl",
         "x": [
          2009,
          2010,
          2013,
          2014,
          2015,
          2016,
          2017,
          2018,
          2019,
          2020,
          2021
         ],
         "xaxis": "x",
         "y": [
          0.2,
          0.13,
          0.18,
          0.14,
          0.19,
          0.16,
          0.22,
          0.18,
          0.18,
          0.14,
          0.15
         ],
         "yaxis": "y"
        },
        {
         "hovertemplate": "team=Caen<br>season=%{x}<br>right_for=%{y}<extra></extra>",
         "legendgroup": "Caen",
         "line": {
          "color": "rgb(189,189,189)",
          "dash": "solid"
         },
         "marker": {
          "symbol": "circle"
         },
         "mode": "lines+markers",
         "name": "Caen",
         "opacity": 0.4,
         "showlegend": true,
         "type": "scattergl",
         "x": [
          2010,
          2011,
          2014,
          2015,
          2016,
          2017,
          2018
         ],
         "xaxis": "x",
         "y": [
          0.17,
          0.15,
          0.17,
          0.21,
          0.15,
          0.15,
          0.14
         ],
         "yaxis": "y"
        },
        {
         "hovertemplate": "team=Brest<br>season=%{x}<br>right_for=%{y}<extra></extra>",
         "legendgroup": "Brest",
         "line": {
          "color": "rgb(189,189,189)",
          "dash": "solid"
         },
         "marker": {
          "symbol": "circle"
         },
         "mode": "lines+markers",
         "name": "Brest",
         "opacity": 0.4,
         "showlegend": true,
         "type": "scattergl",
         "x": [
          2010,
          2011,
          2012,
          2019,
          2020,
          2021
         ],
         "xaxis": "x",
         "y": [
          0.15,
          0.19,
          0.2,
          0.22,
          0.16,
          0.13
         ],
         "yaxis": "y"
        },
        {
         "hovertemplate": "team=Arles-Avignon<br>season=%{x}<br>right_for=%{y}<extra></extra>",
         "legendgroup": "Arles-Avignon",
         "line": {
          "color": "rgb(189,189,189)",
          "dash": "solid"
         },
         "marker": {
          "symbol": "circle"
         },
         "mode": "lines+markers",
         "name": "Arles-Avignon",
         "opacity": 0.4,
         "showlegend": true,
         "type": "scattergl",
         "x": [
          2010
         ],
         "xaxis": "x",
         "y": [
          0.21
         ],
         "yaxis": "y"
        },
        {
         "hovertemplate": "team=AC Ajaccio<br>season=%{x}<br>right_for=%{y}<extra></extra>",
         "legendgroup": "AC Ajaccio",
         "line": {
          "color": "rgb(189,189,189)",
          "dash": "solid"
         },
         "marker": {
          "symbol": "circle"
         },
         "mode": "lines+markers",
         "name": "AC Ajaccio",
         "opacity": 0.4,
         "showlegend": true,
         "type": "scattergl",
         "x": [
          2011,
          2012,
          2013
         ],
         "xaxis": "x",
         "y": [
          0.23,
          0.2,
          0.21
         ],
         "yaxis": "y"
        },
        {
         "hovertemplate": "team=Dijon<br>season=%{x}<br>right_for=%{y}<extra></extra>",
         "legendgroup": "Dijon",
         "line": {
          "color": "rgb(189,189,189)",
          "dash": "solid"
         },
         "marker": {
          "symbol": "circle"
         },
         "mode": "lines+markers",
         "name": "Dijon",
         "opacity": 0.4,
         "showlegend": true,
         "type": "scattergl",
         "x": [
          2011,
          2016,
          2017,
          2018,
          2019,
          2020
         ],
         "xaxis": "x",
         "y": [
          0.2,
          0.19,
          0.16,
          0.17,
          0.14,
          0.13
         ],
         "yaxis": "y"
        },
        {
         "hovertemplate": "team=Thonon Evian Grand Geneve<br>season=%{x}<br>right_for=%{y}<extra></extra>",
         "legendgroup": "Thonon Evian Grand Geneve",
         "line": {
          "color": "rgb(189,189,189)",
          "dash": "solid"
         },
         "marker": {
          "symbol": "circle"
         },
         "mode": "lines+markers",
         "name": "Thonon Evian Grand Geneve",
         "opacity": 0.4,
         "showlegend": true,
         "type": "scattergl",
         "x": [
          2011,
          2012,
          2013,
          2014
         ],
         "xaxis": "x",
         "y": [
          0.2,
          0.24,
          0.19,
          0.15
         ],
         "yaxis": "y"
        },
        {
         "hovertemplate": "team=SC Bastia<br>season=%{x}<br>right_for=%{y}<extra></extra>",
         "legendgroup": "SC Bastia",
         "line": {
          "color": "rgb(189,189,189)",
          "dash": "solid"
         },
         "marker": {
          "symbol": "circle"
         },
         "mode": "lines+markers",
         "name": "SC Bastia",
         "opacity": 0.4,
         "showlegend": true,
         "type": "scattergl",
         "x": [
          2012,
          2013,
          2014,
          2015,
          2016
         ],
         "xaxis": "x",
         "y": [
          0.18,
          0.17,
          0.22,
          0.18,
          0.16
         ],
         "yaxis": "y"
        },
        {
         "hovertemplate": "team=Reims<br>season=%{x}<br>right_for=%{y}<extra></extra>",
         "legendgroup": "Reims",
         "line": {
          "color": "rgb(189,189,189)",
          "dash": "solid"
         },
         "marker": {
          "symbol": "circle"
         },
         "mode": "lines+markers",
         "name": "Reims",
         "opacity": 0.4,
         "showlegend": true,
         "type": "scattergl",
         "x": [
          2012,
          2013,
          2014,
          2015,
          2018,
          2019,
          2020,
          2021
         ],
         "xaxis": "x",
         "y": [
          0.16,
          0.22,
          0.16,
          0.23,
          0.17,
          0.19,
          0.22,
          0.14
         ],
         "yaxis": "y"
        },
        {
         "hovertemplate": "team=Troyes<br>season=%{x}<br>right_for=%{y}<extra></extra>",
         "legendgroup": "Troyes",
         "line": {
          "color": "rgb(189,189,189)",
          "dash": "solid"
         },
         "marker": {
          "symbol": "circle"
         },
         "mode": "lines+markers",
         "name": "Troyes",
         "opacity": 0.4,
         "showlegend": true,
         "type": "scattergl",
         "x": [
          2012,
          2015,
          2017,
          2021
         ],
         "xaxis": "x",
         "y": [
          0.18,
          0.27,
          0.18,
          0.13
         ],
         "yaxis": "y"
        },
        {
         "hovertemplate": "team=Guingamp<br>season=%{x}<br>right_for=%{y}<extra></extra>",
         "legendgroup": "Guingamp",
         "line": {
          "color": "rgb(189,189,189)",
          "dash": "solid"
         },
         "marker": {
          "symbol": "circle"
         },
         "mode": "lines+markers",
         "name": "Guingamp",
         "opacity": 0.4,
         "showlegend": true,
         "type": "scattergl",
         "x": [
          2013,
          2014,
          2015,
          2016,
          2017,
          2018
         ],
         "xaxis": "x",
         "y": [
          0.17,
          0.19,
          0.15,
          0.15,
          0.18,
          0.19
         ],
         "yaxis": "y"
        },
        {
         "hovertemplate": "team=Nantes<br>season=%{x}<br>right_for=%{y}<extra></extra>",
         "legendgroup": "Nantes",
         "line": {
          "color": "rgb(189,189,189)",
          "dash": "solid"
         },
         "marker": {
          "symbol": "circle"
         },
         "mode": "lines+markers",
         "name": "Nantes",
         "opacity": 0.4,
         "showlegend": true,
         "type": "scattergl",
         "x": [
          2013,
          2014,
          2015,
          2016,
          2017,
          2018,
          2019,
          2020,
          2021
         ],
         "xaxis": "x",
         "y": [
          0.19,
          0.21,
          0.15,
          0.19,
          0.15,
          0.16,
          0.14,
          0.15,
          0.16
         ],
         "yaxis": "y"
        },
        {
         "hovertemplate": "team=Metz<br>season=%{x}<br>right_for=%{y}<extra></extra>",
         "legendgroup": "Metz",
         "line": {
          "color": "rgb(189,189,189)",
          "dash": "solid"
         },
         "marker": {
          "symbol": "circle"
         },
         "mode": "lines+markers",
         "name": "Metz",
         "opacity": 0.4,
         "showlegend": true,
         "type": "scattergl",
         "x": [
          2014,
          2016,
          2017,
          2019,
          2020,
          2021
         ],
         "xaxis": "x",
         "y": [
          0.16,
          0.16,
          0.16,
          0.18,
          0.21,
          0.2
         ],
         "yaxis": "y"
        },
        {
         "hovertemplate": "team=Angers<br>season=%{x}<br>right_for=%{y}<extra></extra>",
         "legendgroup": "Angers",
         "line": {
          "color": "rgb(189,189,189)",
          "dash": "solid"
         },
         "marker": {
          "symbol": "circle"
         },
         "mode": "lines+markers",
         "name": "Angers",
         "opacity": 0.4,
         "showlegend": true,
         "type": "scattergl",
         "x": [
          2015,
          2016,
          2017,
          2018,
          2019,
          2020,
          2021
         ],
         "xaxis": "x",
         "y": [
          0.16,
          0.15,
          0.18,
          0.14,
          0.18,
          0.19,
          0.15
         ],
         "yaxis": "y"
        },
        {
         "hovertemplate": "team=GFC Ajaccio<br>season=%{x}<br>right_for=%{y}<extra></extra>",
         "legendgroup": "GFC Ajaccio",
         "line": {
          "color": "rgb(189,189,189)",
          "dash": "solid"
         },
         "marker": {
          "symbol": "circle"
         },
         "mode": "lines+markers",
         "name": "GFC Ajaccio",
         "opacity": 0.4,
         "showlegend": true,
         "type": "scattergl",
         "x": [
          2015
         ],
         "xaxis": "x",
         "y": [
          0.16
         ],
         "yaxis": "y"
        },
        {
         "hovertemplate": "team=Amiens<br>season=%{x}<br>right_for=%{y}<extra></extra>",
         "legendgroup": "Amiens",
         "line": {
          "color": "rgb(189,189,189)",
          "dash": "solid"
         },
         "marker": {
          "symbol": "circle"
         },
         "mode": "lines+markers",
         "name": "Amiens",
         "opacity": 0.4,
         "showlegend": true,
         "type": "scattergl",
         "x": [
          2017,
          2018,
          2019
         ],
         "xaxis": "x",
         "y": [
          0.2,
          0.19,
          0.17
         ],
         "yaxis": "y"
        },
        {
         "hovertemplate": "team=Strasbourg<br>season=%{x}<br>right_for=%{y}<extra></extra>",
         "legendgroup": "Strasbourg",
         "line": {
          "color": "rgb(189,189,189)",
          "dash": "solid"
         },
         "marker": {
          "symbol": "circle"
         },
         "mode": "lines+markers",
         "name": "Strasbourg",
         "opacity": 0.4,
         "showlegend": true,
         "type": "scattergl",
         "x": [
          2017,
          2018,
          2019,
          2020,
          2021
         ],
         "xaxis": "x",
         "y": [
          0.18,
          0.18,
          0.17,
          0.14,
          0.11
         ],
         "yaxis": "y"
        },
        {
         "hovertemplate": "team=Nimes<br>season=%{x}<br>right_for=%{y}<extra></extra>",
         "legendgroup": "Nimes",
         "line": {
          "color": "rgb(189,189,189)",
          "dash": "solid"
         },
         "marker": {
          "symbol": "circle"
         },
         "mode": "lines+markers",
         "name": "Nimes",
         "opacity": 0.4,
         "showlegend": true,
         "type": "scattergl",
         "x": [
          2018,
          2019,
          2020
         ],
         "xaxis": "x",
         "y": [
          0.21,
          0.17,
          0.18
         ],
         "yaxis": "y"
        },
        {
         "hovertemplate": "team=Clermont Foot<br>season=%{x}<br>right_for=%{y}<extra></extra>",
         "legendgroup": "Clermont Foot",
         "line": {
          "color": "rgb(189,189,189)",
          "dash": "solid"
         },
         "marker": {
          "symbol": "circle"
         },
         "mode": "lines+markers",
         "name": "Clermont Foot",
         "opacity": 0.4,
         "showlegend": true,
         "type": "scattergl",
         "x": [
          2021
         ],
         "xaxis": "x",
         "y": [
          0.2
         ],
         "yaxis": "y"
        },
        {
         "hovertemplate": "team=Chievo<br>season=%{x}<br>right_for=%{y}<extra></extra>",
         "legendgroup": "Chievo",
         "line": {
          "color": "rgb(189,189,189)",
          "dash": "solid"
         },
         "marker": {
          "symbol": "circle"
         },
         "mode": "lines+markers",
         "name": "Chievo",
         "opacity": 0.4,
         "showlegend": true,
         "type": "scattergl",
         "x": [
          2009,
          2010,
          2011,
          2012,
          2013,
          2014,
          2015,
          2016,
          2017,
          2018
         ],
         "xaxis": "x",
         "y": [
          0.14,
          0.19,
          0.15,
          0.17,
          0.19,
          0.17,
          0.19,
          0.17,
          0.15,
          0.18
         ],
         "yaxis": "y"
        },
        {
         "hovertemplate": "team=Lazio<br>season=%{x}<br>right_for=%{y}<extra></extra>",
         "legendgroup": "Lazio",
         "line": {
          "color": "rgb(189,189,189)",
          "dash": "solid"
         },
         "marker": {
          "symbol": "circle"
         },
         "mode": "lines+markers",
         "name": "Lazio",
         "opacity": 0.4,
         "showlegend": true,
         "type": "scattergl",
         "x": [
          2009,
          2010,
          2011,
          2012,
          2013,
          2014,
          2015,
          2016,
          2017,
          2018,
          2019,
          2020,
          2021
         ],
         "xaxis": "x",
         "y": [
          0.2,
          0.19,
          0.14,
          0.21,
          0.21,
          0.23,
          0.19,
          0.18,
          0.18,
          0.16,
          0.13,
          0.11,
          0.14
         ],
         "yaxis": "y"
        },
        {
         "hovertemplate": "team=AC Milan<br>season=%{x}<br>right_for=%{y}<extra></extra>",
         "legendgroup": "AC Milan",
         "line": {
          "color": "rgb(189,189,189)",
          "dash": "solid"
         },
         "marker": {
          "symbol": "circle"
         },
         "mode": "lines+markers",
         "name": "AC Milan",
         "opacity": 0.4,
         "showlegend": true,
         "type": "scattergl",
         "x": [
          2009,
          2010,
          2011,
          2012,
          2013,
          2014,
          2015,
          2016,
          2017,
          2018,
          2019,
          2020,
          2021
         ],
         "xaxis": "x",
         "y": [
          0.14,
          0.18,
          0.14,
          0.18,
          0.18,
          0.25,
          0.19,
          0.19,
          0.25,
          0.25,
          0.17,
          0.11,
          0.14
         ],
         "yaxis": "y"
        },
        {
         "hovertemplate": "team=Roma<br>season=%{x}<br>right_for=%{y}<extra></extra>",
         "legendgroup": "Roma",
         "line": {
          "color": "rgb(189,189,189)",
          "dash": "solid"
         },
         "marker": {
          "symbol": "circle"
         },
         "mode": "lines+markers",
         "name": "Roma",
         "opacity": 0.4,
         "showlegend": true,
         "type": "scattergl",
         "x": [
          2009,
          2010,
          2011,
          2012,
          2013,
          2014,
          2015,
          2016,
          2017,
          2018,
          2019,
          2020,
          2021
         ],
         "xaxis": "x",
         "y": [
          0.18,
          0.15,
          0.19,
          0.16,
          0.22,
          0.27,
          0.22,
          0.16,
          0.17,
          0.18,
          0.15,
          0.12,
          0.15
         ],
         "yaxis": "y"
        },
        {
         "hovertemplate": "team=Sampdoria<br>season=%{x}<br>right_for=%{y}<extra></extra>",
         "legendgroup": "Sampdoria",
         "line": {
          "color": "rgb(189,189,189)",
          "dash": "solid"
         },
         "marker": {
          "symbol": "circle"
         },
         "mode": "lines+markers",
         "name": "Sampdoria",
         "opacity": 0.4,
         "showlegend": true,
         "type": "scattergl",
         "x": [
          2009,
          2010,
          2012,
          2013,
          2014,
          2015,
          2016,
          2017,
          2018,
          2019,
          2020,
          2021
         ],
         "xaxis": "x",
         "y": [
          0.16,
          0.17,
          0.17,
          0.24,
          0.22,
          0.2,
          0.2,
          0.17,
          0.16,
          0.16,
          0.2,
          0.21
         ],
         "yaxis": "y"
        },
        {
         "hovertemplate": "team=Robur Siena<br>season=%{x}<br>right_for=%{y}<extra></extra>",
         "legendgroup": "Robur Siena",
         "line": {
          "color": "rgb(189,189,189)",
          "dash": "solid"
         },
         "marker": {
          "symbol": "circle"
         },
         "mode": "lines+markers",
         "name": "Robur Siena",
         "opacity": 0.4,
         "showlegend": true,
         "type": "scattergl",
         "x": [
          2009,
          2011,
          2012
         ],
         "xaxis": "x",
         "y": [
          0.17,
          0.19,
          0.16
         ],
         "yaxis": "y"
        },
        {
         "hovertemplate": "team=Palermo FC<br>season=%{x}<br>right_for=%{y}<extra></extra>",
         "legendgroup": "Palermo FC",
         "line": {
          "color": "rgb(189,189,189)",
          "dash": "solid"
         },
         "marker": {
          "symbol": "circle"
         },
         "mode": "lines+markers",
         "name": "Palermo FC",
         "opacity": 0.4,
         "showlegend": true,
         "type": "scattergl",
         "x": [
          2009,
          2010,
          2011,
          2012,
          2014,
          2015,
          2016
         ],
         "xaxis": "x",
         "y": [
          0.21,
          0.19,
          0.17,
          0.18,
          0.15,
          0.19,
          0.18
         ],
         "yaxis": "y"
        },
        {
         "hovertemplate": "team=Fiorentina<br>season=%{x}<br>right_for=%{y}<extra></extra>",
         "legendgroup": "Fiorentina",
         "line": {
          "color": "rgb(189,189,189)",
          "dash": "solid"
         },
         "marker": {
          "symbol": "circle"
         },
         "mode": "lines+markers",
         "name": "Fiorentina",
         "opacity": 0.4,
         "showlegend": true,
         "type": "scattergl",
         "x": [
          2009,
          2010,
          2011,
          2012,
          2013,
          2014,
          2015,
          2016,
          2017,
          2018,
          2019,
          2020,
          2021
         ],
         "xaxis": "x",
         "y": [
          0.16,
          0.17,
          0.14,
          0.16,
          0.21,
          0.18,
          0.21,
          0.25,
          0.2,
          0.19,
          0.18,
          0.14,
          0.17
         ],
         "yaxis": "y"
        },
        {
         "hovertemplate": "team=Udinese<br>season=%{x}<br>right_for=%{y}<extra></extra>",
         "legendgroup": "Udinese",
         "line": {
          "color": "rgb(189,189,189)",
          "dash": "solid"
         },
         "marker": {
          "symbol": "circle"
         },
         "mode": "lines+markers",
         "name": "Udinese",
         "opacity": 0.4,
         "showlegend": true,
         "type": "scattergl",
         "x": [
          2009,
          2010,
          2011,
          2012,
          2013,
          2014,
          2015,
          2016,
          2017,
          2018,
          2019,
          2020,
          2021
         ],
         "xaxis": "x",
         "y": [
          0.2,
          0.26,
          0.22,
          0.18,
          0.17,
          0.19,
          0.17,
          0.16,
          0.17,
          0.17,
          0.15,
          0.16,
          0.15
         ],
         "yaxis": "y"
        },
        {
         "hovertemplate": "team=Juventus<br>season=%{x}<br>right_for=%{y}<extra></extra>",
         "legendgroup": "Juventus",
         "line": {
          "color": "rgb(189,189,189)",
          "dash": "solid"
         },
         "marker": {
          "symbol": "circle"
         },
         "mode": "lines+markers",
         "name": "Juventus",
         "opacity": 0.4,
         "showlegend": true,
         "type": "scattergl",
         "x": [
          2009,
          2010,
          2011,
          2012,
          2013,
          2014,
          2015,
          2016,
          2017,
          2018,
          2019,
          2020,
          2021
         ],
         "xaxis": "x",
         "y": [
          0.14,
          0.14,
          0.15,
          0.16,
          0.16,
          0.14,
          0.17,
          0.16,
          0.19,
          0.15,
          0.2,
          0.16,
          0.16
         ],
         "yaxis": "y"
        },
        {
         "hovertemplate": "team=Livorno<br>season=%{x}<br>right_for=%{y}<extra></extra>",
         "legendgroup": "Livorno",
         "line": {
          "color": "rgb(189,189,189)",
          "dash": "solid"
         },
         "marker": {
          "symbol": "circle"
         },
         "mode": "lines+markers",
         "name": "Livorno",
         "opacity": 0.4,
         "showlegend": true,
         "type": "scattergl",
         "x": [
          2009,
          2013
         ],
         "xaxis": "x",
         "y": [
          0.25,
          0.21
         ],
         "yaxis": "y"
        },
        {
         "hovertemplate": "team=Bari<br>season=%{x}<br>right_for=%{y}<extra></extra>",
         "legendgroup": "Bari",
         "line": {
          "color": "rgb(189,189,189)",
          "dash": "solid"
         },
         "marker": {
          "symbol": "circle"
         },
         "mode": "lines+markers",
         "name": "Bari",
         "opacity": 0.4,
         "showlegend": true,
         "type": "scattergl",
         "x": [
          2009,
          2010
         ],
         "xaxis": "x",
         "y": [
          0.24,
          0.22
         ],
         "yaxis": "y"
        },
        {
         "hovertemplate": "team=Cagliari<br>season=%{x}<br>right_for=%{y}<extra></extra>",
         "legendgroup": "Cagliari",
         "line": {
          "color": "rgb(189,189,189)",
          "dash": "solid"
         },
         "marker": {
          "symbol": "circle"
         },
         "mode": "lines+markers",
         "name": "Cagliari",
         "opacity": 0.4,
         "showlegend": true,
         "type": "scattergl",
         "x": [
          2009,
          2010,
          2011,
          2012,
          2013,
          2014,
          2016,
          2017,
          2018,
          2019,
          2020,
          2021
         ],
         "xaxis": "x",
         "y": [
          0.15,
          0.14,
          0.19,
          0.21,
          0.15,
          0.16,
          0.13,
          0.15,
          0.13,
          0.22,
          0.16,
          0.12
         ],
         "yaxis": "y"
        },
        {
         "hovertemplate": "team=Parma Calcio 1913<br>season=%{x}<br>right_for=%{y}<extra></extra>",
         "legendgroup": "Parma Calcio 1913",
         "line": {
          "color": "rgb(189,189,189)",
          "dash": "solid"
         },
         "marker": {
          "symbol": "circle"
         },
         "mode": "lines+markers",
         "name": "Parma Calcio 1913",
         "opacity": 0.4,
         "showlegend": true,
         "type": "scattergl",
         "x": [
          2009,
          2010,
          2011,
          2012,
          2013,
          2014,
          2018,
          2019,
          2020
         ],
         "xaxis": "x",
         "y": [
          0.17,
          0.19,
          0.19,
          0.16,
          0.13,
          0.2,
          0.13,
          0.2,
          0.13
         ],
         "yaxis": "y"
        },
        {
         "hovertemplate": "team=Genoa<br>season=%{x}<br>right_for=%{y}<extra></extra>",
         "legendgroup": "Genoa",
         "line": {
          "color": "rgb(189,189,189)",
          "dash": "solid"
         },
         "marker": {
          "symbol": "circle"
         },
         "mode": "lines+markers",
         "name": "Genoa",
         "opacity": 0.4,
         "showlegend": true,
         "type": "scattergl",
         "x": [
          2009,
          2010,
          2011,
          2012,
          2013,
          2014,
          2015,
          2016,
          2017,
          2018,
          2019,
          2020,
          2021
         ],
         "xaxis": "x",
         "y": [
          0.18,
          0.18,
          0.18,
          0.19,
          0.12,
          0.22,
          0.19,
          0.17,
          0.14,
          0.15,
          0.16,
          0.18,
          0.15
         ],
         "yaxis": "y"
        },
        {
         "hovertemplate": "team=Inter<br>season=%{x}<br>right_for=%{y}<extra></extra>",
         "legendgroup": "Inter",
         "line": {
          "color": "rgb(189,189,189)",
          "dash": "solid"
         },
         "marker": {
          "symbol": "circle"
         },
         "mode": "lines+markers",
         "name": "Inter",
         "opacity": 0.4,
         "showlegend": true,
         "type": "scattergl",
         "x": [
          2009,
          2010,
          2011,
          2012,
          2013,
          2014,
          2015,
          2016,
          2017,
          2018,
          2019,
          2020,
          2021
         ],
         "xaxis": "x",
         "y": [
          0.2,
          0.17,
          0.18,
          0.19,
          0.2,
          0.16,
          0.13,
          0.16,
          0.19,
          0.14,
          0.16,
          0.1,
          0.14
         ],
         "yaxis": "y"
        },
        {
         "hovertemplate": "team=Napoli<br>season=%{x}<br>right_for=%{y}<extra></extra>",
         "legendgroup": "Napoli",
         "line": {
          "color": "rgb(189,189,189)",
          "dash": "solid"
         },
         "marker": {
          "symbol": "circle"
         },
         "mode": "lines+markers",
         "name": "Napoli",
         "opacity": 0.4,
         "showlegend": true,
         "type": "scattergl",
         "x": [
          2009,
          2010,
          2011,
          2012,
          2013,
          2014,
          2015,
          2016,
          2017,
          2018,
          2019,
          2020,
          2021
         ],
         "xaxis": "x",
         "y": [
          0.21,
          0.21,
          0.2,
          0.15,
          0.17,
          0.16,
          0.16,
          0.14,
          0.12,
          0.18,
          0.15,
          0.17,
          0.18
         ],
         "yaxis": "y"
        },
        {
         "hovertemplate": "team=Catania<br>season=%{x}<br>right_for=%{y}<extra></extra>",
         "legendgroup": "Catania",
         "line": {
          "color": "rgb(189,189,189)",
          "dash": "solid"
         },
         "marker": {
          "symbol": "circle"
         },
         "mode": "lines+markers",
         "name": "Catania",
         "opacity": 0.4,
         "showlegend": true,
         "type": "scattergl",
         "x": [
          2009,
          2010,
          2011,
          2012,
          2013
         ],
         "xaxis": "x",
         "y": [
          0.15,
          0.17,
          0.17,
          0.13,
          0.18
         ],
         "yaxis": "y"
        },
        {
         "hovertemplate": "team=Bologna<br>season=%{x}<br>right_for=%{y}<extra></extra>",
         "legendgroup": "Bologna",
         "line": {
          "color": "rgb(189,189,189)",
          "dash": "solid"
         },
         "marker": {
          "symbol": "circle"
         },
         "mode": "lines+markers",
         "name": "Bologna",
         "opacity": 0.4,
         "showlegend": true,
         "type": "scattergl",
         "x": [
          2009,
          2010,
          2011,
          2012,
          2013,
          2015,
          2016,
          2017,
          2018,
          2019,
          2020,
          2021
         ],
         "xaxis": "x",
         "y": [
          0.2,
          0.18,
          0.24,
          0.2,
          0.22,
          0.18,
          0.17,
          0.15,
          0.17,
          0.2,
          0.16,
          0.15
         ],
         "yaxis": "y"
        },
        {
         "hovertemplate": "team=Atalanta<br>season=%{x}<br>right_for=%{y}<extra></extra>",
         "legendgroup": "Atalanta",
         "line": {
          "color": "rgb(189,189,189)",
          "dash": "solid"
         },
         "marker": {
          "symbol": "circle"
         },
         "mode": "lines+markers",
         "name": "Atalanta",
         "opacity": 0.4,
         "showlegend": true,
         "type": "scattergl",
         "x": [
          2009,
          2011,
          2012,
          2013,
          2014,
          2015,
          2016,
          2017,
          2018,
          2019,
          2020,
          2021
         ],
         "xaxis": "x",
         "y": [
          0.19,
          0.17,
          0.13,
          0.15,
          0.18,
          0.15,
          0.18,
          0.16,
          0.2,
          0.17,
          0.16,
          0.16
         ],
         "yaxis": "y"
        },
        {
         "hovertemplate": "team=Cesena<br>season=%{x}<br>right_for=%{y}<extra></extra>",
         "legendgroup": "Cesena",
         "line": {
          "color": "rgb(189,189,189)",
          "dash": "solid"
         },
         "marker": {
          "symbol": "circle"
         },
         "mode": "lines+markers",
         "name": "Cesena",
         "opacity": 0.4,
         "showlegend": true,
         "type": "scattergl",
         "x": [
          2010,
          2011,
          2014
         ],
         "xaxis": "x",
         "y": [
          0.21,
          0.2,
          0.21
         ],
         "yaxis": "y"
        },
        {
         "hovertemplate": "team=Brescia<br>season=%{x}<br>right_for=%{y}<extra></extra>",
         "legendgroup": "Brescia",
         "line": {
          "color": "rgb(189,189,189)",
          "dash": "solid"
         },
         "marker": {
          "symbol": "circle"
         },
         "mode": "lines+markers",
         "name": "Brescia",
         "opacity": 0.4,
         "showlegend": true,
         "type": "scattergl",
         "x": [
          2010,
          2019
         ],
         "xaxis": "x",
         "y": [
          0.21,
          0.15
         ],
         "yaxis": "y"
        },
        {
         "hovertemplate": "team=Lecce<br>season=%{x}<br>right_for=%{y}<extra></extra>",
         "legendgroup": "Lecce",
         "line": {
          "color": "rgb(189,189,189)",
          "dash": "solid"
         },
         "marker": {
          "symbol": "circle"
         },
         "mode": "lines+markers",
         "name": "Lecce",
         "opacity": 0.4,
         "showlegend": true,
         "type": "scattergl",
         "x": [
          2010,
          2011,
          2019
         ],
         "xaxis": "x",
         "y": [
          0.13,
          0.19,
          0.13
         ],
         "yaxis": "y"
        },
        {
         "hovertemplate": "team=Novara<br>season=%{x}<br>right_for=%{y}<extra></extra>",
         "legendgroup": "Novara",
         "line": {
          "color": "rgb(189,189,189)",
          "dash": "solid"
         },
         "marker": {
          "symbol": "circle"
         },
         "mode": "lines+markers",
         "name": "Novara",
         "opacity": 0.4,
         "showlegend": true,
         "type": "scattergl",
         "x": [
          2011
         ],
         "xaxis": "x",
         "y": [
          0.17
         ],
         "yaxis": "y"
        },
        {
         "hovertemplate": "team=Pescara<br>season=%{x}<br>right_for=%{y}<extra></extra>",
         "legendgroup": "Pescara",
         "line": {
          "color": "rgb(189,189,189)",
          "dash": "solid"
         },
         "marker": {
          "symbol": "circle"
         },
         "mode": "lines+markers",
         "name": "Pescara",
         "opacity": 0.4,
         "showlegend": true,
         "type": "scattergl",
         "x": [
          2012,
          2016
         ],
         "xaxis": "x",
         "y": [
          0.17,
          0.17
         ],
         "yaxis": "y"
        },
        {
         "hovertemplate": "team=Torino<br>season=%{x}<br>right_for=%{y}<extra></extra>",
         "legendgroup": "Torino",
         "line": {
          "color": "rgb(189,189,189)",
          "dash": "solid"
         },
         "marker": {
          "symbol": "circle"
         },
         "mode": "lines+markers",
         "name": "Torino",
         "opacity": 0.4,
         "showlegend": true,
         "type": "scattergl",
         "x": [
          2012,
          2013,
          2014,
          2015,
          2016,
          2017,
          2018,
          2019,
          2020,
          2021
         ],
         "xaxis": "x",
         "y": [
          0.25,
          0.26,
          0.21,
          0.24,
          0.2,
          0.15,
          0.15,
          0.17,
          0.14,
          0.14
         ],
         "yaxis": "y"
        },
        {
         "hovertemplate": "team=Sassuolo<br>season=%{x}<br>right_for=%{y}<extra></extra>",
         "legendgroup": "Sassuolo",
         "line": {
          "color": "rgb(189,189,189)",
          "dash": "solid"
         },
         "marker": {
          "symbol": "circle"
         },
         "mode": "lines+markers",
         "name": "Sassuolo",
         "opacity": 0.4,
         "showlegend": true,
         "type": "scattergl",
         "x": [
          2013,
          2014,
          2015,
          2016,
          2017,
          2018,
          2019,
          2020,
          2021
         ],
         "xaxis": "x",
         "y": [
          0.2,
          0.18,
          0.17,
          0.21,
          0.19,
          0.23,
          0.2,
          0.17,
          0.17
         ],
         "yaxis": "y"
        },
        {
         "hovertemplate": "team=Verona<br>season=%{x}<br>right_for=%{y}<extra></extra>",
         "legendgroup": "Verona",
         "line": {
          "color": "rgb(189,189,189)",
          "dash": "solid"
         },
         "marker": {
          "symbol": "circle"
         },
         "mode": "lines+markers",
         "name": "Verona",
         "opacity": 0.4,
         "showlegend": true,
         "type": "scattergl",
         "x": [
          2013,
          2014,
          2015,
          2017,
          2019,
          2020,
          2021
         ],
         "xaxis": "x",
         "y": [
          0.15,
          0.17,
          0.13,
          0.22,
          0.19,
          0.12,
          0.16
         ],
         "yaxis": "y"
        },
        {
         "hovertemplate": "team=Empoli<br>season=%{x}<br>right_for=%{y}<extra></extra>",
         "legendgroup": "Empoli",
         "line": {
          "color": "rgb(189,189,189)",
          "dash": "solid"
         },
         "marker": {
          "symbol": "circle"
         },
         "mode": "lines+markers",
         "name": "Empoli",
         "opacity": 0.4,
         "showlegend": true,
         "type": "scattergl",
         "x": [
          2014,
          2015,
          2016,
          2018,
          2021
         ],
         "xaxis": "x",
         "y": [
          0.17,
          0.16,
          0.15,
          0.18,
          0.16
         ],
         "yaxis": "y"
        },
        {
         "hovertemplate": "team=Frosinone<br>season=%{x}<br>right_for=%{y}<extra></extra>",
         "legendgroup": "Frosinone",
         "line": {
          "color": "rgb(189,189,189)",
          "dash": "solid"
         },
         "marker": {
          "symbol": "circle"
         },
         "mode": "lines+markers",
         "name": "Frosinone",
         "opacity": 0.4,
         "showlegend": true,
         "type": "scattergl",
         "x": [
          2015,
          2018
         ],
         "xaxis": "x",
         "y": [
          0.18,
          0.19
         ],
         "yaxis": "y"
        },
        {
         "hovertemplate": "team=Carpi<br>season=%{x}<br>right_for=%{y}<extra></extra>",
         "legendgroup": "Carpi",
         "line": {
          "color": "rgb(189,189,189)",
          "dash": "solid"
         },
         "marker": {
          "symbol": "circle"
         },
         "mode": "lines+markers",
         "name": "Carpi",
         "opacity": 0.4,
         "showlegend": true,
         "type": "scattergl",
         "x": [
          2015
         ],
         "xaxis": "x",
         "y": [
          0.16
         ],
         "yaxis": "y"
        },
        {
         "hovertemplate": "team=Crotone<br>season=%{x}<br>right_for=%{y}<extra></extra>",
         "legendgroup": "Crotone",
         "line": {
          "color": "rgb(189,189,189)",
          "dash": "solid"
         },
         "marker": {
          "symbol": "circle"
         },
         "mode": "lines+markers",
         "name": "Crotone",
         "opacity": 0.4,
         "showlegend": true,
         "type": "scattergl",
         "x": [
          2016,
          2017,
          2020
         ],
         "xaxis": "x",
         "y": [
          0.16,
          0.19,
          0.18
         ],
         "yaxis": "y"
        },
        {
         "hovertemplate": "team=Benevento<br>season=%{x}<br>right_for=%{y}<extra></extra>",
         "legendgroup": "Benevento",
         "line": {
          "color": "rgb(189,189,189)",
          "dash": "solid"
         },
         "marker": {
          "symbol": "circle"
         },
         "mode": "lines+markers",
         "name": "Benevento",
         "opacity": 0.4,
         "showlegend": true,
         "type": "scattergl",
         "x": [
          2017,
          2020
         ],
         "xaxis": "x",
         "y": [
          0.21,
          0.17
         ],
         "yaxis": "y"
        },
        {
         "hovertemplate": "team=SPAL 2013<br>season=%{x}<br>right_for=%{y}<extra></extra>",
         "legendgroup": "SPAL 2013",
         "line": {
          "color": "rgb(189,189,189)",
          "dash": "solid"
         },
         "marker": {
          "symbol": "circle"
         },
         "mode": "lines+markers",
         "name": "SPAL 2013",
         "opacity": 0.4,
         "showlegend": true,
         "type": "scattergl",
         "x": [
          2017,
          2018,
          2019
         ],
         "xaxis": "x",
         "y": [
          0.18,
          0.16,
          0.15
         ],
         "yaxis": "y"
        },
        {
         "hovertemplate": "team=Spezia<br>season=%{x}<br>right_for=%{y}<extra></extra>",
         "legendgroup": "Spezia",
         "line": {
          "color": "rgb(189,189,189)",
          "dash": "solid"
         },
         "marker": {
          "symbol": "circle"
         },
         "mode": "lines+markers",
         "name": "Spezia",
         "opacity": 0.4,
         "showlegend": true,
         "type": "scattergl",
         "x": [
          2020,
          2021
         ],
         "xaxis": "x",
         "y": [
          0.16,
          0.2
         ],
         "yaxis": "y"
        },
        {
         "hovertemplate": "team=Venezia<br>season=%{x}<br>right_for=%{y}<extra></extra>",
         "legendgroup": "Venezia",
         "line": {
          "color": "rgb(189,189,189)",
          "dash": "solid"
         },
         "marker": {
          "symbol": "circle"
         },
         "mode": "lines+markers",
         "name": "Venezia",
         "opacity": 0.4,
         "showlegend": true,
         "type": "scattergl",
         "x": [
          2021
         ],
         "xaxis": "x",
         "y": [
          0.17
         ],
         "yaxis": "y"
        },
        {
         "hovertemplate": "team=Salernitana<br>season=%{x}<br>right_for=%{y}<extra></extra>",
         "legendgroup": "Salernitana",
         "line": {
          "color": "rgb(189,189,189)",
          "dash": "solid"
         },
         "marker": {
          "symbol": "circle"
         },
         "mode": "lines+markers",
         "name": "Salernitana",
         "opacity": 0.4,
         "showlegend": true,
         "type": "scattergl",
         "x": [
          2021
         ],
         "xaxis": "x",
         "y": [
          0.13
         ],
         "yaxis": "y"
        },
        {
         "line": {
          "color": "rgb(49,130,189)",
          "width": 4
         },
         "name": "Average",
         "type": "scatter",
         "x": [
          2009,
          2010,
          2011,
          2012,
          2013,
          2014,
          2015,
          2016,
          2017,
          2018,
          2019,
          2020,
          2021
         ],
         "y": [
          0.18295918367346944,
          0.18183673469387765,
          0.1795918367346939,
          0.1796938775510204,
          0.18428571428571436,
          0.17765306122448987,
          0.17571428571428577,
          0.17000000000000007,
          0.16591836734693877,
          0.16418367346938784,
          0.1605102040816327,
          0.1518367346938776,
          0.15928571428571436
         ]
        }
       ],
       "layout": {
        "legend": {
         "title": {
          "text": "team"
         },
         "tracegroupgap": 0
        },
        "showlegend": false,
        "template": {
         "data": {
          "bar": [
           {
            "error_x": {
             "color": "rgb(36,36,36)"
            },
            "error_y": {
             "color": "rgb(36,36,36)"
            },
            "marker": {
             "line": {
              "color": "white",
              "width": 0.5
             },
             "pattern": {
              "fillmode": "overlay",
              "size": 10,
              "solidity": 0.2
             }
            },
            "type": "bar"
           }
          ],
          "barpolar": [
           {
            "marker": {
             "line": {
              "color": "white",
              "width": 0.5
             },
             "pattern": {
              "fillmode": "overlay",
              "size": 10,
              "solidity": 0.2
             }
            },
            "type": "barpolar"
           }
          ],
          "carpet": [
           {
            "aaxis": {
             "endlinecolor": "rgb(36,36,36)",
             "gridcolor": "white",
             "linecolor": "white",
             "minorgridcolor": "white",
             "startlinecolor": "rgb(36,36,36)"
            },
            "baxis": {
             "endlinecolor": "rgb(36,36,36)",
             "gridcolor": "white",
             "linecolor": "white",
             "minorgridcolor": "white",
             "startlinecolor": "rgb(36,36,36)"
            },
            "type": "carpet"
           }
          ],
          "choropleth": [
           {
            "colorbar": {
             "outlinewidth": 1,
             "tickcolor": "rgb(36,36,36)",
             "ticks": "outside"
            },
            "type": "choropleth"
           }
          ],
          "contour": [
           {
            "colorbar": {
             "outlinewidth": 1,
             "tickcolor": "rgb(36,36,36)",
             "ticks": "outside"
            },
            "colorscale": [
             [
              0,
              "#440154"
             ],
             [
              0.1111111111111111,
              "#482878"
             ],
             [
              0.2222222222222222,
              "#3e4989"
             ],
             [
              0.3333333333333333,
              "#31688e"
             ],
             [
              0.4444444444444444,
              "#26828e"
             ],
             [
              0.5555555555555556,
              "#1f9e89"
             ],
             [
              0.6666666666666666,
              "#35b779"
             ],
             [
              0.7777777777777778,
              "#6ece58"
             ],
             [
              0.8888888888888888,
              "#b5de2b"
             ],
             [
              1,
              "#fde725"
             ]
            ],
            "type": "contour"
           }
          ],
          "contourcarpet": [
           {
            "colorbar": {
             "outlinewidth": 1,
             "tickcolor": "rgb(36,36,36)",
             "ticks": "outside"
            },
            "type": "contourcarpet"
           }
          ],
          "heatmap": [
           {
            "colorbar": {
             "outlinewidth": 1,
             "tickcolor": "rgb(36,36,36)",
             "ticks": "outside"
            },
            "colorscale": [
             [
              0,
              "#440154"
             ],
             [
              0.1111111111111111,
              "#482878"
             ],
             [
              0.2222222222222222,
              "#3e4989"
             ],
             [
              0.3333333333333333,
              "#31688e"
             ],
             [
              0.4444444444444444,
              "#26828e"
             ],
             [
              0.5555555555555556,
              "#1f9e89"
             ],
             [
              0.6666666666666666,
              "#35b779"
             ],
             [
              0.7777777777777778,
              "#6ece58"
             ],
             [
              0.8888888888888888,
              "#b5de2b"
             ],
             [
              1,
              "#fde725"
             ]
            ],
            "type": "heatmap"
           }
          ],
          "heatmapgl": [
           {
            "colorbar": {
             "outlinewidth": 1,
             "tickcolor": "rgb(36,36,36)",
             "ticks": "outside"
            },
            "colorscale": [
             [
              0,
              "#440154"
             ],
             [
              0.1111111111111111,
              "#482878"
             ],
             [
              0.2222222222222222,
              "#3e4989"
             ],
             [
              0.3333333333333333,
              "#31688e"
             ],
             [
              0.4444444444444444,
              "#26828e"
             ],
             [
              0.5555555555555556,
              "#1f9e89"
             ],
             [
              0.6666666666666666,
              "#35b779"
             ],
             [
              0.7777777777777778,
              "#6ece58"
             ],
             [
              0.8888888888888888,
              "#b5de2b"
             ],
             [
              1,
              "#fde725"
             ]
            ],
            "type": "heatmapgl"
           }
          ],
          "histogram": [
           {
            "marker": {
             "line": {
              "color": "white",
              "width": 0.6
             }
            },
            "type": "histogram"
           }
          ],
          "histogram2d": [
           {
            "colorbar": {
             "outlinewidth": 1,
             "tickcolor": "rgb(36,36,36)",
             "ticks": "outside"
            },
            "colorscale": [
             [
              0,
              "#440154"
             ],
             [
              0.1111111111111111,
              "#482878"
             ],
             [
              0.2222222222222222,
              "#3e4989"
             ],
             [
              0.3333333333333333,
              "#31688e"
             ],
             [
              0.4444444444444444,
              "#26828e"
             ],
             [
              0.5555555555555556,
              "#1f9e89"
             ],
             [
              0.6666666666666666,
              "#35b779"
             ],
             [
              0.7777777777777778,
              "#6ece58"
             ],
             [
              0.8888888888888888,
              "#b5de2b"
             ],
             [
              1,
              "#fde725"
             ]
            ],
            "type": "histogram2d"
           }
          ],
          "histogram2dcontour": [
           {
            "colorbar": {
             "outlinewidth": 1,
             "tickcolor": "rgb(36,36,36)",
             "ticks": "outside"
            },
            "colorscale": [
             [
              0,
              "#440154"
             ],
             [
              0.1111111111111111,
              "#482878"
             ],
             [
              0.2222222222222222,
              "#3e4989"
             ],
             [
              0.3333333333333333,
              "#31688e"
             ],
             [
              0.4444444444444444,
              "#26828e"
             ],
             [
              0.5555555555555556,
              "#1f9e89"
             ],
             [
              0.6666666666666666,
              "#35b779"
             ],
             [
              0.7777777777777778,
              "#6ece58"
             ],
             [
              0.8888888888888888,
              "#b5de2b"
             ],
             [
              1,
              "#fde725"
             ]
            ],
            "type": "histogram2dcontour"
           }
          ],
          "mesh3d": [
           {
            "colorbar": {
             "outlinewidth": 1,
             "tickcolor": "rgb(36,36,36)",
             "ticks": "outside"
            },
            "type": "mesh3d"
           }
          ],
          "parcoords": [
           {
            "line": {
             "colorbar": {
              "outlinewidth": 1,
              "tickcolor": "rgb(36,36,36)",
              "ticks": "outside"
             }
            },
            "type": "parcoords"
           }
          ],
          "pie": [
           {
            "automargin": true,
            "type": "pie"
           }
          ],
          "scatter": [
           {
            "marker": {
             "colorbar": {
              "outlinewidth": 1,
              "tickcolor": "rgb(36,36,36)",
              "ticks": "outside"
             }
            },
            "type": "scatter"
           }
          ],
          "scatter3d": [
           {
            "line": {
             "colorbar": {
              "outlinewidth": 1,
              "tickcolor": "rgb(36,36,36)",
              "ticks": "outside"
             }
            },
            "marker": {
             "colorbar": {
              "outlinewidth": 1,
              "tickcolor": "rgb(36,36,36)",
              "ticks": "outside"
             }
            },
            "type": "scatter3d"
           }
          ],
          "scattercarpet": [
           {
            "marker": {
             "colorbar": {
              "outlinewidth": 1,
              "tickcolor": "rgb(36,36,36)",
              "ticks": "outside"
             }
            },
            "type": "scattercarpet"
           }
          ],
          "scattergeo": [
           {
            "marker": {
             "colorbar": {
              "outlinewidth": 1,
              "tickcolor": "rgb(36,36,36)",
              "ticks": "outside"
             }
            },
            "type": "scattergeo"
           }
          ],
          "scattergl": [
           {
            "marker": {
             "colorbar": {
              "outlinewidth": 1,
              "tickcolor": "rgb(36,36,36)",
              "ticks": "outside"
             }
            },
            "type": "scattergl"
           }
          ],
          "scattermapbox": [
           {
            "marker": {
             "colorbar": {
              "outlinewidth": 1,
              "tickcolor": "rgb(36,36,36)",
              "ticks": "outside"
             }
            },
            "type": "scattermapbox"
           }
          ],
          "scatterpolar": [
           {
            "marker": {
             "colorbar": {
              "outlinewidth": 1,
              "tickcolor": "rgb(36,36,36)",
              "ticks": "outside"
             }
            },
            "type": "scatterpolar"
           }
          ],
          "scatterpolargl": [
           {
            "marker": {
             "colorbar": {
              "outlinewidth": 1,
              "tickcolor": "rgb(36,36,36)",
              "ticks": "outside"
             }
            },
            "type": "scatterpolargl"
           }
          ],
          "scatterternary": [
           {
            "marker": {
             "colorbar": {
              "outlinewidth": 1,
              "tickcolor": "rgb(36,36,36)",
              "ticks": "outside"
             }
            },
            "type": "scatterternary"
           }
          ],
          "surface": [
           {
            "colorbar": {
             "outlinewidth": 1,
             "tickcolor": "rgb(36,36,36)",
             "ticks": "outside"
            },
            "colorscale": [
             [
              0,
              "#440154"
             ],
             [
              0.1111111111111111,
              "#482878"
             ],
             [
              0.2222222222222222,
              "#3e4989"
             ],
             [
              0.3333333333333333,
              "#31688e"
             ],
             [
              0.4444444444444444,
              "#26828e"
             ],
             [
              0.5555555555555556,
              "#1f9e89"
             ],
             [
              0.6666666666666666,
              "#35b779"
             ],
             [
              0.7777777777777778,
              "#6ece58"
             ],
             [
              0.8888888888888888,
              "#b5de2b"
             ],
             [
              1,
              "#fde725"
             ]
            ],
            "type": "surface"
           }
          ],
          "table": [
           {
            "cells": {
             "fill": {
              "color": "rgb(237,237,237)"
             },
             "line": {
              "color": "white"
             }
            },
            "header": {
             "fill": {
              "color": "rgb(217,217,217)"
             },
             "line": {
              "color": "white"
             }
            },
            "type": "table"
           }
          ]
         },
         "layout": {
          "annotationdefaults": {
           "arrowhead": 0,
           "arrowwidth": 1
          },
          "autotypenumbers": "strict",
          "coloraxis": {
           "colorbar": {
            "outlinewidth": 1,
            "tickcolor": "rgb(36,36,36)",
            "ticks": "outside"
           }
          },
          "colorscale": {
           "diverging": [
            [
             0,
             "rgb(103,0,31)"
            ],
            [
             0.1,
             "rgb(178,24,43)"
            ],
            [
             0.2,
             "rgb(214,96,77)"
            ],
            [
             0.3,
             "rgb(244,165,130)"
            ],
            [
             0.4,
             "rgb(253,219,199)"
            ],
            [
             0.5,
             "rgb(247,247,247)"
            ],
            [
             0.6,
             "rgb(209,229,240)"
            ],
            [
             0.7,
             "rgb(146,197,222)"
            ],
            [
             0.8,
             "rgb(67,147,195)"
            ],
            [
             0.9,
             "rgb(33,102,172)"
            ],
            [
             1,
             "rgb(5,48,97)"
            ]
           ],
           "sequential": [
            [
             0,
             "#440154"
            ],
            [
             0.1111111111111111,
             "#482878"
            ],
            [
             0.2222222222222222,
             "#3e4989"
            ],
            [
             0.3333333333333333,
             "#31688e"
            ],
            [
             0.4444444444444444,
             "#26828e"
            ],
            [
             0.5555555555555556,
             "#1f9e89"
            ],
            [
             0.6666666666666666,
             "#35b779"
            ],
            [
             0.7777777777777778,
             "#6ece58"
            ],
            [
             0.8888888888888888,
             "#b5de2b"
            ],
            [
             1,
             "#fde725"
            ]
           ],
           "sequentialminus": [
            [
             0,
             "#440154"
            ],
            [
             0.1111111111111111,
             "#482878"
            ],
            [
             0.2222222222222222,
             "#3e4989"
            ],
            [
             0.3333333333333333,
             "#31688e"
            ],
            [
             0.4444444444444444,
             "#26828e"
            ],
            [
             0.5555555555555556,
             "#1f9e89"
            ],
            [
             0.6666666666666666,
             "#35b779"
            ],
            [
             0.7777777777777778,
             "#6ece58"
            ],
            [
             0.8888888888888888,
             "#b5de2b"
            ],
            [
             1,
             "#fde725"
            ]
           ]
          },
          "colorway": [
           "#1F77B4",
           "#FF7F0E",
           "#2CA02C",
           "#D62728",
           "#9467BD",
           "#8C564B",
           "#E377C2",
           "#7F7F7F",
           "#BCBD22",
           "#17BECF"
          ],
          "font": {
           "color": "rgb(36,36,36)"
          },
          "geo": {
           "bgcolor": "white",
           "lakecolor": "white",
           "landcolor": "white",
           "showlakes": true,
           "showland": true,
           "subunitcolor": "white"
          },
          "hoverlabel": {
           "align": "left"
          },
          "hovermode": "closest",
          "mapbox": {
           "style": "light"
          },
          "paper_bgcolor": "white",
          "plot_bgcolor": "white",
          "polar": {
           "angularaxis": {
            "gridcolor": "rgb(232,232,232)",
            "linecolor": "rgb(36,36,36)",
            "showgrid": false,
            "showline": true,
            "ticks": "outside"
           },
           "bgcolor": "white",
           "radialaxis": {
            "gridcolor": "rgb(232,232,232)",
            "linecolor": "rgb(36,36,36)",
            "showgrid": false,
            "showline": true,
            "ticks": "outside"
           }
          },
          "scene": {
           "xaxis": {
            "backgroundcolor": "white",
            "gridcolor": "rgb(232,232,232)",
            "gridwidth": 2,
            "linecolor": "rgb(36,36,36)",
            "showbackground": true,
            "showgrid": false,
            "showline": true,
            "ticks": "outside",
            "zeroline": false,
            "zerolinecolor": "rgb(36,36,36)"
           },
           "yaxis": {
            "backgroundcolor": "white",
            "gridcolor": "rgb(232,232,232)",
            "gridwidth": 2,
            "linecolor": "rgb(36,36,36)",
            "showbackground": true,
            "showgrid": false,
            "showline": true,
            "ticks": "outside",
            "zeroline": false,
            "zerolinecolor": "rgb(36,36,36)"
           },
           "zaxis": {
            "backgroundcolor": "white",
            "gridcolor": "rgb(232,232,232)",
            "gridwidth": 2,
            "linecolor": "rgb(36,36,36)",
            "showbackground": true,
            "showgrid": false,
            "showline": true,
            "ticks": "outside",
            "zeroline": false,
            "zerolinecolor": "rgb(36,36,36)"
           }
          },
          "shapedefaults": {
           "fillcolor": "black",
           "line": {
            "width": 0
           },
           "opacity": 0.3
          },
          "ternary": {
           "aaxis": {
            "gridcolor": "rgb(232,232,232)",
            "linecolor": "rgb(36,36,36)",
            "showgrid": false,
            "showline": true,
            "ticks": "outside"
           },
           "baxis": {
            "gridcolor": "rgb(232,232,232)",
            "linecolor": "rgb(36,36,36)",
            "showgrid": false,
            "showline": true,
            "ticks": "outside"
           },
           "bgcolor": "white",
           "caxis": {
            "gridcolor": "rgb(232,232,232)",
            "linecolor": "rgb(36,36,36)",
            "showgrid": false,
            "showline": true,
            "ticks": "outside"
           }
          },
          "title": {
           "x": 0.05
          },
          "xaxis": {
           "automargin": true,
           "gridcolor": "rgb(232,232,232)",
           "linecolor": "rgb(36,36,36)",
           "showgrid": false,
           "showline": true,
           "ticks": "outside",
           "title": {
            "standoff": 15
           },
           "zeroline": false,
           "zerolinecolor": "rgb(36,36,36)"
          },
          "yaxis": {
           "automargin": true,
           "gridcolor": "rgb(232,232,232)",
           "linecolor": "rgb(36,36,36)",
           "showgrid": false,
           "showline": true,
           "ticks": "outside",
           "title": {
            "standoff": 15
           },
           "zeroline": false,
           "zerolinecolor": "rgb(36,36,36)"
          }
         }
        },
        "title": {
         "text": "right"
        },
        "xaxis": {
         "anchor": "y",
         "domain": [
          0,
          1
         ],
         "showgrid": true,
         "ticktext": [
          "2009-2010",
          "2010-2011",
          "2011-2012",
          "2012-2013",
          "2013-2014",
          "2014-2015",
          "2015-2016",
          "2016-2017",
          "2017-2018",
          "2018-2019",
          "2019-2020",
          "2020-2021",
          "2021-2022"
         ],
         "tickvals": [
          2009,
          2010,
          2011,
          2012,
          2013,
          2014,
          2015,
          2016,
          2017,
          2018,
          2019,
          2020,
          2021
         ],
         "title": {
          "text": "season"
         }
        },
        "yaxis": {
         "anchor": "x",
         "domain": [
          0,
          1
         ],
         "showgrid": true,
         "tickformat": ".0%",
         "title": {
          "text": "right_for"
         }
        }
       }
      }
     },
     "metadata": {},
     "output_type": "display_data"
    }
   ],
   "source": [
    "fig = px.line(df, x=\"season\", y=\"right_for\", color=\"team\", title=\"right\", markers=True)\n",
    "\n",
    "fig.update_traces(\n",
    "    opacity=0.4,\n",
    "    line_color='rgb(189,189,189)'\n",
    ")\n",
    "\n",
    "mean = df.groupby(\"season\")[\"right_for\"].mean()\n",
    "fig.add_trace(go.Scatter(\n",
    "    x=mean.index,\n",
    "    y=mean.values,\n",
    "    line=dict(\n",
    "        width=4,\n",
    "        color=\"rgb(49,130,189)\"\n",
    "    ),\n",
    "    name=\"Average\"\n",
    "))\n",
    "\n",
    "fig.update_layout(\n",
    "    yaxis = dict(\n",
    "        tickformat=\".0%\",\n",
    "        showgrid=True\n",
    "    ), \n",
    "    xaxis = dict(\n",
    "        tickvals = [i for i in range(2009, 2022)],\n",
    "        ticktext = [\"2009-2010\", \"2010-2011\", \"2011-2012\", \"2012-2013\", \"2013-2014\", \"2014-2015\", \"2015-2016\", \"2016-2017\", \"2017-2018\", \"2018-2019\", \"2019-2020\", \"2020-2021\", \"2021-2022\"],\n",
    "        showgrid=True\n",
    "    ),\n",
    "    showlegend=False\n",
    ")"
   ]
  },
  {
   "cell_type": "markdown",
   "metadata": {},
   "source": [
    "### Interactive percentage of attempts from each direction for the last 10 years"
   ]
  },
  {
   "cell_type": "code",
   "execution_count": 21,
   "metadata": {},
   "outputs": [
    {
     "name": "stdout",
     "output_type": "stream",
     "text": [
      "Dash app running on http://127.0.0.1:8050/\n"
     ]
    }
   ],
   "source": [
    "from dash import dcc, html, Input, Output, State, ctx\n",
    "from jupyter_dash import JupyterDash\n",
    "import plotly.express as px\n",
    "from dash.exceptions import PreventUpdate\n",
    "\n",
    "app = JupyterDash(__name__)\n",
    "\n",
    "app.layout = html.Div([\n",
    "    html.Div([\n",
    "        html.Div([\n",
    "            html.H3('League'),\n",
    "            dcc.Checklist(\n",
    "                options=[\n",
    "                    {\n",
    "                        \"label\": html.Div(\n",
    "                            [\n",
    "                                html.Img(\n",
    "                                    src=\"./assets/flags/germany-flag-icon-16.png\"),\n",
    "                                \" Bundesliga\",\n",
    "                            ], style={'display': 'inline-block', 'marginTop': '5px'}\n",
    "                        ),\n",
    "                        \"value\": \"Bundesliga\",\n",
    "                    },\n",
    "                    {\n",
    "                        \"label\": html.Div(\n",
    "                            [\n",
    "                                html.Img(\n",
    "                                    src=\"./assets/flags/england-flag-icon-16.png\", alt='image'),\n",
    "                                \" EPL\",\n",
    "                            ], style={'display': 'inline-block', 'marginTop': '5px'}\n",
    "                        ),\n",
    "                        \"value\": \"EPL\",\n",
    "                    },\n",
    "                    {\n",
    "                        \"label\": html.Div(\n",
    "                            [\n",
    "                                html.Img(\n",
    "                                    src=\"./assets/flags/spain-flag-icon-16.png\", alt='image'),\n",
    "                                \" LaLiga\",\n",
    "                            ], style={'display': 'inline-block', 'marginTop': '5px'}\n",
    "                        ),\n",
    "                        \"value\": \"LaLiga\",\n",
    "                    },\n",
    "                    {\n",
    "                        \"label\": html.Div(\n",
    "                            [\n",
    "                                html.Img(\n",
    "                                    src=\"./assets/flags/france-flag-icon-16.png\", alt='image'),\n",
    "                                \" Ligue 1\",\n",
    "                            ], style={'display': 'inline-block', 'marginTop': '5px'}\n",
    "                        ),\n",
    "                        \"value\": \"Ligue1\",\n",
    "                    },\n",
    "                    {\n",
    "                        \"label\": html.Div(\n",
    "                            [\n",
    "                                html.Img(\n",
    "                                    src=\"./assets/flags/italy-flag-icon-16.png\", alt='image'),\n",
    "                                \" Serie A\",\n",
    "                            ], style={'display': 'inline-block', 'marginTop': '5px'}\n",
    "                        ),\n",
    "                        \"value\": \"SerieA\",\n",
    "                    },\n",
    "                ],\n",
    "                value=[\"Bundesliga\"],\n",
    "                id=\"league\",\n",
    "                labelStyle={'display': 'block'},\n",
    "                style={\"height\":150, \"width\":200, \"overflow\":\"auto\"}\n",
    "            )\n",
    "        ], style={'padding': 10, 'flex': 1}),\n",
    "        html.Div([\n",
    "            html.H3('Direction'),\n",
    "            dcc.RadioItems(\n",
    "                {\n",
    "                    \"right\": \"Right Side\",\n",
    "                    \"left\": \"Left Side\",\n",
    "                    \"middle\": \"Middle\"\n",
    "                },\n",
    "                \"right\",\n",
    "                id=\"direction\",\n",
    "                labelStyle={'display': 'block'},\n",
    "                style={\"height\":150, \"width\":200, \"overflow\":\"auto\"}\n",
    "            )\n",
    "        ], style={'padding': 10, 'flex': 1}),\n",
    "        html.Div([\n",
    "            html.H3('Attempts for or against'),\n",
    "            dcc.RadioItems(\n",
    "                {\n",
    "                    \"for\": \"Attempts for\",\n",
    "                    \"against\": \"Attempts against\"\n",
    "                },\n",
    "                \"for\",\n",
    "                id=\"for_or_against\",\n",
    "                labelStyle={'display': 'block'},\n",
    "                style={\"height\":150, \"width\":200, \"overflow\":\"auto\"}\n",
    "            )\n",
    "        ], style={'padding': 10, 'flex': 1}),\n",
    "        html.Div([\n",
    "            html.H3('Team'),\n",
    "            dcc.Dropdown([], id='team_dropdown', multi=True),\n",
    "            html.Div(id='dd-output-container')\n",
    "        ], style={'padding': 10, 'flex': 1})\n",
    "    ], style={'display': 'flex', 'flex-direction': 'row'}),\n",
    "\n",
    "    \n",
    "    dcc.Graph(\n",
    "        id='graph',\n",
    "    )\n",
    "])\n",
    "\n",
    "\n",
    "@app.callback(\n",
    "    Output(\"team_dropdown\", \"options\"),\n",
    "    Input('league', 'value'))\n",
    "def update_team_dropdown(selected_league):\n",
    "    mask = None\n",
    "    for i in range(len(selected_league)):\n",
    "        if i == 0:\n",
    "            mask = (df.league == selected_league[i])\n",
    "        else:\n",
    "            mask |= (df.league == selected_league[i])\n",
    "    if mask is not None:\n",
    "        filtered_df = df[mask]\n",
    "        return sorted(filtered_df[\"team\"].unique())\n",
    "    return []\n",
    "\n",
    "\n",
    "@app.callback(\n",
    "    Output('graph', 'figure'),\n",
    "    Input('team_dropdown', 'value'),\n",
    "    Input('league', 'value'),\n",
    "    Input('direction', 'value'),\n",
    "    Input('for_or_against', 'value'))\n",
    "def update_figure(selected_team, selected_league, selected_dir, selected_for_or_against):\n",
    "    if len(selected_league) == 0:  # if no league is selected then return an empty plot\n",
    "        fig = px.line()\n",
    "\n",
    "        fig.update_layout(\n",
    "            yaxis=dict(\n",
    "                tickformat=\".0%\",\n",
    "                showgrid=True\n",
    "            ),\n",
    "            xaxis=dict(\n",
    "                tickvals=[i for i in range(2009, 2022)],\n",
    "                ticktext=[\"2009-2010\", \"2010-2011\", \"2011-2012\", \"2012-2013\", \"2013-2014\", \"2014-2015\",\n",
    "                          \"2015-2016\", \"2016-2017\", \"2017-2018\", \"2018-2019\", \"2019-2020\", \"2020-2021\", \"2021-2022\"],\n",
    "                showgrid=True\n",
    "            ),\n",
    "            showlegend=False\n",
    "        )\n",
    "        return fig\n",
    "\n",
    "    # filtered_df = df[df[\"for_or_against\"]\n",
    "    #                           == selected_for_or_against]\n",
    "\n",
    "    mask = None\n",
    "    for i in range(len(selected_league)):\n",
    "        if i == 0:\n",
    "            mask = (df.league == selected_league[i])\n",
    "        else:\n",
    "            mask |= (df.league == selected_league[i])\n",
    "    filtered_df_league = df[mask]\n",
    "\n",
    "    mask_team = None\n",
    "    if ctx.triggered_id == \"team_dropdown\":\n",
    "        for i in range(len(selected_team)):\n",
    "            if i == 0:\n",
    "                mask_team = (df.team == selected_team[i])\n",
    "            else:\n",
    "                mask_team |= (df.team == selected_team[i])\n",
    "\n",
    "    if mask_team is not None: \n",
    "        mask_team &= mask\n",
    "        filtered_df_league_team = df[mask_team]\n",
    "\n",
    "        league_str = \", \".join(selected_league)\n",
    "        fig = px.line(filtered_df_league_team, x=\"season\", y=f\"{selected_dir}_{selected_for_or_against}\", color=\"team\",\n",
    "                title=f\"<b>Percentage of attempts from the {selected_dir} in {league_str} league</b>\", markers=True,\n",
    "                hover_name=\"team\", hover_data=[\"season\", f\"{selected_dir}_{selected_for_or_against}\", \"league\"])\n",
    "\n",
    "        fig.update_layout(\n",
    "            title_font_size=20,\n",
    "            hoverlabel=dict(\n",
    "                bgcolor=\"white\",\n",
    "                font_size=16,\n",
    "            )\n",
    "        )\n",
    "\n",
    "        fig.update_traces(\n",
    "            opacity=0.4,\n",
    "        )\n",
    "    else:\n",
    "        league_str = \", \".join(selected_league)\n",
    "        fig = px.line(filtered_df_league, x=\"season\", y=f\"{selected_dir}_{selected_for_or_against}\", color=\"team\",\n",
    "                    title=f\"<b>Percentage of attempts from the {selected_dir} in {league_str} league</b>\", markers=True,\n",
    "                    hover_name=\"team\", hover_data=[\"season\", f\"{selected_dir}_{selected_for_or_against}\", \"league\"])\n",
    "\n",
    "        fig.update_layout(\n",
    "            title_font_size=20,\n",
    "            hoverlabel=dict(\n",
    "                bgcolor=\"white\",\n",
    "                font_size=16,\n",
    "            ),\n",
    "            showlegend=False\n",
    "        )\n",
    "\n",
    "        fig.update_traces(\n",
    "            opacity=0.4,\n",
    "            line_color='rgb(189,189,189)'\n",
    "        )\n",
    "    mean = filtered_df_league.groupby(\"season\")[f\"{selected_dir}_{selected_for_or_against}\"].mean()\n",
    "    fig.add_trace(go.Scatter(\n",
    "        x=mean.index,\n",
    "        y=mean.values,\n",
    "        line=dict(\n",
    "            width=5,\n",
    "            color=\"rgb(49,130,189)\"\n",
    "        ),\n",
    "        name=\"Average\",\n",
    "        showlegend=False\n",
    "    ))\n",
    "\n",
    "    fig.update_layout(\n",
    "        yaxis=dict(\n",
    "            tickformat=\".0%\",\n",
    "            showgrid=True\n",
    "        ),\n",
    "        xaxis=dict(\n",
    "            tickvals=[i for i in range(2009, 2022)],\n",
    "            ticktext=[\"2009-2010\", \"2010-2011\", \"2011-2012\", \"2012-2013\", \"2013-2014\", \"2014-2015\",\n",
    "                      \"2015-2016\", \"2016-2017\", \"2017-2018\", \"2018-2019\", \"2019-2020\", \"2020-2021\", \"2021-2022\"],\n",
    "            showgrid=True\n",
    "        ),\n",
    "    )\n",
    "\n",
    "    return fig\n",
    "\n",
    "app.run_server(debug=True, mode=\"external\")"
   ]
  },
  {
   "cell_type": "code",
   "execution_count": null,
   "metadata": {},
   "outputs": [],
   "source": []
  },
  {
   "cell_type": "code",
   "execution_count": null,
   "metadata": {},
   "outputs": [],
   "source": []
  }
 ],
 "metadata": {
  "interpreter": {
   "hash": "38449538b7487bf601bbf8047ebc482810e383c4eaebfdf5011e7763013686ca"
  },
  "kernelspec": {
   "display_name": "Python 3.8.13 ('eda')",
   "language": "python",
   "name": "python3"
  },
  "language_info": {
   "codemirror_mode": {
    "name": "ipython",
    "version": 3
   },
   "file_extension": ".py",
   "mimetype": "text/x-python",
   "name": "python",
   "nbconvert_exporter": "python",
   "pygments_lexer": "ipython3",
   "version": "3.8.13"
  },
  "orig_nbformat": 4
 },
 "nbformat": 4,
 "nbformat_minor": 2
}
