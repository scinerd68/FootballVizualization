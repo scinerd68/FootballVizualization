{
 "cells": [
  {
   "cell_type": "code",
   "execution_count": 1,
   "metadata": {},
   "outputs": [
    {
     "data": {
      "text/plain": [
       "'/home/viet/OneDrive/Studying_Materials/Data_Visualization/FootballVizualization/oss'"
      ]
     },
     "execution_count": 1,
     "metadata": {},
     "output_type": "execute_result"
    }
   ],
   "source": [
    "import os\n",
    "import re\n",
    "\n",
    "import pandas as pd\n",
    "import plotly.express as px\n",
    "import plotly.io as pio\n",
    "import plotly.graph_objects as go\n",
    "from dash import dcc, html, Input, Output\n",
    "from jupyter_dash import JupyterDash\n",
    "px.defaults.template = \"simple_white\"\n",
    "pio.templates.default = \"plotly_white\"\n",
    "os.getcwd()"
   ]
  },
  {
   "cell_type": "code",
   "execution_count": 30,
   "metadata": {},
   "outputs": [],
   "source": [
    "file_name_dict = {\n",
    "    \"zone_against\" : \"stage-attempt-zones-against.csv\",\n",
    "    \"zone_for\" : \"stage-attempt-zones-for.csv\",\n",
    "    \"direction_against\" : \"stage-attempt-directions-against.csv\",\n",
    "    \"direction_for\" : \"stage-attempt-directions-for.csv\",\n",
    "    \"offensive\" : \"stage-team-stats-offensive.csv\"\n",
    "}\n",
    "ATTEMPT = [\"attempt-directions\", \"attempt-zones\"]\n",
    "GOAL_PASS = [\"goals\", \"passes\"]\n",
    "FOR_AGAINST = [*ATTEMPT, *GOAL_PASS]\n",
    "ALL_TYPE = [*FOR_AGAINST, \"cards\", \"team\", \"touch\"]\n",
    "LEAGUE = [\"Bundesliga\", \"EPL\", \"LaLiga\", \"Ligue1\", \"SerieA\"]\n",
    "\n",
    "\n",
    "def _add_suffix_columns(df, suffix):\n",
    "    col_name_to_change = list(df.columns)\n",
    "    col_name_to_change.remove(\"Team\")\n",
    "\n",
    "    df.rename(\n",
    "            columns={\n",
    "                col_name:f\"{col_name}_{suffix}\" for col_name in col_name_to_change\n",
    "            },\n",
    "            inplace=True\n",
    "        )\n",
    "\n",
    "\n",
    "def gather_all_league():\n",
    "    df = pd.DataFrame()\n",
    "    for league in LEAGUE:\n",
    "        df = pd.concat([df, gather_all_seasons(league)], ignore_index=True)\n",
    "    return df\n",
    "\n",
    "\n",
    "def gather_one_season(league, season):\n",
    "    first = True\n",
    "    df_league = pd.DataFrame()\n",
    "    season_path = os.path.join(\"../data\", league)\n",
    "\n",
    "    for type in FOR_AGAINST: # everything csv file that has for and against\n",
    "        for mode in [\"for\", \"against\"]:\n",
    "            df_temp = pd.read_csv(os.path.join(season_path, f\"{season}/stage-{type}-{mode}.csv\"), dtype=str)\n",
    "            df_temp.drop([\"R\"], axis=1, inplace=True)\n",
    "            df_temp.rename(\n",
    "                columns = {\n",
    "                    'Left Side':'left',\n",
    "                    'Attempts from the middle':'middle',\n",
    "                    'Right Side': 'right',\n",
    "                }, \n",
    "            inplace = True\n",
    "    )\n",
    "            if first:\n",
    "                df_league = df_temp\n",
    "                first = False\n",
    "            else:\n",
    "                df_league = df_league.merge(df_temp, on=\"Team\", suffixes=(\"_for\",\"_against\"))\n",
    "\n",
    "    type = \"cards\" # handle cards file\n",
    "    df_temp = pd.read_csv(os.path.join(season_path, f\"{season}/stage-{type}.csv\"), dtype=str)\n",
    "    df_temp.drop([\"R\"], axis=1, inplace=True)\n",
    "    df_league = df_league.merge(df_temp, on=\"Team\")\n",
    "\n",
    "    type = \"team\" # handle team files\n",
    "    for mode in [\"defensive\", \"offensive\", \"detailed\", \"summary\"]:\n",
    "        df_temp = pd.read_csv(os.path.join(season_path, f\"{season}/stage-{type}-stats-{mode}.csv\"), dtype=str)\n",
    "\n",
    "        # format Team column in this fucker table\n",
    "        df_temp[\"Team\"] = df_temp[\"Team\"].apply(lambda s: re.sub(re.compile(r\"\\d{1,2}\\.\\s\"), \"\", s))\n",
    "\n",
    "        _add_suffix_columns(df_temp, mode)\n",
    "\n",
    "        df_league = df_league.merge(df_temp, on=\"Team\")\n",
    "    \n",
    "    type = \"touch\" # handle touch files\n",
    "    for mode in [\"channels\", \"zones\"]:\n",
    "        df_temp = pd.read_csv(os.path.join(season_path, f\"{season}/stage-{type}-{mode}.csv\"), dtype=str)\n",
    "        df_temp.drop([\"R\"], axis=1, inplace=True)\n",
    "        if mode == \"channels\":\n",
    "            _add_suffix_columns(df_temp, mode)\n",
    "        \n",
    "        df_league = df_league.merge(df_temp, on=\"Team\")\n",
    "\n",
    "    df_league = df_league.applymap(lambda x: int(x[:-1])/100 if x.__contains__(\"%\") else x)\n",
    "\n",
    "    season = season.split(\"_\")[0]\n",
    "    df_league[\"season\"] = [int(season) for i in range(len(df_league))]\n",
    "    df_league[\"league\"] = [league for i in range(len(df_league))]\n",
    "\n",
    "    df_league.rename(\n",
    "            columns = {\n",
    "                'Team':'team', \n",
    "                'Rating_summary':'rating'\n",
    "            }, \n",
    "            inplace = True\n",
    "    )\n",
    "    df_league[\"rating\"] = pd.to_numeric(df_league[\"rating\"])\n",
    "    df_league[\"Shots pg_offensive\"] = pd.to_numeric(df_league[\"Shots pg_offensive\"])\n",
    "    df_league[\"Shots pg_defensive\"] = pd.to_numeric(df_league[\"Shots pg_defensive\"])\n",
    "    df_league[\"Shots OT pg_offensive\"] = pd.to_numeric(df_league[\"Shots OT pg_offensive\"])\n",
    "    df_league[\"Dribbles pg_offensive\"] = pd.to_numeric(df_league[\"Dribbles pg_offensive\"])\n",
    "    df_league[\"Fouled pg_offensive\"] = pd.to_numeric(df_league[\"Fouled pg_offensive\"])\n",
    "\n",
    "    df_league.drop(columns=['Rating_offensive', 'Rating_defensive', 'Rating_detailed'], inplace=True)\n",
    "    return df_league\n",
    "\n",
    "\n",
    "def gather_all_seasons(league):\n",
    "    df = pd.DataFrame()\n",
    "\n",
    "    season_path = os.path.join(\"../data\", league)\n",
    "    for season in os.listdir(season_path): # iterate through each season\n",
    "        df = pd.concat([df, gather_one_season(league, season)], ignore_index=True)\n",
    "\n",
    "    return df.sort_values(by=['season'])"
   ]
  },
  {
   "cell_type": "code",
   "execution_count": 31,
   "metadata": {},
   "outputs": [
    {
     "name": "stdout",
     "output_type": "stream",
     "text": [
      "['team', 'left_for', 'middle_for', 'right_for', 'left_against', 'middle_against', 'right_against', 'In 6 Yards Box_for', 'In 18 Yards Box_for', 'Outside of Box_for', 'In 6 Yards Box_against', 'In 18 Yards Box_against', 'Outside of Box_against', 'Open Play_for', 'Counter Attack_for', 'Set Piece_for', 'Penalty_for', 'Own Goal_for', 'Open Play_against', 'Counter Attack_against', 'Set Piece_against', 'Penalty_against', 'Own Goal_against', 'Cross pg_for', 'Through Ball pg_for', 'Long Balls pg_for', 'Short Passes pg_for', 'Cross pg_against', 'Through Ball pg_against', 'Long Balls pg_against', 'Short Passes pg_against', 'Fouls', 'Unprofessional', 'Dive', 'Other', 'Shots pg_defensive', 'Tackles pg_defensive', 'Interceptions pg_defensive', 'Fouls pg_defensive', 'Offsides pg_defensive', 'Shots pg_offensive', 'Shots OT pg_offensive', 'Dribbles pg_offensive', 'Fouled pg_offensive', 'Total_detailed', 'OutOfBox_detailed', 'SixYardBox_detailed', 'PenaltyArea_detailed', 'Goals_summary', 'Shots pg_summary', 'Discipline_summary', 'Possession%_summary', 'Pass%_summary', 'AerialsWon_summary', 'rating', 'Left Side_channels', 'Middle of the pitch_channels', 'Right Side_channels', 'Own Third', 'Middle Third', 'Opposition Third', 'season', 'league']\n"
     ]
    },
    {
     "data": {
      "text/html": [
       "<div>\n",
       "<style scoped>\n",
       "    .dataframe tbody tr th:only-of-type {\n",
       "        vertical-align: middle;\n",
       "    }\n",
       "\n",
       "    .dataframe tbody tr th {\n",
       "        vertical-align: top;\n",
       "    }\n",
       "\n",
       "    .dataframe thead th {\n",
       "        text-align: right;\n",
       "    }\n",
       "</style>\n",
       "<table border=\"1\" class=\"dataframe\">\n",
       "  <thead>\n",
       "    <tr style=\"text-align: right;\">\n",
       "      <th></th>\n",
       "      <th>team</th>\n",
       "      <th>left_for</th>\n",
       "      <th>middle_for</th>\n",
       "      <th>right_for</th>\n",
       "      <th>left_against</th>\n",
       "      <th>middle_against</th>\n",
       "      <th>right_against</th>\n",
       "      <th>In 6 Yards Box_for</th>\n",
       "      <th>In 18 Yards Box_for</th>\n",
       "      <th>Outside of Box_for</th>\n",
       "      <th>...</th>\n",
       "      <th>AerialsWon_summary</th>\n",
       "      <th>rating</th>\n",
       "      <th>Left Side_channels</th>\n",
       "      <th>Middle of the pitch_channels</th>\n",
       "      <th>Right Side_channels</th>\n",
       "      <th>Own Third</th>\n",
       "      <th>Middle Third</th>\n",
       "      <th>Opposition Third</th>\n",
       "      <th>season</th>\n",
       "      <th>league</th>\n",
       "    </tr>\n",
       "  </thead>\n",
       "  <tbody>\n",
       "    <tr>\n",
       "      <th>15</th>\n",
       "      <td>Napoli</td>\n",
       "      <td>0.18</td>\n",
       "      <td>0.62</td>\n",
       "      <td>0.21</td>\n",
       "      <td>0.19</td>\n",
       "      <td>0.67</td>\n",
       "      <td>0.15</td>\n",
       "      <td>0.06</td>\n",
       "      <td>0.48</td>\n",
       "      <td>0.46</td>\n",
       "      <td>...</td>\n",
       "      <td>8.9</td>\n",
       "      <td>6.96</td>\n",
       "      <td>0.29</td>\n",
       "      <td>0.32</td>\n",
       "      <td>0.40</td>\n",
       "      <td>0.25</td>\n",
       "      <td>0.46</td>\n",
       "      <td>0.30</td>\n",
       "      <td>2009</td>\n",
       "      <td>SerieA</td>\n",
       "    </tr>\n",
       "    <tr>\n",
       "      <th>16</th>\n",
       "      <td>Catania</td>\n",
       "      <td>0.16</td>\n",
       "      <td>0.70</td>\n",
       "      <td>0.15</td>\n",
       "      <td>0.24</td>\n",
       "      <td>0.60</td>\n",
       "      <td>0.16</td>\n",
       "      <td>0.04</td>\n",
       "      <td>0.43</td>\n",
       "      <td>0.53</td>\n",
       "      <td>...</td>\n",
       "      <td>9.5</td>\n",
       "      <td>6.84</td>\n",
       "      <td>0.34</td>\n",
       "      <td>0.33</td>\n",
       "      <td>0.33</td>\n",
       "      <td>0.27</td>\n",
       "      <td>0.47</td>\n",
       "      <td>0.26</td>\n",
       "      <td>2009</td>\n",
       "      <td>SerieA</td>\n",
       "    </tr>\n",
       "    <tr>\n",
       "      <th>17</th>\n",
       "      <td>Bologna</td>\n",
       "      <td>0.15</td>\n",
       "      <td>0.65</td>\n",
       "      <td>0.20</td>\n",
       "      <td>0.18</td>\n",
       "      <td>0.66</td>\n",
       "      <td>0.16</td>\n",
       "      <td>0.05</td>\n",
       "      <td>0.42</td>\n",
       "      <td>0.53</td>\n",
       "      <td>...</td>\n",
       "      <td>9.1</td>\n",
       "      <td>6.78</td>\n",
       "      <td>0.34</td>\n",
       "      <td>0.33</td>\n",
       "      <td>0.32</td>\n",
       "      <td>0.30</td>\n",
       "      <td>0.45</td>\n",
       "      <td>0.26</td>\n",
       "      <td>2009</td>\n",
       "      <td>SerieA</td>\n",
       "    </tr>\n",
       "    <tr>\n",
       "      <th>18</th>\n",
       "      <td>Livorno</td>\n",
       "      <td>0.15</td>\n",
       "      <td>0.60</td>\n",
       "      <td>0.25</td>\n",
       "      <td>0.21</td>\n",
       "      <td>0.62</td>\n",
       "      <td>0.17</td>\n",
       "      <td>0.05</td>\n",
       "      <td>0.35</td>\n",
       "      <td>0.60</td>\n",
       "      <td>...</td>\n",
       "      <td>8</td>\n",
       "      <td>6.70</td>\n",
       "      <td>0.32</td>\n",
       "      <td>0.31</td>\n",
       "      <td>0.38</td>\n",
       "      <td>0.28</td>\n",
       "      <td>0.45</td>\n",
       "      <td>0.26</td>\n",
       "      <td>2009</td>\n",
       "      <td>SerieA</td>\n",
       "    </tr>\n",
       "    <tr>\n",
       "      <th>19</th>\n",
       "      <td>Chievo</td>\n",
       "      <td>0.13</td>\n",
       "      <td>0.73</td>\n",
       "      <td>0.14</td>\n",
       "      <td>0.21</td>\n",
       "      <td>0.60</td>\n",
       "      <td>0.19</td>\n",
       "      <td>0.10</td>\n",
       "      <td>0.48</td>\n",
       "      <td>0.42</td>\n",
       "      <td>...</td>\n",
       "      <td>10.4</td>\n",
       "      <td>6.84</td>\n",
       "      <td>0.28</td>\n",
       "      <td>0.33</td>\n",
       "      <td>0.38</td>\n",
       "      <td>0.27</td>\n",
       "      <td>0.45</td>\n",
       "      <td>0.28</td>\n",
       "      <td>2009</td>\n",
       "      <td>SerieA</td>\n",
       "    </tr>\n",
       "  </tbody>\n",
       "</table>\n",
       "<p>5 rows × 63 columns</p>\n",
       "</div>"
      ],
      "text/plain": [
       "       team  left_for  middle_for  right_for  left_against  middle_against  \\\n",
       "15   Napoli      0.18        0.62       0.21          0.19            0.67   \n",
       "16  Catania      0.16        0.70       0.15          0.24            0.60   \n",
       "17  Bologna      0.15        0.65       0.20          0.18            0.66   \n",
       "18  Livorno      0.15        0.60       0.25          0.21            0.62   \n",
       "19   Chievo      0.13        0.73       0.14          0.21            0.60   \n",
       "\n",
       "    right_against  In 6 Yards Box_for  In 18 Yards Box_for  \\\n",
       "15           0.15                0.06                 0.48   \n",
       "16           0.16                0.04                 0.43   \n",
       "17           0.16                0.05                 0.42   \n",
       "18           0.17                0.05                 0.35   \n",
       "19           0.19                0.10                 0.48   \n",
       "\n",
       "    Outside of Box_for  ...  AerialsWon_summary  rating  Left Side_channels  \\\n",
       "15                0.46  ...                 8.9    6.96                0.29   \n",
       "16                0.53  ...                 9.5    6.84                0.34   \n",
       "17                0.53  ...                 9.1    6.78                0.34   \n",
       "18                0.60  ...                   8    6.70                0.32   \n",
       "19                0.42  ...                10.4    6.84                0.28   \n",
       "\n",
       "   Middle of the pitch_channels Right Side_channels Own Third Middle Third  \\\n",
       "15                         0.32                0.40      0.25         0.46   \n",
       "16                         0.33                0.33      0.27         0.47   \n",
       "17                         0.33                0.32      0.30         0.45   \n",
       "18                         0.31                0.38      0.28         0.45   \n",
       "19                         0.33                0.38      0.27         0.45   \n",
       "\n",
       "   Opposition Third season  league  \n",
       "15             0.30   2009  SerieA  \n",
       "16             0.26   2009  SerieA  \n",
       "17             0.26   2009  SerieA  \n",
       "18             0.26   2009  SerieA  \n",
       "19             0.28   2009  SerieA  \n",
       "\n",
       "[5 rows x 63 columns]"
      ]
     },
     "execution_count": 31,
     "metadata": {},
     "output_type": "execute_result"
    }
   ],
   "source": [
    "test = gather_one_season(\"SerieA\", \"2009_2010\")\n",
    "print(list(test.columns))\n",
    "test.tail()"
   ]
  },
  {
   "cell_type": "code",
   "execution_count": 32,
   "metadata": {},
   "outputs": [],
   "source": [
    "df = gather_all_league()"
   ]
  },
  {
   "cell_type": "code",
   "execution_count": 33,
   "metadata": {},
   "outputs": [
    {
     "data": {
      "text/html": [
       "<div>\n",
       "<style scoped>\n",
       "    .dataframe tbody tr th:only-of-type {\n",
       "        vertical-align: middle;\n",
       "    }\n",
       "\n",
       "    .dataframe tbody tr th {\n",
       "        vertical-align: top;\n",
       "    }\n",
       "\n",
       "    .dataframe thead th {\n",
       "        text-align: right;\n",
       "    }\n",
       "</style>\n",
       "<table border=\"1\" class=\"dataframe\">\n",
       "  <thead>\n",
       "    <tr style=\"text-align: right;\">\n",
       "      <th></th>\n",
       "      <th>team</th>\n",
       "      <th>left_for</th>\n",
       "      <th>middle_for</th>\n",
       "      <th>right_for</th>\n",
       "      <th>left_against</th>\n",
       "      <th>middle_against</th>\n",
       "      <th>right_against</th>\n",
       "      <th>In 6 Yards Box_for</th>\n",
       "      <th>In 18 Yards Box_for</th>\n",
       "      <th>Outside of Box_for</th>\n",
       "      <th>...</th>\n",
       "      <th>AerialsWon_summary</th>\n",
       "      <th>rating</th>\n",
       "      <th>Left Side_channels</th>\n",
       "      <th>Middle of the pitch_channels</th>\n",
       "      <th>Right Side_channels</th>\n",
       "      <th>Own Third</th>\n",
       "      <th>Middle Third</th>\n",
       "      <th>Opposition Third</th>\n",
       "      <th>season</th>\n",
       "      <th>league</th>\n",
       "    </tr>\n",
       "  </thead>\n",
       "  <tbody>\n",
       "    <tr>\n",
       "      <th>0</th>\n",
       "      <td>Nuernberg</td>\n",
       "      <td>0.27</td>\n",
       "      <td>0.52</td>\n",
       "      <td>0.22</td>\n",
       "      <td>0.23</td>\n",
       "      <td>0.62</td>\n",
       "      <td>0.15</td>\n",
       "      <td>0.05</td>\n",
       "      <td>0.48</td>\n",
       "      <td>0.47</td>\n",
       "      <td>...</td>\n",
       "      <td>5.8</td>\n",
       "      <td>6.74</td>\n",
       "      <td>0.37</td>\n",
       "      <td>0.26</td>\n",
       "      <td>0.37</td>\n",
       "      <td>0.28</td>\n",
       "      <td>0.45</td>\n",
       "      <td>0.27</td>\n",
       "      <td>2009</td>\n",
       "      <td>Bundesliga</td>\n",
       "    </tr>\n",
       "    <tr>\n",
       "      <th>1</th>\n",
       "      <td>Hamburger SV</td>\n",
       "      <td>0.27</td>\n",
       "      <td>0.55</td>\n",
       "      <td>0.18</td>\n",
       "      <td>0.21</td>\n",
       "      <td>0.60</td>\n",
       "      <td>0.19</td>\n",
       "      <td>0.04</td>\n",
       "      <td>0.51</td>\n",
       "      <td>0.45</td>\n",
       "      <td>...</td>\n",
       "      <td>5.7</td>\n",
       "      <td>6.88</td>\n",
       "      <td>0.40</td>\n",
       "      <td>0.24</td>\n",
       "      <td>0.36</td>\n",
       "      <td>0.27</td>\n",
       "      <td>0.47</td>\n",
       "      <td>0.27</td>\n",
       "      <td>2009</td>\n",
       "      <td>Bundesliga</td>\n",
       "    </tr>\n",
       "    <tr>\n",
       "      <th>2</th>\n",
       "      <td>Wolfsburg</td>\n",
       "      <td>0.26</td>\n",
       "      <td>0.59</td>\n",
       "      <td>0.15</td>\n",
       "      <td>0.21</td>\n",
       "      <td>0.58</td>\n",
       "      <td>0.21</td>\n",
       "      <td>0.08</td>\n",
       "      <td>0.58</td>\n",
       "      <td>0.34</td>\n",
       "      <td>...</td>\n",
       "      <td>5.6</td>\n",
       "      <td>6.95</td>\n",
       "      <td>0.37</td>\n",
       "      <td>0.26</td>\n",
       "      <td>0.37</td>\n",
       "      <td>0.28</td>\n",
       "      <td>0.44</td>\n",
       "      <td>0.28</td>\n",
       "      <td>2009</td>\n",
       "      <td>Bundesliga</td>\n",
       "    </tr>\n",
       "    <tr>\n",
       "      <th>3</th>\n",
       "      <td>Werder Bremen</td>\n",
       "      <td>0.25</td>\n",
       "      <td>0.60</td>\n",
       "      <td>0.15</td>\n",
       "      <td>0.24</td>\n",
       "      <td>0.55</td>\n",
       "      <td>0.21</td>\n",
       "      <td>0.08</td>\n",
       "      <td>0.53</td>\n",
       "      <td>0.39</td>\n",
       "      <td>...</td>\n",
       "      <td>7.2</td>\n",
       "      <td>7.06</td>\n",
       "      <td>0.39</td>\n",
       "      <td>0.26</td>\n",
       "      <td>0.34</td>\n",
       "      <td>0.24</td>\n",
       "      <td>0.45</td>\n",
       "      <td>0.31</td>\n",
       "      <td>2009</td>\n",
       "      <td>Bundesliga</td>\n",
       "    </tr>\n",
       "    <tr>\n",
       "      <th>4</th>\n",
       "      <td>Borussia M.Gladbach</td>\n",
       "      <td>0.25</td>\n",
       "      <td>0.58</td>\n",
       "      <td>0.17</td>\n",
       "      <td>0.21</td>\n",
       "      <td>0.62</td>\n",
       "      <td>0.17</td>\n",
       "      <td>0.04</td>\n",
       "      <td>0.47</td>\n",
       "      <td>0.49</td>\n",
       "      <td>...</td>\n",
       "      <td>7.6</td>\n",
       "      <td>6.74</td>\n",
       "      <td>0.37</td>\n",
       "      <td>0.27</td>\n",
       "      <td>0.36</td>\n",
       "      <td>0.29</td>\n",
       "      <td>0.46</td>\n",
       "      <td>0.24</td>\n",
       "      <td>2009</td>\n",
       "      <td>Bundesliga</td>\n",
       "    </tr>\n",
       "  </tbody>\n",
       "</table>\n",
       "<p>5 rows × 63 columns</p>\n",
       "</div>"
      ],
      "text/plain": [
       "                  team  left_for  middle_for  right_for  left_against  \\\n",
       "0            Nuernberg      0.27        0.52       0.22          0.23   \n",
       "1         Hamburger SV      0.27        0.55       0.18          0.21   \n",
       "2            Wolfsburg      0.26        0.59       0.15          0.21   \n",
       "3        Werder Bremen      0.25        0.60       0.15          0.24   \n",
       "4  Borussia M.Gladbach      0.25        0.58       0.17          0.21   \n",
       "\n",
       "   middle_against  right_against  In 6 Yards Box_for  In 18 Yards Box_for  \\\n",
       "0            0.62           0.15                0.05                 0.48   \n",
       "1            0.60           0.19                0.04                 0.51   \n",
       "2            0.58           0.21                0.08                 0.58   \n",
       "3            0.55           0.21                0.08                 0.53   \n",
       "4            0.62           0.17                0.04                 0.47   \n",
       "\n",
       "   Outside of Box_for  ...  AerialsWon_summary  rating  Left Side_channels  \\\n",
       "0                0.47  ...                 5.8    6.74                0.37   \n",
       "1                0.45  ...                 5.7    6.88                0.40   \n",
       "2                0.34  ...                 5.6    6.95                0.37   \n",
       "3                0.39  ...                 7.2    7.06                0.39   \n",
       "4                0.49  ...                 7.6    6.74                0.37   \n",
       "\n",
       "  Middle of the pitch_channels Right Side_channels Own Third Middle Third  \\\n",
       "0                         0.26                0.37      0.28         0.45   \n",
       "1                         0.24                0.36      0.27         0.47   \n",
       "2                         0.26                0.37      0.28         0.44   \n",
       "3                         0.26                0.34      0.24         0.45   \n",
       "4                         0.27                0.36      0.29         0.46   \n",
       "\n",
       "  Opposition Third season      league  \n",
       "0             0.27   2009  Bundesliga  \n",
       "1             0.27   2009  Bundesliga  \n",
       "2             0.28   2009  Bundesliga  \n",
       "3             0.31   2009  Bundesliga  \n",
       "4             0.24   2009  Bundesliga  \n",
       "\n",
       "[5 rows x 63 columns]"
      ]
     },
     "execution_count": 33,
     "metadata": {},
     "output_type": "execute_result"
    }
   ],
   "source": [
    "df.head()"
   ]
  },
  {
   "cell_type": "code",
   "execution_count": 6,
   "metadata": {},
   "outputs": [
    {
     "data": {
      "text/plain": [
       "1176"
      ]
     },
     "execution_count": 6,
     "metadata": {},
     "output_type": "execute_result"
    }
   ],
   "source": [
    "len(df)"
   ]
  },
  {
   "cell_type": "markdown",
   "metadata": {},
   "source": [
    "### Average percentage of attempts in each ZONE for each league"
   ]
  },
  {
   "cell_type": "markdown",
   "metadata": {},
   "source": [
    "#### In 6 Yards Box"
   ]
  },
  {
   "cell_type": "markdown",
   "metadata": {},
   "source": [
    "##### For"
   ]
  },
  {
   "cell_type": "code",
   "execution_count": 22,
   "metadata": {},
   "outputs": [
    {
     "data": {
      "application/vnd.plotly.v1+json": {
       "config": {
        "plotlyServerURL": "https://plot.ly"
       },
       "data": [
        {
         "mode": "lines",
         "name": "Bundesliga",
         "type": "scatter",
         "x": [
          2009,
          2010,
          2011,
          2012,
          2013,
          2014,
          2015,
          2016,
          2017,
          2018,
          2019,
          2020
         ],
         "y": [
          0.07,
          0.06666666666666667,
          0.06166666666666668,
          0.0638888888888889,
          0.05944444444444447,
          0.05944444444444446,
          0.06222222222222223,
          0.0638888888888889,
          0.0638888888888889,
          0.06944444444444446,
          0.07,
          0.0688888888888889
         ]
        },
        {
         "mode": "lines",
         "name": "EPL",
         "type": "scatter",
         "x": [
          2009,
          2010,
          2011,
          2012,
          2013,
          2014,
          2015,
          2016,
          2017,
          2018,
          2019,
          2020
         ],
         "y": [
          0.07400000000000004,
          0.07550000000000001,
          0.07450000000000002,
          0.07050000000000003,
          0.06700000000000003,
          0.06700000000000003,
          0.06450000000000003,
          0.07000000000000002,
          0.07650000000000001,
          0.07950000000000002,
          0.08750000000000004,
          0.07350000000000004
         ]
        },
        {
         "mode": "lines",
         "name": "LaLiga",
         "type": "scatter",
         "x": [
          2009,
          2010,
          2011,
          2012,
          2013,
          2014,
          2015,
          2016,
          2017,
          2018,
          2019,
          2020
         ],
         "y": [
          0.06100000000000001,
          0.05900000000000002,
          0.05800000000000002,
          0.06450000000000003,
          0.06500000000000002,
          0.07150000000000002,
          0.07100000000000002,
          0.06450000000000003,
          0.07000000000000002,
          0.07250000000000002,
          0.07300000000000002,
          0.07650000000000003
         ]
        },
        {
         "mode": "lines",
         "name": "Ligue1",
         "type": "scatter",
         "x": [
          2009,
          2010,
          2011,
          2012,
          2013,
          2014,
          2015,
          2016,
          2017,
          2018,
          2019,
          2020
         ],
         "y": [
          0.05850000000000001,
          0.05850000000000003,
          0.056000000000000015,
          0.05350000000000003,
          0.06350000000000003,
          0.05700000000000003,
          0.06000000000000001,
          0.05750000000000001,
          0.05950000000000003,
          0.06050000000000001,
          0.06150000000000002,
          0.07600000000000003
         ]
        },
        {
         "mode": "lines",
         "name": "SerieA",
         "type": "scatter",
         "x": [
          2009,
          2010,
          2011,
          2012,
          2013,
          2014,
          2015,
          2016,
          2017,
          2018,
          2019,
          2020
         ],
         "y": [
          0.05650000000000003,
          0.05050000000000001,
          0.05000000000000001,
          0.05450000000000003,
          0.05500000000000003,
          0.05800000000000003,
          0.05700000000000001,
          0.06600000000000002,
          0.06600000000000003,
          0.06750000000000003,
          0.06250000000000001,
          0.07700000000000003
         ]
        }
       ],
       "layout": {
        "template": {
         "data": {
          "bar": [
           {
            "error_x": {
             "color": "#2a3f5f"
            },
            "error_y": {
             "color": "#2a3f5f"
            },
            "marker": {
             "line": {
              "color": "white",
              "width": 0.5
             },
             "pattern": {
              "fillmode": "overlay",
              "size": 10,
              "solidity": 0.2
             }
            },
            "type": "bar"
           }
          ],
          "barpolar": [
           {
            "marker": {
             "line": {
              "color": "white",
              "width": 0.5
             },
             "pattern": {
              "fillmode": "overlay",
              "size": 10,
              "solidity": 0.2
             }
            },
            "type": "barpolar"
           }
          ],
          "carpet": [
           {
            "aaxis": {
             "endlinecolor": "#2a3f5f",
             "gridcolor": "#C8D4E3",
             "linecolor": "#C8D4E3",
             "minorgridcolor": "#C8D4E3",
             "startlinecolor": "#2a3f5f"
            },
            "baxis": {
             "endlinecolor": "#2a3f5f",
             "gridcolor": "#C8D4E3",
             "linecolor": "#C8D4E3",
             "minorgridcolor": "#C8D4E3",
             "startlinecolor": "#2a3f5f"
            },
            "type": "carpet"
           }
          ],
          "choropleth": [
           {
            "colorbar": {
             "outlinewidth": 0,
             "ticks": ""
            },
            "type": "choropleth"
           }
          ],
          "contour": [
           {
            "colorbar": {
             "outlinewidth": 0,
             "ticks": ""
            },
            "colorscale": [
             [
              0,
              "#0d0887"
             ],
             [
              0.1111111111111111,
              "#46039f"
             ],
             [
              0.2222222222222222,
              "#7201a8"
             ],
             [
              0.3333333333333333,
              "#9c179e"
             ],
             [
              0.4444444444444444,
              "#bd3786"
             ],
             [
              0.5555555555555556,
              "#d8576b"
             ],
             [
              0.6666666666666666,
              "#ed7953"
             ],
             [
              0.7777777777777778,
              "#fb9f3a"
             ],
             [
              0.8888888888888888,
              "#fdca26"
             ],
             [
              1,
              "#f0f921"
             ]
            ],
            "type": "contour"
           }
          ],
          "contourcarpet": [
           {
            "colorbar": {
             "outlinewidth": 0,
             "ticks": ""
            },
            "type": "contourcarpet"
           }
          ],
          "heatmap": [
           {
            "colorbar": {
             "outlinewidth": 0,
             "ticks": ""
            },
            "colorscale": [
             [
              0,
              "#0d0887"
             ],
             [
              0.1111111111111111,
              "#46039f"
             ],
             [
              0.2222222222222222,
              "#7201a8"
             ],
             [
              0.3333333333333333,
              "#9c179e"
             ],
             [
              0.4444444444444444,
              "#bd3786"
             ],
             [
              0.5555555555555556,
              "#d8576b"
             ],
             [
              0.6666666666666666,
              "#ed7953"
             ],
             [
              0.7777777777777778,
              "#fb9f3a"
             ],
             [
              0.8888888888888888,
              "#fdca26"
             ],
             [
              1,
              "#f0f921"
             ]
            ],
            "type": "heatmap"
           }
          ],
          "heatmapgl": [
           {
            "colorbar": {
             "outlinewidth": 0,
             "ticks": ""
            },
            "colorscale": [
             [
              0,
              "#0d0887"
             ],
             [
              0.1111111111111111,
              "#46039f"
             ],
             [
              0.2222222222222222,
              "#7201a8"
             ],
             [
              0.3333333333333333,
              "#9c179e"
             ],
             [
              0.4444444444444444,
              "#bd3786"
             ],
             [
              0.5555555555555556,
              "#d8576b"
             ],
             [
              0.6666666666666666,
              "#ed7953"
             ],
             [
              0.7777777777777778,
              "#fb9f3a"
             ],
             [
              0.8888888888888888,
              "#fdca26"
             ],
             [
              1,
              "#f0f921"
             ]
            ],
            "type": "heatmapgl"
           }
          ],
          "histogram": [
           {
            "marker": {
             "pattern": {
              "fillmode": "overlay",
              "size": 10,
              "solidity": 0.2
             }
            },
            "type": "histogram"
           }
          ],
          "histogram2d": [
           {
            "colorbar": {
             "outlinewidth": 0,
             "ticks": ""
            },
            "colorscale": [
             [
              0,
              "#0d0887"
             ],
             [
              0.1111111111111111,
              "#46039f"
             ],
             [
              0.2222222222222222,
              "#7201a8"
             ],
             [
              0.3333333333333333,
              "#9c179e"
             ],
             [
              0.4444444444444444,
              "#bd3786"
             ],
             [
              0.5555555555555556,
              "#d8576b"
             ],
             [
              0.6666666666666666,
              "#ed7953"
             ],
             [
              0.7777777777777778,
              "#fb9f3a"
             ],
             [
              0.8888888888888888,
              "#fdca26"
             ],
             [
              1,
              "#f0f921"
             ]
            ],
            "type": "histogram2d"
           }
          ],
          "histogram2dcontour": [
           {
            "colorbar": {
             "outlinewidth": 0,
             "ticks": ""
            },
            "colorscale": [
             [
              0,
              "#0d0887"
             ],
             [
              0.1111111111111111,
              "#46039f"
             ],
             [
              0.2222222222222222,
              "#7201a8"
             ],
             [
              0.3333333333333333,
              "#9c179e"
             ],
             [
              0.4444444444444444,
              "#bd3786"
             ],
             [
              0.5555555555555556,
              "#d8576b"
             ],
             [
              0.6666666666666666,
              "#ed7953"
             ],
             [
              0.7777777777777778,
              "#fb9f3a"
             ],
             [
              0.8888888888888888,
              "#fdca26"
             ],
             [
              1,
              "#f0f921"
             ]
            ],
            "type": "histogram2dcontour"
           }
          ],
          "mesh3d": [
           {
            "colorbar": {
             "outlinewidth": 0,
             "ticks": ""
            },
            "type": "mesh3d"
           }
          ],
          "parcoords": [
           {
            "line": {
             "colorbar": {
              "outlinewidth": 0,
              "ticks": ""
             }
            },
            "type": "parcoords"
           }
          ],
          "pie": [
           {
            "automargin": true,
            "type": "pie"
           }
          ],
          "scatter": [
           {
            "marker": {
             "colorbar": {
              "outlinewidth": 0,
              "ticks": ""
             }
            },
            "type": "scatter"
           }
          ],
          "scatter3d": [
           {
            "line": {
             "colorbar": {
              "outlinewidth": 0,
              "ticks": ""
             }
            },
            "marker": {
             "colorbar": {
              "outlinewidth": 0,
              "ticks": ""
             }
            },
            "type": "scatter3d"
           }
          ],
          "scattercarpet": [
           {
            "marker": {
             "colorbar": {
              "outlinewidth": 0,
              "ticks": ""
             }
            },
            "type": "scattercarpet"
           }
          ],
          "scattergeo": [
           {
            "marker": {
             "colorbar": {
              "outlinewidth": 0,
              "ticks": ""
             }
            },
            "type": "scattergeo"
           }
          ],
          "scattergl": [
           {
            "marker": {
             "colorbar": {
              "outlinewidth": 0,
              "ticks": ""
             }
            },
            "type": "scattergl"
           }
          ],
          "scattermapbox": [
           {
            "marker": {
             "colorbar": {
              "outlinewidth": 0,
              "ticks": ""
             }
            },
            "type": "scattermapbox"
           }
          ],
          "scatterpolar": [
           {
            "marker": {
             "colorbar": {
              "outlinewidth": 0,
              "ticks": ""
             }
            },
            "type": "scatterpolar"
           }
          ],
          "scatterpolargl": [
           {
            "marker": {
             "colorbar": {
              "outlinewidth": 0,
              "ticks": ""
             }
            },
            "type": "scatterpolargl"
           }
          ],
          "scatterternary": [
           {
            "marker": {
             "colorbar": {
              "outlinewidth": 0,
              "ticks": ""
             }
            },
            "type": "scatterternary"
           }
          ],
          "surface": [
           {
            "colorbar": {
             "outlinewidth": 0,
             "ticks": ""
            },
            "colorscale": [
             [
              0,
              "#0d0887"
             ],
             [
              0.1111111111111111,
              "#46039f"
             ],
             [
              0.2222222222222222,
              "#7201a8"
             ],
             [
              0.3333333333333333,
              "#9c179e"
             ],
             [
              0.4444444444444444,
              "#bd3786"
             ],
             [
              0.5555555555555556,
              "#d8576b"
             ],
             [
              0.6666666666666666,
              "#ed7953"
             ],
             [
              0.7777777777777778,
              "#fb9f3a"
             ],
             [
              0.8888888888888888,
              "#fdca26"
             ],
             [
              1,
              "#f0f921"
             ]
            ],
            "type": "surface"
           }
          ],
          "table": [
           {
            "cells": {
             "fill": {
              "color": "#EBF0F8"
             },
             "line": {
              "color": "white"
             }
            },
            "header": {
             "fill": {
              "color": "#C8D4E3"
             },
             "line": {
              "color": "white"
             }
            },
            "type": "table"
           }
          ]
         },
         "layout": {
          "annotationdefaults": {
           "arrowcolor": "#2a3f5f",
           "arrowhead": 0,
           "arrowwidth": 1
          },
          "autotypenumbers": "strict",
          "coloraxis": {
           "colorbar": {
            "outlinewidth": 0,
            "ticks": ""
           }
          },
          "colorscale": {
           "diverging": [
            [
             0,
             "#8e0152"
            ],
            [
             0.1,
             "#c51b7d"
            ],
            [
             0.2,
             "#de77ae"
            ],
            [
             0.3,
             "#f1b6da"
            ],
            [
             0.4,
             "#fde0ef"
            ],
            [
             0.5,
             "#f7f7f7"
            ],
            [
             0.6,
             "#e6f5d0"
            ],
            [
             0.7,
             "#b8e186"
            ],
            [
             0.8,
             "#7fbc41"
            ],
            [
             0.9,
             "#4d9221"
            ],
            [
             1,
             "#276419"
            ]
           ],
           "sequential": [
            [
             0,
             "#0d0887"
            ],
            [
             0.1111111111111111,
             "#46039f"
            ],
            [
             0.2222222222222222,
             "#7201a8"
            ],
            [
             0.3333333333333333,
             "#9c179e"
            ],
            [
             0.4444444444444444,
             "#bd3786"
            ],
            [
             0.5555555555555556,
             "#d8576b"
            ],
            [
             0.6666666666666666,
             "#ed7953"
            ],
            [
             0.7777777777777778,
             "#fb9f3a"
            ],
            [
             0.8888888888888888,
             "#fdca26"
            ],
            [
             1,
             "#f0f921"
            ]
           ],
           "sequentialminus": [
            [
             0,
             "#0d0887"
            ],
            [
             0.1111111111111111,
             "#46039f"
            ],
            [
             0.2222222222222222,
             "#7201a8"
            ],
            [
             0.3333333333333333,
             "#9c179e"
            ],
            [
             0.4444444444444444,
             "#bd3786"
            ],
            [
             0.5555555555555556,
             "#d8576b"
            ],
            [
             0.6666666666666666,
             "#ed7953"
            ],
            [
             0.7777777777777778,
             "#fb9f3a"
            ],
            [
             0.8888888888888888,
             "#fdca26"
            ],
            [
             1,
             "#f0f921"
            ]
           ]
          },
          "colorway": [
           "#636efa",
           "#EF553B",
           "#00cc96",
           "#ab63fa",
           "#FFA15A",
           "#19d3f3",
           "#FF6692",
           "#B6E880",
           "#FF97FF",
           "#FECB52"
          ],
          "font": {
           "color": "#2a3f5f"
          },
          "geo": {
           "bgcolor": "white",
           "lakecolor": "white",
           "landcolor": "white",
           "showlakes": true,
           "showland": true,
           "subunitcolor": "#C8D4E3"
          },
          "hoverlabel": {
           "align": "left"
          },
          "hovermode": "closest",
          "mapbox": {
           "style": "light"
          },
          "paper_bgcolor": "white",
          "plot_bgcolor": "white",
          "polar": {
           "angularaxis": {
            "gridcolor": "#EBF0F8",
            "linecolor": "#EBF0F8",
            "ticks": ""
           },
           "bgcolor": "white",
           "radialaxis": {
            "gridcolor": "#EBF0F8",
            "linecolor": "#EBF0F8",
            "ticks": ""
           }
          },
          "scene": {
           "xaxis": {
            "backgroundcolor": "white",
            "gridcolor": "#DFE8F3",
            "gridwidth": 2,
            "linecolor": "#EBF0F8",
            "showbackground": true,
            "ticks": "",
            "zerolinecolor": "#EBF0F8"
           },
           "yaxis": {
            "backgroundcolor": "white",
            "gridcolor": "#DFE8F3",
            "gridwidth": 2,
            "linecolor": "#EBF0F8",
            "showbackground": true,
            "ticks": "",
            "zerolinecolor": "#EBF0F8"
           },
           "zaxis": {
            "backgroundcolor": "white",
            "gridcolor": "#DFE8F3",
            "gridwidth": 2,
            "linecolor": "#EBF0F8",
            "showbackground": true,
            "ticks": "",
            "zerolinecolor": "#EBF0F8"
           }
          },
          "shapedefaults": {
           "line": {
            "color": "#2a3f5f"
           }
          },
          "ternary": {
           "aaxis": {
            "gridcolor": "#DFE8F3",
            "linecolor": "#A2B1C6",
            "ticks": ""
           },
           "baxis": {
            "gridcolor": "#DFE8F3",
            "linecolor": "#A2B1C6",
            "ticks": ""
           },
           "bgcolor": "white",
           "caxis": {
            "gridcolor": "#DFE8F3",
            "linecolor": "#A2B1C6",
            "ticks": ""
           }
          },
          "title": {
           "x": 0.05
          },
          "xaxis": {
           "automargin": true,
           "gridcolor": "#EBF0F8",
           "linecolor": "#EBF0F8",
           "ticks": "",
           "title": {
            "standoff": 15
           },
           "zerolinecolor": "#EBF0F8",
           "zerolinewidth": 2
          },
          "yaxis": {
           "automargin": true,
           "gridcolor": "#EBF0F8",
           "linecolor": "#EBF0F8",
           "ticks": "",
           "title": {
            "standoff": 15
           },
           "zerolinecolor": "#EBF0F8",
           "zerolinewidth": 2
          }
         }
        },
        "title": {
         "text": "Average percentage of attempts for each team In 6 Yards Box"
        },
        "xaxis": {
         "showgrid": true,
         "ticktext": [
          "2009-2010",
          "2010-2011",
          "2011-2012",
          "2012-2013",
          "2013-2014",
          "2014-2015",
          "2015-2016",
          "2016-2017",
          "2017-2018",
          "2018-2019",
          "2019-2020",
          "2020-2021",
          "2021-2022"
         ],
         "tickvals": [
          2009,
          2010,
          2011,
          2012,
          2013,
          2014,
          2015,
          2016,
          2017,
          2018,
          2019,
          2020,
          2021
         ],
         "title": {
          "text": "Season"
         }
        },
        "yaxis": {
         "showgrid": true,
         "tickformat": ".0%",
         "title": {
          "text": "Attempts (%)"
         }
        }
       }
      }
     },
     "metadata": {},
     "output_type": "display_data"
    }
   ],
   "source": [
    "fig = go.Figure()\n",
    "for league in LEAGUE:\n",
    "    temp = df[df[\"league\"] == league].groupby(\"season\")[\"In 6 Yards Box_for\"].mean()\n",
    "    fig.add_scatter(x=temp.index, y=temp.values, name=league, mode=\"lines\")\n",
    "fig.update_layout(\n",
    "    title=\"Average percentage of attempts for each team In 6 Yards Box\",\n",
    "    yaxis=dict(\n",
    "        tickformat=\".0%\",\n",
    "        showgrid=True\n",
    "    ),\n",
    "    xaxis=dict(\n",
    "        tickvals=[i for i in range(2009, 2022)],\n",
    "        ticktext=[\"2009-2010\", \"2010-2011\", \"2011-2012\", \"2012-2013\", \"2013-2014\", \"2014-2015\",\n",
    "                    \"2015-2016\", \"2016-2017\", \"2017-2018\", \"2018-2019\", \"2019-2020\", \"2020-2021\", \"2021-2022\"],\n",
    "        showgrid=True\n",
    "    ),\n",
    "    xaxis_title=\"Season\",\n",
    "    yaxis_title=\"Attempts (%)\"\n",
    ")\n",
    "fig.show()"
   ]
  },
  {
   "cell_type": "markdown",
   "metadata": {},
   "source": [
    "##### Against"
   ]
  },
  {
   "cell_type": "code",
   "execution_count": 23,
   "metadata": {},
   "outputs": [
    {
     "data": {
      "application/vnd.plotly.v1+json": {
       "config": {
        "plotlyServerURL": "https://plot.ly"
       },
       "data": [
        {
         "mode": "lines",
         "name": "Bundesliga",
         "type": "scatter",
         "x": [
          2009,
          2010,
          2011,
          2012,
          2013,
          2014,
          2015,
          2016,
          2017,
          2018,
          2019,
          2020
         ],
         "y": [
          0.07055555555555557,
          0.06611111111111113,
          0.06000000000000002,
          0.06388888888888891,
          0.059444444444444446,
          0.05944444444444446,
          0.06222222222222224,
          0.06388888888888893,
          0.06333333333333337,
          0.07333333333333335,
          0.07111111111111112,
          0.06944444444444446
         ]
        },
        {
         "mode": "lines",
         "name": "EPL",
         "type": "scatter",
         "x": [
          2009,
          2010,
          2011,
          2012,
          2013,
          2014,
          2015,
          2016,
          2017,
          2018,
          2019,
          2020
         ],
         "y": [
          0.07300000000000002,
          0.07400000000000002,
          0.07250000000000002,
          0.06850000000000003,
          0.06600000000000003,
          0.06550000000000003,
          0.06550000000000003,
          0.07000000000000003,
          0.07550000000000003,
          0.08000000000000002,
          0.08700000000000002,
          0.07300000000000002
         ]
        },
        {
         "mode": "lines",
         "name": "LaLiga",
         "type": "scatter",
         "x": [
          2009,
          2010,
          2011,
          2012,
          2013,
          2014,
          2015,
          2016,
          2017,
          2018,
          2019,
          2020
         ],
         "y": [
          0.05900000000000002,
          0.05900000000000002,
          0.05900000000000002,
          0.06500000000000003,
          0.06250000000000003,
          0.07300000000000001,
          0.07000000000000003,
          0.06600000000000002,
          0.07050000000000003,
          0.07250000000000002,
          0.07350000000000002,
          0.07700000000000001
         ]
        },
        {
         "mode": "lines",
         "name": "Ligue1",
         "type": "scatter",
         "x": [
          2009,
          2010,
          2011,
          2012,
          2013,
          2014,
          2015,
          2016,
          2017,
          2018,
          2019,
          2020
         ],
         "y": [
          0.05800000000000002,
          0.05850000000000001,
          0.05600000000000003,
          0.053000000000000026,
          0.06550000000000003,
          0.05750000000000003,
          0.061500000000000034,
          0.05900000000000003,
          0.05900000000000002,
          0.062000000000000034,
          0.06250000000000003,
          0.07550000000000003
         ]
        },
        {
         "mode": "lines",
         "name": "SerieA",
         "type": "scatter",
         "x": [
          2009,
          2010,
          2011,
          2012,
          2013,
          2014,
          2015,
          2016,
          2017,
          2018,
          2019,
          2020
         ],
         "y": [
          0.05700000000000003,
          0.050500000000000024,
          0.04950000000000001,
          0.05450000000000003,
          0.053000000000000026,
          0.055500000000000015,
          0.05550000000000003,
          0.06600000000000002,
          0.066,
          0.06650000000000003,
          0.06200000000000002,
          0.07600000000000004
         ]
        }
       ],
       "layout": {
        "template": {
         "data": {
          "bar": [
           {
            "error_x": {
             "color": "#2a3f5f"
            },
            "error_y": {
             "color": "#2a3f5f"
            },
            "marker": {
             "line": {
              "color": "white",
              "width": 0.5
             },
             "pattern": {
              "fillmode": "overlay",
              "size": 10,
              "solidity": 0.2
             }
            },
            "type": "bar"
           }
          ],
          "barpolar": [
           {
            "marker": {
             "line": {
              "color": "white",
              "width": 0.5
             },
             "pattern": {
              "fillmode": "overlay",
              "size": 10,
              "solidity": 0.2
             }
            },
            "type": "barpolar"
           }
          ],
          "carpet": [
           {
            "aaxis": {
             "endlinecolor": "#2a3f5f",
             "gridcolor": "#C8D4E3",
             "linecolor": "#C8D4E3",
             "minorgridcolor": "#C8D4E3",
             "startlinecolor": "#2a3f5f"
            },
            "baxis": {
             "endlinecolor": "#2a3f5f",
             "gridcolor": "#C8D4E3",
             "linecolor": "#C8D4E3",
             "minorgridcolor": "#C8D4E3",
             "startlinecolor": "#2a3f5f"
            },
            "type": "carpet"
           }
          ],
          "choropleth": [
           {
            "colorbar": {
             "outlinewidth": 0,
             "ticks": ""
            },
            "type": "choropleth"
           }
          ],
          "contour": [
           {
            "colorbar": {
             "outlinewidth": 0,
             "ticks": ""
            },
            "colorscale": [
             [
              0,
              "#0d0887"
             ],
             [
              0.1111111111111111,
              "#46039f"
             ],
             [
              0.2222222222222222,
              "#7201a8"
             ],
             [
              0.3333333333333333,
              "#9c179e"
             ],
             [
              0.4444444444444444,
              "#bd3786"
             ],
             [
              0.5555555555555556,
              "#d8576b"
             ],
             [
              0.6666666666666666,
              "#ed7953"
             ],
             [
              0.7777777777777778,
              "#fb9f3a"
             ],
             [
              0.8888888888888888,
              "#fdca26"
             ],
             [
              1,
              "#f0f921"
             ]
            ],
            "type": "contour"
           }
          ],
          "contourcarpet": [
           {
            "colorbar": {
             "outlinewidth": 0,
             "ticks": ""
            },
            "type": "contourcarpet"
           }
          ],
          "heatmap": [
           {
            "colorbar": {
             "outlinewidth": 0,
             "ticks": ""
            },
            "colorscale": [
             [
              0,
              "#0d0887"
             ],
             [
              0.1111111111111111,
              "#46039f"
             ],
             [
              0.2222222222222222,
              "#7201a8"
             ],
             [
              0.3333333333333333,
              "#9c179e"
             ],
             [
              0.4444444444444444,
              "#bd3786"
             ],
             [
              0.5555555555555556,
              "#d8576b"
             ],
             [
              0.6666666666666666,
              "#ed7953"
             ],
             [
              0.7777777777777778,
              "#fb9f3a"
             ],
             [
              0.8888888888888888,
              "#fdca26"
             ],
             [
              1,
              "#f0f921"
             ]
            ],
            "type": "heatmap"
           }
          ],
          "heatmapgl": [
           {
            "colorbar": {
             "outlinewidth": 0,
             "ticks": ""
            },
            "colorscale": [
             [
              0,
              "#0d0887"
             ],
             [
              0.1111111111111111,
              "#46039f"
             ],
             [
              0.2222222222222222,
              "#7201a8"
             ],
             [
              0.3333333333333333,
              "#9c179e"
             ],
             [
              0.4444444444444444,
              "#bd3786"
             ],
             [
              0.5555555555555556,
              "#d8576b"
             ],
             [
              0.6666666666666666,
              "#ed7953"
             ],
             [
              0.7777777777777778,
              "#fb9f3a"
             ],
             [
              0.8888888888888888,
              "#fdca26"
             ],
             [
              1,
              "#f0f921"
             ]
            ],
            "type": "heatmapgl"
           }
          ],
          "histogram": [
           {
            "marker": {
             "pattern": {
              "fillmode": "overlay",
              "size": 10,
              "solidity": 0.2
             }
            },
            "type": "histogram"
           }
          ],
          "histogram2d": [
           {
            "colorbar": {
             "outlinewidth": 0,
             "ticks": ""
            },
            "colorscale": [
             [
              0,
              "#0d0887"
             ],
             [
              0.1111111111111111,
              "#46039f"
             ],
             [
              0.2222222222222222,
              "#7201a8"
             ],
             [
              0.3333333333333333,
              "#9c179e"
             ],
             [
              0.4444444444444444,
              "#bd3786"
             ],
             [
              0.5555555555555556,
              "#d8576b"
             ],
             [
              0.6666666666666666,
              "#ed7953"
             ],
             [
              0.7777777777777778,
              "#fb9f3a"
             ],
             [
              0.8888888888888888,
              "#fdca26"
             ],
             [
              1,
              "#f0f921"
             ]
            ],
            "type": "histogram2d"
           }
          ],
          "histogram2dcontour": [
           {
            "colorbar": {
             "outlinewidth": 0,
             "ticks": ""
            },
            "colorscale": [
             [
              0,
              "#0d0887"
             ],
             [
              0.1111111111111111,
              "#46039f"
             ],
             [
              0.2222222222222222,
              "#7201a8"
             ],
             [
              0.3333333333333333,
              "#9c179e"
             ],
             [
              0.4444444444444444,
              "#bd3786"
             ],
             [
              0.5555555555555556,
              "#d8576b"
             ],
             [
              0.6666666666666666,
              "#ed7953"
             ],
             [
              0.7777777777777778,
              "#fb9f3a"
             ],
             [
              0.8888888888888888,
              "#fdca26"
             ],
             [
              1,
              "#f0f921"
             ]
            ],
            "type": "histogram2dcontour"
           }
          ],
          "mesh3d": [
           {
            "colorbar": {
             "outlinewidth": 0,
             "ticks": ""
            },
            "type": "mesh3d"
           }
          ],
          "parcoords": [
           {
            "line": {
             "colorbar": {
              "outlinewidth": 0,
              "ticks": ""
             }
            },
            "type": "parcoords"
           }
          ],
          "pie": [
           {
            "automargin": true,
            "type": "pie"
           }
          ],
          "scatter": [
           {
            "marker": {
             "colorbar": {
              "outlinewidth": 0,
              "ticks": ""
             }
            },
            "type": "scatter"
           }
          ],
          "scatter3d": [
           {
            "line": {
             "colorbar": {
              "outlinewidth": 0,
              "ticks": ""
             }
            },
            "marker": {
             "colorbar": {
              "outlinewidth": 0,
              "ticks": ""
             }
            },
            "type": "scatter3d"
           }
          ],
          "scattercarpet": [
           {
            "marker": {
             "colorbar": {
              "outlinewidth": 0,
              "ticks": ""
             }
            },
            "type": "scattercarpet"
           }
          ],
          "scattergeo": [
           {
            "marker": {
             "colorbar": {
              "outlinewidth": 0,
              "ticks": ""
             }
            },
            "type": "scattergeo"
           }
          ],
          "scattergl": [
           {
            "marker": {
             "colorbar": {
              "outlinewidth": 0,
              "ticks": ""
             }
            },
            "type": "scattergl"
           }
          ],
          "scattermapbox": [
           {
            "marker": {
             "colorbar": {
              "outlinewidth": 0,
              "ticks": ""
             }
            },
            "type": "scattermapbox"
           }
          ],
          "scatterpolar": [
           {
            "marker": {
             "colorbar": {
              "outlinewidth": 0,
              "ticks": ""
             }
            },
            "type": "scatterpolar"
           }
          ],
          "scatterpolargl": [
           {
            "marker": {
             "colorbar": {
              "outlinewidth": 0,
              "ticks": ""
             }
            },
            "type": "scatterpolargl"
           }
          ],
          "scatterternary": [
           {
            "marker": {
             "colorbar": {
              "outlinewidth": 0,
              "ticks": ""
             }
            },
            "type": "scatterternary"
           }
          ],
          "surface": [
           {
            "colorbar": {
             "outlinewidth": 0,
             "ticks": ""
            },
            "colorscale": [
             [
              0,
              "#0d0887"
             ],
             [
              0.1111111111111111,
              "#46039f"
             ],
             [
              0.2222222222222222,
              "#7201a8"
             ],
             [
              0.3333333333333333,
              "#9c179e"
             ],
             [
              0.4444444444444444,
              "#bd3786"
             ],
             [
              0.5555555555555556,
              "#d8576b"
             ],
             [
              0.6666666666666666,
              "#ed7953"
             ],
             [
              0.7777777777777778,
              "#fb9f3a"
             ],
             [
              0.8888888888888888,
              "#fdca26"
             ],
             [
              1,
              "#f0f921"
             ]
            ],
            "type": "surface"
           }
          ],
          "table": [
           {
            "cells": {
             "fill": {
              "color": "#EBF0F8"
             },
             "line": {
              "color": "white"
             }
            },
            "header": {
             "fill": {
              "color": "#C8D4E3"
             },
             "line": {
              "color": "white"
             }
            },
            "type": "table"
           }
          ]
         },
         "layout": {
          "annotationdefaults": {
           "arrowcolor": "#2a3f5f",
           "arrowhead": 0,
           "arrowwidth": 1
          },
          "autotypenumbers": "strict",
          "coloraxis": {
           "colorbar": {
            "outlinewidth": 0,
            "ticks": ""
           }
          },
          "colorscale": {
           "diverging": [
            [
             0,
             "#8e0152"
            ],
            [
             0.1,
             "#c51b7d"
            ],
            [
             0.2,
             "#de77ae"
            ],
            [
             0.3,
             "#f1b6da"
            ],
            [
             0.4,
             "#fde0ef"
            ],
            [
             0.5,
             "#f7f7f7"
            ],
            [
             0.6,
             "#e6f5d0"
            ],
            [
             0.7,
             "#b8e186"
            ],
            [
             0.8,
             "#7fbc41"
            ],
            [
             0.9,
             "#4d9221"
            ],
            [
             1,
             "#276419"
            ]
           ],
           "sequential": [
            [
             0,
             "#0d0887"
            ],
            [
             0.1111111111111111,
             "#46039f"
            ],
            [
             0.2222222222222222,
             "#7201a8"
            ],
            [
             0.3333333333333333,
             "#9c179e"
            ],
            [
             0.4444444444444444,
             "#bd3786"
            ],
            [
             0.5555555555555556,
             "#d8576b"
            ],
            [
             0.6666666666666666,
             "#ed7953"
            ],
            [
             0.7777777777777778,
             "#fb9f3a"
            ],
            [
             0.8888888888888888,
             "#fdca26"
            ],
            [
             1,
             "#f0f921"
            ]
           ],
           "sequentialminus": [
            [
             0,
             "#0d0887"
            ],
            [
             0.1111111111111111,
             "#46039f"
            ],
            [
             0.2222222222222222,
             "#7201a8"
            ],
            [
             0.3333333333333333,
             "#9c179e"
            ],
            [
             0.4444444444444444,
             "#bd3786"
            ],
            [
             0.5555555555555556,
             "#d8576b"
            ],
            [
             0.6666666666666666,
             "#ed7953"
            ],
            [
             0.7777777777777778,
             "#fb9f3a"
            ],
            [
             0.8888888888888888,
             "#fdca26"
            ],
            [
             1,
             "#f0f921"
            ]
           ]
          },
          "colorway": [
           "#636efa",
           "#EF553B",
           "#00cc96",
           "#ab63fa",
           "#FFA15A",
           "#19d3f3",
           "#FF6692",
           "#B6E880",
           "#FF97FF",
           "#FECB52"
          ],
          "font": {
           "color": "#2a3f5f"
          },
          "geo": {
           "bgcolor": "white",
           "lakecolor": "white",
           "landcolor": "white",
           "showlakes": true,
           "showland": true,
           "subunitcolor": "#C8D4E3"
          },
          "hoverlabel": {
           "align": "left"
          },
          "hovermode": "closest",
          "mapbox": {
           "style": "light"
          },
          "paper_bgcolor": "white",
          "plot_bgcolor": "white",
          "polar": {
           "angularaxis": {
            "gridcolor": "#EBF0F8",
            "linecolor": "#EBF0F8",
            "ticks": ""
           },
           "bgcolor": "white",
           "radialaxis": {
            "gridcolor": "#EBF0F8",
            "linecolor": "#EBF0F8",
            "ticks": ""
           }
          },
          "scene": {
           "xaxis": {
            "backgroundcolor": "white",
            "gridcolor": "#DFE8F3",
            "gridwidth": 2,
            "linecolor": "#EBF0F8",
            "showbackground": true,
            "ticks": "",
            "zerolinecolor": "#EBF0F8"
           },
           "yaxis": {
            "backgroundcolor": "white",
            "gridcolor": "#DFE8F3",
            "gridwidth": 2,
            "linecolor": "#EBF0F8",
            "showbackground": true,
            "ticks": "",
            "zerolinecolor": "#EBF0F8"
           },
           "zaxis": {
            "backgroundcolor": "white",
            "gridcolor": "#DFE8F3",
            "gridwidth": 2,
            "linecolor": "#EBF0F8",
            "showbackground": true,
            "ticks": "",
            "zerolinecolor": "#EBF0F8"
           }
          },
          "shapedefaults": {
           "line": {
            "color": "#2a3f5f"
           }
          },
          "ternary": {
           "aaxis": {
            "gridcolor": "#DFE8F3",
            "linecolor": "#A2B1C6",
            "ticks": ""
           },
           "baxis": {
            "gridcolor": "#DFE8F3",
            "linecolor": "#A2B1C6",
            "ticks": ""
           },
           "bgcolor": "white",
           "caxis": {
            "gridcolor": "#DFE8F3",
            "linecolor": "#A2B1C6",
            "ticks": ""
           }
          },
          "title": {
           "x": 0.05
          },
          "xaxis": {
           "automargin": true,
           "gridcolor": "#EBF0F8",
           "linecolor": "#EBF0F8",
           "ticks": "",
           "title": {
            "standoff": 15
           },
           "zerolinecolor": "#EBF0F8",
           "zerolinewidth": 2
          },
          "yaxis": {
           "automargin": true,
           "gridcolor": "#EBF0F8",
           "linecolor": "#EBF0F8",
           "ticks": "",
           "title": {
            "standoff": 15
           },
           "zerolinecolor": "#EBF0F8",
           "zerolinewidth": 2
          }
         }
        },
        "title": {
         "text": "Average percentage of attempts against each team In 6 Yards Box"
        },
        "xaxis": {
         "showgrid": true,
         "ticktext": [
          "2009-2010",
          "2010-2011",
          "2011-2012",
          "2012-2013",
          "2013-2014",
          "2014-2015",
          "2015-2016",
          "2016-2017",
          "2017-2018",
          "2018-2019",
          "2019-2020",
          "2020-2021",
          "2021-2022"
         ],
         "tickvals": [
          2009,
          2010,
          2011,
          2012,
          2013,
          2014,
          2015,
          2016,
          2017,
          2018,
          2019,
          2020,
          2021
         ],
         "title": {
          "text": "Season"
         }
        },
        "yaxis": {
         "showgrid": true,
         "tickformat": ".0%",
         "title": {
          "text": "Attempts (%)"
         }
        }
       }
      }
     },
     "metadata": {},
     "output_type": "display_data"
    }
   ],
   "source": [
    "fig = go.Figure()\n",
    "for league in LEAGUE:\n",
    "    temp = df[df[\"league\"] == league].groupby(\"season\")[\"In 6 Yards Box_against\"].mean()\n",
    "    fig.add_scatter(x=temp.index, y=temp.values, name=league, mode=\"lines\")\n",
    "fig.update_layout(\n",
    "    title=\"Average percentage of attempts against each team In 6 Yards Box\",\n",
    "    yaxis=dict(\n",
    "        tickformat=\".0%\",\n",
    "        showgrid=True\n",
    "    ),\n",
    "    xaxis=dict(\n",
    "        tickvals=[i for i in range(2009, 2022)],\n",
    "        ticktext=[\"2009-2010\", \"2010-2011\", \"2011-2012\", \"2012-2013\", \"2013-2014\", \"2014-2015\",\n",
    "                    \"2015-2016\", \"2016-2017\", \"2017-2018\", \"2018-2019\", \"2019-2020\", \"2020-2021\", \"2021-2022\"],\n",
    "        showgrid=True\n",
    "    ),\n",
    "    xaxis_title=\"Season\",\n",
    "    yaxis_title=\"Attempts (%)\"\n",
    ")\n",
    "fig.show()"
   ]
  },
  {
   "cell_type": "markdown",
   "metadata": {},
   "source": [
    "#### In 18 Yards Box"
   ]
  },
  {
   "cell_type": "markdown",
   "metadata": {},
   "source": [
    "##### For"
   ]
  },
  {
   "cell_type": "code",
   "execution_count": 24,
   "metadata": {},
   "outputs": [
    {
     "data": {
      "application/vnd.plotly.v1+json": {
       "config": {
        "plotlyServerURL": "https://plot.ly"
       },
       "data": [
        {
         "mode": "lines",
         "name": "Bundesliga",
         "type": "scatter",
         "x": [
          2009,
          2010,
          2011,
          2012,
          2013,
          2014,
          2015,
          2016,
          2017,
          2018,
          2019,
          2020
         ],
         "y": [
          0.47333333333333333,
          0.4833333333333334,
          0.5155555555555557,
          0.5155555555555555,
          0.5127777777777779,
          0.5194444444444444,
          0.5544444444444445,
          0.547222222222222,
          0.5527777777777777,
          0.56,
          0.5599999999999999,
          0.5788888888888889
         ]
        },
        {
         "mode": "lines",
         "name": "EPL",
         "type": "scatter",
         "x": [
          2009,
          2010,
          2011,
          2012,
          2013,
          2014,
          2015,
          2016,
          2017,
          2018,
          2019,
          2020
         ],
         "y": [
          0.477,
          0.4900000000000001,
          0.48100000000000004,
          0.4920000000000001,
          0.48100000000000004,
          0.5029999999999999,
          0.518,
          0.5210000000000001,
          0.5265,
          0.5420000000000001,
          0.5610000000000002,
          0.562
         ]
        },
        {
         "mode": "lines",
         "name": "LaLiga",
         "type": "scatter",
         "x": [
          2009,
          2010,
          2011,
          2012,
          2013,
          2014,
          2015,
          2016,
          2017,
          2018,
          2019,
          2020
         ],
         "y": [
          0.49650000000000005,
          0.5000000000000002,
          0.49899999999999994,
          0.489,
          0.49949999999999994,
          0.5085,
          0.5385,
          0.5379999999999999,
          0.547,
          0.5505,
          0.5440000000000002,
          0.5584999999999999
         ]
        },
        {
         "mode": "lines",
         "name": "Ligue1",
         "type": "scatter",
         "x": [
          2009,
          2010,
          2011,
          2012,
          2013,
          2014,
          2015,
          2016,
          2017,
          2018,
          2019,
          2020
         ],
         "y": [
          0.4655,
          0.46499999999999997,
          0.4835000000000001,
          0.4955,
          0.49149999999999994,
          0.5185000000000002,
          0.5199999999999999,
          0.5285,
          0.5079999999999999,
          0.5145000000000002,
          0.5225,
          0.5425
         ]
        },
        {
         "mode": "lines",
         "name": "SerieA",
         "type": "scatter",
         "x": [
          2009,
          2010,
          2011,
          2012,
          2013,
          2014,
          2015,
          2016,
          2017,
          2018,
          2019,
          2020
         ],
         "y": [
          0.4425,
          0.4589999999999999,
          0.45999999999999996,
          0.44300000000000006,
          0.4525,
          0.4779999999999999,
          0.4805,
          0.5155000000000001,
          0.5095000000000001,
          0.5150000000000001,
          0.5309999999999999,
          0.5665
         ]
        }
       ],
       "layout": {
        "template": {
         "data": {
          "bar": [
           {
            "error_x": {
             "color": "#2a3f5f"
            },
            "error_y": {
             "color": "#2a3f5f"
            },
            "marker": {
             "line": {
              "color": "white",
              "width": 0.5
             },
             "pattern": {
              "fillmode": "overlay",
              "size": 10,
              "solidity": 0.2
             }
            },
            "type": "bar"
           }
          ],
          "barpolar": [
           {
            "marker": {
             "line": {
              "color": "white",
              "width": 0.5
             },
             "pattern": {
              "fillmode": "overlay",
              "size": 10,
              "solidity": 0.2
             }
            },
            "type": "barpolar"
           }
          ],
          "carpet": [
           {
            "aaxis": {
             "endlinecolor": "#2a3f5f",
             "gridcolor": "#C8D4E3",
             "linecolor": "#C8D4E3",
             "minorgridcolor": "#C8D4E3",
             "startlinecolor": "#2a3f5f"
            },
            "baxis": {
             "endlinecolor": "#2a3f5f",
             "gridcolor": "#C8D4E3",
             "linecolor": "#C8D4E3",
             "minorgridcolor": "#C8D4E3",
             "startlinecolor": "#2a3f5f"
            },
            "type": "carpet"
           }
          ],
          "choropleth": [
           {
            "colorbar": {
             "outlinewidth": 0,
             "ticks": ""
            },
            "type": "choropleth"
           }
          ],
          "contour": [
           {
            "colorbar": {
             "outlinewidth": 0,
             "ticks": ""
            },
            "colorscale": [
             [
              0,
              "#0d0887"
             ],
             [
              0.1111111111111111,
              "#46039f"
             ],
             [
              0.2222222222222222,
              "#7201a8"
             ],
             [
              0.3333333333333333,
              "#9c179e"
             ],
             [
              0.4444444444444444,
              "#bd3786"
             ],
             [
              0.5555555555555556,
              "#d8576b"
             ],
             [
              0.6666666666666666,
              "#ed7953"
             ],
             [
              0.7777777777777778,
              "#fb9f3a"
             ],
             [
              0.8888888888888888,
              "#fdca26"
             ],
             [
              1,
              "#f0f921"
             ]
            ],
            "type": "contour"
           }
          ],
          "contourcarpet": [
           {
            "colorbar": {
             "outlinewidth": 0,
             "ticks": ""
            },
            "type": "contourcarpet"
           }
          ],
          "heatmap": [
           {
            "colorbar": {
             "outlinewidth": 0,
             "ticks": ""
            },
            "colorscale": [
             [
              0,
              "#0d0887"
             ],
             [
              0.1111111111111111,
              "#46039f"
             ],
             [
              0.2222222222222222,
              "#7201a8"
             ],
             [
              0.3333333333333333,
              "#9c179e"
             ],
             [
              0.4444444444444444,
              "#bd3786"
             ],
             [
              0.5555555555555556,
              "#d8576b"
             ],
             [
              0.6666666666666666,
              "#ed7953"
             ],
             [
              0.7777777777777778,
              "#fb9f3a"
             ],
             [
              0.8888888888888888,
              "#fdca26"
             ],
             [
              1,
              "#f0f921"
             ]
            ],
            "type": "heatmap"
           }
          ],
          "heatmapgl": [
           {
            "colorbar": {
             "outlinewidth": 0,
             "ticks": ""
            },
            "colorscale": [
             [
              0,
              "#0d0887"
             ],
             [
              0.1111111111111111,
              "#46039f"
             ],
             [
              0.2222222222222222,
              "#7201a8"
             ],
             [
              0.3333333333333333,
              "#9c179e"
             ],
             [
              0.4444444444444444,
              "#bd3786"
             ],
             [
              0.5555555555555556,
              "#d8576b"
             ],
             [
              0.6666666666666666,
              "#ed7953"
             ],
             [
              0.7777777777777778,
              "#fb9f3a"
             ],
             [
              0.8888888888888888,
              "#fdca26"
             ],
             [
              1,
              "#f0f921"
             ]
            ],
            "type": "heatmapgl"
           }
          ],
          "histogram": [
           {
            "marker": {
             "pattern": {
              "fillmode": "overlay",
              "size": 10,
              "solidity": 0.2
             }
            },
            "type": "histogram"
           }
          ],
          "histogram2d": [
           {
            "colorbar": {
             "outlinewidth": 0,
             "ticks": ""
            },
            "colorscale": [
             [
              0,
              "#0d0887"
             ],
             [
              0.1111111111111111,
              "#46039f"
             ],
             [
              0.2222222222222222,
              "#7201a8"
             ],
             [
              0.3333333333333333,
              "#9c179e"
             ],
             [
              0.4444444444444444,
              "#bd3786"
             ],
             [
              0.5555555555555556,
              "#d8576b"
             ],
             [
              0.6666666666666666,
              "#ed7953"
             ],
             [
              0.7777777777777778,
              "#fb9f3a"
             ],
             [
              0.8888888888888888,
              "#fdca26"
             ],
             [
              1,
              "#f0f921"
             ]
            ],
            "type": "histogram2d"
           }
          ],
          "histogram2dcontour": [
           {
            "colorbar": {
             "outlinewidth": 0,
             "ticks": ""
            },
            "colorscale": [
             [
              0,
              "#0d0887"
             ],
             [
              0.1111111111111111,
              "#46039f"
             ],
             [
              0.2222222222222222,
              "#7201a8"
             ],
             [
              0.3333333333333333,
              "#9c179e"
             ],
             [
              0.4444444444444444,
              "#bd3786"
             ],
             [
              0.5555555555555556,
              "#d8576b"
             ],
             [
              0.6666666666666666,
              "#ed7953"
             ],
             [
              0.7777777777777778,
              "#fb9f3a"
             ],
             [
              0.8888888888888888,
              "#fdca26"
             ],
             [
              1,
              "#f0f921"
             ]
            ],
            "type": "histogram2dcontour"
           }
          ],
          "mesh3d": [
           {
            "colorbar": {
             "outlinewidth": 0,
             "ticks": ""
            },
            "type": "mesh3d"
           }
          ],
          "parcoords": [
           {
            "line": {
             "colorbar": {
              "outlinewidth": 0,
              "ticks": ""
             }
            },
            "type": "parcoords"
           }
          ],
          "pie": [
           {
            "automargin": true,
            "type": "pie"
           }
          ],
          "scatter": [
           {
            "marker": {
             "colorbar": {
              "outlinewidth": 0,
              "ticks": ""
             }
            },
            "type": "scatter"
           }
          ],
          "scatter3d": [
           {
            "line": {
             "colorbar": {
              "outlinewidth": 0,
              "ticks": ""
             }
            },
            "marker": {
             "colorbar": {
              "outlinewidth": 0,
              "ticks": ""
             }
            },
            "type": "scatter3d"
           }
          ],
          "scattercarpet": [
           {
            "marker": {
             "colorbar": {
              "outlinewidth": 0,
              "ticks": ""
             }
            },
            "type": "scattercarpet"
           }
          ],
          "scattergeo": [
           {
            "marker": {
             "colorbar": {
              "outlinewidth": 0,
              "ticks": ""
             }
            },
            "type": "scattergeo"
           }
          ],
          "scattergl": [
           {
            "marker": {
             "colorbar": {
              "outlinewidth": 0,
              "ticks": ""
             }
            },
            "type": "scattergl"
           }
          ],
          "scattermapbox": [
           {
            "marker": {
             "colorbar": {
              "outlinewidth": 0,
              "ticks": ""
             }
            },
            "type": "scattermapbox"
           }
          ],
          "scatterpolar": [
           {
            "marker": {
             "colorbar": {
              "outlinewidth": 0,
              "ticks": ""
             }
            },
            "type": "scatterpolar"
           }
          ],
          "scatterpolargl": [
           {
            "marker": {
             "colorbar": {
              "outlinewidth": 0,
              "ticks": ""
             }
            },
            "type": "scatterpolargl"
           }
          ],
          "scatterternary": [
           {
            "marker": {
             "colorbar": {
              "outlinewidth": 0,
              "ticks": ""
             }
            },
            "type": "scatterternary"
           }
          ],
          "surface": [
           {
            "colorbar": {
             "outlinewidth": 0,
             "ticks": ""
            },
            "colorscale": [
             [
              0,
              "#0d0887"
             ],
             [
              0.1111111111111111,
              "#46039f"
             ],
             [
              0.2222222222222222,
              "#7201a8"
             ],
             [
              0.3333333333333333,
              "#9c179e"
             ],
             [
              0.4444444444444444,
              "#bd3786"
             ],
             [
              0.5555555555555556,
              "#d8576b"
             ],
             [
              0.6666666666666666,
              "#ed7953"
             ],
             [
              0.7777777777777778,
              "#fb9f3a"
             ],
             [
              0.8888888888888888,
              "#fdca26"
             ],
             [
              1,
              "#f0f921"
             ]
            ],
            "type": "surface"
           }
          ],
          "table": [
           {
            "cells": {
             "fill": {
              "color": "#EBF0F8"
             },
             "line": {
              "color": "white"
             }
            },
            "header": {
             "fill": {
              "color": "#C8D4E3"
             },
             "line": {
              "color": "white"
             }
            },
            "type": "table"
           }
          ]
         },
         "layout": {
          "annotationdefaults": {
           "arrowcolor": "#2a3f5f",
           "arrowhead": 0,
           "arrowwidth": 1
          },
          "autotypenumbers": "strict",
          "coloraxis": {
           "colorbar": {
            "outlinewidth": 0,
            "ticks": ""
           }
          },
          "colorscale": {
           "diverging": [
            [
             0,
             "#8e0152"
            ],
            [
             0.1,
             "#c51b7d"
            ],
            [
             0.2,
             "#de77ae"
            ],
            [
             0.3,
             "#f1b6da"
            ],
            [
             0.4,
             "#fde0ef"
            ],
            [
             0.5,
             "#f7f7f7"
            ],
            [
             0.6,
             "#e6f5d0"
            ],
            [
             0.7,
             "#b8e186"
            ],
            [
             0.8,
             "#7fbc41"
            ],
            [
             0.9,
             "#4d9221"
            ],
            [
             1,
             "#276419"
            ]
           ],
           "sequential": [
            [
             0,
             "#0d0887"
            ],
            [
             0.1111111111111111,
             "#46039f"
            ],
            [
             0.2222222222222222,
             "#7201a8"
            ],
            [
             0.3333333333333333,
             "#9c179e"
            ],
            [
             0.4444444444444444,
             "#bd3786"
            ],
            [
             0.5555555555555556,
             "#d8576b"
            ],
            [
             0.6666666666666666,
             "#ed7953"
            ],
            [
             0.7777777777777778,
             "#fb9f3a"
            ],
            [
             0.8888888888888888,
             "#fdca26"
            ],
            [
             1,
             "#f0f921"
            ]
           ],
           "sequentialminus": [
            [
             0,
             "#0d0887"
            ],
            [
             0.1111111111111111,
             "#46039f"
            ],
            [
             0.2222222222222222,
             "#7201a8"
            ],
            [
             0.3333333333333333,
             "#9c179e"
            ],
            [
             0.4444444444444444,
             "#bd3786"
            ],
            [
             0.5555555555555556,
             "#d8576b"
            ],
            [
             0.6666666666666666,
             "#ed7953"
            ],
            [
             0.7777777777777778,
             "#fb9f3a"
            ],
            [
             0.8888888888888888,
             "#fdca26"
            ],
            [
             1,
             "#f0f921"
            ]
           ]
          },
          "colorway": [
           "#636efa",
           "#EF553B",
           "#00cc96",
           "#ab63fa",
           "#FFA15A",
           "#19d3f3",
           "#FF6692",
           "#B6E880",
           "#FF97FF",
           "#FECB52"
          ],
          "font": {
           "color": "#2a3f5f"
          },
          "geo": {
           "bgcolor": "white",
           "lakecolor": "white",
           "landcolor": "white",
           "showlakes": true,
           "showland": true,
           "subunitcolor": "#C8D4E3"
          },
          "hoverlabel": {
           "align": "left"
          },
          "hovermode": "closest",
          "mapbox": {
           "style": "light"
          },
          "paper_bgcolor": "white",
          "plot_bgcolor": "white",
          "polar": {
           "angularaxis": {
            "gridcolor": "#EBF0F8",
            "linecolor": "#EBF0F8",
            "ticks": ""
           },
           "bgcolor": "white",
           "radialaxis": {
            "gridcolor": "#EBF0F8",
            "linecolor": "#EBF0F8",
            "ticks": ""
           }
          },
          "scene": {
           "xaxis": {
            "backgroundcolor": "white",
            "gridcolor": "#DFE8F3",
            "gridwidth": 2,
            "linecolor": "#EBF0F8",
            "showbackground": true,
            "ticks": "",
            "zerolinecolor": "#EBF0F8"
           },
           "yaxis": {
            "backgroundcolor": "white",
            "gridcolor": "#DFE8F3",
            "gridwidth": 2,
            "linecolor": "#EBF0F8",
            "showbackground": true,
            "ticks": "",
            "zerolinecolor": "#EBF0F8"
           },
           "zaxis": {
            "backgroundcolor": "white",
            "gridcolor": "#DFE8F3",
            "gridwidth": 2,
            "linecolor": "#EBF0F8",
            "showbackground": true,
            "ticks": "",
            "zerolinecolor": "#EBF0F8"
           }
          },
          "shapedefaults": {
           "line": {
            "color": "#2a3f5f"
           }
          },
          "ternary": {
           "aaxis": {
            "gridcolor": "#DFE8F3",
            "linecolor": "#A2B1C6",
            "ticks": ""
           },
           "baxis": {
            "gridcolor": "#DFE8F3",
            "linecolor": "#A2B1C6",
            "ticks": ""
           },
           "bgcolor": "white",
           "caxis": {
            "gridcolor": "#DFE8F3",
            "linecolor": "#A2B1C6",
            "ticks": ""
           }
          },
          "title": {
           "x": 0.05
          },
          "xaxis": {
           "automargin": true,
           "gridcolor": "#EBF0F8",
           "linecolor": "#EBF0F8",
           "ticks": "",
           "title": {
            "standoff": 15
           },
           "zerolinecolor": "#EBF0F8",
           "zerolinewidth": 2
          },
          "yaxis": {
           "automargin": true,
           "gridcolor": "#EBF0F8",
           "linecolor": "#EBF0F8",
           "ticks": "",
           "title": {
            "standoff": 15
           },
           "zerolinecolor": "#EBF0F8",
           "zerolinewidth": 2
          }
         }
        },
        "title": {
         "text": "Average percentage of attempts for each team In 18 Yards Box"
        },
        "xaxis": {
         "showgrid": true,
         "ticktext": [
          "2009-2010",
          "2010-2011",
          "2011-2012",
          "2012-2013",
          "2013-2014",
          "2014-2015",
          "2015-2016",
          "2016-2017",
          "2017-2018",
          "2018-2019",
          "2019-2020",
          "2020-2021",
          "2021-2022"
         ],
         "tickvals": [
          2009,
          2010,
          2011,
          2012,
          2013,
          2014,
          2015,
          2016,
          2017,
          2018,
          2019,
          2020,
          2021
         ],
         "title": {
          "text": "Season"
         }
        },
        "yaxis": {
         "showgrid": true,
         "tickformat": ".0%",
         "title": {
          "text": "Attempts (%)"
         }
        }
       }
      }
     },
     "metadata": {},
     "output_type": "display_data"
    }
   ],
   "source": [
    "fig = go.Figure()\n",
    "for league in LEAGUE:\n",
    "    temp = df[df[\"league\"] == league].groupby(\"season\")[\"In 18 Yards Box_for\"].mean()\n",
    "    fig.add_scatter(x=temp.index, y=temp.values, name=league, mode=\"lines\")\n",
    "fig.update_layout(\n",
    "    title=\"Average percentage of attempts for each team In 18 Yards Box\",\n",
    "    yaxis=dict(\n",
    "        tickformat=\".0%\",\n",
    "        showgrid=True\n",
    "    ),\n",
    "    xaxis=dict(\n",
    "        tickvals=[i for i in range(2009, 2022)],\n",
    "        ticktext=[\"2009-2010\", \"2010-2011\", \"2011-2012\", \"2012-2013\", \"2013-2014\", \"2014-2015\",\n",
    "                    \"2015-2016\", \"2016-2017\", \"2017-2018\", \"2018-2019\", \"2019-2020\", \"2020-2021\", \"2021-2022\"],\n",
    "        showgrid=True\n",
    "    ),\n",
    "    xaxis_title=\"Season\",\n",
    "    yaxis_title=\"Attempts (%)\"\n",
    ")\n",
    "fig.show()"
   ]
  },
  {
   "cell_type": "markdown",
   "metadata": {},
   "source": [
    "##### Against"
   ]
  },
  {
   "cell_type": "code",
   "execution_count": 25,
   "metadata": {},
   "outputs": [
    {
     "data": {
      "application/vnd.plotly.v1+json": {
       "config": {
        "plotlyServerURL": "https://plot.ly"
       },
       "data": [
        {
         "mode": "lines",
         "name": "Bundesliga",
         "type": "scatter",
         "x": [
          2009,
          2010,
          2011,
          2012,
          2013,
          2014,
          2015,
          2016,
          2017,
          2018,
          2019,
          2020
         ],
         "y": [
          0.4811111111111111,
          0.4833333333333333,
          0.5166666666666666,
          0.5188888888888888,
          0.518888888888889,
          0.5211111111111111,
          0.5577777777777776,
          0.5522222222222223,
          0.5527777777777777,
          0.558888888888889,
          0.5611111111111111,
          0.5838888888888889
         ]
        },
        {
         "mode": "lines",
         "name": "EPL",
         "type": "scatter",
         "x": [
          2009,
          2010,
          2011,
          2012,
          2013,
          2014,
          2015,
          2016,
          2017,
          2018,
          2019,
          2020
         ],
         "y": [
          0.4740000000000002,
          0.487,
          0.4795,
          0.49149999999999994,
          0.484,
          0.5085000000000001,
          0.522,
          0.5210000000000001,
          0.5309999999999999,
          0.5415,
          0.5635,
          0.5645
         ]
        },
        {
         "mode": "lines",
         "name": "LaLiga",
         "type": "scatter",
         "x": [
          2009,
          2010,
          2011,
          2012,
          2013,
          2014,
          2015,
          2016,
          2017,
          2018,
          2019,
          2020
         ],
         "y": [
          0.4995,
          0.5025000000000001,
          0.5030000000000001,
          0.4925,
          0.5045000000000002,
          0.511,
          0.5415,
          0.542,
          0.5505,
          0.5525000000000001,
          0.5434999999999998,
          0.5565
         ]
        },
        {
         "mode": "lines",
         "name": "Ligue1",
         "type": "scatter",
         "x": [
          2009,
          2010,
          2011,
          2012,
          2013,
          2014,
          2015,
          2016,
          2017,
          2018,
          2019,
          2020
         ],
         "y": [
          0.4655,
          0.46699999999999997,
          0.48600000000000004,
          0.4995,
          0.4950000000000001,
          0.5185000000000001,
          0.5225000000000002,
          0.529,
          0.5109999999999999,
          0.518,
          0.5245000000000001,
          0.5460000000000002
         ]
        },
        {
         "mode": "lines",
         "name": "SerieA",
         "type": "scatter",
         "x": [
          2009,
          2010,
          2011,
          2012,
          2013,
          2014,
          2015,
          2016,
          2017,
          2018,
          2019,
          2020
         ],
         "y": [
          0.4415,
          0.4595000000000001,
          0.4600000000000001,
          0.43900000000000006,
          0.45099999999999996,
          0.48000000000000015,
          0.47850000000000004,
          0.5155,
          0.5055,
          0.5175,
          0.5285,
          0.5675
         ]
        }
       ],
       "layout": {
        "template": {
         "data": {
          "bar": [
           {
            "error_x": {
             "color": "#2a3f5f"
            },
            "error_y": {
             "color": "#2a3f5f"
            },
            "marker": {
             "line": {
              "color": "white",
              "width": 0.5
             },
             "pattern": {
              "fillmode": "overlay",
              "size": 10,
              "solidity": 0.2
             }
            },
            "type": "bar"
           }
          ],
          "barpolar": [
           {
            "marker": {
             "line": {
              "color": "white",
              "width": 0.5
             },
             "pattern": {
              "fillmode": "overlay",
              "size": 10,
              "solidity": 0.2
             }
            },
            "type": "barpolar"
           }
          ],
          "carpet": [
           {
            "aaxis": {
             "endlinecolor": "#2a3f5f",
             "gridcolor": "#C8D4E3",
             "linecolor": "#C8D4E3",
             "minorgridcolor": "#C8D4E3",
             "startlinecolor": "#2a3f5f"
            },
            "baxis": {
             "endlinecolor": "#2a3f5f",
             "gridcolor": "#C8D4E3",
             "linecolor": "#C8D4E3",
             "minorgridcolor": "#C8D4E3",
             "startlinecolor": "#2a3f5f"
            },
            "type": "carpet"
           }
          ],
          "choropleth": [
           {
            "colorbar": {
             "outlinewidth": 0,
             "ticks": ""
            },
            "type": "choropleth"
           }
          ],
          "contour": [
           {
            "colorbar": {
             "outlinewidth": 0,
             "ticks": ""
            },
            "colorscale": [
             [
              0,
              "#0d0887"
             ],
             [
              0.1111111111111111,
              "#46039f"
             ],
             [
              0.2222222222222222,
              "#7201a8"
             ],
             [
              0.3333333333333333,
              "#9c179e"
             ],
             [
              0.4444444444444444,
              "#bd3786"
             ],
             [
              0.5555555555555556,
              "#d8576b"
             ],
             [
              0.6666666666666666,
              "#ed7953"
             ],
             [
              0.7777777777777778,
              "#fb9f3a"
             ],
             [
              0.8888888888888888,
              "#fdca26"
             ],
             [
              1,
              "#f0f921"
             ]
            ],
            "type": "contour"
           }
          ],
          "contourcarpet": [
           {
            "colorbar": {
             "outlinewidth": 0,
             "ticks": ""
            },
            "type": "contourcarpet"
           }
          ],
          "heatmap": [
           {
            "colorbar": {
             "outlinewidth": 0,
             "ticks": ""
            },
            "colorscale": [
             [
              0,
              "#0d0887"
             ],
             [
              0.1111111111111111,
              "#46039f"
             ],
             [
              0.2222222222222222,
              "#7201a8"
             ],
             [
              0.3333333333333333,
              "#9c179e"
             ],
             [
              0.4444444444444444,
              "#bd3786"
             ],
             [
              0.5555555555555556,
              "#d8576b"
             ],
             [
              0.6666666666666666,
              "#ed7953"
             ],
             [
              0.7777777777777778,
              "#fb9f3a"
             ],
             [
              0.8888888888888888,
              "#fdca26"
             ],
             [
              1,
              "#f0f921"
             ]
            ],
            "type": "heatmap"
           }
          ],
          "heatmapgl": [
           {
            "colorbar": {
             "outlinewidth": 0,
             "ticks": ""
            },
            "colorscale": [
             [
              0,
              "#0d0887"
             ],
             [
              0.1111111111111111,
              "#46039f"
             ],
             [
              0.2222222222222222,
              "#7201a8"
             ],
             [
              0.3333333333333333,
              "#9c179e"
             ],
             [
              0.4444444444444444,
              "#bd3786"
             ],
             [
              0.5555555555555556,
              "#d8576b"
             ],
             [
              0.6666666666666666,
              "#ed7953"
             ],
             [
              0.7777777777777778,
              "#fb9f3a"
             ],
             [
              0.8888888888888888,
              "#fdca26"
             ],
             [
              1,
              "#f0f921"
             ]
            ],
            "type": "heatmapgl"
           }
          ],
          "histogram": [
           {
            "marker": {
             "pattern": {
              "fillmode": "overlay",
              "size": 10,
              "solidity": 0.2
             }
            },
            "type": "histogram"
           }
          ],
          "histogram2d": [
           {
            "colorbar": {
             "outlinewidth": 0,
             "ticks": ""
            },
            "colorscale": [
             [
              0,
              "#0d0887"
             ],
             [
              0.1111111111111111,
              "#46039f"
             ],
             [
              0.2222222222222222,
              "#7201a8"
             ],
             [
              0.3333333333333333,
              "#9c179e"
             ],
             [
              0.4444444444444444,
              "#bd3786"
             ],
             [
              0.5555555555555556,
              "#d8576b"
             ],
             [
              0.6666666666666666,
              "#ed7953"
             ],
             [
              0.7777777777777778,
              "#fb9f3a"
             ],
             [
              0.8888888888888888,
              "#fdca26"
             ],
             [
              1,
              "#f0f921"
             ]
            ],
            "type": "histogram2d"
           }
          ],
          "histogram2dcontour": [
           {
            "colorbar": {
             "outlinewidth": 0,
             "ticks": ""
            },
            "colorscale": [
             [
              0,
              "#0d0887"
             ],
             [
              0.1111111111111111,
              "#46039f"
             ],
             [
              0.2222222222222222,
              "#7201a8"
             ],
             [
              0.3333333333333333,
              "#9c179e"
             ],
             [
              0.4444444444444444,
              "#bd3786"
             ],
             [
              0.5555555555555556,
              "#d8576b"
             ],
             [
              0.6666666666666666,
              "#ed7953"
             ],
             [
              0.7777777777777778,
              "#fb9f3a"
             ],
             [
              0.8888888888888888,
              "#fdca26"
             ],
             [
              1,
              "#f0f921"
             ]
            ],
            "type": "histogram2dcontour"
           }
          ],
          "mesh3d": [
           {
            "colorbar": {
             "outlinewidth": 0,
             "ticks": ""
            },
            "type": "mesh3d"
           }
          ],
          "parcoords": [
           {
            "line": {
             "colorbar": {
              "outlinewidth": 0,
              "ticks": ""
             }
            },
            "type": "parcoords"
           }
          ],
          "pie": [
           {
            "automargin": true,
            "type": "pie"
           }
          ],
          "scatter": [
           {
            "marker": {
             "colorbar": {
              "outlinewidth": 0,
              "ticks": ""
             }
            },
            "type": "scatter"
           }
          ],
          "scatter3d": [
           {
            "line": {
             "colorbar": {
              "outlinewidth": 0,
              "ticks": ""
             }
            },
            "marker": {
             "colorbar": {
              "outlinewidth": 0,
              "ticks": ""
             }
            },
            "type": "scatter3d"
           }
          ],
          "scattercarpet": [
           {
            "marker": {
             "colorbar": {
              "outlinewidth": 0,
              "ticks": ""
             }
            },
            "type": "scattercarpet"
           }
          ],
          "scattergeo": [
           {
            "marker": {
             "colorbar": {
              "outlinewidth": 0,
              "ticks": ""
             }
            },
            "type": "scattergeo"
           }
          ],
          "scattergl": [
           {
            "marker": {
             "colorbar": {
              "outlinewidth": 0,
              "ticks": ""
             }
            },
            "type": "scattergl"
           }
          ],
          "scattermapbox": [
           {
            "marker": {
             "colorbar": {
              "outlinewidth": 0,
              "ticks": ""
             }
            },
            "type": "scattermapbox"
           }
          ],
          "scatterpolar": [
           {
            "marker": {
             "colorbar": {
              "outlinewidth": 0,
              "ticks": ""
             }
            },
            "type": "scatterpolar"
           }
          ],
          "scatterpolargl": [
           {
            "marker": {
             "colorbar": {
              "outlinewidth": 0,
              "ticks": ""
             }
            },
            "type": "scatterpolargl"
           }
          ],
          "scatterternary": [
           {
            "marker": {
             "colorbar": {
              "outlinewidth": 0,
              "ticks": ""
             }
            },
            "type": "scatterternary"
           }
          ],
          "surface": [
           {
            "colorbar": {
             "outlinewidth": 0,
             "ticks": ""
            },
            "colorscale": [
             [
              0,
              "#0d0887"
             ],
             [
              0.1111111111111111,
              "#46039f"
             ],
             [
              0.2222222222222222,
              "#7201a8"
             ],
             [
              0.3333333333333333,
              "#9c179e"
             ],
             [
              0.4444444444444444,
              "#bd3786"
             ],
             [
              0.5555555555555556,
              "#d8576b"
             ],
             [
              0.6666666666666666,
              "#ed7953"
             ],
             [
              0.7777777777777778,
              "#fb9f3a"
             ],
             [
              0.8888888888888888,
              "#fdca26"
             ],
             [
              1,
              "#f0f921"
             ]
            ],
            "type": "surface"
           }
          ],
          "table": [
           {
            "cells": {
             "fill": {
              "color": "#EBF0F8"
             },
             "line": {
              "color": "white"
             }
            },
            "header": {
             "fill": {
              "color": "#C8D4E3"
             },
             "line": {
              "color": "white"
             }
            },
            "type": "table"
           }
          ]
         },
         "layout": {
          "annotationdefaults": {
           "arrowcolor": "#2a3f5f",
           "arrowhead": 0,
           "arrowwidth": 1
          },
          "autotypenumbers": "strict",
          "coloraxis": {
           "colorbar": {
            "outlinewidth": 0,
            "ticks": ""
           }
          },
          "colorscale": {
           "diverging": [
            [
             0,
             "#8e0152"
            ],
            [
             0.1,
             "#c51b7d"
            ],
            [
             0.2,
             "#de77ae"
            ],
            [
             0.3,
             "#f1b6da"
            ],
            [
             0.4,
             "#fde0ef"
            ],
            [
             0.5,
             "#f7f7f7"
            ],
            [
             0.6,
             "#e6f5d0"
            ],
            [
             0.7,
             "#b8e186"
            ],
            [
             0.8,
             "#7fbc41"
            ],
            [
             0.9,
             "#4d9221"
            ],
            [
             1,
             "#276419"
            ]
           ],
           "sequential": [
            [
             0,
             "#0d0887"
            ],
            [
             0.1111111111111111,
             "#46039f"
            ],
            [
             0.2222222222222222,
             "#7201a8"
            ],
            [
             0.3333333333333333,
             "#9c179e"
            ],
            [
             0.4444444444444444,
             "#bd3786"
            ],
            [
             0.5555555555555556,
             "#d8576b"
            ],
            [
             0.6666666666666666,
             "#ed7953"
            ],
            [
             0.7777777777777778,
             "#fb9f3a"
            ],
            [
             0.8888888888888888,
             "#fdca26"
            ],
            [
             1,
             "#f0f921"
            ]
           ],
           "sequentialminus": [
            [
             0,
             "#0d0887"
            ],
            [
             0.1111111111111111,
             "#46039f"
            ],
            [
             0.2222222222222222,
             "#7201a8"
            ],
            [
             0.3333333333333333,
             "#9c179e"
            ],
            [
             0.4444444444444444,
             "#bd3786"
            ],
            [
             0.5555555555555556,
             "#d8576b"
            ],
            [
             0.6666666666666666,
             "#ed7953"
            ],
            [
             0.7777777777777778,
             "#fb9f3a"
            ],
            [
             0.8888888888888888,
             "#fdca26"
            ],
            [
             1,
             "#f0f921"
            ]
           ]
          },
          "colorway": [
           "#636efa",
           "#EF553B",
           "#00cc96",
           "#ab63fa",
           "#FFA15A",
           "#19d3f3",
           "#FF6692",
           "#B6E880",
           "#FF97FF",
           "#FECB52"
          ],
          "font": {
           "color": "#2a3f5f"
          },
          "geo": {
           "bgcolor": "white",
           "lakecolor": "white",
           "landcolor": "white",
           "showlakes": true,
           "showland": true,
           "subunitcolor": "#C8D4E3"
          },
          "hoverlabel": {
           "align": "left"
          },
          "hovermode": "closest",
          "mapbox": {
           "style": "light"
          },
          "paper_bgcolor": "white",
          "plot_bgcolor": "white",
          "polar": {
           "angularaxis": {
            "gridcolor": "#EBF0F8",
            "linecolor": "#EBF0F8",
            "ticks": ""
           },
           "bgcolor": "white",
           "radialaxis": {
            "gridcolor": "#EBF0F8",
            "linecolor": "#EBF0F8",
            "ticks": ""
           }
          },
          "scene": {
           "xaxis": {
            "backgroundcolor": "white",
            "gridcolor": "#DFE8F3",
            "gridwidth": 2,
            "linecolor": "#EBF0F8",
            "showbackground": true,
            "ticks": "",
            "zerolinecolor": "#EBF0F8"
           },
           "yaxis": {
            "backgroundcolor": "white",
            "gridcolor": "#DFE8F3",
            "gridwidth": 2,
            "linecolor": "#EBF0F8",
            "showbackground": true,
            "ticks": "",
            "zerolinecolor": "#EBF0F8"
           },
           "zaxis": {
            "backgroundcolor": "white",
            "gridcolor": "#DFE8F3",
            "gridwidth": 2,
            "linecolor": "#EBF0F8",
            "showbackground": true,
            "ticks": "",
            "zerolinecolor": "#EBF0F8"
           }
          },
          "shapedefaults": {
           "line": {
            "color": "#2a3f5f"
           }
          },
          "ternary": {
           "aaxis": {
            "gridcolor": "#DFE8F3",
            "linecolor": "#A2B1C6",
            "ticks": ""
           },
           "baxis": {
            "gridcolor": "#DFE8F3",
            "linecolor": "#A2B1C6",
            "ticks": ""
           },
           "bgcolor": "white",
           "caxis": {
            "gridcolor": "#DFE8F3",
            "linecolor": "#A2B1C6",
            "ticks": ""
           }
          },
          "title": {
           "x": 0.05
          },
          "xaxis": {
           "automargin": true,
           "gridcolor": "#EBF0F8",
           "linecolor": "#EBF0F8",
           "ticks": "",
           "title": {
            "standoff": 15
           },
           "zerolinecolor": "#EBF0F8",
           "zerolinewidth": 2
          },
          "yaxis": {
           "automargin": true,
           "gridcolor": "#EBF0F8",
           "linecolor": "#EBF0F8",
           "ticks": "",
           "title": {
            "standoff": 15
           },
           "zerolinecolor": "#EBF0F8",
           "zerolinewidth": 2
          }
         }
        },
        "title": {
         "text": "Average percentage of attempts against each team In 18 Yards Box"
        },
        "xaxis": {
         "showgrid": true,
         "ticktext": [
          "2009-2010",
          "2010-2011",
          "2011-2012",
          "2012-2013",
          "2013-2014",
          "2014-2015",
          "2015-2016",
          "2016-2017",
          "2017-2018",
          "2018-2019",
          "2019-2020",
          "2020-2021",
          "2021-2022"
         ],
         "tickvals": [
          2009,
          2010,
          2011,
          2012,
          2013,
          2014,
          2015,
          2016,
          2017,
          2018,
          2019,
          2020,
          2021
         ],
         "title": {
          "text": "Season"
         }
        },
        "yaxis": {
         "showgrid": true,
         "tickformat": ".0%",
         "title": {
          "text": "Attempts (%)"
         }
        }
       }
      }
     },
     "metadata": {},
     "output_type": "display_data"
    }
   ],
   "source": [
    "fig = go.Figure()\n",
    "for league in LEAGUE:\n",
    "    temp = df[df[\"league\"] == league].groupby(\"season\")[\"In 18 Yards Box_against\"].mean()\n",
    "    fig.add_scatter(x=temp.index, y=temp.values, name=league, mode=\"lines\")\n",
    "fig.update_layout(\n",
    "    title=\"Average percentage of attempts against each team In 18 Yards Box\",\n",
    "    yaxis=dict(\n",
    "        tickformat=\".0%\",\n",
    "        showgrid=True\n",
    "    ),\n",
    "    xaxis=dict(\n",
    "        tickvals=[i for i in range(2009, 2022)],\n",
    "        ticktext=[\"2009-2010\", \"2010-2011\", \"2011-2012\", \"2012-2013\", \"2013-2014\", \"2014-2015\",\n",
    "                    \"2015-2016\", \"2016-2017\", \"2017-2018\", \"2018-2019\", \"2019-2020\", \"2020-2021\", \"2021-2022\"],\n",
    "        showgrid=True\n",
    "    ),\n",
    "    xaxis_title=\"Season\",\n",
    "    yaxis_title=\"Attempts (%)\"\n",
    ")\n",
    "fig.show()"
   ]
  },
  {
   "cell_type": "markdown",
   "metadata": {},
   "source": [
    "#### Outside of Box"
   ]
  },
  {
   "cell_type": "markdown",
   "metadata": {},
   "source": [
    "##### For"
   ]
  },
  {
   "cell_type": "code",
   "execution_count": 26,
   "metadata": {},
   "outputs": [
    {
     "data": {
      "application/vnd.plotly.v1+json": {
       "config": {
        "plotlyServerURL": "https://plot.ly"
       },
       "data": [
        {
         "mode": "lines",
         "name": "Bundesliga",
         "type": "scatter",
         "x": [
          2009,
          2010,
          2011,
          2012,
          2013,
          2014,
          2015,
          2016,
          2017,
          2018,
          2019,
          2020
         ],
         "y": [
          0.4566666666666667,
          0.4494444444444444,
          0.4233333333333333,
          0.4205555555555556,
          0.4244444444444445,
          0.42111111111111105,
          0.3822222222222222,
          0.38722222222222225,
          0.3844444444444445,
          0.3705555555555555,
          0.37111111111111117,
          0.3505555555555555
         ]
        },
        {
         "mode": "lines",
         "name": "EPL",
         "type": "scatter",
         "x": [
          2009,
          2010,
          2011,
          2012,
          2013,
          2014,
          2015,
          2016,
          2017,
          2018,
          2019,
          2020
         ],
         "y": [
          0.449,
          0.4345,
          0.4445,
          0.4385,
          0.45150000000000007,
          0.43000000000000005,
          0.417,
          0.409,
          0.398,
          0.378,
          0.352,
          0.3635
         ]
        },
        {
         "mode": "lines",
         "name": "LaLiga",
         "type": "scatter",
         "x": [
          2009,
          2010,
          2011,
          2012,
          2013,
          2014,
          2015,
          2016,
          2017,
          2018,
          2019,
          2020
         ],
         "y": [
          0.44299999999999995,
          0.43949999999999995,
          0.4425,
          0.4459999999999999,
          0.43600000000000005,
          0.42000000000000004,
          0.38849999999999996,
          0.3970000000000001,
          0.383,
          0.376,
          0.38399999999999995,
          0.36649999999999994
         ]
        },
        {
         "mode": "lines",
         "name": "Ligue1",
         "type": "scatter",
         "x": [
          2009,
          2010,
          2011,
          2012,
          2013,
          2014,
          2015,
          2016,
          2017,
          2018,
          2019,
          2020
         ],
         "y": [
          0.475,
          0.4765,
          0.46150000000000013,
          0.4505,
          0.44400000000000006,
          0.4245,
          0.42000000000000004,
          0.413,
          0.43400000000000005,
          0.42400000000000004,
          0.4159999999999999,
          0.382
         ]
        },
        {
         "mode": "lines",
         "name": "SerieA",
         "type": "scatter",
         "x": [
          2009,
          2010,
          2011,
          2012,
          2013,
          2014,
          2015,
          2016,
          2017,
          2018,
          2019,
          2020
         ],
         "y": [
          0.5,
          0.4885,
          0.49049999999999994,
          0.5025000000000001,
          0.49400000000000005,
          0.46349999999999997,
          0.4630000000000001,
          0.4185,
          0.4255000000000001,
          0.4185,
          0.40700000000000003,
          0.35700000000000004
         ]
        }
       ],
       "layout": {
        "template": {
         "data": {
          "bar": [
           {
            "error_x": {
             "color": "#2a3f5f"
            },
            "error_y": {
             "color": "#2a3f5f"
            },
            "marker": {
             "line": {
              "color": "white",
              "width": 0.5
             },
             "pattern": {
              "fillmode": "overlay",
              "size": 10,
              "solidity": 0.2
             }
            },
            "type": "bar"
           }
          ],
          "barpolar": [
           {
            "marker": {
             "line": {
              "color": "white",
              "width": 0.5
             },
             "pattern": {
              "fillmode": "overlay",
              "size": 10,
              "solidity": 0.2
             }
            },
            "type": "barpolar"
           }
          ],
          "carpet": [
           {
            "aaxis": {
             "endlinecolor": "#2a3f5f",
             "gridcolor": "#C8D4E3",
             "linecolor": "#C8D4E3",
             "minorgridcolor": "#C8D4E3",
             "startlinecolor": "#2a3f5f"
            },
            "baxis": {
             "endlinecolor": "#2a3f5f",
             "gridcolor": "#C8D4E3",
             "linecolor": "#C8D4E3",
             "minorgridcolor": "#C8D4E3",
             "startlinecolor": "#2a3f5f"
            },
            "type": "carpet"
           }
          ],
          "choropleth": [
           {
            "colorbar": {
             "outlinewidth": 0,
             "ticks": ""
            },
            "type": "choropleth"
           }
          ],
          "contour": [
           {
            "colorbar": {
             "outlinewidth": 0,
             "ticks": ""
            },
            "colorscale": [
             [
              0,
              "#0d0887"
             ],
             [
              0.1111111111111111,
              "#46039f"
             ],
             [
              0.2222222222222222,
              "#7201a8"
             ],
             [
              0.3333333333333333,
              "#9c179e"
             ],
             [
              0.4444444444444444,
              "#bd3786"
             ],
             [
              0.5555555555555556,
              "#d8576b"
             ],
             [
              0.6666666666666666,
              "#ed7953"
             ],
             [
              0.7777777777777778,
              "#fb9f3a"
             ],
             [
              0.8888888888888888,
              "#fdca26"
             ],
             [
              1,
              "#f0f921"
             ]
            ],
            "type": "contour"
           }
          ],
          "contourcarpet": [
           {
            "colorbar": {
             "outlinewidth": 0,
             "ticks": ""
            },
            "type": "contourcarpet"
           }
          ],
          "heatmap": [
           {
            "colorbar": {
             "outlinewidth": 0,
             "ticks": ""
            },
            "colorscale": [
             [
              0,
              "#0d0887"
             ],
             [
              0.1111111111111111,
              "#46039f"
             ],
             [
              0.2222222222222222,
              "#7201a8"
             ],
             [
              0.3333333333333333,
              "#9c179e"
             ],
             [
              0.4444444444444444,
              "#bd3786"
             ],
             [
              0.5555555555555556,
              "#d8576b"
             ],
             [
              0.6666666666666666,
              "#ed7953"
             ],
             [
              0.7777777777777778,
              "#fb9f3a"
             ],
             [
              0.8888888888888888,
              "#fdca26"
             ],
             [
              1,
              "#f0f921"
             ]
            ],
            "type": "heatmap"
           }
          ],
          "heatmapgl": [
           {
            "colorbar": {
             "outlinewidth": 0,
             "ticks": ""
            },
            "colorscale": [
             [
              0,
              "#0d0887"
             ],
             [
              0.1111111111111111,
              "#46039f"
             ],
             [
              0.2222222222222222,
              "#7201a8"
             ],
             [
              0.3333333333333333,
              "#9c179e"
             ],
             [
              0.4444444444444444,
              "#bd3786"
             ],
             [
              0.5555555555555556,
              "#d8576b"
             ],
             [
              0.6666666666666666,
              "#ed7953"
             ],
             [
              0.7777777777777778,
              "#fb9f3a"
             ],
             [
              0.8888888888888888,
              "#fdca26"
             ],
             [
              1,
              "#f0f921"
             ]
            ],
            "type": "heatmapgl"
           }
          ],
          "histogram": [
           {
            "marker": {
             "pattern": {
              "fillmode": "overlay",
              "size": 10,
              "solidity": 0.2
             }
            },
            "type": "histogram"
           }
          ],
          "histogram2d": [
           {
            "colorbar": {
             "outlinewidth": 0,
             "ticks": ""
            },
            "colorscale": [
             [
              0,
              "#0d0887"
             ],
             [
              0.1111111111111111,
              "#46039f"
             ],
             [
              0.2222222222222222,
              "#7201a8"
             ],
             [
              0.3333333333333333,
              "#9c179e"
             ],
             [
              0.4444444444444444,
              "#bd3786"
             ],
             [
              0.5555555555555556,
              "#d8576b"
             ],
             [
              0.6666666666666666,
              "#ed7953"
             ],
             [
              0.7777777777777778,
              "#fb9f3a"
             ],
             [
              0.8888888888888888,
              "#fdca26"
             ],
             [
              1,
              "#f0f921"
             ]
            ],
            "type": "histogram2d"
           }
          ],
          "histogram2dcontour": [
           {
            "colorbar": {
             "outlinewidth": 0,
             "ticks": ""
            },
            "colorscale": [
             [
              0,
              "#0d0887"
             ],
             [
              0.1111111111111111,
              "#46039f"
             ],
             [
              0.2222222222222222,
              "#7201a8"
             ],
             [
              0.3333333333333333,
              "#9c179e"
             ],
             [
              0.4444444444444444,
              "#bd3786"
             ],
             [
              0.5555555555555556,
              "#d8576b"
             ],
             [
              0.6666666666666666,
              "#ed7953"
             ],
             [
              0.7777777777777778,
              "#fb9f3a"
             ],
             [
              0.8888888888888888,
              "#fdca26"
             ],
             [
              1,
              "#f0f921"
             ]
            ],
            "type": "histogram2dcontour"
           }
          ],
          "mesh3d": [
           {
            "colorbar": {
             "outlinewidth": 0,
             "ticks": ""
            },
            "type": "mesh3d"
           }
          ],
          "parcoords": [
           {
            "line": {
             "colorbar": {
              "outlinewidth": 0,
              "ticks": ""
             }
            },
            "type": "parcoords"
           }
          ],
          "pie": [
           {
            "automargin": true,
            "type": "pie"
           }
          ],
          "scatter": [
           {
            "marker": {
             "colorbar": {
              "outlinewidth": 0,
              "ticks": ""
             }
            },
            "type": "scatter"
           }
          ],
          "scatter3d": [
           {
            "line": {
             "colorbar": {
              "outlinewidth": 0,
              "ticks": ""
             }
            },
            "marker": {
             "colorbar": {
              "outlinewidth": 0,
              "ticks": ""
             }
            },
            "type": "scatter3d"
           }
          ],
          "scattercarpet": [
           {
            "marker": {
             "colorbar": {
              "outlinewidth": 0,
              "ticks": ""
             }
            },
            "type": "scattercarpet"
           }
          ],
          "scattergeo": [
           {
            "marker": {
             "colorbar": {
              "outlinewidth": 0,
              "ticks": ""
             }
            },
            "type": "scattergeo"
           }
          ],
          "scattergl": [
           {
            "marker": {
             "colorbar": {
              "outlinewidth": 0,
              "ticks": ""
             }
            },
            "type": "scattergl"
           }
          ],
          "scattermapbox": [
           {
            "marker": {
             "colorbar": {
              "outlinewidth": 0,
              "ticks": ""
             }
            },
            "type": "scattermapbox"
           }
          ],
          "scatterpolar": [
           {
            "marker": {
             "colorbar": {
              "outlinewidth": 0,
              "ticks": ""
             }
            },
            "type": "scatterpolar"
           }
          ],
          "scatterpolargl": [
           {
            "marker": {
             "colorbar": {
              "outlinewidth": 0,
              "ticks": ""
             }
            },
            "type": "scatterpolargl"
           }
          ],
          "scatterternary": [
           {
            "marker": {
             "colorbar": {
              "outlinewidth": 0,
              "ticks": ""
             }
            },
            "type": "scatterternary"
           }
          ],
          "surface": [
           {
            "colorbar": {
             "outlinewidth": 0,
             "ticks": ""
            },
            "colorscale": [
             [
              0,
              "#0d0887"
             ],
             [
              0.1111111111111111,
              "#46039f"
             ],
             [
              0.2222222222222222,
              "#7201a8"
             ],
             [
              0.3333333333333333,
              "#9c179e"
             ],
             [
              0.4444444444444444,
              "#bd3786"
             ],
             [
              0.5555555555555556,
              "#d8576b"
             ],
             [
              0.6666666666666666,
              "#ed7953"
             ],
             [
              0.7777777777777778,
              "#fb9f3a"
             ],
             [
              0.8888888888888888,
              "#fdca26"
             ],
             [
              1,
              "#f0f921"
             ]
            ],
            "type": "surface"
           }
          ],
          "table": [
           {
            "cells": {
             "fill": {
              "color": "#EBF0F8"
             },
             "line": {
              "color": "white"
             }
            },
            "header": {
             "fill": {
              "color": "#C8D4E3"
             },
             "line": {
              "color": "white"
             }
            },
            "type": "table"
           }
          ]
         },
         "layout": {
          "annotationdefaults": {
           "arrowcolor": "#2a3f5f",
           "arrowhead": 0,
           "arrowwidth": 1
          },
          "autotypenumbers": "strict",
          "coloraxis": {
           "colorbar": {
            "outlinewidth": 0,
            "ticks": ""
           }
          },
          "colorscale": {
           "diverging": [
            [
             0,
             "#8e0152"
            ],
            [
             0.1,
             "#c51b7d"
            ],
            [
             0.2,
             "#de77ae"
            ],
            [
             0.3,
             "#f1b6da"
            ],
            [
             0.4,
             "#fde0ef"
            ],
            [
             0.5,
             "#f7f7f7"
            ],
            [
             0.6,
             "#e6f5d0"
            ],
            [
             0.7,
             "#b8e186"
            ],
            [
             0.8,
             "#7fbc41"
            ],
            [
             0.9,
             "#4d9221"
            ],
            [
             1,
             "#276419"
            ]
           ],
           "sequential": [
            [
             0,
             "#0d0887"
            ],
            [
             0.1111111111111111,
             "#46039f"
            ],
            [
             0.2222222222222222,
             "#7201a8"
            ],
            [
             0.3333333333333333,
             "#9c179e"
            ],
            [
             0.4444444444444444,
             "#bd3786"
            ],
            [
             0.5555555555555556,
             "#d8576b"
            ],
            [
             0.6666666666666666,
             "#ed7953"
            ],
            [
             0.7777777777777778,
             "#fb9f3a"
            ],
            [
             0.8888888888888888,
             "#fdca26"
            ],
            [
             1,
             "#f0f921"
            ]
           ],
           "sequentialminus": [
            [
             0,
             "#0d0887"
            ],
            [
             0.1111111111111111,
             "#46039f"
            ],
            [
             0.2222222222222222,
             "#7201a8"
            ],
            [
             0.3333333333333333,
             "#9c179e"
            ],
            [
             0.4444444444444444,
             "#bd3786"
            ],
            [
             0.5555555555555556,
             "#d8576b"
            ],
            [
             0.6666666666666666,
             "#ed7953"
            ],
            [
             0.7777777777777778,
             "#fb9f3a"
            ],
            [
             0.8888888888888888,
             "#fdca26"
            ],
            [
             1,
             "#f0f921"
            ]
           ]
          },
          "colorway": [
           "#636efa",
           "#EF553B",
           "#00cc96",
           "#ab63fa",
           "#FFA15A",
           "#19d3f3",
           "#FF6692",
           "#B6E880",
           "#FF97FF",
           "#FECB52"
          ],
          "font": {
           "color": "#2a3f5f"
          },
          "geo": {
           "bgcolor": "white",
           "lakecolor": "white",
           "landcolor": "white",
           "showlakes": true,
           "showland": true,
           "subunitcolor": "#C8D4E3"
          },
          "hoverlabel": {
           "align": "left"
          },
          "hovermode": "closest",
          "mapbox": {
           "style": "light"
          },
          "paper_bgcolor": "white",
          "plot_bgcolor": "white",
          "polar": {
           "angularaxis": {
            "gridcolor": "#EBF0F8",
            "linecolor": "#EBF0F8",
            "ticks": ""
           },
           "bgcolor": "white",
           "radialaxis": {
            "gridcolor": "#EBF0F8",
            "linecolor": "#EBF0F8",
            "ticks": ""
           }
          },
          "scene": {
           "xaxis": {
            "backgroundcolor": "white",
            "gridcolor": "#DFE8F3",
            "gridwidth": 2,
            "linecolor": "#EBF0F8",
            "showbackground": true,
            "ticks": "",
            "zerolinecolor": "#EBF0F8"
           },
           "yaxis": {
            "backgroundcolor": "white",
            "gridcolor": "#DFE8F3",
            "gridwidth": 2,
            "linecolor": "#EBF0F8",
            "showbackground": true,
            "ticks": "",
            "zerolinecolor": "#EBF0F8"
           },
           "zaxis": {
            "backgroundcolor": "white",
            "gridcolor": "#DFE8F3",
            "gridwidth": 2,
            "linecolor": "#EBF0F8",
            "showbackground": true,
            "ticks": "",
            "zerolinecolor": "#EBF0F8"
           }
          },
          "shapedefaults": {
           "line": {
            "color": "#2a3f5f"
           }
          },
          "ternary": {
           "aaxis": {
            "gridcolor": "#DFE8F3",
            "linecolor": "#A2B1C6",
            "ticks": ""
           },
           "baxis": {
            "gridcolor": "#DFE8F3",
            "linecolor": "#A2B1C6",
            "ticks": ""
           },
           "bgcolor": "white",
           "caxis": {
            "gridcolor": "#DFE8F3",
            "linecolor": "#A2B1C6",
            "ticks": ""
           }
          },
          "title": {
           "x": 0.05
          },
          "xaxis": {
           "automargin": true,
           "gridcolor": "#EBF0F8",
           "linecolor": "#EBF0F8",
           "ticks": "",
           "title": {
            "standoff": 15
           },
           "zerolinecolor": "#EBF0F8",
           "zerolinewidth": 2
          },
          "yaxis": {
           "automargin": true,
           "gridcolor": "#EBF0F8",
           "linecolor": "#EBF0F8",
           "ticks": "",
           "title": {
            "standoff": 15
           },
           "zerolinecolor": "#EBF0F8",
           "zerolinewidth": 2
          }
         }
        },
        "title": {
         "text": "Average percentage of attempts for each team Outside of Box"
        },
        "xaxis": {
         "showgrid": true,
         "ticktext": [
          "2009-2010",
          "2010-2011",
          "2011-2012",
          "2012-2013",
          "2013-2014",
          "2014-2015",
          "2015-2016",
          "2016-2017",
          "2017-2018",
          "2018-2019",
          "2019-2020",
          "2020-2021",
          "2021-2022"
         ],
         "tickvals": [
          2009,
          2010,
          2011,
          2012,
          2013,
          2014,
          2015,
          2016,
          2017,
          2018,
          2019,
          2020,
          2021
         ],
         "title": {
          "text": "Season"
         }
        },
        "yaxis": {
         "showgrid": true,
         "tickformat": ".0%",
         "title": {
          "text": "Attempts (%)"
         }
        }
       }
      }
     },
     "metadata": {},
     "output_type": "display_data"
    }
   ],
   "source": [
    "fig = go.Figure()\n",
    "for league in LEAGUE:\n",
    "    temp = df[df[\"league\"] == league].groupby(\"season\")[\"Outside of Box_for\"].mean()\n",
    "    fig.add_scatter(x=temp.index, y=temp.values, name=league, mode=\"lines\")\n",
    "fig.update_layout(\n",
    "    title=\"Average percentage of attempts for each team Outside of Box\",\n",
    "    yaxis=dict(\n",
    "        tickformat=\".0%\",\n",
    "        showgrid=True\n",
    "    ),\n",
    "    xaxis=dict(\n",
    "        tickvals=[i for i in range(2009, 2022)],\n",
    "        ticktext=[\"2009-2010\", \"2010-2011\", \"2011-2012\", \"2012-2013\", \"2013-2014\", \"2014-2015\",\n",
    "                    \"2015-2016\", \"2016-2017\", \"2017-2018\", \"2018-2019\", \"2019-2020\", \"2020-2021\", \"2021-2022\"],\n",
    "        showgrid=True\n",
    "    ),\n",
    "    xaxis_title=\"Season\",\n",
    "    yaxis_title=\"Attempts (%)\"\n",
    ")\n",
    "fig.show()"
   ]
  },
  {
   "cell_type": "markdown",
   "metadata": {},
   "source": [
    "##### Against"
   ]
  },
  {
   "cell_type": "code",
   "execution_count": 27,
   "metadata": {},
   "outputs": [
    {
     "data": {
      "application/vnd.plotly.v1+json": {
       "config": {
        "plotlyServerURL": "https://plot.ly"
       },
       "data": [
        {
         "mode": "lines",
         "name": "Bundesliga",
         "type": "scatter",
         "x": [
          2009,
          2010,
          2011,
          2012,
          2013,
          2014,
          2015,
          2016,
          2017,
          2018,
          2019,
          2020
         ],
         "y": [
          0.4488888888888889,
          0.44999999999999996,
          0.4222222222222223,
          0.41888888888888887,
          0.4227777777777777,
          0.418888888888889,
          0.3805555555555556,
          0.385,
          0.38222222222222224,
          0.36833333333333335,
          0.3661111111111112,
          0.34777777777777774
         ]
        },
        {
         "mode": "lines",
         "name": "EPL",
         "type": "scatter",
         "x": [
          2009,
          2010,
          2011,
          2012,
          2013,
          2014,
          2015,
          2016,
          2017,
          2018,
          2019,
          2020
         ],
         "y": [
          0.4535,
          0.43950000000000006,
          0.44600000000000006,
          0.43899999999999995,
          0.4495000000000002,
          0.42700000000000005,
          0.4135,
          0.409,
          0.394,
          0.378,
          0.3495,
          0.3625
         ]
        },
        {
         "mode": "lines",
         "name": "LaLiga",
         "type": "scatter",
         "x": [
          2009,
          2010,
          2011,
          2012,
          2013,
          2014,
          2015,
          2016,
          2017,
          2018,
          2019,
          2020
         ],
         "y": [
          0.4415000000000001,
          0.43950000000000006,
          0.43850000000000006,
          0.44300000000000006,
          0.4334999999999999,
          0.41600000000000004,
          0.38849999999999996,
          0.392,
          0.38,
          0.3755,
          0.38199999999999995,
          0.36550000000000005
         ]
        },
        {
         "mode": "lines",
         "name": "Ligue1",
         "type": "scatter",
         "x": [
          2009,
          2010,
          2011,
          2012,
          2013,
          2014,
          2015,
          2016,
          2017,
          2018,
          2019,
          2020
         ],
         "y": [
          0.4754999999999999,
          0.475,
          0.4605,
          0.4485,
          0.44250000000000006,
          0.42400000000000004,
          0.4185,
          0.41349999999999987,
          0.4295,
          0.42000000000000004,
          0.413,
          0.38100000000000006
         ]
        },
        {
         "mode": "lines",
         "name": "SerieA",
         "type": "scatter",
         "x": [
          2009,
          2010,
          2011,
          2012,
          2013,
          2014,
          2015,
          2016,
          2017,
          2018,
          2019,
          2020
         ],
         "y": [
          0.4995,
          0.4900000000000001,
          0.491,
          0.5055000000000001,
          0.49650000000000005,
          0.4630000000000001,
          0.4664999999999999,
          0.4185,
          0.42800000000000005,
          0.4170000000000001,
          0.4090000000000001,
          0.3555
         ]
        }
       ],
       "layout": {
        "template": {
         "data": {
          "bar": [
           {
            "error_x": {
             "color": "#2a3f5f"
            },
            "error_y": {
             "color": "#2a3f5f"
            },
            "marker": {
             "line": {
              "color": "white",
              "width": 0.5
             },
             "pattern": {
              "fillmode": "overlay",
              "size": 10,
              "solidity": 0.2
             }
            },
            "type": "bar"
           }
          ],
          "barpolar": [
           {
            "marker": {
             "line": {
              "color": "white",
              "width": 0.5
             },
             "pattern": {
              "fillmode": "overlay",
              "size": 10,
              "solidity": 0.2
             }
            },
            "type": "barpolar"
           }
          ],
          "carpet": [
           {
            "aaxis": {
             "endlinecolor": "#2a3f5f",
             "gridcolor": "#C8D4E3",
             "linecolor": "#C8D4E3",
             "minorgridcolor": "#C8D4E3",
             "startlinecolor": "#2a3f5f"
            },
            "baxis": {
             "endlinecolor": "#2a3f5f",
             "gridcolor": "#C8D4E3",
             "linecolor": "#C8D4E3",
             "minorgridcolor": "#C8D4E3",
             "startlinecolor": "#2a3f5f"
            },
            "type": "carpet"
           }
          ],
          "choropleth": [
           {
            "colorbar": {
             "outlinewidth": 0,
             "ticks": ""
            },
            "type": "choropleth"
           }
          ],
          "contour": [
           {
            "colorbar": {
             "outlinewidth": 0,
             "ticks": ""
            },
            "colorscale": [
             [
              0,
              "#0d0887"
             ],
             [
              0.1111111111111111,
              "#46039f"
             ],
             [
              0.2222222222222222,
              "#7201a8"
             ],
             [
              0.3333333333333333,
              "#9c179e"
             ],
             [
              0.4444444444444444,
              "#bd3786"
             ],
             [
              0.5555555555555556,
              "#d8576b"
             ],
             [
              0.6666666666666666,
              "#ed7953"
             ],
             [
              0.7777777777777778,
              "#fb9f3a"
             ],
             [
              0.8888888888888888,
              "#fdca26"
             ],
             [
              1,
              "#f0f921"
             ]
            ],
            "type": "contour"
           }
          ],
          "contourcarpet": [
           {
            "colorbar": {
             "outlinewidth": 0,
             "ticks": ""
            },
            "type": "contourcarpet"
           }
          ],
          "heatmap": [
           {
            "colorbar": {
             "outlinewidth": 0,
             "ticks": ""
            },
            "colorscale": [
             [
              0,
              "#0d0887"
             ],
             [
              0.1111111111111111,
              "#46039f"
             ],
             [
              0.2222222222222222,
              "#7201a8"
             ],
             [
              0.3333333333333333,
              "#9c179e"
             ],
             [
              0.4444444444444444,
              "#bd3786"
             ],
             [
              0.5555555555555556,
              "#d8576b"
             ],
             [
              0.6666666666666666,
              "#ed7953"
             ],
             [
              0.7777777777777778,
              "#fb9f3a"
             ],
             [
              0.8888888888888888,
              "#fdca26"
             ],
             [
              1,
              "#f0f921"
             ]
            ],
            "type": "heatmap"
           }
          ],
          "heatmapgl": [
           {
            "colorbar": {
             "outlinewidth": 0,
             "ticks": ""
            },
            "colorscale": [
             [
              0,
              "#0d0887"
             ],
             [
              0.1111111111111111,
              "#46039f"
             ],
             [
              0.2222222222222222,
              "#7201a8"
             ],
             [
              0.3333333333333333,
              "#9c179e"
             ],
             [
              0.4444444444444444,
              "#bd3786"
             ],
             [
              0.5555555555555556,
              "#d8576b"
             ],
             [
              0.6666666666666666,
              "#ed7953"
             ],
             [
              0.7777777777777778,
              "#fb9f3a"
             ],
             [
              0.8888888888888888,
              "#fdca26"
             ],
             [
              1,
              "#f0f921"
             ]
            ],
            "type": "heatmapgl"
           }
          ],
          "histogram": [
           {
            "marker": {
             "pattern": {
              "fillmode": "overlay",
              "size": 10,
              "solidity": 0.2
             }
            },
            "type": "histogram"
           }
          ],
          "histogram2d": [
           {
            "colorbar": {
             "outlinewidth": 0,
             "ticks": ""
            },
            "colorscale": [
             [
              0,
              "#0d0887"
             ],
             [
              0.1111111111111111,
              "#46039f"
             ],
             [
              0.2222222222222222,
              "#7201a8"
             ],
             [
              0.3333333333333333,
              "#9c179e"
             ],
             [
              0.4444444444444444,
              "#bd3786"
             ],
             [
              0.5555555555555556,
              "#d8576b"
             ],
             [
              0.6666666666666666,
              "#ed7953"
             ],
             [
              0.7777777777777778,
              "#fb9f3a"
             ],
             [
              0.8888888888888888,
              "#fdca26"
             ],
             [
              1,
              "#f0f921"
             ]
            ],
            "type": "histogram2d"
           }
          ],
          "histogram2dcontour": [
           {
            "colorbar": {
             "outlinewidth": 0,
             "ticks": ""
            },
            "colorscale": [
             [
              0,
              "#0d0887"
             ],
             [
              0.1111111111111111,
              "#46039f"
             ],
             [
              0.2222222222222222,
              "#7201a8"
             ],
             [
              0.3333333333333333,
              "#9c179e"
             ],
             [
              0.4444444444444444,
              "#bd3786"
             ],
             [
              0.5555555555555556,
              "#d8576b"
             ],
             [
              0.6666666666666666,
              "#ed7953"
             ],
             [
              0.7777777777777778,
              "#fb9f3a"
             ],
             [
              0.8888888888888888,
              "#fdca26"
             ],
             [
              1,
              "#f0f921"
             ]
            ],
            "type": "histogram2dcontour"
           }
          ],
          "mesh3d": [
           {
            "colorbar": {
             "outlinewidth": 0,
             "ticks": ""
            },
            "type": "mesh3d"
           }
          ],
          "parcoords": [
           {
            "line": {
             "colorbar": {
              "outlinewidth": 0,
              "ticks": ""
             }
            },
            "type": "parcoords"
           }
          ],
          "pie": [
           {
            "automargin": true,
            "type": "pie"
           }
          ],
          "scatter": [
           {
            "marker": {
             "colorbar": {
              "outlinewidth": 0,
              "ticks": ""
             }
            },
            "type": "scatter"
           }
          ],
          "scatter3d": [
           {
            "line": {
             "colorbar": {
              "outlinewidth": 0,
              "ticks": ""
             }
            },
            "marker": {
             "colorbar": {
              "outlinewidth": 0,
              "ticks": ""
             }
            },
            "type": "scatter3d"
           }
          ],
          "scattercarpet": [
           {
            "marker": {
             "colorbar": {
              "outlinewidth": 0,
              "ticks": ""
             }
            },
            "type": "scattercarpet"
           }
          ],
          "scattergeo": [
           {
            "marker": {
             "colorbar": {
              "outlinewidth": 0,
              "ticks": ""
             }
            },
            "type": "scattergeo"
           }
          ],
          "scattergl": [
           {
            "marker": {
             "colorbar": {
              "outlinewidth": 0,
              "ticks": ""
             }
            },
            "type": "scattergl"
           }
          ],
          "scattermapbox": [
           {
            "marker": {
             "colorbar": {
              "outlinewidth": 0,
              "ticks": ""
             }
            },
            "type": "scattermapbox"
           }
          ],
          "scatterpolar": [
           {
            "marker": {
             "colorbar": {
              "outlinewidth": 0,
              "ticks": ""
             }
            },
            "type": "scatterpolar"
           }
          ],
          "scatterpolargl": [
           {
            "marker": {
             "colorbar": {
              "outlinewidth": 0,
              "ticks": ""
             }
            },
            "type": "scatterpolargl"
           }
          ],
          "scatterternary": [
           {
            "marker": {
             "colorbar": {
              "outlinewidth": 0,
              "ticks": ""
             }
            },
            "type": "scatterternary"
           }
          ],
          "surface": [
           {
            "colorbar": {
             "outlinewidth": 0,
             "ticks": ""
            },
            "colorscale": [
             [
              0,
              "#0d0887"
             ],
             [
              0.1111111111111111,
              "#46039f"
             ],
             [
              0.2222222222222222,
              "#7201a8"
             ],
             [
              0.3333333333333333,
              "#9c179e"
             ],
             [
              0.4444444444444444,
              "#bd3786"
             ],
             [
              0.5555555555555556,
              "#d8576b"
             ],
             [
              0.6666666666666666,
              "#ed7953"
             ],
             [
              0.7777777777777778,
              "#fb9f3a"
             ],
             [
              0.8888888888888888,
              "#fdca26"
             ],
             [
              1,
              "#f0f921"
             ]
            ],
            "type": "surface"
           }
          ],
          "table": [
           {
            "cells": {
             "fill": {
              "color": "#EBF0F8"
             },
             "line": {
              "color": "white"
             }
            },
            "header": {
             "fill": {
              "color": "#C8D4E3"
             },
             "line": {
              "color": "white"
             }
            },
            "type": "table"
           }
          ]
         },
         "layout": {
          "annotationdefaults": {
           "arrowcolor": "#2a3f5f",
           "arrowhead": 0,
           "arrowwidth": 1
          },
          "autotypenumbers": "strict",
          "coloraxis": {
           "colorbar": {
            "outlinewidth": 0,
            "ticks": ""
           }
          },
          "colorscale": {
           "diverging": [
            [
             0,
             "#8e0152"
            ],
            [
             0.1,
             "#c51b7d"
            ],
            [
             0.2,
             "#de77ae"
            ],
            [
             0.3,
             "#f1b6da"
            ],
            [
             0.4,
             "#fde0ef"
            ],
            [
             0.5,
             "#f7f7f7"
            ],
            [
             0.6,
             "#e6f5d0"
            ],
            [
             0.7,
             "#b8e186"
            ],
            [
             0.8,
             "#7fbc41"
            ],
            [
             0.9,
             "#4d9221"
            ],
            [
             1,
             "#276419"
            ]
           ],
           "sequential": [
            [
             0,
             "#0d0887"
            ],
            [
             0.1111111111111111,
             "#46039f"
            ],
            [
             0.2222222222222222,
             "#7201a8"
            ],
            [
             0.3333333333333333,
             "#9c179e"
            ],
            [
             0.4444444444444444,
             "#bd3786"
            ],
            [
             0.5555555555555556,
             "#d8576b"
            ],
            [
             0.6666666666666666,
             "#ed7953"
            ],
            [
             0.7777777777777778,
             "#fb9f3a"
            ],
            [
             0.8888888888888888,
             "#fdca26"
            ],
            [
             1,
             "#f0f921"
            ]
           ],
           "sequentialminus": [
            [
             0,
             "#0d0887"
            ],
            [
             0.1111111111111111,
             "#46039f"
            ],
            [
             0.2222222222222222,
             "#7201a8"
            ],
            [
             0.3333333333333333,
             "#9c179e"
            ],
            [
             0.4444444444444444,
             "#bd3786"
            ],
            [
             0.5555555555555556,
             "#d8576b"
            ],
            [
             0.6666666666666666,
             "#ed7953"
            ],
            [
             0.7777777777777778,
             "#fb9f3a"
            ],
            [
             0.8888888888888888,
             "#fdca26"
            ],
            [
             1,
             "#f0f921"
            ]
           ]
          },
          "colorway": [
           "#636efa",
           "#EF553B",
           "#00cc96",
           "#ab63fa",
           "#FFA15A",
           "#19d3f3",
           "#FF6692",
           "#B6E880",
           "#FF97FF",
           "#FECB52"
          ],
          "font": {
           "color": "#2a3f5f"
          },
          "geo": {
           "bgcolor": "white",
           "lakecolor": "white",
           "landcolor": "white",
           "showlakes": true,
           "showland": true,
           "subunitcolor": "#C8D4E3"
          },
          "hoverlabel": {
           "align": "left"
          },
          "hovermode": "closest",
          "mapbox": {
           "style": "light"
          },
          "paper_bgcolor": "white",
          "plot_bgcolor": "white",
          "polar": {
           "angularaxis": {
            "gridcolor": "#EBF0F8",
            "linecolor": "#EBF0F8",
            "ticks": ""
           },
           "bgcolor": "white",
           "radialaxis": {
            "gridcolor": "#EBF0F8",
            "linecolor": "#EBF0F8",
            "ticks": ""
           }
          },
          "scene": {
           "xaxis": {
            "backgroundcolor": "white",
            "gridcolor": "#DFE8F3",
            "gridwidth": 2,
            "linecolor": "#EBF0F8",
            "showbackground": true,
            "ticks": "",
            "zerolinecolor": "#EBF0F8"
           },
           "yaxis": {
            "backgroundcolor": "white",
            "gridcolor": "#DFE8F3",
            "gridwidth": 2,
            "linecolor": "#EBF0F8",
            "showbackground": true,
            "ticks": "",
            "zerolinecolor": "#EBF0F8"
           },
           "zaxis": {
            "backgroundcolor": "white",
            "gridcolor": "#DFE8F3",
            "gridwidth": 2,
            "linecolor": "#EBF0F8",
            "showbackground": true,
            "ticks": "",
            "zerolinecolor": "#EBF0F8"
           }
          },
          "shapedefaults": {
           "line": {
            "color": "#2a3f5f"
           }
          },
          "ternary": {
           "aaxis": {
            "gridcolor": "#DFE8F3",
            "linecolor": "#A2B1C6",
            "ticks": ""
           },
           "baxis": {
            "gridcolor": "#DFE8F3",
            "linecolor": "#A2B1C6",
            "ticks": ""
           },
           "bgcolor": "white",
           "caxis": {
            "gridcolor": "#DFE8F3",
            "linecolor": "#A2B1C6",
            "ticks": ""
           }
          },
          "title": {
           "x": 0.05
          },
          "xaxis": {
           "automargin": true,
           "gridcolor": "#EBF0F8",
           "linecolor": "#EBF0F8",
           "ticks": "",
           "title": {
            "standoff": 15
           },
           "zerolinecolor": "#EBF0F8",
           "zerolinewidth": 2
          },
          "yaxis": {
           "automargin": true,
           "gridcolor": "#EBF0F8",
           "linecolor": "#EBF0F8",
           "ticks": "",
           "title": {
            "standoff": 15
           },
           "zerolinecolor": "#EBF0F8",
           "zerolinewidth": 2
          }
         }
        },
        "title": {
         "text": "Average percentage of attempts against each team Outside of Box"
        },
        "xaxis": {
         "showgrid": true,
         "ticktext": [
          "2009-2010",
          "2010-2011",
          "2011-2012",
          "2012-2013",
          "2013-2014",
          "2014-2015",
          "2015-2016",
          "2016-2017",
          "2017-2018",
          "2018-2019",
          "2019-2020",
          "2020-2021",
          "2021-2022"
         ],
         "tickvals": [
          2009,
          2010,
          2011,
          2012,
          2013,
          2014,
          2015,
          2016,
          2017,
          2018,
          2019,
          2020,
          2021
         ],
         "title": {
          "text": "Season"
         }
        },
        "yaxis": {
         "showgrid": true,
         "tickformat": ".0%",
         "title": {
          "text": "Attempts (%)"
         }
        }
       }
      }
     },
     "metadata": {},
     "output_type": "display_data"
    }
   ],
   "source": [
    "fig = go.Figure()\n",
    "for league in LEAGUE:\n",
    "    temp = df[df[\"league\"] == league].groupby(\"season\")[\"Outside of Box_against\"].mean()\n",
    "    fig.add_scatter(x=temp.index, y=temp.values, name=league, mode=\"lines\")\n",
    "fig.update_layout(\n",
    "    title=\"Average percentage of attempts against each team Outside of Box\",\n",
    "    yaxis=dict(\n",
    "        tickformat=\".0%\",\n",
    "        showgrid=True\n",
    "    ),\n",
    "    xaxis=dict(\n",
    "        tickvals=[i for i in range(2009, 2022)],\n",
    "        ticktext=[\"2009-2010\", \"2010-2011\", \"2011-2012\", \"2012-2013\", \"2013-2014\", \"2014-2015\",\n",
    "                    \"2015-2016\", \"2016-2017\", \"2017-2018\", \"2018-2019\", \"2019-2020\", \"2020-2021\", \"2021-2022\"],\n",
    "        showgrid=True\n",
    "    ),\n",
    "    xaxis_title=\"Season\",\n",
    "    yaxis_title=\"Attempts (%)\"\n",
    ")\n",
    "fig.show()"
   ]
  },
  {
   "cell_type": "markdown",
   "metadata": {},
   "source": [
    "### Average percentage of attempts in each DIRECTION for each league"
   ]
  },
  {
   "cell_type": "markdown",
   "metadata": {},
   "source": [
    "#### Left"
   ]
  },
  {
   "cell_type": "markdown",
   "metadata": {},
   "source": [
    "##### For"
   ]
  },
  {
   "cell_type": "code",
   "execution_count": 7,
   "metadata": {},
   "outputs": [
    {
     "data": {
      "application/vnd.plotly.v1+json": {
       "config": {
        "plotlyServerURL": "https://plot.ly"
       },
       "data": [
        {
         "mode": "lines",
         "name": "Bundesliga",
         "type": "scatter",
         "x": [
          2009,
          2010,
          2011,
          2012,
          2013,
          2014,
          2015,
          2016,
          2017,
          2018,
          2019,
          2020
         ],
         "y": [
          0.21555555555555556,
          0.20166666666666672,
          0.19833333333333336,
          0.19777777777777775,
          0.20333333333333334,
          0.1988888888888889,
          0.17611111111111108,
          0.18277777777777776,
          0.17833333333333334,
          0.1733333333333333,
          0.16888888888888892,
          0.16555555555555557
         ]
        },
        {
         "mode": "lines",
         "name": "EPL",
         "type": "scatter",
         "x": [
          2009,
          2010,
          2011,
          2012,
          2013,
          2014,
          2015,
          2016,
          2017,
          2018,
          2019,
          2020
         ],
         "y": [
          0.167,
          0.179,
          0.185,
          0.1795,
          0.179,
          0.18850000000000003,
          0.18650000000000005,
          0.182,
          0.17950000000000002,
          0.1865,
          0.1795,
          0.1665
         ]
        },
        {
         "mode": "lines",
         "name": "LaLiga",
         "type": "scatter",
         "x": [
          2009,
          2010,
          2011,
          2012,
          2013,
          2014,
          2015,
          2016,
          2017,
          2018,
          2019,
          2020
         ],
         "y": [
          0.195,
          0.20350000000000001,
          0.20400000000000001,
          0.198,
          0.201,
          0.195,
          0.1955,
          0.1955,
          0.1895,
          0.1845,
          0.191,
          0.18400000000000002
         ]
        },
        {
         "mode": "lines",
         "name": "Ligue1",
         "type": "scatter",
         "x": [
          2009,
          2010,
          2011,
          2012,
          2013,
          2014,
          2015,
          2016,
          2017,
          2018,
          2019,
          2020
         ],
         "y": [
          0.19349999999999998,
          0.19650000000000004,
          0.1995,
          0.1995,
          0.18950000000000003,
          0.18749999999999997,
          0.18350000000000005,
          0.18350000000000002,
          0.1865,
          0.19450000000000003,
          0.19750000000000004,
          0.1855
         ]
        },
        {
         "mode": "lines",
         "name": "SerieA",
         "type": "scatter",
         "x": [
          2009,
          2010,
          2011,
          2012,
          2013,
          2014,
          2015,
          2016,
          2017,
          2018,
          2019,
          2020
         ],
         "y": [
          0.192,
          0.20049999999999998,
          0.199,
          0.192,
          0.1935,
          0.19149999999999998,
          0.1975,
          0.186,
          0.1905,
          0.18750000000000003,
          0.189,
          0.1765
         ]
        }
       ],
       "layout": {
        "template": {
         "data": {
          "bar": [
           {
            "error_x": {
             "color": "#2a3f5f"
            },
            "error_y": {
             "color": "#2a3f5f"
            },
            "marker": {
             "line": {
              "color": "white",
              "width": 0.5
             },
             "pattern": {
              "fillmode": "overlay",
              "size": 10,
              "solidity": 0.2
             }
            },
            "type": "bar"
           }
          ],
          "barpolar": [
           {
            "marker": {
             "line": {
              "color": "white",
              "width": 0.5
             },
             "pattern": {
              "fillmode": "overlay",
              "size": 10,
              "solidity": 0.2
             }
            },
            "type": "barpolar"
           }
          ],
          "carpet": [
           {
            "aaxis": {
             "endlinecolor": "#2a3f5f",
             "gridcolor": "#C8D4E3",
             "linecolor": "#C8D4E3",
             "minorgridcolor": "#C8D4E3",
             "startlinecolor": "#2a3f5f"
            },
            "baxis": {
             "endlinecolor": "#2a3f5f",
             "gridcolor": "#C8D4E3",
             "linecolor": "#C8D4E3",
             "minorgridcolor": "#C8D4E3",
             "startlinecolor": "#2a3f5f"
            },
            "type": "carpet"
           }
          ],
          "choropleth": [
           {
            "colorbar": {
             "outlinewidth": 0,
             "ticks": ""
            },
            "type": "choropleth"
           }
          ],
          "contour": [
           {
            "colorbar": {
             "outlinewidth": 0,
             "ticks": ""
            },
            "colorscale": [
             [
              0,
              "#0d0887"
             ],
             [
              0.1111111111111111,
              "#46039f"
             ],
             [
              0.2222222222222222,
              "#7201a8"
             ],
             [
              0.3333333333333333,
              "#9c179e"
             ],
             [
              0.4444444444444444,
              "#bd3786"
             ],
             [
              0.5555555555555556,
              "#d8576b"
             ],
             [
              0.6666666666666666,
              "#ed7953"
             ],
             [
              0.7777777777777778,
              "#fb9f3a"
             ],
             [
              0.8888888888888888,
              "#fdca26"
             ],
             [
              1,
              "#f0f921"
             ]
            ],
            "type": "contour"
           }
          ],
          "contourcarpet": [
           {
            "colorbar": {
             "outlinewidth": 0,
             "ticks": ""
            },
            "type": "contourcarpet"
           }
          ],
          "heatmap": [
           {
            "colorbar": {
             "outlinewidth": 0,
             "ticks": ""
            },
            "colorscale": [
             [
              0,
              "#0d0887"
             ],
             [
              0.1111111111111111,
              "#46039f"
             ],
             [
              0.2222222222222222,
              "#7201a8"
             ],
             [
              0.3333333333333333,
              "#9c179e"
             ],
             [
              0.4444444444444444,
              "#bd3786"
             ],
             [
              0.5555555555555556,
              "#d8576b"
             ],
             [
              0.6666666666666666,
              "#ed7953"
             ],
             [
              0.7777777777777778,
              "#fb9f3a"
             ],
             [
              0.8888888888888888,
              "#fdca26"
             ],
             [
              1,
              "#f0f921"
             ]
            ],
            "type": "heatmap"
           }
          ],
          "heatmapgl": [
           {
            "colorbar": {
             "outlinewidth": 0,
             "ticks": ""
            },
            "colorscale": [
             [
              0,
              "#0d0887"
             ],
             [
              0.1111111111111111,
              "#46039f"
             ],
             [
              0.2222222222222222,
              "#7201a8"
             ],
             [
              0.3333333333333333,
              "#9c179e"
             ],
             [
              0.4444444444444444,
              "#bd3786"
             ],
             [
              0.5555555555555556,
              "#d8576b"
             ],
             [
              0.6666666666666666,
              "#ed7953"
             ],
             [
              0.7777777777777778,
              "#fb9f3a"
             ],
             [
              0.8888888888888888,
              "#fdca26"
             ],
             [
              1,
              "#f0f921"
             ]
            ],
            "type": "heatmapgl"
           }
          ],
          "histogram": [
           {
            "marker": {
             "pattern": {
              "fillmode": "overlay",
              "size": 10,
              "solidity": 0.2
             }
            },
            "type": "histogram"
           }
          ],
          "histogram2d": [
           {
            "colorbar": {
             "outlinewidth": 0,
             "ticks": ""
            },
            "colorscale": [
             [
              0,
              "#0d0887"
             ],
             [
              0.1111111111111111,
              "#46039f"
             ],
             [
              0.2222222222222222,
              "#7201a8"
             ],
             [
              0.3333333333333333,
              "#9c179e"
             ],
             [
              0.4444444444444444,
              "#bd3786"
             ],
             [
              0.5555555555555556,
              "#d8576b"
             ],
             [
              0.6666666666666666,
              "#ed7953"
             ],
             [
              0.7777777777777778,
              "#fb9f3a"
             ],
             [
              0.8888888888888888,
              "#fdca26"
             ],
             [
              1,
              "#f0f921"
             ]
            ],
            "type": "histogram2d"
           }
          ],
          "histogram2dcontour": [
           {
            "colorbar": {
             "outlinewidth": 0,
             "ticks": ""
            },
            "colorscale": [
             [
              0,
              "#0d0887"
             ],
             [
              0.1111111111111111,
              "#46039f"
             ],
             [
              0.2222222222222222,
              "#7201a8"
             ],
             [
              0.3333333333333333,
              "#9c179e"
             ],
             [
              0.4444444444444444,
              "#bd3786"
             ],
             [
              0.5555555555555556,
              "#d8576b"
             ],
             [
              0.6666666666666666,
              "#ed7953"
             ],
             [
              0.7777777777777778,
              "#fb9f3a"
             ],
             [
              0.8888888888888888,
              "#fdca26"
             ],
             [
              1,
              "#f0f921"
             ]
            ],
            "type": "histogram2dcontour"
           }
          ],
          "mesh3d": [
           {
            "colorbar": {
             "outlinewidth": 0,
             "ticks": ""
            },
            "type": "mesh3d"
           }
          ],
          "parcoords": [
           {
            "line": {
             "colorbar": {
              "outlinewidth": 0,
              "ticks": ""
             }
            },
            "type": "parcoords"
           }
          ],
          "pie": [
           {
            "automargin": true,
            "type": "pie"
           }
          ],
          "scatter": [
           {
            "marker": {
             "colorbar": {
              "outlinewidth": 0,
              "ticks": ""
             }
            },
            "type": "scatter"
           }
          ],
          "scatter3d": [
           {
            "line": {
             "colorbar": {
              "outlinewidth": 0,
              "ticks": ""
             }
            },
            "marker": {
             "colorbar": {
              "outlinewidth": 0,
              "ticks": ""
             }
            },
            "type": "scatter3d"
           }
          ],
          "scattercarpet": [
           {
            "marker": {
             "colorbar": {
              "outlinewidth": 0,
              "ticks": ""
             }
            },
            "type": "scattercarpet"
           }
          ],
          "scattergeo": [
           {
            "marker": {
             "colorbar": {
              "outlinewidth": 0,
              "ticks": ""
             }
            },
            "type": "scattergeo"
           }
          ],
          "scattergl": [
           {
            "marker": {
             "colorbar": {
              "outlinewidth": 0,
              "ticks": ""
             }
            },
            "type": "scattergl"
           }
          ],
          "scattermapbox": [
           {
            "marker": {
             "colorbar": {
              "outlinewidth": 0,
              "ticks": ""
             }
            },
            "type": "scattermapbox"
           }
          ],
          "scatterpolar": [
           {
            "marker": {
             "colorbar": {
              "outlinewidth": 0,
              "ticks": ""
             }
            },
            "type": "scatterpolar"
           }
          ],
          "scatterpolargl": [
           {
            "marker": {
             "colorbar": {
              "outlinewidth": 0,
              "ticks": ""
             }
            },
            "type": "scatterpolargl"
           }
          ],
          "scatterternary": [
           {
            "marker": {
             "colorbar": {
              "outlinewidth": 0,
              "ticks": ""
             }
            },
            "type": "scatterternary"
           }
          ],
          "surface": [
           {
            "colorbar": {
             "outlinewidth": 0,
             "ticks": ""
            },
            "colorscale": [
             [
              0,
              "#0d0887"
             ],
             [
              0.1111111111111111,
              "#46039f"
             ],
             [
              0.2222222222222222,
              "#7201a8"
             ],
             [
              0.3333333333333333,
              "#9c179e"
             ],
             [
              0.4444444444444444,
              "#bd3786"
             ],
             [
              0.5555555555555556,
              "#d8576b"
             ],
             [
              0.6666666666666666,
              "#ed7953"
             ],
             [
              0.7777777777777778,
              "#fb9f3a"
             ],
             [
              0.8888888888888888,
              "#fdca26"
             ],
             [
              1,
              "#f0f921"
             ]
            ],
            "type": "surface"
           }
          ],
          "table": [
           {
            "cells": {
             "fill": {
              "color": "#EBF0F8"
             },
             "line": {
              "color": "white"
             }
            },
            "header": {
             "fill": {
              "color": "#C8D4E3"
             },
             "line": {
              "color": "white"
             }
            },
            "type": "table"
           }
          ]
         },
         "layout": {
          "annotationdefaults": {
           "arrowcolor": "#2a3f5f",
           "arrowhead": 0,
           "arrowwidth": 1
          },
          "autotypenumbers": "strict",
          "coloraxis": {
           "colorbar": {
            "outlinewidth": 0,
            "ticks": ""
           }
          },
          "colorscale": {
           "diverging": [
            [
             0,
             "#8e0152"
            ],
            [
             0.1,
             "#c51b7d"
            ],
            [
             0.2,
             "#de77ae"
            ],
            [
             0.3,
             "#f1b6da"
            ],
            [
             0.4,
             "#fde0ef"
            ],
            [
             0.5,
             "#f7f7f7"
            ],
            [
             0.6,
             "#e6f5d0"
            ],
            [
             0.7,
             "#b8e186"
            ],
            [
             0.8,
             "#7fbc41"
            ],
            [
             0.9,
             "#4d9221"
            ],
            [
             1,
             "#276419"
            ]
           ],
           "sequential": [
            [
             0,
             "#0d0887"
            ],
            [
             0.1111111111111111,
             "#46039f"
            ],
            [
             0.2222222222222222,
             "#7201a8"
            ],
            [
             0.3333333333333333,
             "#9c179e"
            ],
            [
             0.4444444444444444,
             "#bd3786"
            ],
            [
             0.5555555555555556,
             "#d8576b"
            ],
            [
             0.6666666666666666,
             "#ed7953"
            ],
            [
             0.7777777777777778,
             "#fb9f3a"
            ],
            [
             0.8888888888888888,
             "#fdca26"
            ],
            [
             1,
             "#f0f921"
            ]
           ],
           "sequentialminus": [
            [
             0,
             "#0d0887"
            ],
            [
             0.1111111111111111,
             "#46039f"
            ],
            [
             0.2222222222222222,
             "#7201a8"
            ],
            [
             0.3333333333333333,
             "#9c179e"
            ],
            [
             0.4444444444444444,
             "#bd3786"
            ],
            [
             0.5555555555555556,
             "#d8576b"
            ],
            [
             0.6666666666666666,
             "#ed7953"
            ],
            [
             0.7777777777777778,
             "#fb9f3a"
            ],
            [
             0.8888888888888888,
             "#fdca26"
            ],
            [
             1,
             "#f0f921"
            ]
           ]
          },
          "colorway": [
           "#636efa",
           "#EF553B",
           "#00cc96",
           "#ab63fa",
           "#FFA15A",
           "#19d3f3",
           "#FF6692",
           "#B6E880",
           "#FF97FF",
           "#FECB52"
          ],
          "font": {
           "color": "#2a3f5f"
          },
          "geo": {
           "bgcolor": "white",
           "lakecolor": "white",
           "landcolor": "white",
           "showlakes": true,
           "showland": true,
           "subunitcolor": "#C8D4E3"
          },
          "hoverlabel": {
           "align": "left"
          },
          "hovermode": "closest",
          "mapbox": {
           "style": "light"
          },
          "paper_bgcolor": "white",
          "plot_bgcolor": "white",
          "polar": {
           "angularaxis": {
            "gridcolor": "#EBF0F8",
            "linecolor": "#EBF0F8",
            "ticks": ""
           },
           "bgcolor": "white",
           "radialaxis": {
            "gridcolor": "#EBF0F8",
            "linecolor": "#EBF0F8",
            "ticks": ""
           }
          },
          "scene": {
           "xaxis": {
            "backgroundcolor": "white",
            "gridcolor": "#DFE8F3",
            "gridwidth": 2,
            "linecolor": "#EBF0F8",
            "showbackground": true,
            "ticks": "",
            "zerolinecolor": "#EBF0F8"
           },
           "yaxis": {
            "backgroundcolor": "white",
            "gridcolor": "#DFE8F3",
            "gridwidth": 2,
            "linecolor": "#EBF0F8",
            "showbackground": true,
            "ticks": "",
            "zerolinecolor": "#EBF0F8"
           },
           "zaxis": {
            "backgroundcolor": "white",
            "gridcolor": "#DFE8F3",
            "gridwidth": 2,
            "linecolor": "#EBF0F8",
            "showbackground": true,
            "ticks": "",
            "zerolinecolor": "#EBF0F8"
           }
          },
          "shapedefaults": {
           "line": {
            "color": "#2a3f5f"
           }
          },
          "ternary": {
           "aaxis": {
            "gridcolor": "#DFE8F3",
            "linecolor": "#A2B1C6",
            "ticks": ""
           },
           "baxis": {
            "gridcolor": "#DFE8F3",
            "linecolor": "#A2B1C6",
            "ticks": ""
           },
           "bgcolor": "white",
           "caxis": {
            "gridcolor": "#DFE8F3",
            "linecolor": "#A2B1C6",
            "ticks": ""
           }
          },
          "title": {
           "x": 0.05
          },
          "xaxis": {
           "automargin": true,
           "gridcolor": "#EBF0F8",
           "linecolor": "#EBF0F8",
           "ticks": "",
           "title": {
            "standoff": 15
           },
           "zerolinecolor": "#EBF0F8",
           "zerolinewidth": 2
          },
          "yaxis": {
           "automargin": true,
           "gridcolor": "#EBF0F8",
           "linecolor": "#EBF0F8",
           "ticks": "",
           "title": {
            "standoff": 15
           },
           "zerolinecolor": "#EBF0F8",
           "zerolinewidth": 2
          }
         }
        },
        "title": {
         "text": "Average percentage of attempts for each team from the left"
        },
        "xaxis": {
         "showgrid": true,
         "ticktext": [
          "2009-2010",
          "2010-2011",
          "2011-2012",
          "2012-2013",
          "2013-2014",
          "2014-2015",
          "2015-2016",
          "2016-2017",
          "2017-2018",
          "2018-2019",
          "2019-2020",
          "2020-2021",
          "2021-2022"
         ],
         "tickvals": [
          2009,
          2010,
          2011,
          2012,
          2013,
          2014,
          2015,
          2016,
          2017,
          2018,
          2019,
          2020,
          2021
         ],
         "title": {
          "text": "Season"
         }
        },
        "yaxis": {
         "showgrid": true,
         "tickformat": ".0%",
         "title": {
          "text": "Attempts (%)"
         }
        }
       }
      }
     },
     "metadata": {},
     "output_type": "display_data"
    }
   ],
   "source": [
    "fig = go.Figure()\n",
    "for league in LEAGUE:\n",
    "    temp = df[df[\"league\"] == league].groupby(\"season\")[\"left_for\"].mean()\n",
    "    fig.add_scatter(x=temp.index, y=temp.values, name=league, mode=\"lines\")\n",
    "fig.update_layout(\n",
    "    title=\"Average percentage of attempts for each team from the left\",\n",
    "    yaxis=dict(\n",
    "        tickformat=\".0%\",\n",
    "        showgrid=True\n",
    "    ),\n",
    "    xaxis=dict(\n",
    "        tickvals=[i for i in range(2009, 2022)],\n",
    "        ticktext=[\"2009-2010\", \"2010-2011\", \"2011-2012\", \"2012-2013\", \"2013-2014\", \"2014-2015\",\n",
    "                    \"2015-2016\", \"2016-2017\", \"2017-2018\", \"2018-2019\", \"2019-2020\", \"2020-2021\", \"2021-2022\"],\n",
    "        showgrid=True\n",
    "    ),\n",
    "    xaxis_title=\"Season\",\n",
    "    yaxis_title=\"Attempts (%)\"\n",
    ")\n",
    "fig.show()"
   ]
  },
  {
   "cell_type": "markdown",
   "metadata": {},
   "source": [
    "##### Against"
   ]
  },
  {
   "cell_type": "code",
   "execution_count": 8,
   "metadata": {},
   "outputs": [
    {
     "data": {
      "application/vnd.plotly.v1+json": {
       "config": {
        "plotlyServerURL": "https://plot.ly"
       },
       "data": [
        {
         "mode": "lines",
         "name": "Bundesliga",
         "type": "scatter",
         "x": [
          2009,
          2010,
          2011,
          2012,
          2013,
          2014,
          2015,
          2016,
          2017,
          2018,
          2019,
          2020
         ],
         "y": [
          0.21555555555555556,
          0.20055555555555557,
          0.19888888888888895,
          0.19611111111111112,
          0.2033333333333334,
          0.19611111111111115,
          0.17555555555555558,
          0.18166666666666664,
          0.1794444444444444,
          0.17277777777777778,
          0.17166666666666666,
          0.16666666666666666
         ]
        },
        {
         "mode": "lines",
         "name": "EPL",
         "type": "scatter",
         "x": [
          2009,
          2010,
          2011,
          2012,
          2013,
          2014,
          2015,
          2016,
          2017,
          2018,
          2019,
          2020
         ],
         "y": [
          0.169,
          0.18000000000000002,
          0.184,
          0.182,
          0.178,
          0.1885,
          0.1885,
          0.18200000000000002,
          0.181,
          0.18800000000000003,
          0.18000000000000002,
          0.16850000000000004
         ]
        },
        {
         "mode": "lines",
         "name": "LaLiga",
         "type": "scatter",
         "x": [
          2009,
          2010,
          2011,
          2012,
          2013,
          2014,
          2015,
          2016,
          2017,
          2018,
          2019,
          2020
         ],
         "y": [
          0.196,
          0.20600000000000004,
          0.20500000000000002,
          0.20200000000000004,
          0.20250000000000004,
          0.19450000000000003,
          0.1945,
          0.19549999999999998,
          0.19000000000000003,
          0.184,
          0.19250000000000003,
          0.184
         ]
        },
        {
         "mode": "lines",
         "name": "Ligue1",
         "type": "scatter",
         "x": [
          2009,
          2010,
          2011,
          2012,
          2013,
          2014,
          2015,
          2016,
          2017,
          2018,
          2019,
          2020
         ],
         "y": [
          0.19250000000000006,
          0.195,
          0.19750000000000004,
          0.199,
          0.19050000000000003,
          0.18800000000000003,
          0.184,
          0.18450000000000003,
          0.18600000000000003,
          0.19600000000000006,
          0.19500000000000006,
          0.18500000000000003
         ]
        },
        {
         "mode": "lines",
         "name": "SerieA",
         "type": "scatter",
         "x": [
          2009,
          2010,
          2011,
          2012,
          2013,
          2014,
          2015,
          2016,
          2017,
          2018,
          2019,
          2020
         ],
         "y": [
          0.19400000000000003,
          0.20000000000000004,
          0.20000000000000004,
          0.194,
          0.19550000000000006,
          0.193,
          0.20049999999999998,
          0.186,
          0.194,
          0.188,
          0.1905,
          0.17700000000000002
         ]
        }
       ],
       "layout": {
        "template": {
         "data": {
          "bar": [
           {
            "error_x": {
             "color": "#2a3f5f"
            },
            "error_y": {
             "color": "#2a3f5f"
            },
            "marker": {
             "line": {
              "color": "white",
              "width": 0.5
             },
             "pattern": {
              "fillmode": "overlay",
              "size": 10,
              "solidity": 0.2
             }
            },
            "type": "bar"
           }
          ],
          "barpolar": [
           {
            "marker": {
             "line": {
              "color": "white",
              "width": 0.5
             },
             "pattern": {
              "fillmode": "overlay",
              "size": 10,
              "solidity": 0.2
             }
            },
            "type": "barpolar"
           }
          ],
          "carpet": [
           {
            "aaxis": {
             "endlinecolor": "#2a3f5f",
             "gridcolor": "#C8D4E3",
             "linecolor": "#C8D4E3",
             "minorgridcolor": "#C8D4E3",
             "startlinecolor": "#2a3f5f"
            },
            "baxis": {
             "endlinecolor": "#2a3f5f",
             "gridcolor": "#C8D4E3",
             "linecolor": "#C8D4E3",
             "minorgridcolor": "#C8D4E3",
             "startlinecolor": "#2a3f5f"
            },
            "type": "carpet"
           }
          ],
          "choropleth": [
           {
            "colorbar": {
             "outlinewidth": 0,
             "ticks": ""
            },
            "type": "choropleth"
           }
          ],
          "contour": [
           {
            "colorbar": {
             "outlinewidth": 0,
             "ticks": ""
            },
            "colorscale": [
             [
              0,
              "#0d0887"
             ],
             [
              0.1111111111111111,
              "#46039f"
             ],
             [
              0.2222222222222222,
              "#7201a8"
             ],
             [
              0.3333333333333333,
              "#9c179e"
             ],
             [
              0.4444444444444444,
              "#bd3786"
             ],
             [
              0.5555555555555556,
              "#d8576b"
             ],
             [
              0.6666666666666666,
              "#ed7953"
             ],
             [
              0.7777777777777778,
              "#fb9f3a"
             ],
             [
              0.8888888888888888,
              "#fdca26"
             ],
             [
              1,
              "#f0f921"
             ]
            ],
            "type": "contour"
           }
          ],
          "contourcarpet": [
           {
            "colorbar": {
             "outlinewidth": 0,
             "ticks": ""
            },
            "type": "contourcarpet"
           }
          ],
          "heatmap": [
           {
            "colorbar": {
             "outlinewidth": 0,
             "ticks": ""
            },
            "colorscale": [
             [
              0,
              "#0d0887"
             ],
             [
              0.1111111111111111,
              "#46039f"
             ],
             [
              0.2222222222222222,
              "#7201a8"
             ],
             [
              0.3333333333333333,
              "#9c179e"
             ],
             [
              0.4444444444444444,
              "#bd3786"
             ],
             [
              0.5555555555555556,
              "#d8576b"
             ],
             [
              0.6666666666666666,
              "#ed7953"
             ],
             [
              0.7777777777777778,
              "#fb9f3a"
             ],
             [
              0.8888888888888888,
              "#fdca26"
             ],
             [
              1,
              "#f0f921"
             ]
            ],
            "type": "heatmap"
           }
          ],
          "heatmapgl": [
           {
            "colorbar": {
             "outlinewidth": 0,
             "ticks": ""
            },
            "colorscale": [
             [
              0,
              "#0d0887"
             ],
             [
              0.1111111111111111,
              "#46039f"
             ],
             [
              0.2222222222222222,
              "#7201a8"
             ],
             [
              0.3333333333333333,
              "#9c179e"
             ],
             [
              0.4444444444444444,
              "#bd3786"
             ],
             [
              0.5555555555555556,
              "#d8576b"
             ],
             [
              0.6666666666666666,
              "#ed7953"
             ],
             [
              0.7777777777777778,
              "#fb9f3a"
             ],
             [
              0.8888888888888888,
              "#fdca26"
             ],
             [
              1,
              "#f0f921"
             ]
            ],
            "type": "heatmapgl"
           }
          ],
          "histogram": [
           {
            "marker": {
             "pattern": {
              "fillmode": "overlay",
              "size": 10,
              "solidity": 0.2
             }
            },
            "type": "histogram"
           }
          ],
          "histogram2d": [
           {
            "colorbar": {
             "outlinewidth": 0,
             "ticks": ""
            },
            "colorscale": [
             [
              0,
              "#0d0887"
             ],
             [
              0.1111111111111111,
              "#46039f"
             ],
             [
              0.2222222222222222,
              "#7201a8"
             ],
             [
              0.3333333333333333,
              "#9c179e"
             ],
             [
              0.4444444444444444,
              "#bd3786"
             ],
             [
              0.5555555555555556,
              "#d8576b"
             ],
             [
              0.6666666666666666,
              "#ed7953"
             ],
             [
              0.7777777777777778,
              "#fb9f3a"
             ],
             [
              0.8888888888888888,
              "#fdca26"
             ],
             [
              1,
              "#f0f921"
             ]
            ],
            "type": "histogram2d"
           }
          ],
          "histogram2dcontour": [
           {
            "colorbar": {
             "outlinewidth": 0,
             "ticks": ""
            },
            "colorscale": [
             [
              0,
              "#0d0887"
             ],
             [
              0.1111111111111111,
              "#46039f"
             ],
             [
              0.2222222222222222,
              "#7201a8"
             ],
             [
              0.3333333333333333,
              "#9c179e"
             ],
             [
              0.4444444444444444,
              "#bd3786"
             ],
             [
              0.5555555555555556,
              "#d8576b"
             ],
             [
              0.6666666666666666,
              "#ed7953"
             ],
             [
              0.7777777777777778,
              "#fb9f3a"
             ],
             [
              0.8888888888888888,
              "#fdca26"
             ],
             [
              1,
              "#f0f921"
             ]
            ],
            "type": "histogram2dcontour"
           }
          ],
          "mesh3d": [
           {
            "colorbar": {
             "outlinewidth": 0,
             "ticks": ""
            },
            "type": "mesh3d"
           }
          ],
          "parcoords": [
           {
            "line": {
             "colorbar": {
              "outlinewidth": 0,
              "ticks": ""
             }
            },
            "type": "parcoords"
           }
          ],
          "pie": [
           {
            "automargin": true,
            "type": "pie"
           }
          ],
          "scatter": [
           {
            "marker": {
             "colorbar": {
              "outlinewidth": 0,
              "ticks": ""
             }
            },
            "type": "scatter"
           }
          ],
          "scatter3d": [
           {
            "line": {
             "colorbar": {
              "outlinewidth": 0,
              "ticks": ""
             }
            },
            "marker": {
             "colorbar": {
              "outlinewidth": 0,
              "ticks": ""
             }
            },
            "type": "scatter3d"
           }
          ],
          "scattercarpet": [
           {
            "marker": {
             "colorbar": {
              "outlinewidth": 0,
              "ticks": ""
             }
            },
            "type": "scattercarpet"
           }
          ],
          "scattergeo": [
           {
            "marker": {
             "colorbar": {
              "outlinewidth": 0,
              "ticks": ""
             }
            },
            "type": "scattergeo"
           }
          ],
          "scattergl": [
           {
            "marker": {
             "colorbar": {
              "outlinewidth": 0,
              "ticks": ""
             }
            },
            "type": "scattergl"
           }
          ],
          "scattermapbox": [
           {
            "marker": {
             "colorbar": {
              "outlinewidth": 0,
              "ticks": ""
             }
            },
            "type": "scattermapbox"
           }
          ],
          "scatterpolar": [
           {
            "marker": {
             "colorbar": {
              "outlinewidth": 0,
              "ticks": ""
             }
            },
            "type": "scatterpolar"
           }
          ],
          "scatterpolargl": [
           {
            "marker": {
             "colorbar": {
              "outlinewidth": 0,
              "ticks": ""
             }
            },
            "type": "scatterpolargl"
           }
          ],
          "scatterternary": [
           {
            "marker": {
             "colorbar": {
              "outlinewidth": 0,
              "ticks": ""
             }
            },
            "type": "scatterternary"
           }
          ],
          "surface": [
           {
            "colorbar": {
             "outlinewidth": 0,
             "ticks": ""
            },
            "colorscale": [
             [
              0,
              "#0d0887"
             ],
             [
              0.1111111111111111,
              "#46039f"
             ],
             [
              0.2222222222222222,
              "#7201a8"
             ],
             [
              0.3333333333333333,
              "#9c179e"
             ],
             [
              0.4444444444444444,
              "#bd3786"
             ],
             [
              0.5555555555555556,
              "#d8576b"
             ],
             [
              0.6666666666666666,
              "#ed7953"
             ],
             [
              0.7777777777777778,
              "#fb9f3a"
             ],
             [
              0.8888888888888888,
              "#fdca26"
             ],
             [
              1,
              "#f0f921"
             ]
            ],
            "type": "surface"
           }
          ],
          "table": [
           {
            "cells": {
             "fill": {
              "color": "#EBF0F8"
             },
             "line": {
              "color": "white"
             }
            },
            "header": {
             "fill": {
              "color": "#C8D4E3"
             },
             "line": {
              "color": "white"
             }
            },
            "type": "table"
           }
          ]
         },
         "layout": {
          "annotationdefaults": {
           "arrowcolor": "#2a3f5f",
           "arrowhead": 0,
           "arrowwidth": 1
          },
          "autotypenumbers": "strict",
          "coloraxis": {
           "colorbar": {
            "outlinewidth": 0,
            "ticks": ""
           }
          },
          "colorscale": {
           "diverging": [
            [
             0,
             "#8e0152"
            ],
            [
             0.1,
             "#c51b7d"
            ],
            [
             0.2,
             "#de77ae"
            ],
            [
             0.3,
             "#f1b6da"
            ],
            [
             0.4,
             "#fde0ef"
            ],
            [
             0.5,
             "#f7f7f7"
            ],
            [
             0.6,
             "#e6f5d0"
            ],
            [
             0.7,
             "#b8e186"
            ],
            [
             0.8,
             "#7fbc41"
            ],
            [
             0.9,
             "#4d9221"
            ],
            [
             1,
             "#276419"
            ]
           ],
           "sequential": [
            [
             0,
             "#0d0887"
            ],
            [
             0.1111111111111111,
             "#46039f"
            ],
            [
             0.2222222222222222,
             "#7201a8"
            ],
            [
             0.3333333333333333,
             "#9c179e"
            ],
            [
             0.4444444444444444,
             "#bd3786"
            ],
            [
             0.5555555555555556,
             "#d8576b"
            ],
            [
             0.6666666666666666,
             "#ed7953"
            ],
            [
             0.7777777777777778,
             "#fb9f3a"
            ],
            [
             0.8888888888888888,
             "#fdca26"
            ],
            [
             1,
             "#f0f921"
            ]
           ],
           "sequentialminus": [
            [
             0,
             "#0d0887"
            ],
            [
             0.1111111111111111,
             "#46039f"
            ],
            [
             0.2222222222222222,
             "#7201a8"
            ],
            [
             0.3333333333333333,
             "#9c179e"
            ],
            [
             0.4444444444444444,
             "#bd3786"
            ],
            [
             0.5555555555555556,
             "#d8576b"
            ],
            [
             0.6666666666666666,
             "#ed7953"
            ],
            [
             0.7777777777777778,
             "#fb9f3a"
            ],
            [
             0.8888888888888888,
             "#fdca26"
            ],
            [
             1,
             "#f0f921"
            ]
           ]
          },
          "colorway": [
           "#636efa",
           "#EF553B",
           "#00cc96",
           "#ab63fa",
           "#FFA15A",
           "#19d3f3",
           "#FF6692",
           "#B6E880",
           "#FF97FF",
           "#FECB52"
          ],
          "font": {
           "color": "#2a3f5f"
          },
          "geo": {
           "bgcolor": "white",
           "lakecolor": "white",
           "landcolor": "white",
           "showlakes": true,
           "showland": true,
           "subunitcolor": "#C8D4E3"
          },
          "hoverlabel": {
           "align": "left"
          },
          "hovermode": "closest",
          "mapbox": {
           "style": "light"
          },
          "paper_bgcolor": "white",
          "plot_bgcolor": "white",
          "polar": {
           "angularaxis": {
            "gridcolor": "#EBF0F8",
            "linecolor": "#EBF0F8",
            "ticks": ""
           },
           "bgcolor": "white",
           "radialaxis": {
            "gridcolor": "#EBF0F8",
            "linecolor": "#EBF0F8",
            "ticks": ""
           }
          },
          "scene": {
           "xaxis": {
            "backgroundcolor": "white",
            "gridcolor": "#DFE8F3",
            "gridwidth": 2,
            "linecolor": "#EBF0F8",
            "showbackground": true,
            "ticks": "",
            "zerolinecolor": "#EBF0F8"
           },
           "yaxis": {
            "backgroundcolor": "white",
            "gridcolor": "#DFE8F3",
            "gridwidth": 2,
            "linecolor": "#EBF0F8",
            "showbackground": true,
            "ticks": "",
            "zerolinecolor": "#EBF0F8"
           },
           "zaxis": {
            "backgroundcolor": "white",
            "gridcolor": "#DFE8F3",
            "gridwidth": 2,
            "linecolor": "#EBF0F8",
            "showbackground": true,
            "ticks": "",
            "zerolinecolor": "#EBF0F8"
           }
          },
          "shapedefaults": {
           "line": {
            "color": "#2a3f5f"
           }
          },
          "ternary": {
           "aaxis": {
            "gridcolor": "#DFE8F3",
            "linecolor": "#A2B1C6",
            "ticks": ""
           },
           "baxis": {
            "gridcolor": "#DFE8F3",
            "linecolor": "#A2B1C6",
            "ticks": ""
           },
           "bgcolor": "white",
           "caxis": {
            "gridcolor": "#DFE8F3",
            "linecolor": "#A2B1C6",
            "ticks": ""
           }
          },
          "title": {
           "x": 0.05
          },
          "xaxis": {
           "automargin": true,
           "gridcolor": "#EBF0F8",
           "linecolor": "#EBF0F8",
           "ticks": "",
           "title": {
            "standoff": 15
           },
           "zerolinecolor": "#EBF0F8",
           "zerolinewidth": 2
          },
          "yaxis": {
           "automargin": true,
           "gridcolor": "#EBF0F8",
           "linecolor": "#EBF0F8",
           "ticks": "",
           "title": {
            "standoff": 15
           },
           "zerolinecolor": "#EBF0F8",
           "zerolinewidth": 2
          }
         }
        },
        "title": {
         "text": "Average percentage of attempts against each team from the left"
        },
        "xaxis": {
         "showgrid": true,
         "ticktext": [
          "2009-2010",
          "2010-2011",
          "2011-2012",
          "2012-2013",
          "2013-2014",
          "2014-2015",
          "2015-2016",
          "2016-2017",
          "2017-2018",
          "2018-2019",
          "2019-2020",
          "2020-2021",
          "2021-2022"
         ],
         "tickvals": [
          2009,
          2010,
          2011,
          2012,
          2013,
          2014,
          2015,
          2016,
          2017,
          2018,
          2019,
          2020,
          2021
         ],
         "title": {
          "text": "Season"
         }
        },
        "yaxis": {
         "showgrid": true,
         "tickformat": ".0%",
         "title": {
          "text": "Attempts (%)"
         }
        }
       }
      }
     },
     "metadata": {},
     "output_type": "display_data"
    }
   ],
   "source": [
    "fig = go.Figure()\n",
    "for league in LEAGUE:\n",
    "    temp = df[df[\"league\"] == league].groupby(\"season\")[\"left_against\"].mean()\n",
    "    fig.add_scatter(x=temp.index, y=temp.values, name=league, mode=\"lines\")\n",
    "fig.update_layout(\n",
    "    title=\"Average percentage of attempts against each team from the left\",\n",
    "    yaxis=dict(\n",
    "        tickformat=\".0%\",\n",
    "        showgrid=True\n",
    "    ),\n",
    "    xaxis=dict(\n",
    "        tickvals=[i for i in range(2009, 2022)],\n",
    "        ticktext=[\"2009-2010\", \"2010-2011\", \"2011-2012\", \"2012-2013\", \"2013-2014\", \"2014-2015\",\n",
    "                    \"2015-2016\", \"2016-2017\", \"2017-2018\", \"2018-2019\", \"2019-2020\", \"2020-2021\", \"2021-2022\"],\n",
    "        showgrid=True\n",
    "    ),\n",
    "    xaxis_title=\"Season\",\n",
    "    yaxis_title=\"Attempts (%)\"\n",
    ")\n",
    "fig.show()"
   ]
  },
  {
   "cell_type": "markdown",
   "metadata": {},
   "source": [
    "#### Right"
   ]
  },
  {
   "cell_type": "markdown",
   "metadata": {},
   "source": [
    "##### For"
   ]
  },
  {
   "cell_type": "code",
   "execution_count": 9,
   "metadata": {},
   "outputs": [
    {
     "data": {
      "application/vnd.plotly.v1+json": {
       "config": {
        "plotlyServerURL": "https://plot.ly"
       },
       "data": [
        {
         "mode": "lines",
         "name": "Bundesliga",
         "type": "scatter",
         "x": [
          2009,
          2010,
          2011,
          2012,
          2013,
          2014,
          2015,
          2016,
          2017,
          2018,
          2019,
          2020
         ],
         "y": [
          0.18055555555555558,
          0.18666666666666665,
          0.18611111111111117,
          0.17944444444444443,
          0.19000000000000003,
          0.18999999999999997,
          0.17666666666666667,
          0.16388888888888886,
          0.1577777777777778,
          0.15944444444444442,
          0.15833333333333333,
          0.14777777777777779
         ]
        },
        {
         "mode": "lines",
         "name": "EPL",
         "type": "scatter",
         "x": [
          2009,
          2010,
          2011,
          2012,
          2013,
          2014,
          2015,
          2016,
          2017,
          2018,
          2019,
          2020
         ],
         "y": [
          0.16949999999999998,
          0.16500000000000004,
          0.16550000000000004,
          0.16999999999999998,
          0.17400000000000002,
          0.1515,
          0.16350000000000003,
          0.1605,
          0.143,
          0.14500000000000005,
          0.1385,
          0.14100000000000001
         ]
        },
        {
         "mode": "lines",
         "name": "LaLiga",
         "type": "scatter",
         "x": [
          2009,
          2010,
          2011,
          2012,
          2013,
          2014,
          2015,
          2016,
          2017,
          2018,
          2019,
          2020
         ],
         "y": [
          0.182,
          0.191,
          0.1875,
          0.18650000000000005,
          0.182,
          0.176,
          0.178,
          0.177,
          0.17150000000000004,
          0.16849999999999998,
          0.16299999999999998,
          0.15449999999999997
         ]
        },
        {
         "mode": "lines",
         "name": "Ligue1",
         "type": "scatter",
         "x": [
          2009,
          2010,
          2011,
          2012,
          2013,
          2014,
          2015,
          2016,
          2017,
          2018,
          2019,
          2020
         ],
         "y": [
          0.20050000000000004,
          0.18449999999999997,
          0.181,
          0.18700000000000003,
          0.19,
          0.181,
          0.18150000000000002,
          0.17350000000000002,
          0.18000000000000005,
          0.175,
          0.173,
          0.1655
         ]
        },
        {
         "mode": "lines",
         "name": "SerieA",
         "type": "scatter",
         "x": [
          2009,
          2010,
          2011,
          2012,
          2013,
          2014,
          2015,
          2016,
          2017,
          2018,
          2019,
          2020
         ],
         "y": [
          0.182,
          0.1825,
          0.1785,
          0.17550000000000002,
          0.18600000000000003,
          0.191,
          0.179,
          0.17450000000000004,
          0.1765,
          0.1725,
          0.1695,
          0.15000000000000002
         ]
        }
       ],
       "layout": {
        "template": {
         "data": {
          "bar": [
           {
            "error_x": {
             "color": "#2a3f5f"
            },
            "error_y": {
             "color": "#2a3f5f"
            },
            "marker": {
             "line": {
              "color": "white",
              "width": 0.5
             },
             "pattern": {
              "fillmode": "overlay",
              "size": 10,
              "solidity": 0.2
             }
            },
            "type": "bar"
           }
          ],
          "barpolar": [
           {
            "marker": {
             "line": {
              "color": "white",
              "width": 0.5
             },
             "pattern": {
              "fillmode": "overlay",
              "size": 10,
              "solidity": 0.2
             }
            },
            "type": "barpolar"
           }
          ],
          "carpet": [
           {
            "aaxis": {
             "endlinecolor": "#2a3f5f",
             "gridcolor": "#C8D4E3",
             "linecolor": "#C8D4E3",
             "minorgridcolor": "#C8D4E3",
             "startlinecolor": "#2a3f5f"
            },
            "baxis": {
             "endlinecolor": "#2a3f5f",
             "gridcolor": "#C8D4E3",
             "linecolor": "#C8D4E3",
             "minorgridcolor": "#C8D4E3",
             "startlinecolor": "#2a3f5f"
            },
            "type": "carpet"
           }
          ],
          "choropleth": [
           {
            "colorbar": {
             "outlinewidth": 0,
             "ticks": ""
            },
            "type": "choropleth"
           }
          ],
          "contour": [
           {
            "colorbar": {
             "outlinewidth": 0,
             "ticks": ""
            },
            "colorscale": [
             [
              0,
              "#0d0887"
             ],
             [
              0.1111111111111111,
              "#46039f"
             ],
             [
              0.2222222222222222,
              "#7201a8"
             ],
             [
              0.3333333333333333,
              "#9c179e"
             ],
             [
              0.4444444444444444,
              "#bd3786"
             ],
             [
              0.5555555555555556,
              "#d8576b"
             ],
             [
              0.6666666666666666,
              "#ed7953"
             ],
             [
              0.7777777777777778,
              "#fb9f3a"
             ],
             [
              0.8888888888888888,
              "#fdca26"
             ],
             [
              1,
              "#f0f921"
             ]
            ],
            "type": "contour"
           }
          ],
          "contourcarpet": [
           {
            "colorbar": {
             "outlinewidth": 0,
             "ticks": ""
            },
            "type": "contourcarpet"
           }
          ],
          "heatmap": [
           {
            "colorbar": {
             "outlinewidth": 0,
             "ticks": ""
            },
            "colorscale": [
             [
              0,
              "#0d0887"
             ],
             [
              0.1111111111111111,
              "#46039f"
             ],
             [
              0.2222222222222222,
              "#7201a8"
             ],
             [
              0.3333333333333333,
              "#9c179e"
             ],
             [
              0.4444444444444444,
              "#bd3786"
             ],
             [
              0.5555555555555556,
              "#d8576b"
             ],
             [
              0.6666666666666666,
              "#ed7953"
             ],
             [
              0.7777777777777778,
              "#fb9f3a"
             ],
             [
              0.8888888888888888,
              "#fdca26"
             ],
             [
              1,
              "#f0f921"
             ]
            ],
            "type": "heatmap"
           }
          ],
          "heatmapgl": [
           {
            "colorbar": {
             "outlinewidth": 0,
             "ticks": ""
            },
            "colorscale": [
             [
              0,
              "#0d0887"
             ],
             [
              0.1111111111111111,
              "#46039f"
             ],
             [
              0.2222222222222222,
              "#7201a8"
             ],
             [
              0.3333333333333333,
              "#9c179e"
             ],
             [
              0.4444444444444444,
              "#bd3786"
             ],
             [
              0.5555555555555556,
              "#d8576b"
             ],
             [
              0.6666666666666666,
              "#ed7953"
             ],
             [
              0.7777777777777778,
              "#fb9f3a"
             ],
             [
              0.8888888888888888,
              "#fdca26"
             ],
             [
              1,
              "#f0f921"
             ]
            ],
            "type": "heatmapgl"
           }
          ],
          "histogram": [
           {
            "marker": {
             "pattern": {
              "fillmode": "overlay",
              "size": 10,
              "solidity": 0.2
             }
            },
            "type": "histogram"
           }
          ],
          "histogram2d": [
           {
            "colorbar": {
             "outlinewidth": 0,
             "ticks": ""
            },
            "colorscale": [
             [
              0,
              "#0d0887"
             ],
             [
              0.1111111111111111,
              "#46039f"
             ],
             [
              0.2222222222222222,
              "#7201a8"
             ],
             [
              0.3333333333333333,
              "#9c179e"
             ],
             [
              0.4444444444444444,
              "#bd3786"
             ],
             [
              0.5555555555555556,
              "#d8576b"
             ],
             [
              0.6666666666666666,
              "#ed7953"
             ],
             [
              0.7777777777777778,
              "#fb9f3a"
             ],
             [
              0.8888888888888888,
              "#fdca26"
             ],
             [
              1,
              "#f0f921"
             ]
            ],
            "type": "histogram2d"
           }
          ],
          "histogram2dcontour": [
           {
            "colorbar": {
             "outlinewidth": 0,
             "ticks": ""
            },
            "colorscale": [
             [
              0,
              "#0d0887"
             ],
             [
              0.1111111111111111,
              "#46039f"
             ],
             [
              0.2222222222222222,
              "#7201a8"
             ],
             [
              0.3333333333333333,
              "#9c179e"
             ],
             [
              0.4444444444444444,
              "#bd3786"
             ],
             [
              0.5555555555555556,
              "#d8576b"
             ],
             [
              0.6666666666666666,
              "#ed7953"
             ],
             [
              0.7777777777777778,
              "#fb9f3a"
             ],
             [
              0.8888888888888888,
              "#fdca26"
             ],
             [
              1,
              "#f0f921"
             ]
            ],
            "type": "histogram2dcontour"
           }
          ],
          "mesh3d": [
           {
            "colorbar": {
             "outlinewidth": 0,
             "ticks": ""
            },
            "type": "mesh3d"
           }
          ],
          "parcoords": [
           {
            "line": {
             "colorbar": {
              "outlinewidth": 0,
              "ticks": ""
             }
            },
            "type": "parcoords"
           }
          ],
          "pie": [
           {
            "automargin": true,
            "type": "pie"
           }
          ],
          "scatter": [
           {
            "marker": {
             "colorbar": {
              "outlinewidth": 0,
              "ticks": ""
             }
            },
            "type": "scatter"
           }
          ],
          "scatter3d": [
           {
            "line": {
             "colorbar": {
              "outlinewidth": 0,
              "ticks": ""
             }
            },
            "marker": {
             "colorbar": {
              "outlinewidth": 0,
              "ticks": ""
             }
            },
            "type": "scatter3d"
           }
          ],
          "scattercarpet": [
           {
            "marker": {
             "colorbar": {
              "outlinewidth": 0,
              "ticks": ""
             }
            },
            "type": "scattercarpet"
           }
          ],
          "scattergeo": [
           {
            "marker": {
             "colorbar": {
              "outlinewidth": 0,
              "ticks": ""
             }
            },
            "type": "scattergeo"
           }
          ],
          "scattergl": [
           {
            "marker": {
             "colorbar": {
              "outlinewidth": 0,
              "ticks": ""
             }
            },
            "type": "scattergl"
           }
          ],
          "scattermapbox": [
           {
            "marker": {
             "colorbar": {
              "outlinewidth": 0,
              "ticks": ""
             }
            },
            "type": "scattermapbox"
           }
          ],
          "scatterpolar": [
           {
            "marker": {
             "colorbar": {
              "outlinewidth": 0,
              "ticks": ""
             }
            },
            "type": "scatterpolar"
           }
          ],
          "scatterpolargl": [
           {
            "marker": {
             "colorbar": {
              "outlinewidth": 0,
              "ticks": ""
             }
            },
            "type": "scatterpolargl"
           }
          ],
          "scatterternary": [
           {
            "marker": {
             "colorbar": {
              "outlinewidth": 0,
              "ticks": ""
             }
            },
            "type": "scatterternary"
           }
          ],
          "surface": [
           {
            "colorbar": {
             "outlinewidth": 0,
             "ticks": ""
            },
            "colorscale": [
             [
              0,
              "#0d0887"
             ],
             [
              0.1111111111111111,
              "#46039f"
             ],
             [
              0.2222222222222222,
              "#7201a8"
             ],
             [
              0.3333333333333333,
              "#9c179e"
             ],
             [
              0.4444444444444444,
              "#bd3786"
             ],
             [
              0.5555555555555556,
              "#d8576b"
             ],
             [
              0.6666666666666666,
              "#ed7953"
             ],
             [
              0.7777777777777778,
              "#fb9f3a"
             ],
             [
              0.8888888888888888,
              "#fdca26"
             ],
             [
              1,
              "#f0f921"
             ]
            ],
            "type": "surface"
           }
          ],
          "table": [
           {
            "cells": {
             "fill": {
              "color": "#EBF0F8"
             },
             "line": {
              "color": "white"
             }
            },
            "header": {
             "fill": {
              "color": "#C8D4E3"
             },
             "line": {
              "color": "white"
             }
            },
            "type": "table"
           }
          ]
         },
         "layout": {
          "annotationdefaults": {
           "arrowcolor": "#2a3f5f",
           "arrowhead": 0,
           "arrowwidth": 1
          },
          "autotypenumbers": "strict",
          "coloraxis": {
           "colorbar": {
            "outlinewidth": 0,
            "ticks": ""
           }
          },
          "colorscale": {
           "diverging": [
            [
             0,
             "#8e0152"
            ],
            [
             0.1,
             "#c51b7d"
            ],
            [
             0.2,
             "#de77ae"
            ],
            [
             0.3,
             "#f1b6da"
            ],
            [
             0.4,
             "#fde0ef"
            ],
            [
             0.5,
             "#f7f7f7"
            ],
            [
             0.6,
             "#e6f5d0"
            ],
            [
             0.7,
             "#b8e186"
            ],
            [
             0.8,
             "#7fbc41"
            ],
            [
             0.9,
             "#4d9221"
            ],
            [
             1,
             "#276419"
            ]
           ],
           "sequential": [
            [
             0,
             "#0d0887"
            ],
            [
             0.1111111111111111,
             "#46039f"
            ],
            [
             0.2222222222222222,
             "#7201a8"
            ],
            [
             0.3333333333333333,
             "#9c179e"
            ],
            [
             0.4444444444444444,
             "#bd3786"
            ],
            [
             0.5555555555555556,
             "#d8576b"
            ],
            [
             0.6666666666666666,
             "#ed7953"
            ],
            [
             0.7777777777777778,
             "#fb9f3a"
            ],
            [
             0.8888888888888888,
             "#fdca26"
            ],
            [
             1,
             "#f0f921"
            ]
           ],
           "sequentialminus": [
            [
             0,
             "#0d0887"
            ],
            [
             0.1111111111111111,
             "#46039f"
            ],
            [
             0.2222222222222222,
             "#7201a8"
            ],
            [
             0.3333333333333333,
             "#9c179e"
            ],
            [
             0.4444444444444444,
             "#bd3786"
            ],
            [
             0.5555555555555556,
             "#d8576b"
            ],
            [
             0.6666666666666666,
             "#ed7953"
            ],
            [
             0.7777777777777778,
             "#fb9f3a"
            ],
            [
             0.8888888888888888,
             "#fdca26"
            ],
            [
             1,
             "#f0f921"
            ]
           ]
          },
          "colorway": [
           "#636efa",
           "#EF553B",
           "#00cc96",
           "#ab63fa",
           "#FFA15A",
           "#19d3f3",
           "#FF6692",
           "#B6E880",
           "#FF97FF",
           "#FECB52"
          ],
          "font": {
           "color": "#2a3f5f"
          },
          "geo": {
           "bgcolor": "white",
           "lakecolor": "white",
           "landcolor": "white",
           "showlakes": true,
           "showland": true,
           "subunitcolor": "#C8D4E3"
          },
          "hoverlabel": {
           "align": "left"
          },
          "hovermode": "closest",
          "mapbox": {
           "style": "light"
          },
          "paper_bgcolor": "white",
          "plot_bgcolor": "white",
          "polar": {
           "angularaxis": {
            "gridcolor": "#EBF0F8",
            "linecolor": "#EBF0F8",
            "ticks": ""
           },
           "bgcolor": "white",
           "radialaxis": {
            "gridcolor": "#EBF0F8",
            "linecolor": "#EBF0F8",
            "ticks": ""
           }
          },
          "scene": {
           "xaxis": {
            "backgroundcolor": "white",
            "gridcolor": "#DFE8F3",
            "gridwidth": 2,
            "linecolor": "#EBF0F8",
            "showbackground": true,
            "ticks": "",
            "zerolinecolor": "#EBF0F8"
           },
           "yaxis": {
            "backgroundcolor": "white",
            "gridcolor": "#DFE8F3",
            "gridwidth": 2,
            "linecolor": "#EBF0F8",
            "showbackground": true,
            "ticks": "",
            "zerolinecolor": "#EBF0F8"
           },
           "zaxis": {
            "backgroundcolor": "white",
            "gridcolor": "#DFE8F3",
            "gridwidth": 2,
            "linecolor": "#EBF0F8",
            "showbackground": true,
            "ticks": "",
            "zerolinecolor": "#EBF0F8"
           }
          },
          "shapedefaults": {
           "line": {
            "color": "#2a3f5f"
           }
          },
          "ternary": {
           "aaxis": {
            "gridcolor": "#DFE8F3",
            "linecolor": "#A2B1C6",
            "ticks": ""
           },
           "baxis": {
            "gridcolor": "#DFE8F3",
            "linecolor": "#A2B1C6",
            "ticks": ""
           },
           "bgcolor": "white",
           "caxis": {
            "gridcolor": "#DFE8F3",
            "linecolor": "#A2B1C6",
            "ticks": ""
           }
          },
          "title": {
           "x": 0.05
          },
          "xaxis": {
           "automargin": true,
           "gridcolor": "#EBF0F8",
           "linecolor": "#EBF0F8",
           "ticks": "",
           "title": {
            "standoff": 15
           },
           "zerolinecolor": "#EBF0F8",
           "zerolinewidth": 2
          },
          "yaxis": {
           "automargin": true,
           "gridcolor": "#EBF0F8",
           "linecolor": "#EBF0F8",
           "ticks": "",
           "title": {
            "standoff": 15
           },
           "zerolinecolor": "#EBF0F8",
           "zerolinewidth": 2
          }
         }
        },
        "title": {
         "text": "Average percentage of attempts for each team from the right"
        },
        "xaxis": {
         "showgrid": true,
         "ticktext": [
          "2009-2010",
          "2010-2011",
          "2011-2012",
          "2012-2013",
          "2013-2014",
          "2014-2015",
          "2015-2016",
          "2016-2017",
          "2017-2018",
          "2018-2019",
          "2019-2020",
          "2020-2021",
          "2021-2022"
         ],
         "tickvals": [
          2009,
          2010,
          2011,
          2012,
          2013,
          2014,
          2015,
          2016,
          2017,
          2018,
          2019,
          2020,
          2021
         ],
         "title": {
          "text": "Season"
         }
        },
        "yaxis": {
         "showgrid": true,
         "tickformat": ".0%",
         "title": {
          "text": "Attempts (%)"
         }
        }
       }
      }
     },
     "metadata": {},
     "output_type": "display_data"
    }
   ],
   "source": [
    "fig = go.Figure()\n",
    "for league in LEAGUE:\n",
    "    temp = df[df[\"league\"] == league].groupby(\"season\")[\"right_for\"].mean()\n",
    "    fig.add_scatter(x=temp.index, y=temp.values, name=league, mode=\"lines\")\n",
    "fig.update_layout(\n",
    "    title=\"Average percentage of attempts for each team from the right\",\n",
    "    yaxis=dict(\n",
    "        tickformat=\".0%\",\n",
    "        showgrid=True\n",
    "    ),\n",
    "    xaxis=dict(\n",
    "        tickvals=[i for i in range(2009, 2022)],\n",
    "        ticktext=[\"2009-2010\", \"2010-2011\", \"2011-2012\", \"2012-2013\", \"2013-2014\", \"2014-2015\",\n",
    "                    \"2015-2016\", \"2016-2017\", \"2017-2018\", \"2018-2019\", \"2019-2020\", \"2020-2021\", \"2021-2022\"],\n",
    "        showgrid=True\n",
    "    ),\n",
    "    xaxis_title=\"Season\",\n",
    "    yaxis_title=\"Attempts (%)\"\n",
    ")\n",
    "fig.show()"
   ]
  },
  {
   "cell_type": "markdown",
   "metadata": {},
   "source": [
    "##### Against"
   ]
  },
  {
   "cell_type": "code",
   "execution_count": 10,
   "metadata": {},
   "outputs": [
    {
     "data": {
      "application/vnd.plotly.v1+json": {
       "config": {
        "plotlyServerURL": "https://plot.ly"
       },
       "data": [
        {
         "mode": "lines",
         "name": "Bundesliga",
         "type": "scatter",
         "x": [
          2009,
          2010,
          2011,
          2012,
          2013,
          2014,
          2015,
          2016,
          2017,
          2018,
          2019,
          2020
         ],
         "y": [
          0.18,
          0.18500000000000003,
          0.18388888888888888,
          0.17888888888888893,
          0.19055555555555556,
          0.1905555555555556,
          0.17555555555555558,
          0.16388888888888886,
          0.1572222222222222,
          0.16055555555555556,
          0.1577777777777778,
          0.145
         ]
        },
        {
         "mode": "lines",
         "name": "EPL",
         "type": "scatter",
         "x": [
          2009,
          2010,
          2011,
          2012,
          2013,
          2014,
          2015,
          2016,
          2017,
          2018,
          2019,
          2020
         ],
         "y": [
          0.17099999999999999,
          0.16749999999999995,
          0.16699999999999998,
          0.169,
          0.17350000000000002,
          0.1515,
          0.16550000000000004,
          0.163,
          0.14450000000000002,
          0.14750000000000002,
          0.14100000000000001,
          0.14250000000000002
         ]
        },
        {
         "mode": "lines",
         "name": "LaLiga",
         "type": "scatter",
         "x": [
          2009,
          2010,
          2011,
          2012,
          2013,
          2014,
          2015,
          2016,
          2017,
          2018,
          2019,
          2020
         ],
         "y": [
          0.1795,
          0.18900000000000003,
          0.1855,
          0.18550000000000005,
          0.18200000000000005,
          0.173,
          0.1765,
          0.175,
          0.16999999999999998,
          0.16949999999999998,
          0.16049999999999998,
          0.15349999999999997
         ]
        },
        {
         "mode": "lines",
         "name": "Ligue1",
         "type": "scatter",
         "x": [
          2009,
          2010,
          2011,
          2012,
          2013,
          2014,
          2015,
          2016,
          2017,
          2018,
          2019,
          2020
         ],
         "y": [
          0.1995,
          0.18450000000000003,
          0.18,
          0.186,
          0.187,
          0.182,
          0.18,
          0.17500000000000002,
          0.181,
          0.1765,
          0.17450000000000002,
          0.166
         ]
        },
        {
         "mode": "lines",
         "name": "SerieA",
         "type": "scatter",
         "x": [
          2009,
          2010,
          2011,
          2012,
          2013,
          2014,
          2015,
          2016,
          2017,
          2018,
          2019,
          2020
         ],
         "y": [
          0.181,
          0.18150000000000002,
          0.1775,
          0.1765,
          0.18849999999999997,
          0.18950000000000003,
          0.176,
          0.1755,
          0.17749999999999996,
          0.17400000000000002,
          0.168,
          0.14699999999999996
         ]
        }
       ],
       "layout": {
        "template": {
         "data": {
          "bar": [
           {
            "error_x": {
             "color": "#2a3f5f"
            },
            "error_y": {
             "color": "#2a3f5f"
            },
            "marker": {
             "line": {
              "color": "white",
              "width": 0.5
             },
             "pattern": {
              "fillmode": "overlay",
              "size": 10,
              "solidity": 0.2
             }
            },
            "type": "bar"
           }
          ],
          "barpolar": [
           {
            "marker": {
             "line": {
              "color": "white",
              "width": 0.5
             },
             "pattern": {
              "fillmode": "overlay",
              "size": 10,
              "solidity": 0.2
             }
            },
            "type": "barpolar"
           }
          ],
          "carpet": [
           {
            "aaxis": {
             "endlinecolor": "#2a3f5f",
             "gridcolor": "#C8D4E3",
             "linecolor": "#C8D4E3",
             "minorgridcolor": "#C8D4E3",
             "startlinecolor": "#2a3f5f"
            },
            "baxis": {
             "endlinecolor": "#2a3f5f",
             "gridcolor": "#C8D4E3",
             "linecolor": "#C8D4E3",
             "minorgridcolor": "#C8D4E3",
             "startlinecolor": "#2a3f5f"
            },
            "type": "carpet"
           }
          ],
          "choropleth": [
           {
            "colorbar": {
             "outlinewidth": 0,
             "ticks": ""
            },
            "type": "choropleth"
           }
          ],
          "contour": [
           {
            "colorbar": {
             "outlinewidth": 0,
             "ticks": ""
            },
            "colorscale": [
             [
              0,
              "#0d0887"
             ],
             [
              0.1111111111111111,
              "#46039f"
             ],
             [
              0.2222222222222222,
              "#7201a8"
             ],
             [
              0.3333333333333333,
              "#9c179e"
             ],
             [
              0.4444444444444444,
              "#bd3786"
             ],
             [
              0.5555555555555556,
              "#d8576b"
             ],
             [
              0.6666666666666666,
              "#ed7953"
             ],
             [
              0.7777777777777778,
              "#fb9f3a"
             ],
             [
              0.8888888888888888,
              "#fdca26"
             ],
             [
              1,
              "#f0f921"
             ]
            ],
            "type": "contour"
           }
          ],
          "contourcarpet": [
           {
            "colorbar": {
             "outlinewidth": 0,
             "ticks": ""
            },
            "type": "contourcarpet"
           }
          ],
          "heatmap": [
           {
            "colorbar": {
             "outlinewidth": 0,
             "ticks": ""
            },
            "colorscale": [
             [
              0,
              "#0d0887"
             ],
             [
              0.1111111111111111,
              "#46039f"
             ],
             [
              0.2222222222222222,
              "#7201a8"
             ],
             [
              0.3333333333333333,
              "#9c179e"
             ],
             [
              0.4444444444444444,
              "#bd3786"
             ],
             [
              0.5555555555555556,
              "#d8576b"
             ],
             [
              0.6666666666666666,
              "#ed7953"
             ],
             [
              0.7777777777777778,
              "#fb9f3a"
             ],
             [
              0.8888888888888888,
              "#fdca26"
             ],
             [
              1,
              "#f0f921"
             ]
            ],
            "type": "heatmap"
           }
          ],
          "heatmapgl": [
           {
            "colorbar": {
             "outlinewidth": 0,
             "ticks": ""
            },
            "colorscale": [
             [
              0,
              "#0d0887"
             ],
             [
              0.1111111111111111,
              "#46039f"
             ],
             [
              0.2222222222222222,
              "#7201a8"
             ],
             [
              0.3333333333333333,
              "#9c179e"
             ],
             [
              0.4444444444444444,
              "#bd3786"
             ],
             [
              0.5555555555555556,
              "#d8576b"
             ],
             [
              0.6666666666666666,
              "#ed7953"
             ],
             [
              0.7777777777777778,
              "#fb9f3a"
             ],
             [
              0.8888888888888888,
              "#fdca26"
             ],
             [
              1,
              "#f0f921"
             ]
            ],
            "type": "heatmapgl"
           }
          ],
          "histogram": [
           {
            "marker": {
             "pattern": {
              "fillmode": "overlay",
              "size": 10,
              "solidity": 0.2
             }
            },
            "type": "histogram"
           }
          ],
          "histogram2d": [
           {
            "colorbar": {
             "outlinewidth": 0,
             "ticks": ""
            },
            "colorscale": [
             [
              0,
              "#0d0887"
             ],
             [
              0.1111111111111111,
              "#46039f"
             ],
             [
              0.2222222222222222,
              "#7201a8"
             ],
             [
              0.3333333333333333,
              "#9c179e"
             ],
             [
              0.4444444444444444,
              "#bd3786"
             ],
             [
              0.5555555555555556,
              "#d8576b"
             ],
             [
              0.6666666666666666,
              "#ed7953"
             ],
             [
              0.7777777777777778,
              "#fb9f3a"
             ],
             [
              0.8888888888888888,
              "#fdca26"
             ],
             [
              1,
              "#f0f921"
             ]
            ],
            "type": "histogram2d"
           }
          ],
          "histogram2dcontour": [
           {
            "colorbar": {
             "outlinewidth": 0,
             "ticks": ""
            },
            "colorscale": [
             [
              0,
              "#0d0887"
             ],
             [
              0.1111111111111111,
              "#46039f"
             ],
             [
              0.2222222222222222,
              "#7201a8"
             ],
             [
              0.3333333333333333,
              "#9c179e"
             ],
             [
              0.4444444444444444,
              "#bd3786"
             ],
             [
              0.5555555555555556,
              "#d8576b"
             ],
             [
              0.6666666666666666,
              "#ed7953"
             ],
             [
              0.7777777777777778,
              "#fb9f3a"
             ],
             [
              0.8888888888888888,
              "#fdca26"
             ],
             [
              1,
              "#f0f921"
             ]
            ],
            "type": "histogram2dcontour"
           }
          ],
          "mesh3d": [
           {
            "colorbar": {
             "outlinewidth": 0,
             "ticks": ""
            },
            "type": "mesh3d"
           }
          ],
          "parcoords": [
           {
            "line": {
             "colorbar": {
              "outlinewidth": 0,
              "ticks": ""
             }
            },
            "type": "parcoords"
           }
          ],
          "pie": [
           {
            "automargin": true,
            "type": "pie"
           }
          ],
          "scatter": [
           {
            "marker": {
             "colorbar": {
              "outlinewidth": 0,
              "ticks": ""
             }
            },
            "type": "scatter"
           }
          ],
          "scatter3d": [
           {
            "line": {
             "colorbar": {
              "outlinewidth": 0,
              "ticks": ""
             }
            },
            "marker": {
             "colorbar": {
              "outlinewidth": 0,
              "ticks": ""
             }
            },
            "type": "scatter3d"
           }
          ],
          "scattercarpet": [
           {
            "marker": {
             "colorbar": {
              "outlinewidth": 0,
              "ticks": ""
             }
            },
            "type": "scattercarpet"
           }
          ],
          "scattergeo": [
           {
            "marker": {
             "colorbar": {
              "outlinewidth": 0,
              "ticks": ""
             }
            },
            "type": "scattergeo"
           }
          ],
          "scattergl": [
           {
            "marker": {
             "colorbar": {
              "outlinewidth": 0,
              "ticks": ""
             }
            },
            "type": "scattergl"
           }
          ],
          "scattermapbox": [
           {
            "marker": {
             "colorbar": {
              "outlinewidth": 0,
              "ticks": ""
             }
            },
            "type": "scattermapbox"
           }
          ],
          "scatterpolar": [
           {
            "marker": {
             "colorbar": {
              "outlinewidth": 0,
              "ticks": ""
             }
            },
            "type": "scatterpolar"
           }
          ],
          "scatterpolargl": [
           {
            "marker": {
             "colorbar": {
              "outlinewidth": 0,
              "ticks": ""
             }
            },
            "type": "scatterpolargl"
           }
          ],
          "scatterternary": [
           {
            "marker": {
             "colorbar": {
              "outlinewidth": 0,
              "ticks": ""
             }
            },
            "type": "scatterternary"
           }
          ],
          "surface": [
           {
            "colorbar": {
             "outlinewidth": 0,
             "ticks": ""
            },
            "colorscale": [
             [
              0,
              "#0d0887"
             ],
             [
              0.1111111111111111,
              "#46039f"
             ],
             [
              0.2222222222222222,
              "#7201a8"
             ],
             [
              0.3333333333333333,
              "#9c179e"
             ],
             [
              0.4444444444444444,
              "#bd3786"
             ],
             [
              0.5555555555555556,
              "#d8576b"
             ],
             [
              0.6666666666666666,
              "#ed7953"
             ],
             [
              0.7777777777777778,
              "#fb9f3a"
             ],
             [
              0.8888888888888888,
              "#fdca26"
             ],
             [
              1,
              "#f0f921"
             ]
            ],
            "type": "surface"
           }
          ],
          "table": [
           {
            "cells": {
             "fill": {
              "color": "#EBF0F8"
             },
             "line": {
              "color": "white"
             }
            },
            "header": {
             "fill": {
              "color": "#C8D4E3"
             },
             "line": {
              "color": "white"
             }
            },
            "type": "table"
           }
          ]
         },
         "layout": {
          "annotationdefaults": {
           "arrowcolor": "#2a3f5f",
           "arrowhead": 0,
           "arrowwidth": 1
          },
          "autotypenumbers": "strict",
          "coloraxis": {
           "colorbar": {
            "outlinewidth": 0,
            "ticks": ""
           }
          },
          "colorscale": {
           "diverging": [
            [
             0,
             "#8e0152"
            ],
            [
             0.1,
             "#c51b7d"
            ],
            [
             0.2,
             "#de77ae"
            ],
            [
             0.3,
             "#f1b6da"
            ],
            [
             0.4,
             "#fde0ef"
            ],
            [
             0.5,
             "#f7f7f7"
            ],
            [
             0.6,
             "#e6f5d0"
            ],
            [
             0.7,
             "#b8e186"
            ],
            [
             0.8,
             "#7fbc41"
            ],
            [
             0.9,
             "#4d9221"
            ],
            [
             1,
             "#276419"
            ]
           ],
           "sequential": [
            [
             0,
             "#0d0887"
            ],
            [
             0.1111111111111111,
             "#46039f"
            ],
            [
             0.2222222222222222,
             "#7201a8"
            ],
            [
             0.3333333333333333,
             "#9c179e"
            ],
            [
             0.4444444444444444,
             "#bd3786"
            ],
            [
             0.5555555555555556,
             "#d8576b"
            ],
            [
             0.6666666666666666,
             "#ed7953"
            ],
            [
             0.7777777777777778,
             "#fb9f3a"
            ],
            [
             0.8888888888888888,
             "#fdca26"
            ],
            [
             1,
             "#f0f921"
            ]
           ],
           "sequentialminus": [
            [
             0,
             "#0d0887"
            ],
            [
             0.1111111111111111,
             "#46039f"
            ],
            [
             0.2222222222222222,
             "#7201a8"
            ],
            [
             0.3333333333333333,
             "#9c179e"
            ],
            [
             0.4444444444444444,
             "#bd3786"
            ],
            [
             0.5555555555555556,
             "#d8576b"
            ],
            [
             0.6666666666666666,
             "#ed7953"
            ],
            [
             0.7777777777777778,
             "#fb9f3a"
            ],
            [
             0.8888888888888888,
             "#fdca26"
            ],
            [
             1,
             "#f0f921"
            ]
           ]
          },
          "colorway": [
           "#636efa",
           "#EF553B",
           "#00cc96",
           "#ab63fa",
           "#FFA15A",
           "#19d3f3",
           "#FF6692",
           "#B6E880",
           "#FF97FF",
           "#FECB52"
          ],
          "font": {
           "color": "#2a3f5f"
          },
          "geo": {
           "bgcolor": "white",
           "lakecolor": "white",
           "landcolor": "white",
           "showlakes": true,
           "showland": true,
           "subunitcolor": "#C8D4E3"
          },
          "hoverlabel": {
           "align": "left"
          },
          "hovermode": "closest",
          "mapbox": {
           "style": "light"
          },
          "paper_bgcolor": "white",
          "plot_bgcolor": "white",
          "polar": {
           "angularaxis": {
            "gridcolor": "#EBF0F8",
            "linecolor": "#EBF0F8",
            "ticks": ""
           },
           "bgcolor": "white",
           "radialaxis": {
            "gridcolor": "#EBF0F8",
            "linecolor": "#EBF0F8",
            "ticks": ""
           }
          },
          "scene": {
           "xaxis": {
            "backgroundcolor": "white",
            "gridcolor": "#DFE8F3",
            "gridwidth": 2,
            "linecolor": "#EBF0F8",
            "showbackground": true,
            "ticks": "",
            "zerolinecolor": "#EBF0F8"
           },
           "yaxis": {
            "backgroundcolor": "white",
            "gridcolor": "#DFE8F3",
            "gridwidth": 2,
            "linecolor": "#EBF0F8",
            "showbackground": true,
            "ticks": "",
            "zerolinecolor": "#EBF0F8"
           },
           "zaxis": {
            "backgroundcolor": "white",
            "gridcolor": "#DFE8F3",
            "gridwidth": 2,
            "linecolor": "#EBF0F8",
            "showbackground": true,
            "ticks": "",
            "zerolinecolor": "#EBF0F8"
           }
          },
          "shapedefaults": {
           "line": {
            "color": "#2a3f5f"
           }
          },
          "ternary": {
           "aaxis": {
            "gridcolor": "#DFE8F3",
            "linecolor": "#A2B1C6",
            "ticks": ""
           },
           "baxis": {
            "gridcolor": "#DFE8F3",
            "linecolor": "#A2B1C6",
            "ticks": ""
           },
           "bgcolor": "white",
           "caxis": {
            "gridcolor": "#DFE8F3",
            "linecolor": "#A2B1C6",
            "ticks": ""
           }
          },
          "title": {
           "x": 0.05
          },
          "xaxis": {
           "automargin": true,
           "gridcolor": "#EBF0F8",
           "linecolor": "#EBF0F8",
           "ticks": "",
           "title": {
            "standoff": 15
           },
           "zerolinecolor": "#EBF0F8",
           "zerolinewidth": 2
          },
          "yaxis": {
           "automargin": true,
           "gridcolor": "#EBF0F8",
           "linecolor": "#EBF0F8",
           "ticks": "",
           "title": {
            "standoff": 15
           },
           "zerolinecolor": "#EBF0F8",
           "zerolinewidth": 2
          }
         }
        },
        "title": {
         "text": "Average percentage of attempts against each team from the right"
        },
        "xaxis": {
         "showgrid": true,
         "ticktext": [
          "2009-2010",
          "2010-2011",
          "2011-2012",
          "2012-2013",
          "2013-2014",
          "2014-2015",
          "2015-2016",
          "2016-2017",
          "2017-2018",
          "2018-2019",
          "2019-2020",
          "2020-2021",
          "2021-2022"
         ],
         "tickvals": [
          2009,
          2010,
          2011,
          2012,
          2013,
          2014,
          2015,
          2016,
          2017,
          2018,
          2019,
          2020,
          2021
         ],
         "title": {
          "text": "Season"
         }
        },
        "yaxis": {
         "showgrid": true,
         "tickformat": ".0%",
         "title": {
          "text": "Attempts (%)"
         }
        }
       }
      }
     },
     "metadata": {},
     "output_type": "display_data"
    }
   ],
   "source": [
    "fig = go.Figure()\n",
    "for league in LEAGUE:\n",
    "    temp = df[df[\"league\"] == league].groupby(\"season\")[\"right_against\"].mean()\n",
    "    fig.add_scatter(x=temp.index, y=temp.values, name=league, mode=\"lines\")\n",
    "fig.update_layout(\n",
    "    title=\"Average percentage of attempts against each team from the right\",\n",
    "    yaxis=dict(\n",
    "        tickformat=\".0%\",\n",
    "        showgrid=True\n",
    "    ),\n",
    "    xaxis=dict(\n",
    "        tickvals=[i for i in range(2009, 2022)],\n",
    "        ticktext=[\"2009-2010\", \"2010-2011\", \"2011-2012\", \"2012-2013\", \"2013-2014\", \"2014-2015\",\n",
    "                    \"2015-2016\", \"2016-2017\", \"2017-2018\", \"2018-2019\", \"2019-2020\", \"2020-2021\", \"2021-2022\"],\n",
    "        showgrid=True\n",
    "    ),\n",
    "    xaxis_title=\"Season\",\n",
    "    yaxis_title=\"Attempts (%)\"\n",
    ")\n",
    "fig.show()"
   ]
  },
  {
   "cell_type": "markdown",
   "metadata": {},
   "source": [
    "#### Middle"
   ]
  },
  {
   "cell_type": "markdown",
   "metadata": {},
   "source": [
    "##### For"
   ]
  },
  {
   "cell_type": "code",
   "execution_count": 11,
   "metadata": {},
   "outputs": [
    {
     "data": {
      "application/vnd.plotly.v1+json": {
       "config": {
        "plotlyServerURL": "https://plot.ly"
       },
       "data": [
        {
         "mode": "lines",
         "name": "Bundesliga",
         "type": "scatter",
         "x": [
          2009,
          2010,
          2011,
          2012,
          2013,
          2014,
          2015,
          2016,
          2017,
          2018,
          2019,
          2020
         ],
         "y": [
          0.6044444444444445,
          0.6133333333333333,
          0.615,
          0.6227777777777779,
          0.6049999999999999,
          0.6127777777777779,
          0.648888888888889,
          0.6533333333333333,
          0.6649999999999998,
          0.6644444444444445,
          0.6727777777777779,
          0.6883333333333334
         ]
        },
        {
         "mode": "lines",
         "name": "EPL",
         "type": "scatter",
         "x": [
          2009,
          2010,
          2011,
          2012,
          2013,
          2014,
          2015,
          2016,
          2017,
          2018,
          2019,
          2020
         ],
         "y": [
          0.6635,
          0.655,
          0.6485000000000001,
          0.6519999999999999,
          0.6479999999999999,
          0.66,
          0.6494999999999999,
          0.6565,
          0.6770000000000002,
          0.6675,
          0.6815,
          0.6929999999999998
         ]
        },
        {
         "mode": "lines",
         "name": "LaLiga",
         "type": "scatter",
         "x": [
          2009,
          2010,
          2011,
          2012,
          2013,
          2014,
          2015,
          2016,
          2017,
          2018,
          2019,
          2020
         ],
         "y": [
          0.6224999999999999,
          0.6065,
          0.6080000000000002,
          0.616,
          0.617,
          0.6295,
          0.6275000000000001,
          0.63,
          0.639,
          0.6455,
          0.6459999999999999,
          0.661
         ]
        },
        {
         "mode": "lines",
         "name": "Ligue1",
         "type": "scatter",
         "x": [
          2009,
          2010,
          2011,
          2012,
          2013,
          2014,
          2015,
          2016,
          2017,
          2018,
          2019,
          2020
         ],
         "y": [
          0.6084999999999999,
          0.6184999999999998,
          0.619,
          0.6135000000000002,
          0.6205,
          0.6305000000000001,
          0.6369999999999999,
          0.641,
          0.635,
          0.6305000000000002,
          0.6299999999999999,
          0.6489999999999999
         ]
        },
        {
         "mode": "lines",
         "name": "SerieA",
         "type": "scatter",
         "x": [
          2009,
          2010,
          2011,
          2012,
          2013,
          2014,
          2015,
          2016,
          2017,
          2018,
          2019,
          2020
         ],
         "y": [
          0.6279999999999999,
          0.6180000000000001,
          0.622,
          0.6314999999999998,
          0.6199999999999999,
          0.6184999999999999,
          0.623,
          0.639,
          0.6335000000000001,
          0.6405000000000001,
          0.643,
          0.6755000000000001
         ]
        }
       ],
       "layout": {
        "template": {
         "data": {
          "bar": [
           {
            "error_x": {
             "color": "#2a3f5f"
            },
            "error_y": {
             "color": "#2a3f5f"
            },
            "marker": {
             "line": {
              "color": "white",
              "width": 0.5
             },
             "pattern": {
              "fillmode": "overlay",
              "size": 10,
              "solidity": 0.2
             }
            },
            "type": "bar"
           }
          ],
          "barpolar": [
           {
            "marker": {
             "line": {
              "color": "white",
              "width": 0.5
             },
             "pattern": {
              "fillmode": "overlay",
              "size": 10,
              "solidity": 0.2
             }
            },
            "type": "barpolar"
           }
          ],
          "carpet": [
           {
            "aaxis": {
             "endlinecolor": "#2a3f5f",
             "gridcolor": "#C8D4E3",
             "linecolor": "#C8D4E3",
             "minorgridcolor": "#C8D4E3",
             "startlinecolor": "#2a3f5f"
            },
            "baxis": {
             "endlinecolor": "#2a3f5f",
             "gridcolor": "#C8D4E3",
             "linecolor": "#C8D4E3",
             "minorgridcolor": "#C8D4E3",
             "startlinecolor": "#2a3f5f"
            },
            "type": "carpet"
           }
          ],
          "choropleth": [
           {
            "colorbar": {
             "outlinewidth": 0,
             "ticks": ""
            },
            "type": "choropleth"
           }
          ],
          "contour": [
           {
            "colorbar": {
             "outlinewidth": 0,
             "ticks": ""
            },
            "colorscale": [
             [
              0,
              "#0d0887"
             ],
             [
              0.1111111111111111,
              "#46039f"
             ],
             [
              0.2222222222222222,
              "#7201a8"
             ],
             [
              0.3333333333333333,
              "#9c179e"
             ],
             [
              0.4444444444444444,
              "#bd3786"
             ],
             [
              0.5555555555555556,
              "#d8576b"
             ],
             [
              0.6666666666666666,
              "#ed7953"
             ],
             [
              0.7777777777777778,
              "#fb9f3a"
             ],
             [
              0.8888888888888888,
              "#fdca26"
             ],
             [
              1,
              "#f0f921"
             ]
            ],
            "type": "contour"
           }
          ],
          "contourcarpet": [
           {
            "colorbar": {
             "outlinewidth": 0,
             "ticks": ""
            },
            "type": "contourcarpet"
           }
          ],
          "heatmap": [
           {
            "colorbar": {
             "outlinewidth": 0,
             "ticks": ""
            },
            "colorscale": [
             [
              0,
              "#0d0887"
             ],
             [
              0.1111111111111111,
              "#46039f"
             ],
             [
              0.2222222222222222,
              "#7201a8"
             ],
             [
              0.3333333333333333,
              "#9c179e"
             ],
             [
              0.4444444444444444,
              "#bd3786"
             ],
             [
              0.5555555555555556,
              "#d8576b"
             ],
             [
              0.6666666666666666,
              "#ed7953"
             ],
             [
              0.7777777777777778,
              "#fb9f3a"
             ],
             [
              0.8888888888888888,
              "#fdca26"
             ],
             [
              1,
              "#f0f921"
             ]
            ],
            "type": "heatmap"
           }
          ],
          "heatmapgl": [
           {
            "colorbar": {
             "outlinewidth": 0,
             "ticks": ""
            },
            "colorscale": [
             [
              0,
              "#0d0887"
             ],
             [
              0.1111111111111111,
              "#46039f"
             ],
             [
              0.2222222222222222,
              "#7201a8"
             ],
             [
              0.3333333333333333,
              "#9c179e"
             ],
             [
              0.4444444444444444,
              "#bd3786"
             ],
             [
              0.5555555555555556,
              "#d8576b"
             ],
             [
              0.6666666666666666,
              "#ed7953"
             ],
             [
              0.7777777777777778,
              "#fb9f3a"
             ],
             [
              0.8888888888888888,
              "#fdca26"
             ],
             [
              1,
              "#f0f921"
             ]
            ],
            "type": "heatmapgl"
           }
          ],
          "histogram": [
           {
            "marker": {
             "pattern": {
              "fillmode": "overlay",
              "size": 10,
              "solidity": 0.2
             }
            },
            "type": "histogram"
           }
          ],
          "histogram2d": [
           {
            "colorbar": {
             "outlinewidth": 0,
             "ticks": ""
            },
            "colorscale": [
             [
              0,
              "#0d0887"
             ],
             [
              0.1111111111111111,
              "#46039f"
             ],
             [
              0.2222222222222222,
              "#7201a8"
             ],
             [
              0.3333333333333333,
              "#9c179e"
             ],
             [
              0.4444444444444444,
              "#bd3786"
             ],
             [
              0.5555555555555556,
              "#d8576b"
             ],
             [
              0.6666666666666666,
              "#ed7953"
             ],
             [
              0.7777777777777778,
              "#fb9f3a"
             ],
             [
              0.8888888888888888,
              "#fdca26"
             ],
             [
              1,
              "#f0f921"
             ]
            ],
            "type": "histogram2d"
           }
          ],
          "histogram2dcontour": [
           {
            "colorbar": {
             "outlinewidth": 0,
             "ticks": ""
            },
            "colorscale": [
             [
              0,
              "#0d0887"
             ],
             [
              0.1111111111111111,
              "#46039f"
             ],
             [
              0.2222222222222222,
              "#7201a8"
             ],
             [
              0.3333333333333333,
              "#9c179e"
             ],
             [
              0.4444444444444444,
              "#bd3786"
             ],
             [
              0.5555555555555556,
              "#d8576b"
             ],
             [
              0.6666666666666666,
              "#ed7953"
             ],
             [
              0.7777777777777778,
              "#fb9f3a"
             ],
             [
              0.8888888888888888,
              "#fdca26"
             ],
             [
              1,
              "#f0f921"
             ]
            ],
            "type": "histogram2dcontour"
           }
          ],
          "mesh3d": [
           {
            "colorbar": {
             "outlinewidth": 0,
             "ticks": ""
            },
            "type": "mesh3d"
           }
          ],
          "parcoords": [
           {
            "line": {
             "colorbar": {
              "outlinewidth": 0,
              "ticks": ""
             }
            },
            "type": "parcoords"
           }
          ],
          "pie": [
           {
            "automargin": true,
            "type": "pie"
           }
          ],
          "scatter": [
           {
            "marker": {
             "colorbar": {
              "outlinewidth": 0,
              "ticks": ""
             }
            },
            "type": "scatter"
           }
          ],
          "scatter3d": [
           {
            "line": {
             "colorbar": {
              "outlinewidth": 0,
              "ticks": ""
             }
            },
            "marker": {
             "colorbar": {
              "outlinewidth": 0,
              "ticks": ""
             }
            },
            "type": "scatter3d"
           }
          ],
          "scattercarpet": [
           {
            "marker": {
             "colorbar": {
              "outlinewidth": 0,
              "ticks": ""
             }
            },
            "type": "scattercarpet"
           }
          ],
          "scattergeo": [
           {
            "marker": {
             "colorbar": {
              "outlinewidth": 0,
              "ticks": ""
             }
            },
            "type": "scattergeo"
           }
          ],
          "scattergl": [
           {
            "marker": {
             "colorbar": {
              "outlinewidth": 0,
              "ticks": ""
             }
            },
            "type": "scattergl"
           }
          ],
          "scattermapbox": [
           {
            "marker": {
             "colorbar": {
              "outlinewidth": 0,
              "ticks": ""
             }
            },
            "type": "scattermapbox"
           }
          ],
          "scatterpolar": [
           {
            "marker": {
             "colorbar": {
              "outlinewidth": 0,
              "ticks": ""
             }
            },
            "type": "scatterpolar"
           }
          ],
          "scatterpolargl": [
           {
            "marker": {
             "colorbar": {
              "outlinewidth": 0,
              "ticks": ""
             }
            },
            "type": "scatterpolargl"
           }
          ],
          "scatterternary": [
           {
            "marker": {
             "colorbar": {
              "outlinewidth": 0,
              "ticks": ""
             }
            },
            "type": "scatterternary"
           }
          ],
          "surface": [
           {
            "colorbar": {
             "outlinewidth": 0,
             "ticks": ""
            },
            "colorscale": [
             [
              0,
              "#0d0887"
             ],
             [
              0.1111111111111111,
              "#46039f"
             ],
             [
              0.2222222222222222,
              "#7201a8"
             ],
             [
              0.3333333333333333,
              "#9c179e"
             ],
             [
              0.4444444444444444,
              "#bd3786"
             ],
             [
              0.5555555555555556,
              "#d8576b"
             ],
             [
              0.6666666666666666,
              "#ed7953"
             ],
             [
              0.7777777777777778,
              "#fb9f3a"
             ],
             [
              0.8888888888888888,
              "#fdca26"
             ],
             [
              1,
              "#f0f921"
             ]
            ],
            "type": "surface"
           }
          ],
          "table": [
           {
            "cells": {
             "fill": {
              "color": "#EBF0F8"
             },
             "line": {
              "color": "white"
             }
            },
            "header": {
             "fill": {
              "color": "#C8D4E3"
             },
             "line": {
              "color": "white"
             }
            },
            "type": "table"
           }
          ]
         },
         "layout": {
          "annotationdefaults": {
           "arrowcolor": "#2a3f5f",
           "arrowhead": 0,
           "arrowwidth": 1
          },
          "autotypenumbers": "strict",
          "coloraxis": {
           "colorbar": {
            "outlinewidth": 0,
            "ticks": ""
           }
          },
          "colorscale": {
           "diverging": [
            [
             0,
             "#8e0152"
            ],
            [
             0.1,
             "#c51b7d"
            ],
            [
             0.2,
             "#de77ae"
            ],
            [
             0.3,
             "#f1b6da"
            ],
            [
             0.4,
             "#fde0ef"
            ],
            [
             0.5,
             "#f7f7f7"
            ],
            [
             0.6,
             "#e6f5d0"
            ],
            [
             0.7,
             "#b8e186"
            ],
            [
             0.8,
             "#7fbc41"
            ],
            [
             0.9,
             "#4d9221"
            ],
            [
             1,
             "#276419"
            ]
           ],
           "sequential": [
            [
             0,
             "#0d0887"
            ],
            [
             0.1111111111111111,
             "#46039f"
            ],
            [
             0.2222222222222222,
             "#7201a8"
            ],
            [
             0.3333333333333333,
             "#9c179e"
            ],
            [
             0.4444444444444444,
             "#bd3786"
            ],
            [
             0.5555555555555556,
             "#d8576b"
            ],
            [
             0.6666666666666666,
             "#ed7953"
            ],
            [
             0.7777777777777778,
             "#fb9f3a"
            ],
            [
             0.8888888888888888,
             "#fdca26"
            ],
            [
             1,
             "#f0f921"
            ]
           ],
           "sequentialminus": [
            [
             0,
             "#0d0887"
            ],
            [
             0.1111111111111111,
             "#46039f"
            ],
            [
             0.2222222222222222,
             "#7201a8"
            ],
            [
             0.3333333333333333,
             "#9c179e"
            ],
            [
             0.4444444444444444,
             "#bd3786"
            ],
            [
             0.5555555555555556,
             "#d8576b"
            ],
            [
             0.6666666666666666,
             "#ed7953"
            ],
            [
             0.7777777777777778,
             "#fb9f3a"
            ],
            [
             0.8888888888888888,
             "#fdca26"
            ],
            [
             1,
             "#f0f921"
            ]
           ]
          },
          "colorway": [
           "#636efa",
           "#EF553B",
           "#00cc96",
           "#ab63fa",
           "#FFA15A",
           "#19d3f3",
           "#FF6692",
           "#B6E880",
           "#FF97FF",
           "#FECB52"
          ],
          "font": {
           "color": "#2a3f5f"
          },
          "geo": {
           "bgcolor": "white",
           "lakecolor": "white",
           "landcolor": "white",
           "showlakes": true,
           "showland": true,
           "subunitcolor": "#C8D4E3"
          },
          "hoverlabel": {
           "align": "left"
          },
          "hovermode": "closest",
          "mapbox": {
           "style": "light"
          },
          "paper_bgcolor": "white",
          "plot_bgcolor": "white",
          "polar": {
           "angularaxis": {
            "gridcolor": "#EBF0F8",
            "linecolor": "#EBF0F8",
            "ticks": ""
           },
           "bgcolor": "white",
           "radialaxis": {
            "gridcolor": "#EBF0F8",
            "linecolor": "#EBF0F8",
            "ticks": ""
           }
          },
          "scene": {
           "xaxis": {
            "backgroundcolor": "white",
            "gridcolor": "#DFE8F3",
            "gridwidth": 2,
            "linecolor": "#EBF0F8",
            "showbackground": true,
            "ticks": "",
            "zerolinecolor": "#EBF0F8"
           },
           "yaxis": {
            "backgroundcolor": "white",
            "gridcolor": "#DFE8F3",
            "gridwidth": 2,
            "linecolor": "#EBF0F8",
            "showbackground": true,
            "ticks": "",
            "zerolinecolor": "#EBF0F8"
           },
           "zaxis": {
            "backgroundcolor": "white",
            "gridcolor": "#DFE8F3",
            "gridwidth": 2,
            "linecolor": "#EBF0F8",
            "showbackground": true,
            "ticks": "",
            "zerolinecolor": "#EBF0F8"
           }
          },
          "shapedefaults": {
           "line": {
            "color": "#2a3f5f"
           }
          },
          "ternary": {
           "aaxis": {
            "gridcolor": "#DFE8F3",
            "linecolor": "#A2B1C6",
            "ticks": ""
           },
           "baxis": {
            "gridcolor": "#DFE8F3",
            "linecolor": "#A2B1C6",
            "ticks": ""
           },
           "bgcolor": "white",
           "caxis": {
            "gridcolor": "#DFE8F3",
            "linecolor": "#A2B1C6",
            "ticks": ""
           }
          },
          "title": {
           "x": 0.05
          },
          "xaxis": {
           "automargin": true,
           "gridcolor": "#EBF0F8",
           "linecolor": "#EBF0F8",
           "ticks": "",
           "title": {
            "standoff": 15
           },
           "zerolinecolor": "#EBF0F8",
           "zerolinewidth": 2
          },
          "yaxis": {
           "automargin": true,
           "gridcolor": "#EBF0F8",
           "linecolor": "#EBF0F8",
           "ticks": "",
           "title": {
            "standoff": 15
           },
           "zerolinecolor": "#EBF0F8",
           "zerolinewidth": 2
          }
         }
        },
        "title": {
         "text": "Average percentage of attempts for each team from the middle"
        },
        "xaxis": {
         "showgrid": true,
         "ticktext": [
          "2009-2010",
          "2010-2011",
          "2011-2012",
          "2012-2013",
          "2013-2014",
          "2014-2015",
          "2015-2016",
          "2016-2017",
          "2017-2018",
          "2018-2019",
          "2019-2020",
          "2020-2021",
          "2021-2022"
         ],
         "tickvals": [
          2009,
          2010,
          2011,
          2012,
          2013,
          2014,
          2015,
          2016,
          2017,
          2018,
          2019,
          2020,
          2021
         ],
         "title": {
          "text": "Season"
         }
        },
        "yaxis": {
         "showgrid": true,
         "tickformat": ".0%",
         "title": {
          "text": "Attempts (%)"
         }
        }
       }
      }
     },
     "metadata": {},
     "output_type": "display_data"
    }
   ],
   "source": [
    "fig = go.Figure()\n",
    "for league in LEAGUE:\n",
    "    temp = df[df[\"league\"] == league].groupby(\"season\")[\"middle_for\"].mean()\n",
    "    fig.add_scatter(x=temp.index, y=temp.values, name=league, mode=\"lines\")\n",
    "fig.update_layout(\n",
    "    title=\"Average percentage of attempts for each team from the middle\",\n",
    "    yaxis=dict(\n",
    "        tickformat=\".0%\",\n",
    "        showgrid=True\n",
    "    ),\n",
    "    xaxis=dict(\n",
    "        tickvals=[i for i in range(2009, 2022)],\n",
    "        ticktext=[\"2009-2010\", \"2010-2011\", \"2011-2012\", \"2012-2013\", \"2013-2014\", \"2014-2015\",\n",
    "                    \"2015-2016\", \"2016-2017\", \"2017-2018\", \"2018-2019\", \"2019-2020\", \"2020-2021\", \"2021-2022\"],\n",
    "        showgrid=True\n",
    "    ),\n",
    "    xaxis_title=\"Season\",\n",
    "    yaxis_title=\"Attempts (%)\"\n",
    ")\n",
    "fig.show()"
   ]
  },
  {
   "cell_type": "markdown",
   "metadata": {},
   "source": [
    "##### Against"
   ]
  },
  {
   "cell_type": "code",
   "execution_count": 12,
   "metadata": {},
   "outputs": [
    {
     "data": {
      "application/vnd.plotly.v1+json": {
       "config": {
        "plotlyServerURL": "https://plot.ly"
       },
       "data": [
        {
         "mode": "lines",
         "name": "Bundesliga",
         "type": "scatter",
         "x": [
          2009,
          2010,
          2011,
          2012,
          2013,
          2014,
          2015,
          2016,
          2017,
          2018,
          2019,
          2020
         ],
         "y": [
          0.6055555555555556,
          0.6133333333333334,
          0.6172222222222222,
          0.6244444444444445,
          0.6077777777777778,
          0.6122222222222221,
          0.65,
          0.6538888888888889,
          0.6638888888888889,
          0.6661111111111111,
          0.6716666666666665,
          0.6877777777777777
         ]
        },
        {
         "mode": "lines",
         "name": "EPL",
         "type": "scatter",
         "x": [
          2009,
          2010,
          2011,
          2012,
          2013,
          2014,
          2015,
          2016,
          2017,
          2018,
          2019,
          2020
         ],
         "y": [
          0.6605,
          0.654,
          0.6480000000000001,
          0.648,
          0.6475,
          0.66,
          0.647,
          0.6560000000000001,
          0.675,
          0.6645000000000001,
          0.6799999999999999,
          0.691
         ]
        },
        {
         "mode": "lines",
         "name": "LaLiga",
         "type": "scatter",
         "x": [
          2009,
          2010,
          2011,
          2012,
          2013,
          2014,
          2015,
          2016,
          2017,
          2018,
          2019,
          2020
         ],
         "y": [
          0.6255,
          0.6064999999999999,
          0.6095,
          0.6134999999999999,
          0.6165,
          0.632,
          0.629,
          0.6305000000000001,
          0.639,
          0.6465000000000002,
          0.6455,
          0.6599999999999999
         ]
        },
        {
         "mode": "lines",
         "name": "Ligue1",
         "type": "scatter",
         "x": [
          2009,
          2010,
          2011,
          2012,
          2013,
          2014,
          2015,
          2016,
          2017,
          2018,
          2019,
          2020
         ],
         "y": [
          0.6079999999999999,
          0.62,
          0.6219999999999999,
          0.6144999999999999,
          0.6224999999999999,
          0.6295,
          0.6350000000000001,
          0.6410000000000001,
          0.635,
          0.631,
          0.6315000000000001,
          0.6505000000000001
         ]
        },
        {
         "mode": "lines",
         "name": "SerieA",
         "type": "scatter",
         "x": [
          2009,
          2010,
          2011,
          2012,
          2013,
          2014,
          2015,
          2016,
          2017,
          2018,
          2019,
          2020
         ],
         "y": [
          0.6264999999999998,
          0.619,
          0.6214999999999999,
          0.6300000000000001,
          0.6164999999999999,
          0.6174999999999999,
          0.623,
          0.6379999999999999,
          0.6285000000000001,
          0.6370000000000001,
          0.6415,
          0.6744999999999999
         ]
        }
       ],
       "layout": {
        "template": {
         "data": {
          "bar": [
           {
            "error_x": {
             "color": "#2a3f5f"
            },
            "error_y": {
             "color": "#2a3f5f"
            },
            "marker": {
             "line": {
              "color": "white",
              "width": 0.5
             },
             "pattern": {
              "fillmode": "overlay",
              "size": 10,
              "solidity": 0.2
             }
            },
            "type": "bar"
           }
          ],
          "barpolar": [
           {
            "marker": {
             "line": {
              "color": "white",
              "width": 0.5
             },
             "pattern": {
              "fillmode": "overlay",
              "size": 10,
              "solidity": 0.2
             }
            },
            "type": "barpolar"
           }
          ],
          "carpet": [
           {
            "aaxis": {
             "endlinecolor": "#2a3f5f",
             "gridcolor": "#C8D4E3",
             "linecolor": "#C8D4E3",
             "minorgridcolor": "#C8D4E3",
             "startlinecolor": "#2a3f5f"
            },
            "baxis": {
             "endlinecolor": "#2a3f5f",
             "gridcolor": "#C8D4E3",
             "linecolor": "#C8D4E3",
             "minorgridcolor": "#C8D4E3",
             "startlinecolor": "#2a3f5f"
            },
            "type": "carpet"
           }
          ],
          "choropleth": [
           {
            "colorbar": {
             "outlinewidth": 0,
             "ticks": ""
            },
            "type": "choropleth"
           }
          ],
          "contour": [
           {
            "colorbar": {
             "outlinewidth": 0,
             "ticks": ""
            },
            "colorscale": [
             [
              0,
              "#0d0887"
             ],
             [
              0.1111111111111111,
              "#46039f"
             ],
             [
              0.2222222222222222,
              "#7201a8"
             ],
             [
              0.3333333333333333,
              "#9c179e"
             ],
             [
              0.4444444444444444,
              "#bd3786"
             ],
             [
              0.5555555555555556,
              "#d8576b"
             ],
             [
              0.6666666666666666,
              "#ed7953"
             ],
             [
              0.7777777777777778,
              "#fb9f3a"
             ],
             [
              0.8888888888888888,
              "#fdca26"
             ],
             [
              1,
              "#f0f921"
             ]
            ],
            "type": "contour"
           }
          ],
          "contourcarpet": [
           {
            "colorbar": {
             "outlinewidth": 0,
             "ticks": ""
            },
            "type": "contourcarpet"
           }
          ],
          "heatmap": [
           {
            "colorbar": {
             "outlinewidth": 0,
             "ticks": ""
            },
            "colorscale": [
             [
              0,
              "#0d0887"
             ],
             [
              0.1111111111111111,
              "#46039f"
             ],
             [
              0.2222222222222222,
              "#7201a8"
             ],
             [
              0.3333333333333333,
              "#9c179e"
             ],
             [
              0.4444444444444444,
              "#bd3786"
             ],
             [
              0.5555555555555556,
              "#d8576b"
             ],
             [
              0.6666666666666666,
              "#ed7953"
             ],
             [
              0.7777777777777778,
              "#fb9f3a"
             ],
             [
              0.8888888888888888,
              "#fdca26"
             ],
             [
              1,
              "#f0f921"
             ]
            ],
            "type": "heatmap"
           }
          ],
          "heatmapgl": [
           {
            "colorbar": {
             "outlinewidth": 0,
             "ticks": ""
            },
            "colorscale": [
             [
              0,
              "#0d0887"
             ],
             [
              0.1111111111111111,
              "#46039f"
             ],
             [
              0.2222222222222222,
              "#7201a8"
             ],
             [
              0.3333333333333333,
              "#9c179e"
             ],
             [
              0.4444444444444444,
              "#bd3786"
             ],
             [
              0.5555555555555556,
              "#d8576b"
             ],
             [
              0.6666666666666666,
              "#ed7953"
             ],
             [
              0.7777777777777778,
              "#fb9f3a"
             ],
             [
              0.8888888888888888,
              "#fdca26"
             ],
             [
              1,
              "#f0f921"
             ]
            ],
            "type": "heatmapgl"
           }
          ],
          "histogram": [
           {
            "marker": {
             "pattern": {
              "fillmode": "overlay",
              "size": 10,
              "solidity": 0.2
             }
            },
            "type": "histogram"
           }
          ],
          "histogram2d": [
           {
            "colorbar": {
             "outlinewidth": 0,
             "ticks": ""
            },
            "colorscale": [
             [
              0,
              "#0d0887"
             ],
             [
              0.1111111111111111,
              "#46039f"
             ],
             [
              0.2222222222222222,
              "#7201a8"
             ],
             [
              0.3333333333333333,
              "#9c179e"
             ],
             [
              0.4444444444444444,
              "#bd3786"
             ],
             [
              0.5555555555555556,
              "#d8576b"
             ],
             [
              0.6666666666666666,
              "#ed7953"
             ],
             [
              0.7777777777777778,
              "#fb9f3a"
             ],
             [
              0.8888888888888888,
              "#fdca26"
             ],
             [
              1,
              "#f0f921"
             ]
            ],
            "type": "histogram2d"
           }
          ],
          "histogram2dcontour": [
           {
            "colorbar": {
             "outlinewidth": 0,
             "ticks": ""
            },
            "colorscale": [
             [
              0,
              "#0d0887"
             ],
             [
              0.1111111111111111,
              "#46039f"
             ],
             [
              0.2222222222222222,
              "#7201a8"
             ],
             [
              0.3333333333333333,
              "#9c179e"
             ],
             [
              0.4444444444444444,
              "#bd3786"
             ],
             [
              0.5555555555555556,
              "#d8576b"
             ],
             [
              0.6666666666666666,
              "#ed7953"
             ],
             [
              0.7777777777777778,
              "#fb9f3a"
             ],
             [
              0.8888888888888888,
              "#fdca26"
             ],
             [
              1,
              "#f0f921"
             ]
            ],
            "type": "histogram2dcontour"
           }
          ],
          "mesh3d": [
           {
            "colorbar": {
             "outlinewidth": 0,
             "ticks": ""
            },
            "type": "mesh3d"
           }
          ],
          "parcoords": [
           {
            "line": {
             "colorbar": {
              "outlinewidth": 0,
              "ticks": ""
             }
            },
            "type": "parcoords"
           }
          ],
          "pie": [
           {
            "automargin": true,
            "type": "pie"
           }
          ],
          "scatter": [
           {
            "marker": {
             "colorbar": {
              "outlinewidth": 0,
              "ticks": ""
             }
            },
            "type": "scatter"
           }
          ],
          "scatter3d": [
           {
            "line": {
             "colorbar": {
              "outlinewidth": 0,
              "ticks": ""
             }
            },
            "marker": {
             "colorbar": {
              "outlinewidth": 0,
              "ticks": ""
             }
            },
            "type": "scatter3d"
           }
          ],
          "scattercarpet": [
           {
            "marker": {
             "colorbar": {
              "outlinewidth": 0,
              "ticks": ""
             }
            },
            "type": "scattercarpet"
           }
          ],
          "scattergeo": [
           {
            "marker": {
             "colorbar": {
              "outlinewidth": 0,
              "ticks": ""
             }
            },
            "type": "scattergeo"
           }
          ],
          "scattergl": [
           {
            "marker": {
             "colorbar": {
              "outlinewidth": 0,
              "ticks": ""
             }
            },
            "type": "scattergl"
           }
          ],
          "scattermapbox": [
           {
            "marker": {
             "colorbar": {
              "outlinewidth": 0,
              "ticks": ""
             }
            },
            "type": "scattermapbox"
           }
          ],
          "scatterpolar": [
           {
            "marker": {
             "colorbar": {
              "outlinewidth": 0,
              "ticks": ""
             }
            },
            "type": "scatterpolar"
           }
          ],
          "scatterpolargl": [
           {
            "marker": {
             "colorbar": {
              "outlinewidth": 0,
              "ticks": ""
             }
            },
            "type": "scatterpolargl"
           }
          ],
          "scatterternary": [
           {
            "marker": {
             "colorbar": {
              "outlinewidth": 0,
              "ticks": ""
             }
            },
            "type": "scatterternary"
           }
          ],
          "surface": [
           {
            "colorbar": {
             "outlinewidth": 0,
             "ticks": ""
            },
            "colorscale": [
             [
              0,
              "#0d0887"
             ],
             [
              0.1111111111111111,
              "#46039f"
             ],
             [
              0.2222222222222222,
              "#7201a8"
             ],
             [
              0.3333333333333333,
              "#9c179e"
             ],
             [
              0.4444444444444444,
              "#bd3786"
             ],
             [
              0.5555555555555556,
              "#d8576b"
             ],
             [
              0.6666666666666666,
              "#ed7953"
             ],
             [
              0.7777777777777778,
              "#fb9f3a"
             ],
             [
              0.8888888888888888,
              "#fdca26"
             ],
             [
              1,
              "#f0f921"
             ]
            ],
            "type": "surface"
           }
          ],
          "table": [
           {
            "cells": {
             "fill": {
              "color": "#EBF0F8"
             },
             "line": {
              "color": "white"
             }
            },
            "header": {
             "fill": {
              "color": "#C8D4E3"
             },
             "line": {
              "color": "white"
             }
            },
            "type": "table"
           }
          ]
         },
         "layout": {
          "annotationdefaults": {
           "arrowcolor": "#2a3f5f",
           "arrowhead": 0,
           "arrowwidth": 1
          },
          "autotypenumbers": "strict",
          "coloraxis": {
           "colorbar": {
            "outlinewidth": 0,
            "ticks": ""
           }
          },
          "colorscale": {
           "diverging": [
            [
             0,
             "#8e0152"
            ],
            [
             0.1,
             "#c51b7d"
            ],
            [
             0.2,
             "#de77ae"
            ],
            [
             0.3,
             "#f1b6da"
            ],
            [
             0.4,
             "#fde0ef"
            ],
            [
             0.5,
             "#f7f7f7"
            ],
            [
             0.6,
             "#e6f5d0"
            ],
            [
             0.7,
             "#b8e186"
            ],
            [
             0.8,
             "#7fbc41"
            ],
            [
             0.9,
             "#4d9221"
            ],
            [
             1,
             "#276419"
            ]
           ],
           "sequential": [
            [
             0,
             "#0d0887"
            ],
            [
             0.1111111111111111,
             "#46039f"
            ],
            [
             0.2222222222222222,
             "#7201a8"
            ],
            [
             0.3333333333333333,
             "#9c179e"
            ],
            [
             0.4444444444444444,
             "#bd3786"
            ],
            [
             0.5555555555555556,
             "#d8576b"
            ],
            [
             0.6666666666666666,
             "#ed7953"
            ],
            [
             0.7777777777777778,
             "#fb9f3a"
            ],
            [
             0.8888888888888888,
             "#fdca26"
            ],
            [
             1,
             "#f0f921"
            ]
           ],
           "sequentialminus": [
            [
             0,
             "#0d0887"
            ],
            [
             0.1111111111111111,
             "#46039f"
            ],
            [
             0.2222222222222222,
             "#7201a8"
            ],
            [
             0.3333333333333333,
             "#9c179e"
            ],
            [
             0.4444444444444444,
             "#bd3786"
            ],
            [
             0.5555555555555556,
             "#d8576b"
            ],
            [
             0.6666666666666666,
             "#ed7953"
            ],
            [
             0.7777777777777778,
             "#fb9f3a"
            ],
            [
             0.8888888888888888,
             "#fdca26"
            ],
            [
             1,
             "#f0f921"
            ]
           ]
          },
          "colorway": [
           "#636efa",
           "#EF553B",
           "#00cc96",
           "#ab63fa",
           "#FFA15A",
           "#19d3f3",
           "#FF6692",
           "#B6E880",
           "#FF97FF",
           "#FECB52"
          ],
          "font": {
           "color": "#2a3f5f"
          },
          "geo": {
           "bgcolor": "white",
           "lakecolor": "white",
           "landcolor": "white",
           "showlakes": true,
           "showland": true,
           "subunitcolor": "#C8D4E3"
          },
          "hoverlabel": {
           "align": "left"
          },
          "hovermode": "closest",
          "mapbox": {
           "style": "light"
          },
          "paper_bgcolor": "white",
          "plot_bgcolor": "white",
          "polar": {
           "angularaxis": {
            "gridcolor": "#EBF0F8",
            "linecolor": "#EBF0F8",
            "ticks": ""
           },
           "bgcolor": "white",
           "radialaxis": {
            "gridcolor": "#EBF0F8",
            "linecolor": "#EBF0F8",
            "ticks": ""
           }
          },
          "scene": {
           "xaxis": {
            "backgroundcolor": "white",
            "gridcolor": "#DFE8F3",
            "gridwidth": 2,
            "linecolor": "#EBF0F8",
            "showbackground": true,
            "ticks": "",
            "zerolinecolor": "#EBF0F8"
           },
           "yaxis": {
            "backgroundcolor": "white",
            "gridcolor": "#DFE8F3",
            "gridwidth": 2,
            "linecolor": "#EBF0F8",
            "showbackground": true,
            "ticks": "",
            "zerolinecolor": "#EBF0F8"
           },
           "zaxis": {
            "backgroundcolor": "white",
            "gridcolor": "#DFE8F3",
            "gridwidth": 2,
            "linecolor": "#EBF0F8",
            "showbackground": true,
            "ticks": "",
            "zerolinecolor": "#EBF0F8"
           }
          },
          "shapedefaults": {
           "line": {
            "color": "#2a3f5f"
           }
          },
          "ternary": {
           "aaxis": {
            "gridcolor": "#DFE8F3",
            "linecolor": "#A2B1C6",
            "ticks": ""
           },
           "baxis": {
            "gridcolor": "#DFE8F3",
            "linecolor": "#A2B1C6",
            "ticks": ""
           },
           "bgcolor": "white",
           "caxis": {
            "gridcolor": "#DFE8F3",
            "linecolor": "#A2B1C6",
            "ticks": ""
           }
          },
          "title": {
           "x": 0.05
          },
          "xaxis": {
           "automargin": true,
           "gridcolor": "#EBF0F8",
           "linecolor": "#EBF0F8",
           "ticks": "",
           "title": {
            "standoff": 15
           },
           "zerolinecolor": "#EBF0F8",
           "zerolinewidth": 2
          },
          "yaxis": {
           "automargin": true,
           "gridcolor": "#EBF0F8",
           "linecolor": "#EBF0F8",
           "ticks": "",
           "title": {
            "standoff": 15
           },
           "zerolinecolor": "#EBF0F8",
           "zerolinewidth": 2
          }
         }
        },
        "title": {
         "text": "Average percentage of attempts against each team from the middle"
        },
        "xaxis": {
         "showgrid": true,
         "ticktext": [
          "2009-2010",
          "2010-2011",
          "2011-2012",
          "2012-2013",
          "2013-2014",
          "2014-2015",
          "2015-2016",
          "2016-2017",
          "2017-2018",
          "2018-2019",
          "2019-2020",
          "2020-2021",
          "2021-2022"
         ],
         "tickvals": [
          2009,
          2010,
          2011,
          2012,
          2013,
          2014,
          2015,
          2016,
          2017,
          2018,
          2019,
          2020,
          2021
         ],
         "title": {
          "text": "Season"
         }
        },
        "yaxis": {
         "showgrid": true,
         "tickformat": ".0%",
         "title": {
          "text": "Attempts (%)"
         }
        }
       }
      }
     },
     "metadata": {},
     "output_type": "display_data"
    }
   ],
   "source": [
    "fig = go.Figure()\n",
    "for league in LEAGUE:\n",
    "    temp = df[df[\"league\"] == league].groupby(\"season\")[\"middle_against\"].mean()\n",
    "    fig.add_scatter(x=temp.index, y=temp.values, name=league, mode=\"lines\")\n",
    "fig.update_layout(\n",
    "    title=\"Average percentage of attempts against each team from the middle\",\n",
    "    yaxis=dict(\n",
    "        tickformat=\".0%\",\n",
    "        showgrid=True\n",
    "    ),\n",
    "    xaxis=dict(\n",
    "        tickvals=[i for i in range(2009, 2022)],\n",
    "        ticktext=[\"2009-2010\", \"2010-2011\", \"2011-2012\", \"2012-2013\", \"2013-2014\", \"2014-2015\",\n",
    "                    \"2015-2016\", \"2016-2017\", \"2017-2018\", \"2018-2019\", \"2019-2020\", \"2020-2021\", \"2021-2022\"],\n",
    "        showgrid=True\n",
    "    ),\n",
    "    xaxis_title=\"Season\",\n",
    "    yaxis_title=\"Attempts (%)\"\n",
    ")\n",
    "fig.show()"
   ]
  },
  {
   "cell_type": "code",
   "execution_count": null,
   "metadata": {},
   "outputs": [],
   "source": []
  },
  {
   "cell_type": "markdown",
   "metadata": {},
   "source": [
    "### Interactive percentage of attempts for the last 10 years of each team"
   ]
  },
  {
   "cell_type": "markdown",
   "metadata": {},
   "source": [
    "#### With team filter"
   ]
  },
  {
   "cell_type": "markdown",
   "metadata": {},
   "source": [
    "##### From each direction"
   ]
  },
  {
   "cell_type": "code",
   "execution_count": 13,
   "metadata": {},
   "outputs": [
    {
     "name": "stdout",
     "output_type": "stream",
     "text": [
      "Dash app running on http://127.0.0.1:8050/\n"
     ]
    }
   ],
   "source": [
    "from dash import dcc, html, Input, Output, State, ctx\n",
    "from jupyter_dash import JupyterDash\n",
    "import plotly.express as px\n",
    "from dash.exceptions import PreventUpdate\n",
    "\n",
    "app = JupyterDash(__name__)\n",
    "\n",
    "app.layout = html.Div([\n",
    "    html.Div([\n",
    "        html.Div([\n",
    "            html.H3('League'),\n",
    "            dcc.Checklist(\n",
    "                options=[\n",
    "                    {\n",
    "                        \"label\": html.Div(\n",
    "                            [\n",
    "                                html.Img(\n",
    "                                    src=\"./assets/flags/germany-flag-icon-16.png\"),\n",
    "                                \" Bundesliga\",\n",
    "                            ], style={'display': 'inline-block', 'marginTop': '5px'}\n",
    "                        ),\n",
    "                        \"value\": \"Bundesliga\",\n",
    "                    },\n",
    "                    {\n",
    "                        \"label\": html.Div(\n",
    "                            [\n",
    "                                html.Img(\n",
    "                                    src=\"./assets/flags/england-flag-icon-16.png\", alt='image'),\n",
    "                                \" EPL\",\n",
    "                            ], style={'display': 'inline-block', 'marginTop': '5px'}\n",
    "                        ),\n",
    "                        \"value\": \"EPL\",\n",
    "                    },\n",
    "                    {\n",
    "                        \"label\": html.Div(\n",
    "                            [\n",
    "                                html.Img(\n",
    "                                    src=\"./assets/flags/spain-flag-icon-16.png\", alt='image'),\n",
    "                                \" LaLiga\",\n",
    "                            ], style={'display': 'inline-block', 'marginTop': '5px'}\n",
    "                        ),\n",
    "                        \"value\": \"LaLiga\",\n",
    "                    },\n",
    "                    {\n",
    "                        \"label\": html.Div(\n",
    "                            [\n",
    "                                html.Img(\n",
    "                                    src=\"./assets/flags/france-flag-icon-16.png\", alt='image'),\n",
    "                                \" Ligue 1\",\n",
    "                            ], style={'display': 'inline-block', 'marginTop': '5px'}\n",
    "                        ),\n",
    "                        \"value\": \"Ligue1\",\n",
    "                    },\n",
    "                    {\n",
    "                        \"label\": html.Div(\n",
    "                            [\n",
    "                                html.Img(\n",
    "                                    src=\"./assets/flags/italy-flag-icon-16.png\", alt='image'),\n",
    "                                \" Serie A\",\n",
    "                            ], style={'display': 'inline-block', 'marginTop': '5px'}\n",
    "                        ),\n",
    "                        \"value\": \"SerieA\",\n",
    "                    },\n",
    "                ],\n",
    "                value=[\"Bundesliga\"],\n",
    "                id=\"league\",\n",
    "                labelStyle={'display': 'block'},\n",
    "                style={\"height\":150, \"width\":200, \"overflow\":\"auto\"}\n",
    "            )\n",
    "        ], style={'padding': 10, 'flex': 1}),\n",
    "        html.Div([\n",
    "            html.H3('Direction'),\n",
    "            dcc.RadioItems(\n",
    "                {\n",
    "                    \"right\": \"Right Side\",\n",
    "                    \"left\": \"Left Side\",\n",
    "                    \"middle\": \"Middle\"\n",
    "                },\n",
    "                \"right\",\n",
    "                id=\"direction\",\n",
    "                labelStyle={'display': 'block'},\n",
    "                style={\"height\":150, \"width\":200, \"overflow\":\"auto\"}\n",
    "            )\n",
    "        ], style={'padding': 10, 'flex': 1}),\n",
    "        html.Div([\n",
    "            html.H3('Attempts for or against'),\n",
    "            dcc.RadioItems(\n",
    "                {\n",
    "                    \"for\": \"Attempts for\",\n",
    "                    \"against\": \"Attempts against\"\n",
    "                },\n",
    "                \"for\",\n",
    "                id=\"for_or_against\",\n",
    "                labelStyle={'display': 'block'},\n",
    "                style={\"height\":150, \"width\":200, \"overflow\":\"auto\"}\n",
    "            )\n",
    "        ], style={'padding': 10, 'flex': 1}),\n",
    "        html.Div([\n",
    "            html.H3('Team'),\n",
    "            dcc.Dropdown([], id='team_dropdown', multi=True),\n",
    "            html.Div(id='dd-output-container')\n",
    "        ], style={'padding': 10, 'flex': 1})\n",
    "    ], style={'display': 'flex', 'flex-direction': 'row'}),\n",
    "\n",
    "    \n",
    "    dcc.Graph(\n",
    "        id='graph',\n",
    "    )\n",
    "])\n",
    "\n",
    "\n",
    "@app.callback(\n",
    "    Output(\"team_dropdown\", \"options\"),\n",
    "    Input('league', 'value'))\n",
    "def update_team_dropdown(selected_league):\n",
    "    mask = None\n",
    "    for i in range(len(selected_league)):\n",
    "        if i == 0:\n",
    "            mask = (df.league == selected_league[i])\n",
    "        else:\n",
    "            mask |= (df.league == selected_league[i])\n",
    "    if mask is not None:\n",
    "        filtered_df = df[mask]\n",
    "        return sorted(filtered_df[\"team\"].unique())\n",
    "    return []\n",
    "\n",
    "\n",
    "@app.callback(\n",
    "    Output('graph', 'figure'),\n",
    "    Input('team_dropdown', 'value'),\n",
    "    Input('league', 'value'),\n",
    "    Input('direction', 'value'),\n",
    "    Input('for_or_against', 'value'))\n",
    "def update_figure(selected_team, selected_league, selected_dir, selected_for_or_against):\n",
    "    if len(selected_league) == 0:  # if no league is selected then return an empty plot\n",
    "        fig = px.line()\n",
    "\n",
    "        fig.update_layout(\n",
    "            yaxis=dict(\n",
    "                tickformat=\".0%\",\n",
    "                showgrid=True\n",
    "            ),\n",
    "            xaxis=dict(\n",
    "                tickvals=[i for i in range(2009, 2022)],\n",
    "                ticktext=[\"2009-2010\", \"2010-2011\", \"2011-2012\", \"2012-2013\", \"2013-2014\", \"2014-2015\",\n",
    "                          \"2015-2016\", \"2016-2017\", \"2017-2018\", \"2018-2019\", \"2019-2020\", \"2020-2021\", \"2021-2022\"],\n",
    "                showgrid=True\n",
    "            ),\n",
    "            showlegend=False\n",
    "        )\n",
    "        return fig\n",
    "\n",
    "    # filtered_df = df[df[\"for_or_against\"]\n",
    "    #                           == selected_for_or_against]\n",
    "\n",
    "    mask = None\n",
    "    for i in range(len(selected_league)):\n",
    "        if i == 0:\n",
    "            mask = (df.league == selected_league[i])\n",
    "        else:\n",
    "            mask |= (df.league == selected_league[i])\n",
    "    filtered_df_league = df[mask]\n",
    "\n",
    "    mask_team = None\n",
    "    if ctx.triggered_id == \"team_dropdown\":\n",
    "        for i in range(len(selected_team)):\n",
    "            if i == 0:\n",
    "                mask_team = (df.team == selected_team[i])\n",
    "            else:\n",
    "                mask_team |= (df.team == selected_team[i])\n",
    "\n",
    "    if mask_team is not None: \n",
    "        mask_team &= mask\n",
    "        filtered_df_league_team = df[mask_team]\n",
    "\n",
    "        league_str = \", \".join(selected_league)\n",
    "        fig = px.line(filtered_df_league_team, x=\"season\", y=f\"{selected_dir}_{selected_for_or_against}\", color=\"team\",\n",
    "                title=f\"<b>Percentage of attempts from the {selected_dir} in {league_str} league</b>\", markers=True,\n",
    "                hover_name=\"team\", hover_data=[\"season\", f\"{selected_dir}_{selected_for_or_against}\", \"league\"])\n",
    "\n",
    "        fig.update_layout(\n",
    "            title_font_size=20,\n",
    "            hoverlabel=dict(\n",
    "                bgcolor=\"white\",\n",
    "                font_size=16,\n",
    "            )\n",
    "        )\n",
    "\n",
    "        fig.update_traces(\n",
    "            opacity=0.4,\n",
    "        )\n",
    "    else:\n",
    "        league_str = \", \".join(selected_league)\n",
    "        fig = px.line(filtered_df_league, x=\"season\", y=f\"{selected_dir}_{selected_for_or_against}\", color=\"team\",\n",
    "                    title=f\"<b>Percentage of attempts from the {selected_dir} in {league_str} league</b>\", markers=True,\n",
    "                    hover_name=\"team\", hover_data=[\"season\", f\"{selected_dir}_{selected_for_or_against}\", \"league\"])\n",
    "\n",
    "        fig.update_layout(\n",
    "            title_font_size=20,\n",
    "            hoverlabel=dict(\n",
    "                bgcolor=\"white\",\n",
    "                font_size=16,\n",
    "            ),\n",
    "            showlegend=False\n",
    "        )\n",
    "\n",
    "        fig.update_traces(\n",
    "            opacity=0.4,\n",
    "            line_color='rgb(189,189,189)'\n",
    "        )\n",
    "    mean = filtered_df_league.groupby(\"season\")[f\"{selected_dir}_{selected_for_or_against}\"].mean()\n",
    "    fig.add_trace(go.Scatter(\n",
    "        x=mean.index,\n",
    "        y=mean.values,\n",
    "        line=dict(\n",
    "            width=5,\n",
    "            color=\"rgb(49,130,189)\"\n",
    "        ),\n",
    "        name=\"Average\",\n",
    "        showlegend=False\n",
    "    ))\n",
    "\n",
    "    fig.update_layout(\n",
    "        yaxis=dict(\n",
    "            tickformat=\".0%\",\n",
    "            showgrid=True\n",
    "        ),\n",
    "        xaxis=dict(\n",
    "            tickvals=[i for i in range(2009, 2022)],\n",
    "            ticktext=[\"2009-2010\", \"2010-2011\", \"2011-2012\", \"2012-2013\", \"2013-2014\", \"2014-2015\",\n",
    "                      \"2015-2016\", \"2016-2017\", \"2017-2018\", \"2018-2019\", \"2019-2020\", \"2020-2021\", \"2021-2022\"],\n",
    "            showgrid=True\n",
    "        ),\n",
    "        xaxis_title=\"Season\",\n",
    "        yaxis_title=\"Attempts (%)\"\n",
    "    )\n",
    "\n",
    "    return fig\n",
    "\n",
    "app.run_server(debug=True, mode=\"external\")"
   ]
  },
  {
   "cell_type": "markdown",
   "metadata": {},
   "source": [
    "##### In each zone"
   ]
  },
  {
   "cell_type": "code",
   "execution_count": 14,
   "metadata": {},
   "outputs": [
    {
     "name": "stdout",
     "output_type": "stream",
     "text": [
      "Dash app running on http://127.0.0.1:8050/\n"
     ]
    }
   ],
   "source": [
    "from dash import dcc, html, Input, Output, State, ctx\n",
    "from jupyter_dash import JupyterDash\n",
    "import plotly.express as px\n",
    "from dash.exceptions import PreventUpdate\n",
    "\n",
    "app = JupyterDash(__name__)\n",
    "\n",
    "app.layout = html.Div([\n",
    "    html.Div([\n",
    "        html.Div([\n",
    "            html.H3('League'),\n",
    "            dcc.Checklist(\n",
    "                options=[\n",
    "                    {\n",
    "                        \"label\": html.Div(\n",
    "                            [\n",
    "                                html.Img(\n",
    "                                    src=\"./assets/flags/germany-flag-icon-16.png\"),\n",
    "                                \" Bundesliga\",\n",
    "                            ], style={'display': 'inline-block', 'marginTop': '5px'}\n",
    "                        ),\n",
    "                        \"value\": \"Bundesliga\",\n",
    "                    },\n",
    "                    {\n",
    "                        \"label\": html.Div(\n",
    "                            [\n",
    "                                html.Img(\n",
    "                                    src=\"./assets/flags/england-flag-icon-16.png\", alt='image'),\n",
    "                                \" EPL\",\n",
    "                            ], style={'display': 'inline-block', 'marginTop': '5px'}\n",
    "                        ),\n",
    "                        \"value\": \"EPL\",\n",
    "                    },\n",
    "                    {\n",
    "                        \"label\": html.Div(\n",
    "                            [\n",
    "                                html.Img(\n",
    "                                    src=\"./assets/flags/spain-flag-icon-16.png\", alt='image'),\n",
    "                                \" LaLiga\",\n",
    "                            ], style={'display': 'inline-block', 'marginTop': '5px'}\n",
    "                        ),\n",
    "                        \"value\": \"LaLiga\",\n",
    "                    },\n",
    "                    {\n",
    "                        \"label\": html.Div(\n",
    "                            [\n",
    "                                html.Img(\n",
    "                                    src=\"./assets/flags/france-flag-icon-16.png\", alt='image'),\n",
    "                                \" Ligue 1\",\n",
    "                            ], style={'display': 'inline-block', 'marginTop': '5px'}\n",
    "                        ),\n",
    "                        \"value\": \"Ligue1\",\n",
    "                    },\n",
    "                    {\n",
    "                        \"label\": html.Div(\n",
    "                            [\n",
    "                                html.Img(\n",
    "                                    src=\"./assets/flags/italy-flag-icon-16.png\", alt='image'),\n",
    "                                \" Serie A\",\n",
    "                            ], style={'display': 'inline-block', 'marginTop': '5px'}\n",
    "                        ),\n",
    "                        \"value\": \"SerieA\",\n",
    "                    },\n",
    "                ],\n",
    "                value=[\"Bundesliga\"],\n",
    "                id=\"league\",\n",
    "                labelStyle={'display': 'block'},\n",
    "                style={\"height\":150, \"width\":200, \"overflow\":\"auto\"}\n",
    "            )\n",
    "        ], style={'padding': 10, 'flex': 1}),\n",
    "        html.Div([\n",
    "            html.H3('Zone'),\n",
    "            dcc.RadioItems(\n",
    "                {\n",
    "                    \"In 6 Yards Box\": \"In 6 Yards Box\",\n",
    "                    \"In 18 Yards Box\": \"In 18 Yards Box\",\n",
    "                    \"Outside of Box\": \"Outside of Box\"\n",
    "                },\n",
    "                \"In 6 Yards Box\",\n",
    "                id=\"zone\",\n",
    "                labelStyle={'display': 'block'},\n",
    "                style={\"height\":150, \"width\":200, \"overflow\":\"auto\"}\n",
    "            )\n",
    "        ], style={'padding': 10, 'flex': 1}),\n",
    "        html.Div([\n",
    "            html.H3('Attempts for or against'),\n",
    "            dcc.RadioItems(\n",
    "                {\n",
    "                    \"for\": \"Attempts for\",\n",
    "                    \"against\": \"Attempts against\"\n",
    "                },\n",
    "                \"for\",\n",
    "                id=\"for_or_against\",\n",
    "                labelStyle={'display': 'block'},\n",
    "                style={\"height\":150, \"width\":200, \"overflow\":\"auto\"}\n",
    "            )\n",
    "        ], style={'padding': 10, 'flex': 1}),\n",
    "        html.Div([\n",
    "            html.H3('Team'),\n",
    "            dcc.Dropdown([], id='team_dropdown', multi=True),\n",
    "            html.Div(id='dd-output-container')\n",
    "        ], style={'padding': 10, 'flex': 1})\n",
    "    ], style={'display': 'flex', 'flex-direction': 'row'}),\n",
    "\n",
    "    \n",
    "    dcc.Graph(\n",
    "        id='graph',\n",
    "    )\n",
    "])\n",
    "\n",
    "\n",
    "@app.callback(\n",
    "    Output(\"team_dropdown\", \"options\"),\n",
    "    Input('league', 'value'))\n",
    "def update_team_dropdown(selected_league):\n",
    "    mask = None\n",
    "    for i in range(len(selected_league)):\n",
    "        if i == 0:\n",
    "            mask = (df.league == selected_league[i])\n",
    "        else:\n",
    "            mask |= (df.league == selected_league[i])\n",
    "    if mask is not None:\n",
    "        filtered_df = df[mask]\n",
    "        return sorted(filtered_df[\"team\"].unique())\n",
    "    return []\n",
    "\n",
    "\n",
    "@app.callback(\n",
    "    Output('graph', 'figure'),\n",
    "    Input('team_dropdown', 'value'),\n",
    "    Input('league', 'value'),\n",
    "    Input('zone', 'value'),\n",
    "    Input('for_or_against', 'value'))\n",
    "def update_figure(selected_team, selected_league, selected_zone, selected_for_or_against):\n",
    "    if len(selected_league) == 0:  # if no league is selected then return an empty plot\n",
    "        fig = px.line()\n",
    "\n",
    "        fig.update_layout(\n",
    "            yaxis=dict(\n",
    "                tickformat=\".0%\",\n",
    "                showgrid=True\n",
    "            ),\n",
    "            xaxis=dict(\n",
    "                tickvals=[i for i in range(2009, 2022)],\n",
    "                ticktext=[\"2009-2010\", \"2010-2011\", \"2011-2012\", \"2012-2013\", \"2013-2014\", \"2014-2015\",\n",
    "                          \"2015-2016\", \"2016-2017\", \"2017-2018\", \"2018-2019\", \"2019-2020\", \"2020-2021\", \"2021-2022\"],\n",
    "                showgrid=True\n",
    "            ),\n",
    "            showlegend=False\n",
    "        )\n",
    "        return fig\n",
    "\n",
    "    # filtered_df = df[df[\"for_or_against\"]\n",
    "    #                           == selected_for_or_against]\n",
    "\n",
    "    mask = None\n",
    "    for i in range(len(selected_league)):\n",
    "        if i == 0:\n",
    "            mask = (df.league == selected_league[i])\n",
    "        else:\n",
    "            mask |= (df.league == selected_league[i])\n",
    "    filtered_df_league = df[mask]\n",
    "\n",
    "    mask_team = None\n",
    "    if ctx.triggered_id == \"team_dropdown\":\n",
    "        for i in range(len(selected_team)):\n",
    "            if i == 0:\n",
    "                mask_team = (df.team == selected_team[i])\n",
    "            else:\n",
    "                mask_team |= (df.team == selected_team[i])\n",
    "\n",
    "    if mask_team is not None: \n",
    "        mask_team &= mask\n",
    "        filtered_df_league_team = df[mask_team]\n",
    "\n",
    "        league_str = \", \".join(selected_league)\n",
    "        fig = px.line(filtered_df_league_team, x=\"season\", y=f\"{selected_zone}_{selected_for_or_against}\", color=\"team\",\n",
    "                title=f\"<b>Percentage of attempts from the {selected_zone} in {league_str} league</b>\", markers=True,\n",
    "                hover_name=\"team\", hover_data=[\"season\", f\"{selected_zone}_{selected_for_or_against}\", \"league\"])\n",
    "\n",
    "        fig.update_layout(\n",
    "            title_font_size=20,\n",
    "            hoverlabel=dict(\n",
    "                bgcolor=\"white\",\n",
    "                font_size=16,\n",
    "            )\n",
    "        )\n",
    "\n",
    "        fig.update_traces(\n",
    "            opacity=0.4,\n",
    "        )\n",
    "    else:\n",
    "        league_str = \", \".join(selected_league)\n",
    "        fig = px.line(filtered_df_league, x=\"season\", y=f\"{selected_zone}_{selected_for_or_against}\", color=\"team\",\n",
    "                    title=f\"<b>Percentage of attempts from the {selected_zone} in {league_str} league</b>\", markers=True,\n",
    "                    hover_name=\"team\", hover_data=[\"season\", f\"{selected_zone}_{selected_for_or_against}\", \"league\"])\n",
    "\n",
    "        fig.update_layout(\n",
    "            title_font_size=20,\n",
    "            hoverlabel=dict(\n",
    "                bgcolor=\"white\",\n",
    "                font_size=16,\n",
    "            ),\n",
    "            showlegend=False\n",
    "        )\n",
    "\n",
    "        fig.update_traces(\n",
    "            opacity=0.4,\n",
    "            line_color='rgb(189,189,189)'\n",
    "        )\n",
    "    mean = filtered_df_league.groupby(\"season\")[f\"{selected_zone}_{selected_for_or_against}\"].mean()\n",
    "    fig.add_trace(go.Scatter(\n",
    "        x=mean.index,\n",
    "        y=mean.values,\n",
    "        line=dict(\n",
    "            width=5,\n",
    "            color=\"rgb(49,130,189)\"\n",
    "        ),\n",
    "        name=\"Average\",\n",
    "        showlegend=False\n",
    "    ))\n",
    "\n",
    "    fig.update_layout(\n",
    "        yaxis=dict(\n",
    "            tickformat=\".0%\",\n",
    "            showgrid=True\n",
    "        ),\n",
    "        xaxis=dict(\n",
    "            tickvals=[i for i in range(2009, 2022)],\n",
    "            ticktext=[\"2009-2010\", \"2010-2011\", \"2011-2012\", \"2012-2013\", \"2013-2014\", \"2014-2015\",\n",
    "                      \"2015-2016\", \"2016-2017\", \"2017-2018\", \"2018-2019\", \"2019-2020\", \"2020-2021\", \"2021-2022\"],\n",
    "            showgrid=True\n",
    "        ),\n",
    "        xaxis_title=\"Season\",\n",
    "        yaxis_title=\"Attempts (%)\"\n",
    "    )\n",
    "\n",
    "    return fig\n",
    "\n",
    "app.run_server(debug=True, mode=\"external\")"
   ]
  },
  {
   "cell_type": "markdown",
   "metadata": {},
   "source": [
    "#### With top k best performing teams in each season"
   ]
  },
  {
   "cell_type": "markdown",
   "metadata": {},
   "source": [
    "##### For each direction"
   ]
  },
  {
   "cell_type": "code",
   "execution_count": 15,
   "metadata": {},
   "outputs": [
    {
     "name": "stdout",
     "output_type": "stream",
     "text": [
      "Dash app running on http://127.0.0.1:8050/\n"
     ]
    }
   ],
   "source": [
    "from dash import dcc, html, Input, Output, State, ctx\n",
    "from jupyter_dash import JupyterDash\n",
    "import plotly.express as px\n",
    "from dash.exceptions import PreventUpdate\n",
    "\n",
    "app = JupyterDash(__name__)\n",
    "\n",
    "app.layout = html.Div([\n",
    "    html.Div([\n",
    "        html.Div([\n",
    "            html.H3('League'),\n",
    "            dcc.Checklist(\n",
    "                options=[\n",
    "                    {\n",
    "                        \"label\": html.Div(\n",
    "                            [\n",
    "                                html.Img(\n",
    "                                    src=\"./assets/flags/germany-flag-icon-16.png\"),\n",
    "                                \" Bundesliga\",\n",
    "                            ], style={'display': 'inline-block', 'marginTop': '5px'}\n",
    "                        ),\n",
    "                        \"value\": \"Bundesliga\",\n",
    "                    },\n",
    "                    {\n",
    "                        \"label\": html.Div(\n",
    "                            [\n",
    "                                html.Img(\n",
    "                                    src=\"./assets/flags/england-flag-icon-16.png\", alt='image'),\n",
    "                                \" EPL\",\n",
    "                            ], style={'display': 'inline-block', 'marginTop': '5px'}\n",
    "                        ),\n",
    "                        \"value\": \"EPL\",\n",
    "                    },\n",
    "                    {\n",
    "                        \"label\": html.Div(\n",
    "                            [\n",
    "                                html.Img(\n",
    "                                    src=\"./assets/flags/spain-flag-icon-16.png\", alt='image'),\n",
    "                                \" LaLiga\",\n",
    "                            ], style={'display': 'inline-block', 'marginTop': '5px'}\n",
    "                        ),\n",
    "                        \"value\": \"LaLiga\",\n",
    "                    },\n",
    "                    {\n",
    "                        \"label\": html.Div(\n",
    "                            [\n",
    "                                html.Img(\n",
    "                                    src=\"./assets/flags/france-flag-icon-16.png\", alt='image'),\n",
    "                                \" Ligue 1\",\n",
    "                            ], style={'display': 'inline-block', 'marginTop': '5px'}\n",
    "                        ),\n",
    "                        \"value\": \"Ligue1\",\n",
    "                    },\n",
    "                    {\n",
    "                        \"label\": html.Div(\n",
    "                            [\n",
    "                                html.Img(\n",
    "                                    src=\"./assets/flags/italy-flag-icon-16.png\", alt='image'),\n",
    "                                \" Serie A\",\n",
    "                            ], style={'display': 'inline-block', 'marginTop': '5px'}\n",
    "                        ),\n",
    "                        \"value\": \"SerieA\",\n",
    "                    },\n",
    "                ],\n",
    "                value=[\"Bundesliga\"],\n",
    "                id=\"league\",\n",
    "                labelStyle={'display': 'block'},\n",
    "                style={\"height\": 150, \"width\": 200, \"overflow\": \"auto\"}\n",
    "            )\n",
    "        ], style={'padding': 10, 'flex': 1}),\n",
    "        html.Div([\n",
    "            html.H3('Direction'),\n",
    "            dcc.RadioItems(\n",
    "                {\n",
    "                    \"right\": \"Right Side\",\n",
    "                    \"left\": \"Left Side\",\n",
    "                    \"middle\": \"Middle\"\n",
    "                },\n",
    "                \"right\",\n",
    "                id=\"direction\",\n",
    "                labelStyle={'display': 'block'},\n",
    "                style={\"height\": 150, \"width\": 200, \"overflow\": \"auto\"}\n",
    "            )\n",
    "        ], style={'padding': 10, 'flex': 1}),\n",
    "        html.Div([\n",
    "            html.H3('Attempts for or against'),\n",
    "            dcc.RadioItems(\n",
    "                {\n",
    "                    \"for\": \"Attempts for\",\n",
    "                    \"against\": \"Attempts against\"\n",
    "                },\n",
    "                \"for\",\n",
    "                id=\"for_or_against\",\n",
    "                labelStyle={'display': 'block'},\n",
    "                style={\"height\": 150, \"width\": 200, \"overflow\": \"auto\"}\n",
    "            )\n",
    "        ], style={'padding': 10, 'flex': 1}),\n",
    "        html.Div([\n",
    "            html.H3('Highlight top performing teams in each season'),\n",
    "            dcc.Input(id='top', type='number', min=0, max=30, step=1, value=0)\n",
    "        ], style={'padding': 10, 'flex': 1})\n",
    "    ], style={'display': 'flex', 'flex-direction': 'row'}),\n",
    "\n",
    "    dcc.Graph(\n",
    "        id='graph',\n",
    "    )\n",
    "])\n",
    "\n",
    "\n",
    "@app.callback(\n",
    "    Output('graph', 'figure'),\n",
    "    Input('top', 'value'),\n",
    "    Input('league', 'value'),\n",
    "    Input('direction', 'value'),\n",
    "    Input('for_or_against', 'value'))\n",
    "def update_figure(selected_top, selected_league, selected_dir, selected_for_or_against):\n",
    "    if len(selected_league) == 0:  # if no league is selected then return an empty plot\n",
    "        fig = px.line()\n",
    "\n",
    "        fig.update_layout(\n",
    "            yaxis=dict(\n",
    "                tickformat=\".0%\",\n",
    "                showgrid=True\n",
    "            ),\n",
    "            xaxis=dict(\n",
    "                tickvals=[i for i in range(2009, 2022)],\n",
    "                ticktext=[\"2009-2010\", \"2010-2011\", \"2011-2012\", \"2012-2013\", \"2013-2014\", \"2014-2015\",\n",
    "                          \"2015-2016\", \"2016-2017\", \"2017-2018\", \"2018-2019\", \"2019-2020\", \"2020-2021\", \"2021-2022\"],\n",
    "                showgrid=True\n",
    "            ),\n",
    "            showlegend=False\n",
    "        )\n",
    "        return fig\n",
    "\n",
    "    mask = None\n",
    "    for i in range(len(selected_league)):\n",
    "        if i == 0:\n",
    "            mask = (df.league == selected_league[i])\n",
    "        else:\n",
    "            mask |= (df.league == selected_league[i])\n",
    "\n",
    "    filtered_df_league = df[mask]\n",
    "\n",
    "    league_str = \", \".join(selected_league)\n",
    "    fig = px.line(filtered_df_league, x=\"season\", y=f\"{selected_dir}_{selected_for_or_against}\", color=\"team\",\n",
    "                  title=f\"<b>Percentage of attempts from the {selected_dir} in {league_str} league</b>\", markers=True,\n",
    "                  hover_name=\"team\", hover_data=[\"season\", f\"{selected_dir}_{selected_for_or_against}\", \"league\"])\n",
    "\n",
    "    fig.update_layout(\n",
    "        title_font_size=20,\n",
    "        hoverlabel=dict(\n",
    "            bgcolor=\"white\",\n",
    "            font_size=16,\n",
    "        ),\n",
    "        showlegend=False\n",
    "    )\n",
    "\n",
    "    fig.update_traces(\n",
    "        opacity=0.4,\n",
    "        line_color='rgb(189,189,189)'\n",
    "    )\n",
    "\n",
    "    # add highlight dots\n",
    "    top_k_teams = filtered_df_league.set_index([\"team\", f\"{selected_dir}_{selected_for_or_against}\"]).groupby(\n",
    "        \"season\")[\"rating\"].nlargest(selected_top).reset_index()\n",
    "    fig.add_scatter(x=top_k_teams[\"season\"], y=top_k_teams[f\"{selected_dir}_{selected_for_or_against}\"],\n",
    "                    name=\"\", marker_color=\"orange\", mode=\"markers\", marker_size=12, marker_symbol='star', marker_line_color=\"black\", marker_line_width=1)\n",
    "\n",
    "    mean = filtered_df_league.groupby(\n",
    "        \"season\")[f\"{selected_dir}_{selected_for_or_against}\"].mean()\n",
    "    fig.add_trace(go.Scatter(\n",
    "        x=mean.index,\n",
    "        y=mean.values,\n",
    "        line=dict(\n",
    "            width=5,\n",
    "            color=\"rgb(49,130,189)\"\n",
    "        ),\n",
    "        name=\"Average\",\n",
    "        showlegend=False\n",
    "    ))\n",
    "\n",
    "    fig.update_layout(\n",
    "        yaxis=dict(\n",
    "            tickformat=\".0%\",\n",
    "            showgrid=True\n",
    "        ),\n",
    "        xaxis=dict(\n",
    "            tickvals=[i for i in range(2009, 2022)],\n",
    "            ticktext=[\"2009-2010\", \"2010-2011\", \"2011-2012\", \"2012-2013\", \"2013-2014\", \"2014-2015\",\n",
    "                      \"2015-2016\", \"2016-2017\", \"2017-2018\", \"2018-2019\", \"2019-2020\", \"2020-2021\", \"2021-2022\"],\n",
    "            showgrid=True\n",
    "        ),\n",
    "        xaxis_title=\"Season\",\n",
    "        yaxis_title=\"Attempts (%)\"\n",
    "    )\n",
    "\n",
    "    return fig\n",
    "\n",
    "\n",
    "app.run_server(debug=True, mode=\"external\")\n"
   ]
  },
  {
   "cell_type": "markdown",
   "metadata": {},
   "source": [
    "##### For each zone"
   ]
  },
  {
   "cell_type": "code",
   "execution_count": 16,
   "metadata": {},
   "outputs": [
    {
     "name": "stdout",
     "output_type": "stream",
     "text": [
      "Dash app running on http://127.0.0.1:8050/\n"
     ]
    }
   ],
   "source": [
    "from dash import dcc, html, Input, Output, State, ctx\n",
    "from jupyter_dash import JupyterDash\n",
    "import plotly.express as px\n",
    "from dash.exceptions import PreventUpdate\n",
    "\n",
    "app = JupyterDash(__name__)\n",
    "\n",
    "app.layout = html.Div([\n",
    "    html.Div([\n",
    "        html.Div([\n",
    "            html.H3('League'),\n",
    "            dcc.Checklist(\n",
    "                options=[\n",
    "                    {\n",
    "                        \"label\": html.Div(\n",
    "                            [\n",
    "                                html.Img(\n",
    "                                    src=\"./assets/flags/germany-flag-icon-16.png\"),\n",
    "                                \" Bundesliga\",\n",
    "                            ], style={'display': 'inline-block', 'marginTop': '5px'}\n",
    "                        ),\n",
    "                        \"value\": \"Bundesliga\",\n",
    "                    },\n",
    "                    {\n",
    "                        \"label\": html.Div(\n",
    "                            [\n",
    "                                html.Img(\n",
    "                                    src=\"./assets/flags/england-flag-icon-16.png\", alt='image'),\n",
    "                                \" EPL\",\n",
    "                            ], style={'display': 'inline-block', 'marginTop': '5px'}\n",
    "                        ),\n",
    "                        \"value\": \"EPL\",\n",
    "                    },\n",
    "                    {\n",
    "                        \"label\": html.Div(\n",
    "                            [\n",
    "                                html.Img(\n",
    "                                    src=\"./assets/flags/spain-flag-icon-16.png\", alt='image'),\n",
    "                                \" LaLiga\",\n",
    "                            ], style={'display': 'inline-block', 'marginTop': '5px'}\n",
    "                        ),\n",
    "                        \"value\": \"LaLiga\",\n",
    "                    },\n",
    "                    {\n",
    "                        \"label\": html.Div(\n",
    "                            [\n",
    "                                html.Img(\n",
    "                                    src=\"./assets/flags/france-flag-icon-16.png\", alt='image'),\n",
    "                                \" Ligue 1\",\n",
    "                            ], style={'display': 'inline-block', 'marginTop': '5px'}\n",
    "                        ),\n",
    "                        \"value\": \"Ligue1\",\n",
    "                    },\n",
    "                    {\n",
    "                        \"label\": html.Div(\n",
    "                            [\n",
    "                                html.Img(\n",
    "                                    src=\"./assets/flags/italy-flag-icon-16.png\", alt='image'),\n",
    "                                \" Serie A\",\n",
    "                            ], style={'display': 'inline-block', 'marginTop': '5px'}\n",
    "                        ),\n",
    "                        \"value\": \"SerieA\",\n",
    "                    },\n",
    "                ],\n",
    "                value=[\"Bundesliga\"],\n",
    "                id=\"league\",\n",
    "                labelStyle={'display': 'block'},\n",
    "                style={\"height\": 150, \"width\": 200, \"overflow\": \"auto\"}\n",
    "            )\n",
    "        ], style={'padding': 10, 'flex': 1}),\n",
    "        html.Div([\n",
    "            html.H3('Zone'),\n",
    "            dcc.RadioItems(\n",
    "                {\n",
    "                    \"In 6 Yards Box\": \"In 6 Yards Box\",\n",
    "                    \"In 18 Yards Box\": \"In 18 Yards Box\",\n",
    "                    \"Outside of Box\": \"Outside of Box\"\n",
    "                },\n",
    "                \"In 6 Yards Box\",\n",
    "                id=\"zone\",\n",
    "                labelStyle={'display': 'block'},\n",
    "                style={\"height\":150, \"width\":200, \"overflow\":\"auto\"}\n",
    "            )\n",
    "        ], style={'padding': 10, 'flex': 1}),\n",
    "        html.Div([\n",
    "            html.H3('Attempts for or against'),\n",
    "            dcc.RadioItems(\n",
    "                {\n",
    "                    \"for\": \"Attempts for\",\n",
    "                    \"against\": \"Attempts against\"\n",
    "                },\n",
    "                \"for\",\n",
    "                id=\"for_or_against\",\n",
    "                labelStyle={'display': 'block'},\n",
    "                style={\"height\": 150, \"width\": 200, \"overflow\": \"auto\"}\n",
    "            )\n",
    "        ], style={'padding': 10, 'flex': 1}),\n",
    "        html.Div([\n",
    "            html.H3('Highlight top performing teams in each season'),\n",
    "            dcc.Input(id='top', type='number', min=0, max=30, step=1, value=0)\n",
    "        ], style={'padding': 10, 'flex': 1})\n",
    "    ], style={'display': 'flex', 'flex-direction': 'row'}),\n",
    "\n",
    "    dcc.Graph(\n",
    "        id='graph',\n",
    "    )\n",
    "])\n",
    "\n",
    "\n",
    "@app.callback(\n",
    "    Output('graph', 'figure'),\n",
    "    Input('top', 'value'),\n",
    "    Input('league', 'value'),\n",
    "    Input('zone', 'value'),\n",
    "    Input('for_or_against', 'value'))\n",
    "def update_figure(selected_top, selected_league, selected_zone, selected_for_or_against):\n",
    "    if len(selected_league) == 0:  # if no league is selected then return an empty plot\n",
    "        fig = px.line()\n",
    "\n",
    "        fig.update_layout(\n",
    "            yaxis=dict(\n",
    "                tickformat=\".0%\",\n",
    "                showgrid=True\n",
    "            ),\n",
    "            xaxis=dict(\n",
    "                tickvals=[i for i in range(2009, 2022)],\n",
    "                ticktext=[\"2009-2010\", \"2010-2011\", \"2011-2012\", \"2012-2013\", \"2013-2014\", \"2014-2015\",\n",
    "                          \"2015-2016\", \"2016-2017\", \"2017-2018\", \"2018-2019\", \"2019-2020\", \"2020-2021\", \"2021-2022\"],\n",
    "                showgrid=True\n",
    "            ),\n",
    "            showlegend=False\n",
    "        )\n",
    "        return fig\n",
    "\n",
    "    mask = None\n",
    "    for i in range(len(selected_league)):\n",
    "        if i == 0:\n",
    "            mask = (df.league == selected_league[i])\n",
    "        else:\n",
    "            mask |= (df.league == selected_league[i])\n",
    "\n",
    "    filtered_df_league = df[mask]\n",
    "\n",
    "    league_str = \", \".join(selected_league)\n",
    "    fig = px.line(filtered_df_league, x=\"season\", y=f\"{selected_zone}_{selected_for_or_against}\", color=\"team\",\n",
    "                  title=f\"<b>Percentage of attempts from the {selected_zone} in {league_str} league</b>\", markers=True,\n",
    "                  hover_name=\"team\", hover_data=[\"season\", f\"{selected_zone}_{selected_for_or_against}\", \"league\"])\n",
    "\n",
    "    fig.update_layout(\n",
    "        title_font_size=20,\n",
    "        hoverlabel=dict(\n",
    "            bgcolor=\"white\",\n",
    "            font_size=16,\n",
    "        ),\n",
    "        showlegend=False\n",
    "    )\n",
    "\n",
    "    fig.update_traces(\n",
    "        opacity=0.4,\n",
    "        line_color='rgb(189,189,189)'\n",
    "    )\n",
    "\n",
    "    # add highlight dots\n",
    "    top_k_teams = filtered_df_league.set_index([\"team\", f\"{selected_zone}_{selected_for_or_against}\"]).groupby(\n",
    "        \"season\")[\"rating\"].nlargest(selected_top).reset_index()\n",
    "    fig.add_scatter(x=top_k_teams[\"season\"], y=top_k_teams[f\"{selected_zone}_{selected_for_or_against}\"],\n",
    "                    name=\"\", marker_color=\"orange\", mode=\"markers\", marker_size=12, marker_symbol='star', marker_line_color=\"black\", marker_line_width=1)\n",
    "                    \n",
    "    mean = filtered_df_league.groupby(\n",
    "        \"season\")[f\"{selected_zone}_{selected_for_or_against}\"].mean()\n",
    "    fig.add_trace(go.Scatter(\n",
    "        x=mean.index,\n",
    "        y=mean.values,\n",
    "        line=dict(\n",
    "            width=5,\n",
    "            color=\"rgb(49,130,189)\"\n",
    "        ),\n",
    "        name=\"Average\",\n",
    "        showlegend=False\n",
    "    ))\n",
    "\n",
    "    fig.update_layout(\n",
    "        yaxis=dict(\n",
    "            tickformat=\".0%\",\n",
    "            showgrid=True\n",
    "        ),\n",
    "        xaxis=dict(\n",
    "            tickvals=[i for i in range(2009, 2022)],\n",
    "            ticktext=[\"2009-2010\", \"2010-2011\", \"2011-2012\", \"2012-2013\", \"2013-2014\", \"2014-2015\",\n",
    "                      \"2015-2016\", \"2016-2017\", \"2017-2018\", \"2018-2019\", \"2019-2020\", \"2020-2021\", \"2021-2022\"],\n",
    "            showgrid=True\n",
    "        ),\n",
    "        xaxis_title=\"Season\",\n",
    "        yaxis_title=\"Attempts (%)\"\n",
    "    )\n",
    "\n",
    "    return fig\n",
    "\n",
    "\n",
    "app.run_server(debug=True, mode=\"external\")\n"
   ]
  },
  {
   "cell_type": "code",
   "execution_count": 17,
   "metadata": {},
   "outputs": [],
   "source": [
    "selected_league = [\"EPL\"]\n",
    "mask = None\n",
    "for i in range(len(selected_league)):\n",
    "    if i == 0:\n",
    "        mask = (df.league == selected_league[i])\n",
    "    else:\n",
    "        mask |= (df.league == selected_league[i])\n",
    "\n",
    "filtered_df_league = df[mask]"
   ]
  },
  {
   "cell_type": "code",
   "execution_count": 18,
   "metadata": {},
   "outputs": [
    {
     "data": {
      "text/html": [
       "<div>\n",
       "<style scoped>\n",
       "    .dataframe tbody tr th:only-of-type {\n",
       "        vertical-align: middle;\n",
       "    }\n",
       "\n",
       "    .dataframe tbody tr th {\n",
       "        vertical-align: top;\n",
       "    }\n",
       "\n",
       "    .dataframe thead th {\n",
       "        text-align: right;\n",
       "    }\n",
       "</style>\n",
       "<table border=\"1\" class=\"dataframe\">\n",
       "  <thead>\n",
       "    <tr style=\"text-align: right;\">\n",
       "      <th></th>\n",
       "      <th>team</th>\n",
       "      <th>left_for</th>\n",
       "      <th>middle_for</th>\n",
       "      <th>right_for</th>\n",
       "      <th>left_against</th>\n",
       "      <th>middle_against</th>\n",
       "      <th>right_against</th>\n",
       "      <th>In 6 Yards Box_for</th>\n",
       "      <th>In 18 Yards Box_for</th>\n",
       "      <th>Outside of Box_for</th>\n",
       "      <th>...</th>\n",
       "      <th>AerialsWon_summary</th>\n",
       "      <th>rating</th>\n",
       "      <th>Left Side_channels</th>\n",
       "      <th>Middle of the pitch_channels</th>\n",
       "      <th>Right Side_channels</th>\n",
       "      <th>Own Third</th>\n",
       "      <th>Middle Third</th>\n",
       "      <th>Opposition Third</th>\n",
       "      <th>season</th>\n",
       "      <th>league</th>\n",
       "    </tr>\n",
       "  </thead>\n",
       "  <tbody>\n",
       "    <tr>\n",
       "      <th>216</th>\n",
       "      <td>Blackburn</td>\n",
       "      <td>0.21</td>\n",
       "      <td>0.67</td>\n",
       "      <td>0.12</td>\n",
       "      <td>0.17</td>\n",
       "      <td>0.68</td>\n",
       "      <td>0.14</td>\n",
       "      <td>0.11</td>\n",
       "      <td>0.51</td>\n",
       "      <td>0.38</td>\n",
       "      <td>...</td>\n",
       "      <td>21.2</td>\n",
       "      <td>6.80</td>\n",
       "      <td>0.38</td>\n",
       "      <td>0.32</td>\n",
       "      <td>0.30</td>\n",
       "      <td>0.30</td>\n",
       "      <td>0.39</td>\n",
       "      <td>0.31</td>\n",
       "      <td>2009</td>\n",
       "      <td>EPL</td>\n",
       "    </tr>\n",
       "    <tr>\n",
       "      <th>217</th>\n",
       "      <td>Aston Villa</td>\n",
       "      <td>0.21</td>\n",
       "      <td>0.66</td>\n",
       "      <td>0.12</td>\n",
       "      <td>0.14</td>\n",
       "      <td>0.72</td>\n",
       "      <td>0.15</td>\n",
       "      <td>0.10</td>\n",
       "      <td>0.51</td>\n",
       "      <td>0.39</td>\n",
       "      <td>...</td>\n",
       "      <td>18.8</td>\n",
       "      <td>7.06</td>\n",
       "      <td>0.40</td>\n",
       "      <td>0.26</td>\n",
       "      <td>0.35</td>\n",
       "      <td>0.30</td>\n",
       "      <td>0.42</td>\n",
       "      <td>0.29</td>\n",
       "      <td>2009</td>\n",
       "      <td>EPL</td>\n",
       "    </tr>\n",
       "    <tr>\n",
       "      <th>218</th>\n",
       "      <td>Wigan</td>\n",
       "      <td>0.20</td>\n",
       "      <td>0.60</td>\n",
       "      <td>0.20</td>\n",
       "      <td>0.14</td>\n",
       "      <td>0.69</td>\n",
       "      <td>0.17</td>\n",
       "      <td>0.07</td>\n",
       "      <td>0.38</td>\n",
       "      <td>0.55</td>\n",
       "      <td>...</td>\n",
       "      <td>14.9</td>\n",
       "      <td>6.81</td>\n",
       "      <td>0.34</td>\n",
       "      <td>0.29</td>\n",
       "      <td>0.37</td>\n",
       "      <td>0.29</td>\n",
       "      <td>0.43</td>\n",
       "      <td>0.27</td>\n",
       "      <td>2009</td>\n",
       "      <td>EPL</td>\n",
       "    </tr>\n",
       "    <tr>\n",
       "      <th>219</th>\n",
       "      <td>Chelsea</td>\n",
       "      <td>0.19</td>\n",
       "      <td>0.64</td>\n",
       "      <td>0.17</td>\n",
       "      <td>0.22</td>\n",
       "      <td>0.61</td>\n",
       "      <td>0.17</td>\n",
       "      <td>0.08</td>\n",
       "      <td>0.47</td>\n",
       "      <td>0.45</td>\n",
       "      <td>...</td>\n",
       "      <td>11.6</td>\n",
       "      <td>7.30</td>\n",
       "      <td>0.36</td>\n",
       "      <td>0.33</td>\n",
       "      <td>0.31</td>\n",
       "      <td>0.25</td>\n",
       "      <td>0.44</td>\n",
       "      <td>0.32</td>\n",
       "      <td>2009</td>\n",
       "      <td>EPL</td>\n",
       "    </tr>\n",
       "    <tr>\n",
       "      <th>220</th>\n",
       "      <td>Birmingham</td>\n",
       "      <td>0.19</td>\n",
       "      <td>0.63</td>\n",
       "      <td>0.18</td>\n",
       "      <td>0.16</td>\n",
       "      <td>0.66</td>\n",
       "      <td>0.17</td>\n",
       "      <td>0.09</td>\n",
       "      <td>0.47</td>\n",
       "      <td>0.44</td>\n",
       "      <td>...</td>\n",
       "      <td>16.9</td>\n",
       "      <td>6.91</td>\n",
       "      <td>0.36</td>\n",
       "      <td>0.26</td>\n",
       "      <td>0.38</td>\n",
       "      <td>0.31</td>\n",
       "      <td>0.40</td>\n",
       "      <td>0.29</td>\n",
       "      <td>2009</td>\n",
       "      <td>EPL</td>\n",
       "    </tr>\n",
       "  </tbody>\n",
       "</table>\n",
       "<p>5 rows × 63 columns</p>\n",
       "</div>"
      ],
      "text/plain": [
       "            team  left_for  middle_for  right_for  left_against  \\\n",
       "216    Blackburn      0.21        0.67       0.12          0.17   \n",
       "217  Aston Villa      0.21        0.66       0.12          0.14   \n",
       "218        Wigan      0.20        0.60       0.20          0.14   \n",
       "219      Chelsea      0.19        0.64       0.17          0.22   \n",
       "220   Birmingham      0.19        0.63       0.18          0.16   \n",
       "\n",
       "     middle_against  right_against  In 6 Yards Box_for  In 18 Yards Box_for  \\\n",
       "216            0.68           0.14                0.11                 0.51   \n",
       "217            0.72           0.15                0.10                 0.51   \n",
       "218            0.69           0.17                0.07                 0.38   \n",
       "219            0.61           0.17                0.08                 0.47   \n",
       "220            0.66           0.17                0.09                 0.47   \n",
       "\n",
       "     Outside of Box_for  ...  AerialsWon_summary  rating  Left Side_channels  \\\n",
       "216                0.38  ...                21.2    6.80                0.38   \n",
       "217                0.39  ...                18.8    7.06                0.40   \n",
       "218                0.55  ...                14.9    6.81                0.34   \n",
       "219                0.45  ...                11.6    7.30                0.36   \n",
       "220                0.44  ...                16.9    6.91                0.36   \n",
       "\n",
       "    Middle of the pitch_channels Right Side_channels Own Third Middle Third  \\\n",
       "216                         0.32                0.30      0.30         0.39   \n",
       "217                         0.26                0.35      0.30         0.42   \n",
       "218                         0.29                0.37      0.29         0.43   \n",
       "219                         0.33                0.31      0.25         0.44   \n",
       "220                         0.26                0.38      0.31         0.40   \n",
       "\n",
       "    Opposition Third season league  \n",
       "216             0.31   2009    EPL  \n",
       "217             0.29   2009    EPL  \n",
       "218             0.27   2009    EPL  \n",
       "219             0.32   2009    EPL  \n",
       "220             0.29   2009    EPL  \n",
       "\n",
       "[5 rows x 63 columns]"
      ]
     },
     "execution_count": 18,
     "metadata": {},
     "output_type": "execute_result"
    }
   ],
   "source": [
    "filtered_df_league.head()"
   ]
  },
  {
   "cell_type": "code",
   "execution_count": 19,
   "metadata": {},
   "outputs": [
    {
     "data": {
      "text/plain": [
       "team\n",
       "Chelsea              7.30\n",
       "Manchester United    7.19\n",
       "Tottenham            7.19\n",
       "Name: rating, dtype: float64"
      ]
     },
     "execution_count": 19,
     "metadata": {},
     "output_type": "execute_result"
    }
   ],
   "source": [
    "filtered_df_league.set_index(\"team\").groupby(\"season\")[\"rating\"].nlargest(3)[2009]"
   ]
  },
  {
   "cell_type": "code",
   "execution_count": 20,
   "metadata": {},
   "outputs": [
    {
     "data": {
      "text/html": [
       "<div>\n",
       "<style scoped>\n",
       "    .dataframe tbody tr th:only-of-type {\n",
       "        vertical-align: middle;\n",
       "    }\n",
       "\n",
       "    .dataframe tbody tr th {\n",
       "        vertical-align: top;\n",
       "    }\n",
       "\n",
       "    .dataframe thead th {\n",
       "        text-align: right;\n",
       "    }\n",
       "</style>\n",
       "<table border=\"1\" class=\"dataframe\">\n",
       "  <thead>\n",
       "    <tr style=\"text-align: right;\">\n",
       "      <th></th>\n",
       "      <th>season</th>\n",
       "      <th>team</th>\n",
       "      <th>left_for</th>\n",
       "      <th>rating</th>\n",
       "    </tr>\n",
       "  </thead>\n",
       "  <tbody>\n",
       "  </tbody>\n",
       "</table>\n",
       "</div>"
      ],
      "text/plain": [
       "Empty DataFrame\n",
       "Columns: [season, team, left_for, rating]\n",
       "Index: []"
      ]
     },
     "execution_count": 20,
     "metadata": {},
     "output_type": "execute_result"
    }
   ],
   "source": [
    "filtered_df_league.set_index([\"team\", \"left_for\"]).groupby(\"season\")[\"rating\"].nlargest(0).reset_index()"
   ]
  },
  {
   "cell_type": "code",
   "execution_count": 21,
   "metadata": {},
   "outputs": [
    {
     "data": {
      "application/vnd.plotly.v1+json": {
       "config": {
        "plotlyServerURL": "https://plot.ly"
       },
       "data": [
        {
         "marker": {
          "color": "orange",
          "size": 12
         },
         "mode": "markers",
         "name": "bruh",
         "type": "scatter",
         "x": [
          2009,
          2009,
          2009,
          2009,
          2010,
          2010,
          2010,
          2010,
          2011,
          2011,
          2011,
          2011,
          2012,
          2012,
          2012,
          2012,
          2013,
          2013,
          2013,
          2013,
          2014,
          2014,
          2014,
          2014,
          2015,
          2015,
          2015,
          2015,
          2016,
          2016,
          2016,
          2016,
          2017,
          2017,
          2017,
          2017,
          2018,
          2018,
          2018,
          2018,
          2019,
          2019,
          2019,
          2019,
          2020,
          2020,
          2020,
          2020
         ],
         "y": [
          0.19,
          0.18,
          0.15,
          0.16,
          0.19,
          0.17,
          0.17,
          0.21,
          0.16,
          0.2,
          0.19,
          0.17,
          0.2,
          0.17,
          0.18,
          0.2,
          0.18,
          0.15,
          0.21,
          0.17,
          0.21,
          0.16,
          0.21,
          0.19,
          0.16,
          0.19,
          0.19,
          0.22,
          0.17,
          0.22,
          0.19,
          0.23,
          0.2,
          0.14,
          0.22,
          0.21,
          0.18,
          0.14,
          0.24,
          0.2,
          0.15,
          0.15,
          0.16,
          0.22,
          0.15,
          0.19,
          0.2,
          0.16
         ]
        }
       ],
       "layout": {
        "template": {
         "data": {
          "bar": [
           {
            "error_x": {
             "color": "#2a3f5f"
            },
            "error_y": {
             "color": "#2a3f5f"
            },
            "marker": {
             "line": {
              "color": "white",
              "width": 0.5
             },
             "pattern": {
              "fillmode": "overlay",
              "size": 10,
              "solidity": 0.2
             }
            },
            "type": "bar"
           }
          ],
          "barpolar": [
           {
            "marker": {
             "line": {
              "color": "white",
              "width": 0.5
             },
             "pattern": {
              "fillmode": "overlay",
              "size": 10,
              "solidity": 0.2
             }
            },
            "type": "barpolar"
           }
          ],
          "carpet": [
           {
            "aaxis": {
             "endlinecolor": "#2a3f5f",
             "gridcolor": "#C8D4E3",
             "linecolor": "#C8D4E3",
             "minorgridcolor": "#C8D4E3",
             "startlinecolor": "#2a3f5f"
            },
            "baxis": {
             "endlinecolor": "#2a3f5f",
             "gridcolor": "#C8D4E3",
             "linecolor": "#C8D4E3",
             "minorgridcolor": "#C8D4E3",
             "startlinecolor": "#2a3f5f"
            },
            "type": "carpet"
           }
          ],
          "choropleth": [
           {
            "colorbar": {
             "outlinewidth": 0,
             "ticks": ""
            },
            "type": "choropleth"
           }
          ],
          "contour": [
           {
            "colorbar": {
             "outlinewidth": 0,
             "ticks": ""
            },
            "colorscale": [
             [
              0,
              "#0d0887"
             ],
             [
              0.1111111111111111,
              "#46039f"
             ],
             [
              0.2222222222222222,
              "#7201a8"
             ],
             [
              0.3333333333333333,
              "#9c179e"
             ],
             [
              0.4444444444444444,
              "#bd3786"
             ],
             [
              0.5555555555555556,
              "#d8576b"
             ],
             [
              0.6666666666666666,
              "#ed7953"
             ],
             [
              0.7777777777777778,
              "#fb9f3a"
             ],
             [
              0.8888888888888888,
              "#fdca26"
             ],
             [
              1,
              "#f0f921"
             ]
            ],
            "type": "contour"
           }
          ],
          "contourcarpet": [
           {
            "colorbar": {
             "outlinewidth": 0,
             "ticks": ""
            },
            "type": "contourcarpet"
           }
          ],
          "heatmap": [
           {
            "colorbar": {
             "outlinewidth": 0,
             "ticks": ""
            },
            "colorscale": [
             [
              0,
              "#0d0887"
             ],
             [
              0.1111111111111111,
              "#46039f"
             ],
             [
              0.2222222222222222,
              "#7201a8"
             ],
             [
              0.3333333333333333,
              "#9c179e"
             ],
             [
              0.4444444444444444,
              "#bd3786"
             ],
             [
              0.5555555555555556,
              "#d8576b"
             ],
             [
              0.6666666666666666,
              "#ed7953"
             ],
             [
              0.7777777777777778,
              "#fb9f3a"
             ],
             [
              0.8888888888888888,
              "#fdca26"
             ],
             [
              1,
              "#f0f921"
             ]
            ],
            "type": "heatmap"
           }
          ],
          "heatmapgl": [
           {
            "colorbar": {
             "outlinewidth": 0,
             "ticks": ""
            },
            "colorscale": [
             [
              0,
              "#0d0887"
             ],
             [
              0.1111111111111111,
              "#46039f"
             ],
             [
              0.2222222222222222,
              "#7201a8"
             ],
             [
              0.3333333333333333,
              "#9c179e"
             ],
             [
              0.4444444444444444,
              "#bd3786"
             ],
             [
              0.5555555555555556,
              "#d8576b"
             ],
             [
              0.6666666666666666,
              "#ed7953"
             ],
             [
              0.7777777777777778,
              "#fb9f3a"
             ],
             [
              0.8888888888888888,
              "#fdca26"
             ],
             [
              1,
              "#f0f921"
             ]
            ],
            "type": "heatmapgl"
           }
          ],
          "histogram": [
           {
            "marker": {
             "pattern": {
              "fillmode": "overlay",
              "size": 10,
              "solidity": 0.2
             }
            },
            "type": "histogram"
           }
          ],
          "histogram2d": [
           {
            "colorbar": {
             "outlinewidth": 0,
             "ticks": ""
            },
            "colorscale": [
             [
              0,
              "#0d0887"
             ],
             [
              0.1111111111111111,
              "#46039f"
             ],
             [
              0.2222222222222222,
              "#7201a8"
             ],
             [
              0.3333333333333333,
              "#9c179e"
             ],
             [
              0.4444444444444444,
              "#bd3786"
             ],
             [
              0.5555555555555556,
              "#d8576b"
             ],
             [
              0.6666666666666666,
              "#ed7953"
             ],
             [
              0.7777777777777778,
              "#fb9f3a"
             ],
             [
              0.8888888888888888,
              "#fdca26"
             ],
             [
              1,
              "#f0f921"
             ]
            ],
            "type": "histogram2d"
           }
          ],
          "histogram2dcontour": [
           {
            "colorbar": {
             "outlinewidth": 0,
             "ticks": ""
            },
            "colorscale": [
             [
              0,
              "#0d0887"
             ],
             [
              0.1111111111111111,
              "#46039f"
             ],
             [
              0.2222222222222222,
              "#7201a8"
             ],
             [
              0.3333333333333333,
              "#9c179e"
             ],
             [
              0.4444444444444444,
              "#bd3786"
             ],
             [
              0.5555555555555556,
              "#d8576b"
             ],
             [
              0.6666666666666666,
              "#ed7953"
             ],
             [
              0.7777777777777778,
              "#fb9f3a"
             ],
             [
              0.8888888888888888,
              "#fdca26"
             ],
             [
              1,
              "#f0f921"
             ]
            ],
            "type": "histogram2dcontour"
           }
          ],
          "mesh3d": [
           {
            "colorbar": {
             "outlinewidth": 0,
             "ticks": ""
            },
            "type": "mesh3d"
           }
          ],
          "parcoords": [
           {
            "line": {
             "colorbar": {
              "outlinewidth": 0,
              "ticks": ""
             }
            },
            "type": "parcoords"
           }
          ],
          "pie": [
           {
            "automargin": true,
            "type": "pie"
           }
          ],
          "scatter": [
           {
            "marker": {
             "colorbar": {
              "outlinewidth": 0,
              "ticks": ""
             }
            },
            "type": "scatter"
           }
          ],
          "scatter3d": [
           {
            "line": {
             "colorbar": {
              "outlinewidth": 0,
              "ticks": ""
             }
            },
            "marker": {
             "colorbar": {
              "outlinewidth": 0,
              "ticks": ""
             }
            },
            "type": "scatter3d"
           }
          ],
          "scattercarpet": [
           {
            "marker": {
             "colorbar": {
              "outlinewidth": 0,
              "ticks": ""
             }
            },
            "type": "scattercarpet"
           }
          ],
          "scattergeo": [
           {
            "marker": {
             "colorbar": {
              "outlinewidth": 0,
              "ticks": ""
             }
            },
            "type": "scattergeo"
           }
          ],
          "scattergl": [
           {
            "marker": {
             "colorbar": {
              "outlinewidth": 0,
              "ticks": ""
             }
            },
            "type": "scattergl"
           }
          ],
          "scattermapbox": [
           {
            "marker": {
             "colorbar": {
              "outlinewidth": 0,
              "ticks": ""
             }
            },
            "type": "scattermapbox"
           }
          ],
          "scatterpolar": [
           {
            "marker": {
             "colorbar": {
              "outlinewidth": 0,
              "ticks": ""
             }
            },
            "type": "scatterpolar"
           }
          ],
          "scatterpolargl": [
           {
            "marker": {
             "colorbar": {
              "outlinewidth": 0,
              "ticks": ""
             }
            },
            "type": "scatterpolargl"
           }
          ],
          "scatterternary": [
           {
            "marker": {
             "colorbar": {
              "outlinewidth": 0,
              "ticks": ""
             }
            },
            "type": "scatterternary"
           }
          ],
          "surface": [
           {
            "colorbar": {
             "outlinewidth": 0,
             "ticks": ""
            },
            "colorscale": [
             [
              0,
              "#0d0887"
             ],
             [
              0.1111111111111111,
              "#46039f"
             ],
             [
              0.2222222222222222,
              "#7201a8"
             ],
             [
              0.3333333333333333,
              "#9c179e"
             ],
             [
              0.4444444444444444,
              "#bd3786"
             ],
             [
              0.5555555555555556,
              "#d8576b"
             ],
             [
              0.6666666666666666,
              "#ed7953"
             ],
             [
              0.7777777777777778,
              "#fb9f3a"
             ],
             [
              0.8888888888888888,
              "#fdca26"
             ],
             [
              1,
              "#f0f921"
             ]
            ],
            "type": "surface"
           }
          ],
          "table": [
           {
            "cells": {
             "fill": {
              "color": "#EBF0F8"
             },
             "line": {
              "color": "white"
             }
            },
            "header": {
             "fill": {
              "color": "#C8D4E3"
             },
             "line": {
              "color": "white"
             }
            },
            "type": "table"
           }
          ]
         },
         "layout": {
          "annotationdefaults": {
           "arrowcolor": "#2a3f5f",
           "arrowhead": 0,
           "arrowwidth": 1
          },
          "autotypenumbers": "strict",
          "coloraxis": {
           "colorbar": {
            "outlinewidth": 0,
            "ticks": ""
           }
          },
          "colorscale": {
           "diverging": [
            [
             0,
             "#8e0152"
            ],
            [
             0.1,
             "#c51b7d"
            ],
            [
             0.2,
             "#de77ae"
            ],
            [
             0.3,
             "#f1b6da"
            ],
            [
             0.4,
             "#fde0ef"
            ],
            [
             0.5,
             "#f7f7f7"
            ],
            [
             0.6,
             "#e6f5d0"
            ],
            [
             0.7,
             "#b8e186"
            ],
            [
             0.8,
             "#7fbc41"
            ],
            [
             0.9,
             "#4d9221"
            ],
            [
             1,
             "#276419"
            ]
           ],
           "sequential": [
            [
             0,
             "#0d0887"
            ],
            [
             0.1111111111111111,
             "#46039f"
            ],
            [
             0.2222222222222222,
             "#7201a8"
            ],
            [
             0.3333333333333333,
             "#9c179e"
            ],
            [
             0.4444444444444444,
             "#bd3786"
            ],
            [
             0.5555555555555556,
             "#d8576b"
            ],
            [
             0.6666666666666666,
             "#ed7953"
            ],
            [
             0.7777777777777778,
             "#fb9f3a"
            ],
            [
             0.8888888888888888,
             "#fdca26"
            ],
            [
             1,
             "#f0f921"
            ]
           ],
           "sequentialminus": [
            [
             0,
             "#0d0887"
            ],
            [
             0.1111111111111111,
             "#46039f"
            ],
            [
             0.2222222222222222,
             "#7201a8"
            ],
            [
             0.3333333333333333,
             "#9c179e"
            ],
            [
             0.4444444444444444,
             "#bd3786"
            ],
            [
             0.5555555555555556,
             "#d8576b"
            ],
            [
             0.6666666666666666,
             "#ed7953"
            ],
            [
             0.7777777777777778,
             "#fb9f3a"
            ],
            [
             0.8888888888888888,
             "#fdca26"
            ],
            [
             1,
             "#f0f921"
            ]
           ]
          },
          "colorway": [
           "#636efa",
           "#EF553B",
           "#00cc96",
           "#ab63fa",
           "#FFA15A",
           "#19d3f3",
           "#FF6692",
           "#B6E880",
           "#FF97FF",
           "#FECB52"
          ],
          "font": {
           "color": "#2a3f5f"
          },
          "geo": {
           "bgcolor": "white",
           "lakecolor": "white",
           "landcolor": "white",
           "showlakes": true,
           "showland": true,
           "subunitcolor": "#C8D4E3"
          },
          "hoverlabel": {
           "align": "left"
          },
          "hovermode": "closest",
          "mapbox": {
           "style": "light"
          },
          "paper_bgcolor": "white",
          "plot_bgcolor": "white",
          "polar": {
           "angularaxis": {
            "gridcolor": "#EBF0F8",
            "linecolor": "#EBF0F8",
            "ticks": ""
           },
           "bgcolor": "white",
           "radialaxis": {
            "gridcolor": "#EBF0F8",
            "linecolor": "#EBF0F8",
            "ticks": ""
           }
          },
          "scene": {
           "xaxis": {
            "backgroundcolor": "white",
            "gridcolor": "#DFE8F3",
            "gridwidth": 2,
            "linecolor": "#EBF0F8",
            "showbackground": true,
            "ticks": "",
            "zerolinecolor": "#EBF0F8"
           },
           "yaxis": {
            "backgroundcolor": "white",
            "gridcolor": "#DFE8F3",
            "gridwidth": 2,
            "linecolor": "#EBF0F8",
            "showbackground": true,
            "ticks": "",
            "zerolinecolor": "#EBF0F8"
           },
           "zaxis": {
            "backgroundcolor": "white",
            "gridcolor": "#DFE8F3",
            "gridwidth": 2,
            "linecolor": "#EBF0F8",
            "showbackground": true,
            "ticks": "",
            "zerolinecolor": "#EBF0F8"
           }
          },
          "shapedefaults": {
           "line": {
            "color": "#2a3f5f"
           }
          },
          "ternary": {
           "aaxis": {
            "gridcolor": "#DFE8F3",
            "linecolor": "#A2B1C6",
            "ticks": ""
           },
           "baxis": {
            "gridcolor": "#DFE8F3",
            "linecolor": "#A2B1C6",
            "ticks": ""
           },
           "bgcolor": "white",
           "caxis": {
            "gridcolor": "#DFE8F3",
            "linecolor": "#A2B1C6",
            "ticks": ""
           }
          },
          "title": {
           "x": 0.05
          },
          "xaxis": {
           "automargin": true,
           "gridcolor": "#EBF0F8",
           "linecolor": "#EBF0F8",
           "ticks": "",
           "title": {
            "standoff": 15
           },
           "zerolinecolor": "#EBF0F8",
           "zerolinewidth": 2
          },
          "yaxis": {
           "automargin": true,
           "gridcolor": "#EBF0F8",
           "linecolor": "#EBF0F8",
           "ticks": "",
           "title": {
            "standoff": 15
           },
           "zerolinecolor": "#EBF0F8",
           "zerolinewidth": 2
          }
         }
        }
       }
      }
     },
     "metadata": {},
     "output_type": "display_data"
    }
   ],
   "source": [
    "selected_dir = \"left\"\n",
    "selected_for_or_against = \"for\"\n",
    "selected_top = 4\n",
    "fig = go.Figure()\n",
    "top_k_teams = filtered_df_league.set_index([\"team\", f\"{selected_dir}_{selected_for_or_against}\"]).groupby(\"season\")[\"rating\"].nlargest(selected_top).reset_index()\n",
    "fig.add_scatter(x=top_k_teams[\"season\"], y=top_k_teams[f\"{selected_dir}_{selected_for_or_against}\"],\n",
    "                name=\"bruh\", marker_color=\"orange\", mode=\"markers\", marker_size=12)"
   ]
  },
  {
   "cell_type": "markdown",
   "metadata": {},
   "source": [
    "### Shots target per game"
   ]
  },
  {
   "cell_type": "code",
   "execution_count": 35,
   "metadata": {},
   "outputs": [
    {
     "data": {
      "text/html": [
       "<div>\n",
       "<style scoped>\n",
       "    .dataframe tbody tr th:only-of-type {\n",
       "        vertical-align: middle;\n",
       "    }\n",
       "\n",
       "    .dataframe tbody tr th {\n",
       "        vertical-align: top;\n",
       "    }\n",
       "\n",
       "    .dataframe thead th {\n",
       "        text-align: right;\n",
       "    }\n",
       "</style>\n",
       "<table border=\"1\" class=\"dataframe\">\n",
       "  <thead>\n",
       "    <tr style=\"text-align: right;\">\n",
       "      <th></th>\n",
       "      <th>Shots not OT pg_offensive</th>\n",
       "      <th>Shots OT pg_offensive</th>\n",
       "      <th>Shots pg_offensive</th>\n",
       "    </tr>\n",
       "  </thead>\n",
       "  <tbody>\n",
       "    <tr>\n",
       "      <th>0</th>\n",
       "      <td>8.6</td>\n",
       "      <td>3.9</td>\n",
       "      <td>12.5</td>\n",
       "    </tr>\n",
       "    <tr>\n",
       "      <th>1</th>\n",
       "      <td>8.7</td>\n",
       "      <td>5.6</td>\n",
       "      <td>14.3</td>\n",
       "    </tr>\n",
       "    <tr>\n",
       "      <th>2</th>\n",
       "      <td>8.9</td>\n",
       "      <td>5.4</td>\n",
       "      <td>14.3</td>\n",
       "    </tr>\n",
       "    <tr>\n",
       "      <th>3</th>\n",
       "      <td>9.3</td>\n",
       "      <td>6.3</td>\n",
       "      <td>15.6</td>\n",
       "    </tr>\n",
       "    <tr>\n",
       "      <th>4</th>\n",
       "      <td>8.5</td>\n",
       "      <td>4.7</td>\n",
       "      <td>13.2</td>\n",
       "    </tr>\n",
       "  </tbody>\n",
       "</table>\n",
       "</div>"
      ],
      "text/plain": [
       "   Shots not OT pg_offensive  Shots OT pg_offensive  Shots pg_offensive\n",
       "0                        8.6                    3.9                12.5\n",
       "1                        8.7                    5.6                14.3\n",
       "2                        8.9                    5.4                14.3\n",
       "3                        9.3                    6.3                15.6\n",
       "4                        8.5                    4.7                13.2"
      ]
     },
     "execution_count": 35,
     "metadata": {},
     "output_type": "execute_result"
    }
   ],
   "source": [
    "df[\"Shots not OT pg_offensive\"] = df[\"Shots pg_offensive\"] - df[\"Shots OT pg_offensive\"]\n",
    "df[[\"Shots not OT pg_offensive\", \"Shots OT pg_offensive\", \"Shots pg_offensive\"]].head()"
   ]
  },
  {
   "cell_type": "code",
   "execution_count": 110,
   "metadata": {},
   "outputs": [],
   "source": [
    "def stacked_bar_shots(league):\n",
    "    temp = df[df[\"league\"] == league].groupby(\"season\")[[\"Shots OT pg_offensive\", \"Shots not OT pg_offensive\", \"Shots pg_offensive\"]].mean()\n",
    "    fig = go.Figure(\n",
    "        data=[\n",
    "            go.Bar(\n",
    "                name=\"Shots on target\",\n",
    "                x=temp.index,\n",
    "                y=temp[\"Shots OT pg_offensive\"],\n",
    "                marker_color=\"indianred\",\n",
    "                text=temp[\"Shots OT pg_offensive\"].round(2),\n",
    "                textposition='auto',\n",
    "            ),\n",
    "            go.Bar(\n",
    "                name=\"Shots missed target\",\n",
    "                x=temp.index,\n",
    "                y=temp[\"Shots not OT pg_offensive\"],\n",
    "                marker_color=\"aquamarine\",\n",
    "                text=temp[\"Shots pg_offensive\"].round(2),\n",
    "                textposition='auto',\n",
    "            )\n",
    "        ]\n",
    "    )\n",
    "    fig.update_layout(\n",
    "        barmode='stack',\n",
    "        bargap=0.3,\n",
    "        title=f\"Shots per game in each season in {league}\",\n",
    "        xaxis=dict(\n",
    "            tickvals=[i for i in range(2009, 2021)],\n",
    "            ticktext=[\"2009-2010\", \"2010-2011\", \"2011-2012\", \"2012-2013\", \"2013-2014\", \"2014-2015\",\n",
    "                        \"2015-2016\", \"2016-2017\", \"2017-2018\", \"2018-2019\", \"2019-2020\", \"2020-2021\", \"2021-2022\"],\n",
    "        ),\n",
    "        xaxis_title=\"Season\",\n",
    "        yaxis_title=\"Shots\",\n",
    "        uniformtext_minsize=5, \n",
    "        uniformtext_mode='hide'\n",
    "    )\n",
    "    fig.show()"
   ]
  },
  {
   "cell_type": "code",
   "execution_count": 111,
   "metadata": {},
   "outputs": [
    {
     "data": {
      "application/vnd.plotly.v1+json": {
       "config": {
        "plotlyServerURL": "https://plot.ly"
       },
       "data": [
        {
         "marker": {
          "color": "indianred"
         },
         "name": "Shots on target",
         "text": [
          4.71,
          4.64,
          4.71,
          4.67,
          5.07,
          4.72,
          4.75,
          4.42,
          4.53,
          4.84,
          4.75,
          4.49
         ],
         "textposition": "auto",
         "type": "bar",
         "x": [
          2009,
          2010,
          2011,
          2012,
          2013,
          2014,
          2015,
          2016,
          2017,
          2018,
          2019,
          2020
         ],
         "y": [
          4.71111111111111,
          4.644444444444445,
          4.711111111111111,
          4.672222222222222,
          5.066666666666666,
          4.716666666666665,
          4.75,
          4.422222222222222,
          4.527777777777778,
          4.844444444444445,
          4.75,
          4.48888888888889
         ]
        },
        {
         "marker": {
          "color": "aquamarine"
         },
         "name": "Shots missed target",
         "text": [
          13.01,
          12.89,
          12.95,
          12.74,
          13.71,
          13.06,
          12.87,
          12.48,
          12.65,
          13.49,
          13.28,
          12.37
         ],
         "textposition": "auto",
         "type": "bar",
         "x": [
          2009,
          2010,
          2011,
          2012,
          2013,
          2014,
          2015,
          2016,
          2017,
          2018,
          2019,
          2020
         ],
         "y": [
          8.294444444444444,
          8.244444444444445,
          8.238888888888889,
          8.072222222222223,
          8.638888888888891,
          8.344444444444443,
          8.122222222222224,
          8.055555555555554,
          8.122222222222224,
          8.644444444444444,
          8.533333333333333,
          7.8833333333333355
         ]
        }
       ],
       "layout": {
        "bargap": 0.3,
        "barmode": "stack",
        "template": {
         "data": {
          "bar": [
           {
            "error_x": {
             "color": "#2a3f5f"
            },
            "error_y": {
             "color": "#2a3f5f"
            },
            "marker": {
             "line": {
              "color": "white",
              "width": 0.5
             },
             "pattern": {
              "fillmode": "overlay",
              "size": 10,
              "solidity": 0.2
             }
            },
            "type": "bar"
           }
          ],
          "barpolar": [
           {
            "marker": {
             "line": {
              "color": "white",
              "width": 0.5
             },
             "pattern": {
              "fillmode": "overlay",
              "size": 10,
              "solidity": 0.2
             }
            },
            "type": "barpolar"
           }
          ],
          "carpet": [
           {
            "aaxis": {
             "endlinecolor": "#2a3f5f",
             "gridcolor": "#C8D4E3",
             "linecolor": "#C8D4E3",
             "minorgridcolor": "#C8D4E3",
             "startlinecolor": "#2a3f5f"
            },
            "baxis": {
             "endlinecolor": "#2a3f5f",
             "gridcolor": "#C8D4E3",
             "linecolor": "#C8D4E3",
             "minorgridcolor": "#C8D4E3",
             "startlinecolor": "#2a3f5f"
            },
            "type": "carpet"
           }
          ],
          "choropleth": [
           {
            "colorbar": {
             "outlinewidth": 0,
             "ticks": ""
            },
            "type": "choropleth"
           }
          ],
          "contour": [
           {
            "colorbar": {
             "outlinewidth": 0,
             "ticks": ""
            },
            "colorscale": [
             [
              0,
              "#0d0887"
             ],
             [
              0.1111111111111111,
              "#46039f"
             ],
             [
              0.2222222222222222,
              "#7201a8"
             ],
             [
              0.3333333333333333,
              "#9c179e"
             ],
             [
              0.4444444444444444,
              "#bd3786"
             ],
             [
              0.5555555555555556,
              "#d8576b"
             ],
             [
              0.6666666666666666,
              "#ed7953"
             ],
             [
              0.7777777777777778,
              "#fb9f3a"
             ],
             [
              0.8888888888888888,
              "#fdca26"
             ],
             [
              1,
              "#f0f921"
             ]
            ],
            "type": "contour"
           }
          ],
          "contourcarpet": [
           {
            "colorbar": {
             "outlinewidth": 0,
             "ticks": ""
            },
            "type": "contourcarpet"
           }
          ],
          "heatmap": [
           {
            "colorbar": {
             "outlinewidth": 0,
             "ticks": ""
            },
            "colorscale": [
             [
              0,
              "#0d0887"
             ],
             [
              0.1111111111111111,
              "#46039f"
             ],
             [
              0.2222222222222222,
              "#7201a8"
             ],
             [
              0.3333333333333333,
              "#9c179e"
             ],
             [
              0.4444444444444444,
              "#bd3786"
             ],
             [
              0.5555555555555556,
              "#d8576b"
             ],
             [
              0.6666666666666666,
              "#ed7953"
             ],
             [
              0.7777777777777778,
              "#fb9f3a"
             ],
             [
              0.8888888888888888,
              "#fdca26"
             ],
             [
              1,
              "#f0f921"
             ]
            ],
            "type": "heatmap"
           }
          ],
          "heatmapgl": [
           {
            "colorbar": {
             "outlinewidth": 0,
             "ticks": ""
            },
            "colorscale": [
             [
              0,
              "#0d0887"
             ],
             [
              0.1111111111111111,
              "#46039f"
             ],
             [
              0.2222222222222222,
              "#7201a8"
             ],
             [
              0.3333333333333333,
              "#9c179e"
             ],
             [
              0.4444444444444444,
              "#bd3786"
             ],
             [
              0.5555555555555556,
              "#d8576b"
             ],
             [
              0.6666666666666666,
              "#ed7953"
             ],
             [
              0.7777777777777778,
              "#fb9f3a"
             ],
             [
              0.8888888888888888,
              "#fdca26"
             ],
             [
              1,
              "#f0f921"
             ]
            ],
            "type": "heatmapgl"
           }
          ],
          "histogram": [
           {
            "marker": {
             "pattern": {
              "fillmode": "overlay",
              "size": 10,
              "solidity": 0.2
             }
            },
            "type": "histogram"
           }
          ],
          "histogram2d": [
           {
            "colorbar": {
             "outlinewidth": 0,
             "ticks": ""
            },
            "colorscale": [
             [
              0,
              "#0d0887"
             ],
             [
              0.1111111111111111,
              "#46039f"
             ],
             [
              0.2222222222222222,
              "#7201a8"
             ],
             [
              0.3333333333333333,
              "#9c179e"
             ],
             [
              0.4444444444444444,
              "#bd3786"
             ],
             [
              0.5555555555555556,
              "#d8576b"
             ],
             [
              0.6666666666666666,
              "#ed7953"
             ],
             [
              0.7777777777777778,
              "#fb9f3a"
             ],
             [
              0.8888888888888888,
              "#fdca26"
             ],
             [
              1,
              "#f0f921"
             ]
            ],
            "type": "histogram2d"
           }
          ],
          "histogram2dcontour": [
           {
            "colorbar": {
             "outlinewidth": 0,
             "ticks": ""
            },
            "colorscale": [
             [
              0,
              "#0d0887"
             ],
             [
              0.1111111111111111,
              "#46039f"
             ],
             [
              0.2222222222222222,
              "#7201a8"
             ],
             [
              0.3333333333333333,
              "#9c179e"
             ],
             [
              0.4444444444444444,
              "#bd3786"
             ],
             [
              0.5555555555555556,
              "#d8576b"
             ],
             [
              0.6666666666666666,
              "#ed7953"
             ],
             [
              0.7777777777777778,
              "#fb9f3a"
             ],
             [
              0.8888888888888888,
              "#fdca26"
             ],
             [
              1,
              "#f0f921"
             ]
            ],
            "type": "histogram2dcontour"
           }
          ],
          "mesh3d": [
           {
            "colorbar": {
             "outlinewidth": 0,
             "ticks": ""
            },
            "type": "mesh3d"
           }
          ],
          "parcoords": [
           {
            "line": {
             "colorbar": {
              "outlinewidth": 0,
              "ticks": ""
             }
            },
            "type": "parcoords"
           }
          ],
          "pie": [
           {
            "automargin": true,
            "type": "pie"
           }
          ],
          "scatter": [
           {
            "marker": {
             "colorbar": {
              "outlinewidth": 0,
              "ticks": ""
             }
            },
            "type": "scatter"
           }
          ],
          "scatter3d": [
           {
            "line": {
             "colorbar": {
              "outlinewidth": 0,
              "ticks": ""
             }
            },
            "marker": {
             "colorbar": {
              "outlinewidth": 0,
              "ticks": ""
             }
            },
            "type": "scatter3d"
           }
          ],
          "scattercarpet": [
           {
            "marker": {
             "colorbar": {
              "outlinewidth": 0,
              "ticks": ""
             }
            },
            "type": "scattercarpet"
           }
          ],
          "scattergeo": [
           {
            "marker": {
             "colorbar": {
              "outlinewidth": 0,
              "ticks": ""
             }
            },
            "type": "scattergeo"
           }
          ],
          "scattergl": [
           {
            "marker": {
             "colorbar": {
              "outlinewidth": 0,
              "ticks": ""
             }
            },
            "type": "scattergl"
           }
          ],
          "scattermapbox": [
           {
            "marker": {
             "colorbar": {
              "outlinewidth": 0,
              "ticks": ""
             }
            },
            "type": "scattermapbox"
           }
          ],
          "scatterpolar": [
           {
            "marker": {
             "colorbar": {
              "outlinewidth": 0,
              "ticks": ""
             }
            },
            "type": "scatterpolar"
           }
          ],
          "scatterpolargl": [
           {
            "marker": {
             "colorbar": {
              "outlinewidth": 0,
              "ticks": ""
             }
            },
            "type": "scatterpolargl"
           }
          ],
          "scatterternary": [
           {
            "marker": {
             "colorbar": {
              "outlinewidth": 0,
              "ticks": ""
             }
            },
            "type": "scatterternary"
           }
          ],
          "surface": [
           {
            "colorbar": {
             "outlinewidth": 0,
             "ticks": ""
            },
            "colorscale": [
             [
              0,
              "#0d0887"
             ],
             [
              0.1111111111111111,
              "#46039f"
             ],
             [
              0.2222222222222222,
              "#7201a8"
             ],
             [
              0.3333333333333333,
              "#9c179e"
             ],
             [
              0.4444444444444444,
              "#bd3786"
             ],
             [
              0.5555555555555556,
              "#d8576b"
             ],
             [
              0.6666666666666666,
              "#ed7953"
             ],
             [
              0.7777777777777778,
              "#fb9f3a"
             ],
             [
              0.8888888888888888,
              "#fdca26"
             ],
             [
              1,
              "#f0f921"
             ]
            ],
            "type": "surface"
           }
          ],
          "table": [
           {
            "cells": {
             "fill": {
              "color": "#EBF0F8"
             },
             "line": {
              "color": "white"
             }
            },
            "header": {
             "fill": {
              "color": "#C8D4E3"
             },
             "line": {
              "color": "white"
             }
            },
            "type": "table"
           }
          ]
         },
         "layout": {
          "annotationdefaults": {
           "arrowcolor": "#2a3f5f",
           "arrowhead": 0,
           "arrowwidth": 1
          },
          "autotypenumbers": "strict",
          "coloraxis": {
           "colorbar": {
            "outlinewidth": 0,
            "ticks": ""
           }
          },
          "colorscale": {
           "diverging": [
            [
             0,
             "#8e0152"
            ],
            [
             0.1,
             "#c51b7d"
            ],
            [
             0.2,
             "#de77ae"
            ],
            [
             0.3,
             "#f1b6da"
            ],
            [
             0.4,
             "#fde0ef"
            ],
            [
             0.5,
             "#f7f7f7"
            ],
            [
             0.6,
             "#e6f5d0"
            ],
            [
             0.7,
             "#b8e186"
            ],
            [
             0.8,
             "#7fbc41"
            ],
            [
             0.9,
             "#4d9221"
            ],
            [
             1,
             "#276419"
            ]
           ],
           "sequential": [
            [
             0,
             "#0d0887"
            ],
            [
             0.1111111111111111,
             "#46039f"
            ],
            [
             0.2222222222222222,
             "#7201a8"
            ],
            [
             0.3333333333333333,
             "#9c179e"
            ],
            [
             0.4444444444444444,
             "#bd3786"
            ],
            [
             0.5555555555555556,
             "#d8576b"
            ],
            [
             0.6666666666666666,
             "#ed7953"
            ],
            [
             0.7777777777777778,
             "#fb9f3a"
            ],
            [
             0.8888888888888888,
             "#fdca26"
            ],
            [
             1,
             "#f0f921"
            ]
           ],
           "sequentialminus": [
            [
             0,
             "#0d0887"
            ],
            [
             0.1111111111111111,
             "#46039f"
            ],
            [
             0.2222222222222222,
             "#7201a8"
            ],
            [
             0.3333333333333333,
             "#9c179e"
            ],
            [
             0.4444444444444444,
             "#bd3786"
            ],
            [
             0.5555555555555556,
             "#d8576b"
            ],
            [
             0.6666666666666666,
             "#ed7953"
            ],
            [
             0.7777777777777778,
             "#fb9f3a"
            ],
            [
             0.8888888888888888,
             "#fdca26"
            ],
            [
             1,
             "#f0f921"
            ]
           ]
          },
          "colorway": [
           "#636efa",
           "#EF553B",
           "#00cc96",
           "#ab63fa",
           "#FFA15A",
           "#19d3f3",
           "#FF6692",
           "#B6E880",
           "#FF97FF",
           "#FECB52"
          ],
          "font": {
           "color": "#2a3f5f"
          },
          "geo": {
           "bgcolor": "white",
           "lakecolor": "white",
           "landcolor": "white",
           "showlakes": true,
           "showland": true,
           "subunitcolor": "#C8D4E3"
          },
          "hoverlabel": {
           "align": "left"
          },
          "hovermode": "closest",
          "mapbox": {
           "style": "light"
          },
          "paper_bgcolor": "white",
          "plot_bgcolor": "white",
          "polar": {
           "angularaxis": {
            "gridcolor": "#EBF0F8",
            "linecolor": "#EBF0F8",
            "ticks": ""
           },
           "bgcolor": "white",
           "radialaxis": {
            "gridcolor": "#EBF0F8",
            "linecolor": "#EBF0F8",
            "ticks": ""
           }
          },
          "scene": {
           "xaxis": {
            "backgroundcolor": "white",
            "gridcolor": "#DFE8F3",
            "gridwidth": 2,
            "linecolor": "#EBF0F8",
            "showbackground": true,
            "ticks": "",
            "zerolinecolor": "#EBF0F8"
           },
           "yaxis": {
            "backgroundcolor": "white",
            "gridcolor": "#DFE8F3",
            "gridwidth": 2,
            "linecolor": "#EBF0F8",
            "showbackground": true,
            "ticks": "",
            "zerolinecolor": "#EBF0F8"
           },
           "zaxis": {
            "backgroundcolor": "white",
            "gridcolor": "#DFE8F3",
            "gridwidth": 2,
            "linecolor": "#EBF0F8",
            "showbackground": true,
            "ticks": "",
            "zerolinecolor": "#EBF0F8"
           }
          },
          "shapedefaults": {
           "line": {
            "color": "#2a3f5f"
           }
          },
          "ternary": {
           "aaxis": {
            "gridcolor": "#DFE8F3",
            "linecolor": "#A2B1C6",
            "ticks": ""
           },
           "baxis": {
            "gridcolor": "#DFE8F3",
            "linecolor": "#A2B1C6",
            "ticks": ""
           },
           "bgcolor": "white",
           "caxis": {
            "gridcolor": "#DFE8F3",
            "linecolor": "#A2B1C6",
            "ticks": ""
           }
          },
          "title": {
           "x": 0.05
          },
          "xaxis": {
           "automargin": true,
           "gridcolor": "#EBF0F8",
           "linecolor": "#EBF0F8",
           "ticks": "",
           "title": {
            "standoff": 15
           },
           "zerolinecolor": "#EBF0F8",
           "zerolinewidth": 2
          },
          "yaxis": {
           "automargin": true,
           "gridcolor": "#EBF0F8",
           "linecolor": "#EBF0F8",
           "ticks": "",
           "title": {
            "standoff": 15
           },
           "zerolinecolor": "#EBF0F8",
           "zerolinewidth": 2
          }
         }
        },
        "title": {
         "text": "Shots per game in each season in Bundesliga"
        },
        "uniformtext": {
         "minsize": 5,
         "mode": "hide"
        },
        "xaxis": {
         "ticktext": [
          "2009-2010",
          "2010-2011",
          "2011-2012",
          "2012-2013",
          "2013-2014",
          "2014-2015",
          "2015-2016",
          "2016-2017",
          "2017-2018",
          "2018-2019",
          "2019-2020",
          "2020-2021",
          "2021-2022"
         ],
         "tickvals": [
          2009,
          2010,
          2011,
          2012,
          2013,
          2014,
          2015,
          2016,
          2017,
          2018,
          2019,
          2020
         ],
         "title": {
          "text": "Season"
         }
        },
        "yaxis": {
         "title": {
          "text": "Shots"
         }
        }
       }
      }
     },
     "metadata": {},
     "output_type": "display_data"
    }
   ],
   "source": [
    "stacked_bar_shots(LEAGUE[0])"
   ]
  },
  {
   "cell_type": "code",
   "execution_count": 100,
   "metadata": {},
   "outputs": [
    {
     "data": {
      "application/vnd.plotly.v1+json": {
       "config": {
        "plotlyServerURL": "https://plot.ly"
       },
       "data": [
        {
         "marker": {
          "color": "indianred"
         },
         "name": "Shots on target",
         "text": [
          4.62,
          4.62,
          4.63,
          4.62,
          4.5,
          4.2,
          4.26,
          4.32,
          4.21,
          4.35,
          4.3,
          4.31
         ],
         "textposition": "auto",
         "type": "bar",
         "x": [
          2009,
          2010,
          2011,
          2012,
          2013,
          2014,
          2015,
          2016,
          2017,
          2018,
          2019,
          2020
         ],
         "y": [
          4.615,
          4.625,
          4.634999999999999,
          4.625,
          4.495000000000001,
          4.2,
          4.26,
          4.32,
          4.205000000000001,
          4.345000000000001,
          4.295,
          4.31
         ]
        },
        {
         "marker": {
          "color": "aquamarine"
         },
         "name": "Shots missed target",
         "text": [
          14.28,
          14.55,
          14.33,
          13.9,
          13.47,
          13,
          12.86,
          12.81,
          12.22,
          12.68,
          12.36,
          12.1
         ],
         "textposition": "auto",
         "type": "bar",
         "x": [
          2009,
          2010,
          2011,
          2012,
          2013,
          2014,
          2015,
          2016,
          2017,
          2018,
          2019,
          2020
         ],
         "y": [
          9.665000000000003,
          9.920000000000002,
          9.695000000000004,
          9.270000000000001,
          8.97,
          8.795000000000003,
          8.605,
          8.489999999999998,
          8.014999999999999,
          8.335,
          8.07,
          7.784999999999999
         ]
        }
       ],
       "layout": {
        "bargap": 0.3,
        "barmode": "stack",
        "template": {
         "data": {
          "bar": [
           {
            "error_x": {
             "color": "#2a3f5f"
            },
            "error_y": {
             "color": "#2a3f5f"
            },
            "marker": {
             "line": {
              "color": "white",
              "width": 0.5
             },
             "pattern": {
              "fillmode": "overlay",
              "size": 10,
              "solidity": 0.2
             }
            },
            "type": "bar"
           }
          ],
          "barpolar": [
           {
            "marker": {
             "line": {
              "color": "white",
              "width": 0.5
             },
             "pattern": {
              "fillmode": "overlay",
              "size": 10,
              "solidity": 0.2
             }
            },
            "type": "barpolar"
           }
          ],
          "carpet": [
           {
            "aaxis": {
             "endlinecolor": "#2a3f5f",
             "gridcolor": "#C8D4E3",
             "linecolor": "#C8D4E3",
             "minorgridcolor": "#C8D4E3",
             "startlinecolor": "#2a3f5f"
            },
            "baxis": {
             "endlinecolor": "#2a3f5f",
             "gridcolor": "#C8D4E3",
             "linecolor": "#C8D4E3",
             "minorgridcolor": "#C8D4E3",
             "startlinecolor": "#2a3f5f"
            },
            "type": "carpet"
           }
          ],
          "choropleth": [
           {
            "colorbar": {
             "outlinewidth": 0,
             "ticks": ""
            },
            "type": "choropleth"
           }
          ],
          "contour": [
           {
            "colorbar": {
             "outlinewidth": 0,
             "ticks": ""
            },
            "colorscale": [
             [
              0,
              "#0d0887"
             ],
             [
              0.1111111111111111,
              "#46039f"
             ],
             [
              0.2222222222222222,
              "#7201a8"
             ],
             [
              0.3333333333333333,
              "#9c179e"
             ],
             [
              0.4444444444444444,
              "#bd3786"
             ],
             [
              0.5555555555555556,
              "#d8576b"
             ],
             [
              0.6666666666666666,
              "#ed7953"
             ],
             [
              0.7777777777777778,
              "#fb9f3a"
             ],
             [
              0.8888888888888888,
              "#fdca26"
             ],
             [
              1,
              "#f0f921"
             ]
            ],
            "type": "contour"
           }
          ],
          "contourcarpet": [
           {
            "colorbar": {
             "outlinewidth": 0,
             "ticks": ""
            },
            "type": "contourcarpet"
           }
          ],
          "heatmap": [
           {
            "colorbar": {
             "outlinewidth": 0,
             "ticks": ""
            },
            "colorscale": [
             [
              0,
              "#0d0887"
             ],
             [
              0.1111111111111111,
              "#46039f"
             ],
             [
              0.2222222222222222,
              "#7201a8"
             ],
             [
              0.3333333333333333,
              "#9c179e"
             ],
             [
              0.4444444444444444,
              "#bd3786"
             ],
             [
              0.5555555555555556,
              "#d8576b"
             ],
             [
              0.6666666666666666,
              "#ed7953"
             ],
             [
              0.7777777777777778,
              "#fb9f3a"
             ],
             [
              0.8888888888888888,
              "#fdca26"
             ],
             [
              1,
              "#f0f921"
             ]
            ],
            "type": "heatmap"
           }
          ],
          "heatmapgl": [
           {
            "colorbar": {
             "outlinewidth": 0,
             "ticks": ""
            },
            "colorscale": [
             [
              0,
              "#0d0887"
             ],
             [
              0.1111111111111111,
              "#46039f"
             ],
             [
              0.2222222222222222,
              "#7201a8"
             ],
             [
              0.3333333333333333,
              "#9c179e"
             ],
             [
              0.4444444444444444,
              "#bd3786"
             ],
             [
              0.5555555555555556,
              "#d8576b"
             ],
             [
              0.6666666666666666,
              "#ed7953"
             ],
             [
              0.7777777777777778,
              "#fb9f3a"
             ],
             [
              0.8888888888888888,
              "#fdca26"
             ],
             [
              1,
              "#f0f921"
             ]
            ],
            "type": "heatmapgl"
           }
          ],
          "histogram": [
           {
            "marker": {
             "pattern": {
              "fillmode": "overlay",
              "size": 10,
              "solidity": 0.2
             }
            },
            "type": "histogram"
           }
          ],
          "histogram2d": [
           {
            "colorbar": {
             "outlinewidth": 0,
             "ticks": ""
            },
            "colorscale": [
             [
              0,
              "#0d0887"
             ],
             [
              0.1111111111111111,
              "#46039f"
             ],
             [
              0.2222222222222222,
              "#7201a8"
             ],
             [
              0.3333333333333333,
              "#9c179e"
             ],
             [
              0.4444444444444444,
              "#bd3786"
             ],
             [
              0.5555555555555556,
              "#d8576b"
             ],
             [
              0.6666666666666666,
              "#ed7953"
             ],
             [
              0.7777777777777778,
              "#fb9f3a"
             ],
             [
              0.8888888888888888,
              "#fdca26"
             ],
             [
              1,
              "#f0f921"
             ]
            ],
            "type": "histogram2d"
           }
          ],
          "histogram2dcontour": [
           {
            "colorbar": {
             "outlinewidth": 0,
             "ticks": ""
            },
            "colorscale": [
             [
              0,
              "#0d0887"
             ],
             [
              0.1111111111111111,
              "#46039f"
             ],
             [
              0.2222222222222222,
              "#7201a8"
             ],
             [
              0.3333333333333333,
              "#9c179e"
             ],
             [
              0.4444444444444444,
              "#bd3786"
             ],
             [
              0.5555555555555556,
              "#d8576b"
             ],
             [
              0.6666666666666666,
              "#ed7953"
             ],
             [
              0.7777777777777778,
              "#fb9f3a"
             ],
             [
              0.8888888888888888,
              "#fdca26"
             ],
             [
              1,
              "#f0f921"
             ]
            ],
            "type": "histogram2dcontour"
           }
          ],
          "mesh3d": [
           {
            "colorbar": {
             "outlinewidth": 0,
             "ticks": ""
            },
            "type": "mesh3d"
           }
          ],
          "parcoords": [
           {
            "line": {
             "colorbar": {
              "outlinewidth": 0,
              "ticks": ""
             }
            },
            "type": "parcoords"
           }
          ],
          "pie": [
           {
            "automargin": true,
            "type": "pie"
           }
          ],
          "scatter": [
           {
            "marker": {
             "colorbar": {
              "outlinewidth": 0,
              "ticks": ""
             }
            },
            "type": "scatter"
           }
          ],
          "scatter3d": [
           {
            "line": {
             "colorbar": {
              "outlinewidth": 0,
              "ticks": ""
             }
            },
            "marker": {
             "colorbar": {
              "outlinewidth": 0,
              "ticks": ""
             }
            },
            "type": "scatter3d"
           }
          ],
          "scattercarpet": [
           {
            "marker": {
             "colorbar": {
              "outlinewidth": 0,
              "ticks": ""
             }
            },
            "type": "scattercarpet"
           }
          ],
          "scattergeo": [
           {
            "marker": {
             "colorbar": {
              "outlinewidth": 0,
              "ticks": ""
             }
            },
            "type": "scattergeo"
           }
          ],
          "scattergl": [
           {
            "marker": {
             "colorbar": {
              "outlinewidth": 0,
              "ticks": ""
             }
            },
            "type": "scattergl"
           }
          ],
          "scattermapbox": [
           {
            "marker": {
             "colorbar": {
              "outlinewidth": 0,
              "ticks": ""
             }
            },
            "type": "scattermapbox"
           }
          ],
          "scatterpolar": [
           {
            "marker": {
             "colorbar": {
              "outlinewidth": 0,
              "ticks": ""
             }
            },
            "type": "scatterpolar"
           }
          ],
          "scatterpolargl": [
           {
            "marker": {
             "colorbar": {
              "outlinewidth": 0,
              "ticks": ""
             }
            },
            "type": "scatterpolargl"
           }
          ],
          "scatterternary": [
           {
            "marker": {
             "colorbar": {
              "outlinewidth": 0,
              "ticks": ""
             }
            },
            "type": "scatterternary"
           }
          ],
          "surface": [
           {
            "colorbar": {
             "outlinewidth": 0,
             "ticks": ""
            },
            "colorscale": [
             [
              0,
              "#0d0887"
             ],
             [
              0.1111111111111111,
              "#46039f"
             ],
             [
              0.2222222222222222,
              "#7201a8"
             ],
             [
              0.3333333333333333,
              "#9c179e"
             ],
             [
              0.4444444444444444,
              "#bd3786"
             ],
             [
              0.5555555555555556,
              "#d8576b"
             ],
             [
              0.6666666666666666,
              "#ed7953"
             ],
             [
              0.7777777777777778,
              "#fb9f3a"
             ],
             [
              0.8888888888888888,
              "#fdca26"
             ],
             [
              1,
              "#f0f921"
             ]
            ],
            "type": "surface"
           }
          ],
          "table": [
           {
            "cells": {
             "fill": {
              "color": "#EBF0F8"
             },
             "line": {
              "color": "white"
             }
            },
            "header": {
             "fill": {
              "color": "#C8D4E3"
             },
             "line": {
              "color": "white"
             }
            },
            "type": "table"
           }
          ]
         },
         "layout": {
          "annotationdefaults": {
           "arrowcolor": "#2a3f5f",
           "arrowhead": 0,
           "arrowwidth": 1
          },
          "autotypenumbers": "strict",
          "coloraxis": {
           "colorbar": {
            "outlinewidth": 0,
            "ticks": ""
           }
          },
          "colorscale": {
           "diverging": [
            [
             0,
             "#8e0152"
            ],
            [
             0.1,
             "#c51b7d"
            ],
            [
             0.2,
             "#de77ae"
            ],
            [
             0.3,
             "#f1b6da"
            ],
            [
             0.4,
             "#fde0ef"
            ],
            [
             0.5,
             "#f7f7f7"
            ],
            [
             0.6,
             "#e6f5d0"
            ],
            [
             0.7,
             "#b8e186"
            ],
            [
             0.8,
             "#7fbc41"
            ],
            [
             0.9,
             "#4d9221"
            ],
            [
             1,
             "#276419"
            ]
           ],
           "sequential": [
            [
             0,
             "#0d0887"
            ],
            [
             0.1111111111111111,
             "#46039f"
            ],
            [
             0.2222222222222222,
             "#7201a8"
            ],
            [
             0.3333333333333333,
             "#9c179e"
            ],
            [
             0.4444444444444444,
             "#bd3786"
            ],
            [
             0.5555555555555556,
             "#d8576b"
            ],
            [
             0.6666666666666666,
             "#ed7953"
            ],
            [
             0.7777777777777778,
             "#fb9f3a"
            ],
            [
             0.8888888888888888,
             "#fdca26"
            ],
            [
             1,
             "#f0f921"
            ]
           ],
           "sequentialminus": [
            [
             0,
             "#0d0887"
            ],
            [
             0.1111111111111111,
             "#46039f"
            ],
            [
             0.2222222222222222,
             "#7201a8"
            ],
            [
             0.3333333333333333,
             "#9c179e"
            ],
            [
             0.4444444444444444,
             "#bd3786"
            ],
            [
             0.5555555555555556,
             "#d8576b"
            ],
            [
             0.6666666666666666,
             "#ed7953"
            ],
            [
             0.7777777777777778,
             "#fb9f3a"
            ],
            [
             0.8888888888888888,
             "#fdca26"
            ],
            [
             1,
             "#f0f921"
            ]
           ]
          },
          "colorway": [
           "#636efa",
           "#EF553B",
           "#00cc96",
           "#ab63fa",
           "#FFA15A",
           "#19d3f3",
           "#FF6692",
           "#B6E880",
           "#FF97FF",
           "#FECB52"
          ],
          "font": {
           "color": "#2a3f5f"
          },
          "geo": {
           "bgcolor": "white",
           "lakecolor": "white",
           "landcolor": "white",
           "showlakes": true,
           "showland": true,
           "subunitcolor": "#C8D4E3"
          },
          "hoverlabel": {
           "align": "left"
          },
          "hovermode": "closest",
          "mapbox": {
           "style": "light"
          },
          "paper_bgcolor": "white",
          "plot_bgcolor": "white",
          "polar": {
           "angularaxis": {
            "gridcolor": "#EBF0F8",
            "linecolor": "#EBF0F8",
            "ticks": ""
           },
           "bgcolor": "white",
           "radialaxis": {
            "gridcolor": "#EBF0F8",
            "linecolor": "#EBF0F8",
            "ticks": ""
           }
          },
          "scene": {
           "xaxis": {
            "backgroundcolor": "white",
            "gridcolor": "#DFE8F3",
            "gridwidth": 2,
            "linecolor": "#EBF0F8",
            "showbackground": true,
            "ticks": "",
            "zerolinecolor": "#EBF0F8"
           },
           "yaxis": {
            "backgroundcolor": "white",
            "gridcolor": "#DFE8F3",
            "gridwidth": 2,
            "linecolor": "#EBF0F8",
            "showbackground": true,
            "ticks": "",
            "zerolinecolor": "#EBF0F8"
           },
           "zaxis": {
            "backgroundcolor": "white",
            "gridcolor": "#DFE8F3",
            "gridwidth": 2,
            "linecolor": "#EBF0F8",
            "showbackground": true,
            "ticks": "",
            "zerolinecolor": "#EBF0F8"
           }
          },
          "shapedefaults": {
           "line": {
            "color": "#2a3f5f"
           }
          },
          "ternary": {
           "aaxis": {
            "gridcolor": "#DFE8F3",
            "linecolor": "#A2B1C6",
            "ticks": ""
           },
           "baxis": {
            "gridcolor": "#DFE8F3",
            "linecolor": "#A2B1C6",
            "ticks": ""
           },
           "bgcolor": "white",
           "caxis": {
            "gridcolor": "#DFE8F3",
            "linecolor": "#A2B1C6",
            "ticks": ""
           }
          },
          "title": {
           "x": 0.05
          },
          "xaxis": {
           "automargin": true,
           "gridcolor": "#EBF0F8",
           "linecolor": "#EBF0F8",
           "ticks": "",
           "title": {
            "standoff": 15
           },
           "zerolinecolor": "#EBF0F8",
           "zerolinewidth": 2
          },
          "yaxis": {
           "automargin": true,
           "gridcolor": "#EBF0F8",
           "linecolor": "#EBF0F8",
           "ticks": "",
           "title": {
            "standoff": 15
           },
           "zerolinecolor": "#EBF0F8",
           "zerolinewidth": 2
          }
         }
        },
        "title": {
         "text": "Shot counts in each season in EPL"
        },
        "uniformtext": {
         "minsize": 5,
         "mode": "hide"
        },
        "xaxis": {
         "ticktext": [
          "2009-2010",
          "2010-2011",
          "2011-2012",
          "2012-2013",
          "2013-2014",
          "2014-2015",
          "2015-2016",
          "2016-2017",
          "2017-2018",
          "2018-2019",
          "2019-2020",
          "2020-2021",
          "2021-2022"
         ],
         "tickvals": [
          2009,
          2010,
          2011,
          2012,
          2013,
          2014,
          2015,
          2016,
          2017,
          2018,
          2019,
          2020,
          2021
         ],
         "title": {
          "text": "Season"
         }
        },
        "yaxis": {
         "title": {
          "text": "Count"
         }
        }
       }
      }
     },
     "metadata": {},
     "output_type": "display_data"
    }
   ],
   "source": [
    "stacked_bar_shots(LEAGUE[1])"
   ]
  },
  {
   "cell_type": "code",
   "execution_count": 101,
   "metadata": {},
   "outputs": [
    {
     "data": {
      "application/vnd.plotly.v1+json": {
       "config": {
        "plotlyServerURL": "https://plot.ly"
       },
       "data": [
        {
         "marker": {
          "color": "indianred"
         },
         "name": "Shots on target",
         "text": [
          4.69,
          4.84,
          4.66,
          4.64,
          4.34,
          4.16,
          4.31,
          4.47,
          4.25,
          4.21,
          3.92,
          3.71
         ],
         "textposition": "auto",
         "type": "bar",
         "x": [
          2009,
          2010,
          2011,
          2012,
          2013,
          2014,
          2015,
          2016,
          2017,
          2018,
          2019,
          2020
         ],
         "y": [
          4.6850000000000005,
          4.839999999999999,
          4.664999999999999,
          4.635,
          4.335000000000001,
          4.16,
          4.31,
          4.470000000000001,
          4.254999999999999,
          4.210000000000001,
          3.9200000000000004,
          3.705000000000001
         ]
        },
        {
         "marker": {
          "color": "aquamarine"
         },
         "name": "Shots missed target",
         "text": [
          13.04,
          13.06,
          13.01,
          13.07,
          12.36,
          11.86,
          11.91,
          12.03,
          12.07,
          12.18,
          11.31,
          10.66
         ],
         "textposition": "auto",
         "type": "bar",
         "x": [
          2009,
          2010,
          2011,
          2012,
          2013,
          2014,
          2015,
          2016,
          2017,
          2018,
          2019,
          2020
         ],
         "y": [
          8.355,
          8.215,
          8.344999999999999,
          8.435000000000002,
          8.025,
          7.705000000000001,
          7.599999999999999,
          7.5600000000000005,
          7.815000000000002,
          7.965000000000001,
          7.389999999999999,
          6.954999999999998
         ]
        }
       ],
       "layout": {
        "bargap": 0.3,
        "barmode": "stack",
        "template": {
         "data": {
          "bar": [
           {
            "error_x": {
             "color": "#2a3f5f"
            },
            "error_y": {
             "color": "#2a3f5f"
            },
            "marker": {
             "line": {
              "color": "white",
              "width": 0.5
             },
             "pattern": {
              "fillmode": "overlay",
              "size": 10,
              "solidity": 0.2
             }
            },
            "type": "bar"
           }
          ],
          "barpolar": [
           {
            "marker": {
             "line": {
              "color": "white",
              "width": 0.5
             },
             "pattern": {
              "fillmode": "overlay",
              "size": 10,
              "solidity": 0.2
             }
            },
            "type": "barpolar"
           }
          ],
          "carpet": [
           {
            "aaxis": {
             "endlinecolor": "#2a3f5f",
             "gridcolor": "#C8D4E3",
             "linecolor": "#C8D4E3",
             "minorgridcolor": "#C8D4E3",
             "startlinecolor": "#2a3f5f"
            },
            "baxis": {
             "endlinecolor": "#2a3f5f",
             "gridcolor": "#C8D4E3",
             "linecolor": "#C8D4E3",
             "minorgridcolor": "#C8D4E3",
             "startlinecolor": "#2a3f5f"
            },
            "type": "carpet"
           }
          ],
          "choropleth": [
           {
            "colorbar": {
             "outlinewidth": 0,
             "ticks": ""
            },
            "type": "choropleth"
           }
          ],
          "contour": [
           {
            "colorbar": {
             "outlinewidth": 0,
             "ticks": ""
            },
            "colorscale": [
             [
              0,
              "#0d0887"
             ],
             [
              0.1111111111111111,
              "#46039f"
             ],
             [
              0.2222222222222222,
              "#7201a8"
             ],
             [
              0.3333333333333333,
              "#9c179e"
             ],
             [
              0.4444444444444444,
              "#bd3786"
             ],
             [
              0.5555555555555556,
              "#d8576b"
             ],
             [
              0.6666666666666666,
              "#ed7953"
             ],
             [
              0.7777777777777778,
              "#fb9f3a"
             ],
             [
              0.8888888888888888,
              "#fdca26"
             ],
             [
              1,
              "#f0f921"
             ]
            ],
            "type": "contour"
           }
          ],
          "contourcarpet": [
           {
            "colorbar": {
             "outlinewidth": 0,
             "ticks": ""
            },
            "type": "contourcarpet"
           }
          ],
          "heatmap": [
           {
            "colorbar": {
             "outlinewidth": 0,
             "ticks": ""
            },
            "colorscale": [
             [
              0,
              "#0d0887"
             ],
             [
              0.1111111111111111,
              "#46039f"
             ],
             [
              0.2222222222222222,
              "#7201a8"
             ],
             [
              0.3333333333333333,
              "#9c179e"
             ],
             [
              0.4444444444444444,
              "#bd3786"
             ],
             [
              0.5555555555555556,
              "#d8576b"
             ],
             [
              0.6666666666666666,
              "#ed7953"
             ],
             [
              0.7777777777777778,
              "#fb9f3a"
             ],
             [
              0.8888888888888888,
              "#fdca26"
             ],
             [
              1,
              "#f0f921"
             ]
            ],
            "type": "heatmap"
           }
          ],
          "heatmapgl": [
           {
            "colorbar": {
             "outlinewidth": 0,
             "ticks": ""
            },
            "colorscale": [
             [
              0,
              "#0d0887"
             ],
             [
              0.1111111111111111,
              "#46039f"
             ],
             [
              0.2222222222222222,
              "#7201a8"
             ],
             [
              0.3333333333333333,
              "#9c179e"
             ],
             [
              0.4444444444444444,
              "#bd3786"
             ],
             [
              0.5555555555555556,
              "#d8576b"
             ],
             [
              0.6666666666666666,
              "#ed7953"
             ],
             [
              0.7777777777777778,
              "#fb9f3a"
             ],
             [
              0.8888888888888888,
              "#fdca26"
             ],
             [
              1,
              "#f0f921"
             ]
            ],
            "type": "heatmapgl"
           }
          ],
          "histogram": [
           {
            "marker": {
             "pattern": {
              "fillmode": "overlay",
              "size": 10,
              "solidity": 0.2
             }
            },
            "type": "histogram"
           }
          ],
          "histogram2d": [
           {
            "colorbar": {
             "outlinewidth": 0,
             "ticks": ""
            },
            "colorscale": [
             [
              0,
              "#0d0887"
             ],
             [
              0.1111111111111111,
              "#46039f"
             ],
             [
              0.2222222222222222,
              "#7201a8"
             ],
             [
              0.3333333333333333,
              "#9c179e"
             ],
             [
              0.4444444444444444,
              "#bd3786"
             ],
             [
              0.5555555555555556,
              "#d8576b"
             ],
             [
              0.6666666666666666,
              "#ed7953"
             ],
             [
              0.7777777777777778,
              "#fb9f3a"
             ],
             [
              0.8888888888888888,
              "#fdca26"
             ],
             [
              1,
              "#f0f921"
             ]
            ],
            "type": "histogram2d"
           }
          ],
          "histogram2dcontour": [
           {
            "colorbar": {
             "outlinewidth": 0,
             "ticks": ""
            },
            "colorscale": [
             [
              0,
              "#0d0887"
             ],
             [
              0.1111111111111111,
              "#46039f"
             ],
             [
              0.2222222222222222,
              "#7201a8"
             ],
             [
              0.3333333333333333,
              "#9c179e"
             ],
             [
              0.4444444444444444,
              "#bd3786"
             ],
             [
              0.5555555555555556,
              "#d8576b"
             ],
             [
              0.6666666666666666,
              "#ed7953"
             ],
             [
              0.7777777777777778,
              "#fb9f3a"
             ],
             [
              0.8888888888888888,
              "#fdca26"
             ],
             [
              1,
              "#f0f921"
             ]
            ],
            "type": "histogram2dcontour"
           }
          ],
          "mesh3d": [
           {
            "colorbar": {
             "outlinewidth": 0,
             "ticks": ""
            },
            "type": "mesh3d"
           }
          ],
          "parcoords": [
           {
            "line": {
             "colorbar": {
              "outlinewidth": 0,
              "ticks": ""
             }
            },
            "type": "parcoords"
           }
          ],
          "pie": [
           {
            "automargin": true,
            "type": "pie"
           }
          ],
          "scatter": [
           {
            "marker": {
             "colorbar": {
              "outlinewidth": 0,
              "ticks": ""
             }
            },
            "type": "scatter"
           }
          ],
          "scatter3d": [
           {
            "line": {
             "colorbar": {
              "outlinewidth": 0,
              "ticks": ""
             }
            },
            "marker": {
             "colorbar": {
              "outlinewidth": 0,
              "ticks": ""
             }
            },
            "type": "scatter3d"
           }
          ],
          "scattercarpet": [
           {
            "marker": {
             "colorbar": {
              "outlinewidth": 0,
              "ticks": ""
             }
            },
            "type": "scattercarpet"
           }
          ],
          "scattergeo": [
           {
            "marker": {
             "colorbar": {
              "outlinewidth": 0,
              "ticks": ""
             }
            },
            "type": "scattergeo"
           }
          ],
          "scattergl": [
           {
            "marker": {
             "colorbar": {
              "outlinewidth": 0,
              "ticks": ""
             }
            },
            "type": "scattergl"
           }
          ],
          "scattermapbox": [
           {
            "marker": {
             "colorbar": {
              "outlinewidth": 0,
              "ticks": ""
             }
            },
            "type": "scattermapbox"
           }
          ],
          "scatterpolar": [
           {
            "marker": {
             "colorbar": {
              "outlinewidth": 0,
              "ticks": ""
             }
            },
            "type": "scatterpolar"
           }
          ],
          "scatterpolargl": [
           {
            "marker": {
             "colorbar": {
              "outlinewidth": 0,
              "ticks": ""
             }
            },
            "type": "scatterpolargl"
           }
          ],
          "scatterternary": [
           {
            "marker": {
             "colorbar": {
              "outlinewidth": 0,
              "ticks": ""
             }
            },
            "type": "scatterternary"
           }
          ],
          "surface": [
           {
            "colorbar": {
             "outlinewidth": 0,
             "ticks": ""
            },
            "colorscale": [
             [
              0,
              "#0d0887"
             ],
             [
              0.1111111111111111,
              "#46039f"
             ],
             [
              0.2222222222222222,
              "#7201a8"
             ],
             [
              0.3333333333333333,
              "#9c179e"
             ],
             [
              0.4444444444444444,
              "#bd3786"
             ],
             [
              0.5555555555555556,
              "#d8576b"
             ],
             [
              0.6666666666666666,
              "#ed7953"
             ],
             [
              0.7777777777777778,
              "#fb9f3a"
             ],
             [
              0.8888888888888888,
              "#fdca26"
             ],
             [
              1,
              "#f0f921"
             ]
            ],
            "type": "surface"
           }
          ],
          "table": [
           {
            "cells": {
             "fill": {
              "color": "#EBF0F8"
             },
             "line": {
              "color": "white"
             }
            },
            "header": {
             "fill": {
              "color": "#C8D4E3"
             },
             "line": {
              "color": "white"
             }
            },
            "type": "table"
           }
          ]
         },
         "layout": {
          "annotationdefaults": {
           "arrowcolor": "#2a3f5f",
           "arrowhead": 0,
           "arrowwidth": 1
          },
          "autotypenumbers": "strict",
          "coloraxis": {
           "colorbar": {
            "outlinewidth": 0,
            "ticks": ""
           }
          },
          "colorscale": {
           "diverging": [
            [
             0,
             "#8e0152"
            ],
            [
             0.1,
             "#c51b7d"
            ],
            [
             0.2,
             "#de77ae"
            ],
            [
             0.3,
             "#f1b6da"
            ],
            [
             0.4,
             "#fde0ef"
            ],
            [
             0.5,
             "#f7f7f7"
            ],
            [
             0.6,
             "#e6f5d0"
            ],
            [
             0.7,
             "#b8e186"
            ],
            [
             0.8,
             "#7fbc41"
            ],
            [
             0.9,
             "#4d9221"
            ],
            [
             1,
             "#276419"
            ]
           ],
           "sequential": [
            [
             0,
             "#0d0887"
            ],
            [
             0.1111111111111111,
             "#46039f"
            ],
            [
             0.2222222222222222,
             "#7201a8"
            ],
            [
             0.3333333333333333,
             "#9c179e"
            ],
            [
             0.4444444444444444,
             "#bd3786"
            ],
            [
             0.5555555555555556,
             "#d8576b"
            ],
            [
             0.6666666666666666,
             "#ed7953"
            ],
            [
             0.7777777777777778,
             "#fb9f3a"
            ],
            [
             0.8888888888888888,
             "#fdca26"
            ],
            [
             1,
             "#f0f921"
            ]
           ],
           "sequentialminus": [
            [
             0,
             "#0d0887"
            ],
            [
             0.1111111111111111,
             "#46039f"
            ],
            [
             0.2222222222222222,
             "#7201a8"
            ],
            [
             0.3333333333333333,
             "#9c179e"
            ],
            [
             0.4444444444444444,
             "#bd3786"
            ],
            [
             0.5555555555555556,
             "#d8576b"
            ],
            [
             0.6666666666666666,
             "#ed7953"
            ],
            [
             0.7777777777777778,
             "#fb9f3a"
            ],
            [
             0.8888888888888888,
             "#fdca26"
            ],
            [
             1,
             "#f0f921"
            ]
           ]
          },
          "colorway": [
           "#636efa",
           "#EF553B",
           "#00cc96",
           "#ab63fa",
           "#FFA15A",
           "#19d3f3",
           "#FF6692",
           "#B6E880",
           "#FF97FF",
           "#FECB52"
          ],
          "font": {
           "color": "#2a3f5f"
          },
          "geo": {
           "bgcolor": "white",
           "lakecolor": "white",
           "landcolor": "white",
           "showlakes": true,
           "showland": true,
           "subunitcolor": "#C8D4E3"
          },
          "hoverlabel": {
           "align": "left"
          },
          "hovermode": "closest",
          "mapbox": {
           "style": "light"
          },
          "paper_bgcolor": "white",
          "plot_bgcolor": "white",
          "polar": {
           "angularaxis": {
            "gridcolor": "#EBF0F8",
            "linecolor": "#EBF0F8",
            "ticks": ""
           },
           "bgcolor": "white",
           "radialaxis": {
            "gridcolor": "#EBF0F8",
            "linecolor": "#EBF0F8",
            "ticks": ""
           }
          },
          "scene": {
           "xaxis": {
            "backgroundcolor": "white",
            "gridcolor": "#DFE8F3",
            "gridwidth": 2,
            "linecolor": "#EBF0F8",
            "showbackground": true,
            "ticks": "",
            "zerolinecolor": "#EBF0F8"
           },
           "yaxis": {
            "backgroundcolor": "white",
            "gridcolor": "#DFE8F3",
            "gridwidth": 2,
            "linecolor": "#EBF0F8",
            "showbackground": true,
            "ticks": "",
            "zerolinecolor": "#EBF0F8"
           },
           "zaxis": {
            "backgroundcolor": "white",
            "gridcolor": "#DFE8F3",
            "gridwidth": 2,
            "linecolor": "#EBF0F8",
            "showbackground": true,
            "ticks": "",
            "zerolinecolor": "#EBF0F8"
           }
          },
          "shapedefaults": {
           "line": {
            "color": "#2a3f5f"
           }
          },
          "ternary": {
           "aaxis": {
            "gridcolor": "#DFE8F3",
            "linecolor": "#A2B1C6",
            "ticks": ""
           },
           "baxis": {
            "gridcolor": "#DFE8F3",
            "linecolor": "#A2B1C6",
            "ticks": ""
           },
           "bgcolor": "white",
           "caxis": {
            "gridcolor": "#DFE8F3",
            "linecolor": "#A2B1C6",
            "ticks": ""
           }
          },
          "title": {
           "x": 0.05
          },
          "xaxis": {
           "automargin": true,
           "gridcolor": "#EBF0F8",
           "linecolor": "#EBF0F8",
           "ticks": "",
           "title": {
            "standoff": 15
           },
           "zerolinecolor": "#EBF0F8",
           "zerolinewidth": 2
          },
          "yaxis": {
           "automargin": true,
           "gridcolor": "#EBF0F8",
           "linecolor": "#EBF0F8",
           "ticks": "",
           "title": {
            "standoff": 15
           },
           "zerolinecolor": "#EBF0F8",
           "zerolinewidth": 2
          }
         }
        },
        "title": {
         "text": "Shot counts in each season in LaLiga"
        },
        "uniformtext": {
         "minsize": 5,
         "mode": "hide"
        },
        "xaxis": {
         "ticktext": [
          "2009-2010",
          "2010-2011",
          "2011-2012",
          "2012-2013",
          "2013-2014",
          "2014-2015",
          "2015-2016",
          "2016-2017",
          "2017-2018",
          "2018-2019",
          "2019-2020",
          "2020-2021",
          "2021-2022"
         ],
         "tickvals": [
          2009,
          2010,
          2011,
          2012,
          2013,
          2014,
          2015,
          2016,
          2017,
          2018,
          2019,
          2020,
          2021
         ],
         "title": {
          "text": "Season"
         }
        },
        "yaxis": {
         "title": {
          "text": "Count"
         }
        }
       }
      }
     },
     "metadata": {},
     "output_type": "display_data"
    }
   ],
   "source": [
    "stacked_bar_shots(LEAGUE[2])"
   ]
  },
  {
   "cell_type": "code",
   "execution_count": 102,
   "metadata": {},
   "outputs": [
    {
     "data": {
      "application/vnd.plotly.v1+json": {
       "config": {
        "plotlyServerURL": "https://plot.ly"
       },
       "data": [
        {
         "marker": {
          "color": "indianred"
         },
         "name": "Shots on target",
         "text": [
          4.27,
          4.17,
          4.24,
          4.2,
          4.11,
          4,
          4.12,
          4.18,
          4.27,
          4.16,
          4.18,
          4.06
         ],
         "textposition": "auto",
         "type": "bar",
         "x": [
          2009,
          2010,
          2011,
          2012,
          2013,
          2014,
          2015,
          2016,
          2017,
          2018,
          2019,
          2020
         ],
         "y": [
          4.265000000000001,
          4.170000000000001,
          4.244999999999999,
          4.200000000000001,
          4.114999999999999,
          4,
          4.115,
          4.175,
          4.2700000000000005,
          4.159999999999999,
          4.175,
          4.055
         ]
        },
        {
         "marker": {
          "color": "aquamarine"
         },
         "name": "Shots missed target",
         "text": [
          12.64,
          12.42,
          12.46,
          11.88,
          11.79,
          11.43,
          11.55,
          12.05,
          12.42,
          12.36,
          12.22,
          11.7
         ],
         "textposition": "auto",
         "type": "bar",
         "x": [
          2009,
          2010,
          2011,
          2012,
          2013,
          2014,
          2015,
          2016,
          2017,
          2018,
          2019,
          2020
         ],
         "y": [
          8.37,
          8.249999999999998,
          8.220000000000002,
          7.6850000000000005,
          7.68,
          7.435,
          7.435,
          7.880000000000001,
          8.145,
          8.205000000000002,
          8.040000000000001,
          7.6450000000000005
         ]
        }
       ],
       "layout": {
        "bargap": 0.3,
        "barmode": "stack",
        "template": {
         "data": {
          "bar": [
           {
            "error_x": {
             "color": "#2a3f5f"
            },
            "error_y": {
             "color": "#2a3f5f"
            },
            "marker": {
             "line": {
              "color": "white",
              "width": 0.5
             },
             "pattern": {
              "fillmode": "overlay",
              "size": 10,
              "solidity": 0.2
             }
            },
            "type": "bar"
           }
          ],
          "barpolar": [
           {
            "marker": {
             "line": {
              "color": "white",
              "width": 0.5
             },
             "pattern": {
              "fillmode": "overlay",
              "size": 10,
              "solidity": 0.2
             }
            },
            "type": "barpolar"
           }
          ],
          "carpet": [
           {
            "aaxis": {
             "endlinecolor": "#2a3f5f",
             "gridcolor": "#C8D4E3",
             "linecolor": "#C8D4E3",
             "minorgridcolor": "#C8D4E3",
             "startlinecolor": "#2a3f5f"
            },
            "baxis": {
             "endlinecolor": "#2a3f5f",
             "gridcolor": "#C8D4E3",
             "linecolor": "#C8D4E3",
             "minorgridcolor": "#C8D4E3",
             "startlinecolor": "#2a3f5f"
            },
            "type": "carpet"
           }
          ],
          "choropleth": [
           {
            "colorbar": {
             "outlinewidth": 0,
             "ticks": ""
            },
            "type": "choropleth"
           }
          ],
          "contour": [
           {
            "colorbar": {
             "outlinewidth": 0,
             "ticks": ""
            },
            "colorscale": [
             [
              0,
              "#0d0887"
             ],
             [
              0.1111111111111111,
              "#46039f"
             ],
             [
              0.2222222222222222,
              "#7201a8"
             ],
             [
              0.3333333333333333,
              "#9c179e"
             ],
             [
              0.4444444444444444,
              "#bd3786"
             ],
             [
              0.5555555555555556,
              "#d8576b"
             ],
             [
              0.6666666666666666,
              "#ed7953"
             ],
             [
              0.7777777777777778,
              "#fb9f3a"
             ],
             [
              0.8888888888888888,
              "#fdca26"
             ],
             [
              1,
              "#f0f921"
             ]
            ],
            "type": "contour"
           }
          ],
          "contourcarpet": [
           {
            "colorbar": {
             "outlinewidth": 0,
             "ticks": ""
            },
            "type": "contourcarpet"
           }
          ],
          "heatmap": [
           {
            "colorbar": {
             "outlinewidth": 0,
             "ticks": ""
            },
            "colorscale": [
             [
              0,
              "#0d0887"
             ],
             [
              0.1111111111111111,
              "#46039f"
             ],
             [
              0.2222222222222222,
              "#7201a8"
             ],
             [
              0.3333333333333333,
              "#9c179e"
             ],
             [
              0.4444444444444444,
              "#bd3786"
             ],
             [
              0.5555555555555556,
              "#d8576b"
             ],
             [
              0.6666666666666666,
              "#ed7953"
             ],
             [
              0.7777777777777778,
              "#fb9f3a"
             ],
             [
              0.8888888888888888,
              "#fdca26"
             ],
             [
              1,
              "#f0f921"
             ]
            ],
            "type": "heatmap"
           }
          ],
          "heatmapgl": [
           {
            "colorbar": {
             "outlinewidth": 0,
             "ticks": ""
            },
            "colorscale": [
             [
              0,
              "#0d0887"
             ],
             [
              0.1111111111111111,
              "#46039f"
             ],
             [
              0.2222222222222222,
              "#7201a8"
             ],
             [
              0.3333333333333333,
              "#9c179e"
             ],
             [
              0.4444444444444444,
              "#bd3786"
             ],
             [
              0.5555555555555556,
              "#d8576b"
             ],
             [
              0.6666666666666666,
              "#ed7953"
             ],
             [
              0.7777777777777778,
              "#fb9f3a"
             ],
             [
              0.8888888888888888,
              "#fdca26"
             ],
             [
              1,
              "#f0f921"
             ]
            ],
            "type": "heatmapgl"
           }
          ],
          "histogram": [
           {
            "marker": {
             "pattern": {
              "fillmode": "overlay",
              "size": 10,
              "solidity": 0.2
             }
            },
            "type": "histogram"
           }
          ],
          "histogram2d": [
           {
            "colorbar": {
             "outlinewidth": 0,
             "ticks": ""
            },
            "colorscale": [
             [
              0,
              "#0d0887"
             ],
             [
              0.1111111111111111,
              "#46039f"
             ],
             [
              0.2222222222222222,
              "#7201a8"
             ],
             [
              0.3333333333333333,
              "#9c179e"
             ],
             [
              0.4444444444444444,
              "#bd3786"
             ],
             [
              0.5555555555555556,
              "#d8576b"
             ],
             [
              0.6666666666666666,
              "#ed7953"
             ],
             [
              0.7777777777777778,
              "#fb9f3a"
             ],
             [
              0.8888888888888888,
              "#fdca26"
             ],
             [
              1,
              "#f0f921"
             ]
            ],
            "type": "histogram2d"
           }
          ],
          "histogram2dcontour": [
           {
            "colorbar": {
             "outlinewidth": 0,
             "ticks": ""
            },
            "colorscale": [
             [
              0,
              "#0d0887"
             ],
             [
              0.1111111111111111,
              "#46039f"
             ],
             [
              0.2222222222222222,
              "#7201a8"
             ],
             [
              0.3333333333333333,
              "#9c179e"
             ],
             [
              0.4444444444444444,
              "#bd3786"
             ],
             [
              0.5555555555555556,
              "#d8576b"
             ],
             [
              0.6666666666666666,
              "#ed7953"
             ],
             [
              0.7777777777777778,
              "#fb9f3a"
             ],
             [
              0.8888888888888888,
              "#fdca26"
             ],
             [
              1,
              "#f0f921"
             ]
            ],
            "type": "histogram2dcontour"
           }
          ],
          "mesh3d": [
           {
            "colorbar": {
             "outlinewidth": 0,
             "ticks": ""
            },
            "type": "mesh3d"
           }
          ],
          "parcoords": [
           {
            "line": {
             "colorbar": {
              "outlinewidth": 0,
              "ticks": ""
             }
            },
            "type": "parcoords"
           }
          ],
          "pie": [
           {
            "automargin": true,
            "type": "pie"
           }
          ],
          "scatter": [
           {
            "marker": {
             "colorbar": {
              "outlinewidth": 0,
              "ticks": ""
             }
            },
            "type": "scatter"
           }
          ],
          "scatter3d": [
           {
            "line": {
             "colorbar": {
              "outlinewidth": 0,
              "ticks": ""
             }
            },
            "marker": {
             "colorbar": {
              "outlinewidth": 0,
              "ticks": ""
             }
            },
            "type": "scatter3d"
           }
          ],
          "scattercarpet": [
           {
            "marker": {
             "colorbar": {
              "outlinewidth": 0,
              "ticks": ""
             }
            },
            "type": "scattercarpet"
           }
          ],
          "scattergeo": [
           {
            "marker": {
             "colorbar": {
              "outlinewidth": 0,
              "ticks": ""
             }
            },
            "type": "scattergeo"
           }
          ],
          "scattergl": [
           {
            "marker": {
             "colorbar": {
              "outlinewidth": 0,
              "ticks": ""
             }
            },
            "type": "scattergl"
           }
          ],
          "scattermapbox": [
           {
            "marker": {
             "colorbar": {
              "outlinewidth": 0,
              "ticks": ""
             }
            },
            "type": "scattermapbox"
           }
          ],
          "scatterpolar": [
           {
            "marker": {
             "colorbar": {
              "outlinewidth": 0,
              "ticks": ""
             }
            },
            "type": "scatterpolar"
           }
          ],
          "scatterpolargl": [
           {
            "marker": {
             "colorbar": {
              "outlinewidth": 0,
              "ticks": ""
             }
            },
            "type": "scatterpolargl"
           }
          ],
          "scatterternary": [
           {
            "marker": {
             "colorbar": {
              "outlinewidth": 0,
              "ticks": ""
             }
            },
            "type": "scatterternary"
           }
          ],
          "surface": [
           {
            "colorbar": {
             "outlinewidth": 0,
             "ticks": ""
            },
            "colorscale": [
             [
              0,
              "#0d0887"
             ],
             [
              0.1111111111111111,
              "#46039f"
             ],
             [
              0.2222222222222222,
              "#7201a8"
             ],
             [
              0.3333333333333333,
              "#9c179e"
             ],
             [
              0.4444444444444444,
              "#bd3786"
             ],
             [
              0.5555555555555556,
              "#d8576b"
             ],
             [
              0.6666666666666666,
              "#ed7953"
             ],
             [
              0.7777777777777778,
              "#fb9f3a"
             ],
             [
              0.8888888888888888,
              "#fdca26"
             ],
             [
              1,
              "#f0f921"
             ]
            ],
            "type": "surface"
           }
          ],
          "table": [
           {
            "cells": {
             "fill": {
              "color": "#EBF0F8"
             },
             "line": {
              "color": "white"
             }
            },
            "header": {
             "fill": {
              "color": "#C8D4E3"
             },
             "line": {
              "color": "white"
             }
            },
            "type": "table"
           }
          ]
         },
         "layout": {
          "annotationdefaults": {
           "arrowcolor": "#2a3f5f",
           "arrowhead": 0,
           "arrowwidth": 1
          },
          "autotypenumbers": "strict",
          "coloraxis": {
           "colorbar": {
            "outlinewidth": 0,
            "ticks": ""
           }
          },
          "colorscale": {
           "diverging": [
            [
             0,
             "#8e0152"
            ],
            [
             0.1,
             "#c51b7d"
            ],
            [
             0.2,
             "#de77ae"
            ],
            [
             0.3,
             "#f1b6da"
            ],
            [
             0.4,
             "#fde0ef"
            ],
            [
             0.5,
             "#f7f7f7"
            ],
            [
             0.6,
             "#e6f5d0"
            ],
            [
             0.7,
             "#b8e186"
            ],
            [
             0.8,
             "#7fbc41"
            ],
            [
             0.9,
             "#4d9221"
            ],
            [
             1,
             "#276419"
            ]
           ],
           "sequential": [
            [
             0,
             "#0d0887"
            ],
            [
             0.1111111111111111,
             "#46039f"
            ],
            [
             0.2222222222222222,
             "#7201a8"
            ],
            [
             0.3333333333333333,
             "#9c179e"
            ],
            [
             0.4444444444444444,
             "#bd3786"
            ],
            [
             0.5555555555555556,
             "#d8576b"
            ],
            [
             0.6666666666666666,
             "#ed7953"
            ],
            [
             0.7777777777777778,
             "#fb9f3a"
            ],
            [
             0.8888888888888888,
             "#fdca26"
            ],
            [
             1,
             "#f0f921"
            ]
           ],
           "sequentialminus": [
            [
             0,
             "#0d0887"
            ],
            [
             0.1111111111111111,
             "#46039f"
            ],
            [
             0.2222222222222222,
             "#7201a8"
            ],
            [
             0.3333333333333333,
             "#9c179e"
            ],
            [
             0.4444444444444444,
             "#bd3786"
            ],
            [
             0.5555555555555556,
             "#d8576b"
            ],
            [
             0.6666666666666666,
             "#ed7953"
            ],
            [
             0.7777777777777778,
             "#fb9f3a"
            ],
            [
             0.8888888888888888,
             "#fdca26"
            ],
            [
             1,
             "#f0f921"
            ]
           ]
          },
          "colorway": [
           "#636efa",
           "#EF553B",
           "#00cc96",
           "#ab63fa",
           "#FFA15A",
           "#19d3f3",
           "#FF6692",
           "#B6E880",
           "#FF97FF",
           "#FECB52"
          ],
          "font": {
           "color": "#2a3f5f"
          },
          "geo": {
           "bgcolor": "white",
           "lakecolor": "white",
           "landcolor": "white",
           "showlakes": true,
           "showland": true,
           "subunitcolor": "#C8D4E3"
          },
          "hoverlabel": {
           "align": "left"
          },
          "hovermode": "closest",
          "mapbox": {
           "style": "light"
          },
          "paper_bgcolor": "white",
          "plot_bgcolor": "white",
          "polar": {
           "angularaxis": {
            "gridcolor": "#EBF0F8",
            "linecolor": "#EBF0F8",
            "ticks": ""
           },
           "bgcolor": "white",
           "radialaxis": {
            "gridcolor": "#EBF0F8",
            "linecolor": "#EBF0F8",
            "ticks": ""
           }
          },
          "scene": {
           "xaxis": {
            "backgroundcolor": "white",
            "gridcolor": "#DFE8F3",
            "gridwidth": 2,
            "linecolor": "#EBF0F8",
            "showbackground": true,
            "ticks": "",
            "zerolinecolor": "#EBF0F8"
           },
           "yaxis": {
            "backgroundcolor": "white",
            "gridcolor": "#DFE8F3",
            "gridwidth": 2,
            "linecolor": "#EBF0F8",
            "showbackground": true,
            "ticks": "",
            "zerolinecolor": "#EBF0F8"
           },
           "zaxis": {
            "backgroundcolor": "white",
            "gridcolor": "#DFE8F3",
            "gridwidth": 2,
            "linecolor": "#EBF0F8",
            "showbackground": true,
            "ticks": "",
            "zerolinecolor": "#EBF0F8"
           }
          },
          "shapedefaults": {
           "line": {
            "color": "#2a3f5f"
           }
          },
          "ternary": {
           "aaxis": {
            "gridcolor": "#DFE8F3",
            "linecolor": "#A2B1C6",
            "ticks": ""
           },
           "baxis": {
            "gridcolor": "#DFE8F3",
            "linecolor": "#A2B1C6",
            "ticks": ""
           },
           "bgcolor": "white",
           "caxis": {
            "gridcolor": "#DFE8F3",
            "linecolor": "#A2B1C6",
            "ticks": ""
           }
          },
          "title": {
           "x": 0.05
          },
          "xaxis": {
           "automargin": true,
           "gridcolor": "#EBF0F8",
           "linecolor": "#EBF0F8",
           "ticks": "",
           "title": {
            "standoff": 15
           },
           "zerolinecolor": "#EBF0F8",
           "zerolinewidth": 2
          },
          "yaxis": {
           "automargin": true,
           "gridcolor": "#EBF0F8",
           "linecolor": "#EBF0F8",
           "ticks": "",
           "title": {
            "standoff": 15
           },
           "zerolinecolor": "#EBF0F8",
           "zerolinewidth": 2
          }
         }
        },
        "title": {
         "text": "Shot counts in each season in Ligue1"
        },
        "uniformtext": {
         "minsize": 5,
         "mode": "hide"
        },
        "xaxis": {
         "ticktext": [
          "2009-2010",
          "2010-2011",
          "2011-2012",
          "2012-2013",
          "2013-2014",
          "2014-2015",
          "2015-2016",
          "2016-2017",
          "2017-2018",
          "2018-2019",
          "2019-2020",
          "2020-2021",
          "2021-2022"
         ],
         "tickvals": [
          2009,
          2010,
          2011,
          2012,
          2013,
          2014,
          2015,
          2016,
          2017,
          2018,
          2019,
          2020,
          2021
         ],
         "title": {
          "text": "Season"
         }
        },
        "yaxis": {
         "title": {
          "text": "Count"
         }
        }
       }
      }
     },
     "metadata": {},
     "output_type": "display_data"
    }
   ],
   "source": [
    "stacked_bar_shots(LEAGUE[3])"
   ]
  },
  {
   "cell_type": "code",
   "execution_count": 103,
   "metadata": {},
   "outputs": [
    {
     "data": {
      "application/vnd.plotly.v1+json": {
       "config": {
        "plotlyServerURL": "https://plot.ly"
       },
       "data": [
        {
         "marker": {
          "color": "indianred"
         },
         "name": "Shots on target",
         "text": [
          4.55,
          4.46,
          4.4,
          4.41,
          4.47,
          4.3,
          4.18,
          4.66,
          4.35,
          4.44,
          4.86,
          4.31
         ],
         "textposition": "auto",
         "type": "bar",
         "x": [
          2009,
          2010,
          2011,
          2012,
          2013,
          2014,
          2015,
          2016,
          2017,
          2018,
          2019,
          2020
         ],
         "y": [
          4.55,
          4.46,
          4.4,
          4.414999999999999,
          4.475,
          4.305,
          4.18,
          4.655,
          4.35,
          4.4399999999999995,
          4.859999999999999,
          4.31
         ]
        },
        {
         "marker": {
          "color": "aquamarine"
         },
         "name": "Shots missed target",
         "text": [
          13.46,
          13.81,
          13.36,
          13.22,
          13.4,
          13.21,
          12.92,
          13.34,
          12.89,
          13.91,
          14.31,
          12.48
         ],
         "textposition": "auto",
         "type": "bar",
         "x": [
          2009,
          2010,
          2011,
          2012,
          2013,
          2014,
          2015,
          2016,
          2017,
          2018,
          2019,
          2020
         ],
         "y": [
          8.91,
          9.345,
          8.96,
          8.804999999999996,
          8.930000000000001,
          8.905,
          8.735000000000003,
          8.68,
          8.540000000000001,
          9.47,
          9.444999999999997,
          8.169999999999998
         ]
        }
       ],
       "layout": {
        "bargap": 0.3,
        "barmode": "stack",
        "template": {
         "data": {
          "bar": [
           {
            "error_x": {
             "color": "#2a3f5f"
            },
            "error_y": {
             "color": "#2a3f5f"
            },
            "marker": {
             "line": {
              "color": "white",
              "width": 0.5
             },
             "pattern": {
              "fillmode": "overlay",
              "size": 10,
              "solidity": 0.2
             }
            },
            "type": "bar"
           }
          ],
          "barpolar": [
           {
            "marker": {
             "line": {
              "color": "white",
              "width": 0.5
             },
             "pattern": {
              "fillmode": "overlay",
              "size": 10,
              "solidity": 0.2
             }
            },
            "type": "barpolar"
           }
          ],
          "carpet": [
           {
            "aaxis": {
             "endlinecolor": "#2a3f5f",
             "gridcolor": "#C8D4E3",
             "linecolor": "#C8D4E3",
             "minorgridcolor": "#C8D4E3",
             "startlinecolor": "#2a3f5f"
            },
            "baxis": {
             "endlinecolor": "#2a3f5f",
             "gridcolor": "#C8D4E3",
             "linecolor": "#C8D4E3",
             "minorgridcolor": "#C8D4E3",
             "startlinecolor": "#2a3f5f"
            },
            "type": "carpet"
           }
          ],
          "choropleth": [
           {
            "colorbar": {
             "outlinewidth": 0,
             "ticks": ""
            },
            "type": "choropleth"
           }
          ],
          "contour": [
           {
            "colorbar": {
             "outlinewidth": 0,
             "ticks": ""
            },
            "colorscale": [
             [
              0,
              "#0d0887"
             ],
             [
              0.1111111111111111,
              "#46039f"
             ],
             [
              0.2222222222222222,
              "#7201a8"
             ],
             [
              0.3333333333333333,
              "#9c179e"
             ],
             [
              0.4444444444444444,
              "#bd3786"
             ],
             [
              0.5555555555555556,
              "#d8576b"
             ],
             [
              0.6666666666666666,
              "#ed7953"
             ],
             [
              0.7777777777777778,
              "#fb9f3a"
             ],
             [
              0.8888888888888888,
              "#fdca26"
             ],
             [
              1,
              "#f0f921"
             ]
            ],
            "type": "contour"
           }
          ],
          "contourcarpet": [
           {
            "colorbar": {
             "outlinewidth": 0,
             "ticks": ""
            },
            "type": "contourcarpet"
           }
          ],
          "heatmap": [
           {
            "colorbar": {
             "outlinewidth": 0,
             "ticks": ""
            },
            "colorscale": [
             [
              0,
              "#0d0887"
             ],
             [
              0.1111111111111111,
              "#46039f"
             ],
             [
              0.2222222222222222,
              "#7201a8"
             ],
             [
              0.3333333333333333,
              "#9c179e"
             ],
             [
              0.4444444444444444,
              "#bd3786"
             ],
             [
              0.5555555555555556,
              "#d8576b"
             ],
             [
              0.6666666666666666,
              "#ed7953"
             ],
             [
              0.7777777777777778,
              "#fb9f3a"
             ],
             [
              0.8888888888888888,
              "#fdca26"
             ],
             [
              1,
              "#f0f921"
             ]
            ],
            "type": "heatmap"
           }
          ],
          "heatmapgl": [
           {
            "colorbar": {
             "outlinewidth": 0,
             "ticks": ""
            },
            "colorscale": [
             [
              0,
              "#0d0887"
             ],
             [
              0.1111111111111111,
              "#46039f"
             ],
             [
              0.2222222222222222,
              "#7201a8"
             ],
             [
              0.3333333333333333,
              "#9c179e"
             ],
             [
              0.4444444444444444,
              "#bd3786"
             ],
             [
              0.5555555555555556,
              "#d8576b"
             ],
             [
              0.6666666666666666,
              "#ed7953"
             ],
             [
              0.7777777777777778,
              "#fb9f3a"
             ],
             [
              0.8888888888888888,
              "#fdca26"
             ],
             [
              1,
              "#f0f921"
             ]
            ],
            "type": "heatmapgl"
           }
          ],
          "histogram": [
           {
            "marker": {
             "pattern": {
              "fillmode": "overlay",
              "size": 10,
              "solidity": 0.2
             }
            },
            "type": "histogram"
           }
          ],
          "histogram2d": [
           {
            "colorbar": {
             "outlinewidth": 0,
             "ticks": ""
            },
            "colorscale": [
             [
              0,
              "#0d0887"
             ],
             [
              0.1111111111111111,
              "#46039f"
             ],
             [
              0.2222222222222222,
              "#7201a8"
             ],
             [
              0.3333333333333333,
              "#9c179e"
             ],
             [
              0.4444444444444444,
              "#bd3786"
             ],
             [
              0.5555555555555556,
              "#d8576b"
             ],
             [
              0.6666666666666666,
              "#ed7953"
             ],
             [
              0.7777777777777778,
              "#fb9f3a"
             ],
             [
              0.8888888888888888,
              "#fdca26"
             ],
             [
              1,
              "#f0f921"
             ]
            ],
            "type": "histogram2d"
           }
          ],
          "histogram2dcontour": [
           {
            "colorbar": {
             "outlinewidth": 0,
             "ticks": ""
            },
            "colorscale": [
             [
              0,
              "#0d0887"
             ],
             [
              0.1111111111111111,
              "#46039f"
             ],
             [
              0.2222222222222222,
              "#7201a8"
             ],
             [
              0.3333333333333333,
              "#9c179e"
             ],
             [
              0.4444444444444444,
              "#bd3786"
             ],
             [
              0.5555555555555556,
              "#d8576b"
             ],
             [
              0.6666666666666666,
              "#ed7953"
             ],
             [
              0.7777777777777778,
              "#fb9f3a"
             ],
             [
              0.8888888888888888,
              "#fdca26"
             ],
             [
              1,
              "#f0f921"
             ]
            ],
            "type": "histogram2dcontour"
           }
          ],
          "mesh3d": [
           {
            "colorbar": {
             "outlinewidth": 0,
             "ticks": ""
            },
            "type": "mesh3d"
           }
          ],
          "parcoords": [
           {
            "line": {
             "colorbar": {
              "outlinewidth": 0,
              "ticks": ""
             }
            },
            "type": "parcoords"
           }
          ],
          "pie": [
           {
            "automargin": true,
            "type": "pie"
           }
          ],
          "scatter": [
           {
            "marker": {
             "colorbar": {
              "outlinewidth": 0,
              "ticks": ""
             }
            },
            "type": "scatter"
           }
          ],
          "scatter3d": [
           {
            "line": {
             "colorbar": {
              "outlinewidth": 0,
              "ticks": ""
             }
            },
            "marker": {
             "colorbar": {
              "outlinewidth": 0,
              "ticks": ""
             }
            },
            "type": "scatter3d"
           }
          ],
          "scattercarpet": [
           {
            "marker": {
             "colorbar": {
              "outlinewidth": 0,
              "ticks": ""
             }
            },
            "type": "scattercarpet"
           }
          ],
          "scattergeo": [
           {
            "marker": {
             "colorbar": {
              "outlinewidth": 0,
              "ticks": ""
             }
            },
            "type": "scattergeo"
           }
          ],
          "scattergl": [
           {
            "marker": {
             "colorbar": {
              "outlinewidth": 0,
              "ticks": ""
             }
            },
            "type": "scattergl"
           }
          ],
          "scattermapbox": [
           {
            "marker": {
             "colorbar": {
              "outlinewidth": 0,
              "ticks": ""
             }
            },
            "type": "scattermapbox"
           }
          ],
          "scatterpolar": [
           {
            "marker": {
             "colorbar": {
              "outlinewidth": 0,
              "ticks": ""
             }
            },
            "type": "scatterpolar"
           }
          ],
          "scatterpolargl": [
           {
            "marker": {
             "colorbar": {
              "outlinewidth": 0,
              "ticks": ""
             }
            },
            "type": "scatterpolargl"
           }
          ],
          "scatterternary": [
           {
            "marker": {
             "colorbar": {
              "outlinewidth": 0,
              "ticks": ""
             }
            },
            "type": "scatterternary"
           }
          ],
          "surface": [
           {
            "colorbar": {
             "outlinewidth": 0,
             "ticks": ""
            },
            "colorscale": [
             [
              0,
              "#0d0887"
             ],
             [
              0.1111111111111111,
              "#46039f"
             ],
             [
              0.2222222222222222,
              "#7201a8"
             ],
             [
              0.3333333333333333,
              "#9c179e"
             ],
             [
              0.4444444444444444,
              "#bd3786"
             ],
             [
              0.5555555555555556,
              "#d8576b"
             ],
             [
              0.6666666666666666,
              "#ed7953"
             ],
             [
              0.7777777777777778,
              "#fb9f3a"
             ],
             [
              0.8888888888888888,
              "#fdca26"
             ],
             [
              1,
              "#f0f921"
             ]
            ],
            "type": "surface"
           }
          ],
          "table": [
           {
            "cells": {
             "fill": {
              "color": "#EBF0F8"
             },
             "line": {
              "color": "white"
             }
            },
            "header": {
             "fill": {
              "color": "#C8D4E3"
             },
             "line": {
              "color": "white"
             }
            },
            "type": "table"
           }
          ]
         },
         "layout": {
          "annotationdefaults": {
           "arrowcolor": "#2a3f5f",
           "arrowhead": 0,
           "arrowwidth": 1
          },
          "autotypenumbers": "strict",
          "coloraxis": {
           "colorbar": {
            "outlinewidth": 0,
            "ticks": ""
           }
          },
          "colorscale": {
           "diverging": [
            [
             0,
             "#8e0152"
            ],
            [
             0.1,
             "#c51b7d"
            ],
            [
             0.2,
             "#de77ae"
            ],
            [
             0.3,
             "#f1b6da"
            ],
            [
             0.4,
             "#fde0ef"
            ],
            [
             0.5,
             "#f7f7f7"
            ],
            [
             0.6,
             "#e6f5d0"
            ],
            [
             0.7,
             "#b8e186"
            ],
            [
             0.8,
             "#7fbc41"
            ],
            [
             0.9,
             "#4d9221"
            ],
            [
             1,
             "#276419"
            ]
           ],
           "sequential": [
            [
             0,
             "#0d0887"
            ],
            [
             0.1111111111111111,
             "#46039f"
            ],
            [
             0.2222222222222222,
             "#7201a8"
            ],
            [
             0.3333333333333333,
             "#9c179e"
            ],
            [
             0.4444444444444444,
             "#bd3786"
            ],
            [
             0.5555555555555556,
             "#d8576b"
            ],
            [
             0.6666666666666666,
             "#ed7953"
            ],
            [
             0.7777777777777778,
             "#fb9f3a"
            ],
            [
             0.8888888888888888,
             "#fdca26"
            ],
            [
             1,
             "#f0f921"
            ]
           ],
           "sequentialminus": [
            [
             0,
             "#0d0887"
            ],
            [
             0.1111111111111111,
             "#46039f"
            ],
            [
             0.2222222222222222,
             "#7201a8"
            ],
            [
             0.3333333333333333,
             "#9c179e"
            ],
            [
             0.4444444444444444,
             "#bd3786"
            ],
            [
             0.5555555555555556,
             "#d8576b"
            ],
            [
             0.6666666666666666,
             "#ed7953"
            ],
            [
             0.7777777777777778,
             "#fb9f3a"
            ],
            [
             0.8888888888888888,
             "#fdca26"
            ],
            [
             1,
             "#f0f921"
            ]
           ]
          },
          "colorway": [
           "#636efa",
           "#EF553B",
           "#00cc96",
           "#ab63fa",
           "#FFA15A",
           "#19d3f3",
           "#FF6692",
           "#B6E880",
           "#FF97FF",
           "#FECB52"
          ],
          "font": {
           "color": "#2a3f5f"
          },
          "geo": {
           "bgcolor": "white",
           "lakecolor": "white",
           "landcolor": "white",
           "showlakes": true,
           "showland": true,
           "subunitcolor": "#C8D4E3"
          },
          "hoverlabel": {
           "align": "left"
          },
          "hovermode": "closest",
          "mapbox": {
           "style": "light"
          },
          "paper_bgcolor": "white",
          "plot_bgcolor": "white",
          "polar": {
           "angularaxis": {
            "gridcolor": "#EBF0F8",
            "linecolor": "#EBF0F8",
            "ticks": ""
           },
           "bgcolor": "white",
           "radialaxis": {
            "gridcolor": "#EBF0F8",
            "linecolor": "#EBF0F8",
            "ticks": ""
           }
          },
          "scene": {
           "xaxis": {
            "backgroundcolor": "white",
            "gridcolor": "#DFE8F3",
            "gridwidth": 2,
            "linecolor": "#EBF0F8",
            "showbackground": true,
            "ticks": "",
            "zerolinecolor": "#EBF0F8"
           },
           "yaxis": {
            "backgroundcolor": "white",
            "gridcolor": "#DFE8F3",
            "gridwidth": 2,
            "linecolor": "#EBF0F8",
            "showbackground": true,
            "ticks": "",
            "zerolinecolor": "#EBF0F8"
           },
           "zaxis": {
            "backgroundcolor": "white",
            "gridcolor": "#DFE8F3",
            "gridwidth": 2,
            "linecolor": "#EBF0F8",
            "showbackground": true,
            "ticks": "",
            "zerolinecolor": "#EBF0F8"
           }
          },
          "shapedefaults": {
           "line": {
            "color": "#2a3f5f"
           }
          },
          "ternary": {
           "aaxis": {
            "gridcolor": "#DFE8F3",
            "linecolor": "#A2B1C6",
            "ticks": ""
           },
           "baxis": {
            "gridcolor": "#DFE8F3",
            "linecolor": "#A2B1C6",
            "ticks": ""
           },
           "bgcolor": "white",
           "caxis": {
            "gridcolor": "#DFE8F3",
            "linecolor": "#A2B1C6",
            "ticks": ""
           }
          },
          "title": {
           "x": 0.05
          },
          "xaxis": {
           "automargin": true,
           "gridcolor": "#EBF0F8",
           "linecolor": "#EBF0F8",
           "ticks": "",
           "title": {
            "standoff": 15
           },
           "zerolinecolor": "#EBF0F8",
           "zerolinewidth": 2
          },
          "yaxis": {
           "automargin": true,
           "gridcolor": "#EBF0F8",
           "linecolor": "#EBF0F8",
           "ticks": "",
           "title": {
            "standoff": 15
           },
           "zerolinecolor": "#EBF0F8",
           "zerolinewidth": 2
          }
         }
        },
        "title": {
         "text": "Shot counts in each season in SerieA"
        },
        "uniformtext": {
         "minsize": 5,
         "mode": "hide"
        },
        "xaxis": {
         "ticktext": [
          "2009-2010",
          "2010-2011",
          "2011-2012",
          "2012-2013",
          "2013-2014",
          "2014-2015",
          "2015-2016",
          "2016-2017",
          "2017-2018",
          "2018-2019",
          "2019-2020",
          "2020-2021",
          "2021-2022"
         ],
         "tickvals": [
          2009,
          2010,
          2011,
          2012,
          2013,
          2014,
          2015,
          2016,
          2017,
          2018,
          2019,
          2020,
          2021
         ],
         "title": {
          "text": "Season"
         }
        },
        "yaxis": {
         "title": {
          "text": "Count"
         }
        }
       }
      }
     },
     "metadata": {},
     "output_type": "display_data"
    }
   ],
   "source": [
    "stacked_bar_shots(LEAGUE[4])"
   ]
  },
  {
   "cell_type": "markdown",
   "metadata": {},
   "source": [
    "#### Shot distribution"
   ]
  },
  {
   "cell_type": "code",
   "execution_count": 120,
   "metadata": {},
   "outputs": [],
   "source": [
    "def box_plot_shot(league, shot_col):\n",
    "    temp = df[df[\"league\"] == league]\n",
    "    fig = go.Figure()\n",
    "    for season in range(2009, 2021):\n",
    "        fig.add_trace(\n",
    "            go.Box(\n",
    "                y=temp[shot_col],\n",
    "                name=season, \n",
    "                fillcolor='yellow',\n",
    "                line={'color' : 'orange'},\n",
    "                showlegend=False\n",
    "            )\n",
    "        )\n",
    "    fig.show()"
   ]
  },
  {
   "cell_type": "code",
   "execution_count": 121,
   "metadata": {},
   "outputs": [
    {
     "data": {
      "application/vnd.plotly.v1+json": {
       "config": {
        "plotlyServerURL": "https://plot.ly"
       },
       "data": [
        {
         "fillcolor": "yellow",
         "line": {
          "color": "orange"
         },
         "name": "2009",
         "showlegend": false,
         "type": "box",
         "y": [
          12.5,
          14.3,
          14.3,
          15.6,
          13.2,
          10.8,
          12.1,
          12.2,
          12.8,
          11.7,
          14.5,
          13.5,
          9.5,
          14.6,
          15.8,
          12.1,
          14.5,
          10.1,
          14.1,
          13.7,
          13.5,
          11.5,
          12.4,
          13.5,
          12.8,
          11.5,
          11.4,
          12.2,
          15,
          10.9,
          14,
          16.9,
          10.7,
          12.5,
          11.9,
          13.5,
          12.9,
          12.6,
          13.7,
          12.4,
          12,
          16.6,
          11.1,
          15.7,
          13,
          12.2,
          12.6,
          13.4,
          14.9,
          13.9,
          8.9,
          11.4,
          13.2,
          12.6,
          12.9,
          11.4,
          13.9,
          10.9,
          9.3,
          12.3,
          11.1,
          12.6,
          14.6,
          16.1,
          14.6,
          11.3,
          10.8,
          16.4,
          17.1,
          10.6,
          10.4,
          13.1,
          12.6,
          14.9,
          18.7,
          11.6,
          12.7,
          11.3,
          15.2,
          14.1,
          10.9,
          18.1,
          15.4,
          14.6,
          13.8,
          11,
          14.7,
          12,
          13.1,
          12,
          13.5,
          10.8,
          12.2,
          8.8,
          16.3,
          17.2,
          12.4,
          12.6,
          12.6,
          16.7,
          14.8,
          12.1,
          12.9,
          11.3,
          11.4,
          15.3,
          10.8,
          13.4,
          10.2,
          14.3,
          14.3,
          11,
          11.2,
          15.6,
          14.5,
          11.4,
          12.2,
          18.4,
          14.6,
          13.4,
          11.3,
          9.7,
          10.7,
          12.5,
          13,
          13.4,
          12,
          18.3,
          13.4,
          10.6,
          12.2,
          10.9,
          13.1,
          14.6,
          12.1,
          13,
          11.1,
          13,
          12.7,
          15.6,
          11.2,
          10.6,
          10.2,
          10,
          11.6,
          11.3,
          14.4,
          11.9,
          12.2,
          11.5,
          12.8,
          9.4,
          12.9,
          10.7,
          14,
          11.4,
          17.7,
          14.3,
          12.8,
          15,
          10.4,
          13.4,
          12.5,
          12.5,
          15.2,
          10.6,
          14.6,
          18,
          11.9,
          12.2,
          13.4,
          18.7,
          13.5,
          12.3,
          12,
          14.6,
          12.4,
          13.9,
          13.2,
          11.3,
          16.2,
          12.3,
          14.1,
          14.5,
          13.3,
          18.1,
          10.7,
          11.8,
          13.2,
          12.6,
          14.8,
          12.7,
          10.6,
          13.1,
          12.5,
          11.3,
          13.3,
          14,
          9.9,
          12.6,
          9.8,
          13.4,
          11.1,
          17.1,
          13.2,
          10.6,
          11.4,
          14.1,
          11.7,
          11.3,
          13.4,
          16,
          10.6,
          14.6,
          13,
          8.9
         ]
        },
        {
         "fillcolor": "yellow",
         "line": {
          "color": "orange"
         },
         "name": "2010",
         "showlegend": false,
         "type": "box",
         "y": [
          12.5,
          14.3,
          14.3,
          15.6,
          13.2,
          10.8,
          12.1,
          12.2,
          12.8,
          11.7,
          14.5,
          13.5,
          9.5,
          14.6,
          15.8,
          12.1,
          14.5,
          10.1,
          14.1,
          13.7,
          13.5,
          11.5,
          12.4,
          13.5,
          12.8,
          11.5,
          11.4,
          12.2,
          15,
          10.9,
          14,
          16.9,
          10.7,
          12.5,
          11.9,
          13.5,
          12.9,
          12.6,
          13.7,
          12.4,
          12,
          16.6,
          11.1,
          15.7,
          13,
          12.2,
          12.6,
          13.4,
          14.9,
          13.9,
          8.9,
          11.4,
          13.2,
          12.6,
          12.9,
          11.4,
          13.9,
          10.9,
          9.3,
          12.3,
          11.1,
          12.6,
          14.6,
          16.1,
          14.6,
          11.3,
          10.8,
          16.4,
          17.1,
          10.6,
          10.4,
          13.1,
          12.6,
          14.9,
          18.7,
          11.6,
          12.7,
          11.3,
          15.2,
          14.1,
          10.9,
          18.1,
          15.4,
          14.6,
          13.8,
          11,
          14.7,
          12,
          13.1,
          12,
          13.5,
          10.8,
          12.2,
          8.8,
          16.3,
          17.2,
          12.4,
          12.6,
          12.6,
          16.7,
          14.8,
          12.1,
          12.9,
          11.3,
          11.4,
          15.3,
          10.8,
          13.4,
          10.2,
          14.3,
          14.3,
          11,
          11.2,
          15.6,
          14.5,
          11.4,
          12.2,
          18.4,
          14.6,
          13.4,
          11.3,
          9.7,
          10.7,
          12.5,
          13,
          13.4,
          12,
          18.3,
          13.4,
          10.6,
          12.2,
          10.9,
          13.1,
          14.6,
          12.1,
          13,
          11.1,
          13,
          12.7,
          15.6,
          11.2,
          10.6,
          10.2,
          10,
          11.6,
          11.3,
          14.4,
          11.9,
          12.2,
          11.5,
          12.8,
          9.4,
          12.9,
          10.7,
          14,
          11.4,
          17.7,
          14.3,
          12.8,
          15,
          10.4,
          13.4,
          12.5,
          12.5,
          15.2,
          10.6,
          14.6,
          18,
          11.9,
          12.2,
          13.4,
          18.7,
          13.5,
          12.3,
          12,
          14.6,
          12.4,
          13.9,
          13.2,
          11.3,
          16.2,
          12.3,
          14.1,
          14.5,
          13.3,
          18.1,
          10.7,
          11.8,
          13.2,
          12.6,
          14.8,
          12.7,
          10.6,
          13.1,
          12.5,
          11.3,
          13.3,
          14,
          9.9,
          12.6,
          9.8,
          13.4,
          11.1,
          17.1,
          13.2,
          10.6,
          11.4,
          14.1,
          11.7,
          11.3,
          13.4,
          16,
          10.6,
          14.6,
          13,
          8.9
         ]
        },
        {
         "fillcolor": "yellow",
         "line": {
          "color": "orange"
         },
         "name": "2011",
         "showlegend": false,
         "type": "box",
         "y": [
          12.5,
          14.3,
          14.3,
          15.6,
          13.2,
          10.8,
          12.1,
          12.2,
          12.8,
          11.7,
          14.5,
          13.5,
          9.5,
          14.6,
          15.8,
          12.1,
          14.5,
          10.1,
          14.1,
          13.7,
          13.5,
          11.5,
          12.4,
          13.5,
          12.8,
          11.5,
          11.4,
          12.2,
          15,
          10.9,
          14,
          16.9,
          10.7,
          12.5,
          11.9,
          13.5,
          12.9,
          12.6,
          13.7,
          12.4,
          12,
          16.6,
          11.1,
          15.7,
          13,
          12.2,
          12.6,
          13.4,
          14.9,
          13.9,
          8.9,
          11.4,
          13.2,
          12.6,
          12.9,
          11.4,
          13.9,
          10.9,
          9.3,
          12.3,
          11.1,
          12.6,
          14.6,
          16.1,
          14.6,
          11.3,
          10.8,
          16.4,
          17.1,
          10.6,
          10.4,
          13.1,
          12.6,
          14.9,
          18.7,
          11.6,
          12.7,
          11.3,
          15.2,
          14.1,
          10.9,
          18.1,
          15.4,
          14.6,
          13.8,
          11,
          14.7,
          12,
          13.1,
          12,
          13.5,
          10.8,
          12.2,
          8.8,
          16.3,
          17.2,
          12.4,
          12.6,
          12.6,
          16.7,
          14.8,
          12.1,
          12.9,
          11.3,
          11.4,
          15.3,
          10.8,
          13.4,
          10.2,
          14.3,
          14.3,
          11,
          11.2,
          15.6,
          14.5,
          11.4,
          12.2,
          18.4,
          14.6,
          13.4,
          11.3,
          9.7,
          10.7,
          12.5,
          13,
          13.4,
          12,
          18.3,
          13.4,
          10.6,
          12.2,
          10.9,
          13.1,
          14.6,
          12.1,
          13,
          11.1,
          13,
          12.7,
          15.6,
          11.2,
          10.6,
          10.2,
          10,
          11.6,
          11.3,
          14.4,
          11.9,
          12.2,
          11.5,
          12.8,
          9.4,
          12.9,
          10.7,
          14,
          11.4,
          17.7,
          14.3,
          12.8,
          15,
          10.4,
          13.4,
          12.5,
          12.5,
          15.2,
          10.6,
          14.6,
          18,
          11.9,
          12.2,
          13.4,
          18.7,
          13.5,
          12.3,
          12,
          14.6,
          12.4,
          13.9,
          13.2,
          11.3,
          16.2,
          12.3,
          14.1,
          14.5,
          13.3,
          18.1,
          10.7,
          11.8,
          13.2,
          12.6,
          14.8,
          12.7,
          10.6,
          13.1,
          12.5,
          11.3,
          13.3,
          14,
          9.9,
          12.6,
          9.8,
          13.4,
          11.1,
          17.1,
          13.2,
          10.6,
          11.4,
          14.1,
          11.7,
          11.3,
          13.4,
          16,
          10.6,
          14.6,
          13,
          8.9
         ]
        },
        {
         "fillcolor": "yellow",
         "line": {
          "color": "orange"
         },
         "name": "2012",
         "showlegend": false,
         "type": "box",
         "y": [
          12.5,
          14.3,
          14.3,
          15.6,
          13.2,
          10.8,
          12.1,
          12.2,
          12.8,
          11.7,
          14.5,
          13.5,
          9.5,
          14.6,
          15.8,
          12.1,
          14.5,
          10.1,
          14.1,
          13.7,
          13.5,
          11.5,
          12.4,
          13.5,
          12.8,
          11.5,
          11.4,
          12.2,
          15,
          10.9,
          14,
          16.9,
          10.7,
          12.5,
          11.9,
          13.5,
          12.9,
          12.6,
          13.7,
          12.4,
          12,
          16.6,
          11.1,
          15.7,
          13,
          12.2,
          12.6,
          13.4,
          14.9,
          13.9,
          8.9,
          11.4,
          13.2,
          12.6,
          12.9,
          11.4,
          13.9,
          10.9,
          9.3,
          12.3,
          11.1,
          12.6,
          14.6,
          16.1,
          14.6,
          11.3,
          10.8,
          16.4,
          17.1,
          10.6,
          10.4,
          13.1,
          12.6,
          14.9,
          18.7,
          11.6,
          12.7,
          11.3,
          15.2,
          14.1,
          10.9,
          18.1,
          15.4,
          14.6,
          13.8,
          11,
          14.7,
          12,
          13.1,
          12,
          13.5,
          10.8,
          12.2,
          8.8,
          16.3,
          17.2,
          12.4,
          12.6,
          12.6,
          16.7,
          14.8,
          12.1,
          12.9,
          11.3,
          11.4,
          15.3,
          10.8,
          13.4,
          10.2,
          14.3,
          14.3,
          11,
          11.2,
          15.6,
          14.5,
          11.4,
          12.2,
          18.4,
          14.6,
          13.4,
          11.3,
          9.7,
          10.7,
          12.5,
          13,
          13.4,
          12,
          18.3,
          13.4,
          10.6,
          12.2,
          10.9,
          13.1,
          14.6,
          12.1,
          13,
          11.1,
          13,
          12.7,
          15.6,
          11.2,
          10.6,
          10.2,
          10,
          11.6,
          11.3,
          14.4,
          11.9,
          12.2,
          11.5,
          12.8,
          9.4,
          12.9,
          10.7,
          14,
          11.4,
          17.7,
          14.3,
          12.8,
          15,
          10.4,
          13.4,
          12.5,
          12.5,
          15.2,
          10.6,
          14.6,
          18,
          11.9,
          12.2,
          13.4,
          18.7,
          13.5,
          12.3,
          12,
          14.6,
          12.4,
          13.9,
          13.2,
          11.3,
          16.2,
          12.3,
          14.1,
          14.5,
          13.3,
          18.1,
          10.7,
          11.8,
          13.2,
          12.6,
          14.8,
          12.7,
          10.6,
          13.1,
          12.5,
          11.3,
          13.3,
          14,
          9.9,
          12.6,
          9.8,
          13.4,
          11.1,
          17.1,
          13.2,
          10.6,
          11.4,
          14.1,
          11.7,
          11.3,
          13.4,
          16,
          10.6,
          14.6,
          13,
          8.9
         ]
        },
        {
         "fillcolor": "yellow",
         "line": {
          "color": "orange"
         },
         "name": "2013",
         "showlegend": false,
         "type": "box",
         "y": [
          12.5,
          14.3,
          14.3,
          15.6,
          13.2,
          10.8,
          12.1,
          12.2,
          12.8,
          11.7,
          14.5,
          13.5,
          9.5,
          14.6,
          15.8,
          12.1,
          14.5,
          10.1,
          14.1,
          13.7,
          13.5,
          11.5,
          12.4,
          13.5,
          12.8,
          11.5,
          11.4,
          12.2,
          15,
          10.9,
          14,
          16.9,
          10.7,
          12.5,
          11.9,
          13.5,
          12.9,
          12.6,
          13.7,
          12.4,
          12,
          16.6,
          11.1,
          15.7,
          13,
          12.2,
          12.6,
          13.4,
          14.9,
          13.9,
          8.9,
          11.4,
          13.2,
          12.6,
          12.9,
          11.4,
          13.9,
          10.9,
          9.3,
          12.3,
          11.1,
          12.6,
          14.6,
          16.1,
          14.6,
          11.3,
          10.8,
          16.4,
          17.1,
          10.6,
          10.4,
          13.1,
          12.6,
          14.9,
          18.7,
          11.6,
          12.7,
          11.3,
          15.2,
          14.1,
          10.9,
          18.1,
          15.4,
          14.6,
          13.8,
          11,
          14.7,
          12,
          13.1,
          12,
          13.5,
          10.8,
          12.2,
          8.8,
          16.3,
          17.2,
          12.4,
          12.6,
          12.6,
          16.7,
          14.8,
          12.1,
          12.9,
          11.3,
          11.4,
          15.3,
          10.8,
          13.4,
          10.2,
          14.3,
          14.3,
          11,
          11.2,
          15.6,
          14.5,
          11.4,
          12.2,
          18.4,
          14.6,
          13.4,
          11.3,
          9.7,
          10.7,
          12.5,
          13,
          13.4,
          12,
          18.3,
          13.4,
          10.6,
          12.2,
          10.9,
          13.1,
          14.6,
          12.1,
          13,
          11.1,
          13,
          12.7,
          15.6,
          11.2,
          10.6,
          10.2,
          10,
          11.6,
          11.3,
          14.4,
          11.9,
          12.2,
          11.5,
          12.8,
          9.4,
          12.9,
          10.7,
          14,
          11.4,
          17.7,
          14.3,
          12.8,
          15,
          10.4,
          13.4,
          12.5,
          12.5,
          15.2,
          10.6,
          14.6,
          18,
          11.9,
          12.2,
          13.4,
          18.7,
          13.5,
          12.3,
          12,
          14.6,
          12.4,
          13.9,
          13.2,
          11.3,
          16.2,
          12.3,
          14.1,
          14.5,
          13.3,
          18.1,
          10.7,
          11.8,
          13.2,
          12.6,
          14.8,
          12.7,
          10.6,
          13.1,
          12.5,
          11.3,
          13.3,
          14,
          9.9,
          12.6,
          9.8,
          13.4,
          11.1,
          17.1,
          13.2,
          10.6,
          11.4,
          14.1,
          11.7,
          11.3,
          13.4,
          16,
          10.6,
          14.6,
          13,
          8.9
         ]
        },
        {
         "fillcolor": "yellow",
         "line": {
          "color": "orange"
         },
         "name": "2014",
         "showlegend": false,
         "type": "box",
         "y": [
          12.5,
          14.3,
          14.3,
          15.6,
          13.2,
          10.8,
          12.1,
          12.2,
          12.8,
          11.7,
          14.5,
          13.5,
          9.5,
          14.6,
          15.8,
          12.1,
          14.5,
          10.1,
          14.1,
          13.7,
          13.5,
          11.5,
          12.4,
          13.5,
          12.8,
          11.5,
          11.4,
          12.2,
          15,
          10.9,
          14,
          16.9,
          10.7,
          12.5,
          11.9,
          13.5,
          12.9,
          12.6,
          13.7,
          12.4,
          12,
          16.6,
          11.1,
          15.7,
          13,
          12.2,
          12.6,
          13.4,
          14.9,
          13.9,
          8.9,
          11.4,
          13.2,
          12.6,
          12.9,
          11.4,
          13.9,
          10.9,
          9.3,
          12.3,
          11.1,
          12.6,
          14.6,
          16.1,
          14.6,
          11.3,
          10.8,
          16.4,
          17.1,
          10.6,
          10.4,
          13.1,
          12.6,
          14.9,
          18.7,
          11.6,
          12.7,
          11.3,
          15.2,
          14.1,
          10.9,
          18.1,
          15.4,
          14.6,
          13.8,
          11,
          14.7,
          12,
          13.1,
          12,
          13.5,
          10.8,
          12.2,
          8.8,
          16.3,
          17.2,
          12.4,
          12.6,
          12.6,
          16.7,
          14.8,
          12.1,
          12.9,
          11.3,
          11.4,
          15.3,
          10.8,
          13.4,
          10.2,
          14.3,
          14.3,
          11,
          11.2,
          15.6,
          14.5,
          11.4,
          12.2,
          18.4,
          14.6,
          13.4,
          11.3,
          9.7,
          10.7,
          12.5,
          13,
          13.4,
          12,
          18.3,
          13.4,
          10.6,
          12.2,
          10.9,
          13.1,
          14.6,
          12.1,
          13,
          11.1,
          13,
          12.7,
          15.6,
          11.2,
          10.6,
          10.2,
          10,
          11.6,
          11.3,
          14.4,
          11.9,
          12.2,
          11.5,
          12.8,
          9.4,
          12.9,
          10.7,
          14,
          11.4,
          17.7,
          14.3,
          12.8,
          15,
          10.4,
          13.4,
          12.5,
          12.5,
          15.2,
          10.6,
          14.6,
          18,
          11.9,
          12.2,
          13.4,
          18.7,
          13.5,
          12.3,
          12,
          14.6,
          12.4,
          13.9,
          13.2,
          11.3,
          16.2,
          12.3,
          14.1,
          14.5,
          13.3,
          18.1,
          10.7,
          11.8,
          13.2,
          12.6,
          14.8,
          12.7,
          10.6,
          13.1,
          12.5,
          11.3,
          13.3,
          14,
          9.9,
          12.6,
          9.8,
          13.4,
          11.1,
          17.1,
          13.2,
          10.6,
          11.4,
          14.1,
          11.7,
          11.3,
          13.4,
          16,
          10.6,
          14.6,
          13,
          8.9
         ]
        },
        {
         "fillcolor": "yellow",
         "line": {
          "color": "orange"
         },
         "name": "2015",
         "showlegend": false,
         "type": "box",
         "y": [
          12.5,
          14.3,
          14.3,
          15.6,
          13.2,
          10.8,
          12.1,
          12.2,
          12.8,
          11.7,
          14.5,
          13.5,
          9.5,
          14.6,
          15.8,
          12.1,
          14.5,
          10.1,
          14.1,
          13.7,
          13.5,
          11.5,
          12.4,
          13.5,
          12.8,
          11.5,
          11.4,
          12.2,
          15,
          10.9,
          14,
          16.9,
          10.7,
          12.5,
          11.9,
          13.5,
          12.9,
          12.6,
          13.7,
          12.4,
          12,
          16.6,
          11.1,
          15.7,
          13,
          12.2,
          12.6,
          13.4,
          14.9,
          13.9,
          8.9,
          11.4,
          13.2,
          12.6,
          12.9,
          11.4,
          13.9,
          10.9,
          9.3,
          12.3,
          11.1,
          12.6,
          14.6,
          16.1,
          14.6,
          11.3,
          10.8,
          16.4,
          17.1,
          10.6,
          10.4,
          13.1,
          12.6,
          14.9,
          18.7,
          11.6,
          12.7,
          11.3,
          15.2,
          14.1,
          10.9,
          18.1,
          15.4,
          14.6,
          13.8,
          11,
          14.7,
          12,
          13.1,
          12,
          13.5,
          10.8,
          12.2,
          8.8,
          16.3,
          17.2,
          12.4,
          12.6,
          12.6,
          16.7,
          14.8,
          12.1,
          12.9,
          11.3,
          11.4,
          15.3,
          10.8,
          13.4,
          10.2,
          14.3,
          14.3,
          11,
          11.2,
          15.6,
          14.5,
          11.4,
          12.2,
          18.4,
          14.6,
          13.4,
          11.3,
          9.7,
          10.7,
          12.5,
          13,
          13.4,
          12,
          18.3,
          13.4,
          10.6,
          12.2,
          10.9,
          13.1,
          14.6,
          12.1,
          13,
          11.1,
          13,
          12.7,
          15.6,
          11.2,
          10.6,
          10.2,
          10,
          11.6,
          11.3,
          14.4,
          11.9,
          12.2,
          11.5,
          12.8,
          9.4,
          12.9,
          10.7,
          14,
          11.4,
          17.7,
          14.3,
          12.8,
          15,
          10.4,
          13.4,
          12.5,
          12.5,
          15.2,
          10.6,
          14.6,
          18,
          11.9,
          12.2,
          13.4,
          18.7,
          13.5,
          12.3,
          12,
          14.6,
          12.4,
          13.9,
          13.2,
          11.3,
          16.2,
          12.3,
          14.1,
          14.5,
          13.3,
          18.1,
          10.7,
          11.8,
          13.2,
          12.6,
          14.8,
          12.7,
          10.6,
          13.1,
          12.5,
          11.3,
          13.3,
          14,
          9.9,
          12.6,
          9.8,
          13.4,
          11.1,
          17.1,
          13.2,
          10.6,
          11.4,
          14.1,
          11.7,
          11.3,
          13.4,
          16,
          10.6,
          14.6,
          13,
          8.9
         ]
        },
        {
         "fillcolor": "yellow",
         "line": {
          "color": "orange"
         },
         "name": "2016",
         "showlegend": false,
         "type": "box",
         "y": [
          12.5,
          14.3,
          14.3,
          15.6,
          13.2,
          10.8,
          12.1,
          12.2,
          12.8,
          11.7,
          14.5,
          13.5,
          9.5,
          14.6,
          15.8,
          12.1,
          14.5,
          10.1,
          14.1,
          13.7,
          13.5,
          11.5,
          12.4,
          13.5,
          12.8,
          11.5,
          11.4,
          12.2,
          15,
          10.9,
          14,
          16.9,
          10.7,
          12.5,
          11.9,
          13.5,
          12.9,
          12.6,
          13.7,
          12.4,
          12,
          16.6,
          11.1,
          15.7,
          13,
          12.2,
          12.6,
          13.4,
          14.9,
          13.9,
          8.9,
          11.4,
          13.2,
          12.6,
          12.9,
          11.4,
          13.9,
          10.9,
          9.3,
          12.3,
          11.1,
          12.6,
          14.6,
          16.1,
          14.6,
          11.3,
          10.8,
          16.4,
          17.1,
          10.6,
          10.4,
          13.1,
          12.6,
          14.9,
          18.7,
          11.6,
          12.7,
          11.3,
          15.2,
          14.1,
          10.9,
          18.1,
          15.4,
          14.6,
          13.8,
          11,
          14.7,
          12,
          13.1,
          12,
          13.5,
          10.8,
          12.2,
          8.8,
          16.3,
          17.2,
          12.4,
          12.6,
          12.6,
          16.7,
          14.8,
          12.1,
          12.9,
          11.3,
          11.4,
          15.3,
          10.8,
          13.4,
          10.2,
          14.3,
          14.3,
          11,
          11.2,
          15.6,
          14.5,
          11.4,
          12.2,
          18.4,
          14.6,
          13.4,
          11.3,
          9.7,
          10.7,
          12.5,
          13,
          13.4,
          12,
          18.3,
          13.4,
          10.6,
          12.2,
          10.9,
          13.1,
          14.6,
          12.1,
          13,
          11.1,
          13,
          12.7,
          15.6,
          11.2,
          10.6,
          10.2,
          10,
          11.6,
          11.3,
          14.4,
          11.9,
          12.2,
          11.5,
          12.8,
          9.4,
          12.9,
          10.7,
          14,
          11.4,
          17.7,
          14.3,
          12.8,
          15,
          10.4,
          13.4,
          12.5,
          12.5,
          15.2,
          10.6,
          14.6,
          18,
          11.9,
          12.2,
          13.4,
          18.7,
          13.5,
          12.3,
          12,
          14.6,
          12.4,
          13.9,
          13.2,
          11.3,
          16.2,
          12.3,
          14.1,
          14.5,
          13.3,
          18.1,
          10.7,
          11.8,
          13.2,
          12.6,
          14.8,
          12.7,
          10.6,
          13.1,
          12.5,
          11.3,
          13.3,
          14,
          9.9,
          12.6,
          9.8,
          13.4,
          11.1,
          17.1,
          13.2,
          10.6,
          11.4,
          14.1,
          11.7,
          11.3,
          13.4,
          16,
          10.6,
          14.6,
          13,
          8.9
         ]
        },
        {
         "fillcolor": "yellow",
         "line": {
          "color": "orange"
         },
         "name": "2017",
         "showlegend": false,
         "type": "box",
         "y": [
          12.5,
          14.3,
          14.3,
          15.6,
          13.2,
          10.8,
          12.1,
          12.2,
          12.8,
          11.7,
          14.5,
          13.5,
          9.5,
          14.6,
          15.8,
          12.1,
          14.5,
          10.1,
          14.1,
          13.7,
          13.5,
          11.5,
          12.4,
          13.5,
          12.8,
          11.5,
          11.4,
          12.2,
          15,
          10.9,
          14,
          16.9,
          10.7,
          12.5,
          11.9,
          13.5,
          12.9,
          12.6,
          13.7,
          12.4,
          12,
          16.6,
          11.1,
          15.7,
          13,
          12.2,
          12.6,
          13.4,
          14.9,
          13.9,
          8.9,
          11.4,
          13.2,
          12.6,
          12.9,
          11.4,
          13.9,
          10.9,
          9.3,
          12.3,
          11.1,
          12.6,
          14.6,
          16.1,
          14.6,
          11.3,
          10.8,
          16.4,
          17.1,
          10.6,
          10.4,
          13.1,
          12.6,
          14.9,
          18.7,
          11.6,
          12.7,
          11.3,
          15.2,
          14.1,
          10.9,
          18.1,
          15.4,
          14.6,
          13.8,
          11,
          14.7,
          12,
          13.1,
          12,
          13.5,
          10.8,
          12.2,
          8.8,
          16.3,
          17.2,
          12.4,
          12.6,
          12.6,
          16.7,
          14.8,
          12.1,
          12.9,
          11.3,
          11.4,
          15.3,
          10.8,
          13.4,
          10.2,
          14.3,
          14.3,
          11,
          11.2,
          15.6,
          14.5,
          11.4,
          12.2,
          18.4,
          14.6,
          13.4,
          11.3,
          9.7,
          10.7,
          12.5,
          13,
          13.4,
          12,
          18.3,
          13.4,
          10.6,
          12.2,
          10.9,
          13.1,
          14.6,
          12.1,
          13,
          11.1,
          13,
          12.7,
          15.6,
          11.2,
          10.6,
          10.2,
          10,
          11.6,
          11.3,
          14.4,
          11.9,
          12.2,
          11.5,
          12.8,
          9.4,
          12.9,
          10.7,
          14,
          11.4,
          17.7,
          14.3,
          12.8,
          15,
          10.4,
          13.4,
          12.5,
          12.5,
          15.2,
          10.6,
          14.6,
          18,
          11.9,
          12.2,
          13.4,
          18.7,
          13.5,
          12.3,
          12,
          14.6,
          12.4,
          13.9,
          13.2,
          11.3,
          16.2,
          12.3,
          14.1,
          14.5,
          13.3,
          18.1,
          10.7,
          11.8,
          13.2,
          12.6,
          14.8,
          12.7,
          10.6,
          13.1,
          12.5,
          11.3,
          13.3,
          14,
          9.9,
          12.6,
          9.8,
          13.4,
          11.1,
          17.1,
          13.2,
          10.6,
          11.4,
          14.1,
          11.7,
          11.3,
          13.4,
          16,
          10.6,
          14.6,
          13,
          8.9
         ]
        },
        {
         "fillcolor": "yellow",
         "line": {
          "color": "orange"
         },
         "name": "2018",
         "showlegend": false,
         "type": "box",
         "y": [
          12.5,
          14.3,
          14.3,
          15.6,
          13.2,
          10.8,
          12.1,
          12.2,
          12.8,
          11.7,
          14.5,
          13.5,
          9.5,
          14.6,
          15.8,
          12.1,
          14.5,
          10.1,
          14.1,
          13.7,
          13.5,
          11.5,
          12.4,
          13.5,
          12.8,
          11.5,
          11.4,
          12.2,
          15,
          10.9,
          14,
          16.9,
          10.7,
          12.5,
          11.9,
          13.5,
          12.9,
          12.6,
          13.7,
          12.4,
          12,
          16.6,
          11.1,
          15.7,
          13,
          12.2,
          12.6,
          13.4,
          14.9,
          13.9,
          8.9,
          11.4,
          13.2,
          12.6,
          12.9,
          11.4,
          13.9,
          10.9,
          9.3,
          12.3,
          11.1,
          12.6,
          14.6,
          16.1,
          14.6,
          11.3,
          10.8,
          16.4,
          17.1,
          10.6,
          10.4,
          13.1,
          12.6,
          14.9,
          18.7,
          11.6,
          12.7,
          11.3,
          15.2,
          14.1,
          10.9,
          18.1,
          15.4,
          14.6,
          13.8,
          11,
          14.7,
          12,
          13.1,
          12,
          13.5,
          10.8,
          12.2,
          8.8,
          16.3,
          17.2,
          12.4,
          12.6,
          12.6,
          16.7,
          14.8,
          12.1,
          12.9,
          11.3,
          11.4,
          15.3,
          10.8,
          13.4,
          10.2,
          14.3,
          14.3,
          11,
          11.2,
          15.6,
          14.5,
          11.4,
          12.2,
          18.4,
          14.6,
          13.4,
          11.3,
          9.7,
          10.7,
          12.5,
          13,
          13.4,
          12,
          18.3,
          13.4,
          10.6,
          12.2,
          10.9,
          13.1,
          14.6,
          12.1,
          13,
          11.1,
          13,
          12.7,
          15.6,
          11.2,
          10.6,
          10.2,
          10,
          11.6,
          11.3,
          14.4,
          11.9,
          12.2,
          11.5,
          12.8,
          9.4,
          12.9,
          10.7,
          14,
          11.4,
          17.7,
          14.3,
          12.8,
          15,
          10.4,
          13.4,
          12.5,
          12.5,
          15.2,
          10.6,
          14.6,
          18,
          11.9,
          12.2,
          13.4,
          18.7,
          13.5,
          12.3,
          12,
          14.6,
          12.4,
          13.9,
          13.2,
          11.3,
          16.2,
          12.3,
          14.1,
          14.5,
          13.3,
          18.1,
          10.7,
          11.8,
          13.2,
          12.6,
          14.8,
          12.7,
          10.6,
          13.1,
          12.5,
          11.3,
          13.3,
          14,
          9.9,
          12.6,
          9.8,
          13.4,
          11.1,
          17.1,
          13.2,
          10.6,
          11.4,
          14.1,
          11.7,
          11.3,
          13.4,
          16,
          10.6,
          14.6,
          13,
          8.9
         ]
        },
        {
         "fillcolor": "yellow",
         "line": {
          "color": "orange"
         },
         "name": "2019",
         "showlegend": false,
         "type": "box",
         "y": [
          12.5,
          14.3,
          14.3,
          15.6,
          13.2,
          10.8,
          12.1,
          12.2,
          12.8,
          11.7,
          14.5,
          13.5,
          9.5,
          14.6,
          15.8,
          12.1,
          14.5,
          10.1,
          14.1,
          13.7,
          13.5,
          11.5,
          12.4,
          13.5,
          12.8,
          11.5,
          11.4,
          12.2,
          15,
          10.9,
          14,
          16.9,
          10.7,
          12.5,
          11.9,
          13.5,
          12.9,
          12.6,
          13.7,
          12.4,
          12,
          16.6,
          11.1,
          15.7,
          13,
          12.2,
          12.6,
          13.4,
          14.9,
          13.9,
          8.9,
          11.4,
          13.2,
          12.6,
          12.9,
          11.4,
          13.9,
          10.9,
          9.3,
          12.3,
          11.1,
          12.6,
          14.6,
          16.1,
          14.6,
          11.3,
          10.8,
          16.4,
          17.1,
          10.6,
          10.4,
          13.1,
          12.6,
          14.9,
          18.7,
          11.6,
          12.7,
          11.3,
          15.2,
          14.1,
          10.9,
          18.1,
          15.4,
          14.6,
          13.8,
          11,
          14.7,
          12,
          13.1,
          12,
          13.5,
          10.8,
          12.2,
          8.8,
          16.3,
          17.2,
          12.4,
          12.6,
          12.6,
          16.7,
          14.8,
          12.1,
          12.9,
          11.3,
          11.4,
          15.3,
          10.8,
          13.4,
          10.2,
          14.3,
          14.3,
          11,
          11.2,
          15.6,
          14.5,
          11.4,
          12.2,
          18.4,
          14.6,
          13.4,
          11.3,
          9.7,
          10.7,
          12.5,
          13,
          13.4,
          12,
          18.3,
          13.4,
          10.6,
          12.2,
          10.9,
          13.1,
          14.6,
          12.1,
          13,
          11.1,
          13,
          12.7,
          15.6,
          11.2,
          10.6,
          10.2,
          10,
          11.6,
          11.3,
          14.4,
          11.9,
          12.2,
          11.5,
          12.8,
          9.4,
          12.9,
          10.7,
          14,
          11.4,
          17.7,
          14.3,
          12.8,
          15,
          10.4,
          13.4,
          12.5,
          12.5,
          15.2,
          10.6,
          14.6,
          18,
          11.9,
          12.2,
          13.4,
          18.7,
          13.5,
          12.3,
          12,
          14.6,
          12.4,
          13.9,
          13.2,
          11.3,
          16.2,
          12.3,
          14.1,
          14.5,
          13.3,
          18.1,
          10.7,
          11.8,
          13.2,
          12.6,
          14.8,
          12.7,
          10.6,
          13.1,
          12.5,
          11.3,
          13.3,
          14,
          9.9,
          12.6,
          9.8,
          13.4,
          11.1,
          17.1,
          13.2,
          10.6,
          11.4,
          14.1,
          11.7,
          11.3,
          13.4,
          16,
          10.6,
          14.6,
          13,
          8.9
         ]
        },
        {
         "fillcolor": "yellow",
         "line": {
          "color": "orange"
         },
         "name": "2020",
         "showlegend": false,
         "type": "box",
         "y": [
          12.5,
          14.3,
          14.3,
          15.6,
          13.2,
          10.8,
          12.1,
          12.2,
          12.8,
          11.7,
          14.5,
          13.5,
          9.5,
          14.6,
          15.8,
          12.1,
          14.5,
          10.1,
          14.1,
          13.7,
          13.5,
          11.5,
          12.4,
          13.5,
          12.8,
          11.5,
          11.4,
          12.2,
          15,
          10.9,
          14,
          16.9,
          10.7,
          12.5,
          11.9,
          13.5,
          12.9,
          12.6,
          13.7,
          12.4,
          12,
          16.6,
          11.1,
          15.7,
          13,
          12.2,
          12.6,
          13.4,
          14.9,
          13.9,
          8.9,
          11.4,
          13.2,
          12.6,
          12.9,
          11.4,
          13.9,
          10.9,
          9.3,
          12.3,
          11.1,
          12.6,
          14.6,
          16.1,
          14.6,
          11.3,
          10.8,
          16.4,
          17.1,
          10.6,
          10.4,
          13.1,
          12.6,
          14.9,
          18.7,
          11.6,
          12.7,
          11.3,
          15.2,
          14.1,
          10.9,
          18.1,
          15.4,
          14.6,
          13.8,
          11,
          14.7,
          12,
          13.1,
          12,
          13.5,
          10.8,
          12.2,
          8.8,
          16.3,
          17.2,
          12.4,
          12.6,
          12.6,
          16.7,
          14.8,
          12.1,
          12.9,
          11.3,
          11.4,
          15.3,
          10.8,
          13.4,
          10.2,
          14.3,
          14.3,
          11,
          11.2,
          15.6,
          14.5,
          11.4,
          12.2,
          18.4,
          14.6,
          13.4,
          11.3,
          9.7,
          10.7,
          12.5,
          13,
          13.4,
          12,
          18.3,
          13.4,
          10.6,
          12.2,
          10.9,
          13.1,
          14.6,
          12.1,
          13,
          11.1,
          13,
          12.7,
          15.6,
          11.2,
          10.6,
          10.2,
          10,
          11.6,
          11.3,
          14.4,
          11.9,
          12.2,
          11.5,
          12.8,
          9.4,
          12.9,
          10.7,
          14,
          11.4,
          17.7,
          14.3,
          12.8,
          15,
          10.4,
          13.4,
          12.5,
          12.5,
          15.2,
          10.6,
          14.6,
          18,
          11.9,
          12.2,
          13.4,
          18.7,
          13.5,
          12.3,
          12,
          14.6,
          12.4,
          13.9,
          13.2,
          11.3,
          16.2,
          12.3,
          14.1,
          14.5,
          13.3,
          18.1,
          10.7,
          11.8,
          13.2,
          12.6,
          14.8,
          12.7,
          10.6,
          13.1,
          12.5,
          11.3,
          13.3,
          14,
          9.9,
          12.6,
          9.8,
          13.4,
          11.1,
          17.1,
          13.2,
          10.6,
          11.4,
          14.1,
          11.7,
          11.3,
          13.4,
          16,
          10.6,
          14.6,
          13,
          8.9
         ]
        }
       ],
       "layout": {
        "template": {
         "data": {
          "bar": [
           {
            "error_x": {
             "color": "#2a3f5f"
            },
            "error_y": {
             "color": "#2a3f5f"
            },
            "marker": {
             "line": {
              "color": "white",
              "width": 0.5
             },
             "pattern": {
              "fillmode": "overlay",
              "size": 10,
              "solidity": 0.2
             }
            },
            "type": "bar"
           }
          ],
          "barpolar": [
           {
            "marker": {
             "line": {
              "color": "white",
              "width": 0.5
             },
             "pattern": {
              "fillmode": "overlay",
              "size": 10,
              "solidity": 0.2
             }
            },
            "type": "barpolar"
           }
          ],
          "carpet": [
           {
            "aaxis": {
             "endlinecolor": "#2a3f5f",
             "gridcolor": "#C8D4E3",
             "linecolor": "#C8D4E3",
             "minorgridcolor": "#C8D4E3",
             "startlinecolor": "#2a3f5f"
            },
            "baxis": {
             "endlinecolor": "#2a3f5f",
             "gridcolor": "#C8D4E3",
             "linecolor": "#C8D4E3",
             "minorgridcolor": "#C8D4E3",
             "startlinecolor": "#2a3f5f"
            },
            "type": "carpet"
           }
          ],
          "choropleth": [
           {
            "colorbar": {
             "outlinewidth": 0,
             "ticks": ""
            },
            "type": "choropleth"
           }
          ],
          "contour": [
           {
            "colorbar": {
             "outlinewidth": 0,
             "ticks": ""
            },
            "colorscale": [
             [
              0,
              "#0d0887"
             ],
             [
              0.1111111111111111,
              "#46039f"
             ],
             [
              0.2222222222222222,
              "#7201a8"
             ],
             [
              0.3333333333333333,
              "#9c179e"
             ],
             [
              0.4444444444444444,
              "#bd3786"
             ],
             [
              0.5555555555555556,
              "#d8576b"
             ],
             [
              0.6666666666666666,
              "#ed7953"
             ],
             [
              0.7777777777777778,
              "#fb9f3a"
             ],
             [
              0.8888888888888888,
              "#fdca26"
             ],
             [
              1,
              "#f0f921"
             ]
            ],
            "type": "contour"
           }
          ],
          "contourcarpet": [
           {
            "colorbar": {
             "outlinewidth": 0,
             "ticks": ""
            },
            "type": "contourcarpet"
           }
          ],
          "heatmap": [
           {
            "colorbar": {
             "outlinewidth": 0,
             "ticks": ""
            },
            "colorscale": [
             [
              0,
              "#0d0887"
             ],
             [
              0.1111111111111111,
              "#46039f"
             ],
             [
              0.2222222222222222,
              "#7201a8"
             ],
             [
              0.3333333333333333,
              "#9c179e"
             ],
             [
              0.4444444444444444,
              "#bd3786"
             ],
             [
              0.5555555555555556,
              "#d8576b"
             ],
             [
              0.6666666666666666,
              "#ed7953"
             ],
             [
              0.7777777777777778,
              "#fb9f3a"
             ],
             [
              0.8888888888888888,
              "#fdca26"
             ],
             [
              1,
              "#f0f921"
             ]
            ],
            "type": "heatmap"
           }
          ],
          "heatmapgl": [
           {
            "colorbar": {
             "outlinewidth": 0,
             "ticks": ""
            },
            "colorscale": [
             [
              0,
              "#0d0887"
             ],
             [
              0.1111111111111111,
              "#46039f"
             ],
             [
              0.2222222222222222,
              "#7201a8"
             ],
             [
              0.3333333333333333,
              "#9c179e"
             ],
             [
              0.4444444444444444,
              "#bd3786"
             ],
             [
              0.5555555555555556,
              "#d8576b"
             ],
             [
              0.6666666666666666,
              "#ed7953"
             ],
             [
              0.7777777777777778,
              "#fb9f3a"
             ],
             [
              0.8888888888888888,
              "#fdca26"
             ],
             [
              1,
              "#f0f921"
             ]
            ],
            "type": "heatmapgl"
           }
          ],
          "histogram": [
           {
            "marker": {
             "pattern": {
              "fillmode": "overlay",
              "size": 10,
              "solidity": 0.2
             }
            },
            "type": "histogram"
           }
          ],
          "histogram2d": [
           {
            "colorbar": {
             "outlinewidth": 0,
             "ticks": ""
            },
            "colorscale": [
             [
              0,
              "#0d0887"
             ],
             [
              0.1111111111111111,
              "#46039f"
             ],
             [
              0.2222222222222222,
              "#7201a8"
             ],
             [
              0.3333333333333333,
              "#9c179e"
             ],
             [
              0.4444444444444444,
              "#bd3786"
             ],
             [
              0.5555555555555556,
              "#d8576b"
             ],
             [
              0.6666666666666666,
              "#ed7953"
             ],
             [
              0.7777777777777778,
              "#fb9f3a"
             ],
             [
              0.8888888888888888,
              "#fdca26"
             ],
             [
              1,
              "#f0f921"
             ]
            ],
            "type": "histogram2d"
           }
          ],
          "histogram2dcontour": [
           {
            "colorbar": {
             "outlinewidth": 0,
             "ticks": ""
            },
            "colorscale": [
             [
              0,
              "#0d0887"
             ],
             [
              0.1111111111111111,
              "#46039f"
             ],
             [
              0.2222222222222222,
              "#7201a8"
             ],
             [
              0.3333333333333333,
              "#9c179e"
             ],
             [
              0.4444444444444444,
              "#bd3786"
             ],
             [
              0.5555555555555556,
              "#d8576b"
             ],
             [
              0.6666666666666666,
              "#ed7953"
             ],
             [
              0.7777777777777778,
              "#fb9f3a"
             ],
             [
              0.8888888888888888,
              "#fdca26"
             ],
             [
              1,
              "#f0f921"
             ]
            ],
            "type": "histogram2dcontour"
           }
          ],
          "mesh3d": [
           {
            "colorbar": {
             "outlinewidth": 0,
             "ticks": ""
            },
            "type": "mesh3d"
           }
          ],
          "parcoords": [
           {
            "line": {
             "colorbar": {
              "outlinewidth": 0,
              "ticks": ""
             }
            },
            "type": "parcoords"
           }
          ],
          "pie": [
           {
            "automargin": true,
            "type": "pie"
           }
          ],
          "scatter": [
           {
            "marker": {
             "colorbar": {
              "outlinewidth": 0,
              "ticks": ""
             }
            },
            "type": "scatter"
           }
          ],
          "scatter3d": [
           {
            "line": {
             "colorbar": {
              "outlinewidth": 0,
              "ticks": ""
             }
            },
            "marker": {
             "colorbar": {
              "outlinewidth": 0,
              "ticks": ""
             }
            },
            "type": "scatter3d"
           }
          ],
          "scattercarpet": [
           {
            "marker": {
             "colorbar": {
              "outlinewidth": 0,
              "ticks": ""
             }
            },
            "type": "scattercarpet"
           }
          ],
          "scattergeo": [
           {
            "marker": {
             "colorbar": {
              "outlinewidth": 0,
              "ticks": ""
             }
            },
            "type": "scattergeo"
           }
          ],
          "scattergl": [
           {
            "marker": {
             "colorbar": {
              "outlinewidth": 0,
              "ticks": ""
             }
            },
            "type": "scattergl"
           }
          ],
          "scattermapbox": [
           {
            "marker": {
             "colorbar": {
              "outlinewidth": 0,
              "ticks": ""
             }
            },
            "type": "scattermapbox"
           }
          ],
          "scatterpolar": [
           {
            "marker": {
             "colorbar": {
              "outlinewidth": 0,
              "ticks": ""
             }
            },
            "type": "scatterpolar"
           }
          ],
          "scatterpolargl": [
           {
            "marker": {
             "colorbar": {
              "outlinewidth": 0,
              "ticks": ""
             }
            },
            "type": "scatterpolargl"
           }
          ],
          "scatterternary": [
           {
            "marker": {
             "colorbar": {
              "outlinewidth": 0,
              "ticks": ""
             }
            },
            "type": "scatterternary"
           }
          ],
          "surface": [
           {
            "colorbar": {
             "outlinewidth": 0,
             "ticks": ""
            },
            "colorscale": [
             [
              0,
              "#0d0887"
             ],
             [
              0.1111111111111111,
              "#46039f"
             ],
             [
              0.2222222222222222,
              "#7201a8"
             ],
             [
              0.3333333333333333,
              "#9c179e"
             ],
             [
              0.4444444444444444,
              "#bd3786"
             ],
             [
              0.5555555555555556,
              "#d8576b"
             ],
             [
              0.6666666666666666,
              "#ed7953"
             ],
             [
              0.7777777777777778,
              "#fb9f3a"
             ],
             [
              0.8888888888888888,
              "#fdca26"
             ],
             [
              1,
              "#f0f921"
             ]
            ],
            "type": "surface"
           }
          ],
          "table": [
           {
            "cells": {
             "fill": {
              "color": "#EBF0F8"
             },
             "line": {
              "color": "white"
             }
            },
            "header": {
             "fill": {
              "color": "#C8D4E3"
             },
             "line": {
              "color": "white"
             }
            },
            "type": "table"
           }
          ]
         },
         "layout": {
          "annotationdefaults": {
           "arrowcolor": "#2a3f5f",
           "arrowhead": 0,
           "arrowwidth": 1
          },
          "autotypenumbers": "strict",
          "coloraxis": {
           "colorbar": {
            "outlinewidth": 0,
            "ticks": ""
           }
          },
          "colorscale": {
           "diverging": [
            [
             0,
             "#8e0152"
            ],
            [
             0.1,
             "#c51b7d"
            ],
            [
             0.2,
             "#de77ae"
            ],
            [
             0.3,
             "#f1b6da"
            ],
            [
             0.4,
             "#fde0ef"
            ],
            [
             0.5,
             "#f7f7f7"
            ],
            [
             0.6,
             "#e6f5d0"
            ],
            [
             0.7,
             "#b8e186"
            ],
            [
             0.8,
             "#7fbc41"
            ],
            [
             0.9,
             "#4d9221"
            ],
            [
             1,
             "#276419"
            ]
           ],
           "sequential": [
            [
             0,
             "#0d0887"
            ],
            [
             0.1111111111111111,
             "#46039f"
            ],
            [
             0.2222222222222222,
             "#7201a8"
            ],
            [
             0.3333333333333333,
             "#9c179e"
            ],
            [
             0.4444444444444444,
             "#bd3786"
            ],
            [
             0.5555555555555556,
             "#d8576b"
            ],
            [
             0.6666666666666666,
             "#ed7953"
            ],
            [
             0.7777777777777778,
             "#fb9f3a"
            ],
            [
             0.8888888888888888,
             "#fdca26"
            ],
            [
             1,
             "#f0f921"
            ]
           ],
           "sequentialminus": [
            [
             0,
             "#0d0887"
            ],
            [
             0.1111111111111111,
             "#46039f"
            ],
            [
             0.2222222222222222,
             "#7201a8"
            ],
            [
             0.3333333333333333,
             "#9c179e"
            ],
            [
             0.4444444444444444,
             "#bd3786"
            ],
            [
             0.5555555555555556,
             "#d8576b"
            ],
            [
             0.6666666666666666,
             "#ed7953"
            ],
            [
             0.7777777777777778,
             "#fb9f3a"
            ],
            [
             0.8888888888888888,
             "#fdca26"
            ],
            [
             1,
             "#f0f921"
            ]
           ]
          },
          "colorway": [
           "#636efa",
           "#EF553B",
           "#00cc96",
           "#ab63fa",
           "#FFA15A",
           "#19d3f3",
           "#FF6692",
           "#B6E880",
           "#FF97FF",
           "#FECB52"
          ],
          "font": {
           "color": "#2a3f5f"
          },
          "geo": {
           "bgcolor": "white",
           "lakecolor": "white",
           "landcolor": "white",
           "showlakes": true,
           "showland": true,
           "subunitcolor": "#C8D4E3"
          },
          "hoverlabel": {
           "align": "left"
          },
          "hovermode": "closest",
          "mapbox": {
           "style": "light"
          },
          "paper_bgcolor": "white",
          "plot_bgcolor": "white",
          "polar": {
           "angularaxis": {
            "gridcolor": "#EBF0F8",
            "linecolor": "#EBF0F8",
            "ticks": ""
           },
           "bgcolor": "white",
           "radialaxis": {
            "gridcolor": "#EBF0F8",
            "linecolor": "#EBF0F8",
            "ticks": ""
           }
          },
          "scene": {
           "xaxis": {
            "backgroundcolor": "white",
            "gridcolor": "#DFE8F3",
            "gridwidth": 2,
            "linecolor": "#EBF0F8",
            "showbackground": true,
            "ticks": "",
            "zerolinecolor": "#EBF0F8"
           },
           "yaxis": {
            "backgroundcolor": "white",
            "gridcolor": "#DFE8F3",
            "gridwidth": 2,
            "linecolor": "#EBF0F8",
            "showbackground": true,
            "ticks": "",
            "zerolinecolor": "#EBF0F8"
           },
           "zaxis": {
            "backgroundcolor": "white",
            "gridcolor": "#DFE8F3",
            "gridwidth": 2,
            "linecolor": "#EBF0F8",
            "showbackground": true,
            "ticks": "",
            "zerolinecolor": "#EBF0F8"
           }
          },
          "shapedefaults": {
           "line": {
            "color": "#2a3f5f"
           }
          },
          "ternary": {
           "aaxis": {
            "gridcolor": "#DFE8F3",
            "linecolor": "#A2B1C6",
            "ticks": ""
           },
           "baxis": {
            "gridcolor": "#DFE8F3",
            "linecolor": "#A2B1C6",
            "ticks": ""
           },
           "bgcolor": "white",
           "caxis": {
            "gridcolor": "#DFE8F3",
            "linecolor": "#A2B1C6",
            "ticks": ""
           }
          },
          "title": {
           "x": 0.05
          },
          "xaxis": {
           "automargin": true,
           "gridcolor": "#EBF0F8",
           "linecolor": "#EBF0F8",
           "ticks": "",
           "title": {
            "standoff": 15
           },
           "zerolinecolor": "#EBF0F8",
           "zerolinewidth": 2
          },
          "yaxis": {
           "automargin": true,
           "gridcolor": "#EBF0F8",
           "linecolor": "#EBF0F8",
           "ticks": "",
           "title": {
            "standoff": 15
           },
           "zerolinecolor": "#EBF0F8",
           "zerolinewidth": 2
          }
         }
        }
       }
      }
     },
     "metadata": {},
     "output_type": "display_data"
    }
   ],
   "source": [
    "box_plot_shot(LEAGUE[0], \"Shots pg_offensive\")"
   ]
  },
  {
   "cell_type": "code",
   "execution_count": 122,
   "metadata": {},
   "outputs": [
    {
     "data": {
      "application/vnd.plotly.v1+json": {
       "config": {
        "plotlyServerURL": "https://plot.ly"
       },
       "data": [
        {
         "fillcolor": "yellow",
         "line": {
          "color": "orange"
         },
         "name": "2009",
         "showlegend": false,
         "type": "box",
         "y": [
          3.9,
          5.6,
          5.4,
          6.3,
          4.7,
          3.2,
          4.3,
          4.3,
          4.6,
          3.7,
          5.4,
          3.9,
          3.3,
          6.3,
          6.3,
          4.1,
          5.8,
          3.7,
          5.1,
          5.2,
          4.9,
          4.2,
          4.6,
          4.4,
          5,
          4.1,
          3.6,
          3.9,
          6,
          4.3,
          5.1,
          6.9,
          3.4,
          4.4,
          4.1,
          4.4,
          5.5,
          4.1,
          5.6,
          4.8,
          4.3,
          6.3,
          3.8,
          6.2,
          5,
          4.1,
          4.4,
          4.3,
          4.6,
          5.7,
          3.3,
          3.9,
          4.8,
          4.1,
          4.8,
          4.4,
          4.4,
          3.6,
          3.1,
          4.5,
          3.9,
          3.9,
          4.9,
          6.5,
          5.8,
          4.3,
          3.4,
          6.5,
          7.5,
          4.1,
          3.7,
          4.8,
          5,
          6,
          7.6,
          4.2,
          4.5,
          4.4,
          4.7,
          5.4,
          3.9,
          7.2,
          5.9,
          5.5,
          4.9,
          3.8,
          5.8,
          3.5,
          4.8,
          4.1,
          4.4,
          3.7,
          5,
          3.2,
          5.7,
          6.9,
          4.5,
          5.1,
          5.1,
          5.6,
          5,
          4.1,
          4.3,
          4.2,
          4.6,
          6.1,
          3.3,
          4.1,
          3.4,
          5.5,
          4.8,
          3.9,
          3.7,
          6.3,
          5.7,
          3.9,
          4.8,
          7.7,
          5.5,
          4.5,
          4.4,
          3.7,
          3.9,
          3.8,
          4.4,
          5.6,
          4.3,
          6.8,
          4.8,
          3.3,
          4.5,
          3.7,
          5.2,
          5.3,
          4.3,
          4,
          4.5,
          5.1,
          4.2,
          6,
          3.6,
          3.5,
          3.7,
          2.8,
          4.1,
          3.5,
          5.4,
          4.9,
          4.4,
          4.4,
          4.3,
          3.9,
          4.5,
          3.6,
          5.3,
          3.4,
          7,
          5.2,
          4.3,
          5.1,
          3.5,
          4.7,
          4.8,
          4.9,
          5.8,
          3.1,
          4.4,
          6.6,
          4.4,
          3.9,
          4.8,
          7.6,
          4.7,
          4.7,
          3.4,
          5.4,
          4.5,
          5.2,
          5.4,
          3.6,
          6.4,
          4.5,
          5.9,
          5.5,
          4.8,
          7.5,
          4,
          4,
          4.4,
          3.5,
          5.1,
          3.8,
          3.6,
          5.7,
          4.1,
          3.8,
          4.2,
          4.7,
          3.3,
          4.6,
          3,
          4.7,
          4.1,
          6.9,
          5.1,
          3.2,
          4.4,
          4.9,
          4.2,
          4.4,
          5.2,
          6,
          3.7,
          5.7,
          4.9,
          2.5
         ]
        },
        {
         "fillcolor": "yellow",
         "line": {
          "color": "orange"
         },
         "name": "2010",
         "showlegend": false,
         "type": "box",
         "y": [
          3.9,
          5.6,
          5.4,
          6.3,
          4.7,
          3.2,
          4.3,
          4.3,
          4.6,
          3.7,
          5.4,
          3.9,
          3.3,
          6.3,
          6.3,
          4.1,
          5.8,
          3.7,
          5.1,
          5.2,
          4.9,
          4.2,
          4.6,
          4.4,
          5,
          4.1,
          3.6,
          3.9,
          6,
          4.3,
          5.1,
          6.9,
          3.4,
          4.4,
          4.1,
          4.4,
          5.5,
          4.1,
          5.6,
          4.8,
          4.3,
          6.3,
          3.8,
          6.2,
          5,
          4.1,
          4.4,
          4.3,
          4.6,
          5.7,
          3.3,
          3.9,
          4.8,
          4.1,
          4.8,
          4.4,
          4.4,
          3.6,
          3.1,
          4.5,
          3.9,
          3.9,
          4.9,
          6.5,
          5.8,
          4.3,
          3.4,
          6.5,
          7.5,
          4.1,
          3.7,
          4.8,
          5,
          6,
          7.6,
          4.2,
          4.5,
          4.4,
          4.7,
          5.4,
          3.9,
          7.2,
          5.9,
          5.5,
          4.9,
          3.8,
          5.8,
          3.5,
          4.8,
          4.1,
          4.4,
          3.7,
          5,
          3.2,
          5.7,
          6.9,
          4.5,
          5.1,
          5.1,
          5.6,
          5,
          4.1,
          4.3,
          4.2,
          4.6,
          6.1,
          3.3,
          4.1,
          3.4,
          5.5,
          4.8,
          3.9,
          3.7,
          6.3,
          5.7,
          3.9,
          4.8,
          7.7,
          5.5,
          4.5,
          4.4,
          3.7,
          3.9,
          3.8,
          4.4,
          5.6,
          4.3,
          6.8,
          4.8,
          3.3,
          4.5,
          3.7,
          5.2,
          5.3,
          4.3,
          4,
          4.5,
          5.1,
          4.2,
          6,
          3.6,
          3.5,
          3.7,
          2.8,
          4.1,
          3.5,
          5.4,
          4.9,
          4.4,
          4.4,
          4.3,
          3.9,
          4.5,
          3.6,
          5.3,
          3.4,
          7,
          5.2,
          4.3,
          5.1,
          3.5,
          4.7,
          4.8,
          4.9,
          5.8,
          3.1,
          4.4,
          6.6,
          4.4,
          3.9,
          4.8,
          7.6,
          4.7,
          4.7,
          3.4,
          5.4,
          4.5,
          5.2,
          5.4,
          3.6,
          6.4,
          4.5,
          5.9,
          5.5,
          4.8,
          7.5,
          4,
          4,
          4.4,
          3.5,
          5.1,
          3.8,
          3.6,
          5.7,
          4.1,
          3.8,
          4.2,
          4.7,
          3.3,
          4.6,
          3,
          4.7,
          4.1,
          6.9,
          5.1,
          3.2,
          4.4,
          4.9,
          4.2,
          4.4,
          5.2,
          6,
          3.7,
          5.7,
          4.9,
          2.5
         ]
        },
        {
         "fillcolor": "yellow",
         "line": {
          "color": "orange"
         },
         "name": "2011",
         "showlegend": false,
         "type": "box",
         "y": [
          3.9,
          5.6,
          5.4,
          6.3,
          4.7,
          3.2,
          4.3,
          4.3,
          4.6,
          3.7,
          5.4,
          3.9,
          3.3,
          6.3,
          6.3,
          4.1,
          5.8,
          3.7,
          5.1,
          5.2,
          4.9,
          4.2,
          4.6,
          4.4,
          5,
          4.1,
          3.6,
          3.9,
          6,
          4.3,
          5.1,
          6.9,
          3.4,
          4.4,
          4.1,
          4.4,
          5.5,
          4.1,
          5.6,
          4.8,
          4.3,
          6.3,
          3.8,
          6.2,
          5,
          4.1,
          4.4,
          4.3,
          4.6,
          5.7,
          3.3,
          3.9,
          4.8,
          4.1,
          4.8,
          4.4,
          4.4,
          3.6,
          3.1,
          4.5,
          3.9,
          3.9,
          4.9,
          6.5,
          5.8,
          4.3,
          3.4,
          6.5,
          7.5,
          4.1,
          3.7,
          4.8,
          5,
          6,
          7.6,
          4.2,
          4.5,
          4.4,
          4.7,
          5.4,
          3.9,
          7.2,
          5.9,
          5.5,
          4.9,
          3.8,
          5.8,
          3.5,
          4.8,
          4.1,
          4.4,
          3.7,
          5,
          3.2,
          5.7,
          6.9,
          4.5,
          5.1,
          5.1,
          5.6,
          5,
          4.1,
          4.3,
          4.2,
          4.6,
          6.1,
          3.3,
          4.1,
          3.4,
          5.5,
          4.8,
          3.9,
          3.7,
          6.3,
          5.7,
          3.9,
          4.8,
          7.7,
          5.5,
          4.5,
          4.4,
          3.7,
          3.9,
          3.8,
          4.4,
          5.6,
          4.3,
          6.8,
          4.8,
          3.3,
          4.5,
          3.7,
          5.2,
          5.3,
          4.3,
          4,
          4.5,
          5.1,
          4.2,
          6,
          3.6,
          3.5,
          3.7,
          2.8,
          4.1,
          3.5,
          5.4,
          4.9,
          4.4,
          4.4,
          4.3,
          3.9,
          4.5,
          3.6,
          5.3,
          3.4,
          7,
          5.2,
          4.3,
          5.1,
          3.5,
          4.7,
          4.8,
          4.9,
          5.8,
          3.1,
          4.4,
          6.6,
          4.4,
          3.9,
          4.8,
          7.6,
          4.7,
          4.7,
          3.4,
          5.4,
          4.5,
          5.2,
          5.4,
          3.6,
          6.4,
          4.5,
          5.9,
          5.5,
          4.8,
          7.5,
          4,
          4,
          4.4,
          3.5,
          5.1,
          3.8,
          3.6,
          5.7,
          4.1,
          3.8,
          4.2,
          4.7,
          3.3,
          4.6,
          3,
          4.7,
          4.1,
          6.9,
          5.1,
          3.2,
          4.4,
          4.9,
          4.2,
          4.4,
          5.2,
          6,
          3.7,
          5.7,
          4.9,
          2.5
         ]
        },
        {
         "fillcolor": "yellow",
         "line": {
          "color": "orange"
         },
         "name": "2012",
         "showlegend": false,
         "type": "box",
         "y": [
          3.9,
          5.6,
          5.4,
          6.3,
          4.7,
          3.2,
          4.3,
          4.3,
          4.6,
          3.7,
          5.4,
          3.9,
          3.3,
          6.3,
          6.3,
          4.1,
          5.8,
          3.7,
          5.1,
          5.2,
          4.9,
          4.2,
          4.6,
          4.4,
          5,
          4.1,
          3.6,
          3.9,
          6,
          4.3,
          5.1,
          6.9,
          3.4,
          4.4,
          4.1,
          4.4,
          5.5,
          4.1,
          5.6,
          4.8,
          4.3,
          6.3,
          3.8,
          6.2,
          5,
          4.1,
          4.4,
          4.3,
          4.6,
          5.7,
          3.3,
          3.9,
          4.8,
          4.1,
          4.8,
          4.4,
          4.4,
          3.6,
          3.1,
          4.5,
          3.9,
          3.9,
          4.9,
          6.5,
          5.8,
          4.3,
          3.4,
          6.5,
          7.5,
          4.1,
          3.7,
          4.8,
          5,
          6,
          7.6,
          4.2,
          4.5,
          4.4,
          4.7,
          5.4,
          3.9,
          7.2,
          5.9,
          5.5,
          4.9,
          3.8,
          5.8,
          3.5,
          4.8,
          4.1,
          4.4,
          3.7,
          5,
          3.2,
          5.7,
          6.9,
          4.5,
          5.1,
          5.1,
          5.6,
          5,
          4.1,
          4.3,
          4.2,
          4.6,
          6.1,
          3.3,
          4.1,
          3.4,
          5.5,
          4.8,
          3.9,
          3.7,
          6.3,
          5.7,
          3.9,
          4.8,
          7.7,
          5.5,
          4.5,
          4.4,
          3.7,
          3.9,
          3.8,
          4.4,
          5.6,
          4.3,
          6.8,
          4.8,
          3.3,
          4.5,
          3.7,
          5.2,
          5.3,
          4.3,
          4,
          4.5,
          5.1,
          4.2,
          6,
          3.6,
          3.5,
          3.7,
          2.8,
          4.1,
          3.5,
          5.4,
          4.9,
          4.4,
          4.4,
          4.3,
          3.9,
          4.5,
          3.6,
          5.3,
          3.4,
          7,
          5.2,
          4.3,
          5.1,
          3.5,
          4.7,
          4.8,
          4.9,
          5.8,
          3.1,
          4.4,
          6.6,
          4.4,
          3.9,
          4.8,
          7.6,
          4.7,
          4.7,
          3.4,
          5.4,
          4.5,
          5.2,
          5.4,
          3.6,
          6.4,
          4.5,
          5.9,
          5.5,
          4.8,
          7.5,
          4,
          4,
          4.4,
          3.5,
          5.1,
          3.8,
          3.6,
          5.7,
          4.1,
          3.8,
          4.2,
          4.7,
          3.3,
          4.6,
          3,
          4.7,
          4.1,
          6.9,
          5.1,
          3.2,
          4.4,
          4.9,
          4.2,
          4.4,
          5.2,
          6,
          3.7,
          5.7,
          4.9,
          2.5
         ]
        },
        {
         "fillcolor": "yellow",
         "line": {
          "color": "orange"
         },
         "name": "2013",
         "showlegend": false,
         "type": "box",
         "y": [
          3.9,
          5.6,
          5.4,
          6.3,
          4.7,
          3.2,
          4.3,
          4.3,
          4.6,
          3.7,
          5.4,
          3.9,
          3.3,
          6.3,
          6.3,
          4.1,
          5.8,
          3.7,
          5.1,
          5.2,
          4.9,
          4.2,
          4.6,
          4.4,
          5,
          4.1,
          3.6,
          3.9,
          6,
          4.3,
          5.1,
          6.9,
          3.4,
          4.4,
          4.1,
          4.4,
          5.5,
          4.1,
          5.6,
          4.8,
          4.3,
          6.3,
          3.8,
          6.2,
          5,
          4.1,
          4.4,
          4.3,
          4.6,
          5.7,
          3.3,
          3.9,
          4.8,
          4.1,
          4.8,
          4.4,
          4.4,
          3.6,
          3.1,
          4.5,
          3.9,
          3.9,
          4.9,
          6.5,
          5.8,
          4.3,
          3.4,
          6.5,
          7.5,
          4.1,
          3.7,
          4.8,
          5,
          6,
          7.6,
          4.2,
          4.5,
          4.4,
          4.7,
          5.4,
          3.9,
          7.2,
          5.9,
          5.5,
          4.9,
          3.8,
          5.8,
          3.5,
          4.8,
          4.1,
          4.4,
          3.7,
          5,
          3.2,
          5.7,
          6.9,
          4.5,
          5.1,
          5.1,
          5.6,
          5,
          4.1,
          4.3,
          4.2,
          4.6,
          6.1,
          3.3,
          4.1,
          3.4,
          5.5,
          4.8,
          3.9,
          3.7,
          6.3,
          5.7,
          3.9,
          4.8,
          7.7,
          5.5,
          4.5,
          4.4,
          3.7,
          3.9,
          3.8,
          4.4,
          5.6,
          4.3,
          6.8,
          4.8,
          3.3,
          4.5,
          3.7,
          5.2,
          5.3,
          4.3,
          4,
          4.5,
          5.1,
          4.2,
          6,
          3.6,
          3.5,
          3.7,
          2.8,
          4.1,
          3.5,
          5.4,
          4.9,
          4.4,
          4.4,
          4.3,
          3.9,
          4.5,
          3.6,
          5.3,
          3.4,
          7,
          5.2,
          4.3,
          5.1,
          3.5,
          4.7,
          4.8,
          4.9,
          5.8,
          3.1,
          4.4,
          6.6,
          4.4,
          3.9,
          4.8,
          7.6,
          4.7,
          4.7,
          3.4,
          5.4,
          4.5,
          5.2,
          5.4,
          3.6,
          6.4,
          4.5,
          5.9,
          5.5,
          4.8,
          7.5,
          4,
          4,
          4.4,
          3.5,
          5.1,
          3.8,
          3.6,
          5.7,
          4.1,
          3.8,
          4.2,
          4.7,
          3.3,
          4.6,
          3,
          4.7,
          4.1,
          6.9,
          5.1,
          3.2,
          4.4,
          4.9,
          4.2,
          4.4,
          5.2,
          6,
          3.7,
          5.7,
          4.9,
          2.5
         ]
        },
        {
         "fillcolor": "yellow",
         "line": {
          "color": "orange"
         },
         "name": "2014",
         "showlegend": false,
         "type": "box",
         "y": [
          3.9,
          5.6,
          5.4,
          6.3,
          4.7,
          3.2,
          4.3,
          4.3,
          4.6,
          3.7,
          5.4,
          3.9,
          3.3,
          6.3,
          6.3,
          4.1,
          5.8,
          3.7,
          5.1,
          5.2,
          4.9,
          4.2,
          4.6,
          4.4,
          5,
          4.1,
          3.6,
          3.9,
          6,
          4.3,
          5.1,
          6.9,
          3.4,
          4.4,
          4.1,
          4.4,
          5.5,
          4.1,
          5.6,
          4.8,
          4.3,
          6.3,
          3.8,
          6.2,
          5,
          4.1,
          4.4,
          4.3,
          4.6,
          5.7,
          3.3,
          3.9,
          4.8,
          4.1,
          4.8,
          4.4,
          4.4,
          3.6,
          3.1,
          4.5,
          3.9,
          3.9,
          4.9,
          6.5,
          5.8,
          4.3,
          3.4,
          6.5,
          7.5,
          4.1,
          3.7,
          4.8,
          5,
          6,
          7.6,
          4.2,
          4.5,
          4.4,
          4.7,
          5.4,
          3.9,
          7.2,
          5.9,
          5.5,
          4.9,
          3.8,
          5.8,
          3.5,
          4.8,
          4.1,
          4.4,
          3.7,
          5,
          3.2,
          5.7,
          6.9,
          4.5,
          5.1,
          5.1,
          5.6,
          5,
          4.1,
          4.3,
          4.2,
          4.6,
          6.1,
          3.3,
          4.1,
          3.4,
          5.5,
          4.8,
          3.9,
          3.7,
          6.3,
          5.7,
          3.9,
          4.8,
          7.7,
          5.5,
          4.5,
          4.4,
          3.7,
          3.9,
          3.8,
          4.4,
          5.6,
          4.3,
          6.8,
          4.8,
          3.3,
          4.5,
          3.7,
          5.2,
          5.3,
          4.3,
          4,
          4.5,
          5.1,
          4.2,
          6,
          3.6,
          3.5,
          3.7,
          2.8,
          4.1,
          3.5,
          5.4,
          4.9,
          4.4,
          4.4,
          4.3,
          3.9,
          4.5,
          3.6,
          5.3,
          3.4,
          7,
          5.2,
          4.3,
          5.1,
          3.5,
          4.7,
          4.8,
          4.9,
          5.8,
          3.1,
          4.4,
          6.6,
          4.4,
          3.9,
          4.8,
          7.6,
          4.7,
          4.7,
          3.4,
          5.4,
          4.5,
          5.2,
          5.4,
          3.6,
          6.4,
          4.5,
          5.9,
          5.5,
          4.8,
          7.5,
          4,
          4,
          4.4,
          3.5,
          5.1,
          3.8,
          3.6,
          5.7,
          4.1,
          3.8,
          4.2,
          4.7,
          3.3,
          4.6,
          3,
          4.7,
          4.1,
          6.9,
          5.1,
          3.2,
          4.4,
          4.9,
          4.2,
          4.4,
          5.2,
          6,
          3.7,
          5.7,
          4.9,
          2.5
         ]
        },
        {
         "fillcolor": "yellow",
         "line": {
          "color": "orange"
         },
         "name": "2015",
         "showlegend": false,
         "type": "box",
         "y": [
          3.9,
          5.6,
          5.4,
          6.3,
          4.7,
          3.2,
          4.3,
          4.3,
          4.6,
          3.7,
          5.4,
          3.9,
          3.3,
          6.3,
          6.3,
          4.1,
          5.8,
          3.7,
          5.1,
          5.2,
          4.9,
          4.2,
          4.6,
          4.4,
          5,
          4.1,
          3.6,
          3.9,
          6,
          4.3,
          5.1,
          6.9,
          3.4,
          4.4,
          4.1,
          4.4,
          5.5,
          4.1,
          5.6,
          4.8,
          4.3,
          6.3,
          3.8,
          6.2,
          5,
          4.1,
          4.4,
          4.3,
          4.6,
          5.7,
          3.3,
          3.9,
          4.8,
          4.1,
          4.8,
          4.4,
          4.4,
          3.6,
          3.1,
          4.5,
          3.9,
          3.9,
          4.9,
          6.5,
          5.8,
          4.3,
          3.4,
          6.5,
          7.5,
          4.1,
          3.7,
          4.8,
          5,
          6,
          7.6,
          4.2,
          4.5,
          4.4,
          4.7,
          5.4,
          3.9,
          7.2,
          5.9,
          5.5,
          4.9,
          3.8,
          5.8,
          3.5,
          4.8,
          4.1,
          4.4,
          3.7,
          5,
          3.2,
          5.7,
          6.9,
          4.5,
          5.1,
          5.1,
          5.6,
          5,
          4.1,
          4.3,
          4.2,
          4.6,
          6.1,
          3.3,
          4.1,
          3.4,
          5.5,
          4.8,
          3.9,
          3.7,
          6.3,
          5.7,
          3.9,
          4.8,
          7.7,
          5.5,
          4.5,
          4.4,
          3.7,
          3.9,
          3.8,
          4.4,
          5.6,
          4.3,
          6.8,
          4.8,
          3.3,
          4.5,
          3.7,
          5.2,
          5.3,
          4.3,
          4,
          4.5,
          5.1,
          4.2,
          6,
          3.6,
          3.5,
          3.7,
          2.8,
          4.1,
          3.5,
          5.4,
          4.9,
          4.4,
          4.4,
          4.3,
          3.9,
          4.5,
          3.6,
          5.3,
          3.4,
          7,
          5.2,
          4.3,
          5.1,
          3.5,
          4.7,
          4.8,
          4.9,
          5.8,
          3.1,
          4.4,
          6.6,
          4.4,
          3.9,
          4.8,
          7.6,
          4.7,
          4.7,
          3.4,
          5.4,
          4.5,
          5.2,
          5.4,
          3.6,
          6.4,
          4.5,
          5.9,
          5.5,
          4.8,
          7.5,
          4,
          4,
          4.4,
          3.5,
          5.1,
          3.8,
          3.6,
          5.7,
          4.1,
          3.8,
          4.2,
          4.7,
          3.3,
          4.6,
          3,
          4.7,
          4.1,
          6.9,
          5.1,
          3.2,
          4.4,
          4.9,
          4.2,
          4.4,
          5.2,
          6,
          3.7,
          5.7,
          4.9,
          2.5
         ]
        },
        {
         "fillcolor": "yellow",
         "line": {
          "color": "orange"
         },
         "name": "2016",
         "showlegend": false,
         "type": "box",
         "y": [
          3.9,
          5.6,
          5.4,
          6.3,
          4.7,
          3.2,
          4.3,
          4.3,
          4.6,
          3.7,
          5.4,
          3.9,
          3.3,
          6.3,
          6.3,
          4.1,
          5.8,
          3.7,
          5.1,
          5.2,
          4.9,
          4.2,
          4.6,
          4.4,
          5,
          4.1,
          3.6,
          3.9,
          6,
          4.3,
          5.1,
          6.9,
          3.4,
          4.4,
          4.1,
          4.4,
          5.5,
          4.1,
          5.6,
          4.8,
          4.3,
          6.3,
          3.8,
          6.2,
          5,
          4.1,
          4.4,
          4.3,
          4.6,
          5.7,
          3.3,
          3.9,
          4.8,
          4.1,
          4.8,
          4.4,
          4.4,
          3.6,
          3.1,
          4.5,
          3.9,
          3.9,
          4.9,
          6.5,
          5.8,
          4.3,
          3.4,
          6.5,
          7.5,
          4.1,
          3.7,
          4.8,
          5,
          6,
          7.6,
          4.2,
          4.5,
          4.4,
          4.7,
          5.4,
          3.9,
          7.2,
          5.9,
          5.5,
          4.9,
          3.8,
          5.8,
          3.5,
          4.8,
          4.1,
          4.4,
          3.7,
          5,
          3.2,
          5.7,
          6.9,
          4.5,
          5.1,
          5.1,
          5.6,
          5,
          4.1,
          4.3,
          4.2,
          4.6,
          6.1,
          3.3,
          4.1,
          3.4,
          5.5,
          4.8,
          3.9,
          3.7,
          6.3,
          5.7,
          3.9,
          4.8,
          7.7,
          5.5,
          4.5,
          4.4,
          3.7,
          3.9,
          3.8,
          4.4,
          5.6,
          4.3,
          6.8,
          4.8,
          3.3,
          4.5,
          3.7,
          5.2,
          5.3,
          4.3,
          4,
          4.5,
          5.1,
          4.2,
          6,
          3.6,
          3.5,
          3.7,
          2.8,
          4.1,
          3.5,
          5.4,
          4.9,
          4.4,
          4.4,
          4.3,
          3.9,
          4.5,
          3.6,
          5.3,
          3.4,
          7,
          5.2,
          4.3,
          5.1,
          3.5,
          4.7,
          4.8,
          4.9,
          5.8,
          3.1,
          4.4,
          6.6,
          4.4,
          3.9,
          4.8,
          7.6,
          4.7,
          4.7,
          3.4,
          5.4,
          4.5,
          5.2,
          5.4,
          3.6,
          6.4,
          4.5,
          5.9,
          5.5,
          4.8,
          7.5,
          4,
          4,
          4.4,
          3.5,
          5.1,
          3.8,
          3.6,
          5.7,
          4.1,
          3.8,
          4.2,
          4.7,
          3.3,
          4.6,
          3,
          4.7,
          4.1,
          6.9,
          5.1,
          3.2,
          4.4,
          4.9,
          4.2,
          4.4,
          5.2,
          6,
          3.7,
          5.7,
          4.9,
          2.5
         ]
        },
        {
         "fillcolor": "yellow",
         "line": {
          "color": "orange"
         },
         "name": "2017",
         "showlegend": false,
         "type": "box",
         "y": [
          3.9,
          5.6,
          5.4,
          6.3,
          4.7,
          3.2,
          4.3,
          4.3,
          4.6,
          3.7,
          5.4,
          3.9,
          3.3,
          6.3,
          6.3,
          4.1,
          5.8,
          3.7,
          5.1,
          5.2,
          4.9,
          4.2,
          4.6,
          4.4,
          5,
          4.1,
          3.6,
          3.9,
          6,
          4.3,
          5.1,
          6.9,
          3.4,
          4.4,
          4.1,
          4.4,
          5.5,
          4.1,
          5.6,
          4.8,
          4.3,
          6.3,
          3.8,
          6.2,
          5,
          4.1,
          4.4,
          4.3,
          4.6,
          5.7,
          3.3,
          3.9,
          4.8,
          4.1,
          4.8,
          4.4,
          4.4,
          3.6,
          3.1,
          4.5,
          3.9,
          3.9,
          4.9,
          6.5,
          5.8,
          4.3,
          3.4,
          6.5,
          7.5,
          4.1,
          3.7,
          4.8,
          5,
          6,
          7.6,
          4.2,
          4.5,
          4.4,
          4.7,
          5.4,
          3.9,
          7.2,
          5.9,
          5.5,
          4.9,
          3.8,
          5.8,
          3.5,
          4.8,
          4.1,
          4.4,
          3.7,
          5,
          3.2,
          5.7,
          6.9,
          4.5,
          5.1,
          5.1,
          5.6,
          5,
          4.1,
          4.3,
          4.2,
          4.6,
          6.1,
          3.3,
          4.1,
          3.4,
          5.5,
          4.8,
          3.9,
          3.7,
          6.3,
          5.7,
          3.9,
          4.8,
          7.7,
          5.5,
          4.5,
          4.4,
          3.7,
          3.9,
          3.8,
          4.4,
          5.6,
          4.3,
          6.8,
          4.8,
          3.3,
          4.5,
          3.7,
          5.2,
          5.3,
          4.3,
          4,
          4.5,
          5.1,
          4.2,
          6,
          3.6,
          3.5,
          3.7,
          2.8,
          4.1,
          3.5,
          5.4,
          4.9,
          4.4,
          4.4,
          4.3,
          3.9,
          4.5,
          3.6,
          5.3,
          3.4,
          7,
          5.2,
          4.3,
          5.1,
          3.5,
          4.7,
          4.8,
          4.9,
          5.8,
          3.1,
          4.4,
          6.6,
          4.4,
          3.9,
          4.8,
          7.6,
          4.7,
          4.7,
          3.4,
          5.4,
          4.5,
          5.2,
          5.4,
          3.6,
          6.4,
          4.5,
          5.9,
          5.5,
          4.8,
          7.5,
          4,
          4,
          4.4,
          3.5,
          5.1,
          3.8,
          3.6,
          5.7,
          4.1,
          3.8,
          4.2,
          4.7,
          3.3,
          4.6,
          3,
          4.7,
          4.1,
          6.9,
          5.1,
          3.2,
          4.4,
          4.9,
          4.2,
          4.4,
          5.2,
          6,
          3.7,
          5.7,
          4.9,
          2.5
         ]
        },
        {
         "fillcolor": "yellow",
         "line": {
          "color": "orange"
         },
         "name": "2018",
         "showlegend": false,
         "type": "box",
         "y": [
          3.9,
          5.6,
          5.4,
          6.3,
          4.7,
          3.2,
          4.3,
          4.3,
          4.6,
          3.7,
          5.4,
          3.9,
          3.3,
          6.3,
          6.3,
          4.1,
          5.8,
          3.7,
          5.1,
          5.2,
          4.9,
          4.2,
          4.6,
          4.4,
          5,
          4.1,
          3.6,
          3.9,
          6,
          4.3,
          5.1,
          6.9,
          3.4,
          4.4,
          4.1,
          4.4,
          5.5,
          4.1,
          5.6,
          4.8,
          4.3,
          6.3,
          3.8,
          6.2,
          5,
          4.1,
          4.4,
          4.3,
          4.6,
          5.7,
          3.3,
          3.9,
          4.8,
          4.1,
          4.8,
          4.4,
          4.4,
          3.6,
          3.1,
          4.5,
          3.9,
          3.9,
          4.9,
          6.5,
          5.8,
          4.3,
          3.4,
          6.5,
          7.5,
          4.1,
          3.7,
          4.8,
          5,
          6,
          7.6,
          4.2,
          4.5,
          4.4,
          4.7,
          5.4,
          3.9,
          7.2,
          5.9,
          5.5,
          4.9,
          3.8,
          5.8,
          3.5,
          4.8,
          4.1,
          4.4,
          3.7,
          5,
          3.2,
          5.7,
          6.9,
          4.5,
          5.1,
          5.1,
          5.6,
          5,
          4.1,
          4.3,
          4.2,
          4.6,
          6.1,
          3.3,
          4.1,
          3.4,
          5.5,
          4.8,
          3.9,
          3.7,
          6.3,
          5.7,
          3.9,
          4.8,
          7.7,
          5.5,
          4.5,
          4.4,
          3.7,
          3.9,
          3.8,
          4.4,
          5.6,
          4.3,
          6.8,
          4.8,
          3.3,
          4.5,
          3.7,
          5.2,
          5.3,
          4.3,
          4,
          4.5,
          5.1,
          4.2,
          6,
          3.6,
          3.5,
          3.7,
          2.8,
          4.1,
          3.5,
          5.4,
          4.9,
          4.4,
          4.4,
          4.3,
          3.9,
          4.5,
          3.6,
          5.3,
          3.4,
          7,
          5.2,
          4.3,
          5.1,
          3.5,
          4.7,
          4.8,
          4.9,
          5.8,
          3.1,
          4.4,
          6.6,
          4.4,
          3.9,
          4.8,
          7.6,
          4.7,
          4.7,
          3.4,
          5.4,
          4.5,
          5.2,
          5.4,
          3.6,
          6.4,
          4.5,
          5.9,
          5.5,
          4.8,
          7.5,
          4,
          4,
          4.4,
          3.5,
          5.1,
          3.8,
          3.6,
          5.7,
          4.1,
          3.8,
          4.2,
          4.7,
          3.3,
          4.6,
          3,
          4.7,
          4.1,
          6.9,
          5.1,
          3.2,
          4.4,
          4.9,
          4.2,
          4.4,
          5.2,
          6,
          3.7,
          5.7,
          4.9,
          2.5
         ]
        },
        {
         "fillcolor": "yellow",
         "line": {
          "color": "orange"
         },
         "name": "2019",
         "showlegend": false,
         "type": "box",
         "y": [
          3.9,
          5.6,
          5.4,
          6.3,
          4.7,
          3.2,
          4.3,
          4.3,
          4.6,
          3.7,
          5.4,
          3.9,
          3.3,
          6.3,
          6.3,
          4.1,
          5.8,
          3.7,
          5.1,
          5.2,
          4.9,
          4.2,
          4.6,
          4.4,
          5,
          4.1,
          3.6,
          3.9,
          6,
          4.3,
          5.1,
          6.9,
          3.4,
          4.4,
          4.1,
          4.4,
          5.5,
          4.1,
          5.6,
          4.8,
          4.3,
          6.3,
          3.8,
          6.2,
          5,
          4.1,
          4.4,
          4.3,
          4.6,
          5.7,
          3.3,
          3.9,
          4.8,
          4.1,
          4.8,
          4.4,
          4.4,
          3.6,
          3.1,
          4.5,
          3.9,
          3.9,
          4.9,
          6.5,
          5.8,
          4.3,
          3.4,
          6.5,
          7.5,
          4.1,
          3.7,
          4.8,
          5,
          6,
          7.6,
          4.2,
          4.5,
          4.4,
          4.7,
          5.4,
          3.9,
          7.2,
          5.9,
          5.5,
          4.9,
          3.8,
          5.8,
          3.5,
          4.8,
          4.1,
          4.4,
          3.7,
          5,
          3.2,
          5.7,
          6.9,
          4.5,
          5.1,
          5.1,
          5.6,
          5,
          4.1,
          4.3,
          4.2,
          4.6,
          6.1,
          3.3,
          4.1,
          3.4,
          5.5,
          4.8,
          3.9,
          3.7,
          6.3,
          5.7,
          3.9,
          4.8,
          7.7,
          5.5,
          4.5,
          4.4,
          3.7,
          3.9,
          3.8,
          4.4,
          5.6,
          4.3,
          6.8,
          4.8,
          3.3,
          4.5,
          3.7,
          5.2,
          5.3,
          4.3,
          4,
          4.5,
          5.1,
          4.2,
          6,
          3.6,
          3.5,
          3.7,
          2.8,
          4.1,
          3.5,
          5.4,
          4.9,
          4.4,
          4.4,
          4.3,
          3.9,
          4.5,
          3.6,
          5.3,
          3.4,
          7,
          5.2,
          4.3,
          5.1,
          3.5,
          4.7,
          4.8,
          4.9,
          5.8,
          3.1,
          4.4,
          6.6,
          4.4,
          3.9,
          4.8,
          7.6,
          4.7,
          4.7,
          3.4,
          5.4,
          4.5,
          5.2,
          5.4,
          3.6,
          6.4,
          4.5,
          5.9,
          5.5,
          4.8,
          7.5,
          4,
          4,
          4.4,
          3.5,
          5.1,
          3.8,
          3.6,
          5.7,
          4.1,
          3.8,
          4.2,
          4.7,
          3.3,
          4.6,
          3,
          4.7,
          4.1,
          6.9,
          5.1,
          3.2,
          4.4,
          4.9,
          4.2,
          4.4,
          5.2,
          6,
          3.7,
          5.7,
          4.9,
          2.5
         ]
        },
        {
         "fillcolor": "yellow",
         "line": {
          "color": "orange"
         },
         "name": "2020",
         "showlegend": false,
         "type": "box",
         "y": [
          3.9,
          5.6,
          5.4,
          6.3,
          4.7,
          3.2,
          4.3,
          4.3,
          4.6,
          3.7,
          5.4,
          3.9,
          3.3,
          6.3,
          6.3,
          4.1,
          5.8,
          3.7,
          5.1,
          5.2,
          4.9,
          4.2,
          4.6,
          4.4,
          5,
          4.1,
          3.6,
          3.9,
          6,
          4.3,
          5.1,
          6.9,
          3.4,
          4.4,
          4.1,
          4.4,
          5.5,
          4.1,
          5.6,
          4.8,
          4.3,
          6.3,
          3.8,
          6.2,
          5,
          4.1,
          4.4,
          4.3,
          4.6,
          5.7,
          3.3,
          3.9,
          4.8,
          4.1,
          4.8,
          4.4,
          4.4,
          3.6,
          3.1,
          4.5,
          3.9,
          3.9,
          4.9,
          6.5,
          5.8,
          4.3,
          3.4,
          6.5,
          7.5,
          4.1,
          3.7,
          4.8,
          5,
          6,
          7.6,
          4.2,
          4.5,
          4.4,
          4.7,
          5.4,
          3.9,
          7.2,
          5.9,
          5.5,
          4.9,
          3.8,
          5.8,
          3.5,
          4.8,
          4.1,
          4.4,
          3.7,
          5,
          3.2,
          5.7,
          6.9,
          4.5,
          5.1,
          5.1,
          5.6,
          5,
          4.1,
          4.3,
          4.2,
          4.6,
          6.1,
          3.3,
          4.1,
          3.4,
          5.5,
          4.8,
          3.9,
          3.7,
          6.3,
          5.7,
          3.9,
          4.8,
          7.7,
          5.5,
          4.5,
          4.4,
          3.7,
          3.9,
          3.8,
          4.4,
          5.6,
          4.3,
          6.8,
          4.8,
          3.3,
          4.5,
          3.7,
          5.2,
          5.3,
          4.3,
          4,
          4.5,
          5.1,
          4.2,
          6,
          3.6,
          3.5,
          3.7,
          2.8,
          4.1,
          3.5,
          5.4,
          4.9,
          4.4,
          4.4,
          4.3,
          3.9,
          4.5,
          3.6,
          5.3,
          3.4,
          7,
          5.2,
          4.3,
          5.1,
          3.5,
          4.7,
          4.8,
          4.9,
          5.8,
          3.1,
          4.4,
          6.6,
          4.4,
          3.9,
          4.8,
          7.6,
          4.7,
          4.7,
          3.4,
          5.4,
          4.5,
          5.2,
          5.4,
          3.6,
          6.4,
          4.5,
          5.9,
          5.5,
          4.8,
          7.5,
          4,
          4,
          4.4,
          3.5,
          5.1,
          3.8,
          3.6,
          5.7,
          4.1,
          3.8,
          4.2,
          4.7,
          3.3,
          4.6,
          3,
          4.7,
          4.1,
          6.9,
          5.1,
          3.2,
          4.4,
          4.9,
          4.2,
          4.4,
          5.2,
          6,
          3.7,
          5.7,
          4.9,
          2.5
         ]
        }
       ],
       "layout": {
        "template": {
         "data": {
          "bar": [
           {
            "error_x": {
             "color": "#2a3f5f"
            },
            "error_y": {
             "color": "#2a3f5f"
            },
            "marker": {
             "line": {
              "color": "white",
              "width": 0.5
             },
             "pattern": {
              "fillmode": "overlay",
              "size": 10,
              "solidity": 0.2
             }
            },
            "type": "bar"
           }
          ],
          "barpolar": [
           {
            "marker": {
             "line": {
              "color": "white",
              "width": 0.5
             },
             "pattern": {
              "fillmode": "overlay",
              "size": 10,
              "solidity": 0.2
             }
            },
            "type": "barpolar"
           }
          ],
          "carpet": [
           {
            "aaxis": {
             "endlinecolor": "#2a3f5f",
             "gridcolor": "#C8D4E3",
             "linecolor": "#C8D4E3",
             "minorgridcolor": "#C8D4E3",
             "startlinecolor": "#2a3f5f"
            },
            "baxis": {
             "endlinecolor": "#2a3f5f",
             "gridcolor": "#C8D4E3",
             "linecolor": "#C8D4E3",
             "minorgridcolor": "#C8D4E3",
             "startlinecolor": "#2a3f5f"
            },
            "type": "carpet"
           }
          ],
          "choropleth": [
           {
            "colorbar": {
             "outlinewidth": 0,
             "ticks": ""
            },
            "type": "choropleth"
           }
          ],
          "contour": [
           {
            "colorbar": {
             "outlinewidth": 0,
             "ticks": ""
            },
            "colorscale": [
             [
              0,
              "#0d0887"
             ],
             [
              0.1111111111111111,
              "#46039f"
             ],
             [
              0.2222222222222222,
              "#7201a8"
             ],
             [
              0.3333333333333333,
              "#9c179e"
             ],
             [
              0.4444444444444444,
              "#bd3786"
             ],
             [
              0.5555555555555556,
              "#d8576b"
             ],
             [
              0.6666666666666666,
              "#ed7953"
             ],
             [
              0.7777777777777778,
              "#fb9f3a"
             ],
             [
              0.8888888888888888,
              "#fdca26"
             ],
             [
              1,
              "#f0f921"
             ]
            ],
            "type": "contour"
           }
          ],
          "contourcarpet": [
           {
            "colorbar": {
             "outlinewidth": 0,
             "ticks": ""
            },
            "type": "contourcarpet"
           }
          ],
          "heatmap": [
           {
            "colorbar": {
             "outlinewidth": 0,
             "ticks": ""
            },
            "colorscale": [
             [
              0,
              "#0d0887"
             ],
             [
              0.1111111111111111,
              "#46039f"
             ],
             [
              0.2222222222222222,
              "#7201a8"
             ],
             [
              0.3333333333333333,
              "#9c179e"
             ],
             [
              0.4444444444444444,
              "#bd3786"
             ],
             [
              0.5555555555555556,
              "#d8576b"
             ],
             [
              0.6666666666666666,
              "#ed7953"
             ],
             [
              0.7777777777777778,
              "#fb9f3a"
             ],
             [
              0.8888888888888888,
              "#fdca26"
             ],
             [
              1,
              "#f0f921"
             ]
            ],
            "type": "heatmap"
           }
          ],
          "heatmapgl": [
           {
            "colorbar": {
             "outlinewidth": 0,
             "ticks": ""
            },
            "colorscale": [
             [
              0,
              "#0d0887"
             ],
             [
              0.1111111111111111,
              "#46039f"
             ],
             [
              0.2222222222222222,
              "#7201a8"
             ],
             [
              0.3333333333333333,
              "#9c179e"
             ],
             [
              0.4444444444444444,
              "#bd3786"
             ],
             [
              0.5555555555555556,
              "#d8576b"
             ],
             [
              0.6666666666666666,
              "#ed7953"
             ],
             [
              0.7777777777777778,
              "#fb9f3a"
             ],
             [
              0.8888888888888888,
              "#fdca26"
             ],
             [
              1,
              "#f0f921"
             ]
            ],
            "type": "heatmapgl"
           }
          ],
          "histogram": [
           {
            "marker": {
             "pattern": {
              "fillmode": "overlay",
              "size": 10,
              "solidity": 0.2
             }
            },
            "type": "histogram"
           }
          ],
          "histogram2d": [
           {
            "colorbar": {
             "outlinewidth": 0,
             "ticks": ""
            },
            "colorscale": [
             [
              0,
              "#0d0887"
             ],
             [
              0.1111111111111111,
              "#46039f"
             ],
             [
              0.2222222222222222,
              "#7201a8"
             ],
             [
              0.3333333333333333,
              "#9c179e"
             ],
             [
              0.4444444444444444,
              "#bd3786"
             ],
             [
              0.5555555555555556,
              "#d8576b"
             ],
             [
              0.6666666666666666,
              "#ed7953"
             ],
             [
              0.7777777777777778,
              "#fb9f3a"
             ],
             [
              0.8888888888888888,
              "#fdca26"
             ],
             [
              1,
              "#f0f921"
             ]
            ],
            "type": "histogram2d"
           }
          ],
          "histogram2dcontour": [
           {
            "colorbar": {
             "outlinewidth": 0,
             "ticks": ""
            },
            "colorscale": [
             [
              0,
              "#0d0887"
             ],
             [
              0.1111111111111111,
              "#46039f"
             ],
             [
              0.2222222222222222,
              "#7201a8"
             ],
             [
              0.3333333333333333,
              "#9c179e"
             ],
             [
              0.4444444444444444,
              "#bd3786"
             ],
             [
              0.5555555555555556,
              "#d8576b"
             ],
             [
              0.6666666666666666,
              "#ed7953"
             ],
             [
              0.7777777777777778,
              "#fb9f3a"
             ],
             [
              0.8888888888888888,
              "#fdca26"
             ],
             [
              1,
              "#f0f921"
             ]
            ],
            "type": "histogram2dcontour"
           }
          ],
          "mesh3d": [
           {
            "colorbar": {
             "outlinewidth": 0,
             "ticks": ""
            },
            "type": "mesh3d"
           }
          ],
          "parcoords": [
           {
            "line": {
             "colorbar": {
              "outlinewidth": 0,
              "ticks": ""
             }
            },
            "type": "parcoords"
           }
          ],
          "pie": [
           {
            "automargin": true,
            "type": "pie"
           }
          ],
          "scatter": [
           {
            "marker": {
             "colorbar": {
              "outlinewidth": 0,
              "ticks": ""
             }
            },
            "type": "scatter"
           }
          ],
          "scatter3d": [
           {
            "line": {
             "colorbar": {
              "outlinewidth": 0,
              "ticks": ""
             }
            },
            "marker": {
             "colorbar": {
              "outlinewidth": 0,
              "ticks": ""
             }
            },
            "type": "scatter3d"
           }
          ],
          "scattercarpet": [
           {
            "marker": {
             "colorbar": {
              "outlinewidth": 0,
              "ticks": ""
             }
            },
            "type": "scattercarpet"
           }
          ],
          "scattergeo": [
           {
            "marker": {
             "colorbar": {
              "outlinewidth": 0,
              "ticks": ""
             }
            },
            "type": "scattergeo"
           }
          ],
          "scattergl": [
           {
            "marker": {
             "colorbar": {
              "outlinewidth": 0,
              "ticks": ""
             }
            },
            "type": "scattergl"
           }
          ],
          "scattermapbox": [
           {
            "marker": {
             "colorbar": {
              "outlinewidth": 0,
              "ticks": ""
             }
            },
            "type": "scattermapbox"
           }
          ],
          "scatterpolar": [
           {
            "marker": {
             "colorbar": {
              "outlinewidth": 0,
              "ticks": ""
             }
            },
            "type": "scatterpolar"
           }
          ],
          "scatterpolargl": [
           {
            "marker": {
             "colorbar": {
              "outlinewidth": 0,
              "ticks": ""
             }
            },
            "type": "scatterpolargl"
           }
          ],
          "scatterternary": [
           {
            "marker": {
             "colorbar": {
              "outlinewidth": 0,
              "ticks": ""
             }
            },
            "type": "scatterternary"
           }
          ],
          "surface": [
           {
            "colorbar": {
             "outlinewidth": 0,
             "ticks": ""
            },
            "colorscale": [
             [
              0,
              "#0d0887"
             ],
             [
              0.1111111111111111,
              "#46039f"
             ],
             [
              0.2222222222222222,
              "#7201a8"
             ],
             [
              0.3333333333333333,
              "#9c179e"
             ],
             [
              0.4444444444444444,
              "#bd3786"
             ],
             [
              0.5555555555555556,
              "#d8576b"
             ],
             [
              0.6666666666666666,
              "#ed7953"
             ],
             [
              0.7777777777777778,
              "#fb9f3a"
             ],
             [
              0.8888888888888888,
              "#fdca26"
             ],
             [
              1,
              "#f0f921"
             ]
            ],
            "type": "surface"
           }
          ],
          "table": [
           {
            "cells": {
             "fill": {
              "color": "#EBF0F8"
             },
             "line": {
              "color": "white"
             }
            },
            "header": {
             "fill": {
              "color": "#C8D4E3"
             },
             "line": {
              "color": "white"
             }
            },
            "type": "table"
           }
          ]
         },
         "layout": {
          "annotationdefaults": {
           "arrowcolor": "#2a3f5f",
           "arrowhead": 0,
           "arrowwidth": 1
          },
          "autotypenumbers": "strict",
          "coloraxis": {
           "colorbar": {
            "outlinewidth": 0,
            "ticks": ""
           }
          },
          "colorscale": {
           "diverging": [
            [
             0,
             "#8e0152"
            ],
            [
             0.1,
             "#c51b7d"
            ],
            [
             0.2,
             "#de77ae"
            ],
            [
             0.3,
             "#f1b6da"
            ],
            [
             0.4,
             "#fde0ef"
            ],
            [
             0.5,
             "#f7f7f7"
            ],
            [
             0.6,
             "#e6f5d0"
            ],
            [
             0.7,
             "#b8e186"
            ],
            [
             0.8,
             "#7fbc41"
            ],
            [
             0.9,
             "#4d9221"
            ],
            [
             1,
             "#276419"
            ]
           ],
           "sequential": [
            [
             0,
             "#0d0887"
            ],
            [
             0.1111111111111111,
             "#46039f"
            ],
            [
             0.2222222222222222,
             "#7201a8"
            ],
            [
             0.3333333333333333,
             "#9c179e"
            ],
            [
             0.4444444444444444,
             "#bd3786"
            ],
            [
             0.5555555555555556,
             "#d8576b"
            ],
            [
             0.6666666666666666,
             "#ed7953"
            ],
            [
             0.7777777777777778,
             "#fb9f3a"
            ],
            [
             0.8888888888888888,
             "#fdca26"
            ],
            [
             1,
             "#f0f921"
            ]
           ],
           "sequentialminus": [
            [
             0,
             "#0d0887"
            ],
            [
             0.1111111111111111,
             "#46039f"
            ],
            [
             0.2222222222222222,
             "#7201a8"
            ],
            [
             0.3333333333333333,
             "#9c179e"
            ],
            [
             0.4444444444444444,
             "#bd3786"
            ],
            [
             0.5555555555555556,
             "#d8576b"
            ],
            [
             0.6666666666666666,
             "#ed7953"
            ],
            [
             0.7777777777777778,
             "#fb9f3a"
            ],
            [
             0.8888888888888888,
             "#fdca26"
            ],
            [
             1,
             "#f0f921"
            ]
           ]
          },
          "colorway": [
           "#636efa",
           "#EF553B",
           "#00cc96",
           "#ab63fa",
           "#FFA15A",
           "#19d3f3",
           "#FF6692",
           "#B6E880",
           "#FF97FF",
           "#FECB52"
          ],
          "font": {
           "color": "#2a3f5f"
          },
          "geo": {
           "bgcolor": "white",
           "lakecolor": "white",
           "landcolor": "white",
           "showlakes": true,
           "showland": true,
           "subunitcolor": "#C8D4E3"
          },
          "hoverlabel": {
           "align": "left"
          },
          "hovermode": "closest",
          "mapbox": {
           "style": "light"
          },
          "paper_bgcolor": "white",
          "plot_bgcolor": "white",
          "polar": {
           "angularaxis": {
            "gridcolor": "#EBF0F8",
            "linecolor": "#EBF0F8",
            "ticks": ""
           },
           "bgcolor": "white",
           "radialaxis": {
            "gridcolor": "#EBF0F8",
            "linecolor": "#EBF0F8",
            "ticks": ""
           }
          },
          "scene": {
           "xaxis": {
            "backgroundcolor": "white",
            "gridcolor": "#DFE8F3",
            "gridwidth": 2,
            "linecolor": "#EBF0F8",
            "showbackground": true,
            "ticks": "",
            "zerolinecolor": "#EBF0F8"
           },
           "yaxis": {
            "backgroundcolor": "white",
            "gridcolor": "#DFE8F3",
            "gridwidth": 2,
            "linecolor": "#EBF0F8",
            "showbackground": true,
            "ticks": "",
            "zerolinecolor": "#EBF0F8"
           },
           "zaxis": {
            "backgroundcolor": "white",
            "gridcolor": "#DFE8F3",
            "gridwidth": 2,
            "linecolor": "#EBF0F8",
            "showbackground": true,
            "ticks": "",
            "zerolinecolor": "#EBF0F8"
           }
          },
          "shapedefaults": {
           "line": {
            "color": "#2a3f5f"
           }
          },
          "ternary": {
           "aaxis": {
            "gridcolor": "#DFE8F3",
            "linecolor": "#A2B1C6",
            "ticks": ""
           },
           "baxis": {
            "gridcolor": "#DFE8F3",
            "linecolor": "#A2B1C6",
            "ticks": ""
           },
           "bgcolor": "white",
           "caxis": {
            "gridcolor": "#DFE8F3",
            "linecolor": "#A2B1C6",
            "ticks": ""
           }
          },
          "title": {
           "x": 0.05
          },
          "xaxis": {
           "automargin": true,
           "gridcolor": "#EBF0F8",
           "linecolor": "#EBF0F8",
           "ticks": "",
           "title": {
            "standoff": 15
           },
           "zerolinecolor": "#EBF0F8",
           "zerolinewidth": 2
          },
          "yaxis": {
           "automargin": true,
           "gridcolor": "#EBF0F8",
           "linecolor": "#EBF0F8",
           "ticks": "",
           "title": {
            "standoff": 15
           },
           "zerolinecolor": "#EBF0F8",
           "zerolinewidth": 2
          }
         }
        }
       }
      }
     },
     "metadata": {},
     "output_type": "display_data"
    }
   ],
   "source": [
    "box_plot_shot(LEAGUE[0], \"Shots OT pg_offensive\")"
   ]
  },
  {
   "cell_type": "code",
   "execution_count": null,
   "metadata": {},
   "outputs": [],
   "source": []
  }
 ],
 "metadata": {
  "interpreter": {
   "hash": "38449538b7487bf601bbf8047ebc482810e383c4eaebfdf5011e7763013686ca"
  },
  "kernelspec": {
   "display_name": "Python 3.8.13 ('eda')",
   "language": "python",
   "name": "python3"
  },
  "language_info": {
   "codemirror_mode": {
    "name": "ipython",
    "version": 3
   },
   "file_extension": ".py",
   "mimetype": "text/x-python",
   "name": "python",
   "nbconvert_exporter": "python",
   "pygments_lexer": "ipython3",
   "version": "3.8.13"
  },
  "orig_nbformat": 4
 },
 "nbformat": 4,
 "nbformat_minor": 2
}
